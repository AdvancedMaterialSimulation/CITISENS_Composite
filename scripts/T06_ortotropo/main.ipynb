{
 "cells": [
  {
   "cell_type": "code",
   "execution_count": 1,
   "metadata": {},
   "outputs": [],
   "source": [
    "import gmsh\n",
    "import sys\n",
    "from CompositeSandwich.box_labeling import box_labeling\n",
    "\n",
    "gmsh.initialize()\n",
    "\n",
    "# Crear el modelo\n",
    "gmsh.model.add(\"Anisotropic_Box\")\n",
    "\n",
    "# Dimensiones de la caja\n",
    "Lx, Ly, Lz = 10, 10, 2\n",
    "\n",
    "# Crear la caja\n",
    "box = gmsh.model.occ.addBox(0, 0, 0, Lx, Ly, Lz)\n",
    "gmsh.model.occ.synchronize()\n",
    "\n",
    "ph = gmsh.model.addPhysicalGroup(3, [box])\n",
    "gmsh.model.setPhysicalName(3, ph, \"box\")\n",
    "\n",
    "box_labeling(box, \"box\")\n",
    "# Crear la malla\n",
    "gmsh.model.mesh.generate(3)\n",
    "\n",
    "# quadratic\n",
    "gmsh.model.mesh.setOrder(2)\n",
    "# Guardar la malla en formato CalculiX\n",
    "gmsh.write(\"anisotropic_box.inp\")\n",
    "\n",
    "# Finalizar Gmsh\n",
    "gmsh.finalize()\n"
   ]
  },
  {
   "cell_type": "code",
   "execution_count": 2,
   "metadata": {},
   "outputs": [],
   "source": [
    "from djccx.inp.inp import  inp\n"
   ]
  },
  {
   "cell_type": "code",
   "execution_count": 3,
   "metadata": {},
   "outputs": [],
   "source": [
    "inp_f = inp(\"anisotropic_box.inp\")"
   ]
  },
  {
   "cell_type": "code",
   "execution_count": 4,
   "metadata": {},
   "outputs": [],
   "source": [
    "E1 = 100\n",
    "E2 = 10\n",
    "E3 = 10\n",
    "nu12 = 0.3\n",
    "nu13 = 0.3\n",
    "nu23 = 0.3\n",
    "G12 = 5\n",
    "G13 = 5\n",
    "G23 = 5\n",
    "\n",
    "material = inp_f.CreateElasticEngineeringMaterial(\"MAT1\", E1, E2, E3, nu12, nu13, nu23, G12, G13, G23)"
   ]
  },
  {
   "cell_type": "code",
   "execution_count": 5,
   "metadata": {},
   "outputs": [
    {
     "data": {
      "text/plain": [
       "array([Card (None) :*HEADING, Card (*NODE) :*NODE,\n",
       "       Card (*ELEMENT) :SURFACE1, Card (*ELEMENT) :SURFACE2,\n",
       "       Card (*ELEMENT) :SURFACE3, Card (*ELEMENT) :SURFACE4,\n",
       "       Card (*ELEMENT) :SURFACE5, Card (*ELEMENT) :SURFACE6,\n",
       "       Card (*ELEMENT) :VOLUME1, Card (*ELSET) :BOX_X0,\n",
       "       Card (*ELSET) :BOX_XL, Card (*ELSET) :BOX_Y0,\n",
       "       Card (*ELSET) :BOX_YL, Card (*ELSET) :BOX_Z0,\n",
       "       Card (*ELSET) :BOX_ZL, Card (*ELSET) :BOX, Card (*MATERIAL) :MAT1],\n",
       "      dtype=object)"
      ]
     },
     "execution_count": 5,
     "metadata": {},
     "output_type": "execute_result"
    }
   ],
   "source": [
    "inp_f.cards"
   ]
  },
  {
   "cell_type": "code",
   "execution_count": 6,
   "metadata": {},
   "outputs": [],
   "source": [
    "orientation = inp_f.CreateOrientation(\"OR1\",[1,0,0],[0,1,0])\n",
    "\n",
    "elset_bot = inp_f.select(\"BOX_Y0\",\"elset\")\n",
    "elset_top = inp_f.select(\"BOX_YL\",\"elset\")\n",
    "\n",
    "x_min = inp_f.select(\"BOX_X0\",\"elset\")\n",
    "x_max = inp_f.select(\"BOX_XL\",\"elset\")\n",
    "\n",
    "nset_bot = inp_f.CreateNsetFromElset(elset_bot,\"nset_bot\")\n",
    "nset_top = inp_f.CreateNsetFromElset(elset_top,\"nset_top\")\n",
    "\n",
    "nset_x_min = inp_f.CreateNsetFromElset(x_min,\"nset_x_min\")\n",
    "nset_x_max = inp_f.CreateNsetFromElset(x_max,\"nset_x_max\")\n",
    "\n",
    "\n",
    "inp_f.remove_by_type(2)\n",
    "\n",
    "allelset = inp_f.CreateElsetAll()"
   ]
  },
  {
   "cell_type": "code",
   "execution_count": 7,
   "metadata": {},
   "outputs": [
    {
     "data": {
      "text/plain": [
       "*BOUNDARY\n",
       "NSET_X_MAX, 1, 0.0"
      ]
     },
     "execution_count": 7,
     "metadata": {},
     "output_type": "execute_result"
    }
   ],
   "source": [
    "inp_f.CreateSolidSection(allelset,material,orientation=orientation)\n",
    "\n",
    "step = inp_f.CreateStaticStep()\n",
    "\n",
    "step.CreateBoundary(nset_bot,2,0.0)\n",
    "step.CreateBoundary(nset_top,2,1.0)\n",
    "\n",
    "# remove 2d \n",
    "step.CreateBoundary(nset_x_min,1,0.0)\n",
    "step.CreateBoundary(nset_x_max,1,0.0)\n",
    "\n"
   ]
  },
  {
   "cell_type": "code",
   "execution_count": null,
   "metadata": {},
   "outputs": [],
   "source": []
  },
  {
   "cell_type": "code",
   "execution_count": null,
   "metadata": {},
   "outputs": [],
   "source": []
  },
  {
   "cell_type": "code",
   "execution_count": 8,
   "metadata": {},
   "outputs": [
    {
     "data": {
      "text/plain": [
       "[Card (None) :*HEADING,\n",
       " Card (*NODE) :*NODE,\n",
       " Card (*ELEMENT) :VOLUME1,\n",
       " Card (*ELSET) :BOX_X0,\n",
       " Card (*ELSET) :BOX_XL,\n",
       " Card (*ELSET) :BOX_Y0,\n",
       " Card (*ELSET) :BOX_YL,\n",
       " Card (*ELSET) :BOX_Z0,\n",
       " Card (*ELSET) :BOX_ZL,\n",
       " Card (*ELSET) :BOX,\n",
       " Card (*MATERIAL) :MAT1,\n",
       " Card (*ORIENTATION) :OR1,\n",
       " Card (*NSET) :NSET_BOT,\n",
       " Card (*NSET) :NSET_TOP,\n",
       " Card (*NSET) :NSET_X_MIN,\n",
       " Card (*NSET) :NSET_X_MAX,\n",
       " Card (*ELSETOFELSET) :ALL,\n",
       " Card (*SOLIDSECTION) :SOLID_SECTION,\n",
       " Card (*STEP) :STEP]"
      ]
     },
     "execution_count": 8,
     "metadata": {},
     "output_type": "execute_result"
    }
   ],
   "source": [
    "inp_f.cards.tolist()"
   ]
  },
  {
   "cell_type": "code",
   "execution_count": 9,
   "metadata": {},
   "outputs": [],
   "source": [
    "inp_f.print(\"ccx.inp\")"
   ]
  },
  {
   "cell_type": "code",
   "execution_count": 10,
   "metadata": {},
   "outputs": [
    {
     "name": "stdout",
     "output_type": "stream",
     "text": [
      "Running Calculix at:  output\n",
      "Output file:  c:\\Users\\djoroya\\Documents\\GitHub\\CITISENS_Composite\\scripts\\T06_ortotropo\\output\\out.txt\n",
      "Command:\n",
      " mpiexec -n 4 c:\\Users\\djoroya\\Documents\\GitHub\\CITISENS_Composite\\.conda\\Lib\\site-packages\\djccx\\bin\\ccx_dynamic.exe main\n",
      "Error reading cvf file\n",
      "\n",
      "pid:  8780 \n",
      "\n",
      "Calculix finished\n",
      "\n"
     ]
    },
    {
     "data": {
      "text/plain": [
       "{'data':       node          x          y    z            D1        D2        D3  \\\n",
       " node                                                                      \n",
       " 1        1   0.000000   0.000000  2.0  0.000000e+00  0.000000 -0.062846   \n",
       " 2        2   0.000000   0.000000  0.0  0.000000e+00  0.000000 -0.000485   \n",
       " 3        3   0.000000  10.000000  2.0  0.000000e+00  1.000000 -0.062846   \n",
       " 4        4   0.000000  10.000000  0.0  0.000000e+00  1.000000 -0.000485   \n",
       " 5        5  10.000000   0.000000  2.0  0.000000e+00  0.000000 -0.062846   \n",
       " ...    ...        ...        ...  ...           ...       ...       ...   \n",
       " 1031  1031   0.662605   7.846230  0.5  3.318850e-19  0.784623 -0.016076   \n",
       " 1032  1032   7.843540   9.340170  1.5  6.363460e-17  0.934017 -0.047256   \n",
       " 1033  1033   7.852940   0.656582  1.5 -9.234870e-17  0.065658 -0.047256   \n",
       " 1034  1034   4.985050   0.648127  1.5 -1.599020e-16  0.064813 -0.047256   \n",
       " 1035  1035   3.305420   4.282630  1.0  2.432090e-17  0.428263 -0.031666   \n",
       " \n",
       "            SXX      SYY           SZZ  ...           EYZ           EZX  \\\n",
       " node                                   ...                               \n",
       " 1     0.302722  1.00907  1.368050e-15  ...  1.760580e-17 -9.336530e-17   \n",
       " 2     0.302722  1.00907  5.632360e-16  ...  4.102740e-17  5.842510e-17   \n",
       " 3     0.302722  1.00907 -4.288510e-17  ...  4.442280e-16 -7.875210e-17   \n",
       " 4     0.302722  1.00907  7.500480e-15  ...  1.150490e-16  3.082830e-16   \n",
       " 5     0.302722  1.00907 -2.012050e-15  ...  3.698530e-17  1.040120e-17   \n",
       " ...        ...      ...           ...  ...           ...           ...   \n",
       " 1031  0.302722  1.00907  9.711940e-16  ...  1.334980e-16  1.597890e-17   \n",
       " 1032  0.302722  1.00907 -2.635660e-15  ...  2.987910e-18 -2.183250e-16   \n",
       " 1033  0.302722  1.00907 -2.624020e-16  ...  6.832760e-17 -1.435340e-17   \n",
       " 1034  0.302722  1.00907 -7.488630e-16  ... -1.156920e-17  1.807290e-16   \n",
       " 1035  0.302722  1.00907  7.979180e-17  ... -2.075050e-16 -4.477610e-17   \n",
       " \n",
       "                 F1            F2            F3        STR(%)  S_von_mises  \\\n",
       " node                                                                        \n",
       " 1     2.090240e-11  6.967470e-11  2.676430e-17  1.584330e-13     0.896881   \n",
       " 2     3.636210e-11  1.212070e-10 -2.127210e-16  1.122240e-13     0.896881   \n",
       " 3     3.636210e-11 -6.967400e-11  1.750740e-16  6.205300e-13     0.896881   \n",
       " 4     2.090190e-11 -1.212070e-10 -6.916390e-16  3.630760e-13     0.896881   \n",
       " 5    -2.090230e-11  6.967480e-11 -1.679110e-16  1.452300e-13     0.896881   \n",
       " ...            ...           ...           ...           ...          ...   \n",
       " 1031  6.938890e-16 -4.440890e-15  8.865350e-16  5.644190e-13     0.896881   \n",
       " 1032 -1.595950e-15  2.664540e-15 -2.232930e-17  5.380130e-13     0.896881   \n",
       " 1033 -6.938890e-18 -3.885780e-16  1.103690e-15  1.947410e-13     0.896881   \n",
       " 1034  6.917210e-17 -3.330670e-16 -1.795830e-15  2.244470e-13     0.896881   \n",
       " 1035 -1.636570e-15 -1.460270e-15  1.765880e-15  3.531740e-13     0.896881   \n",
       " \n",
       "            P1        P2            P3  \n",
       " node                                   \n",
       " 1     1.00907  0.302722  1.412314e-15  \n",
       " 2     1.00907  0.302722  5.467072e-16  \n",
       " 3     1.00907  0.302722 -4.150317e-17  \n",
       " 4     1.00907  0.302722  7.495719e-15  \n",
       " 5     1.00907  0.302722 -1.942890e-15  \n",
       " ...       ...       ...           ...  \n",
       " 1031  1.00907  0.302722  9.528151e-16  \n",
       " 1032  1.00907  0.302722 -2.625067e-15  \n",
       " 1033  1.00907  0.302722 -2.722067e-16  \n",
       " 1034  1.00907  0.302722 -7.473155e-16  \n",
       " 1035  1.00907  0.302722  8.889222e-17  \n",
       " \n",
       " [1035 rows x 27 columns],\n",
       " 'mesh': array([[330, 368, 547, ..., 749, 750, 665],\n",
       "        [554, 553, 552, ..., 751, 753, 752],\n",
       "        [539, 330, 547, ..., 604, 749, 665],\n",
       "        ...,\n",
       "        [365, 356, 544, ..., 486, 484, 790],\n",
       "        [366, 545, 349, ..., 492, 907, 490],\n",
       "        [366, 349, 545, ..., 937, 878, 697]], shape=(474, 10)),\n",
       " 'steps': array(['step_01_01'], dtype='<U10'),\n",
       " 'data_blocks': [      node          x          y    z            D1        D2        D3  \\\n",
       "  node                                                                      \n",
       "  1        1   0.000000   0.000000  2.0  0.000000e+00  0.000000 -0.062846   \n",
       "  2        2   0.000000   0.000000  0.0  0.000000e+00  0.000000 -0.000485   \n",
       "  3        3   0.000000  10.000000  2.0  0.000000e+00  1.000000 -0.062846   \n",
       "  4        4   0.000000  10.000000  0.0  0.000000e+00  1.000000 -0.000485   \n",
       "  5        5  10.000000   0.000000  2.0  0.000000e+00  0.000000 -0.062846   \n",
       "  ...    ...        ...        ...  ...           ...       ...       ...   \n",
       "  1031  1031   0.662605   7.846230  0.5  3.318850e-19  0.784623 -0.016076   \n",
       "  1032  1032   7.843540   9.340170  1.5  6.363460e-17  0.934017 -0.047256   \n",
       "  1033  1033   7.852940   0.656582  1.5 -9.234870e-17  0.065658 -0.047256   \n",
       "  1034  1034   4.985050   0.648127  1.5 -1.599020e-16  0.064813 -0.047256   \n",
       "  1035  1035   3.305420   4.282630  1.0  2.432090e-17  0.428263 -0.031666   \n",
       "  \n",
       "             SXX      SYY           SZZ  ...           EYZ           EZX  \\\n",
       "  node                                   ...                               \n",
       "  1     0.302722  1.00907  1.368050e-15  ...  1.760580e-17 -9.336530e-17   \n",
       "  2     0.302722  1.00907  5.632360e-16  ...  4.102740e-17  5.842510e-17   \n",
       "  3     0.302722  1.00907 -4.288510e-17  ...  4.442280e-16 -7.875210e-17   \n",
       "  4     0.302722  1.00907  7.500480e-15  ...  1.150490e-16  3.082830e-16   \n",
       "  5     0.302722  1.00907 -2.012050e-15  ...  3.698530e-17  1.040120e-17   \n",
       "  ...        ...      ...           ...  ...           ...           ...   \n",
       "  1031  0.302722  1.00907  9.711940e-16  ...  1.334980e-16  1.597890e-17   \n",
       "  1032  0.302722  1.00907 -2.635660e-15  ...  2.987910e-18 -2.183250e-16   \n",
       "  1033  0.302722  1.00907 -2.624020e-16  ...  6.832760e-17 -1.435340e-17   \n",
       "  1034  0.302722  1.00907 -7.488630e-16  ... -1.156920e-17  1.807290e-16   \n",
       "  1035  0.302722  1.00907  7.979180e-17  ... -2.075050e-16 -4.477610e-17   \n",
       "  \n",
       "                  F1            F2            F3        STR(%)  S_von_mises  \\\n",
       "  node                                                                        \n",
       "  1     2.090240e-11  6.967470e-11  2.676430e-17  1.584330e-13     0.896881   \n",
       "  2     3.636210e-11  1.212070e-10 -2.127210e-16  1.122240e-13     0.896881   \n",
       "  3     3.636210e-11 -6.967400e-11  1.750740e-16  6.205300e-13     0.896881   \n",
       "  4     2.090190e-11 -1.212070e-10 -6.916390e-16  3.630760e-13     0.896881   \n",
       "  5    -2.090230e-11  6.967480e-11 -1.679110e-16  1.452300e-13     0.896881   \n",
       "  ...            ...           ...           ...           ...          ...   \n",
       "  1031  6.938890e-16 -4.440890e-15  8.865350e-16  5.644190e-13     0.896881   \n",
       "  1032 -1.595950e-15  2.664540e-15 -2.232930e-17  5.380130e-13     0.896881   \n",
       "  1033 -6.938890e-18 -3.885780e-16  1.103690e-15  1.947410e-13     0.896881   \n",
       "  1034  6.917210e-17 -3.330670e-16 -1.795830e-15  2.244470e-13     0.896881   \n",
       "  1035 -1.636570e-15 -1.460270e-15  1.765880e-15  3.531740e-13     0.896881   \n",
       "  \n",
       "             P1        P2            P3  \n",
       "  node                                   \n",
       "  1     1.00907  0.302722  1.412314e-15  \n",
       "  2     1.00907  0.302722  5.467072e-16  \n",
       "  3     1.00907  0.302722 -4.150317e-17  \n",
       "  4     1.00907  0.302722  7.495719e-15  \n",
       "  5     1.00907  0.302722 -1.942890e-15  \n",
       "  ...       ...       ...           ...  \n",
       "  1031  1.00907  0.302722  9.528151e-16  \n",
       "  1032  1.00907  0.302722 -2.625067e-15  \n",
       "  1033  1.00907  0.302722 -2.722067e-16  \n",
       "  1034  1.00907  0.302722 -7.473155e-16  \n",
       "  1035  1.00907  0.302722  8.889222e-17  \n",
       "  \n",
       "  [1035 rows x 27 columns]]}"
      ]
     },
     "execution_count": 10,
     "metadata": {},
     "output_type": "execute_result"
    }
   ],
   "source": [
    "inp_f.run(\"output\")"
   ]
  },
  {
   "cell_type": "code",
   "execution_count": null,
   "metadata": {},
   "outputs": [],
   "source": []
  }
 ],
 "metadata": {
  "kernelspec": {
   "display_name": ".conda",
   "language": "python",
   "name": "python3"
  },
  "language_info": {
   "codemirror_mode": {
    "name": "ipython",
    "version": 3
   },
   "file_extension": ".py",
   "mimetype": "text/x-python",
   "name": "python",
   "nbconvert_exporter": "python",
   "pygments_lexer": "ipython3",
   "version": "3.11.10"
  }
 },
 "nbformat": 4,
 "nbformat_minor": 2
}
