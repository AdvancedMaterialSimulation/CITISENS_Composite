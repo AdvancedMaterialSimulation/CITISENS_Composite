{
 "cells": [
  {
   "cell_type": "code",
   "execution_count": null,
   "metadata": {},
   "outputs": [],
   "source": [
    "params_yarns ={\n",
    "    \"r\":1.25,\n",
    "    \"trajs_layers\":design_D,\n",
    "    \"h\" : 3.75,\n",
    "    \"z0\": 2,\n",
    "    \"Lx\": Lx,\n",
    "    \"Ly\": Ly\n",
    "}"
   ]
  },
  {
   "cell_type": "code",
   "execution_count": 17,
   "metadata": {},
   "outputs": [],
   "source": [
    "import gmsh\n",
    "import glob\n",
    "\n",
    "h = params_yarns[\"h\"]\n",
    "z0 = 2*(params_yarns[\"z0\"] - 0.5*h)\n",
    "zL = h*(len(params_yarns[\"trajs_layers\"]))*2 \n",
    "zT = z0 + zL\n",
    "radius = params_yarns[\"r\"]\n",
    "gmsh.initialize()\n",
    "\n",
    "# load all the geometries\n",
    "files_yarns = glob.glob(\"output/mesh/*.brep\")\n"
   ]
  },
  {
   "cell_type": "code",
   "execution_count": 20,
   "metadata": {},
   "outputs": [],
   "source": [
    "files_yarns_minus = [ file for file in files_yarns if \"minus\" in file]\n",
    "files_yarns_plus = [ file for file in files_yarns if \"plus\" in file]    \n"
   ]
  },
  {
   "cell_type": "code",
   "execution_count": 23,
   "metadata": {},
   "outputs": [
    {
     "data": {
      "text/plain": [
       "False"
      ]
     },
     "execution_count": 23,
     "metadata": {},
     "output_type": "execute_result"
    }
   ],
   "source": [
    "(2,1) in [(1,2),(3,2)]"
   ]
  },
  {
   "cell_type": "code",
   "execution_count": null,
   "metadata": {},
   "outputs": [],
   "source": [
    "\n",
    "yarns_vols = []\n",
    "\n",
    "yarns_dict = {}\n",
    "for file in files_yarns:\n",
    "    gmsh.merge(file)\n",
    "    all_vols = gmsh.model.getEntities(3)\n",
    "    new_vols = [i for i in all_vols if i not in yarns_vols]\n",
    "    name = file.split(\"/\")[-1].split(\".\")[0]\n",
    "    yarns_dict[name] = new_vols\n",
    "    yarns_vols += new_vols\n",
    "\n",
    "gmsh.model.occ.synchronize()\n",
    "\n",
    "yarns_vols = gmsh.model.getEntities(3)\n",
    "\n",
    "# box \n",
    "big_box = gmsh.model.occ.addBox(0, 0, -zT/2, \n",
    "                      Lx, Ly,zT)\n",
    "\n",
    "mid_box = gmsh.model.occ.addBox(0 , 0 , -z0/2, \n",
    "                      Lx, Ly, z0)\n",
    "\n",
    "gm\n",
    "# cut the box \n",
    "gmsh.model.occ.cut([(3, big_box)], [(3, mid_box)], removeTool=False)\n",
    "\n",
    "gmsh.model.occ.synchronize()\n",
    "\n",
    "box_vols = gmsh.model.getEntities(3)\n",
    "box_vols = [i for i in box_vols if i not in yarns_vols]\n",
    "\n",
    "gmsh.model.occ.cut(box_vols, yarns_vols, removeTool=False)\n",
    "\n",
    "# cut the yarns \n"
   ]
  },
  {
   "cell_type": "code",
   "execution_count": null,
   "metadata": {},
   "outputs": [],
   "source": []
  },
  {
   "cell_type": "code",
   "execution_count": 10,
   "metadata": {},
   "outputs": [],
   "source": [
    "\n",
    "gmsh.model.occ.synchronize()\n",
    "#\n",
    "\n",
    "\n",
    "\n",
    "gmsh.option.setNumber(\"Mesh.CharacteristicLengthMin\", radius*0.5)\n",
    "gmsh.option.setNumber(\"Mesh.CharacteristicLengthMax\", radius*1.2)\n",
    "gmsh.option.setNumber(\"Mesh.MeshSizeFromCurvature\", 25)\n",
    "gmsh.option.setNumber(\"Mesh.AngleSmoothNormals\", 10)\n",
    "gmsh.option.setNumber(\"Mesh.Smoothing\", 10)\t\n",
    "gmsh.option.setNumber(\"Mesh.Algorithm\", 2)\n",
    "\n",
    "gmsh.model.mesh.generate(3)\n"
   ]
  },
  {
   "cell_type": "code",
   "execution_count": 11,
   "metadata": {},
   "outputs": [],
   "source": [
    "\n",
    "gmsh.model.mesh.setOrder(2)\n",
    "# inp \n",
    "gmsh.write(\"output/ccx/semicylinder.inp\")\n",
    "\n",
    "gmsh.finalize()"
   ]
  },
  {
   "cell_type": "code",
   "execution_count": 12,
   "metadata": {},
   "outputs": [],
   "source": [
    "from djccx.inp.inp import inp\n",
    "\n"
   ]
  },
  {
   "cell_type": "code",
   "execution_count": 13,
   "metadata": {},
   "outputs": [],
   "source": [
    "inp_f = inp(\"output/ccx/semicylinder.inp\")"
   ]
  },
  {
   "cell_type": "code",
   "execution_count": 15,
   "metadata": {},
   "outputs": [
    {
     "data": {
      "text/plain": [
       "<djccx.inp.inp.inp at 0x14d433f0ed0>"
      ]
     },
     "execution_count": 15,
     "metadata": {},
     "output_type": "execute_result"
    }
   ],
   "source": [
    "inp_f.remove_by_type(2)"
   ]
  },
  {
   "cell_type": "code",
   "execution_count": 16,
   "metadata": {},
   "outputs": [],
   "source": [
    "inp_f.print(\"output/ccx/semicylinder_no_shells.inp\")"
   ]
  },
  {
   "cell_type": "code",
   "execution_count": 4,
   "metadata": {},
   "outputs": [
    {
     "name": "stdout",
     "output_type": "stream",
     "text": [
      "Cuota mensual durante el período fijo: 584.61 €\n",
      "Cuota mensual durante el período variable: 559.92 €\n"
     ]
    }
   ],
   "source": [
    "def calcular_cuota_mensual(P, r, n):\n",
    "    \"\"\"\n",
    "    Calcula la cuota mensual de un préstamo.\n",
    "\n",
    "    Parámetros:\n",
    "    P (float): Importe del préstamo.\n",
    "    r (float): Tasa de interés anual.\n",
    "    n (int): Total de pagos (en meses).\n",
    "\n",
    "    Devuelve:\n",
    "    float: Cuota mensual del préstamo.\n",
    "    \"\"\"\n",
    "    r_mensual = r / 12 / 100  # Convertir la tasa anual en tasa mensual y de porcentaje a decimal\n",
    "    cuota = P * (r_mensual * (1 + r_mensual) ** n) / ((1 + r_mensual) ** n - 1)\n",
    "    return cuota\n",
    "\n",
    "# Datos del préstamo\n",
    "\n",
    "importe_prestamo = 185000 - 30000  # Puedes cambiar esto para probar diferentes cantidades\n",
    "tasa_fija_anual = 2.15     # Tasa de interés fijo durante el período inicial\n",
    "tasa_variable_anual = 0.65  # Asumiendo Euribor como 0%, cambiar según necesidad\n",
    "periodo_fijo = 5 * 12       # 5 años en meses\n",
    "periodo_variable = 25 * 12  # Resto del plazo en meses, asumiendo un total de 30 años\n",
    "\n",
    "# Calcular la cuota mensual para el período de tasa fija\n",
    "cuota_fija = calcular_cuota_mensual(importe_prestamo, tasa_fija_anual, 30*12)\n",
    "print(f\"Cuota mensual durante el período fijo: {cuota_fija:.2f} €\")\n",
    "\n",
    "# Calcular la cuota mensual para el período de tasa variable\n",
    "cuota_variable = calcular_cuota_mensual(importe_prestamo, tasa_variable_anual, periodo_variable)\n",
    "print(f\"Cuota mensual durante el período variable: {cuota_variable:.2f} €\")\n"
   ]
  },
  {
   "cell_type": "code",
   "execution_count": 5,
   "metadata": {},
   "outputs": [
    {
     "data": {
      "text/plain": [
       "8400"
      ]
     },
     "execution_count": 5,
     "metadata": {},
     "output_type": "execute_result"
    }
   ],
   "source": [
    "700*12"
   ]
  },
  {
   "cell_type": "code",
   "execution_count": null,
   "metadata": {},
   "outputs": [],
   "source": []
  }
 ],
 "metadata": {
  "kernelspec": {
   "display_name": ".conda",
   "language": "python",
   "name": "python3"
  },
  "language_info": {
   "codemirror_mode": {
    "name": "ipython",
    "version": 3
   },
   "file_extension": ".py",
   "mimetype": "text/x-python",
   "name": "python",
   "nbconvert_exporter": "python",
   "pygments_lexer": "ipython3",
   "version": "3.11.10"
  }
 },
 "nbformat": 4,
 "nbformat_minor": 2
}
