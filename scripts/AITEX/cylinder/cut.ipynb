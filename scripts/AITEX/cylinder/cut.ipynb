{
 "cells": [
  {
   "cell_type": "code",
   "execution_count": 1,
   "metadata": {},
   "outputs": [],
   "source": [
    "import gmsh \n",
    "import numpy as np\n",
    "\n",
    "gmsh.initialize()\n",
    "\n",
    "gmsh.model.add(\"t1\")\n",
    "\n",
    "lc = 0.1\n",
    "\n",
    "#box \n",
    "box = gmsh.model.occ.addBox(0, 0, 0, 1, 1, 1)\n",
    "\n",
    "# rectangle\n",
    "rectangle = gmsh.model.occ.addRectangle(0, 0, 0.5, \n",
    "                                        1, 1)\n",
    "\n",
    "rectangle_2 = gmsh.model.occ.addRectangle(0.0, 0, 0.5,\n",
    "                                            1, 1)\n",
    "                                            # rotate\n",
    "gmsh.model.occ.rotate([(2, rectangle_2)], 0.5, 0.5, 0.5, \n",
    "                                          1, 0, 0, 90*np.pi/180)\n",
    "gmsh.model.occ.synchronize()\n",
    "\n",
    "# cut \n",
    "# cut = gmsh.model.occ.cut([(3, box)], [(2, rectangle)])\n",
    "# fragment\n",
    "\n",
    "frag = gmsh.model.occ.fragment([(3, box)], [(2, rectangle)])\n",
    "\n",
    "gmsh.model.occ.synchronize()\n",
    "\n",
    "vols = gmsh.model.getEntities(3)\n",
    "\n",
    "frag_2 = gmsh.model.occ.fragment(vols, [(2, rectangle_2)])\n",
    "gmsh.model.occ.synchronize()\n",
    "\n",
    "# meshing generate\n",
    "gmsh.model.mesh.generate(3)\n",
    "# save inp \n",
    "gmsh.write(\"t1.inp\")\n",
    "gmsh.fltk.run() "
   ]
  },
  {
   "cell_type": "code",
   "execution_count": null,
   "metadata": {},
   "outputs": [],
   "source": []
  }
 ],
 "metadata": {
  "kernelspec": {
   "display_name": ".conda",
   "language": "python",
   "name": "python3"
  },
  "language_info": {
   "codemirror_mode": {
    "name": "ipython",
    "version": 3
   },
   "file_extension": ".py",
   "mimetype": "text/x-python",
   "name": "python",
   "nbconvert_exporter": "python",
   "pygments_lexer": "ipython3",
   "version": "3.11.10"
  }
 },
 "nbformat": 4,
 "nbformat_minor": 2
}
