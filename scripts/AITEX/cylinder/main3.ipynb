{
 "cells": [
  {
   "cell_type": "code",
   "execution_count": 1,
   "metadata": {},
   "outputs": [],
   "source": [
    "import gmsh,math\n",
    "import sys\n",
    "\n",
    "def main():\n",
    "    # Initialize Gmsh API\n",
    "    gmsh.initialize(sys.argv)\n",
    "    \n",
    "    # Create a new model\n",
    "    gmsh.model.add(\"Cylinder with Plane\")\n",
    "    \n",
    "    # Parameters for the cylinder\n",
    "    radius = 1\n",
    "    height = 5\n",
    "    x0, y0, z0 = 0, 0, 0  # Center of the bottom face of the cylinder\n",
    "    \n",
    "    # Create the cylinder\n",
    "    cylinder = gmsh.model.occ.addCylinder(x0, y0, z0, 0, 0, height, radius)\n",
    "    \n",
    "    # Parameters for the cutting plane\n",
    "    # Here we define a plane that cuts through the cylinder\n",
    "    # The plane coefficients a*x + b*y + c*z + d = 0\n",
    "    a, b, c, d = 1, -1, 0, 0  # Example plane: x - y = 0\n",
    "    \n",
    "    # Create the plane surface\n",
    "    plane = gmsh.model.occ.addPlaneSurface([gmsh.model.occ.addRectangle(-10, -10, 0, 20, 20)], tag=-1)\n",
    "    \n",
    "    # Rotate the plane to the desired orientation if necessary\n",
    "    gmsh.model.occ.rotate([(2, plane)], 0, 0, 0, 1, 0, 0, 45 * math.pi / 180)  # Example rotation\n",
    "    \n",
    "    # Synchronize the model before cutting\n",
    "    gmsh.model.occ.synchronize()\n",
    "    \n",
    "    # Cut the cylinder with the plane\n",
    "    cutVol1, cutVol2 = gmsh.model.occ.fragment([(3, cylinder)], [(2, plane)])\n",
    "    \n",
    "    # Remove the original cylinder to leave only the cut parts\n",
    "    gmsh.model.occ.remove([(3, cylinder)])\n",
    "    \n",
    "    # Synchronize to apply changes\n",
    "    gmsh.model.occ.synchronize()\n",
    "    \n",
    "    # Generate a 3D mesh\n",
    "    gmsh.model.mesh.generate(3)\n",
    "    \n",
    "    # Launch the Gmsh GUI to view the model\n",
    "    if '-nopopup' not in sys.argv:\n",
    "        gmsh.fltk.run()\n",
    "    \n",
    "    # Write the mesh to file\n",
    "    gmsh.write(\"cut_cylinder.msh\")\n",
    "    \n",
    "    # Finalize the Gmsh API\n",
    "    gmsh.finalize()\n",
    "\n",
    "if __name__ == \"__main__\":\n",
    "    main()\n"
   ]
  }
 ],
 "metadata": {
  "kernelspec": {
   "display_name": ".conda",
   "language": "python",
   "name": "python3"
  },
  "language_info": {
   "codemirror_mode": {
    "name": "ipython",
    "version": 3
   },
   "file_extension": ".py",
   "mimetype": "text/x-python",
   "name": "python",
   "nbconvert_exporter": "python",
   "pygments_lexer": "ipython3",
   "version": "3.11.10"
  }
 },
 "nbformat": 4,
 "nbformat_minor": 2
}
