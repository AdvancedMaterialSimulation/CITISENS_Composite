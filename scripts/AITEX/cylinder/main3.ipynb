{
 "cells": [
  {
   "cell_type": "code",
   "execution_count": 1,
   "metadata": {},
   "outputs": [
    {
     "ename": "Exception",
     "evalue": "No elements in volume 2 ",
     "output_type": "error",
     "traceback": [
      "\u001b[1;31m---------------------------------------------------------------------------\u001b[0m",
      "\u001b[1;31mException\u001b[0m                                 Traceback (most recent call last)",
      "\u001b[1;32m~\\AppData\\Local\\Temp\\ipykernel_5948\\2589841505.py\u001b[0m in \u001b[0;36m?\u001b[1;34m()\u001b[0m\n\u001b[0;32m     52\u001b[0m     \u001b[1;31m# Finalize the Gmsh API\u001b[0m\u001b[1;33m\u001b[0m\u001b[1;33m\u001b[0m\u001b[0m\n\u001b[0;32m     53\u001b[0m     \u001b[0mgmsh\u001b[0m\u001b[1;33m.\u001b[0m\u001b[0mfinalize\u001b[0m\u001b[1;33m(\u001b[0m\u001b[1;33m)\u001b[0m\u001b[1;33m\u001b[0m\u001b[1;33m\u001b[0m\u001b[0m\n\u001b[0;32m     54\u001b[0m \u001b[1;33m\u001b[0m\u001b[0m\n\u001b[0;32m     55\u001b[0m \u001b[1;32mif\u001b[0m \u001b[0m__name__\u001b[0m \u001b[1;33m==\u001b[0m \u001b[1;34m\"__main__\"\u001b[0m\u001b[1;33m:\u001b[0m\u001b[1;33m\u001b[0m\u001b[1;33m\u001b[0m\u001b[0m\n\u001b[1;32m---> 56\u001b[1;33m     \u001b[0mmain\u001b[0m\u001b[1;33m(\u001b[0m\u001b[1;33m)\u001b[0m\u001b[1;33m\u001b[0m\u001b[1;33m\u001b[0m\u001b[0m\n\u001b[0m",
      "\u001b[1;32m~\\AppData\\Local\\Temp\\ipykernel_5948\\2589841505.py\u001b[0m in \u001b[0;36m?\u001b[1;34m()\u001b[0m\n\u001b[0;32m     39\u001b[0m     \u001b[1;31m# Synchronize to apply changes\u001b[0m\u001b[1;33m\u001b[0m\u001b[1;33m\u001b[0m\u001b[0m\n\u001b[0;32m     40\u001b[0m     \u001b[0mgmsh\u001b[0m\u001b[1;33m.\u001b[0m\u001b[0mmodel\u001b[0m\u001b[1;33m.\u001b[0m\u001b[0mocc\u001b[0m\u001b[1;33m.\u001b[0m\u001b[0msynchronize\u001b[0m\u001b[1;33m(\u001b[0m\u001b[1;33m)\u001b[0m\u001b[1;33m\u001b[0m\u001b[1;33m\u001b[0m\u001b[0m\n\u001b[0;32m     41\u001b[0m \u001b[1;33m\u001b[0m\u001b[0m\n\u001b[0;32m     42\u001b[0m     \u001b[1;31m# Generate a 3D mesh\u001b[0m\u001b[1;33m\u001b[0m\u001b[1;33m\u001b[0m\u001b[0m\n\u001b[1;32m---> 43\u001b[1;33m     \u001b[0mgmsh\u001b[0m\u001b[1;33m.\u001b[0m\u001b[0mmodel\u001b[0m\u001b[1;33m.\u001b[0m\u001b[0mmesh\u001b[0m\u001b[1;33m.\u001b[0m\u001b[0mgenerate\u001b[0m\u001b[1;33m(\u001b[0m\u001b[1;36m3\u001b[0m\u001b[1;33m)\u001b[0m\u001b[1;33m\u001b[0m\u001b[1;33m\u001b[0m\u001b[0m\n\u001b[0m\u001b[0;32m     44\u001b[0m \u001b[1;33m\u001b[0m\u001b[0m\n\u001b[0;32m     45\u001b[0m     \u001b[1;31m# Launch the Gmsh GUI to view the model\u001b[0m\u001b[1;33m\u001b[0m\u001b[1;33m\u001b[0m\u001b[0m\n\u001b[0;32m     46\u001b[0m     \u001b[1;32mif\u001b[0m \u001b[1;34m'-nopopup'\u001b[0m \u001b[1;32mnot\u001b[0m \u001b[1;32min\u001b[0m \u001b[0msys\u001b[0m\u001b[1;33m.\u001b[0m\u001b[0margv\u001b[0m\u001b[1;33m:\u001b[0m\u001b[1;33m\u001b[0m\u001b[1;33m\u001b[0m\u001b[0m\n",
      "\u001b[1;32mc:\\Users\\djoroya\\Documents\\GitHub\\CITISENS_Composite\\.conda\\Lib\\site-packages\\gmsh.py\u001b[0m in \u001b[0;36m?\u001b[1;34m(dim)\u001b[0m\n\u001b[0;32m   2056\u001b[0m             lib.gmshModelMeshGenerate(\n\u001b[0;32m   2057\u001b[0m                 \u001b[0mc_int\u001b[0m\u001b[1;33m(\u001b[0m\u001b[0mdim\u001b[0m\u001b[1;33m)\u001b[0m\u001b[1;33m,\u001b[0m\u001b[1;33m\u001b[0m\u001b[1;33m\u001b[0m\u001b[0m\n\u001b[0;32m   2058\u001b[0m                 byref(ierr))\n\u001b[0;32m   2059\u001b[0m             \u001b[1;32mif\u001b[0m \u001b[0mierr\u001b[0m\u001b[1;33m.\u001b[0m\u001b[0mvalue\u001b[0m \u001b[1;33m!=\u001b[0m \u001b[1;36m0\u001b[0m\u001b[1;33m:\u001b[0m\u001b[1;33m\u001b[0m\u001b[1;33m\u001b[0m\u001b[0m\n\u001b[1;32m-> 2060\u001b[1;33m                 \u001b[1;32mraise\u001b[0m \u001b[0mException\u001b[0m\u001b[1;33m(\u001b[0m\u001b[0mlogger\u001b[0m\u001b[1;33m.\u001b[0m\u001b[0mgetLastError\u001b[0m\u001b[1;33m(\u001b[0m\u001b[1;33m)\u001b[0m\u001b[1;33m)\u001b[0m\u001b[1;33m\u001b[0m\u001b[1;33m\u001b[0m\u001b[0m\n\u001b[0m",
      "\u001b[1;31mException\u001b[0m: No elements in volume 2 "
     ]
    }
   ],
   "source": [
    "import gmsh,math\n",
    "import sys\n",
    "\n",
    "def main():\n",
    "    # Initialize Gmsh API\n",
    "    gmsh.initialize(sys.argv)\n",
    "    \n",
    "    # Create a new model\n",
    "    gmsh.model.add(\"Cylinder with Plane\")\n",
    "    \n",
    "    # Parameters for the cylinder\n",
    "    radius = 1\n",
    "    height = 5\n",
    "    x0, y0, z0 = 0, 0, 0  # Center of the bottom face of the cylinder\n",
    "    \n",
    "    # Create the cylinder\n",
    "    cylinder = gmsh.model.occ.addCylinder(x0, y0, z0, 0, 0, height, radius)\n",
    "    \n",
    "    # Parameters for the cutting plane\n",
    "    # Here we define a plane that cuts through the cylinder\n",
    "    # The plane coefficients a*x + b*y + c*z + d = 0\n",
    "    a, b, c, d = 1, -1, 0, 0  # Example plane: x - y = 0\n",
    "    \n",
    "    # Create the plane surface\n",
    "    plane = gmsh.model.occ.addPlaneSurface([gmsh.model.occ.addRectangle(-10, -10, 0, 20, 20)], tag=-1)\n",
    "    \n",
    "    # Rotate the plane to the desired orientation if necessary\n",
    "    gmsh.model.occ.rotate([(2, plane)], 0, 0, 0, 1, 0, 0, 45 * math.pi / 180)  # Example rotation\n",
    "    \n",
    "    # Synchronize the model before cutting\n",
    "    gmsh.model.occ.synchronize()\n",
    "    \n",
    "    # Cut the cylinder with the plane\n",
    "    cutVol1, cutVol2 = gmsh.model.occ.fragment([(3, cylinder)], [(2, plane)])\n",
    "    \n",
    "    # Remove the original cylinder to leave only the cut parts\n",
    "    gmsh.model.occ.remove([(3, cylinder)])\n",
    "    \n",
    "    # Synchronize to apply changes\n",
    "    gmsh.model.occ.synchronize()\n",
    "    \n",
    "    # Generate a 3D mesh\n",
    "    gmsh.model.mesh.generate(3)\n",
    "    \n",
    "    # Launch the Gmsh GUI to view the model\n",
    "    if '-nopopup' not in sys.argv:\n",
    "        gmsh.fltk.run()\n",
    "    \n",
    "    # Write the mesh to file\n",
    "    gmsh.write(\"cut_cylinder.msh\")\n",
    "    \n",
    "    # Finalize the Gmsh API\n",
    "    gmsh.finalize()\n",
    "\n",
    "if __name__ == \"__main__\":\n",
    "    main()\n"
   ]
  }
 ],
 "metadata": {
  "kernelspec": {
   "display_name": ".conda",
   "language": "python",
   "name": "python3"
  },
  "language_info": {
   "codemirror_mode": {
    "name": "ipython",
    "version": 3
   },
   "file_extension": ".py",
   "mimetype": "text/x-python",
   "name": "python",
   "nbconvert_exporter": "python",
   "pygments_lexer": "ipython3",
   "version": "3.11.10"
  }
 },
 "nbformat": 4,
 "nbformat_minor": 2
}
