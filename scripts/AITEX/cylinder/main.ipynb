{
 "cells": [
  {
   "cell_type": "code",
   "execution_count": 1,
   "metadata": {},
   "outputs": [],
   "source": [
    "import gmsh\n",
    "\n",
    "# Inicializar Gmsh\n",
    "gmsh.initialize()\n",
    "gmsh.model.add(\"EstructuraTubularOCC\")\n",
    "\n",
    "# Parámetros\n",
    "radius = 1.0  # Radio del círculo base\n",
    "n_circle = 4*4 +1   # Número de segmentos en el círculo \n",
    "n_along_curve = 10  # Número de divisiones a lo largo de la curva\n",
    "\n",
    "# Crear el perfil circular en un plano (XY)\n",
    "disk = gmsh.model.occ.addDisk(0, 0, 0, radius, radius)\n",
    "\n",
    "# synco \n",
    "gmsh.model.occ.synchronize()\n",
    "\n",
    "\n",
    "circle = gmsh.model.getBoundary([(2, disk)])\n",
    "\n",
    "# recombine\n",
    "# setTransfiniteCurve\n",
    "gmsh.model.mesh.setTransfiniteCurve(circle[0][1], n_circle)\n",
    "\n",
    "gmsh.model.mesh.generate(2)\n",
    "\n",
    "gmsh.model.occ.synchronize()\n",
    "\n",
    "gmsh.model.mesh.recombine()\n",
    "\n",
    "\n",
    "# extrude disk\n",
    "gmsh.model.occ.synchronize()\n",
    "\n",
    "curve = gmsh.model.occ.extrude([(2, disk)], 0, 0, 5,numElements=[10], recombine=False)\n",
    "# pipe = gmsh.model.occ.addPipe()\n",
    "# trajectory\n",
    "p1 = gmsh.model.occ.addPoint(0, 0, 0)\n",
    "p2 = gmsh.model.occ.addPoint(0, 5, 5)\n",
    "p3 = gmsh.model.occ.addPoint(0, 0, 10)\n",
    "\n",
    "\n",
    "gmsh.model.occ.synchronize()\n",
    "gmsh.fltk.run()\n",
    "\n",
    "gmsh.model.mesh.generate(3)\n",
    "\n",
    "# recombinar\n",
    "# gmsh.model.mesh.recombine()\n",
    "gmsh.model.occ.synchronize()\n",
    "\n",
    "# gmsh.model.mesh.setOrder(2)\n",
    "\n",
    "# save inp\n",
    "gmsh.write(\"EstructuraTubularOCC.inp\")"
   ]
  },
  {
   "cell_type": "code",
   "execution_count": 2,
   "metadata": {},
   "outputs": [
    {
     "data": {
      "text/plain": [
       "1"
      ]
     },
     "execution_count": 2,
     "metadata": {},
     "output_type": "execute_result"
    }
   ],
   "source": [
    "disk"
   ]
  },
  {
   "cell_type": "code",
   "execution_count": 3,
   "metadata": {},
   "outputs": [],
   "source": [
    "gmsh.fltk.run()"
   ]
  }
 ],
 "metadata": {
  "kernelspec": {
   "display_name": ".conda",
   "language": "python",
   "name": "python3"
  },
  "language_info": {
   "codemirror_mode": {
    "name": "ipython",
    "version": 3
   },
   "file_extension": ".py",
   "mimetype": "text/x-python",
   "name": "python",
   "nbconvert_exporter": "python",
   "pygments_lexer": "ipython3",
   "version": "3.11.10"
  }
 },
 "nbformat": 4,
 "nbformat_minor": 2
}
