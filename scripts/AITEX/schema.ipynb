{
 "cells": [
  {
   "cell_type": "code",
   "execution_count": null,
   "metadata": {},
   "outputs": [],
   "source": []
  },
  {
   "cell_type": "code",
   "execution_count": 18,
   "metadata": {},
   "outputs": [
    {
     "name": "stdout",
     "output_type": "stream",
     "text": [
      "Nucleo:  2.82194\n",
      "Composite:  4.8514\n",
      "Total layer:  1.01473\n",
      "One layer:  0.507365\n"
     ]
    }
   ],
   "source": [
    "nucleo = 0.1111 # in\n",
    "composite = 0.191\n",
    "# to mm\n",
    "nucleo = nucleo * 25.4\n",
    "composite = composite * 25.4\n",
    "\n",
    "print(\"Nucleo: \", nucleo)\n",
    "print(\"Composite: \", composite)\n",
    "\n",
    "total_layer = (composite - nucleo)/2\n",
    "\n",
    "one_layer = total_layer/2\n",
    "print(\"Total layer: \", total_layer)\n",
    "print(\"One layer: \", one_layer)"
   ]
  },
  {
   "cell_type": "code",
   "execution_count": 5,
   "metadata": {},
   "outputs": [],
   "source": [
    "from matplotlib import pyplot as plt\n",
    "\n"
   ]
  },
  {
   "cell_type": "code",
   "execution_count": 17,
   "metadata": {},
   "outputs": [
    {
     "data": {
      "text/plain": [
       "[<matplotlib.lines.Line2D at 0x1e91917a150>]"
      ]
     },
     "execution_count": 17,
     "metadata": {},
     "output_type": "execute_result"
    },
    {
     "data": {
      "image/png": "[encoded data removed]",
      "text/plain": [
       "<Figure size 640x480 with 1 Axes>"
      ]
     },
     "metadata": {},
     "output_type": "display_data"
    }
   ],
   "source": [
    "# rectangle\n",
    "def rectangle(x0,x1,y0,y1):\n",
    "    plt.plot([x0,x1,x1,x0,x0],[y0,y0,y1,y1,y0])\n",
    "\n",
    "plt.figure()\n",
    "x0 = 0\n",
    "xL = 2\n",
    "rectangle(x0,xL, -nucleo/2    , nucleo/2   )\n",
    "rectangle(x0,xL, -composite/2 ,composite/2 )\n",
    "\n",
    "rectangle(x0,xL, nucleo/2, nucleo/2+total_layer)\n",
    "\n",
    "# x = 0 line\n",
    "plt.plot([x0,xL],[0,0])"
   ]
  },
  {
   "cell_type": "code",
   "execution_count": null,
   "metadata": {},
   "outputs": [],
   "source": []
  }
 ],
 "metadata": {
  "kernelspec": {
   "display_name": ".conda",
   "language": "python",
   "name": "python3"
  },
  "language_info": {
   "codemirror_mode": {
    "name": "ipython",
    "version": 3
   },
   "file_extension": ".py",
   "mimetype": "text/x-python",
   "name": "python",
   "nbconvert_exporter": "python",
   "pygments_lexer": "ipython3",
   "version": "3.11.10"
  }
 },
 "nbformat": 4,
 "nbformat_minor": 2
}
