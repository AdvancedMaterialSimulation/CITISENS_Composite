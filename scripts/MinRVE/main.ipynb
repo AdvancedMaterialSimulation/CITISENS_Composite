{
 "cells": [
  {
   "cell_type": "code",
   "execution_count": 1,
   "metadata": {},
   "outputs": [],
   "source": [
    "import matplotlib.pyplot as plt\n",
    "import numpy as np\n",
    "from functions.CreateYarnGeneral import CreateYarn"
   ]
  },
  {
   "cell_type": "code",
   "execution_count": 2,
   "metadata": {},
   "outputs": [],
   "source": [
    "!rm -r output/\n",
    "!mkdir output/\n",
    "!mkdir output/mesh\n",
    "!mkdir output/ccx"
   ]
  },
  {
   "cell_type": "code",
   "execution_count": 3,
   "metadata": {},
   "outputs": [],
   "source": [
    "# cualquier curva periodica puede ser describida por una serie de fourier\n",
    "\n",
    "r = 5\n",
    "\n",
    "trajs =[]  \n",
    "\n",
    "fc1 = lambda x: np.sqrt(r**2 - x**2)\n",
    "\n",
    "nq = 4\n",
    "fc1 = lambda x: (r**nq - x**nq)**(1/nq)\n",
    "x12 = np.linspace(0,r,2000)\n",
    "y12 = fc1(x12)\n",
    "\n",
    "trajs.append( np.array([x12,y12, np.zeros_like(x12)]).T )\n",
    "\n",
    "# =============================================================================\n",
    "\n",
    "fc1 = lambda x: -np.sqrt(r**2 - (x-2*r)**2) + 2*r\n",
    "nq = 4\n",
    "fc1 = lambda x: -(r**nq - (x-2*r)**nq)**(1/nq) + 2*r\n",
    "x12 = np.linspace(r,2*r,2000)\n",
    "y12 = fc1(x12)\n",
    "\n",
    "trajs.append( np.array([x12,y12, np.zeros_like(x12)]).T )\n"
   ]
  },
  {
   "cell_type": "code",
   "execution_count": 4,
   "metadata": {},
   "outputs": [
    {
     "data": {
      "text/plain": [
       "(np.float64(-0.5), np.float64(10.5), np.float64(-0.5), np.float64(10.5))"
      ]
     },
     "execution_count": 4,
     "metadata": {},
     "output_type": "execute_result"
    },
    {
     "data": {
      "image/png": "[encoded data removed]",
      "text/plain": [
       "<Figure size 500x300 with 1 Axes>"
      ]
     },
     "metadata": {},
     "output_type": "display_data"
    }
   ],
   "source": [
    "\n",
    "fig = plt.figure()\n",
    "fig.set_size_inches(5, 3)\n",
    "# compute fourier coefficients\n",
    "for itraj in trajs:\n",
    "\n",
    "    plt.plot(itraj[:,0], itraj[:,1], 'k')\n",
    "\n",
    "plt.axis('equal')"
   ]
  },
  {
   "cell_type": "code",
   "execution_count": 5,
   "metadata": {},
   "outputs": [],
   "source": [
    "radius = 1\n",
    "\n",
    "first_vectors = [ [1, 0, 0] , [0, -1, 0] ]\n",
    "last_vectors  = [ [0, -1, 0], [1,  0, 0] ]\n",
    "\n",
    "\n",
    "for i,itraj in enumerate(trajs):\n",
    "\n",
    "    file = \"output/mesh/yarn_\" + str(i) + \".brep\"\n",
    "\n",
    "    CreateYarn({\"trajs\": itraj, \n",
    "                \"radius\": radius, \n",
    "                \"last_vector\": last_vectors[i],\n",
    "                \"first_vector\": first_vectors[i],\n",
    "                \"num_points\": 20,\n",
    "                \"file\": file})"
   ]
  },
  {
   "cell_type": "code",
   "execution_count": 6,
   "metadata": {},
   "outputs": [],
   "source": [
    "from functions.CreateCompositeMinRVE import CreateCompositeMinRVE"
   ]
  },
  {
   "cell_type": "code",
   "execution_count": 7,
   "metadata": {},
   "outputs": [],
   "source": [
    "params_mesh = {\n",
    "    \"files\": [\"output/mesh/yarn_0.brep\", \n",
    "              \"output/mesh/yarn_1.brep\"],\n",
    "    \"inp_file\": \"output/mesh/sandwich_pbc_min.inp\",\n",
    "    \"trajs\": trajs,\n",
    "    \"radius\": radius,\n",
    "    \"r\": r\n",
    "}\n",
    "\n",
    "CreateCompositeMinRVE(params_mesh);"
   ]
  },
  {
   "cell_type": "code",
   "execution_count": 8,
   "metadata": {},
   "outputs": [
    {
     "name": "stdout",
     "output_type": "stream",
     "text": [
      "Wine está instalado. Versión: wine-9.0\n",
      "Wine is installed. Calculix will be run with windows binary\n"
     ]
    }
   ],
   "source": [
    "from functions.Simulation import Simulation"
   ]
  },
  {
   "cell_type": "code",
   "execution_count": 9,
   "metadata": {},
   "outputs": [],
   "source": [
    "from validation.experimental import carbonfiber,resina"
   ]
  },
  {
   "cell_type": "code",
   "execution_count": 10,
   "metadata": {},
   "outputs": [],
   "source": [
    "carbon_data = carbonfiber()\n",
    "resina_data = resina()"
   ]
  },
  {
   "cell_type": "code",
   "execution_count": 11,
   "metadata": {},
   "outputs": [
    {
     "data": {
      "text/plain": [
       "{'resistencia [kg/cm2]': 650,\n",
       " 'alargamiento rotura[%]': 0.025,\n",
       " 'resistencia [MPa]': 63.74322499999999,\n",
       " 'young modulus [MPa]': 2549.7289999999994,\n",
       " 'poisson ratio': 0.265}"
      ]
     },
     "execution_count": 11,
     "metadata": {},
     "output_type": "execute_result"
    }
   ],
   "source": [
    "resina_data"
   ]
  },
  {
   "cell_type": "code",
   "execution_count": 12,
   "metadata": {},
   "outputs": [],
   "source": [
    "Ecarbon_MPa = carbon_data[\"carbon\"].iloc[0][\"Young Modulus (GPa)\"]*1e-3\n",
    "poisson_carbon = carbon_data[\"poisson ratio\"]"
   ]
  },
  {
   "cell_type": "code",
   "execution_count": null,
   "metadata": {},
   "outputs": [],
   "source": []
  },
  {
   "cell_type": "code",
   "execution_count": 13,
   "metadata": {},
   "outputs": [],
   "source": [
    "materials = {\n",
    "    \"matrix\": { \"E\" : resina_data[\"young modulus [MPa]\"], \n",
    "                \"nu\": resina_data[\"poisson ratio\"] },\n",
    "    \"carbon\": { \"E\" : Ecarbon_MPa, \n",
    "                \"nu\": poisson_carbon }\n",
    "}\n",
    "\n",
    "params_sim = {\n",
    "    \"mesh\": params_mesh,\n",
    "    \"output\": \"output/ccx/\",\n",
    "    \"epsilon\": 0.125,\n",
    "    \"nsteps\":5,\n",
    "    \"materials\": materials\n",
    "}\n"
   ]
  },
  {
   "cell_type": "code",
   "execution_count": 14,
   "metadata": {},
   "outputs": [
    {
     "data": {
      "text/plain": [
       "'output/mesh/sandwich_pbc_min.inp'"
      ]
     },
     "execution_count": 14,
     "metadata": {},
     "output_type": "execute_result"
    }
   ],
   "source": [
    "params_sim[\"mesh\"][\"inp_file\"]"
   ]
  },
  {
   "cell_type": "code",
   "execution_count": null,
   "metadata": {},
   "outputs": [
    {
     "name": "stdout",
     "output_type": "stream",
     "text": [
      "Running Calculix at:  output/ccx/\n",
      "Output file:  /home/djoroya/projects/CITISENS/CITISENS_Composite/scripts/MinRVE/output/ccx/out.txt\n",
      "Command:\n",
      " wine /home/djoroya/projects/CITISENS/CITISENS_Composite/.conda/lib/python3.13/site-packages/djccx/bin/ccx_dynamic.exe main > out.txt\n",
      "Error reading cvf file\n",
      "\n",
      "pid:  1037121 \n",
      "\n"
     ]
    }
   ],
   "source": [
    "frd = Simulation(params_sim)"
   ]
  },
  {
   "cell_type": "code",
   "execution_count": null,
   "metadata": {},
   "outputs": [],
   "source": [
    "from loadsavejson.savejson import savejson\n",
    "\n",
    "savejson(params_sim,\"output/ccx/params.json\")"
   ]
  }
 ],
 "metadata": {
  "kernelspec": {
   "display_name": ".conda",
   "language": "python",
   "name": "python3"
  },
  "language_info": {
   "codemirror_mode": {
    "name": "ipython",
    "version": 3
   },
   "file_extension": ".py",
   "mimetype": "text/x-python",
   "name": "python",
   "nbconvert_exporter": "python",
   "pygments_lexer": "ipython3",
   "version": "3.13.0"
  }
 },
 "nbformat": 4,
 "nbformat_minor": 2
}
