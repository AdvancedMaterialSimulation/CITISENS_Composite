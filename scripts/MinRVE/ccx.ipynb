{
 "cells": [
  {
   "cell_type": "markdown",
   "metadata": {},
   "source": []
  },
  {
   "cell_type": "code",
   "execution_count": 1,
   "metadata": {},
   "outputs": [
    {
     "name": "stdout",
     "output_type": "stream",
     "text": [
      "Wine está instalado. Versión: wine-9.0\n",
      "Wine is installed. Calculix will be run with windows binary\n"
     ]
    }
   ],
   "source": [
    "from djccx.inp.inp import inp"
   ]
  },
  {
   "cell_type": "code",
   "execution_count": 2,
   "metadata": {},
   "outputs": [],
   "source": [
    "inp_f = inp(\"composite_pbc_min.inp\")\n",
    "inp_f.remove_by_type(1)\n",
    "inp_f.print(\"composite_no_solid_min.inp\")"
   ]
  },
  {
   "cell_type": "code",
   "execution_count": 3,
   "metadata": {},
   "outputs": [
    {
     "data": {
      "text/plain": [
       "<bound method AbstractCreate.CreateNsetFromElement of <djccx.inp.inp.inp object at 0x7f5cf1ec12b0>>"
      ]
     },
     "execution_count": 3,
     "metadata": {},
     "output_type": "execute_result"
    }
   ],
   "source": [
    "inp_f.CreateNsetFromElement"
   ]
  },
  {
   "cell_type": "code",
   "execution_count": 4,
   "metadata": {},
   "outputs": [],
   "source": [
    "young = 2960\n",
    "imaterial = inp_f.CreateElasticMaterial(\"elastic\",young,0.0)\n",
    "allelset  = inp_f.CreateElsetAll()\n",
    "\n",
    "inp_f.CreateSolidSection(allelset,imaterial)\n",
    "istep = inp_f.CreateStaticStep(nlgeom=True)\n"
   ]
  },
  {
   "cell_type": "code",
   "execution_count": 5,
   "metadata": {},
   "outputs": [],
   "source": [
    "import os\n",
    "join = os.path.join\n",
    "inflation_folder = join(\"output\")\n",
    "\n",
    "if not os.path.exists(inflation_folder):\n",
    "    os.makedirs(inflation_folder)"
   ]
  },
  {
   "cell_type": "code",
   "execution_count": 6,
   "metadata": {},
   "outputs": [],
   "source": [
    "inp_f.remove_surface(\"SURFACE1\")"
   ]
  },
  {
   "cell_type": "code",
   "execution_count": 15,
   "metadata": {},
   "outputs": [
    {
     "data": {
      "text/plain": [
       "Card (*ELEMENT) :SURFACE1"
      ]
     },
     "execution_count": 15,
     "metadata": {},
     "output_type": "execute_result"
    }
   ],
   "source": [
    "inp_f.elements[0]"
   ]
  },
  {
   "cell_type": "code",
   "execution_count": null,
   "metadata": {},
   "outputs": [],
   "source": []
  }
 ],
 "metadata": {
  "kernelspec": {
   "display_name": ".conda",
   "language": "python",
   "name": "python3"
  },
  "language_info": {
   "codemirror_mode": {
    "name": "ipython",
    "version": 3
   },
   "file_extension": ".py",
   "mimetype": "text/x-python",
   "name": "python",
   "nbconvert_exporter": "python",
   "pygments_lexer": "ipython3",
   "version": "3.13.0"
  }
 },
 "nbformat": 4,
 "nbformat_minor": 2
}
