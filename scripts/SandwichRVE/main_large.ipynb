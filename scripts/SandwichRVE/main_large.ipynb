{
 "cells": [
  {
   "cell_type": "code",
   "execution_count": 74,
   "metadata": {},
   "outputs": [],
   "source": [
    "import matplotlib.pyplot as plt\n",
    "import numpy as np\n",
    "from functions.CreateYarnGeneral import CreateYarn"
   ]
  },
  {
   "cell_type": "code",
   "execution_count": 75,
   "metadata": {},
   "outputs": [],
   "source": [
    "\n",
    "import os,sys,shutil\n",
    "\n",
    "# remove output folder if exists\n",
    "try: \n",
    "    shutil.rmtree(\"output\")\n",
    "except: \n",
    "    pass\n",
    "\n",
    "# create output folder\n",
    "os.makedirs(\"output\")\n",
    "os.makedirs(\"output/mesh\")\n",
    "os.makedirs(\"output/ccx\")"
   ]
  },
  {
   "cell_type": "code",
   "execution_count": 76,
   "metadata": {},
   "outputs": [],
   "source": [
    "# cualquier curva periodica puede ser describida por una serie de fourier\n",
    "\n",
    "r = 5\n",
    "\n",
    "trajs =[]  \n",
    "# =============================================================================\n",
    "\n",
    "nq = 2\n",
    "fc1 = lambda x: (r**nq - x**nq)**(1/nq)\n",
    "\n",
    "x12 = np.linspace(0,r,2000)\n",
    "y12 = fc1(x12)\n",
    "\n",
    "trajs.append( np.array([x12,y12, np.zeros_like(x12)]).T )\n",
    "\n",
    "# =============================================================================\n",
    "\n",
    "nq = 2\n",
    "fc1 = lambda x: -(r**nq - (x-2*r)**nq)**(1/nq) + 2*r\n",
    "\n",
    "x12 = np.linspace(r,2*r,2000)\n",
    "y12 = fc1(x12)\n",
    "\n",
    "trajs.append( np.array([x12,y12, np.zeros_like(x12)]).T )\n",
    "\n",
    "# =============================================================================\n",
    "\n",
    "\n"
   ]
  },
  {
   "cell_type": "code",
   "execution_count": 77,
   "metadata": {},
   "outputs": [],
   "source": [
    "r = 5\n",
    "\n",
    "trajs =[]  \n",
    "# =============================================================================\n",
    "\n",
    "nq = 2\n",
    "fc1 = lambda x: r*np.cos(0.5*np.pi*x/r)\n",
    "\n",
    "x12 = np.linspace(0,r,5000)\n",
    "y12 = fc1(x12)\n",
    "\n",
    "trajs.append( np.array([x12,y12, np.zeros_like(x12)]).T )\n",
    "\n",
    "# =============================================================================\n",
    "\n",
    "nq = 2\n",
    "fc1 = lambda x: r*np.cos(0.5*np.pi*x/r) + 2*r\n",
    "# \n",
    "x12 = np.linspace(r,2*r,5000)\n",
    "y12 = fc1(x12)\n",
    "# \n",
    "trajs.append( np.array([x12,y12, np.zeros_like(x12)]).T )\n",
    "\n",
    "# =============================================================================\n"
   ]
  },
  {
   "cell_type": "code",
   "execution_count": 78,
   "metadata": {},
   "outputs": [
    {
     "data": {
      "text/plain": [
       "[array([[0.00000000e+00, 5.00000000e+00, 0.00000000e+00],\n",
       "        [1.00020004e-03, 4.99999975e+00, 0.00000000e+00],\n",
       "        [2.00040008e-03, 4.99999901e+00, 0.00000000e+00],\n",
       "        ...,\n",
       "        [4.99799960e+00, 3.14222089e-03, 0.00000000e+00],\n",
       "        [4.99899980e+00, 1.57111052e-03, 0.00000000e+00],\n",
       "        [5.00000000e+00, 3.06161700e-16, 0.00000000e+00]], shape=(5000, 3)),\n",
       " array([[ 5.        , 10.        ,  0.        ],\n",
       "        [ 5.0010002 ,  9.99842889,  0.        ],\n",
       "        [ 5.0020004 ,  9.99685778,  0.        ],\n",
       "        ...,\n",
       "        [ 9.9979996 ,  5.00000099,  0.        ],\n",
       "        [ 9.9989998 ,  5.00000025,  0.        ],\n",
       "        [10.        ,  5.        ,  0.        ]], shape=(5000, 3))]"
      ]
     },
     "execution_count": 78,
     "metadata": {},
     "output_type": "execute_result"
    }
   ],
   "source": [
    "trajs"
   ]
  },
  {
   "cell_type": "code",
   "execution_count": 79,
   "metadata": {},
   "outputs": [
    {
     "data": {
      "text/plain": [
       "(np.float64(-0.5),\n",
       " np.float64(10.5),\n",
       " np.float64(-0.49999999999999967),\n",
       " np.float64(10.5))"
      ]
     },
     "execution_count": 79,
     "metadata": {},
     "output_type": "execute_result"
    },
    {
     "data": {
      "image/png": "[encoded data removed]",
      "text/plain": [
       "<Figure size 500x300 with 1 Axes>"
      ]
     },
     "metadata": {},
     "output_type": "display_data"
    }
   ],
   "source": [
    "\n",
    "fig = plt.figure()\n",
    "fig.set_size_inches(5, 3)\n",
    "# compute fourier coefficients\n",
    "for itraj in trajs:\n",
    "\n",
    "    plt.plot(itraj[:,0], itraj[:,1], 'k.-')\n",
    "\n",
    "plt.axis('equal')"
   ]
  },
  {
   "cell_type": "code",
   "execution_count": 80,
   "metadata": {},
   "outputs": [],
   "source": [
    "import numpy as np\n",
    "import matplotlib.pyplot as plt\n",
    "\n",
    "# Datos iniciales\n",
    "Nx = 6\n",
    "Ny = 6\n",
    "all_points = np.concatenate(trajs)\n",
    "Lx = np.max(all_points[:, 0]) - np.min(all_points[:, 0])\n",
    "Ly = np.max(all_points[:, 1]) - np.min(all_points[:, 1])\n",
    "x0 = np.min(all_points[:, 0])\n",
    "y0 = np.min(all_points[:, 1])\n",
    "\n",
    "\n",
    "\n",
    "# Réplica de trayectorias\n",
    "all_trajs_1 = []\n",
    "for ix in range(Nx):\n",
    "    for iy in range(Ny):\n",
    "        for itraj in trajs:\n",
    "            new_traj = np.copy(itraj)\n",
    "            if ix % 2 == 1:\n",
    "                new_traj[:, 0] = -new_traj[:, 0] + Lx\n",
    "                # reverse\n",
    "                new_traj = new_traj[::-1]\n",
    "\n",
    "\n",
    "            new_traj[:, 0] += ix * Lx\n",
    "            new_traj[:, 1] += iy * Ly\n",
    "                \n",
    "            all_trajs_1.append(new_traj)\n",
    "\n"
   ]
  },
  {
   "cell_type": "code",
   "execution_count": 81,
   "metadata": {},
   "outputs": [],
   "source": [
    "# Creación otra capa de trayectorias\n",
    "\n",
    "# toma los iniciales y los gira en z  y los traslada\n",
    "\n",
    "all_trajs_2 = []\n",
    "\n",
    "rot_z = np.pi/2\n",
    "matrix = np.array([[np.cos(rot_z), -np.sin(rot_z), 0],\n",
    "                     [np.sin(rot_z), np.cos(rot_z), 0],\n",
    "                     [0, 0, 1]])\n",
    "\n",
    "all_points = np.concatenate(all_trajs_1)\n",
    "xmu = np.mean(all_points[:, 0])\n",
    "ymu = np.mean(all_points[:, 1])\n",
    "\n",
    "for itraj in all_trajs_1:\n",
    "    new_traj = np.copy(itraj)\n",
    "    new_traj[:, 0] = itraj[:, 0] - xmu\n",
    "    new_traj[:, 1] = itraj[:, 1] - ymu\n",
    "    new_traj = np.dot(new_traj, matrix.T)\n",
    "    new_traj[:, 0] += xmu\n",
    "    new_traj[:, 1] += ymu\n",
    "    \n",
    "\n",
    "    all_trajs_2.append(new_traj)\n",
    "\n",
    "    \n"
   ]
  },
  {
   "cell_type": "code",
   "execution_count": 82,
   "metadata": {},
   "outputs": [
    {
     "data": {
      "image/png": "[encoded data removed]",
      "text/plain": [
       "<Figure size 1000x300 with 2 Axes>"
      ]
     },
     "metadata": {},
     "output_type": "display_data"
    }
   ],
   "source": [
    "# Visualización\n",
    "fig = plt.figure()\n",
    "fig.set_size_inches(10, 3)\n",
    "plt.subplot(1, 2, 1)\n",
    "for itraj in all_trajs_1:\n",
    "    plt.plot(itraj[:, 0], itraj[:, 1], '.-')\n",
    "plt.subplot(1, 2, 2)\n",
    "for itraj in all_trajs_2:\n",
    "    plt.plot(itraj[:, 0], itraj[:, 1], '.-')\n",
    "plt.show()"
   ]
  },
  {
   "cell_type": "code",
   "execution_count": 83,
   "metadata": {},
   "outputs": [
    {
     "data": {
      "text/plain": [
       "(0.0, 20.0)"
      ]
     },
     "execution_count": 83,
     "metadata": {},
     "output_type": "execute_result"
    },
    {
     "data": {
      "image/png": "[encoded data removed]",
      "text/plain": [
       "<Figure size 1000x300 with 2 Axes>"
      ]
     },
     "metadata": {},
     "output_type": "display_data"
    }
   ],
   "source": [
    "# Select only x in [0,2*Lx] and y in [0,4*Ly]\n",
    "Nx_sel = 2\n",
    "Ny_sel = 2\n",
    "cond = lambda x,y: np.min(x) >= -1e2           and \\\n",
    "                   np.max(x) <= Nx_sel * Lx + 1e-2 and \\\n",
    "                   np.min(y) >= -1e-2           and \\\n",
    "                   np.max(y) <= Ny_sel * Ly + 1e-2\n",
    "\n",
    "all_trajs_1 = [itraj for itraj in all_trajs_1 if cond(itraj[:, 0], itraj[:, 1])]\n",
    "all_trajs_2 = [itraj for itraj in all_trajs_2 if cond(itraj[:, 0], itraj[:, 1])]\n",
    "\n",
    "# Visualización\n",
    "fig = plt.figure()\n",
    "fig.set_size_inches(10, 3)\n",
    "plt.subplot(1, 2, 1)\n",
    "for itraj in all_trajs_1:\n",
    "    plt.plot(itraj[:, 0], itraj[:, 1], '.-')\n",
    "# aspect ratio \n",
    "plt.axis('equal')\n",
    "plt.xlim([0, Nx_sel * Lx])\n",
    "\n",
    "plt.ylim([0, Ny_sel * Ly])\n",
    "plt.subplot(1, 2, 2)\n",
    "for itraj in all_trajs_2:\n",
    "    plt.plot(itraj[:, 0], itraj[:, 1], '.-')\n",
    "plt.axis('equal')\n",
    "plt.xlim([0, Nx_sel * Lx])\n",
    "plt.ylim([0, Ny_sel * Ly])\n"
   ]
  },
  {
   "cell_type": "code",
   "execution_count": 84,
   "metadata": {},
   "outputs": [],
   "source": [
    "from CompositeSandwich.CombineTrajs import CombineTrajs\n",
    "\n",
    "trajs_1 = CombineTrajs(all_trajs_1)\n",
    "trajs_2 = CombineTrajs(all_trajs_2)\n",
    "\n",
    "trajs_layers =[trajs_1, trajs_2]"
   ]
  },
  {
   "cell_type": "code",
   "execution_count": 85,
   "metadata": {},
   "outputs": [
    {
     "data": {
      "text/plain": [
       "(0.0, 20.0)"
      ]
     },
     "execution_count": 85,
     "metadata": {},
     "output_type": "execute_result"
    },
    {
     "data": {
      "image/png": "[encoded data removed]",
      "text/plain": [
       "<Figure size 1000x300 with 2 Axes>"
      ]
     },
     "metadata": {},
     "output_type": "display_data"
    }
   ],
   "source": [
    "\n",
    "fig = plt.figure()\n",
    "fig.set_size_inches(10, 3)\n",
    "plt.subplot(1, 2, 1)\n",
    "for itraj in trajs_1:\n",
    "    plt.plot(itraj[:, 0], itraj[:, 1], '.-')\n",
    "# aspect ratio \n",
    "plt.axis('equal')\n",
    "plt.xlim([0, Nx_sel * Lx])\n",
    "\n",
    "plt.ylim([0, Ny_sel * Ly])\n",
    "plt.subplot(1, 2, 2)\n",
    "for itraj in trajs_2:\n",
    "    plt.plot(itraj[:, 0], itraj[:, 1], '.-')\n",
    "plt.axis('equal')\n",
    "plt.xlim([0, Nx_sel * Lx])\n",
    "plt.ylim([0, Ny_sel * Ly])\n"
   ]
  },
  {
   "cell_type": "code",
   "execution_count": 86,
   "metadata": {},
   "outputs": [],
   "source": [
    "radius = 1.25\n",
    "\n",
    "for j,trajs in enumerate(trajs_layers):\n",
    "    for i,itraj in enumerate(trajs):\n",
    "\n",
    "        file = \"output/mesh/layer_{}_yarn_{}.brep\".format(j+1,i+1)\n",
    "\n",
    "        CreateYarn({\"trajs\": itraj, \n",
    "                    \"radius\": radius, \n",
    "                    \"density\": 1.25,\n",
    "                    \"file\": file})"
   ]
  },
  {
   "cell_type": "code",
   "execution_count": null,
   "metadata": {},
   "outputs": [],
   "source": []
  },
  {
   "cell_type": "code",
   "execution_count": 87,
   "metadata": {},
   "outputs": [],
   "source": [
    "from CompositeSandwich.CreateCompositeSandwich import CreateCompositeSandwich"
   ]
  },
  {
   "cell_type": "code",
   "execution_count": 88,
   "metadata": {},
   "outputs": [
    {
     "data": {
      "text/plain": [
       "['output/mesh\\\\layer_1_yarn_1.brep',\n",
       " 'output/mesh\\\\layer_1_yarn_2.brep',\n",
       " 'output/mesh\\\\layer_1_yarn_3.brep',\n",
       " 'output/mesh\\\\layer_1_yarn_4.brep',\n",
       " 'output/mesh\\\\layer_2_yarn_1.brep',\n",
       " 'output/mesh\\\\layer_2_yarn_2.brep',\n",
       " 'output/mesh\\\\layer_2_yarn_3.brep',\n",
       " 'output/mesh\\\\layer_2_yarn_4.brep']"
      ]
     },
     "execution_count": 88,
     "metadata": {},
     "output_type": "execute_result"
    }
   ],
   "source": [
    "import glob\n",
    "\n",
    "files = glob.glob(\"output/mesh/*.brep\")\n",
    "files = sorted(files)\n",
    "files"
   ]
  },
  {
   "cell_type": "code",
   "execution_count": 89,
   "metadata": {},
   "outputs": [],
   "source": [
    "params_mesh = {\n",
    "    \"files\": files,\n",
    "    \"inp_file\": \"output/mesh/sandwich.inp\",\n",
    "    \"trajs_layers\": trajs_layers,\n",
    "    \"radius\": radius,\n",
    "    \"r\": r,\n",
    "    \"NLayers\": 1,\n",
    "}\n",
    "\n",
    "CreateCompositeSandwich(params_mesh);"
   ]
  },
  {
   "cell_type": "code",
   "execution_count": 90,
   "metadata": {},
   "outputs": [],
   "source": [
    "from CompositeSandwich.Simulation import Simulation"
   ]
  },
  {
   "cell_type": "code",
   "execution_count": 91,
   "metadata": {},
   "outputs": [],
   "source": [
    "from validation.experimental import carbonfiber,resina"
   ]
  },
  {
   "cell_type": "code",
   "execution_count": 92,
   "metadata": {},
   "outputs": [],
   "source": [
    "carbon_data = carbonfiber()\n",
    "resina_data = resina()"
   ]
  },
  {
   "cell_type": "code",
   "execution_count": 93,
   "metadata": {},
   "outputs": [
    {
     "data": {
      "text/plain": [
       "0     230\n",
       "1     230\n",
       "2     230\n",
       "3     240\n",
       "4     240\n",
       "5     240\n",
       "6     240\n",
       "7     240\n",
       "8     250\n",
       "9     290\n",
       "10    290\n",
       "Name: Young Modulus (GPa), dtype: int64"
      ]
     },
     "execution_count": 93,
     "metadata": {},
     "output_type": "execute_result"
    }
   ],
   "source": [
    "carbon_data[\"carbon\"][\"Young Modulus (GPa)\"]"
   ]
  },
  {
   "cell_type": "code",
   "execution_count": 94,
   "metadata": {},
   "outputs": [],
   "source": [
    "Ecarbon_MPa = carbon_data[\"carbon\"].iloc[0][\"Young Modulus (GPa)\"]*1e3\n",
    "poisson_carbon = carbon_data[\"poisson ratio\"]"
   ]
  },
  {
   "cell_type": "code",
   "execution_count": 95,
   "metadata": {},
   "outputs": [
    {
     "data": {
      "text/plain": [
       "0     230\n",
       "1     230\n",
       "2     230\n",
       "3     240\n",
       "4     240\n",
       "5     240\n",
       "6     240\n",
       "7     240\n",
       "8     250\n",
       "9     290\n",
       "10    290\n",
       "Name: Young Modulus (GPa), dtype: int64"
      ]
     },
     "execution_count": 95,
     "metadata": {},
     "output_type": "execute_result"
    }
   ],
   "source": [
    "carbon_data[\"carbon\"][\"Young Modulus (GPa)\"]"
   ]
  },
  {
   "cell_type": "code",
   "execution_count": 96,
   "metadata": {},
   "outputs": [
    {
     "data": {
      "text/plain": [
       "np.float64(230000.0)"
      ]
     },
     "execution_count": 96,
     "metadata": {},
     "output_type": "execute_result"
    }
   ],
   "source": [
    "Ecarbon_MPa "
   ]
  },
  {
   "cell_type": "code",
   "execution_count": 97,
   "metadata": {},
   "outputs": [],
   "source": [
    "materials = {\n",
    "    \"matrix\": { \"E\" : resina_data[\"young modulus [MPa]\"], \n",
    "                \"nu\": resina_data[\"poisson ratio\"] },\n",
    "    \"carbon\": { \"E\" : Ecarbon_MPa, \n",
    "                \"nu\": poisson_carbon }\n",
    "}\n",
    "\n",
    "\n",
    "opts = {\n",
    "    \"OMP_NUM_THREADS\":3,\n",
    "    \"mpi_np\":6,\n",
    "    \"mpi\":True,\n",
    "    \"ccx\": r\"C:\\Users\\djoroya\\Downloads\\PrePoMax v2.2.0\\PrePoMax v2.2.0\\Solver\\ccx_dynamic\"\n",
    "\n",
    "}\n",
    "params_sim = {\n",
    "    \"mesh\": params_mesh,\n",
    "    \"output\": \"output/ccx/\",\n",
    "    \"epsilon\": 0.125,\n",
    "    \"nsteps\":5,\n",
    "    \"materials\": materials,\n",
    "    \"opts\": opts,\n",
    "}\n",
    "\n"
   ]
  },
  {
   "cell_type": "code",
   "execution_count": 98,
   "metadata": {},
   "outputs": [],
   "source": [
    "# export PARDISO_MPI_MATCHING=1\n",
    "import os\n",
    "os.environ[\"PARDISO_MPI_MATCHING\"] = \"2\""
   ]
  },
  {
   "cell_type": "code",
   "execution_count": 99,
   "metadata": {},
   "outputs": [
    {
     "name": "stdout",
     "output_type": "stream",
     "text": [
      "Running Calculix at:  output/ccx/\n",
      "Output file:  c:\\Users\\djoroya\\Documents\\GitHub\\CITISENS_Composite\\scripts\\SandwichRVE\\output\\ccx\\out.txt\n",
      "Command:\n",
      " mpiexec -n 6 C:\\Users\\djoroya\\Downloads\\PrePoMax_SEP_v2.2.0\\PrePoMax_SEP_v2.2.0\\Solver\\ccx_dynamic main\n",
      "Error reading cvf file\n",
      "\n",
      "pid:  43192 \n",
      "\n",
      "Calculix finished\n",
      "\n"
     ]
    }
   ],
   "source": [
    "frd = Simulation(params_sim)"
   ]
  },
  {
   "cell_type": "code",
   "execution_count": null,
   "metadata": {},
   "outputs": [],
   "source": []
  }
 ],
 "metadata": {
  "kernelspec": {
   "display_name": ".conda",
   "language": "python",
   "name": "python3"
  },
  "language_info": {
   "codemirror_mode": {
    "name": "ipython",
    "version": 3
   },
   "file_extension": ".py",
   "mimetype": "text/x-python",
   "name": "python",
   "nbconvert_exporter": "python",
   "pygments_lexer": "ipython3",
   "version": "3.11.10"
  }
 },
 "nbformat": 4,
 "nbformat_minor": 2
}
