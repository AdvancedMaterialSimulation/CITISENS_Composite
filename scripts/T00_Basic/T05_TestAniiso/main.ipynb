{
 "cells": [
  {
   "cell_type": "code",
   "execution_count": 1,
   "metadata": {},
   "outputs": [],
   "source": [
    "import gmsh \n",
    "import numpy as np\n",
    "\n",
    "gmsh.initialize()\n",
    "\n",
    "# cubo \n",
    "\n",
    "Lx = 10\n",
    "Ly = 10\n",
    "h  = 1 \n",
    "box = gmsh.model.occ.addBox(0, 0, -h/2, Lx, Ly, h)\n",
    "\n",
    "# synco \n",
    "\n",
    "# cilindros \n",
    "\n",
    "r = 0.8 \n",
    "\n",
    "def createcyl(i):\n",
    "    c1 = gmsh.model.occ.addCylinder(0, 0, 0, 0, 0, Lx, r/2)\n",
    "    # rotate\n",
    "    gmsh.model.occ.rotate([(3, c1)], 0, 0, 0, 0, r, 0, np.pi/2)\n",
    "    # tranlate y \n",
    "    gmsh.model.occ.translate([(3, c1)], 0, i,0)\n",
    "    gmsh.model.occ.synchronize()\n",
    "    return c1\n",
    "\n",
    "cs = []\n",
    "for i in range(1, int(Ly/h)):\n",
    "    ic = createcyl(i*h)\n",
    "    cs.append(ic)\n",
    "\n",
    "# cut box and cylinders \n",
    "gmsh.model.occ.synchronize()\n",
    "\n",
    "gmsh.model.occ.cut([(3, box)], [(3, c) for c in cs],removeTool=False)\n",
    "\n",
    "gmsh.model.occ.synchronize()\n",
    "\n",
    "# mesh \n",
    "# size\n",
    "gmsh.option.setNumber(\"Mesh.CharacteristicLengthMin\", 0.1)\n",
    "gmsh.option.setNumber(\"Mesh.CharacteristicLengthMax\", 0.5)\n",
    "gmsh.option.setNumber(\"Mesh.MeshSizeFromCurvature\", 15)\n",
    "#\n",
    "gmsh.model.mesh.generate(3)\n",
    "# optimize\n",
    "gmsh.model.mesh.optimize(\"Netgen\")\n",
    "# set order 2 \n",
    "gmsh.model.mesh.setOrder(2)\n",
    "\n",
    "# input file\n",
    "gmsh.write(\"cylinders.inp\")\n",
    "\n",
    "\n",
    "gmsh.fltk.run()\n"
   ]
  },
  {
   "cell_type": "code",
   "execution_count": null,
   "metadata": {},
   "outputs": [],
   "source": [
    "\n"
   ]
  }
 ],
 "metadata": {
  "kernelspec": {
   "display_name": ".conda",
   "language": "python",
   "name": "python3"
  },
  "language_info": {
   "codemirror_mode": {
    "name": "ipython",
    "version": 3
   },
   "file_extension": ".py",
   "mimetype": "text/x-python",
   "name": "python",
   "nbconvert_exporter": "python",
   "pygments_lexer": "ipython3",
   "version": "3.11.10"
  }
 },
 "nbformat": 4,
 "nbformat_minor": 2
}
