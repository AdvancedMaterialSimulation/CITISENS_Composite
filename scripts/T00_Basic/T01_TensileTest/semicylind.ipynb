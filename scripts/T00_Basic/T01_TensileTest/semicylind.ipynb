{
 "cells": [
  {
   "cell_type": "code",
   "execution_count": 5,
   "metadata": {},
   "outputs": [],
   "source": [
    "import os"
   ]
  },
  {
   "cell_type": "code",
   "execution_count": 8,
   "metadata": {},
   "outputs": [
    {
     "data": {
      "text/plain": [
       "0"
      ]
     },
     "execution_count": 8,
     "metadata": {},
     "output_type": "execute_result"
    }
   ],
   "source": [
    "os.system(\"mpiexec\")"
   ]
  },
  {
   "cell_type": "code",
   "execution_count": 9,
   "metadata": {},
   "outputs": [],
   "source": [
    "import subprocess\n"
   ]
  },
  {
   "cell_type": "code",
   "execution_count": 10,
   "metadata": {},
   "outputs": [
    {
     "data": {
      "text/plain": [
       "<Popen: returncode: None args: ['mpiexec']>"
      ]
     },
     "execution_count": 10,
     "metadata": {},
     "output_type": "execute_result"
    }
   ],
   "source": [
    "subprocess.Popen([\"mpiexec\"])"
   ]
  },
  {
   "cell_type": "code",
   "execution_count": 3,
   "metadata": {},
   "outputs": [],
   "source": [
    "import gmsh \n",
    "import numpy as np\n",
    "from gmshtools.CircRect import CircRect"
   ]
  },
  {
   "cell_type": "code",
   "execution_count": 4,
   "metadata": {},
   "outputs": [],
   "source": [
    "import os "
   ]
  },
  {
   "cell_type": "code",
   "execution_count": 6,
   "metadata": {},
   "outputs": [],
   "source": [
    "gmsh.initialize()\n",
    "gmsh.model.add(\"t1\")\n",
    "\n",
    "# \n",
    "vec_z = [0, 0, 1]\n",
    "vec_x = [0, 1, 0]\n",
    "\n",
    "x0, y0, z0 = 0, 0, 10\n",
    "\n",
    "Lx = 1\n",
    "Ly = 0.2\n",
    "\n",
    "\n",
    "curve1 = CircRect(x0, y0, z0  ,Lx, Ly, vec_z, vec_x,-1)\n",
    "\n",
    "curve2 = CircRect(x0, y0, z0+1,Lx, Ly, vec_z, vec_x,-1)\n",
    "\n",
    "\n",
    "# curve1 = gmsh.model.occ.addCircle(x0, y0, z0, Lx/2, tag=-1)\n",
    "# curve2 = gmsh.model.occ.addCircle(x0, y0, z0+1, Lx/2, tag=-1)\n",
    "#synco\n",
    "gmsh.model.occ.synchronize()\n",
    "gmsh.fltk.run()\n"
   ]
  },
  {
   "cell_type": "code",
   "execution_count": null,
   "metadata": {},
   "outputs": [],
   "source": [
    "\n",
    "# wire1 = gmsh.model.occ.addWire([curve1])\n",
    "# wire2 = gmsh.model.occ.addWire([curve2])\n",
    "\n",
    "v = gmsh.model.occ.addThruSections([curve1, \n",
    "                                    curve2\n",
    "                                    ],makeSolid=True)\n",
    "\n",
    "gmsh.model.occ.synchronize()\n",
    "gmsh.fltk.run()\n"
   ]
  },
  {
   "cell_type": "code",
   "execution_count": null,
   "metadata": {},
   "outputs": [],
   "source": []
  },
  {
   "cell_type": "markdown",
   "metadata": {},
   "source": []
  },
  {
   "cell_type": "code",
   "execution_count": null,
   "metadata": {},
   "outputs": [],
   "source": [
    "# comprobar que e"
   ]
  },
  {
   "cell_type": "code",
   "execution_count": null,
   "metadata": {},
   "outputs": [],
   "source": [
    "gmsh.fltk.run()"
   ]
  },
  {
   "cell_type": "code",
   "execution_count": null,
   "metadata": {},
   "outputs": [],
   "source": []
  }
 ],
 "metadata": {
  "kernelspec": {
   "display_name": "Python 3",
   "language": "python",
   "name": "python3"
  },
  "language_info": {
   "codemirror_mode": {
    "name": "ipython",
    "version": 3
   },
   "file_extension": ".py",
   "mimetype": "text/x-python",
   "name": "python",
   "nbconvert_exporter": "python",
   "pygments_lexer": "ipython3",
   "version": "3.13.2"
  }
 },
 "nbformat": 4,
 "nbformat_minor": 2
}
