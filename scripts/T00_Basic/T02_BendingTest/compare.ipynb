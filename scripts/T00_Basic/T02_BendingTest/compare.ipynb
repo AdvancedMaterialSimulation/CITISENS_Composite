{
 "cells": [
  {
   "cell_type": "code",
   "execution_count": 41,
   "metadata": {},
   "outputs": [],
   "source": [
    "import glob\n",
    "import pandas as pd"
   ]
  },
  {
   "cell_type": "code",
   "execution_count": 42,
   "metadata": {},
   "outputs": [
    {
     "name": "stdout",
     "output_type": "stream",
     "text": [
      "['AnalyticModel\\\\output.csv', 'NumericalModel\\\\output.csv', 'NumericalModelANIISO\\\\output.csv']\n"
     ]
    }
   ],
   "source": [
    "csvs = glob.glob('*/output.csv')\n",
    "print(csvs)\n",
    "df_results = [ pd.read_csv(csv) for csv in csvs ]\n",
    "df_results = df_results[:2]"
   ]
  },
  {
   "cell_type": "code",
   "execution_count": 43,
   "metadata": {},
   "outputs": [
    {
     "data": {
      "text/html": [
       "<div>\n",
       "<style scoped>\n",
       "    .dataframe tbody tr th:only-of-type {\n",
       "        vertical-align: middle;\n",
       "    }\n",
       "\n",
       "    .dataframe tbody tr th {\n",
       "        vertical-align: top;\n",
       "    }\n",
       "\n",
       "    .dataframe thead th {\n",
       "        text-align: right;\n",
       "    }\n",
       "</style>\n",
       "<table border=\"1\" class=\"dataframe\">\n",
       "  <thead>\n",
       "    <tr style=\"text-align: right;\">\n",
       "      <th></th>\n",
       "      <th>E [GPa]</th>\n",
       "      <th>E pred [GPa]</th>\n",
       "      <th>Name</th>\n",
       "    </tr>\n",
       "  </thead>\n",
       "  <tbody>\n",
       "    <tr>\n",
       "      <th>0</th>\n",
       "      <td>13.201050</td>\n",
       "      <td>13.620581</td>\n",
       "      <td>TFP1-1</td>\n",
       "    </tr>\n",
       "    <tr>\n",
       "      <th>1</th>\n",
       "      <td>9.869501</td>\n",
       "      <td>9.721223</td>\n",
       "      <td>TFP2-1</td>\n",
       "    </tr>\n",
       "    <tr>\n",
       "      <th>2</th>\n",
       "      <td>9.222003</td>\n",
       "      <td>8.711639</td>\n",
       "      <td>TFP3-1</td>\n",
       "    </tr>\n",
       "    <tr>\n",
       "      <th>3</th>\n",
       "      <td>10.181815</td>\n",
       "      <td>8.778776</td>\n",
       "      <td>TFP4-1</td>\n",
       "    </tr>\n",
       "    <tr>\n",
       "      <th>4</th>\n",
       "      <td>6.143105</td>\n",
       "      <td>7.514863</td>\n",
       "      <td>TFP5-1</td>\n",
       "    </tr>\n",
       "    <tr>\n",
       "      <th>5</th>\n",
       "      <td>7.798060</td>\n",
       "      <td>8.068490</td>\n",
       "      <td>TFP6-1</td>\n",
       "    </tr>\n",
       "  </tbody>\n",
       "</table>\n",
       "</div>"
      ],
      "text/plain": [
       "     E [GPa]  E pred [GPa]    Name\n",
       "0  13.201050     13.620581  TFP1-1\n",
       "1   9.869501      9.721223  TFP2-1\n",
       "2   9.222003      8.711639  TFP3-1\n",
       "3  10.181815      8.778776  TFP4-1\n",
       "4   6.143105      7.514863  TFP5-1\n",
       "5   7.798060      8.068490  TFP6-1"
      ]
     },
     "execution_count": 43,
     "metadata": {},
     "output_type": "execute_result"
    }
   ],
   "source": [
    "df_results[0]"
   ]
  },
  {
   "cell_type": "code",
   "execution_count": 44,
   "metadata": {},
   "outputs": [
    {
     "data": {
      "text/html": [
       "<div>\n",
       "<style scoped>\n",
       "    .dataframe tbody tr th:only-of-type {\n",
       "        vertical-align: middle;\n",
       "    }\n",
       "\n",
       "    .dataframe tbody tr th {\n",
       "        vertical-align: top;\n",
       "    }\n",
       "\n",
       "    .dataframe thead th {\n",
       "        text-align: right;\n",
       "    }\n",
       "</style>\n",
       "<table border=\"1\" class=\"dataframe\">\n",
       "  <thead>\n",
       "    <tr style=\"text-align: right;\">\n",
       "      <th></th>\n",
       "      <th>Eb [GPa]</th>\n",
       "      <th>Eb pred [GPa]</th>\n",
       "      <th>Et [GPa]</th>\n",
       "      <th>Et pred [GPa]</th>\n",
       "      <th>Name</th>\n",
       "    </tr>\n",
       "  </thead>\n",
       "  <tbody>\n",
       "    <tr>\n",
       "      <th>0</th>\n",
       "      <td>13.201050</td>\n",
       "      <td>12.108982</td>\n",
       "      <td>2.885509</td>\n",
       "      <td>8.118666</td>\n",
       "      <td>TFP1</td>\n",
       "    </tr>\n",
       "    <tr>\n",
       "      <th>1</th>\n",
       "      <td>9.869501</td>\n",
       "      <td>7.272978</td>\n",
       "      <td>2.258503</td>\n",
       "      <td>5.245108</td>\n",
       "      <td>TFP2</td>\n",
       "    </tr>\n",
       "    <tr>\n",
       "      <th>2</th>\n",
       "      <td>9.222003</td>\n",
       "      <td>6.448461</td>\n",
       "      <td>2.000437</td>\n",
       "      <td>4.819198</td>\n",
       "      <td>TFP3</td>\n",
       "    </tr>\n",
       "    <tr>\n",
       "      <th>3</th>\n",
       "      <td>10.181815</td>\n",
       "      <td>7.466634</td>\n",
       "      <td>2.451362</td>\n",
       "      <td>5.348218</td>\n",
       "      <td>TFP4</td>\n",
       "    </tr>\n",
       "    <tr>\n",
       "      <th>4</th>\n",
       "      <td>6.143105</td>\n",
       "      <td>5.667777</td>\n",
       "      <td>1.626582</td>\n",
       "      <td>4.964186</td>\n",
       "      <td>TFP5</td>\n",
       "    </tr>\n",
       "    <tr>\n",
       "      <th>5</th>\n",
       "      <td>7.798060</td>\n",
       "      <td>6.127003</td>\n",
       "      <td>1.739870</td>\n",
       "      <td>5.325542</td>\n",
       "      <td>TFP6</td>\n",
       "    </tr>\n",
       "  </tbody>\n",
       "</table>\n",
       "</div>"
      ],
      "text/plain": [
       "    Eb [GPa]  Eb pred [GPa]  Et [GPa]  Et pred [GPa]  Name\n",
       "0  13.201050      12.108982  2.885509       8.118666  TFP1\n",
       "1   9.869501       7.272978  2.258503       5.245108  TFP2\n",
       "2   9.222003       6.448461  2.000437       4.819198  TFP3\n",
       "3  10.181815       7.466634  2.451362       5.348218  TFP4\n",
       "4   6.143105       5.667777  1.626582       4.964186  TFP5\n",
       "5   7.798060       6.127003  1.739870       5.325542  TFP6"
      ]
     },
     "execution_count": 44,
     "metadata": {},
     "output_type": "execute_result"
    }
   ],
   "source": [
    "df_results[1]"
   ]
  },
  {
   "cell_type": "code",
   "execution_count": 30,
   "metadata": {},
   "outputs": [
    {
     "data": {
      "text/html": [
       "<div>\n",
       "<style scoped>\n",
       "    .dataframe tbody tr th:only-of-type {\n",
       "        vertical-align: middle;\n",
       "    }\n",
       "\n",
       "    .dataframe tbody tr th {\n",
       "        vertical-align: top;\n",
       "    }\n",
       "\n",
       "    .dataframe thead th {\n",
       "        text-align: right;\n",
       "    }\n",
       "</style>\n",
       "<table border=\"1\" class=\"dataframe\">\n",
       "  <thead>\n",
       "    <tr style=\"text-align: right;\">\n",
       "      <th></th>\n",
       "      <th>Name</th>\n",
       "      <th>E [GPa]</th>\n",
       "      <th>E pred Analytic [GPa]</th>\n",
       "      <th>E pred Numeric [GPa]</th>\n",
       "    </tr>\n",
       "  </thead>\n",
       "  <tbody>\n",
       "    <tr>\n",
       "      <th>0</th>\n",
       "      <td>TFP1-1</td>\n",
       "      <td>13.201050</td>\n",
       "      <td>13.620581</td>\n",
       "      <td>12.108982</td>\n",
       "    </tr>\n",
       "    <tr>\n",
       "      <th>1</th>\n",
       "      <td>TFP2-1</td>\n",
       "      <td>9.869501</td>\n",
       "      <td>9.721223</td>\n",
       "      <td>7.272978</td>\n",
       "    </tr>\n",
       "    <tr>\n",
       "      <th>2</th>\n",
       "      <td>TFP3-1</td>\n",
       "      <td>9.222003</td>\n",
       "      <td>8.711639</td>\n",
       "      <td>6.448461</td>\n",
       "    </tr>\n",
       "    <tr>\n",
       "      <th>3</th>\n",
       "      <td>TFP4-1</td>\n",
       "      <td>10.181815</td>\n",
       "      <td>8.778776</td>\n",
       "      <td>7.466634</td>\n",
       "    </tr>\n",
       "    <tr>\n",
       "      <th>4</th>\n",
       "      <td>TFP5-1</td>\n",
       "      <td>6.143105</td>\n",
       "      <td>7.514863</td>\n",
       "      <td>5.667777</td>\n",
       "    </tr>\n",
       "    <tr>\n",
       "      <th>5</th>\n",
       "      <td>TFP6-1</td>\n",
       "      <td>7.798060</td>\n",
       "      <td>8.068490</td>\n",
       "      <td>6.127003</td>\n",
       "    </tr>\n",
       "  </tbody>\n",
       "</table>\n",
       "</div>"
      ],
      "text/plain": [
       "     Name    E [GPa]  E pred Analytic [GPa]  E pred Numeric [GPa]\n",
       "0  TFP1-1  13.201050              13.620581             12.108982\n",
       "1  TFP2-1   9.869501               9.721223              7.272978\n",
       "2  TFP3-1   9.222003               8.711639              6.448461\n",
       "3  TFP4-1  10.181815               8.778776              7.466634\n",
       "4  TFP5-1   6.143105               7.514863              5.667777\n",
       "5  TFP6-1   7.798060               8.068490              6.127003"
      ]
     },
     "execution_count": 30,
     "metadata": {},
     "output_type": "execute_result"
    }
   ],
   "source": [
    "df_r = pd.DataFrame({\n",
    "    \"Name\" : df_results[0][\"Name\"],\n",
    "    \"E [GPa]\" : df_results[0][\"E [GPa]\"],\n",
    "    \"E pred Analytic [GPa]\" : df_results[0][\"E pred [GPa]\"],\n",
    "    \"E pred Numeric [GPa]\" : df_results[1][\"Eb pred [GPa]\"],\n",
    "})\n",
    "\n",
    "df_r"
   ]
  },
  {
   "cell_type": "code",
   "execution_count": 31,
   "metadata": {},
   "outputs": [
    {
     "data": {
      "text/plain": [
       "0    1.124833\n",
       "1    1.336622\n",
       "2    1.350964\n",
       "3    1.175734\n",
       "4    1.325893\n",
       "5    1.316874\n",
       "dtype: float64"
      ]
     },
     "execution_count": 31,
     "metadata": {},
     "output_type": "execute_result"
    }
   ],
   "source": [
    "df_r[\"E pred Analytic [GPa]\"]/df_r[\"E pred Numeric [GPa]\"]"
   ]
  },
  {
   "cell_type": "code",
   "execution_count": 32,
   "metadata": {},
   "outputs": [
    {
     "data": {
      "text/plain": [
       "Text(0, 0.5, '$E_{flexión} [GPa]$')"
      ]
     },
     "execution_count": 32,
     "metadata": {},
     "output_type": "execute_result"
    },
    {
     "data": {
      "image/png": "[encoded data removed]",
      "text/plain": [
       "<Figure size 640x480 with 1 Axes>"
      ]
     },
     "metadata": {},
     "output_type": "display_data"
    }
   ],
   "source": [
    "# bar plot of the results\n",
    "\n",
    "import matplotlib.pyplot as plt\n",
    "\n",
    "df_r.plot(x=\"Name\", y=[\"E [GPa]\", \n",
    "                       \"E pred Analytic [GPa]\", \n",
    "                       \"E pred Numeric [GPa]\"], kind=\"bar\")\n",
    "plt.legend([r\"$E_{flexión} [GPa]$ Experimental\",\n",
    "            r\"$E_{flexión} [GPa]$ Simplificado\",\n",
    "            r\"$E_{flexión} [GPa]$ FEM \"])\n",
    "plt.grid( )\n",
    "xticks = [ i for i in range(len(df_r[\"Name\"])) ]\n",
    "xtickslabels = [ f\"{name[:-2]}\" for name in df_r[\"Name\"] ]\n",
    "plt.xticks(xticks, xtickslabels,rotation=45)\n",
    "plt.ylabel(r\"$E_{flexión} [GPa]$\")"
   ]
  },
  {
   "cell_type": "code",
   "execution_count": 40,
   "metadata": {},
   "outputs": [
    {
     "data": {
      "image/png": "[encoded data removed]",
      "text/plain": [
       "<Figure size 500x350 with 1 Axes>"
      ]
     },
     "metadata": {},
     "output_type": "display_data"
    }
   ],
   "source": [
    "fig = plt.figure()\n",
    "fig.set_size_inches(5,3.5)\n",
    "nu = 0.3\n",
    "plt.plot((1/(1-nu**2))*df_r[\"E pred Analytic [GPa]\"],\n",
    "         df_r[\"E pred Numeric [GPa]\"],'o')\n",
    "plt.plot([5,15],[5,15],'r--')\n",
    "plt.xlabel(r\"$E_{flexión} \\  [GPa]$ Analítico\")\n",
    "plt.ylabel(r\"$E_{flexión} \\  [GPa]$ Numérico\")\n",
    "# text name \n",
    "names = [ \"1\", \"2\", \"3\", \"4\", \"5\", \"6\"]\n",
    "for i in range(len(df_r)):\n",
    "    plt.text((1-nu**2)*df_r[\"E pred Analytic [GPa]\"][i],\n",
    "             df_r[\"E pred Numeric [GPa]\"][i],\n",
    "                names[i],   \n",
    "                fontsize=8)\n",
    "plt.grid()"
   ]
  },
  {
   "cell_type": "code",
   "execution_count": 34,
   "metadata": {},
   "outputs": [
    {
     "data": {
      "text/plain": [
       "0.91"
      ]
     },
     "execution_count": 34,
     "metadata": {},
     "output_type": "execute_result"
    }
   ],
   "source": [
    "1-0.3**2"
   ]
  },
  {
   "cell_type": "code",
   "execution_count": 35,
   "metadata": {},
   "outputs": [
    {
     "data": {
      "text/plain": [
       "0.91"
      ]
     },
     "execution_count": 35,
     "metadata": {},
     "output_type": "execute_result"
    }
   ],
   "source": [
    "1-0.3**2"
   ]
  },
  {
   "cell_type": "code",
   "execution_count": 36,
   "metadata": {},
   "outputs": [
    {
     "data": {
      "text/plain": [
       "Text(0.5, 0, \"['1', '2', '3', '4', '5', '6']\")"
      ]
     },
     "execution_count": 36,
     "metadata": {},
     "output_type": "execute_result"
    },
    {
     "data": {
      "image/png": "[encoded data removed]",
      "text/plain": [
       "<Figure size 640x480 with 1 Axes>"
      ]
     },
     "metadata": {},
     "output_type": "display_data"
    }
   ],
   "source": [
    "# error relative Analytic vs Numeric\n",
    "\n",
    "df_r[\"Error Analytic vs Numeric [%]\"] = 100 * abs(df_r[\"E pred Numeric [GPa]\"] - df_r[\"E pred Analytic [GPa]\"]) / df_r[\"E pred Numeric [GPa]\"]\n",
    "df_r[\"Error Analytic [%]\"] = 100 * abs(df_r[\"E [GPa]\"] - df_r[\"E pred Analytic [GPa]\"]) / df_r[\"E [GPa]\"]\n",
    "df_r[\"Error Numeric [%]\"] = 100 * abs(df_r[\"E [GPa]\"] - df_r[\"E pred Numeric [GPa]\"]) / df_r[\"E [GPa]\"]\n",
    "# error plot \n",
    "df_r.plot(x=\"Name\", y=\"Error Analytic vs Numeric [%]\", kind=\"bar\")\n",
    "\n",
    "# label \n",
    "plt.xlabel(names)"
   ]
  },
  {
   "cell_type": "code",
   "execution_count": 37,
   "metadata": {},
   "outputs": [
    {
     "data": {
      "text/plain": [
       "<matplotlib.legend.Legend at 0x1b4175dec10>"
      ]
     },
     "execution_count": 37,
     "metadata": {},
     "output_type": "execute_result"
    },
    {
     "data": {
      "image/png": "[encoded data removed]",
      "text/plain": [
       "<Figure size 640x480 with 1 Axes>"
      ]
     },
     "metadata": {},
     "output_type": "display_data"
    }
   ],
   "source": [
    "df_r.plot(x=\"Name\", y=[\"Error Analytic [%]\", \"Error Numeric [%]\"], kind=\"bar\")\n",
    "# 5 % horizontal line\n",
    "plt.hlines(5, -1, 10, colors='r', linestyles='dashed',label=\"5% error\")\n",
    "plt.legend()"
   ]
  },
  {
   "cell_type": "code",
   "execution_count": null,
   "metadata": {},
   "outputs": [],
   "source": []
  }
 ],
 "metadata": {
  "kernelspec": {
   "display_name": "Python 3",
   "language": "python",
   "name": "python3"
  },
  "language_info": {
   "codemirror_mode": {
    "name": "ipython",
    "version": 3
   },
   "file_extension": ".py",
   "mimetype": "text/x-python",
   "name": "python",
   "nbconvert_exporter": "python",
   "pygments_lexer": "ipython3",
   "version": "3.13.2"
  }
 },
 "nbformat": 4,
 "nbformat_minor": 2
}
