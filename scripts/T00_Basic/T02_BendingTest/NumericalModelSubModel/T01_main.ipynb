{
 "cells": [
  {
   "cell_type": "code",
   "execution_count": null,
   "metadata": {},
   "outputs": [],
   "source": [
    "\n",
    "import os \n",
    "from copy import deepcopy\n",
    "from Composite.RunFullSubModel import RunFullSubModel\n",
    "join = os.path.join\n",
    "import numpy as np"
   ]
  },
  {
   "cell_type": "code",
   "execution_count": null,
   "metadata": {},
   "outputs": [],
   "source": []
  },
  {
   "cell_type": "code",
   "execution_count": null,
   "metadata": {},
   "outputs": [],
   "source": [
    "params_composite ={\n",
    "    \"r\"         :  0.297,\n",
    "    \"factor_radius\": 2,\n",
    "    \"h\"         :  0.35,\n",
    "    \"z0\"        :  3.073/2,\n",
    "    \"density\"   : 8,\n",
    "    \"interface_factor\"  :  1.2,\n",
    "    \"with_interface\"    : False,\n",
    "    \"check_jacobian\"    : False,\n",
    "}\n",
    "\n",
    "params_ccx = {\n",
    "    \"epsilon\" : 0.1,\n",
    "    \"x_fixed\" : True\n",
    "}\n",
    "params = {\n",
    "    \"mesh\" : params_composite,\n",
    "    \"ccx\"  : params_ccx,\n",
    "}"
   ]
  },
  {
   "cell_type": "code",
   "execution_count": null,
   "metadata": {},
   "outputs": [],
   "source": [
    "design = \"A\"\n",
    "for design in [\"Adouble\",\"B\",\"C\",\"D\",\"E\",\"F\"]:\n",
    "# for design in [\"Adouble\"]:\n",
    "    # Generate mesh and RVE\n",
    "    params_copy = deepcopy(params)\n",
    "    RunFullSubModel(design,\"output\",params_copy)\n",
    "\n",
    "    "
   ]
  },
  {
   "cell_type": "code",
   "execution_count": null,
   "metadata": {},
   "outputs": [],
   "source": []
  }
 ],
 "metadata": {
  "kernelspec": {
   "display_name": ".conda",
   "language": "python",
   "name": "python3"
  },
  "language_info": {
   "codemirror_mode": {
    "name": "ipython",
    "version": 3
   },
   "file_extension": ".py",
   "mimetype": "text/x-python",
   "name": "python",
   "nbconvert_exporter": "python",
   "pygments_lexer": "ipython3",
   "version": "3.11.10"
  }
 },
 "nbformat": 4,
 "nbformat_minor": 2
}
