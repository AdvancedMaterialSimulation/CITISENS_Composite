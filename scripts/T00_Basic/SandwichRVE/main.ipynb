{
 "cells": [
  {
   "cell_type": "code",
   "execution_count": 1,
   "metadata": {},
   "outputs": [],
   "source": [
    "import matplotlib.pyplot as plt\n",
    "import numpy as np\n",
    "from functions.CreateYarnGeneral import CreateYarn"
   ]
  },
  {
   "cell_type": "code",
   "execution_count": 2,
   "metadata": {},
   "outputs": [],
   "source": [
    "!rm -r output/\n",
    "!mkdir output/\n",
    "!mkdir output/mesh\n",
    "!mkdir output/ccx"
   ]
  },
  {
   "cell_type": "code",
   "execution_count": 3,
   "metadata": {},
   "outputs": [],
   "source": [
    "# cualquier curva periodica puede ser describida por una serie de fourier\n",
    "\n",
    "r = 5\n",
    "\n",
    "trajs =[]  \n",
    "\n",
    "fc1 = lambda x: np.sqrt(r**2 - x**2)\n",
    "\n",
    "nq = 4\n",
    "fc1 = lambda x: (r**nq - x**nq)**(1/nq)\n",
    "x12 = np.linspace(0,r,2000)\n",
    "y12 = fc1(x12)\n",
    "\n",
    "trajs.append( np.array([x12,y12, np.zeros_like(x12)]).T )\n",
    "\n",
    "# =============================================================================\n",
    "\n",
    "fc1 = lambda x: -np.sqrt(r**2 - (x-2*r)**2) + 2*r\n",
    "nq = 2\n",
    "fc1 = lambda x: -(r**nq - (x-2*r)**nq)**(1/nq) + 2*r\n",
    "x12 = np.linspace(r,2*r,2000)\n",
    "y12 = fc1(x12)\n",
    "\n",
    "trajs.append( np.array([x12,y12, np.zeros_like(x12)]).T )\n"
   ]
  },
  {
   "cell_type": "code",
   "execution_count": 4,
   "metadata": {},
   "outputs": [
    {
     "data": {
      "text/plain": [
       "[array([[0.00000000e+00, 5.00000000e+00, 0.00000000e+00],\n",
       "        [2.50125063e-03, 5.00000000e+00, 0.00000000e+00],\n",
       "        [5.00250125e-03, 5.00000000e+00, 0.00000000e+00],\n",
       "        ...,\n",
       "        [4.99499750e+00, 1.25711887e+00, 0.00000000e+00],\n",
       "        [4.99749875e+00, 1.05730511e+00, 0.00000000e+00],\n",
       "        [5.00000000e+00, 0.00000000e+00, 0.00000000e+00]]),\n",
       " array([[ 5.        , 10.        ,  0.        ],\n",
       "        [ 5.00250125,  9.84186635,  0.        ],\n",
       "        [ 5.0050025 ,  9.77639323,  0.        ],\n",
       "        ...,\n",
       "        [ 9.9949975 ,  5.0000025 ,  0.        ],\n",
       "        [ 9.99749875,  5.00000063,  0.        ],\n",
       "        [10.        ,  5.        ,  0.        ]])]"
      ]
     },
     "execution_count": 4,
     "metadata": {},
     "output_type": "execute_result"
    }
   ],
   "source": [
    "trajs"
   ]
  },
  {
   "cell_type": "code",
   "execution_count": 5,
   "metadata": {},
   "outputs": [
    {
     "data": {
      "text/plain": [
       "(np.float64(-0.5), np.float64(10.5), np.float64(-0.5), np.float64(10.5))"
      ]
     },
     "execution_count": 5,
     "metadata": {},
     "output_type": "execute_result"
    },
    {
     "data": {
      "image/png": "[encoded data removed]",
      "text/plain": [
       "<Figure size 500x300 with 1 Axes>"
      ]
     },
     "metadata": {},
     "output_type": "display_data"
    }
   ],
   "source": [
    "\n",
    "fig = plt.figure()\n",
    "fig.set_size_inches(5, 3)\n",
    "# compute fourier coefficients\n",
    "for itraj in trajs:\n",
    "\n",
    "    plt.plot(itraj[:,0], itraj[:,1], 'k')\n",
    "\n",
    "plt.axis('equal')"
   ]
  },
  {
   "cell_type": "code",
   "execution_count": 6,
   "metadata": {},
   "outputs": [],
   "source": [
    "radius = 1\n",
    "\n",
    "for i,itraj in enumerate(trajs):\n",
    "\n",
    "    file = \"output/mesh/yarn_\" + str(i) + \".brep\"\n",
    "\n",
    "    CreateYarn({\"trajs\": itraj, \n",
    "                \"radius\": radius, \n",
    "                \"num_points\": 20,\n",
    "                \"file\": file})"
   ]
  },
  {
   "cell_type": "code",
   "execution_count": 7,
   "metadata": {},
   "outputs": [],
   "source": [
    "from CompositeSandwich.CreateCompositeSandwich import CreateCompositeSandwich"
   ]
  },
  {
   "cell_type": "code",
   "execution_count": 8,
   "metadata": {},
   "outputs": [],
   "source": [
    "params_mesh = {\n",
    "    \"files\": [\"output/mesh/yarn_0.brep\", \n",
    "              \"output/mesh/yarn_1.brep\"],\n",
    "    \"inp_file\": \"output/mesh/sandwich.inp\",\n",
    "    \"trajs\": trajs,\n",
    "    \"radius\": radius,\n",
    "    \"r\": r\n",
    "}\n",
    "\n",
    "CreateCompositeSandwich(params_mesh);"
   ]
  },
  {
   "cell_type": "code",
   "execution_count": null,
   "metadata": {},
   "outputs": [],
   "source": []
  }
 ],
 "metadata": {
  "kernelspec": {
   "display_name": ".conda",
   "language": "python",
   "name": "python3"
  },
  "language_info": {
   "codemirror_mode": {
    "name": "ipython",
    "version": 3
   },
   "file_extension": ".py",
   "mimetype": "text/x-python",
   "name": "python",
   "nbconvert_exporter": "python",
   "pygments_lexer": "ipython3",
   "version": "3.13.0"
  }
 },
 "nbformat": 4,
 "nbformat_minor": 2
}
