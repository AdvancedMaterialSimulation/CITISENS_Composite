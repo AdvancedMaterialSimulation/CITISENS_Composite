{
 "cells": [
  {
   "cell_type": "code",
   "execution_count": 1,
   "metadata": {},
   "outputs": [],
   "source": [
    "from Composite.CreateLines.CreateLines import CreateLines\n",
    "from Composite.GenerateMeshRVE import GenerateMeshRVE"
   ]
  },
  {
   "cell_type": "code",
   "execution_count": 2,
   "metadata": {},
   "outputs": [
    {
     "name": "stdout",
     "output_type": "stream",
     "text": [
      "==================================================\n",
      "Design A\n",
      "==================================================\n",
      "Layer With Sign 1 and number 1/1 done\n",
      "Meshing ... \n",
      "Optimizing mesh ... \n",
      "Running Calculix at:  output\\designs\\A\\ccx\n",
      "Output file:  c:\\Users\\djoroya\\Documents\\GitHub\\CITISENS_Composite\\scripts\\AITEX\\output\\designs\\A\\ccx\\out.txt\n",
      "Command:\n",
      " mpiexec -n 4 c:\\Users\\djoroya\\Documents\\GitHub\\CITISENS_Composite\\.conda\\Lib\\site-packages\\djccx\\bin\\ccx_dynamic.exe main\n",
      "Error reading cvf file\n",
      "\n",
      "pid:  2688 \n",
      "\n",
      "Calculix finished\n",
      "\n",
      "--------------------------------------------------\n",
      "Done\n",
      "--------------------------------------------------\n"
     ]
    }
   ],
   "source": [
    "ouput_folder = \"output\\designs\"\n",
    "\n",
    "lines = {\n",
    "    \"r\": 2.5,\n",
    "    \"Nx_sq\": 1,\n",
    "    \"Ny_sq\": 1,\n",
    "    \"type\":  'sin' # 'circle' or 'sin'\n",
    "}\n",
    "\n",
    "lines = CreateLines(lines)\n",
    "\n",
    "for design in [\"A\"]:\n",
    "    print(50*\"=\")\n",
    "    print(\"Design %s\" % design)\n",
    "    print(50*\"=\")\n",
    "\n",
    "    GenerateMeshRVE(lines,design,ouput_folder)"
   ]
  }
 ],
 "metadata": {
  "kernelspec": {
   "display_name": ".conda",
   "language": "python",
   "name": "python3"
  },
  "language_info": {
   "codemirror_mode": {
    "name": "ipython",
    "version": 3
   },
   "file_extension": ".py",
   "mimetype": "text/x-python",
   "name": "python",
   "nbconvert_exporter": "python",
   "pygments_lexer": "ipython3",
   "version": "3.11.10"
  }
 },
 "nbformat": 4,
 "nbformat_minor": 2
}
