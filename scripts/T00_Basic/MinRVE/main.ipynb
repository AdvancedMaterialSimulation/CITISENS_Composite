{
 "cells": [
  {
   "cell_type": "code",
   "execution_count": 1,
   "metadata": {},
   "outputs": [],
   "source": [
    "import matplotlib.pyplot as plt\n",
    "import numpy as np\n",
    "from functions.CreateYarnGeneral import CreateYarn"
   ]
  },
  {
   "cell_type": "code",
   "execution_count": 2,
   "metadata": {},
   "outputs": [],
   "source": [
    "!rm -r output/\n",
    "!mkdir output/\n",
    "!mkdir output/mesh\n",
    "!mkdir output/ccx"
   ]
  },
  {
   "cell_type": "code",
   "execution_count": 3,
   "metadata": {},
   "outputs": [],
   "source": [
    "# cualquier curva periodica puede ser describida por una serie de fourier\n",
    "\n",
    "r = 5\n",
    "\n",
    "trajs =[]  \n",
    "\n",
    "fc1 = lambda x: np.sqrt(r**2 - x**2)\n",
    "\n",
    "nq = 2\n",
    "fc1 = lambda x: (r**nq - x**nq)**(1/nq)\n",
    "x12 = np.linspace(0,r,2000)\n",
    "y12 = fc1(x12)\n",
    "\n",
    "trajs.append( np.array([x12,y12, np.zeros_like(x12)]).T )\n",
    "\n",
    "# =============================================================================\n",
    "\n",
    "fc1 = lambda x: -np.sqrt(r**2 - (x-2*r)**2) + 2*r\n",
    "nq = 2\n",
    "fc1 = lambda x: -(r**nq - (x-2*r)**nq)**(1/nq) + 2*r\n",
    "x12 = np.linspace(r,2*r,2000)\n",
    "y12 = fc1(x12)\n",
    "\n",
    "trajs.append( np.array([x12,y12, np.zeros_like(x12)]).T )\n"
   ]
  },
  {
   "cell_type": "code",
   "execution_count": 4,
   "metadata": {},
   "outputs": [
    {
     "data": {
      "text/plain": [
       "(np.float64(-0.5), np.float64(10.5), np.float64(-0.5), np.float64(10.5))"
      ]
     },
     "execution_count": 4,
     "metadata": {},
     "output_type": "execute_result"
    },
    {
     "data": {
      "image/png": "[encoded data removed]",
      "text/plain": [
       "<Figure size 500x300 with 1 Axes>"
      ]
     },
     "metadata": {},
     "output_type": "display_data"
    }
   ],
   "source": [
    "\n",
    "fig = plt.figure()\n",
    "fig.set_size_inches(5, 3)\n",
    "# compute fourier coefficients\n",
    "for itraj in trajs:\n",
    "\n",
    "    plt.plot(itraj[:,0], itraj[:,1], 'k')\n",
    "\n",
    "plt.axis('equal')"
   ]
  },
  {
   "cell_type": "code",
   "execution_count": 5,
   "metadata": {},
   "outputs": [],
   "source": [
    "radius = 1\n",
    "\n",
    "first_vectors = [ [1, 0, 0] , [0, -1, 0] ]\n",
    "last_vectors  = [ [0, -1, 0], [1,  0, 0] ]\n",
    "\n",
    "\n",
    "for i,itraj in enumerate(trajs):\n",
    "\n",
    "    file = \"output/mesh/yarn_\" + str(i) + \".brep\"\n",
    "\n",
    "    CreateYarn({\"trajs\": itraj, \n",
    "                \"radius\": radius, \n",
    "                \"last_vector\": last_vectors[i],\n",
    "                \"first_vector\": first_vectors[i],\n",
    "                \"density\": 1,\n",
    "                \"file\": file})"
   ]
  },
  {
   "cell_type": "code",
   "execution_count": 6,
   "metadata": {},
   "outputs": [],
   "source": [
    "from functions.CreateCompositeMinRVE import CreateCompositeMinRVE"
   ]
  },
  {
   "cell_type": "code",
   "execution_count": 7,
   "metadata": {},
   "outputs": [],
   "source": [
    "params_mesh = {\n",
    "    \"files\": [\"output/mesh/yarn_0.brep\", \n",
    "              \"output/mesh/yarn_1.brep\"],\n",
    "    \"inp_file\": \"output/mesh/sandwich_pbc_min.inp\",\n",
    "    \"trajs\": trajs,\n",
    "    \"radius\": radius,\n",
    "    \"r\": r\n",
    "}\n",
    "\n",
    "CreateCompositeMinRVE(params_mesh);"
   ]
  },
  {
   "cell_type": "code",
   "execution_count": 8,
   "metadata": {},
   "outputs": [
    {
     "name": "stdout",
     "output_type": "stream",
     "text": [
      "Wine está instalado. Versión: wine-9.0\n",
      "Wine is installed. Calculix will be run with windows binary\n"
     ]
    }
   ],
   "source": [
    "from CompositeRVE.Simulation import Simulation"
   ]
  },
  {
   "cell_type": "code",
   "execution_count": 9,
   "metadata": {},
   "outputs": [],
   "source": [
    "from validation.experimental import carbonfiber,resina"
   ]
  },
  {
   "cell_type": "code",
   "execution_count": 10,
   "metadata": {},
   "outputs": [],
   "source": [
    "carbon_data = carbonfiber()\n",
    "resina_data = resina()"
   ]
  },
  {
   "cell_type": "code",
   "execution_count": 11,
   "metadata": {},
   "outputs": [
    {
     "data": {
      "text/plain": [
       "{'resistencia [kg/cm2]': 650,\n",
       " 'alargamiento rotura[%]': 0.025,\n",
       " 'resistencia [MPa]': 63.74322499999999,\n",
       " 'young modulus [MPa]': 2549.7289999999994,\n",
       " 'poisson ratio': 0.265}"
      ]
     },
     "execution_count": 11,
     "metadata": {},
     "output_type": "execute_result"
    }
   ],
   "source": [
    "resina_data"
   ]
  },
  {
   "cell_type": "code",
   "execution_count": 12,
   "metadata": {},
   "outputs": [],
   "source": [
    "Ecarbon_MPa = carbon_data[\"carbon\"].iloc[0][\"Young Modulus (GPa)\"]*1e-3\n",
    "poisson_carbon = carbon_data[\"poisson ratio\"]"
   ]
  },
  {
   "cell_type": "code",
   "execution_count": null,
   "metadata": {},
   "outputs": [],
   "source": []
  },
  {
   "cell_type": "code",
   "execution_count": 13,
   "metadata": {},
   "outputs": [],
   "source": [
    "materials = {\n",
    "    \"matrix\": { \"E\" : resina_data[\"young modulus [MPa]\"], \n",
    "                \"nu\": resina_data[\"poisson ratio\"] },\n",
    "    \"carbon\": { \"E\" : Ecarbon_MPa, \n",
    "                \"nu\": poisson_carbon }\n",
    "}\n",
    "\n",
    "params_sim = {\n",
    "    \"mesh\": params_mesh,\n",
    "    \"output\": \"output/ccx/\",\n",
    "    \"epsilon\": 0.125,\n",
    "    \"nsteps\":5,\n",
    "    \"materials\": materials\n",
    "}\n"
   ]
  },
  {
   "cell_type": "code",
   "execution_count": 14,
   "metadata": {},
   "outputs": [
    {
     "data": {
      "text/plain": [
       "'output/mesh/sandwich_pbc_min.inp'"
      ]
     },
     "execution_count": 14,
     "metadata": {},
     "output_type": "execute_result"
    }
   ],
   "source": [
    "params_sim[\"mesh\"][\"inp_file\"]"
   ]
  },
  {
   "cell_type": "code",
   "execution_count": 15,
   "metadata": {},
   "outputs": [
    {
     "name": "stdout",
     "output_type": "stream",
     "text": [
      "Running Calculix at:  output/ccx/\n",
      "Output file:  /home/djoroya/Documents/CITISENS_Composite/scripts/MinRVE/output/ccx/out.txt\n",
      "Command:\n",
      " wine /home/djoroya/Documents/CITISENS_Composite/.conda/lib/python3.13/site-packages/djccx/bin/ccx_dynamic.exe main > out.txt\n",
      "Error reading cvf file\n",
      "\n",
      "pid:  61691 \n",
      "\n",
      "Calculix finished\n",
      "\n"
     ]
    }
   ],
   "source": [
    "frd = Simulation(params_sim)"
   ]
  },
  {
   "cell_type": "code",
   "execution_count": 16,
   "metadata": {},
   "outputs": [
    {
     "data": {
      "text/plain": [
       "{'mesh': {'files': ['output/mesh/yarn_0.brep', 'output/mesh/yarn_1.brep'],\n",
       "  'inp_file': 'output/mesh/sandwich_pbc_min.inp',\n",
       "  'trajs': [array([[0.00000000e+00, 5.00000000e+00, 0.00000000e+00],\n",
       "          [2.50125063e-03, 4.99999937e+00, 0.00000000e+00],\n",
       "          [5.00250125e-03, 4.99999750e+00, 0.00000000e+00],\n",
       "          ...,\n",
       "          [4.99499750e+00, 2.23606770e-01, 0.00000000e+00],\n",
       "          [4.99749875e+00, 1.58133646e-01, 0.00000000e+00],\n",
       "          [5.00000000e+00, 0.00000000e+00, 0.00000000e+00]], shape=(2000, 3)),\n",
       "   array([[ 5.        , 10.        ,  0.        ],\n",
       "          [ 5.00250125,  9.84186635,  0.        ],\n",
       "          [ 5.0050025 ,  9.77639323,  0.        ],\n",
       "          ...,\n",
       "          [ 9.9949975 ,  5.0000025 ,  0.        ],\n",
       "          [ 9.99749875,  5.00000063,  0.        ],\n",
       "          [10.        ,  5.        ,  0.        ]], shape=(2000, 3))],\n",
       "  'radius': 1,\n",
       "  'r': 5,\n",
       "  'results': {'circle_x_min': array([   1,   23,   24,   25,   26,   27,   28,   29,   30,   31,   32,\n",
       "            33,   34,   35,   36,   37,   38,   39,   40,   41,   42,   43,\n",
       "            44,   45,   46,   47,   48,   49,   50,   51,   52,   53,   54,\n",
       "            55,   56,   57,   58,   59,   60,   61,   62,   63, 1230, 1231,\n",
       "          1232, 1233, 1234, 1235, 1236, 1237, 1238, 1239, 1240, 1241, 1242,\n",
       "          1243, 1244, 1245, 1246, 1247, 1248, 1249, 1250, 1251, 1252, 1253,\n",
       "          1254, 1255, 1256, 1257, 1258, 1259, 1260, 1261, 1262, 1263, 1264,\n",
       "          1265, 1266, 1267, 1268, 1269, 1270, 1271, 1272, 1273, 1274, 1275,\n",
       "          1276, 1277, 1278, 1279, 1280, 1281, 1282, 1283, 1284, 1285, 1286,\n",
       "          1287, 1288, 1289, 1290, 1291, 1292, 1293, 1294, 1295, 1296, 1297,\n",
       "          1298, 1299, 1300, 1301, 1302, 1303, 1304, 1305, 1306, 1307, 1308,\n",
       "          1309, 1310, 1311, 1312, 1313, 1314, 1315, 1316, 1317, 1318, 1319,\n",
       "          1320, 1321, 1322, 1323, 1324, 1325, 1326, 1327, 1328, 1329, 1330,\n",
       "          1331, 1332, 1333, 1334, 1335, 1336, 1337, 1338, 1339, 1340, 1341,\n",
       "          1342, 1343, 1344, 1345, 1346, 1347, 1348, 1349, 1350, 1351, 1352,\n",
       "          1353, 1354, 1355, 1356, 1357, 1358, 1359, 1360, 1361, 1362, 1363,\n",
       "          1364, 1365, 1366, 1367, 1368, 1369, 1370, 1371], dtype=uint64),\n",
       "   'circle_x_max': array([  14,  664,  665,  666,  667,  668,  669,  670,  671,  672,  673,\n",
       "           674,  675,  676,  677,  678,  679,  680,  681,  682,  683,  684,\n",
       "           685,  686,  687,  688,  689,  690,  691,  692,  693,  694,  695,\n",
       "           696,  697,  698,  699,  700,  701,  702,  703,  704, 6271, 6272,\n",
       "          6273, 6274, 6275, 6276, 6277, 6278, 6279, 6280, 6281, 6282, 6283,\n",
       "          6284, 6285, 6286, 6287, 6288, 6289, 6290, 6291, 6292, 6293, 6294,\n",
       "          6295, 6296, 6297, 6298, 6299, 6300, 6301, 6302, 6303, 6304, 6305,\n",
       "          6306, 6307, 6308, 6309, 6310, 6311, 6312, 6313, 6314, 6315, 6316,\n",
       "          6317, 6318, 6319, 6320, 6321, 6322, 6323, 6324, 6325, 6326, 6327,\n",
       "          6328, 6329, 6330, 6331, 6332, 6333, 6334, 6335, 6336, 6337, 6338,\n",
       "          6339, 6340, 6341, 6342, 6343, 6344, 6345, 6346, 6347, 6348, 6349,\n",
       "          6350, 6351, 6352, 6353, 6354, 6355, 6356, 6357, 6358, 6359, 6360,\n",
       "          6361, 6362, 6363, 6364, 6365, 6366, 6367, 6368, 6369, 6370, 6371,\n",
       "          6372, 6373, 6374, 6375, 6376, 6377, 6378, 6379, 6380, 6381, 6382,\n",
       "          6383, 6384, 6385, 6386, 6387, 6388, 6389, 6390, 6391, 6392, 6393,\n",
       "          6394, 6395, 6396, 6397, 6398, 6399, 6400, 6401, 6402, 6403, 6404,\n",
       "          6405, 6406, 6407, 6408, 6409, 6410, 6411, 6412], dtype=uint64),\n",
       "   'circle_y_min': array([   7,  323,  324,  325,  326,  327,  328,  329,  330,  331,  332,\n",
       "           333,  334,  335,  336,  337,  338,  339,  340,  341,  342,  343,\n",
       "           344,  345,  346,  347,  348,  349,  350,  351,  352,  353,  354,\n",
       "           355,  356,  357,  358,  359,  360,  361,  362,  363, 3517, 3518,\n",
       "          3519, 3520, 3521, 3522, 3523, 3524, 3525, 3526, 3527, 3528, 3529,\n",
       "          3530, 3531, 3532, 3533, 3534, 3535, 3536, 3537, 3538, 3539, 3540,\n",
       "          3541, 3542, 3543, 3544, 3545, 3546, 3547, 3548, 3549, 3550, 3551,\n",
       "          3552, 3553, 3554, 3555, 3556, 3557, 3558, 3559, 3560, 3561, 3562,\n",
       "          3563, 3564, 3565, 3566, 3567, 3568, 3569, 3570, 3571, 3572, 3573,\n",
       "          3574, 3575, 3576, 3577, 3578, 3579, 3580, 3581, 3582, 3583, 3584,\n",
       "          3585, 3586, 3587, 3588, 3589, 3590, 3591, 3592, 3593, 3594, 3595,\n",
       "          3596, 3597, 3598, 3599, 3600, 3601, 3602, 3603, 3604, 3605, 3606,\n",
       "          3607, 3608, 3609, 3610, 3611, 3612, 3613, 3614, 3615, 3616, 3617,\n",
       "          3618, 3619, 3620, 3621, 3622, 3623, 3624, 3625, 3626, 3627, 3628,\n",
       "          3629, 3630, 3631, 3632, 3633, 3634, 3635, 3636, 3637, 3638, 3639,\n",
       "          3640, 3641, 3642, 3643, 3644, 3645, 3646, 3647, 3648, 3649, 3650,\n",
       "          3651, 3652, 3653, 3654, 3655, 3656, 3657, 3658], dtype=uint64),\n",
       "   'circle_y_max': array([   8,  364,  365,  366,  367,  368,  369,  370,  371,  372,  373,\n",
       "           374,  375,  376,  377,  378,  379,  380,  381,  382,  383,  384,\n",
       "           385,  386,  387,  388,  389,  390,  391,  392,  393,  394,  395,\n",
       "           396,  397,  398,  399,  400,  401,  402,  403,  404, 4076, 4077,\n",
       "          4078, 4079, 4080, 4081, 4082, 4083, 4084, 4085, 4086, 4087, 4088,\n",
       "          4089, 4090, 4091, 4092, 4093, 4094, 4095, 4096, 4097, 4098, 4099,\n",
       "          4100, 4101, 4102, 4103, 4104, 4105, 4106, 4107, 4108, 4109, 4110,\n",
       "          4111, 4112, 4113, 4114, 4115, 4116, 4117, 4118, 4119, 4120, 4121,\n",
       "          4122, 4123, 4124, 4125, 4126, 4127, 4128, 4129, 4130, 4131, 4132,\n",
       "          4133, 4134, 4135, 4136, 4137, 4138, 4139, 4140, 4141, 4142, 4143,\n",
       "          4144, 4145, 4146, 4147, 4148, 4149, 4150, 4151, 4152, 4153, 4154,\n",
       "          4155, 4156, 4157, 4158, 4159, 4160, 4161, 4162, 4163, 4164, 4165,\n",
       "          4166, 4167, 4168, 4169, 4170, 4171, 4172, 4173, 4174, 4175, 4176,\n",
       "          4177, 4178, 4179, 4180, 4181, 4182, 4183, 4184, 4185, 4186, 4187,\n",
       "          4188, 4189, 4190, 4191, 4192, 4193, 4194, 4195, 4196, 4197, 4198,\n",
       "          4199, 4200, 4201, 4202, 4203, 4204, 4205, 4206, 4207, 4208, 4209,\n",
       "          4210, 4211, 4212, 4213, 4214, 4215, 4216, 4217], dtype=uint64),\n",
       "   'rectangular_x_min': array([   1,   15,   16,   17,   18,   23,   24,   25,   26,   27,   28,\n",
       "            29,   30,   31,   32,   33,   34,   35,   36,   37,   38,   39,\n",
       "            40,   41,   42,   43,   44,   45,   46,   47,   48,   49,   50,\n",
       "            51,   52,   53,   54,   55,   56,   57,   58,   59,   60,   61,\n",
       "            62,   63,  705,  706,  707,  708,  709,  710,  711,  712,  713,\n",
       "           714,  715,  716,  717,  718,  719,  720,  721,  722,  723,  724,\n",
       "           725,  726,  727,  728,  729,  730,  731,  732,  733,  734,  735,\n",
       "           736,  737,  738,  739,  740, 6413, 6414, 6415, 6416, 6417, 6418,\n",
       "          6419, 6420, 6421, 6422, 6423, 6424, 6425, 6426, 6427, 6428, 6429,\n",
       "          6430, 6431, 6432, 6433, 6434, 6435, 6436, 6437, 6438, 6439, 6440,\n",
       "          6441, 6442, 6443, 6444, 6445, 6446, 6447, 6448, 6449, 6450, 6451,\n",
       "          6452, 6453, 6454, 6455, 6456, 6457, 6458, 6459, 6460, 6461, 6462,\n",
       "          6463, 6464, 6465, 6466, 6467, 6468, 6469, 6470, 6471, 6472, 6473,\n",
       "          6474, 6475, 6476, 6477, 6478, 6479, 6480, 6481, 6482, 6483, 6484,\n",
       "          6485, 6486, 6487, 6488, 6489, 6490, 6491, 6492, 6493, 6494, 6495,\n",
       "          6496, 6497, 6498, 6499, 6500, 6501, 6502, 6503, 6504, 6505, 6506,\n",
       "          6507, 6508, 6509, 6510, 6511, 6512, 6513, 6514, 6515, 6516, 6517,\n",
       "          6518, 6519, 6520, 6521, 6522, 6523, 6524, 6525, 6526, 6527, 6528,\n",
       "          6529, 6530, 6531, 6532, 6533, 6534, 6535, 6536, 6537, 6538, 6539,\n",
       "          6540, 6541, 6542, 6543, 6544, 6545, 6546, 6547, 6548, 6549, 6550,\n",
       "          6551, 6552, 6553, 6554, 6555, 6556, 6557, 6558, 6559, 6560, 6561],\n",
       "         dtype=uint64),\n",
       "   'rectangular_x_max': array([  14,   19,   20,   21,   22,  664,  665,  666,  667,  668,  669,\n",
       "           670,  671,  672,  673,  674,  675,  676,  677,  678,  679,  680,\n",
       "           681,  682,  683,  684,  685,  686,  687,  688,  689,  690,  691,\n",
       "           692,  693,  694,  695,  696,  697,  698,  699,  700,  701,  702,\n",
       "           703,  704,  754,  755,  756,  757,  758,  785,  786,  787,  788,\n",
       "           789,  790,  791,  792,  793,  794,  795,  796,  797,  811,  812,\n",
       "           813,  814,  815,  816,  817,  818,  819,  820,  821,  822,  823,\n",
       "           824,  825,  826,  827,  828, 7310, 7311, 7312, 7313, 7314, 7315,\n",
       "          7316, 7317, 7318, 7319, 7320, 7321, 7322, 7323, 7324, 7325, 7326,\n",
       "          7327, 7328, 7329, 7330, 7331, 7332, 7333, 7334, 7335, 7336, 7337,\n",
       "          7338, 7339, 7340, 7341, 7342, 7343, 7344, 7345, 7346, 7347, 7348,\n",
       "          7349, 7350, 7351, 7352, 7353, 7354, 7355, 7356, 7357, 7358, 7359,\n",
       "          7360, 7361, 7362, 7363, 7364, 7365, 7366, 7367, 7368, 7369, 7370,\n",
       "          7371, 7372, 7373, 7374, 7375, 7376, 7377, 7378, 7379, 7380, 7381,\n",
       "          7382, 7383, 7384, 7385, 7386, 7387, 7388, 7389, 7390, 7391, 7392,\n",
       "          7393, 7394, 7395, 7396, 7397, 7398, 7399, 7400, 7401, 7402, 7403,\n",
       "          7404, 7405, 7406, 7407, 7408, 7409, 7410, 7411, 7412, 7413, 7414,\n",
       "          7415, 7416, 7417, 7418, 7419, 7420, 7421, 7422, 7423, 7424, 7425,\n",
       "          7426, 7427, 7428, 7429, 7430, 7431, 7432, 7433, 7434, 7435, 7436,\n",
       "          7437, 7438, 7439, 7440, 7441, 7442, 7443, 7444, 7445, 7446, 7447,\n",
       "          7448, 7449, 7450, 7451, 7452, 7453, 7454, 7455, 7456, 7457, 7458],\n",
       "         dtype=uint64),\n",
       "   'rectangular_y_min': array([   7,   15,   16,   19,   20,  323,  324,  325,  326,  327,  328,\n",
       "           329,  330,  331,  332,  333,  334,  335,  336,  337,  338,  339,\n",
       "           340,  341,  342,  343,  344,  345,  346,  347,  348,  349,  350,\n",
       "           351,  352,  353,  354,  355,  356,  357,  358,  359,  360,  361,\n",
       "           362,  363,  705,  706,  707,  708,  709,  741,  742,  743,  744,\n",
       "           745,  746,  747,  748,  749,  750,  751,  752,  753,  754,  755,\n",
       "           756,  757,  758,  759,  760,  761,  762,  763,  764,  765,  766,\n",
       "           767,  768,  769,  770,  771, 6562, 6563, 6564, 6565, 6566, 6567,\n",
       "          6568, 6569, 6570, 6571, 6572, 6573, 6574, 6575, 6576, 6577, 6578,\n",
       "          6579, 6580, 6581, 6582, 6583, 6584, 6585, 6586, 6587, 6588, 6589,\n",
       "          6590, 6591, 6592, 6593, 6594, 6595, 6596, 6597, 6598, 6599, 6600,\n",
       "          6601, 6602, 6603, 6604, 6605, 6606, 6607, 6608, 6609, 6610, 6611,\n",
       "          6612, 6613, 6614, 6615, 6616, 6617, 6618, 6619, 6620, 6621, 6622,\n",
       "          6623, 6624, 6625, 6626, 6627, 6628, 6629, 6630, 6631, 6632, 6633,\n",
       "          6634, 6635, 6636, 6637, 6638, 6639, 6640, 6641, 6642, 6643, 6644,\n",
       "          6645, 6646, 6647, 6648, 6649, 6650, 6651, 6652, 6653, 6654, 6655,\n",
       "          6656, 6657, 6658, 6659, 6660, 6661, 6662, 6663, 6664, 6665, 6666,\n",
       "          6667, 6668, 6669, 6670, 6671, 6672, 6673, 6674, 6675, 6676, 6677,\n",
       "          6678, 6679, 6680, 6681, 6682, 6683, 6684, 6685, 6686, 6687, 6688,\n",
       "          6689, 6690, 6691, 6692, 6693, 6694, 6695, 6696, 6697, 6698, 6699,\n",
       "          6700, 6701, 6702, 6703, 6704, 6705, 6706, 6707, 6708, 6709, 6710],\n",
       "         dtype=uint64),\n",
       "   'rectangular_y_max': array([   8,   17,   18,   21,   22,  364,  365,  366,  367,  368,  369,\n",
       "           370,  371,  372,  373,  374,  375,  376,  377,  378,  379,  380,\n",
       "           381,  382,  383,  384,  385,  386,  387,  388,  389,  390,  391,\n",
       "           392,  393,  394,  395,  396,  397,  398,  399,  400,  401,  402,\n",
       "           403,  404,  736,  737,  738,  739,  740,  772,  773,  774,  775,\n",
       "           776,  777,  778,  779,  780,  781,  782,  783,  784,  798,  799,\n",
       "           800,  801,  802,  803,  804,  805,  806,  807,  808,  809,  810,\n",
       "           824,  825,  826,  827,  828, 7161, 7162, 7163, 7164, 7165, 7166,\n",
       "          7167, 7168, 7169, 7170, 7171, 7172, 7173, 7174, 7175, 7176, 7177,\n",
       "          7178, 7179, 7180, 7181, 7182, 7183, 7184, 7185, 7186, 7187, 7188,\n",
       "          7189, 7190, 7191, 7192, 7193, 7194, 7195, 7196, 7197, 7198, 7199,\n",
       "          7200, 7201, 7202, 7203, 7204, 7205, 7206, 7207, 7208, 7209, 7210,\n",
       "          7211, 7212, 7213, 7214, 7215, 7216, 7217, 7218, 7219, 7220, 7221,\n",
       "          7222, 7223, 7224, 7225, 7226, 7227, 7228, 7229, 7230, 7231, 7232,\n",
       "          7233, 7234, 7235, 7236, 7237, 7238, 7239, 7240, 7241, 7242, 7243,\n",
       "          7244, 7245, 7246, 7247, 7248, 7249, 7250, 7251, 7252, 7253, 7254,\n",
       "          7255, 7256, 7257, 7258, 7259, 7260, 7261, 7262, 7263, 7264, 7265,\n",
       "          7266, 7267, 7268, 7269, 7270, 7271, 7272, 7273, 7274, 7275, 7276,\n",
       "          7277, 7278, 7279, 7280, 7281, 7282, 7283, 7284, 7285, 7286, 7287,\n",
       "          7288, 7289, 7290, 7291, 7292, 7293, 7294, 7295, 7296, 7297, 7298,\n",
       "          7299, 7300, 7301, 7302, 7303, 7304, 7305, 7306, 7307, 7308, 7309],\n",
       "         dtype=uint64),\n",
       "   'x_min': array([   1,   15,   16,   17,   18,   23,   24,   25,   26,   27,   28,\n",
       "            29,   30,   31,   32,   33,   34,   35,   36,   37,   38,   39,\n",
       "            40,   41,   42,   43,   44,   45,   46,   47,   48,   49,   50,\n",
       "            51,   52,   53,   54,   55,   56,   57,   58,   59,   60,   61,\n",
       "            62,   63,  705,  706,  707,  708,  709,  710,  711,  712,  713,\n",
       "           714,  715,  716,  717,  718,  719,  720,  721,  722,  723,  724,\n",
       "           725,  726,  727,  728,  729,  730,  731,  732,  733,  734,  735,\n",
       "           736,  737,  738,  739,  740, 1230, 1231, 1232, 1233, 1234, 1235,\n",
       "          1236, 1237, 1238, 1239, 1240, 1241, 1242, 1243, 1244, 1245, 1246,\n",
       "          1247, 1248, 1249, 1250, 1251, 1252, 1253, 1254, 1255, 1256, 1257,\n",
       "          1258, 1259, 1260, 1261, 1262, 1263, 1264, 1265, 1266, 1267, 1268,\n",
       "          1269, 1270, 1271, 1272, 1273, 1274, 1275, 1276, 1277, 1278, 1279,\n",
       "          1280, 1281, 1282, 1283, 1284, 1285, 1286, 1287, 1288, 1289, 1290,\n",
       "          1291, 1292, 1293, 1294, 1295, 1296, 1297, 1298, 1299, 1300, 1301,\n",
       "          1302, 1303, 1304, 1305, 1306, 1307, 1308, 1309, 1310, 1311, 1312,\n",
       "          1313, 1314, 1315, 1316, 1317, 1318, 1319, 1320, 1321, 1322, 1323,\n",
       "          1324, 1325, 1326, 1327, 1328, 1329, 1330, 1331, 1332, 1333, 1334,\n",
       "          1335, 1336, 1337, 1338, 1339, 1340, 1341, 1342, 1343, 1344, 1345,\n",
       "          1346, 1347, 1348, 1349, 1350, 1351, 1352, 1353, 1354, 1355, 1356,\n",
       "          1357, 1358, 1359, 1360, 1361, 1362, 1363, 1364, 1365, 1366, 1367,\n",
       "          1368, 1369, 1370, 1371, 6413, 6414, 6415, 6416, 6417, 6418, 6419,\n",
       "          6420, 6421, 6422, 6423, 6424, 6425, 6426, 6427, 6428, 6429, 6430,\n",
       "          6431, 6432, 6433, 6434, 6435, 6436, 6437, 6438, 6439, 6440, 6441,\n",
       "          6442, 6443, 6444, 6445, 6446, 6447, 6448, 6449, 6450, 6451, 6452,\n",
       "          6453, 6454, 6455, 6456, 6457, 6458, 6459, 6460, 6461, 6462, 6463,\n",
       "          6464, 6465, 6466, 6467, 6468, 6469, 6470, 6471, 6472, 6473, 6474,\n",
       "          6475, 6476, 6477, 6478, 6479, 6480, 6481, 6482, 6483, 6484, 6485,\n",
       "          6486, 6487, 6488, 6489, 6490, 6491, 6492, 6493, 6494, 6495, 6496,\n",
       "          6497, 6498, 6499, 6500, 6501, 6502, 6503, 6504, 6505, 6506, 6507,\n",
       "          6508, 6509, 6510, 6511, 6512, 6513, 6514, 6515, 6516, 6517, 6518,\n",
       "          6519, 6520, 6521, 6522, 6523, 6524, 6525, 6526, 6527, 6528, 6529,\n",
       "          6530, 6531, 6532, 6533, 6534, 6535, 6536, 6537, 6538, 6539, 6540,\n",
       "          6541, 6542, 6543, 6544, 6545, 6546, 6547, 6548, 6549, 6550, 6551,\n",
       "          6552, 6553, 6554, 6555, 6556, 6557, 6558, 6559, 6560, 6561],\n",
       "         dtype=uint64),\n",
       "   'x_max': array([  14,   19,   20,   21,   22,  664,  665,  666,  667,  668,  669,\n",
       "           670,  671,  672,  673,  674,  675,  676,  677,  678,  679,  680,\n",
       "           681,  682,  683,  684,  685,  686,  687,  688,  689,  690,  691,\n",
       "           692,  693,  694,  695,  696,  697,  698,  699,  700,  701,  702,\n",
       "           703,  704,  754,  755,  756,  757,  758,  785,  786,  787,  788,\n",
       "           789,  790,  791,  792,  793,  794,  795,  796,  797,  811,  812,\n",
       "           813,  814,  815,  816,  817,  818,  819,  820,  821,  822,  823,\n",
       "           824,  825,  826,  827,  828, 6271, 6272, 6273, 6274, 6275, 6276,\n",
       "          6277, 6278, 6279, 6280, 6281, 6282, 6283, 6284, 6285, 6286, 6287,\n",
       "          6288, 6289, 6290, 6291, 6292, 6293, 6294, 6295, 6296, 6297, 6298,\n",
       "          6299, 6300, 6301, 6302, 6303, 6304, 6305, 6306, 6307, 6308, 6309,\n",
       "          6310, 6311, 6312, 6313, 6314, 6315, 6316, 6317, 6318, 6319, 6320,\n",
       "          6321, 6322, 6323, 6324, 6325, 6326, 6327, 6328, 6329, 6330, 6331,\n",
       "          6332, 6333, 6334, 6335, 6336, 6337, 6338, 6339, 6340, 6341, 6342,\n",
       "          6343, 6344, 6345, 6346, 6347, 6348, 6349, 6350, 6351, 6352, 6353,\n",
       "          6354, 6355, 6356, 6357, 6358, 6359, 6360, 6361, 6362, 6363, 6364,\n",
       "          6365, 6366, 6367, 6368, 6369, 6370, 6371, 6372, 6373, 6374, 6375,\n",
       "          6376, 6377, 6378, 6379, 6380, 6381, 6382, 6383, 6384, 6385, 6386,\n",
       "          6387, 6388, 6389, 6390, 6391, 6392, 6393, 6394, 6395, 6396, 6397,\n",
       "          6398, 6399, 6400, 6401, 6402, 6403, 6404, 6405, 6406, 6407, 6408,\n",
       "          6409, 6410, 6411, 6412, 7310, 7311, 7312, 7313, 7314, 7315, 7316,\n",
       "          7317, 7318, 7319, 7320, 7321, 7322, 7323, 7324, 7325, 7326, 7327,\n",
       "          7328, 7329, 7330, 7331, 7332, 7333, 7334, 7335, 7336, 7337, 7338,\n",
       "          7339, 7340, 7341, 7342, 7343, 7344, 7345, 7346, 7347, 7348, 7349,\n",
       "          7350, 7351, 7352, 7353, 7354, 7355, 7356, 7357, 7358, 7359, 7360,\n",
       "          7361, 7362, 7363, 7364, 7365, 7366, 7367, 7368, 7369, 7370, 7371,\n",
       "          7372, 7373, 7374, 7375, 7376, 7377, 7378, 7379, 7380, 7381, 7382,\n",
       "          7383, 7384, 7385, 7386, 7387, 7388, 7389, 7390, 7391, 7392, 7393,\n",
       "          7394, 7395, 7396, 7397, 7398, 7399, 7400, 7401, 7402, 7403, 7404,\n",
       "          7405, 7406, 7407, 7408, 7409, 7410, 7411, 7412, 7413, 7414, 7415,\n",
       "          7416, 7417, 7418, 7419, 7420, 7421, 7422, 7423, 7424, 7425, 7426,\n",
       "          7427, 7428, 7429, 7430, 7431, 7432, 7433, 7434, 7435, 7436, 7437,\n",
       "          7438, 7439, 7440, 7441, 7442, 7443, 7444, 7445, 7446, 7447, 7448,\n",
       "          7449, 7450, 7451, 7452, 7453, 7454, 7455, 7456, 7457, 7458],\n",
       "         dtype=uint64),\n",
       "   'y_min': array([   7,   15,   16,   19,   20,  323,  324,  325,  326,  327,  328,\n",
       "           329,  330,  331,  332,  333,  334,  335,  336,  337,  338,  339,\n",
       "           340,  341,  342,  343,  344,  345,  346,  347,  348,  349,  350,\n",
       "           351,  352,  353,  354,  355,  356,  357,  358,  359,  360,  361,\n",
       "           362,  363,  705,  706,  707,  708,  709,  741,  742,  743,  744,\n",
       "           745,  746,  747,  748,  749,  750,  751,  752,  753,  754,  755,\n",
       "           756,  757,  758,  759,  760,  761,  762,  763,  764,  765,  766,\n",
       "           767,  768,  769,  770,  771, 3517, 3518, 3519, 3520, 3521, 3522,\n",
       "          3523, 3524, 3525, 3526, 3527, 3528, 3529, 3530, 3531, 3532, 3533,\n",
       "          3534, 3535, 3536, 3537, 3538, 3539, 3540, 3541, 3542, 3543, 3544,\n",
       "          3545, 3546, 3547, 3548, 3549, 3550, 3551, 3552, 3553, 3554, 3555,\n",
       "          3556, 3557, 3558, 3559, 3560, 3561, 3562, 3563, 3564, 3565, 3566,\n",
       "          3567, 3568, 3569, 3570, 3571, 3572, 3573, 3574, 3575, 3576, 3577,\n",
       "          3578, 3579, 3580, 3581, 3582, 3583, 3584, 3585, 3586, 3587, 3588,\n",
       "          3589, 3590, 3591, 3592, 3593, 3594, 3595, 3596, 3597, 3598, 3599,\n",
       "          3600, 3601, 3602, 3603, 3604, 3605, 3606, 3607, 3608, 3609, 3610,\n",
       "          3611, 3612, 3613, 3614, 3615, 3616, 3617, 3618, 3619, 3620, 3621,\n",
       "          3622, 3623, 3624, 3625, 3626, 3627, 3628, 3629, 3630, 3631, 3632,\n",
       "          3633, 3634, 3635, 3636, 3637, 3638, 3639, 3640, 3641, 3642, 3643,\n",
       "          3644, 3645, 3646, 3647, 3648, 3649, 3650, 3651, 3652, 3653, 3654,\n",
       "          3655, 3656, 3657, 3658, 6562, 6563, 6564, 6565, 6566, 6567, 6568,\n",
       "          6569, 6570, 6571, 6572, 6573, 6574, 6575, 6576, 6577, 6578, 6579,\n",
       "          6580, 6581, 6582, 6583, 6584, 6585, 6586, 6587, 6588, 6589, 6590,\n",
       "          6591, 6592, 6593, 6594, 6595, 6596, 6597, 6598, 6599, 6600, 6601,\n",
       "          6602, 6603, 6604, 6605, 6606, 6607, 6608, 6609, 6610, 6611, 6612,\n",
       "          6613, 6614, 6615, 6616, 6617, 6618, 6619, 6620, 6621, 6622, 6623,\n",
       "          6624, 6625, 6626, 6627, 6628, 6629, 6630, 6631, 6632, 6633, 6634,\n",
       "          6635, 6636, 6637, 6638, 6639, 6640, 6641, 6642, 6643, 6644, 6645,\n",
       "          6646, 6647, 6648, 6649, 6650, 6651, 6652, 6653, 6654, 6655, 6656,\n",
       "          6657, 6658, 6659, 6660, 6661, 6662, 6663, 6664, 6665, 6666, 6667,\n",
       "          6668, 6669, 6670, 6671, 6672, 6673, 6674, 6675, 6676, 6677, 6678,\n",
       "          6679, 6680, 6681, 6682, 6683, 6684, 6685, 6686, 6687, 6688, 6689,\n",
       "          6690, 6691, 6692, 6693, 6694, 6695, 6696, 6697, 6698, 6699, 6700,\n",
       "          6701, 6702, 6703, 6704, 6705, 6706, 6707, 6708, 6709, 6710],\n",
       "         dtype=uint64),\n",
       "   'y_max': array([   8,   17,   18,   21,   22,  364,  365,  366,  367,  368,  369,\n",
       "           370,  371,  372,  373,  374,  375,  376,  377,  378,  379,  380,\n",
       "           381,  382,  383,  384,  385,  386,  387,  388,  389,  390,  391,\n",
       "           392,  393,  394,  395,  396,  397,  398,  399,  400,  401,  402,\n",
       "           403,  404,  736,  737,  738,  739,  740,  772,  773,  774,  775,\n",
       "           776,  777,  778,  779,  780,  781,  782,  783,  784,  798,  799,\n",
       "           800,  801,  802,  803,  804,  805,  806,  807,  808,  809,  810,\n",
       "           824,  825,  826,  827,  828, 4076, 4077, 4078, 4079, 4080, 4081,\n",
       "          4082, 4083, 4084, 4085, 4086, 4087, 4088, 4089, 4090, 4091, 4092,\n",
       "          4093, 4094, 4095, 4096, 4097, 4098, 4099, 4100, 4101, 4102, 4103,\n",
       "          4104, 4105, 4106, 4107, 4108, 4109, 4110, 4111, 4112, 4113, 4114,\n",
       "          4115, 4116, 4117, 4118, 4119, 4120, 4121, 4122, 4123, 4124, 4125,\n",
       "          4126, 4127, 4128, 4129, 4130, 4131, 4132, 4133, 4134, 4135, 4136,\n",
       "          4137, 4138, 4139, 4140, 4141, 4142, 4143, 4144, 4145, 4146, 4147,\n",
       "          4148, 4149, 4150, 4151, 4152, 4153, 4154, 4155, 4156, 4157, 4158,\n",
       "          4159, 4160, 4161, 4162, 4163, 4164, 4165, 4166, 4167, 4168, 4169,\n",
       "          4170, 4171, 4172, 4173, 4174, 4175, 4176, 4177, 4178, 4179, 4180,\n",
       "          4181, 4182, 4183, 4184, 4185, 4186, 4187, 4188, 4189, 4190, 4191,\n",
       "          4192, 4193, 4194, 4195, 4196, 4197, 4198, 4199, 4200, 4201, 4202,\n",
       "          4203, 4204, 4205, 4206, 4207, 4208, 4209, 4210, 4211, 4212, 4213,\n",
       "          4214, 4215, 4216, 4217, 7161, 7162, 7163, 7164, 7165, 7166, 7167,\n",
       "          7168, 7169, 7170, 7171, 7172, 7173, 7174, 7175, 7176, 7177, 7178,\n",
       "          7179, 7180, 7181, 7182, 7183, 7184, 7185, 7186, 7187, 7188, 7189,\n",
       "          7190, 7191, 7192, 7193, 7194, 7195, 7196, 7197, 7198, 7199, 7200,\n",
       "          7201, 7202, 7203, 7204, 7205, 7206, 7207, 7208, 7209, 7210, 7211,\n",
       "          7212, 7213, 7214, 7215, 7216, 7217, 7218, 7219, 7220, 7221, 7222,\n",
       "          7223, 7224, 7225, 7226, 7227, 7228, 7229, 7230, 7231, 7232, 7233,\n",
       "          7234, 7235, 7236, 7237, 7238, 7239, 7240, 7241, 7242, 7243, 7244,\n",
       "          7245, 7246, 7247, 7248, 7249, 7250, 7251, 7252, 7253, 7254, 7255,\n",
       "          7256, 7257, 7258, 7259, 7260, 7261, 7262, 7263, 7264, 7265, 7266,\n",
       "          7267, 7268, 7269, 7270, 7271, 7272, 7273, 7274, 7275, 7276, 7277,\n",
       "          7278, 7279, 7280, 7281, 7282, 7283, 7284, 7285, 7286, 7287, 7288,\n",
       "          7289, 7290, 7291, 7292, 7293, 7294, 7295, 7296, 7297, 7298, 7299,\n",
       "          7300, 7301, 7302, 7303, 7304, 7305, 7306, 7307, 7308, 7309],\n",
       "         dtype=uint64)}},\n",
       " 'output': 'output/ccx/',\n",
       " 'epsilon': 0.125,\n",
       " 'nsteps': 5,\n",
       " 'materials': {'matrix': {'E': 2549.7289999999994, 'nu': 0.265},\n",
       "  'carbon': {'E': np.float64(0.23), 'nu': 0.3}},\n",
       " 'displ': np.float64(1.25)}"
      ]
     },
     "execution_count": 16,
     "metadata": {},
     "output_type": "execute_result"
    }
   ],
   "source": [
    "params_sim"
   ]
  },
  {
   "cell_type": "code",
   "execution_count": 17,
   "metadata": {},
   "outputs": [],
   "source": [
    "from loadsavejson.savejson import savejson\n",
    "\n",
    "savejson(params_sim,\"output/ccx/params.json\")"
   ]
  }
 ],
 "metadata": {
  "kernelspec": {
   "display_name": ".conda",
   "language": "python",
   "name": "python3"
  },
  "language_info": {
   "codemirror_mode": {
    "name": "ipython",
    "version": 3
   },
   "file_extension": ".py",
   "mimetype": "text/x-python",
   "name": "python",
   "nbconvert_exporter": "python",
   "pygments_lexer": "ipython3",
   "version": "3.13.0"
  }
 },
 "nbformat": 4,
 "nbformat_minor": 2
}
