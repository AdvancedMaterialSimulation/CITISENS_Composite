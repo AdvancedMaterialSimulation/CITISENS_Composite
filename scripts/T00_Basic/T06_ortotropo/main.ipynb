{
 "cells": [
  {
   "cell_type": "code",
   "execution_count": 1,
   "metadata": {},
   "outputs": [],
   "source": [
    "import gmsh\n",
    "import sys\n",
    "from CompositeSandwich.box_labeling import box_labeling\n",
    "\n",
    "gmsh.initialize()\n",
    "\n",
    "# Crear el modelo\n",
    "gmsh.model.add(\"Anisotropic_Box\")\n",
    "\n",
    "# Dimensiones de la caja\n",
    "Lx, Ly, Lz = 10, 10, 2\n",
    "\n",
    "# Crear la caja\n",
    "box = gmsh.model.occ.addBox(0, 0, 0, Lx, Ly, Lz)\n",
    "gmsh.model.occ.synchronize()\n",
    "\n",
    "ph = gmsh.model.addPhysicalGroup(3, [box])\n",
    "gmsh.model.setPhysicalName(3, ph, \"box\")\n",
    "\n",
    "box_labeling(box, \"box\")\n",
    "# Crear la malla\n",
    "gmsh.model.mesh.generate(3)\n",
    "\n",
    "# quadratic\n",
    "gmsh.model.mesh.setOrder(2)\n",
    "# Guardar la malla en formato CalculiX\n",
    "gmsh.write(\"anisotropic_box.inp\")\n",
    "\n",
    "# Finalizar Gmsh\n",
    "gmsh.finalize()\n"
   ]
  },
  {
   "cell_type": "code",
   "execution_count": 2,
   "metadata": {},
   "outputs": [],
   "source": [
    "from djccx.inp.inp import  inp\n"
   ]
  },
  {
   "cell_type": "code",
   "execution_count": 3,
   "metadata": {},
   "outputs": [],
   "source": [
    "inp_f = inp(\"anisotropic_box.inp\")"
   ]
  },
  {
   "cell_type": "code",
   "execution_count": 4,
   "metadata": {},
   "outputs": [],
   "source": [
    "E1 = 100\n",
    "E2 = 10\n",
    "E3 = 10\n",
    "nu12 = 0.3\n",
    "nu13 = 0.3\n",
    "nu23 = 0.3\n",
    "G12 = 5\n",
    "G13 = 5\n",
    "G23 = 5\n",
    "\n",
    "material = inp_f.CreateElasticEngineeringMaterial(\"MAT1\", E1, E2, E3, nu12, nu13, nu23, G12, G13, G23)"
   ]
  },
  {
   "cell_type": "code",
   "execution_count": 5,
   "metadata": {},
   "outputs": [
    {
     "data": {
      "text/plain": [
       "array([Card (None) :*HEADING, Card (*NODE) :*NODE,\n",
       "       Card (*ELEMENT) :SURFACE1, Card (*ELEMENT) :SURFACE2,\n",
       "       Card (*ELEMENT) :SURFACE3, Card (*ELEMENT) :SURFACE4,\n",
       "       Card (*ELEMENT) :SURFACE5, Card (*ELEMENT) :SURFACE6,\n",
       "       Card (*ELEMENT) :VOLUME1, Card (*ELSET) :BOX_X0,\n",
       "       Card (*ELSET) :BOX_XL, Card (*ELSET) :BOX_Y0,\n",
       "       Card (*ELSET) :BOX_YL, Card (*ELSET) :BOX_Z0,\n",
       "       Card (*ELSET) :BOX_ZL, Card (*ELSET) :BOX, Card (*MATERIAL) :MAT1],\n",
       "      dtype=object)"
      ]
     },
     "execution_count": 5,
     "metadata": {},
     "output_type": "execute_result"
    }
   ],
   "source": [
    "inp_f.cards"
   ]
  },
  {
   "cell_type": "code",
   "execution_count": 6,
   "metadata": {},
   "outputs": [],
   "source": [
    "orientation = inp_f.CreateOrientation(\"OR1\",[1,0,0],[0,1,0])\n",
    "\n",
    "elset_bot = inp_f.select(\"BOX_Y0\",\"elset\")\n",
    "elset_top = inp_f.select(\"BOX_YL\",\"elset\")\n",
    "\n",
    "x_min = inp_f.select(\"BOX_X0\",\"elset\")\n",
    "x_max = inp_f.select(\"BOX_XL\",\"elset\")\n",
    "\n",
    "nset_bot = inp_f.CreateNsetFromElset(elset_bot,\"nset_bot\")\n",
    "nset_top = inp_f.CreateNsetFromElset(elset_top,\"nset_top\")\n",
    "\n",
    "nset_x_min = inp_f.CreateNsetFromElset(x_min,\"nset_x_min\")\n",
    "nset_x_max = inp_f.CreateNsetFromElset(x_max,\"nset_x_max\")\n",
    "\n",
    "\n",
    "inp_f.remove_by_type(2)\n",
    "\n",
    "allelset = inp_f.CreateElsetAll()"
   ]
  },
  {
   "cell_type": "code",
   "execution_count": 7,
   "metadata": {},
   "outputs": [
    {
     "data": {
      "text/plain": [
       "*BOUNDARY\n",
       "NSET_X_MAX, 1, 0.0"
      ]
     },
     "execution_count": 7,
     "metadata": {},
     "output_type": "execute_result"
    }
   ],
   "source": [
    "inp_f.CreateSolidSection(allelset,material,orientation=orientation)\n",
    "\n",
    "step = inp_f.CreateStaticStep()\n",
    "\n",
    "step.CreateBoundary(nset_bot,2,0.0)\n",
    "step.CreateBoundary(nset_top,2,1.0)\n",
    "\n",
    "# remove 2d \n",
    "step.CreateBoundary(nset_x_min,1,0.0)\n",
    "step.CreateBoundary(nset_x_max,1,0.0)\n",
    "\n"
   ]
  },
  {
   "cell_type": "code",
   "execution_count": null,
   "metadata": {},
   "outputs": [],
   "source": []
  },
  {
   "cell_type": "code",
   "execution_count": null,
   "metadata": {},
   "outputs": [],
   "source": []
  },
  {
   "cell_type": "code",
   "execution_count": 8,
   "metadata": {},
   "outputs": [
    {
     "data": {
      "text/plain": [
       "[Card (None) :*HEADING,\n",
       " Card (*NODE) :*NODE,\n",
       " Card (*ELEMENT) :VOLUME1,\n",
       " Card (*ELSET) :BOX_X0,\n",
       " Card (*ELSET) :BOX_XL,\n",
       " Card (*ELSET) :BOX_Y0,\n",
       " Card (*ELSET) :BOX_YL,\n",
       " Card (*ELSET) :BOX_Z0,\n",
       " Card (*ELSET) :BOX_ZL,\n",
       " Card (*ELSET) :BOX,\n",
       " Card (*MATERIAL) :MAT1,\n",
       " Card (*ORIENTATION) :OR1,\n",
       " Card (*NSET) :NSET_BOT,\n",
       " Card (*NSET) :NSET_TOP,\n",
       " Card (*NSET) :NSET_X_MIN,\n",
       " Card (*NSET) :NSET_X_MAX,\n",
       " Card (*ELSETOFELSET) :ALL,\n",
       " Card (*SOLIDSECTION) :SOLID_SECTION,\n",
       " Card (*STEP) :STEP]"
      ]
     },
     "execution_count": 8,
     "metadata": {},
     "output_type": "execute_result"
    }
   ],
   "source": [
    "inp_f.cards.tolist()"
   ]
  },
  {
   "cell_type": "code",
   "execution_count": 9,
   "metadata": {},
   "outputs": [],
   "source": [
    "inp_f.print(\"ccx.inp\")"
   ]
  },
  {
   "cell_type": "code",
   "execution_count": 10,
   "metadata": {},
   "outputs": [
    {
     "name": "stdout",
     "output_type": "stream",
     "text": [
      "Running Calculix at:  output\n",
      "Output file:  c:\\Users\\djoroya\\Documents\\GitHub\\CITISENS_Composite_v2\\scripts\\T06_ortotropo\\output\\out.txt\n",
      "Command:\n",
      " C:\\Program Files\\Microsoft MPI\\Bin\\mpiexec -n 4 c:\\Users\\djoroya\\Documents\\GitHub\\CITISENS_Composite_v2\\.conda\\Lib\\site-packages\\djccx\\bin\\ccx_dynamic.exe main\n",
      "Error reading cvf file\n",
      "\n",
      "pid:  11876 \n",
      "\n",
      "Calculix finished\n",
      "\n"
     ]
    },
    {
     "data": {
      "text/plain": [
       "{'data':       node          x          y    z            D1        D2        D3  \\\n",
       " node                                                                      \n",
       " 1        1   0.000000   0.000000  2.0  0.000000e+00  0.000000 -0.147431   \n",
       " 2        2   0.000000   0.000000  0.0  0.000000e+00  0.000000 -0.085070   \n",
       " 3        3   0.000000  10.000000  2.0  0.000000e+00  1.000000 -0.147431   \n",
       " 4        4   0.000000  10.000000  0.0  0.000000e+00  1.000000 -0.085070   \n",
       " 5        5  10.000000   0.000000  2.0  0.000000e+00  0.000000 -0.147431   \n",
       " ...    ...        ...        ...  ...           ...       ...       ...   \n",
       " 1031  1031   0.662605   7.846230  0.5 -3.250870e-17  0.784623 -0.100660   \n",
       " 1032  1032   7.843540   9.340170  1.5  1.774680e-16  0.934017 -0.131840   \n",
       " 1033  1033   7.852940   0.656582  1.5 -7.386100e-17  0.065658 -0.131840   \n",
       " 1034  1034   4.985050   0.648127  1.5 -1.516640e-16  0.064813 -0.131840   \n",
       " 1035  1035   3.305420   4.282630  1.0  1.040620e-18  0.428263 -0.116250   \n",
       " \n",
       "            SXX      SYY           SZZ  ...           EYZ           EZX  \\\n",
       " node                                   ...                               \n",
       " 1     0.302722  1.00907  1.454010e-15  ... -2.139360e-17  2.415490e-19   \n",
       " 2     0.302722  1.00907 -4.092450e-16  ...  8.068440e-17  6.079570e-18   \n",
       " 3     0.302722  1.00907  1.370440e-16  ...  5.124600e-16 -1.236840e-16   \n",
       " 4     0.302722  1.00907 -1.570340e-15  ... -3.830710e-16 -4.619610e-18   \n",
       " 5     0.302722  1.00907  1.990900e-15  ... -4.017530e-17  4.002830e-18   \n",
       " ...        ...      ...           ...  ...           ...           ...   \n",
       " 1031  0.302722  1.00907 -5.840550e-16  ...  3.386470e-16  3.812510e-17   \n",
       " 1032  0.302722  1.00907 -1.310640e-16  ... -7.356370e-17 -3.864490e-16   \n",
       " 1033  0.302722  1.00907  6.224870e-16  ...  1.902810e-17 -6.849890e-17   \n",
       " 1034  0.302722  1.00907 -6.316230e-16  ... -3.288590e-17  5.960200e-17   \n",
       " 1035  0.302722  1.00907 -3.603390e-16  ... -5.836180e-17  8.591780e-17   \n",
       " \n",
       "                 F1            F2            F3        STR(%)  S_von_mises  \\\n",
       " node                                                                        \n",
       " 1     2.090240e-11  6.967450e-11  3.009860e-17  1.254260e-13     0.896881   \n",
       " 2     3.636220e-11  1.212070e-10 -9.228830e-17  6.601390e-14     0.896881   \n",
       " 3     3.636220e-11 -6.967450e-11  2.820210e-16  2.970620e-13     0.896881   \n",
       " 4     2.090320e-11 -1.212060e-10 -4.732870e-17  8.977890e-13     0.896881   \n",
       " 5    -2.090220e-11  6.967460e-11  1.568560e-16  1.056220e-13     0.896881   \n",
       " ...            ...           ...           ...           ...          ...   \n",
       " 1031 -8.049120e-16 -4.357630e-15  7.386240e-16  5.743210e-13     0.896881   \n",
       " 1032 -6.036840e-16  1.082470e-14 -6.797100e-16  5.083070e-13     0.896881   \n",
       " 1033 -2.844950e-16  3.885780e-16  1.218340e-16  1.947410e-13     0.896881   \n",
       " 1034 -1.192620e-17  4.440890e-16 -5.985900e-16  1.287270e-13     0.896881   \n",
       " 1035 -1.295420e-15 -1.739420e-16  4.581610e-16  3.102650e-13     0.896881   \n",
       " \n",
       "            P1        P2            P3  \n",
       " node                                   \n",
       " 1     1.00907  0.302722  1.454010e-15  \n",
       " 2     1.00907  0.302722 -4.063235e-16  \n",
       " 3     1.00907  0.302722  1.360782e-16  \n",
       " 4     1.00907  0.302722 -1.570351e-15  \n",
       " 5     1.00907  0.302722  2.109424e-15  \n",
       " ...       ...       ...           ...  \n",
       " 1031  1.00907  0.302722 -5.523708e-16  \n",
       " 1032  1.00907  0.302722 -1.617436e-16  \n",
       " 1033  1.00907  0.302722  6.285863e-16  \n",
       " 1034  1.00907  0.302722 -6.114944e-16  \n",
       " 1035  1.00907  0.302722 -3.497305e-16  \n",
       " \n",
       " [1035 rows x 27 columns],\n",
       " 'mesh': array([[330, 368, 547, ..., 749, 750, 665],\n",
       "        [554, 553, 552, ..., 751, 753, 752],\n",
       "        [539, 330, 547, ..., 604, 749, 665],\n",
       "        ...,\n",
       "        [365, 356, 544, ..., 486, 484, 790],\n",
       "        [366, 545, 349, ..., 492, 907, 490],\n",
       "        [366, 349, 545, ..., 937, 878, 697]], shape=(474, 10)),\n",
       " 'steps': array(['step_01_01'], dtype='<U10'),\n",
       " 'data_blocks': [      node          x          y    z            D1        D2        D3  \\\n",
       "  node                                                                      \n",
       "  1        1   0.000000   0.000000  2.0  0.000000e+00  0.000000 -0.147431   \n",
       "  2        2   0.000000   0.000000  0.0  0.000000e+00  0.000000 -0.085070   \n",
       "  3        3   0.000000  10.000000  2.0  0.000000e+00  1.000000 -0.147431   \n",
       "  4        4   0.000000  10.000000  0.0  0.000000e+00  1.000000 -0.085070   \n",
       "  5        5  10.000000   0.000000  2.0  0.000000e+00  0.000000 -0.147431   \n",
       "  ...    ...        ...        ...  ...           ...       ...       ...   \n",
       "  1031  1031   0.662605   7.846230  0.5 -3.250870e-17  0.784623 -0.100660   \n",
       "  1032  1032   7.843540   9.340170  1.5  1.774680e-16  0.934017 -0.131840   \n",
       "  1033  1033   7.852940   0.656582  1.5 -7.386100e-17  0.065658 -0.131840   \n",
       "  1034  1034   4.985050   0.648127  1.5 -1.516640e-16  0.064813 -0.131840   \n",
       "  1035  1035   3.305420   4.282630  1.0  1.040620e-18  0.428263 -0.116250   \n",
       "  \n",
       "             SXX      SYY           SZZ  ...           EYZ           EZX  \\\n",
       "  node                                   ...                               \n",
       "  1     0.302722  1.00907  1.454010e-15  ... -2.139360e-17  2.415490e-19   \n",
       "  2     0.302722  1.00907 -4.092450e-16  ...  8.068440e-17  6.079570e-18   \n",
       "  3     0.302722  1.00907  1.370440e-16  ...  5.124600e-16 -1.236840e-16   \n",
       "  4     0.302722  1.00907 -1.570340e-15  ... -3.830710e-16 -4.619610e-18   \n",
       "  5     0.302722  1.00907  1.990900e-15  ... -4.017530e-17  4.002830e-18   \n",
       "  ...        ...      ...           ...  ...           ...           ...   \n",
       "  1031  0.302722  1.00907 -5.840550e-16  ...  3.386470e-16  3.812510e-17   \n",
       "  1032  0.302722  1.00907 -1.310640e-16  ... -7.356370e-17 -3.864490e-16   \n",
       "  1033  0.302722  1.00907  6.224870e-16  ...  1.902810e-17 -6.849890e-17   \n",
       "  1034  0.302722  1.00907 -6.316230e-16  ... -3.288590e-17  5.960200e-17   \n",
       "  1035  0.302722  1.00907 -3.603390e-16  ... -5.836180e-17  8.591780e-17   \n",
       "  \n",
       "                  F1            F2            F3        STR(%)  S_von_mises  \\\n",
       "  node                                                                        \n",
       "  1     2.090240e-11  6.967450e-11  3.009860e-17  1.254260e-13     0.896881   \n",
       "  2     3.636220e-11  1.212070e-10 -9.228830e-17  6.601390e-14     0.896881   \n",
       "  3     3.636220e-11 -6.967450e-11  2.820210e-16  2.970620e-13     0.896881   \n",
       "  4     2.090320e-11 -1.212060e-10 -4.732870e-17  8.977890e-13     0.896881   \n",
       "  5    -2.090220e-11  6.967460e-11  1.568560e-16  1.056220e-13     0.896881   \n",
       "  ...            ...           ...           ...           ...          ...   \n",
       "  1031 -8.049120e-16 -4.357630e-15  7.386240e-16  5.743210e-13     0.896881   \n",
       "  1032 -6.036840e-16  1.082470e-14 -6.797100e-16  5.083070e-13     0.896881   \n",
       "  1033 -2.844950e-16  3.885780e-16  1.218340e-16  1.947410e-13     0.896881   \n",
       "  1034 -1.192620e-17  4.440890e-16 -5.985900e-16  1.287270e-13     0.896881   \n",
       "  1035 -1.295420e-15 -1.739420e-16  4.581610e-16  3.102650e-13     0.896881   \n",
       "  \n",
       "             P1        P2            P3  \n",
       "  node                                   \n",
       "  1     1.00907  0.302722  1.454010e-15  \n",
       "  2     1.00907  0.302722 -4.063235e-16  \n",
       "  3     1.00907  0.302722  1.360782e-16  \n",
       "  4     1.00907  0.302722 -1.570351e-15  \n",
       "  5     1.00907  0.302722  2.109424e-15  \n",
       "  ...       ...       ...           ...  \n",
       "  1031  1.00907  0.302722 -5.523708e-16  \n",
       "  1032  1.00907  0.302722 -1.617436e-16  \n",
       "  1033  1.00907  0.302722  6.285863e-16  \n",
       "  1034  1.00907  0.302722 -6.114944e-16  \n",
       "  1035  1.00907  0.302722 -3.497305e-16  \n",
       "  \n",
       "  [1035 rows x 27 columns]]}"
      ]
     },
     "execution_count": 10,
     "metadata": {},
     "output_type": "execute_result"
    }
   ],
   "source": [
    "inp_f.run(\"output\")"
   ]
  },
  {
   "cell_type": "code",
   "execution_count": null,
   "metadata": {},
   "outputs": [],
   "source": []
  }
 ],
 "metadata": {
  "kernelspec": {
   "display_name": "Python 3",
   "language": "python",
   "name": "python3"
  },
  "language_info": {
   "codemirror_mode": {
    "name": "ipython",
    "version": 3
   },
   "file_extension": ".py",
   "mimetype": "text/x-python",
   "name": "python",
   "nbconvert_exporter": "python",
   "pygments_lexer": "ipython3",
   "version": "3.13.2"
  }
 },
 "nbformat": 4,
 "nbformat_minor": 2
}
