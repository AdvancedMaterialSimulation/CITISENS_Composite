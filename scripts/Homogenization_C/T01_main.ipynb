{
 "cells": [
  {
   "cell_type": "code",
   "execution_count": 1,
   "metadata": {},
   "outputs": [],
   "source": [
    "\n",
    "import os \n",
    "from copy import deepcopy\n",
    "from Composite.RunFullModel import RunFullModel\n",
    "join = os.path.join"
   ]
  },
  {
   "cell_type": "code",
   "execution_count": 2,
   "metadata": {},
   "outputs": [],
   "source": [
    "params_composite ={\n",
    "    \"r\"         :  0.25,\n",
    "    \"h\"         :  0.65,\n",
    "    \"z0\"        :  2.82/2,\n",
    "    \"density\"   : 8,\n",
    "    \"interface_factor\"  :  1.2,\n",
    "    \"with_interface\"    : False,\n",
    "    \"mirror\"            : True,\n",
    "    \"check_jacobian\"    : False,\n",
    "}\n",
    "\n",
    "params_ccx = {\n",
    "    \"epsilon\" : 0.1,\n",
    "}\n",
    "params = {\n",
    "    \"mesh\" : params_composite,\n",
    "    \"ccx\"  : params_ccx,\n",
    "}"
   ]
  },
  {
   "cell_type": "code",
   "execution_count": null,
   "metadata": {},
   "outputs": [],
   "source": []
  },
  {
   "cell_type": "code",
   "execution_count": 3,
   "metadata": {},
   "outputs": [],
   "source": [
    "import numpy as np"
   ]
  },
  {
   "cell_type": "code",
   "execution_count": 4,
   "metadata": {},
   "outputs": [
    {
     "data": {
      "text/plain": [
       "array([0.2  , 0.225, 0.25 , 0.275, 0.3  ])"
      ]
     },
     "execution_count": 4,
     "metadata": {},
     "output_type": "execute_result"
    }
   ],
   "source": [
    "np.linspace(0.2 ,0.3,5)"
   ]
  },
  {
   "cell_type": "code",
   "execution_count": 5,
   "metadata": {},
   "outputs": [
    {
     "data": {
      "text/plain": [
       "array([0.15 , 0.175, 0.2  , 0.225, 0.25 ])"
      ]
     },
     "execution_count": 5,
     "metadata": {},
     "output_type": "execute_result"
    }
   ],
   "source": [
    "r_span = np.linspace(0.15 ,0.25,5)\n",
    "r_span"
   ]
  },
  {
   "cell_type": "code",
   "execution_count": null,
   "metadata": {},
   "outputs": [
    {
     "name": "stdout",
     "output_type": "stream",
     "text": [
      "Running case  output\\r_00\n",
      "\t==================================================\n",
      "\tDesign C\n",
      "\t==================================================\n",
      "Layer With Sign 1 and number 1/2 done\n",
      "Layer With Sign 1 and number 2/2 done\n",
      "Meshing ... \n",
      "Optimizing mesh ... \n",
      "\t==================================================\n",
      "\tCCX C\n",
      "\t==================================================\n",
      "Input folder: \t output\\r_00\\designs\\C\n",
      "Output folder: \t output\\r_00\\ccx\\C\n",
      "Running Calculix at:  output\\r_00\\ccx\\C\n",
      "Output file:  c:\\Users\\djoroya\\Documents\\GitHub\\CITISENS_Composite\\scripts\\Homogenization_C\\output\\r_00\\ccx\\C\\out.txt\n",
      "Command:\n",
      " mpiexec -n 4 c:\\Users\\djoroya\\Documents\\GitHub\\CITISENS_Composite\\.conda\\Lib\\site-packages\\djccx\\bin\\ccx_dynamic.exe main\n",
      "Error reading cvf file\n",
      "\n",
      "pid:  10708 \n",
      "\n",
      "Calculix finished\n",
      "\n",
      "Running case  output\\r_01\n",
      "\t==================================================\n",
      "\tDesign C\n",
      "\t==================================================\n",
      "Layer With Sign 1 and number 1/2 done\n",
      "Layer With Sign 1 and number 2/2 done\n",
      "Meshing ... \n",
      "Optimizing mesh ... \n",
      "\t==================================================\n",
      "\tCCX C\n",
      "\t==================================================\n",
      "Input folder: \t output\\r_01\\designs\\C\n",
      "Output folder: \t output\\r_01\\ccx\\C\n",
      "Running Calculix at:  output\\r_01\\ccx\\C\n",
      "Output file:  c:\\Users\\djoroya\\Documents\\GitHub\\CITISENS_Composite\\scripts\\Homogenization_C\\output\\r_01\\ccx\\C\\out.txt\n",
      "Command:\n",
      " mpiexec -n 4 c:\\Users\\djoroya\\Documents\\GitHub\\CITISENS_Composite\\.conda\\Lib\\site-packages\\djccx\\bin\\ccx_dynamic.exe main\n",
      "Error reading cvf file\n",
      "\n",
      "pid:  3620 \n",
      "\n",
      "Calculix finished\n",
      "\n",
      "Running case  output\\r_02\n",
      "\t==================================================\n",
      "\tDesign C\n",
      "\t==================================================\n",
      "Layer With Sign 1 and number 1/2 done\n",
      "Layer With Sign 1 and number 2/2 done\n",
      "Meshing ... \n",
      "Optimizing mesh ... \n",
      "\t==================================================\n",
      "\tCCX C\n",
      "\t==================================================\n",
      "Input folder: \t output\\r_02\\designs\\C\n",
      "Output folder: \t output\\r_02\\ccx\\C\n",
      "Running Calculix at:  output\\r_02\\ccx\\C\n",
      "Output file:  c:\\Users\\djoroya\\Documents\\GitHub\\CITISENS_Composite\\scripts\\Homogenization_C\\output\\r_02\\ccx\\C\\out.txt\n",
      "Command:\n",
      " mpiexec -n 4 c:\\Users\\djoroya\\Documents\\GitHub\\CITISENS_Composite\\.conda\\Lib\\site-packages\\djccx\\bin\\ccx_dynamic.exe main\n",
      "Error reading cvf file\n",
      "\n",
      "pid:  6600 \n",
      "\n",
      "Calculix finished\n",
      "\n",
      "Running case  output\\r_03\n",
      "\t==================================================\n",
      "\tDesign C\n",
      "\t==================================================\n",
      "Layer With Sign 1 and number 1/2 done\n",
      "Layer With Sign 1 and number 2/2 done\n",
      "Meshing ... \n",
      "Optimizing mesh ... \n",
      "\t==================================================\n",
      "\tCCX C\n",
      "\t==================================================\n",
      "Input folder: \t output\\r_03\\designs\\C\n",
      "Output folder: \t output\\r_03\\ccx\\C\n",
      "Running Calculix at:  output\\r_03\\ccx\\C\n",
      "Output file:  c:\\Users\\djoroya\\Documents\\GitHub\\CITISENS_Composite\\scripts\\Homogenization_C\\output\\r_03\\ccx\\C\\out.txt\n",
      "Command:\n",
      " mpiexec -n 4 c:\\Users\\djoroya\\Documents\\GitHub\\CITISENS_Composite\\.conda\\Lib\\site-packages\\djccx\\bin\\ccx_dynamic.exe main\n",
      "Error reading cvf file\n",
      "\n",
      "pid:  4024 \n",
      "\n",
      "Calculix finished\n",
      "\n",
      "Running case  output\\r_04\n",
      "\t==================================================\n",
      "\tDesign C\n",
      "\t==================================================\n",
      "Layer With Sign 1 and number 1/2 done\n",
      "Layer With Sign 1 and number 2/2 done\n",
      "Meshing ... \n",
      "Optimizing mesh ... \n",
      "\t==================================================\n",
      "\tCCX C\n",
      "\t==================================================\n",
      "Input folder: \t output\\r_04\\designs\\C\n",
      "Output folder: \t output\\r_04\\ccx\\C\n",
      "Running Calculix at:  output\\r_04\\ccx\\C\n",
      "Output file:  c:\\Users\\djoroya\\Documents\\GitHub\\CITISENS_Composite\\scripts\\Homogenization_C\\output\\r_04\\ccx\\C\\out.txt\n",
      "Command:\n",
      " mpiexec -n 4 c:\\Users\\djoroya\\Documents\\GitHub\\CITISENS_Composite\\.conda\\Lib\\site-packages\\djccx\\bin\\ccx_dynamic.exe main\n",
      "Error reading cvf file\n",
      "\n",
      "pid:  13060 \n",
      "\n",
      "Calculix finished\n",
      "\n"
     ]
    }
   ],
   "source": [
    "design = \"C\"\n",
    "for j,ir in enumerate(r_span):\n",
    "\n",
    "    # Generate mesh and RVE\n",
    "    params_copy = deepcopy(params)\n",
    "    params_copy[\"mesh\"][\"r\"] = ir\n",
    "\n",
    "    root = join(\"output\",\"r_{:02d}\".format(j))\n",
    "    print(\"Running case \",root)\n",
    "\n",
    "    RunFullModel(design,root,params_copy)\n",
    "\n",
    "    "
   ]
  },
  {
   "cell_type": "code",
   "execution_count": 7,
   "metadata": {},
   "outputs": [],
   "source": [
    "from djccx.frd.readfrd import readfrd"
   ]
  },
  {
   "cell_type": "code",
   "execution_count": 8,
   "metadata": {},
   "outputs": [],
   "source": [
    "import glob,os\n",
    "join = os.path.join"
   ]
  },
  {
   "cell_type": "code",
   "execution_count": 9,
   "metadata": {},
   "outputs": [
    {
     "data": {
      "text/plain": [
       "['output\\\\r_00\\\\ccx\\\\C\\\\main.frd',\n",
       " 'output\\\\r_01\\\\ccx\\\\C\\\\main.frd',\n",
       " 'output\\\\r_02\\\\ccx\\\\C\\\\main.frd',\n",
       " 'output\\\\r_03\\\\ccx\\\\C\\\\main.frd',\n",
       " 'output\\\\r_04\\\\ccx\\\\C\\\\main.frd']"
      ]
     },
     "execution_count": 9,
     "metadata": {},
     "output_type": "execute_result"
    }
   ],
   "source": [
    "frd_files = glob.glob(join(\"output\",\"r_*\",\"ccx\",\"C\",\"*.frd\"),recursive=True)\n",
    "frd_files"
   ]
  },
  {
   "cell_type": "code",
   "execution_count": 20,
   "metadata": {},
   "outputs": [],
   "source": []
  },
  {
   "cell_type": "code",
   "execution_count": 10,
   "metadata": {},
   "outputs": [],
   "source": [
    "ancho = params_composite[\"z0\"] + 0.5*params_composite[\"h\"]\n",
    "largo = 10 \n",
    "A = ancho*largo\n",
    "\n",
    "def compute_Fapl(iffiles):\n",
    "    ifrd = readfrd(iffiles)\n",
    "    df = ifrd[\"data\"]\n",
    "    Fapl = np.sum(df[\"F2\"]*(df[\"y\"] > df[\"y\"].mean()))\n",
    "\n",
    "    return Fapl\n",
    "\n",
    "Fapl = [compute_Fapl(f) for f in frd_files]\n",
    "Sapl = [f/A for f in Fapl]\n",
    "E_eff = [s / params[\"ccx\"][\"epsilon\"] for s in Sapl]"
   ]
  },
  {
   "cell_type": "code",
   "execution_count": 67,
   "metadata": {},
   "outputs": [],
   "source": []
  },
  {
   "cell_type": "code",
   "execution_count": 11,
   "metadata": {},
   "outputs": [],
   "source": [
    "# *MATERIAL, NAME=MATRIX\n",
    "# *ELASTIC\n",
    "# 2549.7289999999994,0.265\n",
    "\n",
    "# *MATERIAL, NAME=CARBON\n",
    "# *ELASTIC\n",
    "# 230000.0,0.3\n",
    "\n",
    "E_m = 2549.729 \n",
    "E_c = 230000.0\n",
    "\n",
    "E_eff_analytical = E_m + E_c * params[\"ccx\"][\"epsilon\"]"
   ]
  },
  {
   "cell_type": "code",
   "execution_count": 12,
   "metadata": {},
   "outputs": [
    {
     "data": {
      "image/png": "[encoded data removed]",
      "text/plain": [
       "<Figure size 640x480 with 1 Axes>"
      ]
     },
     "metadata": {},
     "output_type": "display_data"
    }
   ],
   "source": [
    "from matplotlib import pyplot as plt\n",
    "plt.plot(r_span,Fapl,\"o-\",label=\"Fapl\")\n",
    "plt.ylabel(r\"$F_{\\text{apl}} \\ [N]$\")\n",
    "plt.xlabel(\"Radius [mm]\")\n",
    "# grid\n",
    "plt.grid()"
   ]
  },
  {
   "cell_type": "code",
   "execution_count": 13,
   "metadata": {},
   "outputs": [
    {
     "ename": "NameError",
     "evalue": "name 'inp' is not defined",
     "output_type": "error",
     "traceback": [
      "\u001b[1;31m---------------------------------------------------------------------------\u001b[0m",
      "\u001b[1;31mNameError\u001b[0m                                 Traceback (most recent call last)",
      "Cell \u001b[1;32mIn[13], line 1\u001b[0m\n\u001b[1;32m----> 1\u001b[0m \u001b[43minp\u001b[49m\n",
      "\u001b[1;31mNameError\u001b[0m: name 'inp' is not defined"
     ]
    }
   ],
   "source": [
    "inp"
   ]
  }
 ],
 "metadata": {
  "kernelspec": {
   "display_name": ".conda",
   "language": "python",
   "name": "python3"
  },
  "language_info": {
   "codemirror_mode": {
    "name": "ipython",
    "version": 3
   },
   "file_extension": ".py",
   "mimetype": "text/x-python",
   "name": "python",
   "nbconvert_exporter": "python",
   "pygments_lexer": "ipython3",
   "version": "3.11.10"
  }
 },
 "nbformat": 4,
 "nbformat_minor": 2
}
