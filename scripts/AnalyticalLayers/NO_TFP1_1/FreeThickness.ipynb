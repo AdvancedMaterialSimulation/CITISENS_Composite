{
 "cells": [
  {
   "cell_type": "code",
   "execution_count": 1,
   "metadata": {},
   "outputs": [],
   "source": [
    "import pandas as pd\n",
    "from matplotlib import pyplot as plt\n",
    "import numpy as np\n",
    "from validation.experimental import  nucleo"
   ]
  },
  {
   "cell_type": "code",
   "execution_count": 2,
   "metadata": {},
   "outputs": [],
   "source": [
    "t_nucleo_exp_inches = 0.11\n",
    "t_nucleo_exp = t_nucleo_exp_inches * 25.4\n",
    "\n",
    "Tau_jorge_inches = 0.191\n",
    "Tau_jorge = Tau_jorge_inches * 25.4"
   ]
  },
  {
   "cell_type": "code",
   "execution_count": 3,
   "metadata": {},
   "outputs": [
    {
     "name": "stdout",
     "output_type": "stream",
     "text": [
      "0.8\n"
     ]
    }
   ],
   "source": [
    "E_nucleo_exp_Mpa = nucleo()[\"young modulus [MPa]\"]\n",
    "E_nucleo_exp = E_nucleo_exp_Mpa/1000\n",
    "print(E_nucleo_exp)"
   ]
  },
  {
   "cell_type": "code",
   "execution_count": 2,
   "metadata": {},
   "outputs": [],
   "source": []
  },
  {
   "cell_type": "code",
   "execution_count": 4,
   "metadata": {},
   "outputs": [],
   "source": [
    "df = pd.read_csv('../experimental.csv', sep='\\t')"
   ]
  },
  {
   "cell_type": "code",
   "execution_count": 5,
   "metadata": {},
   "outputs": [
    {
     "data": {
      "text/html": [
       "<div>\n",
       "<style scoped>\n",
       "    .dataframe tbody tr th:only-of-type {\n",
       "        vertical-align: middle;\n",
       "    }\n",
       "\n",
       "    .dataframe tbody tr th {\n",
       "        vertical-align: top;\n",
       "    }\n",
       "\n",
       "    .dataframe thead th {\n",
       "        text-align: right;\n",
       "    }\n",
       "</style>\n",
       "<table border=\"1\" class=\"dataframe\">\n",
       "  <thead>\n",
       "    <tr style=\"text-align: right;\">\n",
       "      <th></th>\n",
       "      <th>Name</th>\n",
       "      <th>t [mm]</th>\n",
       "      <th>E [GPa]</th>\n",
       "    </tr>\n",
       "  </thead>\n",
       "  <tbody>\n",
       "    <tr>\n",
       "      <th>0</th>\n",
       "      <td>TFP1-1</td>\n",
       "      <td>4.9</td>\n",
       "      <td>2.838353</td>\n",
       "    </tr>\n",
       "    <tr>\n",
       "      <th>1</th>\n",
       "      <td>TFP1-1</td>\n",
       "      <td>4.9</td>\n",
       "      <td>2.685491</td>\n",
       "    </tr>\n",
       "    <tr>\n",
       "      <th>2</th>\n",
       "      <td>TFP1-1</td>\n",
       "      <td>5.0</td>\n",
       "      <td>3.132684</td>\n",
       "    </tr>\n",
       "    <tr>\n",
       "      <th>3</th>\n",
       "      <td>TFP2-1</td>\n",
       "      <td>4.4</td>\n",
       "      <td>2.184874</td>\n",
       "    </tr>\n",
       "    <tr>\n",
       "      <th>4</th>\n",
       "      <td>TFP2-1</td>\n",
       "      <td>4.6</td>\n",
       "      <td>2.310839</td>\n",
       "    </tr>\n",
       "  </tbody>\n",
       "</table>\n",
       "</div>"
      ],
      "text/plain": [
       "     Name  t [mm]   E [GPa]\n",
       "0  TFP1-1     4.9  2.838353\n",
       "1  TFP1-1     4.9  2.685491\n",
       "2  TFP1-1     5.0  3.132684\n",
       "3  TFP2-1     4.4  2.184874\n",
       "4  TFP2-1     4.6  2.310839"
      ]
     },
     "execution_count": 5,
     "metadata": {},
     "output_type": "execute_result"
    }
   ],
   "source": [
    "df = df[[\"Nombre\",\"Modulo Tracción [MPa]\",\"Espesor (mm)\"]]\n",
    "# change column names to E[MPa] and t[mm]\n",
    "df.columns = ['Name', 'E [MPa]', 't [mm]']\n",
    "# GPa\n",
    "df[\"E [GPa]\"] = df[\"E [MPa]\"] / 1000\n",
    "df.drop(columns=[\"E [MPa]\"], inplace=True)\n",
    "df.head()"
   ]
  },
  {
   "cell_type": "code",
   "execution_count": 6,
   "metadata": {},
   "outputs": [],
   "source": [
    "df_stats = df.groupby('Name').agg(['mean', 'std'])\n",
    "df_stats = df_stats.drop(\"TFP1-1\")"
   ]
  },
  {
   "cell_type": "code",
   "execution_count": 7,
   "metadata": {},
   "outputs": [],
   "source": [
    "composition = [\n",
    "        [\"Y\", \"X\"],\n",
    "        [\"Y\", \"SX\"],\n",
    "        [\"Y\", \"SY\"],\n",
    "        [\"Y\",\"SX\", \"SY\"],\n",
    "        [\"Y\",\"X\", \"SY\"]\n",
    "    ]\n",
    "\n",
    "df_stats[\"layers\"] = composition"
   ]
  },
  {
   "cell_type": "code",
   "execution_count": 8,
   "metadata": {},
   "outputs": [
    {
     "data": {
      "text/html": [
       "<div>\n",
       "<style scoped>\n",
       "    .dataframe tbody tr th:only-of-type {\n",
       "        vertical-align: middle;\n",
       "    }\n",
       "\n",
       "    .dataframe tbody tr th {\n",
       "        vertical-align: top;\n",
       "    }\n",
       "\n",
       "    .dataframe thead tr th {\n",
       "        text-align: left;\n",
       "    }\n",
       "\n",
       "    .dataframe thead tr:last-of-type th {\n",
       "        text-align: right;\n",
       "    }\n",
       "</style>\n",
       "<table border=\"1\" class=\"dataframe\">\n",
       "  <thead>\n",
       "    <tr>\n",
       "      <th></th>\n",
       "      <th colspan=\"2\" halign=\"left\">t [mm]</th>\n",
       "      <th colspan=\"2\" halign=\"left\">E [GPa]</th>\n",
       "      <th>layers</th>\n",
       "    </tr>\n",
       "    <tr>\n",
       "      <th></th>\n",
       "      <th>mean</th>\n",
       "      <th>std</th>\n",
       "      <th>mean</th>\n",
       "      <th>std</th>\n",
       "      <th></th>\n",
       "    </tr>\n",
       "    <tr>\n",
       "      <th>Name</th>\n",
       "      <th></th>\n",
       "      <th></th>\n",
       "      <th></th>\n",
       "      <th></th>\n",
       "      <th></th>\n",
       "    </tr>\n",
       "  </thead>\n",
       "  <tbody>\n",
       "    <tr>\n",
       "      <th>TFP2-1</th>\n",
       "      <td>4.500000</td>\n",
       "      <td>0.100000</td>\n",
       "      <td>2.258503</td>\n",
       "      <td>0.065626</td>\n",
       "      <td>[Y, X]</td>\n",
       "    </tr>\n",
       "    <tr>\n",
       "      <th>TFP3-1</th>\n",
       "      <td>4.900000</td>\n",
       "      <td>0.200000</td>\n",
       "      <td>2.000437</td>\n",
       "      <td>0.004435</td>\n",
       "      <td>[Y, SX]</td>\n",
       "    </tr>\n",
       "    <tr>\n",
       "      <th>TFP4-1</th>\n",
       "      <td>4.500000</td>\n",
       "      <td>0.000000</td>\n",
       "      <td>2.451362</td>\n",
       "      <td>0.114353</td>\n",
       "      <td>[Y, SY]</td>\n",
       "    </tr>\n",
       "    <tr>\n",
       "      <th>TFP5-1</th>\n",
       "      <td>5.733333</td>\n",
       "      <td>0.115470</td>\n",
       "      <td>1.626582</td>\n",
       "      <td>0.120272</td>\n",
       "      <td>[Y, SX, SY]</td>\n",
       "    </tr>\n",
       "    <tr>\n",
       "      <th>TFP6-1</th>\n",
       "      <td>5.533333</td>\n",
       "      <td>0.057735</td>\n",
       "      <td>1.739870</td>\n",
       "      <td>0.067515</td>\n",
       "      <td>[Y, X, SY]</td>\n",
       "    </tr>\n",
       "  </tbody>\n",
       "</table>\n",
       "</div>"
      ],
      "text/plain": [
       "          t [mm]             E [GPa]                 layers\n",
       "            mean       std      mean       std             \n",
       "Name                                                       \n",
       "TFP2-1  4.500000  0.100000  2.258503  0.065626       [Y, X]\n",
       "TFP3-1  4.900000  0.200000  2.000437  0.004435      [Y, SX]\n",
       "TFP4-1  4.500000  0.000000  2.451362  0.114353      [Y, SY]\n",
       "TFP5-1  5.733333  0.115470  1.626582  0.120272  [Y, SX, SY]\n",
       "TFP6-1  5.533333  0.057735  1.739870  0.067515   [Y, X, SY]"
      ]
     },
     "execution_count": 8,
     "metadata": {},
     "output_type": "execute_result"
    }
   ],
   "source": [
    "df_stats"
   ]
  },
  {
   "cell_type": "code",
   "execution_count": 9,
   "metadata": {},
   "outputs": [
    {
     "data": {
      "text/plain": [
       "<Axes: title={'center': 'Modulo Tracción [GPa]'}, xlabel='Name'>"
      ]
     },
     "execution_count": 9,
     "metadata": {},
     "output_type": "execute_result"
    },
    {
     "data": {
      "image/png": "[encoded data removed]",
      "text/plain": [
       "<Figure size 900x400 with 2 Axes>"
      ]
     },
     "metadata": {},
     "output_type": "display_data"
    }
   ],
   "source": [
    "# plot bars with error bars Espesor (mm)\n",
    "fig = plt.figure(figsize=(9, 4))\n",
    "ax = fig.add_subplot(121)\n",
    "df_stats['t [mm]'].plot(kind='bar', y='mean', yerr='std', legend=False, title='Espesor (mm)', ax=ax)\n",
    "# plot bars with error bars Modulo Tracción [MPa]\n",
    "ax = fig.add_subplot(122)\n",
    "df_stats['E [GPa]'].plot(kind='bar', y='mean', yerr='std', legend=False, title='Modulo Tracción [GPa]', ax=ax)"
   ]
  },
  {
   "cell_type": "code",
   "execution_count": 10,
   "metadata": {},
   "outputs": [
    {
     "data": {
      "text/html": [
       "<div>\n",
       "<style scoped>\n",
       "    .dataframe tbody tr th:only-of-type {\n",
       "        vertical-align: middle;\n",
       "    }\n",
       "\n",
       "    .dataframe tbody tr th {\n",
       "        vertical-align: top;\n",
       "    }\n",
       "\n",
       "    .dataframe thead tr th {\n",
       "        text-align: left;\n",
       "    }\n",
       "\n",
       "    .dataframe thead tr:last-of-type th {\n",
       "        text-align: right;\n",
       "    }\n",
       "</style>\n",
       "<table border=\"1\" class=\"dataframe\">\n",
       "  <thead>\n",
       "    <tr>\n",
       "      <th></th>\n",
       "      <th colspan=\"2\" halign=\"left\">t [mm]</th>\n",
       "      <th colspan=\"2\" halign=\"left\">E [GPa]</th>\n",
       "      <th>layers</th>\n",
       "    </tr>\n",
       "    <tr>\n",
       "      <th></th>\n",
       "      <th>mean</th>\n",
       "      <th>std</th>\n",
       "      <th>mean</th>\n",
       "      <th>std</th>\n",
       "      <th></th>\n",
       "    </tr>\n",
       "    <tr>\n",
       "      <th>Name</th>\n",
       "      <th></th>\n",
       "      <th></th>\n",
       "      <th></th>\n",
       "      <th></th>\n",
       "      <th></th>\n",
       "    </tr>\n",
       "  </thead>\n",
       "  <tbody>\n",
       "    <tr>\n",
       "      <th>TFP2-1</th>\n",
       "      <td>4.500000</td>\n",
       "      <td>0.100000</td>\n",
       "      <td>2.258503</td>\n",
       "      <td>0.065626</td>\n",
       "      <td>[Y, X]</td>\n",
       "    </tr>\n",
       "    <tr>\n",
       "      <th>TFP3-1</th>\n",
       "      <td>4.900000</td>\n",
       "      <td>0.200000</td>\n",
       "      <td>2.000437</td>\n",
       "      <td>0.004435</td>\n",
       "      <td>[Y, SX]</td>\n",
       "    </tr>\n",
       "    <tr>\n",
       "      <th>TFP4-1</th>\n",
       "      <td>4.500000</td>\n",
       "      <td>0.000000</td>\n",
       "      <td>2.451362</td>\n",
       "      <td>0.114353</td>\n",
       "      <td>[Y, SY]</td>\n",
       "    </tr>\n",
       "    <tr>\n",
       "      <th>TFP5-1</th>\n",
       "      <td>5.733333</td>\n",
       "      <td>0.115470</td>\n",
       "      <td>1.626582</td>\n",
       "      <td>0.120272</td>\n",
       "      <td>[Y, SX, SY]</td>\n",
       "    </tr>\n",
       "    <tr>\n",
       "      <th>TFP6-1</th>\n",
       "      <td>5.533333</td>\n",
       "      <td>0.057735</td>\n",
       "      <td>1.739870</td>\n",
       "      <td>0.067515</td>\n",
       "      <td>[Y, X, SY]</td>\n",
       "    </tr>\n",
       "  </tbody>\n",
       "</table>\n",
       "</div>"
      ],
      "text/plain": [
       "          t [mm]             E [GPa]                 layers\n",
       "            mean       std      mean       std             \n",
       "Name                                                       \n",
       "TFP2-1  4.500000  0.100000  2.258503  0.065626       [Y, X]\n",
       "TFP3-1  4.900000  0.200000  2.000437  0.004435      [Y, SX]\n",
       "TFP4-1  4.500000  0.000000  2.451362  0.114353      [Y, SY]\n",
       "TFP5-1  5.733333  0.115470  1.626582  0.120272  [Y, SX, SY]\n",
       "TFP6-1  5.533333  0.057735  1.739870  0.067515   [Y, X, SY]"
      ]
     },
     "execution_count": 10,
     "metadata": {},
     "output_type": "execute_result"
    }
   ],
   "source": [
    "df_stats"
   ]
  },
  {
   "cell_type": "code",
   "execution_count": 11,
   "metadata": {},
   "outputs": [],
   "source": [
    "# [X]       -> [1,0,0,0]\n",
    "# [X, SX]   -> [1,0,1,0]\n",
    "# [X, Y]    -> [1,1,0,0]\n",
    "# [X, SY]       -> [1,0,0,1]\n",
    "# [X, SX, SY]   -> [1,0,1,1]\n",
    "# [X, Y, SY]    -> [1,1,0,1]\n",
    "\n",
    "def get_vector(list_of_layers):\n",
    "    vector = [0,0,0,0]\n",
    "    if \"X\" in list_of_layers:\n",
    "        vector[0] = 1\n",
    "    if \"SX\" in list_of_layers:\n",
    "        vector[1] = 1\n",
    "    if \"Y\" in list_of_layers:\n",
    "        vector[2] = 1\n",
    "    if \"SY\" in list_of_layers:\n",
    "        vector[3] = 1\n",
    "\n",
    "    return vector\n"
   ]
  },
  {
   "cell_type": "code",
   "execution_count": 12,
   "metadata": {},
   "outputs": [
    {
     "data": {
      "text/html": [
       "<div>\n",
       "<style scoped>\n",
       "    .dataframe tbody tr th:only-of-type {\n",
       "        vertical-align: middle;\n",
       "    }\n",
       "\n",
       "    .dataframe tbody tr th {\n",
       "        vertical-align: top;\n",
       "    }\n",
       "\n",
       "    .dataframe thead tr th {\n",
       "        text-align: left;\n",
       "    }\n",
       "\n",
       "    .dataframe thead tr:last-of-type th {\n",
       "        text-align: right;\n",
       "    }\n",
       "</style>\n",
       "<table border=\"1\" class=\"dataframe\">\n",
       "  <thead>\n",
       "    <tr>\n",
       "      <th></th>\n",
       "      <th colspan=\"2\" halign=\"left\">t [mm]</th>\n",
       "      <th colspan=\"2\" halign=\"left\">E [GPa]</th>\n",
       "      <th>layers</th>\n",
       "      <th>v [X,SX,Y,SY]</th>\n",
       "      <th>ni</th>\n",
       "    </tr>\n",
       "    <tr>\n",
       "      <th></th>\n",
       "      <th>mean</th>\n",
       "      <th>std</th>\n",
       "      <th>mean</th>\n",
       "      <th>std</th>\n",
       "      <th></th>\n",
       "      <th></th>\n",
       "      <th></th>\n",
       "    </tr>\n",
       "    <tr>\n",
       "      <th>Name</th>\n",
       "      <th></th>\n",
       "      <th></th>\n",
       "      <th></th>\n",
       "      <th></th>\n",
       "      <th></th>\n",
       "      <th></th>\n",
       "      <th></th>\n",
       "    </tr>\n",
       "  </thead>\n",
       "  <tbody>\n",
       "    <tr>\n",
       "      <th>TFP2-1</th>\n",
       "      <td>4.500000</td>\n",
       "      <td>0.100000</td>\n",
       "      <td>2.258503</td>\n",
       "      <td>0.065626</td>\n",
       "      <td>[Y, X]</td>\n",
       "      <td>[1, 0, 1, 0]</td>\n",
       "      <td>2</td>\n",
       "    </tr>\n",
       "    <tr>\n",
       "      <th>TFP3-1</th>\n",
       "      <td>4.900000</td>\n",
       "      <td>0.200000</td>\n",
       "      <td>2.000437</td>\n",
       "      <td>0.004435</td>\n",
       "      <td>[Y, SX]</td>\n",
       "      <td>[0, 1, 1, 0]</td>\n",
       "      <td>2</td>\n",
       "    </tr>\n",
       "    <tr>\n",
       "      <th>TFP4-1</th>\n",
       "      <td>4.500000</td>\n",
       "      <td>0.000000</td>\n",
       "      <td>2.451362</td>\n",
       "      <td>0.114353</td>\n",
       "      <td>[Y, SY]</td>\n",
       "      <td>[0, 0, 1, 1]</td>\n",
       "      <td>2</td>\n",
       "    </tr>\n",
       "    <tr>\n",
       "      <th>TFP5-1</th>\n",
       "      <td>5.733333</td>\n",
       "      <td>0.115470</td>\n",
       "      <td>1.626582</td>\n",
       "      <td>0.120272</td>\n",
       "      <td>[Y, SX, SY]</td>\n",
       "      <td>[0, 1, 1, 1]</td>\n",
       "      <td>3</td>\n",
       "    </tr>\n",
       "    <tr>\n",
       "      <th>TFP6-1</th>\n",
       "      <td>5.533333</td>\n",
       "      <td>0.057735</td>\n",
       "      <td>1.739870</td>\n",
       "      <td>0.067515</td>\n",
       "      <td>[Y, X, SY]</td>\n",
       "      <td>[1, 0, 1, 1]</td>\n",
       "      <td>3</td>\n",
       "    </tr>\n",
       "  </tbody>\n",
       "</table>\n",
       "</div>"
      ],
      "text/plain": [
       "          t [mm]             E [GPa]                 layers v [X,SX,Y,SY] ni\n",
       "            mean       std      mean       std                              \n",
       "Name                                                                        \n",
       "TFP2-1  4.500000  0.100000  2.258503  0.065626       [Y, X]  [1, 0, 1, 0]  2\n",
       "TFP3-1  4.900000  0.200000  2.000437  0.004435      [Y, SX]  [0, 1, 1, 0]  2\n",
       "TFP4-1  4.500000  0.000000  2.451362  0.114353      [Y, SY]  [0, 0, 1, 1]  2\n",
       "TFP5-1  5.733333  0.115470  1.626582  0.120272  [Y, SX, SY]  [0, 1, 1, 1]  3\n",
       "TFP6-1  5.533333  0.057735  1.739870  0.067515   [Y, X, SY]  [1, 0, 1, 1]  3"
      ]
     },
     "execution_count": 12,
     "metadata": {},
     "output_type": "execute_result"
    }
   ],
   "source": [
    "df_stats['v [X,SX,Y,SY]'] = df_stats['layers'].apply(get_vector)\n",
    "df_stats[\"ni\"] = df_stats[\"layers\"].apply(len)\n",
    "df_stats"
   ]
  },
  {
   "cell_type": "code",
   "execution_count": 13,
   "metadata": {},
   "outputs": [
    {
     "name": "stdout",
     "output_type": "stream",
     "text": [
      "[2 2 2 3 3]\n"
     ]
    }
   ],
   "source": [
    "ni = df_stats[\"ni\"].values\n",
    "tau_exp = df_stats[\"t [mm]\"][\"mean\"].values\n",
    "print(ni )\n",
    "tau_pred_fcn = lambda tn,tl: tn + tl*ni"
   ]
  },
  {
   "cell_type": "code",
   "execution_count": 14,
   "metadata": {},
   "outputs": [],
   "source": [
    "# min square error\n",
    "\n",
    "from scipy.optimize import minimize,basinhopping\n",
    "def objective(tn,tl):\n",
    "    return sum((tau_pred_fcn(tn,tl) - tau_exp)**2)\n"
   ]
  },
  {
   "cell_type": "code",
   "execution_count": 15,
   "metadata": {},
   "outputs": [],
   "source": [
    "\n",
    "from Composite.CreateLines.BasicLines import BasicLines\n",
    "\n",
    "\n",
    "lines = {\n",
    "    \"r\": 2.5,\n",
    "    \"Nx_sq\": 1,\n",
    "    \"Ny_sq\": 1,\n",
    "    \"type\":  'sin' # 'circle' or 'sin'\n",
    "}\n",
    "\n",
    "lines = BasicLines(lines)"
   ]
  },
  {
   "cell_type": "code",
   "execution_count": 16,
   "metadata": {},
   "outputs": [
    {
     "name": "stderr",
     "output_type": "stream",
     "text": [
      "C:\\Users\\djoroya\\AppData\\Local\\Temp\\ipykernel_11108\\4169359739.py:6: FutureWarning: Series.__getitem__ treating keys as positions is deprecated. In a future version, integer keys will always be treated as labels (consistent with DataFrame behavior). To access a value by position, use `ser.iloc[pos]`\n",
      "  for j,layer in enumerate(df_stats['layers'][i]):\n"
     ]
    },
    {
     "data": {
      "image/png": "[encoded data removed]",
      "text/plain": [
       "<Figure size 900x600 with 5 Axes>"
      ]
     },
     "metadata": {},
     "output_type": "display_data"
    }
   ],
   "source": [
    "colors = ['r', 'g', 'b', 'c', 'm', 'y', 'k', 'w']\n",
    "fig = plt.figure(figsize=(9,6))\n",
    "for i in range(len(df_stats)):\n",
    "    plt.subplot(2, 3, i+1)\n",
    "\n",
    "    for j,layer in enumerate(df_stats['layers'][i]):\n",
    "        for curve in lines[\"trajs_\"+layer]:\n",
    "            plt.plot(curve[:,0], \n",
    "                     curve[:,1],\n",
    "                     color = colors[j],\n",
    "                        label = layer) \n",
    "    plt.title(df['Name'][i])\n",
    "    "
   ]
  },
  {
   "cell_type": "code",
   "execution_count": 17,
   "metadata": {},
   "outputs": [],
   "source": [
    "def E_effective_j(tn,tl,En,Evec,j):\n",
    "    \n",
    "    tau_pred = tau_pred_fcn(tn,tl)\n",
    "\n",
    "    delta_j  = df_stats[\"v [X,SX,Y,SY]\"].iloc[j]\n",
    "\n",
    "    tau_j    = tau_pred[j]\n",
    "\n",
    "    return (En*tn + tl*(np.dot(delta_j,Evec)))/tau_j\n",
    "\n",
    "def E_effective(En,Evec,tn,tl):\n",
    "    return np.array([E_effective_j(tn,tl,En,Evec,j) \n",
    "                     for j in range(len(df_stats))])\n"
   ]
  },
  {
   "cell_type": "code",
   "execution_count": 18,
   "metadata": {},
   "outputs": [],
   "source": [
    "E_eff_exp = df_stats[\"E [GPa]\"][\"mean\"].values\n",
    "\n",
    "Evec_0 = np.array([1,0,0,0])\n",
    "En_0 = 100\n",
    "tn_0 = 1\n",
    "tl_0 = 1\n",
    "\n",
    "E_eff_pred = E_effective(En_0,Evec_0,tn_0,tl_0)\n",
    "tau_pred = tau_pred_fcn(tn_0,tl_0)"
   ]
  },
  {
   "cell_type": "code",
   "execution_count": 19,
   "metadata": {},
   "outputs": [
    {
     "data": {
      "text/plain": [
       "array([3, 3, 3, 4, 4])"
      ]
     },
     "execution_count": 19,
     "metadata": {},
     "output_type": "execute_result"
    }
   ],
   "source": [
    "tau_pred"
   ]
  },
  {
   "cell_type": "code",
   "execution_count": 20,
   "metadata": {},
   "outputs": [],
   "source": [
    "def theta(x):\n",
    "    return 0.5*(np.sign(x)+1)\n"
   ]
  },
  {
   "cell_type": "code",
   "execution_count": 21,
   "metadata": {},
   "outputs": [],
   "source": [
    "# minimize \n",
    "def objective_E(En,Evec,tn,tl):\n",
    "    Loss_E   = sum((E_effective(En,Evec,tn,tl) - E_eff_exp)**2)\n",
    "    Loss_tau = sum((tau_pred_fcn(tn,tl) - tau_exp)**2)\n",
    "    \n",
    "    # En < Evec[0]\n",
    "    lag_mult = 0*1e6*theta( En - Evec[0]) # Asumimos que el nucleo es el material más blando que la capas E[0] -> X\n",
    "    \n",
    "    return Loss_E + Loss_tau + lag_mult\n",
    "           \n",
    "\n",
    "x0 = np.random.rand(7)\n",
    "# must be positive \n",
    "\n",
    "bounds = [  (E_nucleo_exp*0.9,1.1*E_nucleo_exp), # En\n",
    "            (0.0,None), # Evec[0]   # X\n",
    "            (0.0,None), # Evec[1]   # Y\n",
    "            (0.0,None), # Evec[2]   # SX\n",
    "            (0.0,None), # Evec[3]   # SY\n",
    "            (0.9*t_nucleo_exp,1.1*t_nucleo_exp), # tn\n",
    "            (0.25,2)  # tl\n",
    "            ]\n",
    "          \n",
    "# set constraints\n",
    "if x0[1] < x0[0]:\n",
    "    x0[1] = x0[0]\n",
    "\n",
    "for k,ib in enumerate(bounds):\n",
    "\n",
    "    if ib[0] is not None and x0[k] < ib[0]:\n",
    "        x0[k] = ib[0]\n",
    "    if ib[1] is not None and x0[k] > ib[1]:\n",
    "        x0[k] = ib[1]\n"
   ]
  },
  {
   "cell_type": "code",
   "execution_count": 22,
   "metadata": {},
   "outputs": [
    {
     "name": "stderr",
     "output_type": "stream",
     "text": [
      "c:\\Users\\djoroya\\Documents\\GitHub\\CITISENS_Composite\\.conda\\Lib\\site-packages\\scipy\\optimize\\_differentiable_functions.py:316: UserWarning: delta_grad == 0.0. Check if the approximated function is linear. If the function is linear better results can be obtained by defining the Hessian as zero instead of using quasi-Newton approximations.\n",
      "  self.H.update(self.x - self.x_prev, self.g - self.g_prev)\n"
     ]
    }
   ],
   "source": [
    "\n",
    "minimize_kwargs = {\n",
    "    'method': 'trust-constr',\n",
    "    'bounds': bounds\n",
    "}\n",
    "\n",
    "res = basinhopping(lambda x: objective_E(x[0],x[1:5],x[5],x[6]),\n",
    "                x0, \n",
    "                minimizer_kwargs= minimize_kwargs,\n",
    "                niter=100,\n",
    "                stepsize=0.5)\n",
    "\n",
    "En_opt = res.x[0]\n",
    "Evec_opt = res.x[1:5]\n",
    "tn_opt = res.x[5]\n",
    "tl_opt = res.x[6]\n",
    "\n",
    "\n",
    "E_eff_pred = E_effective(En_opt,Evec_opt,tn_opt,tl_opt)\n",
    "tau_pred   = tau_pred_fcn(tn_opt,tl_opt)"
   ]
  },
  {
   "cell_type": "code",
   "execution_count": 214,
   "metadata": {},
   "outputs": [],
   "source": []
  },
  {
   "cell_type": "code",
   "execution_count": 23,
   "metadata": {},
   "outputs": [
    {
     "data": {
      "image/png": "[encoded data removed]",
      "text/plain": [
       "<Figure size 900x400 with 2 Axes>"
      ]
     },
     "metadata": {},
     "output_type": "display_data"
    },
    {
     "data": {
      "image/png": "[encoded data removed]",
      "text/plain": [
       "<Figure size 900x400 with 2 Axes>"
      ]
     },
     "metadata": {},
     "output_type": "display_data"
    }
   ],
   "source": [
    "from AnalyticalLayers.plot_E import plot_E\n",
    "from AnalyticalLayers.plt_thin import plt_thin\n",
    "\n",
    "plt_thin(df_stats, tau_exp, tau_pred, tn_opt, tl_opt)\n",
    "plot_E(df_stats, E_eff_exp, E_eff_pred, Evec_opt, En_opt)"
   ]
  },
  {
   "cell_type": "code",
   "execution_count": 24,
   "metadata": {},
   "outputs": [
    {
     "data": {
      "text/html": [
       "<div>\n",
       "<style scoped>\n",
       "    .dataframe tbody tr th:only-of-type {\n",
       "        vertical-align: middle;\n",
       "    }\n",
       "\n",
       "    .dataframe tbody tr th {\n",
       "        vertical-align: top;\n",
       "    }\n",
       "\n",
       "    .dataframe thead th {\n",
       "        text-align: right;\n",
       "    }\n",
       "</style>\n",
       "<table border=\"1\" class=\"dataframe\">\n",
       "  <thead>\n",
       "    <tr style=\"text-align: right;\">\n",
       "      <th></th>\n",
       "      <th>Evec [GPa]</th>\n",
       "    </tr>\n",
       "  </thead>\n",
       "  <tbody>\n",
       "    <tr>\n",
       "      <th>X</th>\n",
       "      <td>0.29</td>\n",
       "    </tr>\n",
       "    <tr>\n",
       "      <th>SX</th>\n",
       "      <td>0.00</td>\n",
       "    </tr>\n",
       "    <tr>\n",
       "      <th>Y</th>\n",
       "      <td>7.32</td>\n",
       "    </tr>\n",
       "    <tr>\n",
       "      <th>SY</th>\n",
       "      <td>0.51</td>\n",
       "    </tr>\n",
       "    <tr>\n",
       "      <th>Nucleo</th>\n",
       "      <td>0.79</td>\n",
       "    </tr>\n",
       "  </tbody>\n",
       "</table>\n",
       "</div>"
      ],
      "text/plain": [
       "        Evec [GPa]\n",
       "X             0.29\n",
       "SX            0.00\n",
       "Y             7.32\n",
       "SY            0.51\n",
       "Nucleo        0.79"
      ]
     },
     "execution_count": 24,
     "metadata": {},
     "output_type": "execute_result"
    }
   ],
   "source": [
    "df_layers = pd.DataFrame({\"Evec [GPa]\": Evec_opt}, index=[\"X\",\"SX\",\"Y\",\"SY\"])\n",
    "# add nuclueo\n",
    "df_layers.loc[\"Nucleo\"] = [En_opt]\n",
    "df_layers.round(2)"
   ]
  },
  {
   "cell_type": "code",
   "execution_count": 25,
   "metadata": {},
   "outputs": [
    {
     "data": {
      "text/html": [
       "<div>\n",
       "<style scoped>\n",
       "    .dataframe tbody tr th:only-of-type {\n",
       "        vertical-align: middle;\n",
       "    }\n",
       "\n",
       "    .dataframe tbody tr th {\n",
       "        vertical-align: top;\n",
       "    }\n",
       "\n",
       "    .dataframe thead th {\n",
       "        text-align: right;\n",
       "    }\n",
       "</style>\n",
       "<table border=\"1\" class=\"dataframe\">\n",
       "  <thead>\n",
       "    <tr style=\"text-align: right;\">\n",
       "      <th></th>\n",
       "      <th>t [mm]</th>\n",
       "    </tr>\n",
       "  </thead>\n",
       "  <tbody>\n",
       "    <tr>\n",
       "      <th>Nucleo</th>\n",
       "      <td>2.51</td>\n",
       "    </tr>\n",
       "    <tr>\n",
       "      <th>Capas</th>\n",
       "      <td>1.05</td>\n",
       "    </tr>\n",
       "  </tbody>\n",
       "</table>\n",
       "</div>"
      ],
      "text/plain": [
       "        t [mm]\n",
       "Nucleo    2.51\n",
       "Capas     1.05"
      ]
     },
     "execution_count": 25,
     "metadata": {},
     "output_type": "execute_result"
    }
   ],
   "source": [
    "df_thickness = pd.DataFrame({\"t [mm]\": [tn_opt, tl_opt]}, index=[\"Nucleo\",\"Capas\"])\n",
    "\n",
    "df_thickness.round(2)"
   ]
  },
  {
   "cell_type": "code",
   "execution_count": 26,
   "metadata": {},
   "outputs": [
    {
     "name": "stdout",
     "output_type": "stream",
     "text": [
      "Optimal En:  0.7916130220192639\n",
      "Optimal tn:  2.5146000123910017\n",
      "Optimal tl:  1.0492097942066585\n"
     ]
    }
   ],
   "source": [
    "print(\"Optimal En: \", En_opt)\n",
    "print(\"Optimal tn: \", tn_opt)\n",
    "print(\"Optimal tl: \", tl_opt)"
   ]
  },
  {
   "cell_type": "code",
   "execution_count": 27,
   "metadata": {},
   "outputs": [
    {
     "data": {
      "text/html": [
       "<div>\n",
       "<style scoped>\n",
       "    .dataframe tbody tr th:only-of-type {\n",
       "        vertical-align: middle;\n",
       "    }\n",
       "\n",
       "    .dataframe tbody tr th {\n",
       "        vertical-align: top;\n",
       "    }\n",
       "\n",
       "    .dataframe thead th {\n",
       "        text-align: right;\n",
       "    }\n",
       "</style>\n",
       "<table border=\"1\" class=\"dataframe\">\n",
       "  <thead>\n",
       "    <tr style=\"text-align: right;\">\n",
       "      <th></th>\n",
       "      <th>Name</th>\n",
       "      <th>E pred [GPa]</th>\n",
       "      <th>E exp [GPa]</th>\n",
       "      <th>E e rel [%]</th>\n",
       "      <th>t pred [mm]</th>\n",
       "      <th>t exp [mm]</th>\n",
       "      <th>t e rel [%]</th>\n",
       "    </tr>\n",
       "  </thead>\n",
       "  <tbody>\n",
       "    <tr>\n",
       "      <th>0</th>\n",
       "      <td>TFP2-1</td>\n",
       "      <td>2.16</td>\n",
       "      <td>2.26</td>\n",
       "      <td>4.23</td>\n",
       "      <td>4.61</td>\n",
       "      <td>4.50</td>\n",
       "      <td>2.51</td>\n",
       "    </tr>\n",
       "    <tr>\n",
       "      <th>1</th>\n",
       "      <td>TFP3-1</td>\n",
       "      <td>2.10</td>\n",
       "      <td>2.00</td>\n",
       "      <td>4.78</td>\n",
       "      <td>4.61</td>\n",
       "      <td>4.90</td>\n",
       "      <td>5.86</td>\n",
       "    </tr>\n",
       "    <tr>\n",
       "      <th>2</th>\n",
       "      <td>TFP4-1</td>\n",
       "      <td>2.21</td>\n",
       "      <td>2.45</td>\n",
       "      <td>9.74</td>\n",
       "      <td>4.61</td>\n",
       "      <td>4.50</td>\n",
       "      <td>2.51</td>\n",
       "    </tr>\n",
       "    <tr>\n",
       "      <th>3</th>\n",
       "      <td>TFP5-1</td>\n",
       "      <td>1.80</td>\n",
       "      <td>1.63</td>\n",
       "      <td>10.82</td>\n",
       "      <td>5.66</td>\n",
       "      <td>5.73</td>\n",
       "      <td>1.24</td>\n",
       "    </tr>\n",
       "    <tr>\n",
       "      <th>4</th>\n",
       "      <td>TFP6-1</td>\n",
       "      <td>1.86</td>\n",
       "      <td>1.74</td>\n",
       "      <td>6.74</td>\n",
       "      <td>5.66</td>\n",
       "      <td>5.53</td>\n",
       "      <td>2.33</td>\n",
       "    </tr>\n",
       "  </tbody>\n",
       "</table>\n",
       "</div>"
      ],
      "text/plain": [
       "     Name  E pred [GPa]  E exp [GPa]  E e rel [%]  t pred [mm]  t exp [mm]  \\\n",
       "0  TFP2-1          2.16         2.26         4.23         4.61        4.50   \n",
       "1  TFP3-1          2.10         2.00         4.78         4.61        4.90   \n",
       "2  TFP4-1          2.21         2.45         9.74         4.61        4.50   \n",
       "3  TFP5-1          1.80         1.63        10.82         5.66        5.73   \n",
       "4  TFP6-1          1.86         1.74         6.74         5.66        5.53   \n",
       "\n",
       "   t e rel [%]  \n",
       "0         2.51  \n",
       "1         5.86  \n",
       "2         2.51  \n",
       "3         1.24  \n",
       "4         2.33  "
      ]
     },
     "execution_count": 27,
     "metadata": {},
     "output_type": "execute_result"
    }
   ],
   "source": [
    "df_pred = {\n",
    "    \"Name\"          : df_stats.index,\n",
    "    \"E pred [GPa]\"  : E_eff_pred,\n",
    "    \"E exp [GPa]\"   : E_eff_exp,\n",
    "    \"E e rel [%]\"   : 100*abs(E_eff_exp - E_eff_pred)/E_eff_exp,\n",
    "    \"t pred [mm]\"   : tau_pred,\n",
    "    \"t exp [mm]\"    : tau_exp,\n",
    "    \"t e rel [%]\"   : 100*abs(tau_exp - tau_pred)/tau_exp\n",
    "}\n",
    "df_pred = pd.DataFrame(df_pred)\n",
    "# decimals\n",
    "df_pred = df_pred.round(2)\n",
    "df_pred.head()"
   ]
  },
  {
   "cell_type": "code",
   "execution_count": 28,
   "metadata": {},
   "outputs": [
    {
     "data": {
      "text/html": [
       "<div>\n",
       "<style scoped>\n",
       "    .dataframe tbody tr th:only-of-type {\n",
       "        vertical-align: middle;\n",
       "    }\n",
       "\n",
       "    .dataframe tbody tr th {\n",
       "        vertical-align: top;\n",
       "    }\n",
       "\n",
       "    .dataframe thead tr th {\n",
       "        text-align: left;\n",
       "    }\n",
       "\n",
       "    .dataframe thead tr:last-of-type th {\n",
       "        text-align: right;\n",
       "    }\n",
       "</style>\n",
       "<table border=\"1\" class=\"dataframe\">\n",
       "  <thead>\n",
       "    <tr>\n",
       "      <th></th>\n",
       "      <th colspan=\"2\" halign=\"left\">t [mm]</th>\n",
       "      <th colspan=\"2\" halign=\"left\">E [GPa]</th>\n",
       "      <th>layers</th>\n",
       "      <th>v [X,SX,Y,SY]</th>\n",
       "      <th>ni</th>\n",
       "    </tr>\n",
       "    <tr>\n",
       "      <th></th>\n",
       "      <th>mean</th>\n",
       "      <th>std</th>\n",
       "      <th>mean</th>\n",
       "      <th>std</th>\n",
       "      <th></th>\n",
       "      <th></th>\n",
       "      <th></th>\n",
       "    </tr>\n",
       "    <tr>\n",
       "      <th>Name</th>\n",
       "      <th></th>\n",
       "      <th></th>\n",
       "      <th></th>\n",
       "      <th></th>\n",
       "      <th></th>\n",
       "      <th></th>\n",
       "      <th></th>\n",
       "    </tr>\n",
       "  </thead>\n",
       "  <tbody>\n",
       "    <tr>\n",
       "      <th>TFP2-1</th>\n",
       "      <td>4.500000</td>\n",
       "      <td>0.100000</td>\n",
       "      <td>2.258503</td>\n",
       "      <td>0.065626</td>\n",
       "      <td>[Y, X]</td>\n",
       "      <td>[1, 0, 1, 0]</td>\n",
       "      <td>2</td>\n",
       "    </tr>\n",
       "    <tr>\n",
       "      <th>TFP3-1</th>\n",
       "      <td>4.900000</td>\n",
       "      <td>0.200000</td>\n",
       "      <td>2.000437</td>\n",
       "      <td>0.004435</td>\n",
       "      <td>[Y, SX]</td>\n",
       "      <td>[0, 1, 1, 0]</td>\n",
       "      <td>2</td>\n",
       "    </tr>\n",
       "    <tr>\n",
       "      <th>TFP4-1</th>\n",
       "      <td>4.500000</td>\n",
       "      <td>0.000000</td>\n",
       "      <td>2.451362</td>\n",
       "      <td>0.114353</td>\n",
       "      <td>[Y, SY]</td>\n",
       "      <td>[0, 0, 1, 1]</td>\n",
       "      <td>2</td>\n",
       "    </tr>\n",
       "    <tr>\n",
       "      <th>TFP5-1</th>\n",
       "      <td>5.733333</td>\n",
       "      <td>0.115470</td>\n",
       "      <td>1.626582</td>\n",
       "      <td>0.120272</td>\n",
       "      <td>[Y, SX, SY]</td>\n",
       "      <td>[0, 1, 1, 1]</td>\n",
       "      <td>3</td>\n",
       "    </tr>\n",
       "    <tr>\n",
       "      <th>TFP6-1</th>\n",
       "      <td>5.533333</td>\n",
       "      <td>0.057735</td>\n",
       "      <td>1.739870</td>\n",
       "      <td>0.067515</td>\n",
       "      <td>[Y, X, SY]</td>\n",
       "      <td>[1, 0, 1, 1]</td>\n",
       "      <td>3</td>\n",
       "    </tr>\n",
       "  </tbody>\n",
       "</table>\n",
       "</div>"
      ],
      "text/plain": [
       "          t [mm]             E [GPa]                 layers v [X,SX,Y,SY] ni\n",
       "            mean       std      mean       std                              \n",
       "Name                                                                        \n",
       "TFP2-1  4.500000  0.100000  2.258503  0.065626       [Y, X]  [1, 0, 1, 0]  2\n",
       "TFP3-1  4.900000  0.200000  2.000437  0.004435      [Y, SX]  [0, 1, 1, 0]  2\n",
       "TFP4-1  4.500000  0.000000  2.451362  0.114353      [Y, SY]  [0, 0, 1, 1]  2\n",
       "TFP5-1  5.733333  0.115470  1.626582  0.120272  [Y, SX, SY]  [0, 1, 1, 1]  3\n",
       "TFP6-1  5.533333  0.057735  1.739870  0.067515   [Y, X, SY]  [1, 0, 1, 1]  3"
      ]
     },
     "execution_count": 28,
     "metadata": {},
     "output_type": "execute_result"
    }
   ],
   "source": [
    "df_stats"
   ]
  },
  {
   "cell_type": "code",
   "execution_count": 29,
   "metadata": {},
   "outputs": [],
   "source": [
    "Em_error = np.mean(df_pred[\"E e rel [%]\"])\n",
    "tm_error = np.mean(df_pred[\"t e rel [%]\"])\n",
    "\n",
    "from loadsavejson.savejson import savejson\n",
    "\n",
    "savejson({\"layers\":df_layers, \n",
    "            \"errors\": {\"E\":Em_error, \"t\":tm_error},\n",
    "          \"thickness\":df_thickness},\n",
    "          \"df_opt_free_thin.json\")"
   ]
  },
  {
   "cell_type": "code",
   "execution_count": 30,
   "metadata": {},
   "outputs": [
    {
     "data": {
      "text/html": [
       "<div>\n",
       "<style scoped>\n",
       "    .dataframe tbody tr th:only-of-type {\n",
       "        vertical-align: middle;\n",
       "    }\n",
       "\n",
       "    .dataframe tbody tr th {\n",
       "        vertical-align: top;\n",
       "    }\n",
       "\n",
       "    .dataframe thead th {\n",
       "        text-align: right;\n",
       "    }\n",
       "</style>\n",
       "<table border=\"1\" class=\"dataframe\">\n",
       "  <thead>\n",
       "    <tr style=\"text-align: right;\">\n",
       "      <th></th>\n",
       "      <th>t [mm]</th>\n",
       "    </tr>\n",
       "  </thead>\n",
       "  <tbody>\n",
       "    <tr>\n",
       "      <th>Nucleo</th>\n",
       "      <td>2.51460</td>\n",
       "    </tr>\n",
       "    <tr>\n",
       "      <th>Capas</th>\n",
       "      <td>1.04921</td>\n",
       "    </tr>\n",
       "  </tbody>\n",
       "</table>\n",
       "</div>"
      ],
      "text/plain": [
       "         t [mm]\n",
       "Nucleo  2.51460\n",
       "Capas   1.04921"
      ]
     },
     "execution_count": 30,
     "metadata": {},
     "output_type": "execute_result"
    }
   ],
   "source": [
    "df_thickness"
   ]
  },
  {
   "cell_type": "code",
   "execution_count": 31,
   "metadata": {},
   "outputs": [
    {
     "data": {
      "text/html": [
       "<div>\n",
       "<style scoped>\n",
       "    .dataframe tbody tr th:only-of-type {\n",
       "        vertical-align: middle;\n",
       "    }\n",
       "\n",
       "    .dataframe tbody tr th {\n",
       "        vertical-align: top;\n",
       "    }\n",
       "\n",
       "    .dataframe thead th {\n",
       "        text-align: right;\n",
       "    }\n",
       "</style>\n",
       "<table border=\"1\" class=\"dataframe\">\n",
       "  <thead>\n",
       "    <tr style=\"text-align: right;\">\n",
       "      <th></th>\n",
       "      <th>Evec [GPa]</th>\n",
       "    </tr>\n",
       "  </thead>\n",
       "  <tbody>\n",
       "    <tr>\n",
       "      <th>X</th>\n",
       "      <td>2.946494e-01</td>\n",
       "    </tr>\n",
       "    <tr>\n",
       "      <th>SX</th>\n",
       "      <td>3.625714e-08</td>\n",
       "    </tr>\n",
       "    <tr>\n",
       "      <th>Y</th>\n",
       "      <td>7.318003e+00</td>\n",
       "    </tr>\n",
       "    <tr>\n",
       "      <th>SY</th>\n",
       "      <td>5.123739e-01</td>\n",
       "    </tr>\n",
       "    <tr>\n",
       "      <th>Nucleo</th>\n",
       "      <td>7.916130e-01</td>\n",
       "    </tr>\n",
       "  </tbody>\n",
       "</table>\n",
       "</div>"
      ],
      "text/plain": [
       "          Evec [GPa]\n",
       "X       2.946494e-01\n",
       "SX      3.625714e-08\n",
       "Y       7.318003e+00\n",
       "SY      5.123739e-01\n",
       "Nucleo  7.916130e-01"
      ]
     },
     "execution_count": 31,
     "metadata": {},
     "output_type": "execute_result"
    }
   ],
   "source": [
    "df_layers"
   ]
  }
 ],
 "metadata": {
  "kernelspec": {
   "display_name": ".conda",
   "language": "python",
   "name": "python3"
  },
  "language_info": {
   "codemirror_mode": {
    "name": "ipython",
    "version": 3
   },
   "file_extension": ".py",
   "mimetype": "text/x-python",
   "name": "python",
   "nbconvert_exporter": "python",
   "pygments_lexer": "ipython3",
   "version": "3.11.10"
  }
 },
 "nbformat": 4,
 "nbformat_minor": 2
}
