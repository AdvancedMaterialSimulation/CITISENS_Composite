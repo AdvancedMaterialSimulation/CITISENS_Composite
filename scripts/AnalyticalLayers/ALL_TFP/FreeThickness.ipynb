{
 "cells": [
  {
   "cell_type": "code",
   "execution_count": 1,
   "metadata": {},
   "outputs": [],
   "source": [
    "t_nucleo_exp_inches = 0.11\n",
    "t_nucleo_exp = t_nucleo_exp_inches * 25.4\n",
    "\n",
    "Tau_jorge_inches = 0.191\n",
    "Tau_jorge = Tau_jorge_inches * 25.4"
   ]
  },
  {
   "cell_type": "code",
   "execution_count": 2,
   "metadata": {},
   "outputs": [
    {
     "data": {
      "text/plain": [
       "2.794"
      ]
     },
     "execution_count": 2,
     "metadata": {},
     "output_type": "execute_result"
    }
   ],
   "source": [
    "t_nucleo_exp"
   ]
  },
  {
   "cell_type": "code",
   "execution_count": 3,
   "metadata": {},
   "outputs": [],
   "source": [
    "import pandas as pd\n",
    "from matplotlib import pyplot as plt\n",
    "from scipy.optimize import minimize,basinhopping\n",
    "import numpy as np"
   ]
  },
  {
   "cell_type": "code",
   "execution_count": 4,
   "metadata": {},
   "outputs": [],
   "source": [
    "\n",
    "df = pd.read_csv('../experimental.csv', sep='\\t')"
   ]
  },
  {
   "cell_type": "code",
   "execution_count": 5,
   "metadata": {},
   "outputs": [
    {
     "data": {
      "text/html": [
       "<div>\n",
       "<style scoped>\n",
       "    .dataframe tbody tr th:only-of-type {\n",
       "        vertical-align: middle;\n",
       "    }\n",
       "\n",
       "    .dataframe tbody tr th {\n",
       "        vertical-align: top;\n",
       "    }\n",
       "\n",
       "    .dataframe thead th {\n",
       "        text-align: right;\n",
       "    }\n",
       "</style>\n",
       "<table border=\"1\" class=\"dataframe\">\n",
       "  <thead>\n",
       "    <tr style=\"text-align: right;\">\n",
       "      <th></th>\n",
       "      <th>Name</th>\n",
       "      <th>t [mm]</th>\n",
       "      <th>E [GPa]</th>\n",
       "    </tr>\n",
       "  </thead>\n",
       "  <tbody>\n",
       "    <tr>\n",
       "      <th>0</th>\n",
       "      <td>TFP1-1</td>\n",
       "      <td>4.9</td>\n",
       "      <td>2.838353</td>\n",
       "    </tr>\n",
       "    <tr>\n",
       "      <th>1</th>\n",
       "      <td>TFP1-1</td>\n",
       "      <td>4.9</td>\n",
       "      <td>2.685491</td>\n",
       "    </tr>\n",
       "    <tr>\n",
       "      <th>2</th>\n",
       "      <td>TFP1-1</td>\n",
       "      <td>5.0</td>\n",
       "      <td>3.132684</td>\n",
       "    </tr>\n",
       "    <tr>\n",
       "      <th>3</th>\n",
       "      <td>TFP2-1</td>\n",
       "      <td>4.4</td>\n",
       "      <td>2.184874</td>\n",
       "    </tr>\n",
       "    <tr>\n",
       "      <th>4</th>\n",
       "      <td>TFP2-1</td>\n",
       "      <td>4.6</td>\n",
       "      <td>2.310839</td>\n",
       "    </tr>\n",
       "  </tbody>\n",
       "</table>\n",
       "</div>"
      ],
      "text/plain": [
       "     Name  t [mm]   E [GPa]\n",
       "0  TFP1-1     4.9  2.838353\n",
       "1  TFP1-1     4.9  2.685491\n",
       "2  TFP1-1     5.0  3.132684\n",
       "3  TFP2-1     4.4  2.184874\n",
       "4  TFP2-1     4.6  2.310839"
      ]
     },
     "execution_count": 5,
     "metadata": {},
     "output_type": "execute_result"
    }
   ],
   "source": [
    "df = df[[\"Nombre\",\"Modulo Tracción [MPa]\",\"Espesor (mm)\"]]\n",
    "# change column names to E[MPa] and t[mm]\n",
    "df.columns = ['Name', 'E [MPa]', 't [mm]']\n",
    "# GPa\n",
    "df[\"E [GPa]\"] = df[\"E [MPa]\"] / 1000\n",
    "df.drop(columns=[\"E [MPa]\"], inplace=True)\n",
    "df.head()"
   ]
  },
  {
   "cell_type": "code",
   "execution_count": 6,
   "metadata": {},
   "outputs": [],
   "source": [
    "df_stats = df.groupby('Name').agg(['mean', 'std'])\n",
    "\n"
   ]
  },
  {
   "cell_type": "code",
   "execution_count": 7,
   "metadata": {},
   "outputs": [],
   "source": [
    "composition = [\n",
    "        [\"Y\"],\n",
    "        [\"Y\", \"X\"],\n",
    "        [\"Y\", \"SX\"],\n",
    "        [\"Y\", \"SY\"],\n",
    "        [\"Y\",\"SX\", \"SY\"],\n",
    "        [\"Y\",\"X\", \"SY\"]\n",
    "    ]\n",
    "df_stats[\"layers\"] = composition"
   ]
  },
  {
   "cell_type": "code",
   "execution_count": 8,
   "metadata": {},
   "outputs": [
    {
     "data": {
      "text/html": [
       "<div>\n",
       "<style scoped>\n",
       "    .dataframe tbody tr th:only-of-type {\n",
       "        vertical-align: middle;\n",
       "    }\n",
       "\n",
       "    .dataframe tbody tr th {\n",
       "        vertical-align: top;\n",
       "    }\n",
       "\n",
       "    .dataframe thead tr th {\n",
       "        text-align: left;\n",
       "    }\n",
       "\n",
       "    .dataframe thead tr:last-of-type th {\n",
       "        text-align: right;\n",
       "    }\n",
       "</style>\n",
       "<table border=\"1\" class=\"dataframe\">\n",
       "  <thead>\n",
       "    <tr>\n",
       "      <th></th>\n",
       "      <th colspan=\"2\" halign=\"left\">t [mm]</th>\n",
       "      <th colspan=\"2\" halign=\"left\">E [GPa]</th>\n",
       "      <th>layers</th>\n",
       "    </tr>\n",
       "    <tr>\n",
       "      <th></th>\n",
       "      <th>mean</th>\n",
       "      <th>std</th>\n",
       "      <th>mean</th>\n",
       "      <th>std</th>\n",
       "      <th></th>\n",
       "    </tr>\n",
       "    <tr>\n",
       "      <th>Name</th>\n",
       "      <th></th>\n",
       "      <th></th>\n",
       "      <th></th>\n",
       "      <th></th>\n",
       "      <th></th>\n",
       "    </tr>\n",
       "  </thead>\n",
       "  <tbody>\n",
       "    <tr>\n",
       "      <th>TFP1-1</th>\n",
       "      <td>4.933333</td>\n",
       "      <td>0.057735</td>\n",
       "      <td>2.885509</td>\n",
       "      <td>0.227295</td>\n",
       "      <td>[Y]</td>\n",
       "    </tr>\n",
       "    <tr>\n",
       "      <th>TFP2-1</th>\n",
       "      <td>4.500000</td>\n",
       "      <td>0.100000</td>\n",
       "      <td>2.258503</td>\n",
       "      <td>0.065626</td>\n",
       "      <td>[Y, X]</td>\n",
       "    </tr>\n",
       "    <tr>\n",
       "      <th>TFP3-1</th>\n",
       "      <td>4.900000</td>\n",
       "      <td>0.200000</td>\n",
       "      <td>2.000437</td>\n",
       "      <td>0.004435</td>\n",
       "      <td>[Y, SX]</td>\n",
       "    </tr>\n",
       "    <tr>\n",
       "      <th>TFP4-1</th>\n",
       "      <td>4.500000</td>\n",
       "      <td>0.000000</td>\n",
       "      <td>2.451362</td>\n",
       "      <td>0.114353</td>\n",
       "      <td>[Y, SY]</td>\n",
       "    </tr>\n",
       "    <tr>\n",
       "      <th>TFP5-1</th>\n",
       "      <td>5.733333</td>\n",
       "      <td>0.115470</td>\n",
       "      <td>1.626582</td>\n",
       "      <td>0.120272</td>\n",
       "      <td>[Y, SX, SY]</td>\n",
       "    </tr>\n",
       "    <tr>\n",
       "      <th>TFP6-1</th>\n",
       "      <td>5.533333</td>\n",
       "      <td>0.057735</td>\n",
       "      <td>1.739870</td>\n",
       "      <td>0.067515</td>\n",
       "      <td>[Y, X, SY]</td>\n",
       "    </tr>\n",
       "  </tbody>\n",
       "</table>\n",
       "</div>"
      ],
      "text/plain": [
       "          t [mm]             E [GPa]                 layers\n",
       "            mean       std      mean       std             \n",
       "Name                                                       \n",
       "TFP1-1  4.933333  0.057735  2.885509  0.227295          [Y]\n",
       "TFP2-1  4.500000  0.100000  2.258503  0.065626       [Y, X]\n",
       "TFP3-1  4.900000  0.200000  2.000437  0.004435      [Y, SX]\n",
       "TFP4-1  4.500000  0.000000  2.451362  0.114353      [Y, SY]\n",
       "TFP5-1  5.733333  0.115470  1.626582  0.120272  [Y, SX, SY]\n",
       "TFP6-1  5.533333  0.057735  1.739870  0.067515   [Y, X, SY]"
      ]
     },
     "execution_count": 8,
     "metadata": {},
     "output_type": "execute_result"
    }
   ],
   "source": [
    "df_stats"
   ]
  },
  {
   "cell_type": "code",
   "execution_count": 9,
   "metadata": {},
   "outputs": [
    {
     "data": {
      "text/plain": [
       "<Axes: title={'center': 'Modulo Tracción [GPa]'}, xlabel='Name'>"
      ]
     },
     "execution_count": 9,
     "metadata": {},
     "output_type": "execute_result"
    },
    {
     "data": {
      "image/png": "[encoded data removed]",
      "text/plain": [
       "<Figure size 900x400 with 2 Axes>"
      ]
     },
     "metadata": {},
     "output_type": "display_data"
    }
   ],
   "source": [
    "# plot bars with error bars Espesor (mm)\n",
    "fig = plt.figure(figsize=(9, 4))\n",
    "ax = fig.add_subplot(121)\n",
    "df_stats['t [mm]'].plot(kind='bar', y='mean', yerr='std', legend=False, title='Espesor (mm)', ax=ax)\n",
    "# plot bars with error bars Modulo Tracción [MPa]\n",
    "ax = fig.add_subplot(122)\n",
    "df_stats['E [GPa]'].plot(kind='bar', y='mean', yerr='std', legend=False, title='Modulo Tracción [GPa]', ax=ax)"
   ]
  },
  {
   "cell_type": "code",
   "execution_count": 10,
   "metadata": {},
   "outputs": [
    {
     "data": {
      "text/html": [
       "<div>\n",
       "<style scoped>\n",
       "    .dataframe tbody tr th:only-of-type {\n",
       "        vertical-align: middle;\n",
       "    }\n",
       "\n",
       "    .dataframe tbody tr th {\n",
       "        vertical-align: top;\n",
       "    }\n",
       "\n",
       "    .dataframe thead tr th {\n",
       "        text-align: left;\n",
       "    }\n",
       "\n",
       "    .dataframe thead tr:last-of-type th {\n",
       "        text-align: right;\n",
       "    }\n",
       "</style>\n",
       "<table border=\"1\" class=\"dataframe\">\n",
       "  <thead>\n",
       "    <tr>\n",
       "      <th></th>\n",
       "      <th colspan=\"2\" halign=\"left\">t [mm]</th>\n",
       "      <th colspan=\"2\" halign=\"left\">E [GPa]</th>\n",
       "      <th>layers</th>\n",
       "    </tr>\n",
       "    <tr>\n",
       "      <th></th>\n",
       "      <th>mean</th>\n",
       "      <th>std</th>\n",
       "      <th>mean</th>\n",
       "      <th>std</th>\n",
       "      <th></th>\n",
       "    </tr>\n",
       "    <tr>\n",
       "      <th>Name</th>\n",
       "      <th></th>\n",
       "      <th></th>\n",
       "      <th></th>\n",
       "      <th></th>\n",
       "      <th></th>\n",
       "    </tr>\n",
       "  </thead>\n",
       "  <tbody>\n",
       "    <tr>\n",
       "      <th>TFP1-1</th>\n",
       "      <td>4.933333</td>\n",
       "      <td>0.057735</td>\n",
       "      <td>2.885509</td>\n",
       "      <td>0.227295</td>\n",
       "      <td>[Y]</td>\n",
       "    </tr>\n",
       "    <tr>\n",
       "      <th>TFP2-1</th>\n",
       "      <td>4.500000</td>\n",
       "      <td>0.100000</td>\n",
       "      <td>2.258503</td>\n",
       "      <td>0.065626</td>\n",
       "      <td>[Y, X]</td>\n",
       "    </tr>\n",
       "    <tr>\n",
       "      <th>TFP3-1</th>\n",
       "      <td>4.900000</td>\n",
       "      <td>0.200000</td>\n",
       "      <td>2.000437</td>\n",
       "      <td>0.004435</td>\n",
       "      <td>[Y, SX]</td>\n",
       "    </tr>\n",
       "    <tr>\n",
       "      <th>TFP4-1</th>\n",
       "      <td>4.500000</td>\n",
       "      <td>0.000000</td>\n",
       "      <td>2.451362</td>\n",
       "      <td>0.114353</td>\n",
       "      <td>[Y, SY]</td>\n",
       "    </tr>\n",
       "    <tr>\n",
       "      <th>TFP5-1</th>\n",
       "      <td>5.733333</td>\n",
       "      <td>0.115470</td>\n",
       "      <td>1.626582</td>\n",
       "      <td>0.120272</td>\n",
       "      <td>[Y, SX, SY]</td>\n",
       "    </tr>\n",
       "    <tr>\n",
       "      <th>TFP6-1</th>\n",
       "      <td>5.533333</td>\n",
       "      <td>0.057735</td>\n",
       "      <td>1.739870</td>\n",
       "      <td>0.067515</td>\n",
       "      <td>[Y, X, SY]</td>\n",
       "    </tr>\n",
       "  </tbody>\n",
       "</table>\n",
       "</div>"
      ],
      "text/plain": [
       "          t [mm]             E [GPa]                 layers\n",
       "            mean       std      mean       std             \n",
       "Name                                                       \n",
       "TFP1-1  4.933333  0.057735  2.885509  0.227295          [Y]\n",
       "TFP2-1  4.500000  0.100000  2.258503  0.065626       [Y, X]\n",
       "TFP3-1  4.900000  0.200000  2.000437  0.004435      [Y, SX]\n",
       "TFP4-1  4.500000  0.000000  2.451362  0.114353      [Y, SY]\n",
       "TFP5-1  5.733333  0.115470  1.626582  0.120272  [Y, SX, SY]\n",
       "TFP6-1  5.533333  0.057735  1.739870  0.067515   [Y, X, SY]"
      ]
     },
     "execution_count": 10,
     "metadata": {},
     "output_type": "execute_result"
    }
   ],
   "source": [
    "df_stats"
   ]
  },
  {
   "cell_type": "code",
   "execution_count": 11,
   "metadata": {},
   "outputs": [],
   "source": [
    "# [X]       -> [1,0,0,0]\n",
    "# [X, SX]   -> [1,0,1,0]\n",
    "# [X, Y]    -> [1,1,0,0]\n",
    "# [X, SY]       -> [1,0,0,1]\n",
    "# [X, SX, SY]   -> [1,0,1,1]\n",
    "# [X, Y, SY]    -> [1,1,0,1]\n",
    "\n",
    "def get_vector(list_of_layers):\n",
    "    vector = [0,0,0,0]\n",
    "    if \"X\" in list_of_layers:\n",
    "        vector[0] = 1\n",
    "    if \"SX\" in list_of_layers:\n",
    "        vector[1] = 1\n",
    "    if \"Y\" in list_of_layers:\n",
    "        vector[2] = 1\n",
    "    if \"SY\" in list_of_layers:\n",
    "        vector[3] = 1\n",
    "\n",
    "    return vector\n"
   ]
  },
  {
   "cell_type": "code",
   "execution_count": 12,
   "metadata": {},
   "outputs": [
    {
     "data": {
      "text/html": [
       "<div>\n",
       "<style scoped>\n",
       "    .dataframe tbody tr th:only-of-type {\n",
       "        vertical-align: middle;\n",
       "    }\n",
       "\n",
       "    .dataframe tbody tr th {\n",
       "        vertical-align: top;\n",
       "    }\n",
       "\n",
       "    .dataframe thead tr th {\n",
       "        text-align: left;\n",
       "    }\n",
       "\n",
       "    .dataframe thead tr:last-of-type th {\n",
       "        text-align: right;\n",
       "    }\n",
       "</style>\n",
       "<table border=\"1\" class=\"dataframe\">\n",
       "  <thead>\n",
       "    <tr>\n",
       "      <th></th>\n",
       "      <th colspan=\"2\" halign=\"left\">t [mm]</th>\n",
       "      <th colspan=\"2\" halign=\"left\">E [GPa]</th>\n",
       "      <th>layers</th>\n",
       "      <th>v [X,SX,Y,SY]</th>\n",
       "      <th>ni</th>\n",
       "    </tr>\n",
       "    <tr>\n",
       "      <th></th>\n",
       "      <th>mean</th>\n",
       "      <th>std</th>\n",
       "      <th>mean</th>\n",
       "      <th>std</th>\n",
       "      <th></th>\n",
       "      <th></th>\n",
       "      <th></th>\n",
       "    </tr>\n",
       "    <tr>\n",
       "      <th>Name</th>\n",
       "      <th></th>\n",
       "      <th></th>\n",
       "      <th></th>\n",
       "      <th></th>\n",
       "      <th></th>\n",
       "      <th></th>\n",
       "      <th></th>\n",
       "    </tr>\n",
       "  </thead>\n",
       "  <tbody>\n",
       "    <tr>\n",
       "      <th>TFP1-1</th>\n",
       "      <td>4.933333</td>\n",
       "      <td>0.057735</td>\n",
       "      <td>2.885509</td>\n",
       "      <td>0.227295</td>\n",
       "      <td>[Y]</td>\n",
       "      <td>[0, 0, 1, 0]</td>\n",
       "      <td>1</td>\n",
       "    </tr>\n",
       "    <tr>\n",
       "      <th>TFP2-1</th>\n",
       "      <td>4.500000</td>\n",
       "      <td>0.100000</td>\n",
       "      <td>2.258503</td>\n",
       "      <td>0.065626</td>\n",
       "      <td>[Y, X]</td>\n",
       "      <td>[1, 0, 1, 0]</td>\n",
       "      <td>2</td>\n",
       "    </tr>\n",
       "    <tr>\n",
       "      <th>TFP3-1</th>\n",
       "      <td>4.900000</td>\n",
       "      <td>0.200000</td>\n",
       "      <td>2.000437</td>\n",
       "      <td>0.004435</td>\n",
       "      <td>[Y, SX]</td>\n",
       "      <td>[0, 1, 1, 0]</td>\n",
       "      <td>2</td>\n",
       "    </tr>\n",
       "    <tr>\n",
       "      <th>TFP4-1</th>\n",
       "      <td>4.500000</td>\n",
       "      <td>0.000000</td>\n",
       "      <td>2.451362</td>\n",
       "      <td>0.114353</td>\n",
       "      <td>[Y, SY]</td>\n",
       "      <td>[0, 0, 1, 1]</td>\n",
       "      <td>2</td>\n",
       "    </tr>\n",
       "    <tr>\n",
       "      <th>TFP5-1</th>\n",
       "      <td>5.733333</td>\n",
       "      <td>0.115470</td>\n",
       "      <td>1.626582</td>\n",
       "      <td>0.120272</td>\n",
       "      <td>[Y, SX, SY]</td>\n",
       "      <td>[0, 1, 1, 1]</td>\n",
       "      <td>3</td>\n",
       "    </tr>\n",
       "    <tr>\n",
       "      <th>TFP6-1</th>\n",
       "      <td>5.533333</td>\n",
       "      <td>0.057735</td>\n",
       "      <td>1.739870</td>\n",
       "      <td>0.067515</td>\n",
       "      <td>[Y, X, SY]</td>\n",
       "      <td>[1, 0, 1, 1]</td>\n",
       "      <td>3</td>\n",
       "    </tr>\n",
       "  </tbody>\n",
       "</table>\n",
       "</div>"
      ],
      "text/plain": [
       "          t [mm]             E [GPa]                 layers v [X,SX,Y,SY] ni\n",
       "            mean       std      mean       std                              \n",
       "Name                                                                        \n",
       "TFP1-1  4.933333  0.057735  2.885509  0.227295          [Y]  [0, 0, 1, 0]  1\n",
       "TFP2-1  4.500000  0.100000  2.258503  0.065626       [Y, X]  [1, 0, 1, 0]  2\n",
       "TFP3-1  4.900000  0.200000  2.000437  0.004435      [Y, SX]  [0, 1, 1, 0]  2\n",
       "TFP4-1  4.500000  0.000000  2.451362  0.114353      [Y, SY]  [0, 0, 1, 1]  2\n",
       "TFP5-1  5.733333  0.115470  1.626582  0.120272  [Y, SX, SY]  [0, 1, 1, 1]  3\n",
       "TFP6-1  5.533333  0.057735  1.739870  0.067515   [Y, X, SY]  [1, 0, 1, 1]  3"
      ]
     },
     "execution_count": 12,
     "metadata": {},
     "output_type": "execute_result"
    }
   ],
   "source": [
    "\n",
    "df_stats['v [X,SX,Y,SY]'] = df_stats['layers'].apply(get_vector)\n",
    "df_stats[\"ni\"] = df_stats[\"layers\"].apply(len)\n",
    "df_stats"
   ]
  },
  {
   "cell_type": "code",
   "execution_count": 13,
   "metadata": {},
   "outputs": [
    {
     "data": {
      "text/html": [
       "<div>\n",
       "<style scoped>\n",
       "    .dataframe tbody tr th:only-of-type {\n",
       "        vertical-align: middle;\n",
       "    }\n",
       "\n",
       "    .dataframe tbody tr th {\n",
       "        vertical-align: top;\n",
       "    }\n",
       "\n",
       "    .dataframe thead tr th {\n",
       "        text-align: left;\n",
       "    }\n",
       "\n",
       "    .dataframe thead tr:last-of-type th {\n",
       "        text-align: right;\n",
       "    }\n",
       "</style>\n",
       "<table border=\"1\" class=\"dataframe\">\n",
       "  <thead>\n",
       "    <tr>\n",
       "      <th></th>\n",
       "      <th>layers</th>\n",
       "      <th>v [X,SX,Y,SY]</th>\n",
       "      <th>ni</th>\n",
       "    </tr>\n",
       "    <tr>\n",
       "      <th></th>\n",
       "      <th></th>\n",
       "      <th></th>\n",
       "      <th></th>\n",
       "    </tr>\n",
       "    <tr>\n",
       "      <th>Name</th>\n",
       "      <th></th>\n",
       "      <th></th>\n",
       "      <th></th>\n",
       "    </tr>\n",
       "  </thead>\n",
       "  <tbody>\n",
       "    <tr>\n",
       "      <th>TFP1-1</th>\n",
       "      <td>[Y]</td>\n",
       "      <td>[0, 0, 1, 0]</td>\n",
       "      <td>1</td>\n",
       "    </tr>\n",
       "    <tr>\n",
       "      <th>TFP2-1</th>\n",
       "      <td>[Y, X]</td>\n",
       "      <td>[1, 0, 1, 0]</td>\n",
       "      <td>2</td>\n",
       "    </tr>\n",
       "    <tr>\n",
       "      <th>TFP3-1</th>\n",
       "      <td>[Y, SX]</td>\n",
       "      <td>[0, 1, 1, 0]</td>\n",
       "      <td>2</td>\n",
       "    </tr>\n",
       "    <tr>\n",
       "      <th>TFP4-1</th>\n",
       "      <td>[Y, SY]</td>\n",
       "      <td>[0, 0, 1, 1]</td>\n",
       "      <td>2</td>\n",
       "    </tr>\n",
       "    <tr>\n",
       "      <th>TFP5-1</th>\n",
       "      <td>[Y, SX, SY]</td>\n",
       "      <td>[0, 1, 1, 1]</td>\n",
       "      <td>3</td>\n",
       "    </tr>\n",
       "    <tr>\n",
       "      <th>TFP6-1</th>\n",
       "      <td>[Y, X, SY]</td>\n",
       "      <td>[1, 0, 1, 1]</td>\n",
       "      <td>3</td>\n",
       "    </tr>\n",
       "  </tbody>\n",
       "</table>\n",
       "</div>"
      ],
      "text/plain": [
       "             layers v [X,SX,Y,SY] ni\n",
       "                                    \n",
       "Name                                \n",
       "TFP1-1          [Y]  [0, 0, 1, 0]  1\n",
       "TFP2-1       [Y, X]  [1, 0, 1, 0]  2\n",
       "TFP3-1      [Y, SX]  [0, 1, 1, 0]  2\n",
       "TFP4-1      [Y, SY]  [0, 0, 1, 1]  2\n",
       "TFP5-1  [Y, SX, SY]  [0, 1, 1, 1]  3\n",
       "TFP6-1   [Y, X, SY]  [1, 0, 1, 1]  3"
      ]
     },
     "execution_count": 13,
     "metadata": {},
     "output_type": "execute_result"
    }
   ],
   "source": [
    "df_stats[[\"layers\", \"v [X,SX,Y,SY]\", \"ni\"]]"
   ]
  },
  {
   "cell_type": "code",
   "execution_count": 14,
   "metadata": {},
   "outputs": [
    {
     "name": "stdout",
     "output_type": "stream",
     "text": [
      "[1 2 2 2 3 3]\n"
     ]
    }
   ],
   "source": [
    "# only thin \n",
    "\n",
    "ni = df_stats[\"ni\"].values\n",
    "tau_exp = df_stats[\"t [mm]\"][\"mean\"].values\n",
    "print(ni )\n",
    "tau_pred_fcn = lambda tn,tl: tn + tl*ni"
   ]
  },
  {
   "cell_type": "code",
   "execution_count": 15,
   "metadata": {},
   "outputs": [],
   "source": [
    "\n",
    "from Composite.CreateLines.BasicLines import BasicLines\n",
    "\n",
    "\n",
    "lines = {\n",
    "    \"r\": 2.5,\n",
    "    \"Nx_sq\": 1,\n",
    "    \"Ny_sq\": 1,\n",
    "    \"type\":  'sin' # 'circle' or 'sin'\n",
    "}\n",
    "\n",
    "lines = BasicLines(lines)"
   ]
  },
  {
   "cell_type": "code",
   "execution_count": 16,
   "metadata": {},
   "outputs": [
    {
     "data": {
      "text/plain": [
       "dict_keys(['trajs_X', 'trajs_Y', 'trajs_SX', 'trajs_SY', 'Lx', 'Ly'])"
      ]
     },
     "execution_count": 16,
     "metadata": {},
     "output_type": "execute_result"
    }
   ],
   "source": [
    "lines.keys()"
   ]
  },
  {
   "cell_type": "code",
   "execution_count": 17,
   "metadata": {},
   "outputs": [
    {
     "data": {
      "image/png": "[encoded data removed]",
      "text/plain": [
       "<Figure size 700x700 with 4 Axes>"
      ]
     },
     "metadata": {},
     "output_type": "display_data"
    }
   ],
   "source": [
    "fig = plt.figure(figsize=(7, 7))\n",
    "for k,layer in enumerate(lines.keys()):\n",
    "    # if start with trajs plt\n",
    "    if layer.startswith(\"trajs\"):\n",
    "        plt.subplot(2,2,k+1)\n",
    "\n",
    "        for il in lines[layer]:\n",
    "            plt.plot(il[:,0], il[:,1], 'k-')\n",
    "        plt.title(layer.replace(\"trajs_\",\"\"))\n",
    "        # no ticks\n",
    "        plt.xticks([])\n",
    "        plt.yticks([])"
   ]
  },
  {
   "cell_type": "code",
   "execution_count": 18,
   "metadata": {},
   "outputs": [
    {
     "data": {
      "text/plain": [
       "{'trajs_X': [array([[0.00000000e+00, 0.00000000e+00, 0.00000000e+00],\n",
       "         [5.00250125e-03, 0.00000000e+00, 0.00000000e+00],\n",
       "         [1.00050025e-02, 0.00000000e+00, 0.00000000e+00],\n",
       "         ...,\n",
       "         [9.98999500e+00, 0.00000000e+00, 0.00000000e+00],\n",
       "         [9.99499750e+00, 0.00000000e+00, 0.00000000e+00],\n",
       "         [1.00000000e+01, 0.00000000e+00, 0.00000000e+00]], shape=(2000, 3)),\n",
       "  array([[0.00000000e+00, 1.66666667e+00, 0.00000000e+00],\n",
       "         [5.00250125e-03, 1.66666667e+00, 0.00000000e+00],\n",
       "         [1.00050025e-02, 1.66666667e+00, 0.00000000e+00],\n",
       "         ...,\n",
       "         [9.98999500e+00, 1.66666667e+00, 0.00000000e+00],\n",
       "         [9.99499750e+00, 1.66666667e+00, 0.00000000e+00],\n",
       "         [1.00000000e+01, 1.66666667e+00, 0.00000000e+00]], shape=(2000, 3)),\n",
       "  array([[0.00000000e+00, 3.33333333e+00, 0.00000000e+00],\n",
       "         [5.00250125e-03, 3.33333333e+00, 0.00000000e+00],\n",
       "         [1.00050025e-02, 3.33333333e+00, 0.00000000e+00],\n",
       "         ...,\n",
       "         [9.98999500e+00, 3.33333333e+00, 0.00000000e+00],\n",
       "         [9.99499750e+00, 3.33333333e+00, 0.00000000e+00],\n",
       "         [1.00000000e+01, 3.33333333e+00, 0.00000000e+00]], shape=(2000, 3)),\n",
       "  array([[0.00000000e+00, 5.00000000e+00, 0.00000000e+00],\n",
       "         [5.00250125e-03, 5.00000000e+00, 0.00000000e+00],\n",
       "         [1.00050025e-02, 5.00000000e+00, 0.00000000e+00],\n",
       "         ...,\n",
       "         [9.98999500e+00, 5.00000000e+00, 0.00000000e+00],\n",
       "         [9.99499750e+00, 5.00000000e+00, 0.00000000e+00],\n",
       "         [1.00000000e+01, 5.00000000e+00, 0.00000000e+00]], shape=(2000, 3)),\n",
       "  array([[0.00000000e+00, 6.66666667e+00, 0.00000000e+00],\n",
       "         [5.00250125e-03, 6.66666667e+00, 0.00000000e+00],\n",
       "         [1.00050025e-02, 6.66666667e+00, 0.00000000e+00],\n",
       "         ...,\n",
       "         [9.98999500e+00, 6.66666667e+00, 0.00000000e+00],\n",
       "         [9.99499750e+00, 6.66666667e+00, 0.00000000e+00],\n",
       "         [1.00000000e+01, 6.66666667e+00, 0.00000000e+00]], shape=(2000, 3)),\n",
       "  array([[0.00000000e+00, 8.33333333e+00, 0.00000000e+00],\n",
       "         [5.00250125e-03, 8.33333333e+00, 0.00000000e+00],\n",
       "         [1.00050025e-02, 8.33333333e+00, 0.00000000e+00],\n",
       "         ...,\n",
       "         [9.98999500e+00, 8.33333333e+00, 0.00000000e+00],\n",
       "         [9.99499750e+00, 8.33333333e+00, 0.00000000e+00],\n",
       "         [1.00000000e+01, 8.33333333e+00, 0.00000000e+00]], shape=(2000, 3)),\n",
       "  array([[0.00000000e+00, 1.00000000e+01, 0.00000000e+00],\n",
       "         [5.00250125e-03, 1.00000000e+01, 0.00000000e+00],\n",
       "         [1.00050025e-02, 1.00000000e+01, 0.00000000e+00],\n",
       "         ...,\n",
       "         [9.98999500e+00, 1.00000000e+01, 0.00000000e+00],\n",
       "         [9.99499750e+00, 1.00000000e+01, 0.00000000e+00],\n",
       "         [1.00000000e+01, 1.00000000e+01, 0.00000000e+00]], shape=(2000, 3))],\n",
       " 'trajs_Y': [array([[0.00000000e+00, 0.00000000e+00, 0.00000000e+00],\n",
       "         [0.00000000e+00, 5.00250125e-03, 0.00000000e+00],\n",
       "         [0.00000000e+00, 1.00050025e-02, 0.00000000e+00],\n",
       "         ...,\n",
       "         [0.00000000e+00, 9.98999500e+00, 0.00000000e+00],\n",
       "         [0.00000000e+00, 9.99499750e+00, 0.00000000e+00],\n",
       "         [0.00000000e+00, 1.00000000e+01, 0.00000000e+00]], shape=(2000, 3)),\n",
       "  array([[1.66666667e+00, 0.00000000e+00, 0.00000000e+00],\n",
       "         [1.66666667e+00, 5.00250125e-03, 0.00000000e+00],\n",
       "         [1.66666667e+00, 1.00050025e-02, 0.00000000e+00],\n",
       "         ...,\n",
       "         [1.66666667e+00, 9.98999500e+00, 0.00000000e+00],\n",
       "         [1.66666667e+00, 9.99499750e+00, 0.00000000e+00],\n",
       "         [1.66666667e+00, 1.00000000e+01, 0.00000000e+00]], shape=(2000, 3)),\n",
       "  array([[3.33333333e+00, 0.00000000e+00, 0.00000000e+00],\n",
       "         [3.33333333e+00, 5.00250125e-03, 0.00000000e+00],\n",
       "         [3.33333333e+00, 1.00050025e-02, 0.00000000e+00],\n",
       "         ...,\n",
       "         [3.33333333e+00, 9.98999500e+00, 0.00000000e+00],\n",
       "         [3.33333333e+00, 9.99499750e+00, 0.00000000e+00],\n",
       "         [3.33333333e+00, 1.00000000e+01, 0.00000000e+00]], shape=(2000, 3)),\n",
       "  array([[5.00000000e+00, 0.00000000e+00, 0.00000000e+00],\n",
       "         [5.00000000e+00, 5.00250125e-03, 0.00000000e+00],\n",
       "         [5.00000000e+00, 1.00050025e-02, 0.00000000e+00],\n",
       "         ...,\n",
       "         [5.00000000e+00, 9.98999500e+00, 0.00000000e+00],\n",
       "         [5.00000000e+00, 9.99499750e+00, 0.00000000e+00],\n",
       "         [5.00000000e+00, 1.00000000e+01, 0.00000000e+00]], shape=(2000, 3)),\n",
       "  array([[6.66666667e+00, 0.00000000e+00, 0.00000000e+00],\n",
       "         [6.66666667e+00, 5.00250125e-03, 0.00000000e+00],\n",
       "         [6.66666667e+00, 1.00050025e-02, 0.00000000e+00],\n",
       "         ...,\n",
       "         [6.66666667e+00, 9.98999500e+00, 0.00000000e+00],\n",
       "         [6.66666667e+00, 9.99499750e+00, 0.00000000e+00],\n",
       "         [6.66666667e+00, 1.00000000e+01, 0.00000000e+00]], shape=(2000, 3)),\n",
       "  array([[8.33333333e+00, 0.00000000e+00, 0.00000000e+00],\n",
       "         [8.33333333e+00, 5.00250125e-03, 0.00000000e+00],\n",
       "         [8.33333333e+00, 1.00050025e-02, 0.00000000e+00],\n",
       "         ...,\n",
       "         [8.33333333e+00, 9.98999500e+00, 0.00000000e+00],\n",
       "         [8.33333333e+00, 9.99499750e+00, 0.00000000e+00],\n",
       "         [8.33333333e+00, 1.00000000e+01, 0.00000000e+00]], shape=(2000, 3)),\n",
       "  array([[1.00000000e+01, 0.00000000e+00, 0.00000000e+00],\n",
       "         [1.00000000e+01, 5.00250125e-03, 0.00000000e+00],\n",
       "         [1.00000000e+01, 1.00050025e-02, 0.00000000e+00],\n",
       "         ...,\n",
       "         [1.00000000e+01, 9.98999500e+00, 0.00000000e+00],\n",
       "         [1.00000000e+01, 9.99499750e+00, 0.00000000e+00],\n",
       "         [1.00000000e+01, 1.00000000e+01, 0.00000000e+00]], shape=(2000, 3))],\n",
       " 'trajs_SX': [array([[0.00000000e+00, 2.50000000e+00, 0.00000000e+00],\n",
       "         [5.00100020e-04, 2.49999988e+00, 0.00000000e+00],\n",
       "         [1.00020004e-03, 2.49999951e+00, 0.00000000e+00],\n",
       "         ...,\n",
       "         [2.49899980e+00, 1.57111045e-03, 0.00000000e+00],\n",
       "         [2.49949990e+00, 7.85555262e-04, 0.00000000e+00],\n",
       "         [2.50000000e+00, 1.53080850e-16, 0.00000000e+00]], shape=(5000, 3)),\n",
       "  array([[7.50000000e+00, 1.53080850e-16, 0.00000000e+00],\n",
       "         [7.50050010e+00, 7.85555262e-04, 0.00000000e+00],\n",
       "         [7.50100020e+00, 1.57111045e-03, 0.00000000e+00],\n",
       "         ...,\n",
       "         [9.99899980e+00, 2.49999951e+00, 0.00000000e+00],\n",
       "         [9.99949990e+00, 2.49999988e+00, 0.00000000e+00],\n",
       "         [1.00000000e+01, 2.50000000e+00, 0.00000000e+00]], shape=(5000, 3)),\n",
       "  array([[ 2.5       , 10.        ,  0.        ],\n",
       "         [ 2.5005001 ,  9.99921444,  0.        ],\n",
       "         [ 2.5010002 ,  9.99842889,  0.        ],\n",
       "         ...,\n",
       "         [ 7.4989998 ,  9.99842889,  0.        ],\n",
       "         [ 7.4994999 ,  9.99921444,  0.        ],\n",
       "         [ 7.5       , 10.        ,  0.        ]], shape=(10000, 3)),\n",
       "  array([[0.00000000e+00, 7.50000000e+00, 0.00000000e+00],\n",
       "         [5.00100020e-04, 7.49999988e+00, 0.00000000e+00],\n",
       "         [1.00020004e-03, 7.49999951e+00, 0.00000000e+00],\n",
       "         ...,\n",
       "         [9.99899980e+00, 7.49999951e+00, 0.00000000e+00],\n",
       "         [9.99949990e+00, 7.49999988e+00, 0.00000000e+00],\n",
       "         [1.00000000e+01, 7.50000000e+00, 0.00000000e+00]], shape=(20000, 3))],\n",
       " 'trajs_SY': [array([[7.50000000e+00, 0.00000000e+00, 0.00000000e+00],\n",
       "         [7.50000012e+00, 5.00100020e-04, 0.00000000e+00],\n",
       "         [7.50000049e+00, 1.00020004e-03, 0.00000000e+00],\n",
       "         ...,\n",
       "         [9.99842889e+00, 2.49899980e+00, 0.00000000e+00],\n",
       "         [9.99921444e+00, 2.49949990e+00, 0.00000000e+00],\n",
       "         [1.00000000e+01, 2.50000000e+00, 0.00000000e+00]], shape=(5000, 3)),\n",
       "  array([[10.        ,  7.5       ,  0.        ],\n",
       "         [ 9.99921444,  7.5005001 ,  0.        ],\n",
       "         [ 9.99842889,  7.5010002 ,  0.        ],\n",
       "         ...,\n",
       "         [ 7.50000049,  9.9989998 ,  0.        ],\n",
       "         [ 7.50000012,  9.9994999 ,  0.        ],\n",
       "         [ 7.5       , 10.        ,  0.        ]], shape=(5000, 3)),\n",
       "  array([[0.00000000e+00, 2.50000000e+00, 0.00000000e+00],\n",
       "         [7.85555262e-04, 2.50050010e+00, 0.00000000e+00],\n",
       "         [1.57111045e-03, 2.50100020e+00, 0.00000000e+00],\n",
       "         ...,\n",
       "         [1.57111045e-03, 7.49899980e+00, 0.00000000e+00],\n",
       "         [7.85555262e-04, 7.49949990e+00, 0.00000000e+00],\n",
       "         [0.00000000e+00, 7.50000000e+00, 0.00000000e+00]], shape=(10000, 3)),\n",
       "  array([[2.50000000e+00, 0.00000000e+00, 0.00000000e+00],\n",
       "         [2.50000012e+00, 5.00100020e-04, 0.00000000e+00],\n",
       "         [2.50000049e+00, 1.00020004e-03, 0.00000000e+00],\n",
       "         ...,\n",
       "         [2.50000049e+00, 9.99899980e+00, 0.00000000e+00],\n",
       "         [2.50000012e+00, 9.99949990e+00, 0.00000000e+00],\n",
       "         [2.50000000e+00, 1.00000000e+01, 0.00000000e+00]], shape=(20000, 3))],\n",
       " 'Lx': 10.0,\n",
       " 'Ly': 10.0}"
      ]
     },
     "execution_count": 18,
     "metadata": {},
     "output_type": "execute_result"
    }
   ],
   "source": [
    "lines"
   ]
  },
  {
   "cell_type": "code",
   "execution_count": 19,
   "metadata": {},
   "outputs": [
    {
     "name": "stderr",
     "output_type": "stream",
     "text": [
      "C:\\Users\\djoroya\\AppData\\Local\\Temp\\ipykernel_2332\\4169359739.py:6: FutureWarning: Series.__getitem__ treating keys as positions is deprecated. In a future version, integer keys will always be treated as labels (consistent with DataFrame behavior). To access a value by position, use `ser.iloc[pos]`\n",
      "  for j,layer in enumerate(df_stats['layers'][i]):\n"
     ]
    },
    {
     "data": {
      "image/png": "[encoded data removed]",
      "text/plain": [
       "<Figure size 900x600 with 6 Axes>"
      ]
     },
     "metadata": {},
     "output_type": "display_data"
    }
   ],
   "source": [
    "colors = ['r', 'g', 'b', 'c', 'm', 'y', 'k', 'w']\n",
    "fig = plt.figure(figsize=(9,6))\n",
    "for i in range(len(df_stats)):\n",
    "    plt.subplot(2, 3, i+1)\n",
    "\n",
    "    for j,layer in enumerate(df_stats['layers'][i]):\n",
    "        for curve in lines[\"trajs_\"+layer]:\n",
    "            plt.plot(curve[:,0], \n",
    "                     curve[:,1],\n",
    "                     color = colors[j],\n",
    "                        label = layer) \n",
    "    plt.title(df['Name'][i])\n",
    "    "
   ]
  },
  {
   "cell_type": "code",
   "execution_count": 20,
   "metadata": {},
   "outputs": [
    {
     "data": {
      "text/plain": [
       "{'trajs_X': [array([[0.00000000e+00, 0.00000000e+00, 0.00000000e+00],\n",
       "         [5.00250125e-03, 0.00000000e+00, 0.00000000e+00],\n",
       "         [1.00050025e-02, 0.00000000e+00, 0.00000000e+00],\n",
       "         ...,\n",
       "         [9.98999500e+00, 0.00000000e+00, 0.00000000e+00],\n",
       "         [9.99499750e+00, 0.00000000e+00, 0.00000000e+00],\n",
       "         [1.00000000e+01, 0.00000000e+00, 0.00000000e+00]], shape=(2000, 3)),\n",
       "  array([[0.00000000e+00, 1.66666667e+00, 0.00000000e+00],\n",
       "         [5.00250125e-03, 1.66666667e+00, 0.00000000e+00],\n",
       "         [1.00050025e-02, 1.66666667e+00, 0.00000000e+00],\n",
       "         ...,\n",
       "         [9.98999500e+00, 1.66666667e+00, 0.00000000e+00],\n",
       "         [9.99499750e+00, 1.66666667e+00, 0.00000000e+00],\n",
       "         [1.00000000e+01, 1.66666667e+00, 0.00000000e+00]], shape=(2000, 3)),\n",
       "  array([[0.00000000e+00, 3.33333333e+00, 0.00000000e+00],\n",
       "         [5.00250125e-03, 3.33333333e+00, 0.00000000e+00],\n",
       "         [1.00050025e-02, 3.33333333e+00, 0.00000000e+00],\n",
       "         ...,\n",
       "         [9.98999500e+00, 3.33333333e+00, 0.00000000e+00],\n",
       "         [9.99499750e+00, 3.33333333e+00, 0.00000000e+00],\n",
       "         [1.00000000e+01, 3.33333333e+00, 0.00000000e+00]], shape=(2000, 3)),\n",
       "  array([[0.00000000e+00, 5.00000000e+00, 0.00000000e+00],\n",
       "         [5.00250125e-03, 5.00000000e+00, 0.00000000e+00],\n",
       "         [1.00050025e-02, 5.00000000e+00, 0.00000000e+00],\n",
       "         ...,\n",
       "         [9.98999500e+00, 5.00000000e+00, 0.00000000e+00],\n",
       "         [9.99499750e+00, 5.00000000e+00, 0.00000000e+00],\n",
       "         [1.00000000e+01, 5.00000000e+00, 0.00000000e+00]], shape=(2000, 3)),\n",
       "  array([[0.00000000e+00, 6.66666667e+00, 0.00000000e+00],\n",
       "         [5.00250125e-03, 6.66666667e+00, 0.00000000e+00],\n",
       "         [1.00050025e-02, 6.66666667e+00, 0.00000000e+00],\n",
       "         ...,\n",
       "         [9.98999500e+00, 6.66666667e+00, 0.00000000e+00],\n",
       "         [9.99499750e+00, 6.66666667e+00, 0.00000000e+00],\n",
       "         [1.00000000e+01, 6.66666667e+00, 0.00000000e+00]], shape=(2000, 3)),\n",
       "  array([[0.00000000e+00, 8.33333333e+00, 0.00000000e+00],\n",
       "         [5.00250125e-03, 8.33333333e+00, 0.00000000e+00],\n",
       "         [1.00050025e-02, 8.33333333e+00, 0.00000000e+00],\n",
       "         ...,\n",
       "         [9.98999500e+00, 8.33333333e+00, 0.00000000e+00],\n",
       "         [9.99499750e+00, 8.33333333e+00, 0.00000000e+00],\n",
       "         [1.00000000e+01, 8.33333333e+00, 0.00000000e+00]], shape=(2000, 3)),\n",
       "  array([[0.00000000e+00, 1.00000000e+01, 0.00000000e+00],\n",
       "         [5.00250125e-03, 1.00000000e+01, 0.00000000e+00],\n",
       "         [1.00050025e-02, 1.00000000e+01, 0.00000000e+00],\n",
       "         ...,\n",
       "         [9.98999500e+00, 1.00000000e+01, 0.00000000e+00],\n",
       "         [9.99499750e+00, 1.00000000e+01, 0.00000000e+00],\n",
       "         [1.00000000e+01, 1.00000000e+01, 0.00000000e+00]], shape=(2000, 3))],\n",
       " 'trajs_Y': [array([[0.00000000e+00, 0.00000000e+00, 0.00000000e+00],\n",
       "         [0.00000000e+00, 5.00250125e-03, 0.00000000e+00],\n",
       "         [0.00000000e+00, 1.00050025e-02, 0.00000000e+00],\n",
       "         ...,\n",
       "         [0.00000000e+00, 9.98999500e+00, 0.00000000e+00],\n",
       "         [0.00000000e+00, 9.99499750e+00, 0.00000000e+00],\n",
       "         [0.00000000e+00, 1.00000000e+01, 0.00000000e+00]], shape=(2000, 3)),\n",
       "  array([[1.66666667e+00, 0.00000000e+00, 0.00000000e+00],\n",
       "         [1.66666667e+00, 5.00250125e-03, 0.00000000e+00],\n",
       "         [1.66666667e+00, 1.00050025e-02, 0.00000000e+00],\n",
       "         ...,\n",
       "         [1.66666667e+00, 9.98999500e+00, 0.00000000e+00],\n",
       "         [1.66666667e+00, 9.99499750e+00, 0.00000000e+00],\n",
       "         [1.66666667e+00, 1.00000000e+01, 0.00000000e+00]], shape=(2000, 3)),\n",
       "  array([[3.33333333e+00, 0.00000000e+00, 0.00000000e+00],\n",
       "         [3.33333333e+00, 5.00250125e-03, 0.00000000e+00],\n",
       "         [3.33333333e+00, 1.00050025e-02, 0.00000000e+00],\n",
       "         ...,\n",
       "         [3.33333333e+00, 9.98999500e+00, 0.00000000e+00],\n",
       "         [3.33333333e+00, 9.99499750e+00, 0.00000000e+00],\n",
       "         [3.33333333e+00, 1.00000000e+01, 0.00000000e+00]], shape=(2000, 3)),\n",
       "  array([[5.00000000e+00, 0.00000000e+00, 0.00000000e+00],\n",
       "         [5.00000000e+00, 5.00250125e-03, 0.00000000e+00],\n",
       "         [5.00000000e+00, 1.00050025e-02, 0.00000000e+00],\n",
       "         ...,\n",
       "         [5.00000000e+00, 9.98999500e+00, 0.00000000e+00],\n",
       "         [5.00000000e+00, 9.99499750e+00, 0.00000000e+00],\n",
       "         [5.00000000e+00, 1.00000000e+01, 0.00000000e+00]], shape=(2000, 3)),\n",
       "  array([[6.66666667e+00, 0.00000000e+00, 0.00000000e+00],\n",
       "         [6.66666667e+00, 5.00250125e-03, 0.00000000e+00],\n",
       "         [6.66666667e+00, 1.00050025e-02, 0.00000000e+00],\n",
       "         ...,\n",
       "         [6.66666667e+00, 9.98999500e+00, 0.00000000e+00],\n",
       "         [6.66666667e+00, 9.99499750e+00, 0.00000000e+00],\n",
       "         [6.66666667e+00, 1.00000000e+01, 0.00000000e+00]], shape=(2000, 3)),\n",
       "  array([[8.33333333e+00, 0.00000000e+00, 0.00000000e+00],\n",
       "         [8.33333333e+00, 5.00250125e-03, 0.00000000e+00],\n",
       "         [8.33333333e+00, 1.00050025e-02, 0.00000000e+00],\n",
       "         ...,\n",
       "         [8.33333333e+00, 9.98999500e+00, 0.00000000e+00],\n",
       "         [8.33333333e+00, 9.99499750e+00, 0.00000000e+00],\n",
       "         [8.33333333e+00, 1.00000000e+01, 0.00000000e+00]], shape=(2000, 3)),\n",
       "  array([[1.00000000e+01, 0.00000000e+00, 0.00000000e+00],\n",
       "         [1.00000000e+01, 5.00250125e-03, 0.00000000e+00],\n",
       "         [1.00000000e+01, 1.00050025e-02, 0.00000000e+00],\n",
       "         ...,\n",
       "         [1.00000000e+01, 9.98999500e+00, 0.00000000e+00],\n",
       "         [1.00000000e+01, 9.99499750e+00, 0.00000000e+00],\n",
       "         [1.00000000e+01, 1.00000000e+01, 0.00000000e+00]], shape=(2000, 3))],\n",
       " 'trajs_SX': [array([[0.00000000e+00, 2.50000000e+00, 0.00000000e+00],\n",
       "         [5.00100020e-04, 2.49999988e+00, 0.00000000e+00],\n",
       "         [1.00020004e-03, 2.49999951e+00, 0.00000000e+00],\n",
       "         ...,\n",
       "         [2.49899980e+00, 1.57111045e-03, 0.00000000e+00],\n",
       "         [2.49949990e+00, 7.85555262e-04, 0.00000000e+00],\n",
       "         [2.50000000e+00, 1.53080850e-16, 0.00000000e+00]], shape=(5000, 3)),\n",
       "  array([[7.50000000e+00, 1.53080850e-16, 0.00000000e+00],\n",
       "         [7.50050010e+00, 7.85555262e-04, 0.00000000e+00],\n",
       "         [7.50100020e+00, 1.57111045e-03, 0.00000000e+00],\n",
       "         ...,\n",
       "         [9.99899980e+00, 2.49999951e+00, 0.00000000e+00],\n",
       "         [9.99949990e+00, 2.49999988e+00, 0.00000000e+00],\n",
       "         [1.00000000e+01, 2.50000000e+00, 0.00000000e+00]], shape=(5000, 3)),\n",
       "  array([[ 2.5       , 10.        ,  0.        ],\n",
       "         [ 2.5005001 ,  9.99921444,  0.        ],\n",
       "         [ 2.5010002 ,  9.99842889,  0.        ],\n",
       "         ...,\n",
       "         [ 7.4989998 ,  9.99842889,  0.        ],\n",
       "         [ 7.4994999 ,  9.99921444,  0.        ],\n",
       "         [ 7.5       , 10.        ,  0.        ]], shape=(10000, 3)),\n",
       "  array([[0.00000000e+00, 7.50000000e+00, 0.00000000e+00],\n",
       "         [5.00100020e-04, 7.49999988e+00, 0.00000000e+00],\n",
       "         [1.00020004e-03, 7.49999951e+00, 0.00000000e+00],\n",
       "         ...,\n",
       "         [9.99899980e+00, 7.49999951e+00, 0.00000000e+00],\n",
       "         [9.99949990e+00, 7.49999988e+00, 0.00000000e+00],\n",
       "         [1.00000000e+01, 7.50000000e+00, 0.00000000e+00]], shape=(20000, 3))],\n",
       " 'trajs_SY': [array([[7.50000000e+00, 0.00000000e+00, 0.00000000e+00],\n",
       "         [7.50000012e+00, 5.00100020e-04, 0.00000000e+00],\n",
       "         [7.50000049e+00, 1.00020004e-03, 0.00000000e+00],\n",
       "         ...,\n",
       "         [9.99842889e+00, 2.49899980e+00, 0.00000000e+00],\n",
       "         [9.99921444e+00, 2.49949990e+00, 0.00000000e+00],\n",
       "         [1.00000000e+01, 2.50000000e+00, 0.00000000e+00]], shape=(5000, 3)),\n",
       "  array([[10.        ,  7.5       ,  0.        ],\n",
       "         [ 9.99921444,  7.5005001 ,  0.        ],\n",
       "         [ 9.99842889,  7.5010002 ,  0.        ],\n",
       "         ...,\n",
       "         [ 7.50000049,  9.9989998 ,  0.        ],\n",
       "         [ 7.50000012,  9.9994999 ,  0.        ],\n",
       "         [ 7.5       , 10.        ,  0.        ]], shape=(5000, 3)),\n",
       "  array([[0.00000000e+00, 2.50000000e+00, 0.00000000e+00],\n",
       "         [7.85555262e-04, 2.50050010e+00, 0.00000000e+00],\n",
       "         [1.57111045e-03, 2.50100020e+00, 0.00000000e+00],\n",
       "         ...,\n",
       "         [1.57111045e-03, 7.49899980e+00, 0.00000000e+00],\n",
       "         [7.85555262e-04, 7.49949990e+00, 0.00000000e+00],\n",
       "         [0.00000000e+00, 7.50000000e+00, 0.00000000e+00]], shape=(10000, 3)),\n",
       "  array([[2.50000000e+00, 0.00000000e+00, 0.00000000e+00],\n",
       "         [2.50000012e+00, 5.00100020e-04, 0.00000000e+00],\n",
       "         [2.50000049e+00, 1.00020004e-03, 0.00000000e+00],\n",
       "         ...,\n",
       "         [2.50000049e+00, 9.99899980e+00, 0.00000000e+00],\n",
       "         [2.50000012e+00, 9.99949990e+00, 0.00000000e+00],\n",
       "         [2.50000000e+00, 1.00000000e+01, 0.00000000e+00]], shape=(20000, 3))],\n",
       " 'Lx': 10.0,\n",
       " 'Ly': 10.0}"
      ]
     },
     "execution_count": 20,
     "metadata": {},
     "output_type": "execute_result"
    }
   ],
   "source": [
    "lines"
   ]
  },
  {
   "cell_type": "code",
   "execution_count": 21,
   "metadata": {},
   "outputs": [],
   "source": [
    "def E_effective_j(tn,tl,En,Evec,j):\n",
    "    \n",
    "    tau_pred = tau_pred_fcn(tn,tl)\n",
    "\n",
    "    delta_j  = df_stats[\"v [X,SX,Y,SY]\"].iloc[j]\n",
    "\n",
    "    tau_j    = tau_pred[j]\n",
    "\n",
    "    return (En*tn + tl*(np.dot(delta_j,Evec)))/tau_j\n",
    "\n",
    "def E_effective(En,Evec,tn,tl):\n",
    "    return np.array([E_effective_j(tn,tl,En,Evec,j) \n",
    "                     for j in range(len(df_stats))])\n"
   ]
  },
  {
   "cell_type": "code",
   "execution_count": 22,
   "metadata": {},
   "outputs": [],
   "source": [
    "E_eff_exp = df_stats[\"E [GPa]\"][\"mean\"].values\n",
    "\n",
    "Evec_0 = np.array([1,0,0,0])\n",
    "En_0 = 100\n",
    "tn_0 = 1\n",
    "tl_0 = 1\n",
    "\n",
    "E_eff_pred = E_effective(En_0,Evec_0,tn_0,tl_0)\n",
    "tau_pred = tau_pred_fcn(tn_0,tl_0)"
   ]
  },
  {
   "cell_type": "code",
   "execution_count": 23,
   "metadata": {},
   "outputs": [],
   "source": [
    "from validation.experimental import  nucleo"
   ]
  },
  {
   "cell_type": "code",
   "execution_count": 24,
   "metadata": {},
   "outputs": [
    {
     "data": {
      "text/plain": [
       "array([2, 3, 3, 3, 4, 4])"
      ]
     },
     "execution_count": 24,
     "metadata": {},
     "output_type": "execute_result"
    }
   ],
   "source": [
    "tau_pred"
   ]
  },
  {
   "cell_type": "code",
   "execution_count": 25,
   "metadata": {},
   "outputs": [
    {
     "data": {
      "text/plain": [
       "[<matplotlib.lines.Line2D at 0x1cce02c1c50>]"
      ]
     },
     "execution_count": 25,
     "metadata": {},
     "output_type": "execute_result"
    },
    {
     "data": {
      "image/png": "[encoded data removed]",
      "text/plain": [
       "<Figure size 640x480 with 1 Axes>"
      ]
     },
     "metadata": {},
     "output_type": "display_data"
    }
   ],
   "source": [
    "def theta(x):\n",
    "    return 0.5*(np.sign(x)+1)\n",
    "\n",
    "t_span = np.linspace(-1,1,100)\n",
    "plt.plot(t_span,theta(t_span))"
   ]
  },
  {
   "cell_type": "code",
   "execution_count": 26,
   "metadata": {},
   "outputs": [
    {
     "name": "stdout",
     "output_type": "stream",
     "text": [
      "0.8\n"
     ]
    }
   ],
   "source": [
    "E_nucleo_exp_Mpa = nucleo()[\"young modulus [MPa]\"]\n",
    "E_nucleo_exp = E_nucleo_exp_Mpa/1000\n",
    "print(E_nucleo_exp)"
   ]
  },
  {
   "cell_type": "code",
   "execution_count": 27,
   "metadata": {},
   "outputs": [],
   "source": [
    "relu = lambda x: x*theta(x)"
   ]
  },
  {
   "cell_type": "code",
   "execution_count": 28,
   "metadata": {},
   "outputs": [
    {
     "name": "stderr",
     "output_type": "stream",
     "text": [
      "c:\\Users\\djoroya\\Documents\\GitHub\\CITISENS_Composite\\.conda\\Lib\\site-packages\\scipy\\optimize\\_differentiable_functions.py:316: UserWarning: delta_grad == 0.0. Check if the approximated function is linear. If the function is linear better results can be obtained by defining the Hessian as zero instead of using quasi-Newton approximations.\n",
      "  self.H.update(self.x - self.x_prev, self.g - self.g_prev)\n"
     ]
    }
   ],
   "source": [
    "# minimize \n",
    "def objective_E(En,Evec,tn,tl):\n",
    "    Loss_E   = sum((E_effective(En,Evec,tn,tl) - E_eff_exp)**2)\n",
    "    Loss_tau = sum((tau_pred_fcn(tn,tl) - tau_exp)**2)\n",
    "    \n",
    "    # En < Evec[0]\n",
    "    lag_mult = 1e6*relu( En - Evec[0]) # Asumimos que el nucleo es el material más blando que la capas E[0] -> X\n",
    "    \n",
    "    return Loss_E + Loss_tau + 0*lag_mult\n",
    "           \n",
    "\n",
    "x0 = np.random.rand(7)\n",
    "# must be positive \n",
    "\n",
    "bounds = [  (E_nucleo_exp*0.9,1.1*E_nucleo_exp), # En\n",
    "            (0.100,None), # Evec[0]   # X\n",
    "            (0.100,None), # Evec[1]   # Y\n",
    "            (0.100,None), # Evec[2]   # SX\n",
    "            (0.100,None), # Evec[3]   # SY\n",
    "            (0.9*t_nucleo_exp,1.1*t_nucleo_exp), # tn\n",
    "            (0.25,2)  # tl\n",
    "            ]\n",
    "\n",
    "bounds = [  (E_nucleo_exp*0.9,1.1*E_nucleo_exp), # En\n",
    "            (0.0,None), # Evec[0]   # X\n",
    "            (0.0,None), # Evec[1]   # Y\n",
    "            (0.0,None), # Evec[2]   # SX\n",
    "            (0.0,None), # Evec[3]   # SY\n",
    "            (0.9*t_nucleo_exp,1.1*t_nucleo_exp), # tn\n",
    "            (0.25,2)  # tl\n",
    "            ]\n",
    "          \n",
    "# set constraints\n",
    "if x0[1] < x0[0]:\n",
    "    x0[1] = x0[0]\n",
    "\n",
    "for k,ib in enumerate(bounds):\n",
    "\n",
    "    if ib[0] is not None and x0[k] < ib[0]:\n",
    "        x0[k] = ib[0]\n",
    "    if ib[1] is not None and x0[k] > ib[1]:\n",
    "        x0[k] = ib[1]\n",
    "\n",
    "minimizer_kwargs = {\"method\": \"trust-constr\",\n",
    "                    \"bounds\": bounds}\n",
    "\n",
    "res = basinhopping(lambda x: objective_E(x[0],x[1:5],x[5],x[6]),\n",
    "                x0, \n",
    "                minimizer_kwargs=minimizer_kwargs,\n",
    "                niter=50)\n",
    "\n",
    "En_opt = res.x[0]\n",
    "Evec_opt = res.x[1:5]\n",
    "tn_opt = res.x[5]\n",
    "tl_opt = res.x[6]\n",
    "\n",
    "\n",
    "E_eff_pred = E_effective(En_opt,Evec_opt,tn_opt,tl_opt)\n",
    "tau_pred   = tau_pred_fcn(tn_opt,tl_opt)"
   ]
  },
  {
   "cell_type": "code",
   "execution_count": 29,
   "metadata": {},
   "outputs": [
    {
     "data": {
      "image/png": "[encoded data removed]",
      "text/plain": [
       "<Figure size 900x400 with 2 Axes>"
      ]
     },
     "metadata": {},
     "output_type": "display_data"
    },
    {
     "data": {
      "image/png": "[encoded data removed]",
      "text/plain": [
       "<Figure size 900x400 with 2 Axes>"
      ]
     },
     "metadata": {},
     "output_type": "display_data"
    }
   ],
   "source": [
    "from AnalyticalLayers.plot_E import plot_E\n",
    "from AnalyticalLayers.plt_thin import plt_thin\n",
    "\n",
    "plt_thin(df_stats, tau_exp, tau_pred, tn_opt, tl_opt)\n",
    "plot_E(df_stats, E_eff_exp, E_eff_pred, Evec_opt, En_opt)"
   ]
  },
  {
   "cell_type": "code",
   "execution_count": 30,
   "metadata": {},
   "outputs": [
    {
     "data": {
      "text/html": [
       "<div>\n",
       "<style scoped>\n",
       "    .dataframe tbody tr th:only-of-type {\n",
       "        vertical-align: middle;\n",
       "    }\n",
       "\n",
       "    .dataframe tbody tr th {\n",
       "        vertical-align: top;\n",
       "    }\n",
       "\n",
       "    .dataframe thead th {\n",
       "        text-align: right;\n",
       "    }\n",
       "</style>\n",
       "<table border=\"1\" class=\"dataframe\">\n",
       "  <thead>\n",
       "    <tr style=\"text-align: right;\">\n",
       "      <th></th>\n",
       "      <th>Evec [GPa]</th>\n",
       "    </tr>\n",
       "  </thead>\n",
       "  <tbody>\n",
       "    <tr>\n",
       "      <th>X</th>\n",
       "      <td>0.00</td>\n",
       "    </tr>\n",
       "    <tr>\n",
       "      <th>SX</th>\n",
       "      <td>0.00</td>\n",
       "    </tr>\n",
       "    <tr>\n",
       "      <th>Y</th>\n",
       "      <td>9.46</td>\n",
       "    </tr>\n",
       "    <tr>\n",
       "      <th>SY</th>\n",
       "      <td>0.00</td>\n",
       "    </tr>\n",
       "    <tr>\n",
       "      <th>Nucleo</th>\n",
       "      <td>0.79</td>\n",
       "    </tr>\n",
       "  </tbody>\n",
       "</table>\n",
       "</div>"
      ],
      "text/plain": [
       "        Evec [GPa]\n",
       "X             0.00\n",
       "SX            0.00\n",
       "Y             9.46\n",
       "SY            0.00\n",
       "Nucleo        0.79"
      ]
     },
     "execution_count": 30,
     "metadata": {},
     "output_type": "execute_result"
    }
   ],
   "source": [
    "df_layers = pd.DataFrame({\"Evec [GPa]\": Evec_opt}, index=[\"X\",\"SX\",\"Y\",\"SY\"])\n",
    "# add nuclueo\n",
    "df_layers.loc[\"Nucleo\"] = [En_opt]\n",
    "df_layers.round(2)"
   ]
  },
  {
   "cell_type": "code",
   "execution_count": 31,
   "metadata": {},
   "outputs": [
    {
     "data": {
      "text/html": [
       "<div>\n",
       "<style scoped>\n",
       "    .dataframe tbody tr th:only-of-type {\n",
       "        vertical-align: middle;\n",
       "    }\n",
       "\n",
       "    .dataframe tbody tr th {\n",
       "        vertical-align: top;\n",
       "    }\n",
       "\n",
       "    .dataframe thead th {\n",
       "        text-align: right;\n",
       "    }\n",
       "</style>\n",
       "<table border=\"1\" class=\"dataframe\">\n",
       "  <thead>\n",
       "    <tr style=\"text-align: right;\">\n",
       "      <th></th>\n",
       "      <th>t [mm]</th>\n",
       "    </tr>\n",
       "  </thead>\n",
       "  <tbody>\n",
       "    <tr>\n",
       "      <th>Nucleo</th>\n",
       "      <td>3.07</td>\n",
       "    </tr>\n",
       "    <tr>\n",
       "      <th>Capas</th>\n",
       "      <td>0.86</td>\n",
       "    </tr>\n",
       "  </tbody>\n",
       "</table>\n",
       "</div>"
      ],
      "text/plain": [
       "        t [mm]\n",
       "Nucleo    3.07\n",
       "Capas     0.86"
      ]
     },
     "execution_count": 31,
     "metadata": {},
     "output_type": "execute_result"
    }
   ],
   "source": [
    "df_thickness = pd.DataFrame({\"t [mm]\": [tn_opt, tl_opt]}, index=[\"Nucleo\",\"Capas\"])\n",
    "\n",
    "df_thickness.round(2)"
   ]
  },
  {
   "cell_type": "code",
   "execution_count": 32,
   "metadata": {},
   "outputs": [
    {
     "name": "stdout",
     "output_type": "stream",
     "text": [
      "Optimal En:  0.7928055315276511\n",
      "Optimal Evec:  [1.74420791e-07 2.08777595e-08 9.46056213e+00 5.84652356e-07]\n",
      "Optimal tn:  3.073399996859079\n",
      "Optimal tl:  0.8626970331960168\n"
     ]
    }
   ],
   "source": [
    "print(\"Optimal En: \", En_opt)\n",
    "print(\"Optimal Evec: \", Evec_opt)\n",
    "print(\"Optimal tn: \", tn_opt)\n",
    "print(\"Optimal tl: \", tl_opt)"
   ]
  },
  {
   "cell_type": "code",
   "execution_count": 33,
   "metadata": {},
   "outputs": [
    {
     "data": {
      "text/plain": [
       "2600.0"
      ]
     },
     "execution_count": 33,
     "metadata": {},
     "output_type": "execute_result"
    }
   ],
   "source": [
    "130000*0.02"
   ]
  },
  {
   "cell_type": "code",
   "execution_count": 34,
   "metadata": {},
   "outputs": [
    {
     "data": {
      "text/html": [
       "<div>\n",
       "<style scoped>\n",
       "    .dataframe tbody tr th:only-of-type {\n",
       "        vertical-align: middle;\n",
       "    }\n",
       "\n",
       "    .dataframe tbody tr th {\n",
       "        vertical-align: top;\n",
       "    }\n",
       "\n",
       "    .dataframe thead th {\n",
       "        text-align: right;\n",
       "    }\n",
       "</style>\n",
       "<table border=\"1\" class=\"dataframe\">\n",
       "  <thead>\n",
       "    <tr style=\"text-align: right;\">\n",
       "      <th></th>\n",
       "      <th>Name</th>\n",
       "      <th>E pred [GPa]</th>\n",
       "      <th>E exp [GPa]</th>\n",
       "      <th>E e rel [%]</th>\n",
       "      <th>t pred [mm]</th>\n",
       "      <th>t exp [mm]</th>\n",
       "      <th>t e rel [%]</th>\n",
       "    </tr>\n",
       "  </thead>\n",
       "  <tbody>\n",
       "    <tr>\n",
       "      <th>0</th>\n",
       "      <td>TFP1-1</td>\n",
       "      <td>2.69</td>\n",
       "      <td>2.89</td>\n",
       "      <td>6.69</td>\n",
       "      <td>3.94</td>\n",
       "      <td>4.93</td>\n",
       "      <td>20.21</td>\n",
       "    </tr>\n",
       "    <tr>\n",
       "      <th>1</th>\n",
       "      <td>TFP2-1</td>\n",
       "      <td>2.21</td>\n",
       "      <td>2.26</td>\n",
       "      <td>2.21</td>\n",
       "      <td>4.80</td>\n",
       "      <td>4.50</td>\n",
       "      <td>6.64</td>\n",
       "    </tr>\n",
       "    <tr>\n",
       "      <th>2</th>\n",
       "      <td>TFP3-1</td>\n",
       "      <td>2.21</td>\n",
       "      <td>2.00</td>\n",
       "      <td>10.40</td>\n",
       "      <td>4.80</td>\n",
       "      <td>4.90</td>\n",
       "      <td>2.07</td>\n",
       "    </tr>\n",
       "    <tr>\n",
       "      <th>3</th>\n",
       "      <td>TFP4-1</td>\n",
       "      <td>2.21</td>\n",
       "      <td>2.45</td>\n",
       "      <td>9.91</td>\n",
       "      <td>4.80</td>\n",
       "      <td>4.50</td>\n",
       "      <td>6.64</td>\n",
       "    </tr>\n",
       "    <tr>\n",
       "      <th>4</th>\n",
       "      <td>TFP5-1</td>\n",
       "      <td>1.87</td>\n",
       "      <td>1.63</td>\n",
       "      <td>15.09</td>\n",
       "      <td>5.66</td>\n",
       "      <td>5.73</td>\n",
       "      <td>1.25</td>\n",
       "    </tr>\n",
       "  </tbody>\n",
       "</table>\n",
       "</div>"
      ],
      "text/plain": [
       "     Name  E pred [GPa]  E exp [GPa]  E e rel [%]  t pred [mm]  t exp [mm]  \\\n",
       "0  TFP1-1          2.69         2.89         6.69         3.94        4.93   \n",
       "1  TFP2-1          2.21         2.26         2.21         4.80        4.50   \n",
       "2  TFP3-1          2.21         2.00        10.40         4.80        4.90   \n",
       "3  TFP4-1          2.21         2.45         9.91         4.80        4.50   \n",
       "4  TFP5-1          1.87         1.63        15.09         5.66        5.73   \n",
       "\n",
       "   t e rel [%]  \n",
       "0        20.21  \n",
       "1         6.64  \n",
       "2         2.07  \n",
       "3         6.64  \n",
       "4         1.25  "
      ]
     },
     "execution_count": 34,
     "metadata": {},
     "output_type": "execute_result"
    }
   ],
   "source": [
    "df_pred = {\n",
    "    \"Name\"          : df_stats.index,\n",
    "    \"E pred [GPa]\"  : E_eff_pred,\n",
    "    \"E exp [GPa]\"   : E_eff_exp,\n",
    "    \"E e rel [%]\"   : 100*abs(E_eff_exp - E_eff_pred)/E_eff_exp,\n",
    "    \"t pred [mm]\"   : tau_pred,\n",
    "    \"t exp [mm]\"    : tau_exp,\n",
    "    \"t e rel [%]\"   : 100*abs(tau_exp - tau_pred)/tau_exp\n",
    "}\n",
    "df_pred = pd.DataFrame(df_pred)\n",
    "# decimals\n",
    "df_pred = df_pred.round(2)\n",
    "df_pred.head()"
   ]
  },
  {
   "cell_type": "code",
   "execution_count": 35,
   "metadata": {},
   "outputs": [],
   "source": [
    "Em_error = np.mean(df_pred[\"E e rel [%]\"])\n",
    "tm_error = np.mean(df_pred[\"t e rel [%]\"])\n",
    "\n",
    "from loadsavejson.savejson import savejson\n",
    "\n",
    "savejson({\"layers\":df_layers, \n",
    "            \"errors\": {\"E\":Em_error, \"t\":tm_error},\n",
    "          \"thickness\":df_thickness},\n",
    "          \"df_opt_free_thin.json\")"
   ]
  },
  {
   "cell_type": "code",
   "execution_count": null,
   "metadata": {},
   "outputs": [],
   "source": []
  }
 ],
 "metadata": {
  "kernelspec": {
   "display_name": ".conda",
   "language": "python",
   "name": "python3"
  },
  "language_info": {
   "codemirror_mode": {
    "name": "ipython",
    "version": 3
   },
   "file_extension": ".py",
   "mimetype": "text/x-python",
   "name": "python",
   "nbconvert_exporter": "python",
   "pygments_lexer": "ipython3",
   "version": "3.11.10"
  }
 },
 "nbformat": 4,
 "nbformat_minor": 2
}
