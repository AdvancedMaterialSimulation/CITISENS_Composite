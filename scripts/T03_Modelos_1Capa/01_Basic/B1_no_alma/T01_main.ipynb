{
 "cells": [
  {
   "cell_type": "code",
   "execution_count": 1,
   "metadata": {},
   "outputs": [],
   "source": [
    "\n",
    "import os \n",
    "from copy import deepcopy\n",
    "from Composite.RunFullModel import RunFullModel\n",
    "join = os.path.join"
   ]
  },
  {
   "cell_type": "markdown",
   "metadata": {},
   "source": []
  },
  {
   "cell_type": "code",
   "execution_count": 2,
   "metadata": {},
   "outputs": [],
   "source": [
    "params_composite ={\n",
    "    \"r\"         :  0.25,\n",
    "    \"h\"         :  0.65,\n",
    "    \"z0\"        :  0,\n",
    "    \"density\"   : 8,\n",
    "    \"interface_factor\"  :  1.2,\n",
    "    \"with_interface\"    : False,\n",
    "    \"mirror\"            : True,\n",
    "    \"check_jacobian\"    : False,\n",
    "}\n",
    "\n",
    "params_ccx = {\n",
    "    \"epsilon\" : 0.1,\n",
    "    \"x_fixed\":False\n",
    "\n",
    "}\n",
    "params = {\n",
    "    \"mesh\" : params_composite,\n",
    "    \"ccx\"  : params_ccx,\n",
    "}"
   ]
  },
  {
   "cell_type": "code",
   "execution_count": 3,
   "metadata": {},
   "outputs": [],
   "source": [
    "import numpy as np"
   ]
  },
  {
   "cell_type": "code",
   "execution_count": 4,
   "metadata": {},
   "outputs": [
    {
     "data": {
      "text/plain": [
       "array([0.2  , 0.225, 0.25 , 0.275, 0.3  ])"
      ]
     },
     "execution_count": 4,
     "metadata": {},
     "output_type": "execute_result"
    }
   ],
   "source": [
    "np.linspace(0.2 ,0.3,5)"
   ]
  },
  {
   "cell_type": "code",
   "execution_count": 5,
   "metadata": {},
   "outputs": [
    {
     "data": {
      "text/plain": [
       "array([0.1   , 0.1375, 0.175 , 0.2125, 0.25  ])"
      ]
     },
     "execution_count": 5,
     "metadata": {},
     "output_type": "execute_result"
    }
   ],
   "source": [
    "r_span = np.linspace(0.10 ,0.25,5)\n",
    "r_span"
   ]
  },
  {
   "cell_type": "code",
   "execution_count": 6,
   "metadata": {},
   "outputs": [
    {
     "name": "stdout",
     "output_type": "stream",
     "text": [
      "Running case  output\\r_00\n",
      "\t==================================================\n",
      "\tDesign B1\n",
      "\t==================================================\n",
      "Layer With Sign 1 and number 1/1 done\n",
      "Meshing ... \n",
      "Optimizing mesh ... \n",
      "\t==================================================\n",
      "\tCCX B1\n",
      "\t==================================================\n",
      "Input folder: \t output\\r_00\\designs\\B1\n",
      "Output folder: \t output\\r_00\\ccx\\B1\n",
      "Running Calculix at:  output\\r_00\\ccx\\B1\n",
      "Output file:  c:\\Users\\djoroya\\Documents\\GitHub\\CITISENS_Composite\\scripts\\Homogenization_B1_no_alma\\output\\r_00\\ccx\\B1\\out.txt\n",
      "Command:\n",
      " mpiexec -n 4 c:\\Users\\djoroya\\Documents\\GitHub\\CITISENS_Composite\\.conda\\Lib\\site-packages\\djccx\\bin\\ccx_dynamic.exe main\n",
      "Error reading cvf file\n",
      "\n",
      "pid:  8248 \n",
      "\n",
      "Calculix finished\n",
      "\n",
      "Running case  output\\r_01\n",
      "\t==================================================\n",
      "\tDesign B1\n",
      "\t==================================================\n",
      "Layer With Sign 1 and number 1/1 done\n",
      "Meshing ... \n",
      "Optimizing mesh ... \n",
      "\t==================================================\n",
      "\tCCX B1\n",
      "\t==================================================\n",
      "Input folder: \t output\\r_01\\designs\\B1\n",
      "Output folder: \t output\\r_01\\ccx\\B1\n",
      "Running Calculix at:  output\\r_01\\ccx\\B1\n",
      "Output file:  c:\\Users\\djoroya\\Documents\\GitHub\\CITISENS_Composite\\scripts\\Homogenization_B1_no_alma\\output\\r_01\\ccx\\B1\\out.txt\n",
      "Command:\n",
      " mpiexec -n 4 c:\\Users\\djoroya\\Documents\\GitHub\\CITISENS_Composite\\.conda\\Lib\\site-packages\\djccx\\bin\\ccx_dynamic.exe main\n",
      "Error reading cvf file\n",
      "\n",
      "pid:  10056 \n",
      "\n",
      "Calculix finished\n",
      "\n",
      "Running case  output\\r_02\n",
      "\t==================================================\n",
      "\tDesign B1\n",
      "\t==================================================\n",
      "Layer With Sign 1 and number 1/1 done\n",
      "Meshing ... \n",
      "Optimizing mesh ... \n",
      "\t==================================================\n",
      "\tCCX B1\n",
      "\t==================================================\n",
      "Input folder: \t output\\r_02\\designs\\B1\n",
      "Output folder: \t output\\r_02\\ccx\\B1\n",
      "Running Calculix at:  output\\r_02\\ccx\\B1\n",
      "Output file:  c:\\Users\\djoroya\\Documents\\GitHub\\CITISENS_Composite\\scripts\\Homogenization_B1_no_alma\\output\\r_02\\ccx\\B1\\out.txt\n",
      "Command:\n",
      " mpiexec -n 4 c:\\Users\\djoroya\\Documents\\GitHub\\CITISENS_Composite\\.conda\\Lib\\site-packages\\djccx\\bin\\ccx_dynamic.exe main\n",
      "Error reading cvf file\n",
      "\n",
      "pid:  4340 \n",
      "\n",
      "Calculix finished\n",
      "\n",
      "Running case  output\\r_03\n",
      "\t==================================================\n",
      "\tDesign B1\n",
      "\t==================================================\n",
      "Layer With Sign 1 and number 1/1 done\n",
      "Meshing ... \n",
      "Optimizing mesh ... \n",
      "\t==================================================\n",
      "\tCCX B1\n",
      "\t==================================================\n",
      "Input folder: \t output\\r_03\\designs\\B1\n",
      "Output folder: \t output\\r_03\\ccx\\B1\n",
      "Running Calculix at:  output\\r_03\\ccx\\B1\n",
      "Output file:  c:\\Users\\djoroya\\Documents\\GitHub\\CITISENS_Composite\\scripts\\Homogenization_B1_no_alma\\output\\r_03\\ccx\\B1\\out.txt\n",
      "Command:\n",
      " mpiexec -n 4 c:\\Users\\djoroya\\Documents\\GitHub\\CITISENS_Composite\\.conda\\Lib\\site-packages\\djccx\\bin\\ccx_dynamic.exe main\n",
      "Error reading cvf file\n",
      "\n",
      "pid:  7940 \n",
      "\n",
      "Calculix finished\n",
      "\n",
      "Running case  output\\r_04\n",
      "\t==================================================\n",
      "\tDesign B1\n",
      "\t==================================================\n",
      "Layer With Sign 1 and number 1/1 done\n",
      "Meshing ... \n",
      "Optimizing mesh ... \n",
      "\t==================================================\n",
      "\tCCX B1\n",
      "\t==================================================\n",
      "Input folder: \t output\\r_04\\designs\\B1\n",
      "Output folder: \t output\\r_04\\ccx\\B1\n",
      "Running Calculix at:  output\\r_04\\ccx\\B1\n",
      "Output file:  c:\\Users\\djoroya\\Documents\\GitHub\\CITISENS_Composite\\scripts\\Homogenization_B1_no_alma\\output\\r_04\\ccx\\B1\\out.txt\n",
      "Command:\n",
      " mpiexec -n 4 c:\\Users\\djoroya\\Documents\\GitHub\\CITISENS_Composite\\.conda\\Lib\\site-packages\\djccx\\bin\\ccx_dynamic.exe main\n",
      "Error reading cvf file\n",
      "\n",
      "pid:  11176 \n",
      "\n",
      "Calculix finished\n",
      "\n"
     ]
    }
   ],
   "source": [
    "design = \"B1\"\n",
    "for j,ir in enumerate(r_span):\n",
    "\n",
    "    # Generate mesh and RVE\n",
    "    params_copy = deepcopy(params)\n",
    "    params_copy[\"mesh\"][\"r\"] = ir\n",
    "\n",
    "    root = join(\"output\",\"r_{:02d}\".format(j))\n",
    "    print(\"Running case \",root)\n",
    "\n",
    "    RunFullModel(design,root,params_copy)\n",
    "\n",
    "    "
   ]
  }
 ],
 "metadata": {
  "kernelspec": {
   "display_name": ".conda",
   "language": "python",
   "name": "python3"
  },
  "language_info": {
   "codemirror_mode": {
    "name": "ipython",
    "version": 3
   },
   "file_extension": ".py",
   "mimetype": "text/x-python",
   "name": "python",
   "nbconvert_exporter": "python",
   "pygments_lexer": "ipython3",
   "version": "3.11.10"
  }
 },
 "nbformat": 4,
 "nbformat_minor": 2
}
