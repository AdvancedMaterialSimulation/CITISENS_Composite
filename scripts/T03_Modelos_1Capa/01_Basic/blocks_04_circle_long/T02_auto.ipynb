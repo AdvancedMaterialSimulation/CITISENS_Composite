{
 "cells": [
  {
   "cell_type": "code",
   "execution_count": 1,
   "metadata": {},
   "outputs": [],
   "source": [
    "from functions.RunBlock import RunBlock\n",
    "import numpy as np\n",
    "from copy import deepcopy\n",
    "import os,shutil\n",
    "join = os.path.join"
   ]
  },
  {
   "cell_type": "code",
   "execution_count": 2,
   "metadata": {},
   "outputs": [],
   "source": [
    "# remove output folder\n",
    "if os.path.exists('output'):\n",
    "    shutil.rmtree('output')\n",
    "\n",
    "# create output folder\n",
    "os.mkdir('output')"
   ]
  },
  {
   "cell_type": "code",
   "execution_count": 3,
   "metadata": {},
   "outputs": [],
   "source": [
    "from validation.experimental import carbonfiber,resina,nucleo\n",
    "carbon_data = carbonfiber()\n",
    "resina_data = resina()\n",
    "nucleo_data = nucleo()\n",
    "\n",
    "Ec_GPa = carbon_data[\"carbon\"][\"Young Modulus (GPa)\"][0]\n",
    "Ec = Ec_GPa*1e3\n",
    "nu_c = carbon_data[\"poisson ratio\"]\n",
    "Em = nucleo_data[\"young modulus [MPa]\"]\n",
    "nu_m = nucleo_data[\"poisson ratio\"]"
   ]
  },
  {
   "cell_type": "code",
   "execution_count": 4,
   "metadata": {},
   "outputs": [],
   "source": [
    "params = {\n",
    "    \"zT\": 10,\n",
    "    \"matrix\": {\n",
    "        \"E\": Em,\n",
    "        \"nu\": nu_m\n",
    "    },\n",
    "    \"carbon\": {\n",
    "        \"E\": Ec,\n",
    "        \"nu\": nu_c\n",
    "    },\n",
    "    \"output_folder\": \"output\"\n",
    "}\n"
   ]
  },
  {
   "cell_type": "code",
   "execution_count": 5,
   "metadata": {},
   "outputs": [],
   "source": [
    "z_f_span = np.linspace(0.5, 19, 6)/100\n",
    "z_f_span = z_f_span[:-2]"
   ]
  },
  {
   "cell_type": "code",
   "execution_count": 6,
   "metadata": {},
   "outputs": [
    {
     "data": {
      "text/plain": [
       "array([0.005, 0.042, 0.079, 0.116])"
      ]
     },
     "execution_count": 6,
     "metadata": {},
     "output_type": "execute_result"
    }
   ],
   "source": [
    "z_f_span"
   ]
  },
  {
   "cell_type": "code",
   "execution_count": 7,
   "metadata": {},
   "outputs": [
    {
     "name": "stdout",
     "output_type": "stream",
     "text": [
      "**************************************************\n",
      "z_f =  0.005\n",
      "**************************************************\n",
      "output\\f_0\n",
      "Running Calculix at:  output\\f_0\n",
      "Output file:  c:\\Users\\djoroya\\Documents\\GitHub\\CITISENS_Composite\\scripts\\T01_TensileTest\\Homogenization\\01_Basic\\blocks_04_circle_long\\output\\f_0\\out.txt\n",
      "Command:\n",
      " mpiexec -n 4 c:\\Users\\djoroya\\Documents\\GitHub\\CITISENS_Composite\\.conda\\Lib\\site-packages\\djccx\\bin\\ccx_dynamic.exe main\n",
      "Error reading cvf file\n",
      "\n",
      "pid:  8720 \n",
      "\n",
      "Calculix finished\n",
      "\n",
      "**************************************************\n",
      "z_f =  0.042\n",
      "**************************************************\n",
      "output\\f_1\n",
      "Running Calculix at:  output\\f_1\n",
      "Output file:  c:\\Users\\djoroya\\Documents\\GitHub\\CITISENS_Composite\\scripts\\T01_TensileTest\\Homogenization\\01_Basic\\blocks_04_circle_long\\output\\f_1\\out.txt\n",
      "Command:\n",
      " mpiexec -n 4 c:\\Users\\djoroya\\Documents\\GitHub\\CITISENS_Composite\\.conda\\Lib\\site-packages\\djccx\\bin\\ccx_dynamic.exe main\n",
      "Error reading cvf file\n",
      "\n",
      "pid:  16004 \n",
      "\n",
      "Calculix finished\n",
      "\n",
      "**************************************************\n",
      "z_f =  0.079\n",
      "**************************************************\n",
      "output\\f_2\n",
      "Running Calculix at:  output\\f_2\n",
      "Output file:  c:\\Users\\djoroya\\Documents\\GitHub\\CITISENS_Composite\\scripts\\T01_TensileTest\\Homogenization\\01_Basic\\blocks_04_circle_long\\output\\f_2\\out.txt\n",
      "Command:\n",
      " mpiexec -n 4 c:\\Users\\djoroya\\Documents\\GitHub\\CITISENS_Composite\\.conda\\Lib\\site-packages\\djccx\\bin\\ccx_dynamic.exe main\n",
      "Error reading cvf file\n",
      "\n",
      "pid:  14256 \n",
      "\n",
      "Calculix finished\n",
      "\n",
      "**************************************************\n",
      "z_f =  0.11600000000000002\n",
      "**************************************************\n",
      "output\\f_3\n",
      "Running Calculix at:  output\\f_3\n",
      "Output file:  c:\\Users\\djoroya\\Documents\\GitHub\\CITISENS_Composite\\scripts\\T01_TensileTest\\Homogenization\\01_Basic\\blocks_04_circle_long\\output\\f_3\\out.txt\n",
      "Command:\n",
      " mpiexec -n 4 c:\\Users\\djoroya\\Documents\\GitHub\\CITISENS_Composite\\.conda\\Lib\\site-packages\\djccx\\bin\\ccx_dynamic.exe main\n",
      "Error reading cvf file\n",
      "\n",
      "pid:  8400 \n",
      "\n",
      "Calculix finished\n",
      "\n"
     ]
    }
   ],
   "source": [
    "\n",
    "\n",
    "#z_f_span = [z_f_span[2]]\n",
    "for i,z_f in enumerate(z_f_span):\n",
    "    print(50*\"*\")\n",
    "    print(\"z_f = \", z_f)\n",
    "    print(50*\"*\")\n",
    "    params_loop = deepcopy(params)\n",
    "    params_loop[\"volume_fraction\"] = z_f\n",
    "    output = join(\"output\",\"f_\"+str(i))\n",
    "    print(output)\n",
    "    params_loop[\"output_folder\"] = output\n",
    "    RunBlock(params_loop)"
   ]
  },
  {
   "cell_type": "code",
   "execution_count": null,
   "metadata": {},
   "outputs": [],
   "source": []
  }
 ],
 "metadata": {
  "kernelspec": {
   "display_name": ".conda",
   "language": "python",
   "name": "python3"
  },
  "language_info": {
   "codemirror_mode": {
    "name": "ipython",
    "version": 3
   },
   "file_extension": ".py",
   "mimetype": "text/x-python",
   "name": "python",
   "nbconvert_exporter": "python",
   "pygments_lexer": "ipython3",
   "version": "3.11.10"
  }
 },
 "nbformat": 4,
 "nbformat_minor": 2
}
