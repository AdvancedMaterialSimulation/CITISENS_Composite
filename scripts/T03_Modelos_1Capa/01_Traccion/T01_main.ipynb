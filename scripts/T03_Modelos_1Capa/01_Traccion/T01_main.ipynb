{
 "cells": [
  {
   "cell_type": "markdown",
   "metadata": {},
   "source": []
  },
  {
   "cell_type": "code",
   "execution_count": 1,
   "metadata": {},
   "outputs": [],
   "source": [
    "\n",
    "import os \n",
    "from copy import deepcopy\n",
    "from FEM_traccion.RunFullModel import RunFullModel\n",
    "import numpy as np\n",
    "join = os.path.join\n",
    "\n",
    "A_s = 0.283 # mm^2"
   ]
  },
  {
   "cell_type": "code",
   "execution_count": 2,
   "metadata": {},
   "outputs": [],
   "source": [
    "t_l = 0.475 #  Espesor de la capa [mm]\n",
    "t_n = 2.934\n",
    "\n",
    "r = 3*t_l/8 \n",
    "d = (A_s - np.pi*r**2)/(2*r) # Area de la capa [mm^2]\n",
    "params_composite ={\n",
    "    \"r\"         :  r,\n",
    "    \"d\"         :  d,\n",
    "    \"h\"         :  t_l,\n",
    "    \"z0\"        :  0,\n",
    "    \"density\"   : 5,\n",
    "}\n",
    "\n",
    "params_ccx = {\n",
    "    \"epsilon\" : 0.1,\n",
    "    \"x_fixed\" : True,\n",
    "    \"E_nucleo\": 880,\n",
    "   \"E_resina\": 636.15,\n",
    "    \"E_fibra\" : 16696.33\n",
    "}\n",
    "params = {\n",
    "    \"mesh\" : params_composite,\n",
    "    \"ccx\"  : params_ccx,\n",
    "}"
   ]
  },
  {
   "cell_type": "code",
   "execution_count": 3,
   "metadata": {},
   "outputs": [
    {
     "data": {
      "text/plain": [
       "{'mesh': {'r': 0.17812499999999998,\n",
       "  'd': 0.5145878692019398,\n",
       "  'h': 0.475,\n",
       "  'z0': 0,\n",
       "  'density': 5},\n",
       " 'ccx': {'epsilon': 0.1,\n",
       "  'x_fixed': True,\n",
       "  'E_nucleo': 880,\n",
       "  'E_resina': 636.15,\n",
       "  'E_fibra': 16696.33}}"
      ]
     },
     "execution_count": 3,
     "metadata": {},
     "output_type": "execute_result"
    }
   ],
   "source": [
    "params"
   ]
  },
  {
   "cell_type": "code",
   "execution_count": 4,
   "metadata": {},
   "outputs": [
    {
     "data": {
      "text/plain": [
       "0.35000000000000003"
      ]
     },
     "execution_count": 4,
     "metadata": {},
     "output_type": "execute_result"
    }
   ],
   "source": [
    "1.05/3"
   ]
  },
  {
   "cell_type": "markdown",
   "metadata": {},
   "source": []
  },
  {
   "cell_type": "code",
   "execution_count": 6,
   "metadata": {},
   "outputs": [
    {
     "name": "stdout",
     "output_type": "stream",
     "text": [
      "\t==================================================\n",
      "\tDesign X\n",
      "\t==================================================\n",
      "Layer number 1/1 done\n",
      "Meshing ... \n",
      "\t==================================================\n",
      "\tCCX X\n",
      "\t==================================================\n",
      "Input folder: \t output\\designs\\X\n",
      "Output folder: \t output\\ccx\\X\n",
      "Resina E:  636.15\n",
      "Carbon E:  16696.33\n",
      "Nucleo E:  880\n",
      "Running Calculix at:  output\\ccx\\X\n",
      "Output file:  c:\\Users\\djoroya\\Documents\\GitHub\\CITISENS_Composite_v2\\scripts\\T03_Modelos_1Capa\\01_Traccion\\output\\ccx\\X\\out.txt\n",
      "Command:\n",
      " C:\\Program Files\\Microsoft MPI\\Bin\\mpiexec -n 6 c:\\Users\\djoroya\\Documents\\GitHub\\CITISENS_Composite_v2\\.conda\\Lib\\site-packages\\djccx\\bin\\ccx_dynamic.exe main\n",
      "Error reading cvf file\n",
      "\n",
      "pid:  18048 \n",
      "\n",
      "Calculix finished\n",
      "\n",
      "\t==================================================\n",
      "\tDesign Y\n",
      "\t==================================================\n",
      "Layer number 1/1 done\n",
      "Meshing ... \n",
      "\t==================================================\n",
      "\tCCX Y\n",
      "\t==================================================\n",
      "Input folder: \t output\\designs\\Y\n",
      "Output folder: \t output\\ccx\\Y\n",
      "Resina E:  636.15\n",
      "Carbon E:  16696.33\n",
      "Nucleo E:  880\n",
      "Running Calculix at:  output\\ccx\\Y\n",
      "Output file:  c:\\Users\\djoroya\\Documents\\GitHub\\CITISENS_Composite_v2\\scripts\\T03_Modelos_1Capa\\01_Traccion\\output\\ccx\\Y\\out.txt\n",
      "Command:\n",
      " C:\\Program Files\\Microsoft MPI\\Bin\\mpiexec -n 6 c:\\Users\\djoroya\\Documents\\GitHub\\CITISENS_Composite_v2\\.conda\\Lib\\site-packages\\djccx\\bin\\ccx_dynamic.exe main\n",
      "Error reading cvf file\n",
      "\n",
      "pid:  17812 \n",
      "\n",
      "Calculix finished\n",
      "\n",
      "\t==================================================\n",
      "\tDesign SX\n",
      "\t==================================================\n",
      "Layer number 1/1 done\n",
      "Meshing ... \n",
      "\t==================================================\n",
      "\tCCX SX\n",
      "\t==================================================\n",
      "Input folder: \t output\\designs\\SX\n",
      "Output folder: \t output\\ccx\\SX\n",
      "Resina E:  636.15\n",
      "Carbon E:  16696.33\n",
      "Nucleo E:  880\n",
      "Running Calculix at:  output\\ccx\\SX\n",
      "Output file:  c:\\Users\\djoroya\\Documents\\GitHub\\CITISENS_Composite_v2\\scripts\\T03_Modelos_1Capa\\01_Traccion\\output\\ccx\\SX\\out.txt\n",
      "Command:\n",
      " C:\\Program Files\\Microsoft MPI\\Bin\\mpiexec -n 6 c:\\Users\\djoroya\\Documents\\GitHub\\CITISENS_Composite_v2\\.conda\\Lib\\site-packages\\djccx\\bin\\ccx_dynamic.exe main\n",
      "Error reading cvf file\n",
      "\n",
      "pid:  17144 \n",
      "\n",
      "Calculix finished\n",
      "\n",
      "\t==================================================\n",
      "\tDesign SY\n",
      "\t==================================================\n",
      "Layer number 1/1 done\n",
      "Meshing ... \n",
      "\t==================================================\n",
      "\tCCX SY\n",
      "\t==================================================\n",
      "Input folder: \t output\\designs\\SY\n",
      "Output folder: \t output\\ccx\\SY\n",
      "Resina E:  636.15\n",
      "Carbon E:  16696.33\n",
      "Nucleo E:  880\n",
      "Running Calculix at:  output\\ccx\\SY\n",
      "Output file:  c:\\Users\\djoroya\\Documents\\GitHub\\CITISENS_Composite_v2\\scripts\\T03_Modelos_1Capa\\01_Traccion\\output\\ccx\\SY\\out.txt\n",
      "Command:\n",
      " C:\\Program Files\\Microsoft MPI\\Bin\\mpiexec -n 6 c:\\Users\\djoroya\\Documents\\GitHub\\CITISENS_Composite_v2\\.conda\\Lib\\site-packages\\djccx\\bin\\ccx_dynamic.exe main\n",
      "Error reading cvf file\n",
      "\n",
      "pid:  4228 \n",
      "\n",
      "Calculix finished\n",
      "\n"
     ]
    }
   ],
   "source": [
    "\n",
    "layers = [\"X\",\"Y\",\"SX\",\"SY\"]\n",
    "# layers = [\"SY\"]\n",
    "\n",
    "for design in layers:\n",
    "    # Generate mesh and RVEl\n",
    "    params_copy = deepcopy(params)\n",
    "    RunFullModel(design,\"output\",params_copy)\n",
    "    \n",
    "    "
   ]
  },
  {
   "cell_type": "code",
   "execution_count": null,
   "metadata": {},
   "outputs": [],
   "source": []
  }
 ],
 "metadata": {
  "kernelspec": {
   "display_name": "Python 3",
   "language": "python",
   "name": "python3"
  },
  "language_info": {
   "codemirror_mode": {
    "name": "ipython",
    "version": 3
   },
   "file_extension": ".py",
   "mimetype": "text/x-python",
   "name": "python",
   "nbconvert_exporter": "python",
   "pygments_lexer": "ipython3",
   "version": "3.13.2"
  }
 },
 "nbformat": 4,
 "nbformat_minor": 2
}
