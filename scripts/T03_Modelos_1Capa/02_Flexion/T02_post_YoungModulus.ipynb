{
 "cells": [
  {
   "cell_type": "code",
   "execution_count": 1,
   "metadata": {},
   "outputs": [],
   "source": [
    "import glob\n",
    "import numpy as np"
   ]
  },
  {
   "cell_type": "code",
   "execution_count": 2,
   "metadata": {},
   "outputs": [],
   "source": [
    "frds = glob.glob('output/ccx/*/*.frd')\n",
    "dats = glob.glob('output/ccx/*/*.dat')"
   ]
  },
  {
   "cell_type": "code",
   "execution_count": 3,
   "metadata": {},
   "outputs": [],
   "source": [
    "# dats = dats[1:]\n",
    "# frds = frds[1:]"
   ]
  },
  {
   "cell_type": "code",
   "execution_count": 4,
   "metadata": {},
   "outputs": [],
   "source": [
    "from djccx.read_dat import read_dat\n",
    "from djccx.frd.readfrd import readfrd"
   ]
  },
  {
   "cell_type": "code",
   "execution_count": 5,
   "metadata": {},
   "outputs": [],
   "source": [
    "t_l = 0.475 #  Espesor de la capa [mm]\n",
    "t_n = 2.934\n",
    "A_s = 0.283 # mm^2\n",
    "\n",
    "r = 3*t_l/8 \n",
    "d = (A_s - np.pi*r**2)/(2*r) # Area de la capa [mm^2]\n",
    "params_composite ={\n",
    "    \"r\"         :  r,\n",
    "    \"d\"         :  d,\n",
    "    \"h\"         :  t_l,\n",
    "    \"z0\"        :  0,\n",
    "    \"density\"   : 5,\n",
    "}\n",
    "params_ccx = {\n",
    "    \"epsilon\" : 0.1,\n",
    "    \"x_fixed\" : True\n",
    "}\n",
    "params = {\n",
    "    \"mesh\" : params_composite,\n",
    "    \"ccx\"  : params_ccx,\n",
    "}"
   ]
  },
  {
   "cell_type": "code",
   "execution_count": 6,
   "metadata": {},
   "outputs": [],
   "source": [
    "ni = [1,2,2,2,3,3]\n",
    "ni = [1,1,1,1] # Consideramos Adouble"
   ]
  },
  {
   "cell_type": "code",
   "execution_count": 7,
   "metadata": {},
   "outputs": [],
   "source": [
    "\n",
    "\n",
    "def compute_E_eff(iffiles,ni):\n",
    "\n",
    "    ancho = params_composite[\"z0\"]*0.5 + ni*params_composite[\"h\"]\n",
    "    largo = 10 \n",
    "    A = ancho*largo\n",
    "    try:\n",
    "        ifrd = readfrd(iffiles)\n",
    "    except:\n",
    "        print(\"Error reading frd file\")\n",
    "        return 0\n",
    "    df = ifrd[\"data\"]\n",
    "    Sapl = np.sum(df[\"F2\"]*(df[\"y\"] > df[\"y\"].mean()))/A\n",
    "\n",
    "    E_eff = Sapl / params[\"ccx\"][\"epsilon\"]\n",
    "    return E_eff\n",
    "\n",
    "E_effs = [compute_E_eff(f,ini) for f,ini in zip(frds,ni)]\n",
    "#E_effs = [compute_E_eff(f,ini) for f,ini in zip(frds[0:1],ni[0:1])]\n",
    "E_effs = np.array(E_effs)*1e-3"
   ]
  },
  {
   "cell_type": "code",
   "execution_count": 8,
   "metadata": {},
   "outputs": [],
   "source": [
    "frds\n",
    "E_effs = [ E_effs[2], E_effs[3], E_effs[0], E_effs[1] ]"
   ]
  },
  {
   "cell_type": "code",
   "execution_count": 9,
   "metadata": {},
   "outputs": [
    {
     "data": {
      "text/plain": [
       "['output/ccx\\\\X\\\\main.frd',\n",
       " 'output/ccx\\\\Y\\\\main.frd',\n",
       " 'output/ccx\\\\SX\\\\main.frd',\n",
       " 'output/ccx\\\\SY\\\\main.frd']"
      ]
     },
     "execution_count": 9,
     "metadata": {},
     "output_type": "execute_result"
    }
   ],
   "source": [
    "frds = [ frds[2], frds[3], frds[0], frds[1] ]\n",
    "frds"
   ]
  },
  {
   "cell_type": "code",
   "execution_count": 10,
   "metadata": {},
   "outputs": [
    {
     "data": {
      "text/plain": [
       "['X', 'Y', 'SX', 'SY']"
      ]
     },
     "execution_count": 10,
     "metadata": {},
     "output_type": "execute_result"
    }
   ],
   "source": [
    "names = [f.split(\"/\")[-1].split(\"\\\\\")[-2] for f in frds]\n",
    "names"
   ]
  },
  {
   "cell_type": "code",
   "execution_count": 11,
   "metadata": {},
   "outputs": [
    {
     "data": {
      "text/plain": [
       "[np.float64(6243.859454331177),\n",
       " np.float64(29565.9395016478),\n",
       " np.float64(5766.543005311096),\n",
       " np.float64(5789.504039747212)]"
      ]
     },
     "execution_count": 11,
     "metadata": {},
     "output_type": "execute_result"
    }
   ],
   "source": [
    "E_effs"
   ]
  },
  {
   "cell_type": "code",
   "execution_count": 30,
   "metadata": {},
   "outputs": [],
   "source": [
    "\n",
    "E_X = 6.54  #\n",
    "E_SX = 5.81 \n",
    "E_Y = 29.07\n",
    "E_SY = 5.84 \n",
    "\n",
    "E_target = [ E_X , E_Y , E_SX , E_SY ]\n",
    "E_target = np.array(E_target)\n"
   ]
  },
  {
   "cell_type": "code",
   "execution_count": 33,
   "metadata": {},
   "outputs": [
    {
     "data": {
      "text/plain": [
       "<matplotlib.legend.Legend at 0x1fe448f4cd0>"
      ]
     },
     "execution_count": 33,
     "metadata": {},
     "output_type": "execute_result"
    },
    {
     "data": {
      "image/png": "[encoded data removed]",
      "text/plain": [
       "<Figure size 640x480 with 1 Axes>"
      ]
     },
     "metadata": {},
     "output_type": "display_data"
    }
   ],
   "source": [
    "# bar plot \n",
    "from matplotlib import pyplot as plt\n",
    "\n",
    "xrange = np.arange(len(E_effs))\n",
    "plt.bar(xrange-0.15, E_effs,\n",
    "         tick_label=names, color='blue', alpha=0.7,label=r\"$E_{FEM}$\",width=0.25)\n",
    "plt.bar(xrange+ 0.15, E_target,\n",
    "         tick_label=names, color='red', alpha=0.7,label=r\"$E_{opt}$\",width=0.25)\n",
    "\n",
    "plt.xticks(xrange, names, rotation=0)\n",
    "plt.ylabel(r\"$E\\ (GPa)$\")\n",
    "plt.xlabel(\"Capas\")\n",
    "plt.grid()\n",
    "plt.legend()"
   ]
  },
  {
   "cell_type": "code",
   "execution_count": 14,
   "metadata": {},
   "outputs": [
    {
     "data": {
      "text/plain": [
       "[np.float64(6243.859454331177),\n",
       " np.float64(29565.9395016478),\n",
       " np.float64(5766.543005311096),\n",
       " np.float64(5789.504039747212)]"
      ]
     },
     "execution_count": 14,
     "metadata": {},
     "output_type": "execute_result"
    }
   ],
   "source": [
    "E_effs"
   ]
  },
  {
   "cell_type": "code",
   "execution_count": 15,
   "metadata": {},
   "outputs": [
    {
     "data": {
      "text/plain": [
       "array([ 6.54, 29.07,  5.81,  5.84])"
      ]
     },
     "execution_count": 15,
     "metadata": {},
     "output_type": "execute_result"
    }
   ],
   "source": [
    "E_target"
   ]
  },
  {
   "cell_type": "code",
   "execution_count": 25,
   "metadata": {},
   "outputs": [
    {
     "data": {
      "image/png": "[encoded data removed]",
      "text/plain": [
       "<Figure size 640x480 with 1 Axes>"
      ]
     },
     "metadata": {},
     "output_type": "display_data"
    }
   ],
   "source": [
    "# 1vs1 \n",
    "\n",
    "plt.figure()\n",
    "plt.plot(E_target,E_effs, 'o', color='blue', label=r\"$E_{FEM}$ vs $E_{target}$\",ms=5)\n",
    "plt.plot([0, 10], [0, 10], 'k--', label='1:1')\n",
    "plt.ylabel(r\"$E_{FEM} (GPa)$\")\n",
    "plt.xlabel(r\"$E_{opt} (GPa)$\")\n",
    "# text \n",
    "for i, txt in enumerate(names):\n",
    "\n",
    "    if i % 2 == 0:\n",
    "        disp =  0.4\n",
    "    else:\n",
    "        disp = -0.4\n",
    "    plt.annotate(txt, (E_target[i]+disp, E_effs[i]), fontsize=10, ha='right', va='bottom')\n",
    "# plt.xlim(0, 10)\n",
    "# plt.ylim(0, 10)\n",
    "plt.grid()"
   ]
  },
  {
   "cell_type": "code",
   "execution_count": 17,
   "metadata": {},
   "outputs": [],
   "source": [
    "t_l = 0.475 #  Espesor de la capa [mm]\n",
    "t_n = 2.934\n",
    "\n",
    "r = 3*t_l/8 \n",
    "d = (A_s - np.pi*r**2)/(2*r) # Area de la capa [mm^2]\n",
    "\n",
    "E_resina = 637.4322499999998\n",
    "E_carbon = 15333.333333333334\n",
    "E_nucleo = 800\n",
    "\n",
    "\n",
    "L = 10 # Largo de la capa [mm]\n"
   ]
  },
  {
   "cell_type": "markdown",
   "metadata": {},
   "source": [
    "### Prediccion Capa Y "
   ]
  },
  {
   "cell_type": "code",
   "execution_count": 18,
   "metadata": {},
   "outputs": [
    {
     "name": "stdout",
     "output_type": "stream",
     "text": [
      "Area de la capa:  4.75  mm^2\n",
      "Area de la capa con hilos:  1.698  mm^2\n",
      "Fraccion de volumen de fibra de la capa:  35.75 %\n",
      "Fraccion de volumen de resina de la capa:  64.25 %\n"
     ]
    }
   ],
   "source": [
    "N_hilos = 6\n",
    "A_Y = np.pi*r**2 + 2*r*d # Area de la capa [mm^2]\n",
    "A_Y = N_hilos*A_Y # Area total de la capa [mm^2] \n",
    "A_t = L*t_l # Area de la capa [mm^2]\n",
    "\n",
    "v_frac = A_Y/A_t # Fraccion de volumen de la capa\n",
    "print(\"Area de la capa: \",A_t, \" mm^2\")\n",
    "print(\"Area de la capa con hilos: \",A_Y, \" mm^2\")\n",
    "print(\"Fraccion de volumen de fibra de la capa: \", round(v_frac*100,2), \"%\")\n",
    "print(\"Fraccion de volumen de resina de la capa: \",round((1-v_frac)*100,2), \"%\")\n"
   ]
  },
  {
   "cell_type": "code",
   "execution_count": 19,
   "metadata": {},
   "outputs": [
    {
     "name": "stdout",
     "output_type": "stream",
     "text": [
      "Modulo de Young de la capa (Analitico):  5.89  GPa\n",
      "Modulo de Young de la capa (FEM):  29565.94  GPa\n"
     ]
    }
   ],
   "source": [
    "def ModelY(v_frac):\n",
    "    E = (1- v_frac)*E_resina + v_frac*E_carbon\n",
    "    return 1e-3*E\n",
    "\n",
    "print(\"Modulo de Young de la capa (Analitico): \", round(ModelY(v_frac),2), \" GPa\")\n",
    "names\n",
    "# find Y \n",
    "id_Y = names.index(\"Y\")\n",
    "E_Y = E_effs[id_Y]\n",
    "print(\"Modulo de Young de la capa (FEM): \", round(E_Y,2), \" GPa\")"
   ]
  },
  {
   "cell_type": "code",
   "execution_count": 20,
   "metadata": {},
   "outputs": [
    {
     "name": "stdout",
     "output_type": "stream",
     "text": [
      "Error en el modulo de Young de la capa (FEM):  29560.05  GPa\n",
      "Error en el modulo de Young de la capa (FEM):  99.98  %\n"
     ]
    }
   ],
   "source": [
    "Error_Y = E_Y - ModelY(v_frac)\n",
    "print(\"Error en el modulo de Young de la capa (FEM): \", round(Error_Y,2), \" GPa\")\n",
    "Error_Y = Error_Y/E_Y*100\n",
    "print(\"Error en el modulo de Young de la capa (FEM): \", round(Error_Y,2), \" %\")"
   ]
  },
  {
   "cell_type": "code",
   "execution_count": 21,
   "metadata": {},
   "outputs": [],
   "source": [
    "def ModelX(v_frac):\n",
    "    f_c = 6*(d+2*r)/L\n",
    "    E_h = 1/(f_c/E_carbon + (1-f_c)/E_resina)\n",
    "\n",
    "    E = (2*E_resina*(t_l - 2*r) + 2*E_h*r)/t_l\n",
    "    return 1e-3*E"
   ]
  },
  {
   "cell_type": "code",
   "execution_count": 22,
   "metadata": {},
   "outputs": [
    {
     "name": "stdout",
     "output_type": "stream",
     "text": [
      "Modulo de Young de la capa (Analitico):  1.28  GPa\n",
      "Modulo de Young de la capa (FEM):  6243.86  GPa\n"
     ]
    }
   ],
   "source": [
    "print(\"Modulo de Young de la capa (Analitico): \", round(ModelX(v_frac),2), \" GPa\")\n",
    "names\n",
    "# find X\n",
    "id_X = names.index(\"X\")\n",
    "E_X = E_effs[id_X]\n",
    "print(\"Modulo de Young de la capa (FEM): \", round(E_X,2), \" GPa\")"
   ]
  },
  {
   "cell_type": "code",
   "execution_count": 23,
   "metadata": {},
   "outputs": [
    {
     "name": "stdout",
     "output_type": "stream",
     "text": [
      "Error en el modulo de Young de la capa (FEM):  6242.58  GPa\n",
      "Error en el modulo de Young de la capa (FEM):  99.98  %\n"
     ]
    }
   ],
   "source": [
    "print(\"Error en el modulo de Young de la capa (FEM): \", round(E_X - ModelX(v_frac),2), \" GPa\")\n",
    "Error_X = abs(E_X - ModelX(v_frac))/E_X*100\n",
    "print(\"Error en el modulo de Young de la capa (FEM): \", round(Error_X,2), \" %\")\n"
   ]
  },
  {
   "cell_type": "code",
   "execution_count": 24,
   "metadata": {},
   "outputs": [
    {
     "data": {
      "text/plain": [
       "0.35747368421052633"
      ]
     },
     "execution_count": 24,
     "metadata": {},
     "output_type": "execute_result"
    }
   ],
   "source": [
    "v_frac"
   ]
  },
  {
   "cell_type": "code",
   "execution_count": null,
   "metadata": {},
   "outputs": [],
   "source": []
  },
  {
   "cell_type": "code",
   "execution_count": null,
   "metadata": {},
   "outputs": [],
   "source": []
  }
 ],
 "metadata": {
  "kernelspec": {
   "display_name": "Python 3",
   "language": "python",
   "name": "python3"
  },
  "language_info": {
   "codemirror_mode": {
    "name": "ipython",
    "version": 3
   },
   "file_extension": ".py",
   "mimetype": "text/x-python",
   "name": "python",
   "nbconvert_exporter": "python",
   "pygments_lexer": "ipython3",
   "version": "3.13.2"
  }
 },
 "nbformat": 4,
 "nbformat_minor": 2
}
