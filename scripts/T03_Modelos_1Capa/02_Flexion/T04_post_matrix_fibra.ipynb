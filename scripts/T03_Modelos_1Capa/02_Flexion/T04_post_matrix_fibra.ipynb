{
 "cells": [
  {
   "cell_type": "code",
   "execution_count": 1,
   "metadata": {},
   "outputs": [],
   "source": [
    "import glob\n",
    "import numpy as np"
   ]
  },
  {
   "cell_type": "code",
   "execution_count": 2,
   "metadata": {},
   "outputs": [],
   "source": [
    "frds = glob.glob('output/ccx/*/*.frd')\n",
    "dats = glob.glob('output/ccx/*/*.dat')"
   ]
  },
  {
   "cell_type": "code",
   "execution_count": 3,
   "metadata": {},
   "outputs": [],
   "source": [
    "# dats = dats[1:]\n",
    "# frds = frds[1:]"
   ]
  },
  {
   "cell_type": "code",
   "execution_count": 4,
   "metadata": {},
   "outputs": [],
   "source": [
    "from djccx.read_dat import read_dat\n",
    "from djccx.frd.readfrd import readfrd"
   ]
  },
  {
   "cell_type": "code",
   "execution_count": 5,
   "metadata": {},
   "outputs": [],
   "source": [
    "t_l = 0.475 #  Espesor de la capa [mm]\n",
    "t_n = 2.934\n",
    "A_s = 0.283 # mm^2\n",
    "\n",
    "r = 3*t_l/8 \n",
    "d = (A_s - np.pi*r**2)/(2*r) # Area de la capa [mm^2]\n",
    "params_composite ={\n",
    "    \"r\"         :  r,\n",
    "    \"d\"         :  d,\n",
    "    \"h\"         :  t_l,\n",
    "    \"z0\"        :  0,\n",
    "    \"density\"   : 5,\n",
    "}\n",
    "params_ccx = {\n",
    "    \"epsilon\" : 0.1,\n",
    "    \"x_fixed\" : True\n",
    "}\n",
    "params = {\n",
    "    \"mesh\" : params_composite,\n",
    "    \"ccx\"  : params_ccx,\n",
    "}"
   ]
  },
  {
   "cell_type": "code",
   "execution_count": 6,
   "metadata": {},
   "outputs": [],
   "source": [
    "ni = [1,2,2,2,3,3]\n",
    "ni = [1,1,1,1] # Consideramos Adouble"
   ]
  },
  {
   "cell_type": "code",
   "execution_count": 7,
   "metadata": {},
   "outputs": [],
   "source": [
    "\n",
    "\n",
    "def compute_E_eff(iffiles,ni):\n",
    "\n",
    "    ancho = params_composite[\"z0\"]*0.5 + ni*params_composite[\"h\"]\n",
    "    largo = 10 \n",
    "    A = ancho*largo\n",
    "    try:\n",
    "        ifrd = readfrd(iffiles)\n",
    "    except:\n",
    "        print(\"Error reading frd file\")\n",
    "        return 0\n",
    "    df = ifrd[\"data\"]\n",
    "    Sapl = np.sum(df[\"F2\"]*(df[\"y\"] > df[\"y\"].mean()))/A\n",
    "\n",
    "    E_eff = Sapl / params[\"ccx\"][\"epsilon\"]\n",
    "    return E_eff\n",
    "\n",
    "E_effs = [compute_E_eff(f,ini) for f,ini in zip(frds,ni)]\n",
    "#E_effs = [compute_E_eff(f,ini) for f,ini in zip(frds[0:1],ni[0:1])]\n",
    "E_effs = np.array(E_effs)*1e-3"
   ]
  },
  {
   "cell_type": "code",
   "execution_count": 8,
   "metadata": {},
   "outputs": [],
   "source": [
    "frds\n",
    "E_effs = [ E_effs[2], E_effs[3], E_effs[0], E_effs[1] ]"
   ]
  },
  {
   "cell_type": "code",
   "execution_count": 9,
   "metadata": {},
   "outputs": [
    {
     "data": {
      "text/plain": [
       "['output/ccx\\\\X\\\\main.frd',\n",
       " 'output/ccx\\\\Y\\\\main.frd',\n",
       " 'output/ccx\\\\SX\\\\main.frd',\n",
       " 'output/ccx\\\\SY\\\\main.frd']"
      ]
     },
     "execution_count": 9,
     "metadata": {},
     "output_type": "execute_result"
    }
   ],
   "source": [
    "frds = [ frds[2], frds[3], frds[0], frds[1] ]\n",
    "frds"
   ]
  },
  {
   "cell_type": "code",
   "execution_count": 10,
   "metadata": {},
   "outputs": [
    {
     "data": {
      "text/plain": [
       "['X', 'Y', 'SX', 'SY']"
      ]
     },
     "execution_count": 10,
     "metadata": {},
     "output_type": "execute_result"
    }
   ],
   "source": [
    "names = [f.split(\"/\")[-1].split(\"\\\\\")[-2] for f in frds]\n",
    "names"
   ]
  },
  {
   "cell_type": "code",
   "execution_count": 11,
   "metadata": {},
   "outputs": [
    {
     "data": {
      "text/plain": [
       "[np.float64(1.2183454466962444),\n",
       " np.float64(5.987016815409205),\n",
       " np.float64(1.1286480552634521),\n",
       " np.float64(1.1340256789266567)]"
      ]
     },
     "execution_count": 11,
     "metadata": {},
     "output_type": "execute_result"
    }
   ],
   "source": [
    "E_effs"
   ]
  },
  {
   "cell_type": "code",
   "execution_count": 12,
   "metadata": {},
   "outputs": [],
   "source": [
    "\n",
    "E_X = 1.58\n",
    "E_SX = 0.92 \n",
    "E_Y = 6.39 \n",
    "E_SY = 1.06 \n",
    "\n",
    "E_target = [ E_X , E_Y , E_SX , E_SY ]\n",
    "E_target = np.array(E_target)\n"
   ]
  },
  {
   "cell_type": "code",
   "execution_count": 74,
   "metadata": {},
   "outputs": [
    {
     "data": {
      "text/plain": [
       "<matplotlib.legend.Legend at 0x220a3129810>"
      ]
     },
     "execution_count": 74,
     "metadata": {},
     "output_type": "execute_result"
    },
    {
     "data": {
      "image/png": "[encoded data removed]",
      "text/plain": [
       "<Figure size 640x480 with 1 Axes>"
      ]
     },
     "metadata": {},
     "output_type": "display_data"
    }
   ],
   "source": [
    "# bar plot \n",
    "from matplotlib import pyplot as plt\n",
    "\n",
    "xrange = np.arange(len(E_effs))\n",
    "plt.bar(xrange-0.15, E_effs,\n",
    "         tick_label=names, color='blue', alpha=0.7,label=r\"$E_{FEM}$\",width=0.25)\n",
    "plt.bar(xrange+ 0.15, E_target,\n",
    "         tick_label=names, color='red', alpha=0.7,label=r\"$E_{experimental}$\",width=0.25)\n",
    "\n",
    "plt.xticks(xrange, names, rotation=0)\n",
    "plt.ylabel(r\"$E \\ (GPa)$\")\n",
    "plt.xlabel(\"Capas\")\n",
    "plt.grid()\n",
    "plt.legend()"
   ]
  },
  {
   "cell_type": "code",
   "execution_count": 14,
   "metadata": {},
   "outputs": [
    {
     "data": {
      "text/plain": [
       "[np.float64(1.2183454466962444),\n",
       " np.float64(5.987016815409205),\n",
       " np.float64(1.1286480552634521),\n",
       " np.float64(1.1340256789266567)]"
      ]
     },
     "execution_count": 14,
     "metadata": {},
     "output_type": "execute_result"
    }
   ],
   "source": [
    "E_effs"
   ]
  },
  {
   "cell_type": "code",
   "execution_count": 15,
   "metadata": {},
   "outputs": [
    {
     "data": {
      "text/plain": [
       "array([1.58, 6.39, 0.92, 1.06])"
      ]
     },
     "execution_count": 15,
     "metadata": {},
     "output_type": "execute_result"
    }
   ],
   "source": [
    "E_target"
   ]
  },
  {
   "cell_type": "code",
   "execution_count": 16,
   "metadata": {},
   "outputs": [
    {
     "data": {
      "image/png": "[encoded data removed]",
      "text/plain": [
       "<Figure size 640x480 with 1 Axes>"
      ]
     },
     "metadata": {},
     "output_type": "display_data"
    }
   ],
   "source": [
    "# 1vs1 \n",
    "\n",
    "plt.figure()\n",
    "plt.plot(E_target,E_effs, 'o', color='blue', label=r\"$E_{FEM}$ vs $E_{target}$\",ms=5)\n",
    "plt.plot([0, 10], [0, 10], 'k--', label='1:1')\n",
    "plt.ylabel(r\"$E_{FEM} (GPa)$\")\n",
    "plt.xlabel(r\"$E_{target} (GPa)$\")\n",
    "# text \n",
    "for i, txt in enumerate(names):\n",
    "\n",
    "    if i % 2 == 0:\n",
    "        disp =  0.4\n",
    "    else:\n",
    "        disp = -0.4\n",
    "    plt.annotate(txt, (E_target[i]+disp, E_effs[i]), fontsize=10, ha='right', va='bottom')\n",
    "plt.xlim(0, 10)\n",
    "plt.ylim(0, 10)\n",
    "plt.grid()"
   ]
  },
  {
   "cell_type": "code",
   "execution_count": 17,
   "metadata": {},
   "outputs": [],
   "source": [
    "from FEM_traccion.CreateLines.CreateLines import CreateLines\n",
    "\n",
    "lines = CreateLines({\n",
    "        \"r\": 2.5,\n",
    "        \"Nx_sq\": 1,\n",
    "        \"Ny_sq\": 1,\n",
    "        \"type\":  'sin' # 'circle' or 'sin'\n",
    "    })"
   ]
  },
  {
   "cell_type": "code",
   "execution_count": null,
   "metadata": {},
   "outputs": [],
   "source": []
  },
  {
   "cell_type": "code",
   "execution_count": 18,
   "metadata": {},
   "outputs": [
    {
     "data": {
      "text/plain": [
       "['output/ccx\\\\X\\\\main.frd',\n",
       " 'output/ccx\\\\Y\\\\main.frd',\n",
       " 'output/ccx\\\\SX\\\\main.frd',\n",
       " 'output/ccx\\\\SY\\\\main.frd']"
      ]
     },
     "execution_count": 18,
     "metadata": {},
     "output_type": "execute_result"
    }
   ],
   "source": [
    "frds"
   ]
  },
  {
   "cell_type": "code",
   "execution_count": 19,
   "metadata": {},
   "outputs": [],
   "source": [
    "\n",
    "ifrd_s = [readfrd(f) for f in frds]"
   ]
  },
  {
   "cell_type": "code",
   "execution_count": 20,
   "metadata": {},
   "outputs": [],
   "source": [
    "trajs = [ lines[\"designs\"][idesign][\"ly_0\"]\n",
    "         for idesign in [\"X\",\"Y\",\"SX\",\"SY\"] ]"
   ]
  },
  {
   "cell_type": "code",
   "execution_count": 21,
   "metadata": {},
   "outputs": [],
   "source": [
    "ymin = 0.5 \n",
    "ymax = 9.5\n",
    "xmin = 0.5\n",
    "xmax = 9.5"
   ]
  },
  {
   "cell_type": "code",
   "execution_count": 72,
   "metadata": {},
   "outputs": [
    {
     "data": {
      "text/plain": [
       "Text(0.5, 1.0, 'Maximo directo P1')"
      ]
     },
     "execution_count": 72,
     "metadata": {},
     "output_type": "execute_result"
    },
    {
     "data": {
      "image/png": "[encoded data removed]",
      "text/plain": [
       "<Figure size 640x480 with 1 Axes>"
      ]
     },
     "metadata": {},
     "output_type": "display_data"
    }
   ],
   "source": [
    "fig = plt.figure()\n",
    "colors = ['blue', 'red', 'green', 'orange']\n",
    "for j in range(len(E_effs)):\n",
    "    ifrd = ifrd_s[j]\n",
    "\n",
    "    data_time = ifrd[\"data_blocks\"]\n",
    "\n",
    "    P1_max_list = []\n",
    "    Sapl_list = []\n",
    "    for i in range(len(data_time)):\n",
    "        data = data_time[i]\n",
    "\n",
    "        \n",
    "\n",
    "        ancho = params_composite[\"z0\"]*0.5 +params_composite[\"h\"]\n",
    "        largo = 10 \n",
    "        A = ancho*largo\n",
    "        Sapl = np.sum(data[\"F2\"]*(data[\"y\"] > data[\"y\"].mean()))/A\n",
    "        Sapl_list.append(Sapl)\n",
    "\n",
    "\n",
    "\n",
    "        data = data[data[\"x\"] > xmin]\n",
    "        data = data[data[\"x\"] < xmax]\n",
    "        data = data[data[\"y\"] > ymin]\n",
    "        data = data[data[\"y\"] < ymax]\n",
    "\n",
    "        P1_max = np.max(data[\"P1\"])\n",
    "        P1_max_list.append(P1_max)\n",
    "\n",
    "    P1_max_list = np.array(P1_max_list)\n",
    "    Sapl_list = np.array(Sapl_list)\n",
    "\n",
    "\n",
    "\n",
    "    plt.plot( Sapl_list,P1_max_list, 'o-', color=colors[j], label=names[j],ms=5)\n",
    "\n",
    "plt.xlabel(r\"$\\sigma_{apl}$ (MPa)\")\n",
    "plt.ylabel(r\"P1 (MPa)\")\n",
    "plt.grid()\n",
    "plt.legend()\n",
    "plt.title(\"Maximo directo P1\")\n",
    "# plt.xlim(0, 200)"
   ]
  },
  {
   "cell_type": "code",
   "execution_count": 23,
   "metadata": {},
   "outputs": [
    {
     "data": {
      "text/plain": [
       "['output/ccx\\\\X\\\\main.inp',\n",
       " 'output/ccx\\\\Y\\\\main.inp',\n",
       " 'output/ccx\\\\SX\\\\main.inp',\n",
       " 'output/ccx\\\\SY\\\\main.inp']"
      ]
     },
     "execution_count": 23,
     "metadata": {},
     "output_type": "execute_result"
    }
   ],
   "source": [
    "inp_path = [ i.replace(\"main.frd\",\"main.inp\") for i in frds ]\n",
    "inp_path"
   ]
  },
  {
   "cell_type": "code",
   "execution_count": 24,
   "metadata": {},
   "outputs": [],
   "source": [
    "from djccx.inp.inp import inp"
   ]
  },
  {
   "cell_type": "code",
   "execution_count": 25,
   "metadata": {},
   "outputs": [],
   "source": [
    "inp_f = inp(inp_path[0])"
   ]
  },
  {
   "cell_type": "code",
   "execution_count": null,
   "metadata": {},
   "outputs": [],
   "source": [
    "id_nodes_el = []\n",
    "for i in range(len(inp_f.elements)):\n",
    "    df_el = inp_f.elements[i].df\n",
    "df_el = df_el.loc[]\n",
    "\n",
    "id_nodes_el = np.concat(id_nodes_el)\n",
    "# unique \n",
    "id_nodes_el = np.unique(id_nodes_el)"
   ]
  },
  {
   "cell_type": "code",
   "execution_count": 52,
   "metadata": {},
   "outputs": [],
   "source": [
    "import pandas as pd"
   ]
  },
  {
   "cell_type": "code",
   "execution_count": null,
   "metadata": {},
   "outputs": [
    {
     "data": {
      "text/plain": [
       "[Card (*ELEMENT) :VOLUME1,\n",
       " Card (*ELEMENT) :VOLUME2,\n",
       " Card (*ELEMENT) :VOLUME3,\n",
       " Card (*ELEMENT) :VOLUME4,\n",
       " Card (*ELEMENT) :VOLUME5]"
      ]
     },
     "execution_count": 67,
     "metadata": {},
     "output_type": "execute_result"
    }
   ],
   "source": [
    "volumes = [ iv for iv in inp_f.elements if iv.dimension == 3]\n",
    "df_el_all = [ volumes[i].df for i in range(len(volumes)) ]\n",
    "df_el_all = pd.concat(df_el_all)"
   ]
  },
  {
   "cell_type": "code",
   "execution_count": null,
   "metadata": {},
   "outputs": [],
   "source": []
  },
  {
   "cell_type": "code",
   "execution_count": 71,
   "metadata": {},
   "outputs": [
    {
     "data": {
      "text/plain": [
       "array([[  9707,  67089,  67086, ...,  67414,  67416,  67415],\n",
       "       [  8745,  67019,   8736, ...,  67419,  67421,  67420],\n",
       "       [ 67015,  67010,  67111, ...,  67425,  67427,  67426],\n",
       "       ...,\n",
       "       [110308, 110619,   5294, ..., 160350, 151810,  35493],\n",
       "       [110308, 110619,  35350, ..., 149918, 151811, 150410],\n",
       "       [ 50889,   5294,   5295, ..., 152293, 162684, 152292]],\n",
       "      shape=(109710, 10))"
      ]
     },
     "execution_count": 71,
     "metadata": {},
     "output_type": "execute_result"
    }
   ],
   "source": [
    "df_el_all.values"
   ]
  },
  {
   "cell_type": "code",
   "execution_count": 26,
   "metadata": {},
   "outputs": [
    {
     "data": {
      "text/plain": [
       "array([ 92088,  92089,  92090, ..., 168974, 168975, 168976],\n",
       "      shape=(76889,))"
      ]
     },
     "execution_count": 26,
     "metadata": {},
     "output_type": "execute_result"
    }
   ],
   "source": [
    "BOX_PLUS = inp_f.select(\"BOX_PLUS\",\"elset\")\n",
    "\n",
    "\n",
    "BOX_PLUS.id_elements"
   ]
  },
  {
   "cell_type": "code",
   "execution_count": null,
   "metadata": {},
   "outputs": [],
   "source": []
  },
  {
   "cell_type": "code",
   "execution_count": null,
   "metadata": {},
   "outputs": [
    {
     "data": {
      "text/plain": [
       "<matplotlib.legend.Legend at 0x2209e3391d0>"
      ]
     },
     "execution_count": 27,
     "metadata": {},
     "output_type": "execute_result"
    },
    {
     "data": {
      "image/png": "[encoded data removed]",
      "text/plain": [
       "<Figure size 640x480 with 1 Axes>"
      ]
     },
     "metadata": {},
     "output_type": "display_data"
    }
   ],
   "source": [
    "fig = plt.figure()\n",
    "colors = ['blue', 'red', 'green', 'orange']\n",
    "\n",
    "P1_time_design = []\n",
    "Sapl_list_design = []\n",
    "\n",
    "for j in range(len(E_effs)):\n",
    "    ifrd = ifrd_s[j]\n",
    "\n",
    "    data_time = ifrd[\"data_blocks\"]\n",
    "\n",
    "    P1_max_list = []\n",
    "    Sapl_list = []\n",
    "    for i in range(len(data_time)):\n",
    "        data = data_time[i]\n",
    "\n",
    "    \n",
    "        P1_max = np.max(data[\"P1\"])\n",
    "        P1_max_list.append(P1_max)\n",
    "\n",
    "        ancho = params_composite[\"z0\"]*0.5 +params_composite[\"h\"]\n",
    "        largo = 10 \n",
    "        A = ancho*largo\n",
    "        Sapl = np.sum(data[\"F2\"]*(data[\"y\"] > data[\"y\"].mean()))/A\n",
    "        Sapl_list.append(Sapl)\n",
    "\n",
    "\n",
    "\n",
    "    P1_max_list = np.array(P1_max_list)\n",
    "    Sapl_list = np.array(Sapl_list)\n",
    "\n",
    "        \n",
    "    P1_time_design.append(P1_max_list)\n",
    "    Sapl_list_design.append(Sapl_list)\n",
    "\n",
    "    plt.plot( Sapl_list,P1_max_list, 'o-', color=colors[j], label=names[j],ms=5)\n",
    "\n",
    "plt.xlabel(r\"$\\sigma_{apl}$ (MPa)\")\n",
    "plt.ylabel(r\"P1 (MPa)\")\n",
    "plt.grid()\n",
    "plt.legend()\n",
    "# plt.xlim(0, 200)"
   ]
  },
  {
   "cell_type": "code",
   "execution_count": 28,
   "metadata": {},
   "outputs": [
    {
     "data": {
      "text/plain": [
       "{'X': np.float64(1.355466057012968),\n",
       " 'Y': np.float64(2.585327638119705),\n",
       " 'SX': np.float64(19.070390048976318),\n",
       " 'SY': np.float64(15.105436178519154)}"
      ]
     },
     "execution_count": 28,
     "metadata": {},
     "output_type": "execute_result"
    }
   ],
   "source": [
    "ratio = [ P1_time_design[ii][-1]/Sapl_list_design[ii][-1] \n",
    "         for ii in range(4)]\n",
    "ratio = {\n",
    "    \"X\": ratio[0],\n",
    "    \"Y\": ratio[1],\n",
    "    \"SX\":  ratio[2],\n",
    "    \"SY\":  ratio[3]\n",
    "}\n",
    "ratio"
   ]
  },
  {
   "cell_type": "code",
   "execution_count": 29,
   "metadata": {},
   "outputs": [],
   "source": [
    "from gmshtools.grid_section import grid_section"
   ]
  },
  {
   "cell_type": "code",
   "execution_count": 30,
   "metadata": {},
   "outputs": [],
   "source": [
    "#import plot \n",
    "from matplotlib import pyplot as plt"
   ]
  },
  {
   "cell_type": "code",
   "execution_count": 31,
   "metadata": {},
   "outputs": [],
   "source": [
    "from djccx.inp.inp import inp\n",
    "import numpy as np"
   ]
  },
  {
   "cell_type": "code",
   "execution_count": null,
   "metadata": {},
   "outputs": [],
   "source": []
  },
  {
   "cell_type": "code",
   "execution_count": 32,
   "metadata": {},
   "outputs": [],
   "source": [
    "inp_f = inp(\"output/designs/SX/composite.inp\")"
   ]
  },
  {
   "cell_type": "code",
   "execution_count": null,
   "metadata": {},
   "outputs": [],
   "source": []
  },
  {
   "cell_type": "code",
   "execution_count": null,
   "metadata": {},
   "outputs": [],
   "source": []
  }
 ],
 "metadata": {
  "kernelspec": {
   "display_name": "Python 3",
   "language": "python",
   "name": "python3"
  },
  "language_info": {
   "codemirror_mode": {
    "name": "ipython",
    "version": 3
   },
   "file_extension": ".py",
   "mimetype": "text/x-python",
   "name": "python",
   "nbconvert_exporter": "python",
   "pygments_lexer": "ipython3",
   "version": "3.13.2"
  }
 },
 "nbformat": 4,
 "nbformat_minor": 2
}
