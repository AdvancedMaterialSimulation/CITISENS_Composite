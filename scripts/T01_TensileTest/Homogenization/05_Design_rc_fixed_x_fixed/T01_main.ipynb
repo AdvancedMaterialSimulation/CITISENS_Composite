{
 "cells": [
  {
   "cell_type": "code",
   "execution_count": 1,
   "metadata": {},
   "outputs": [],
   "source": [
    "\n",
    "import os \n",
    "from copy import deepcopy\n",
    "from Composite.RunFullModel import RunFullModel\n",
    "join = os.path.join\n",
    "import numpy as np"
   ]
  },
  {
   "cell_type": "code",
   "execution_count": 2,
   "metadata": {},
   "outputs": [],
   "source": [
    "params_composite ={\n",
    "    \"r\"         :  0.297,\n",
    "    \"factor_radius\": 2,\n",
    "    \"h\"         :  0.35,\n",
    "    \"z0\"        :  3.073/2,\n",
    "    \"density\"   : 8,\n",
    "    \"interface_factor\"  :  1.2,\n",
    "    \"with_interface\"    : False,\n",
    "    \"mirror\"            : True,\n",
    "    \"check_jacobian\"    : False,\n",
    "}\n",
    "\n",
    "params_ccx = {\n",
    "    \"epsilon\" : 0.1,\n",
    "    \"x_fixed\" : True\n",
    "}\n",
    "params = {\n",
    "    \"mesh\" : params_composite,\n",
    "    \"ccx\"  : params_ccx,\n",
    "}"
   ]
  },
  {
   "cell_type": "markdown",
   "metadata": {},
   "source": []
  },
  {
   "cell_type": "code",
   "execution_count": 3,
   "metadata": {},
   "outputs": [
    {
     "name": "stdout",
     "output_type": "stream",
     "text": [
      "\t==================================================\n",
      "\tDesign Adouble\n",
      "\t==================================================\n",
      "Layer With Sign 1 and number 1/2 done\n",
      "Layer With Sign 1 and number 2/2 done\n",
      "Meshing ... \n",
      "Optimizing mesh ... \n",
      "\t==================================================\n",
      "\tCCX Adouble\n",
      "\t==================================================\n",
      "Input folder: \t output\\designs\\Adouble\n",
      "Output folder: \t output\\ccx\\Adouble\n",
      "Running Calculix at:  output\\ccx\\Adouble\n",
      "Output file:  c:\\Users\\djoroya\\Documents\\GitHub\\CITISENS_Composite_v2\\scripts\\T01_TensileTest\\Homogenization\\05_Design_rc_fixed_x_fixed\\output\\ccx\\Adouble\\out.txt\n",
      "Command:\n",
      " C:\\Program Files\\Microsoft MPI\\Bin\\mpiexec -n 4 c:\\Users\\djoroya\\Documents\\GitHub\\CITISENS_Composite_v2\\.conda\\Lib\\site-packages\\djccx\\bin\\ccx_dynamic.exe main\n",
      "Error reading cvf file\n",
      "\n",
      "pid:  4584 \n",
      "\n",
      "Calculix finished\n",
      "\n",
      "\t==================================================\n",
      "\tDesign B\n",
      "\t==================================================\n",
      "Layer With Sign 1 and number 1/2 done\n",
      "Layer With Sign 1 and number 2/2 done\n",
      "Meshing ... \n",
      "Optimizing mesh ... \n",
      "\t==================================================\n",
      "\tCCX B\n",
      "\t==================================================\n",
      "Input folder: \t output\\designs\\B\n",
      "Output folder: \t output\\ccx\\B\n"
     ]
    },
    {
     "ename": "Exception",
     "evalue": "No existe el elset: .*YARN.*",
     "output_type": "error",
     "traceback": [
      "\u001b[31m---------------------------------------------------------------------------\u001b[39m",
      "\u001b[31mException\u001b[39m                                 Traceback (most recent call last)",
      "\u001b[36mCell\u001b[39m\u001b[36m \u001b[39m\u001b[32mIn[3]\u001b[39m\u001b[32m, line 6\u001b[39m\n\u001b[32m      2\u001b[39m \u001b[38;5;28;01mfor\u001b[39;00m design \u001b[38;5;129;01min\u001b[39;00m [\u001b[33m\"\u001b[39m\u001b[33mAdouble\u001b[39m\u001b[33m\"\u001b[39m,\u001b[33m\"\u001b[39m\u001b[33mB\u001b[39m\u001b[33m\"\u001b[39m,\u001b[33m\"\u001b[39m\u001b[33mC\u001b[39m\u001b[33m\"\u001b[39m,\u001b[33m\"\u001b[39m\u001b[33mD\u001b[39m\u001b[33m\"\u001b[39m,\u001b[33m\"\u001b[39m\u001b[33mE\u001b[39m\u001b[33m\"\u001b[39m,\u001b[33m\"\u001b[39m\u001b[33mF\u001b[39m\u001b[33m\"\u001b[39m]:\n\u001b[32m      3\u001b[39m \u001b[38;5;66;03m# for design in [\"Adouble\"]:\u001b[39;00m\n\u001b[32m      4\u001b[39m     \u001b[38;5;66;03m# Generate mesh and RVE\u001b[39;00m\n\u001b[32m      5\u001b[39m     params_copy = deepcopy(params)\n\u001b[32m----> \u001b[39m\u001b[32m6\u001b[39m     \u001b[43mRunFullModel\u001b[49m\u001b[43m(\u001b[49m\u001b[43mdesign\u001b[49m\u001b[43m,\u001b[49m\u001b[33;43m\"\u001b[39;49m\u001b[33;43moutput\u001b[39;49m\u001b[33;43m\"\u001b[39;49m\u001b[43m,\u001b[49m\u001b[43mparams_copy\u001b[49m\u001b[43m)\u001b[49m\n",
      "\u001b[36mFile \u001b[39m\u001b[32m~\\Documents\\GitHub\\CITISENS_Composite_v2\\src\\Composite\\RunFullModel.py:44\u001b[39m, in \u001b[36mRunFullModel\u001b[39m\u001b[34m(design, root, params)\u001b[39m\n\u001b[32m     42\u001b[39m \u001b[38;5;28mprint\u001b[39m(\u001b[33m\"\u001b[39m\u001b[33mInput folder: \u001b[39m\u001b[38;5;130;01m\\t\u001b[39;00m\u001b[33m\"\u001b[39m, design_folder)\n\u001b[32m     43\u001b[39m \u001b[38;5;28mprint\u001b[39m(\u001b[33m\"\u001b[39m\u001b[33mOutput folder: \u001b[39m\u001b[38;5;130;01m\\t\u001b[39;00m\u001b[33m\"\u001b[39m, output_folder)\n\u001b[32m---> \u001b[39m\u001b[32m44\u001b[39m inpf = \u001b[43mCreateSimulation\u001b[49m\u001b[43m(\u001b[49m\u001b[43mdesign_folder\u001b[49m\u001b[43m,\u001b[49m\n\u001b[32m     45\u001b[39m \u001b[43m                        \u001b[49m\u001b[43moutput_folder\u001b[49m\u001b[43m,\u001b[49m\n\u001b[32m     46\u001b[39m \u001b[43m                        \u001b[49m\u001b[43mparams\u001b[49m\u001b[43m[\u001b[49m\u001b[33;43m\"\u001b[39;49m\u001b[33;43mccx\u001b[39;49m\u001b[33;43m\"\u001b[39;49m\u001b[43m]\u001b[49m\u001b[43m,\u001b[49m\n\u001b[32m     47\u001b[39m \u001b[43m                        \u001b[49m\u001b[43mno_shell\u001b[49m\u001b[43m=\u001b[49m\u001b[38;5;28;43;01mTrue\u001b[39;49;00m\u001b[43m)\u001b[49m\n",
      "\u001b[36mFile \u001b[39m\u001b[32m~\\Documents\\GitHub\\CITISENS_Composite_v2\\src\\Composite\\CreateSimulation\\CreateSimulation.py:46\u001b[39m, in \u001b[36mCreateSimulation\u001b[39m\u001b[34m(design_folder, output_folder, params, no_shell)\u001b[39m\n\u001b[32m     41\u001b[39m inp_f.remove_by_type(\u001b[32m1\u001b[39m)\n\u001b[32m     42\u001b[39m \u001b[38;5;66;03m# inp_f.remove_by_type(2)\u001b[39;00m\n\u001b[32m     43\u001b[39m \n\u001b[32m     44\u001b[39m \u001b[38;5;66;03m# SURFACE_ELSET = inp_f.select_regex(\".*SURFACE.*\",\"elset\")\u001b[39;00m\n\u001b[32m     45\u001b[39m \u001b[38;5;66;03m# inp_f.cards = [ card for card in inp_f.cards if card.type != \"*ELEMENT\" ]\u001b[39;00m\n\u001b[32m---> \u001b[39m\u001b[32m46\u001b[39m yarns_elsets = \u001b[43minp_f\u001b[49m\u001b[43m.\u001b[49m\u001b[43mselect_regex\u001b[49m\u001b[43m(\u001b[49m\u001b[33;43m\"\u001b[39;49m\u001b[33;43m.*YARN.*\u001b[39;49m\u001b[33;43m\"\u001b[39;49m\u001b[43m,\u001b[49m\u001b[33;43m\"\u001b[39;49m\u001b[33;43melset\u001b[39;49m\u001b[33;43m\"\u001b[39;49m\u001b[43m)\u001b[49m\n\u001b[32m     47\u001b[39m elset_yarns = CreateElsetFromElsets(inp_f,yarns_elsets,\u001b[33m\"\u001b[39m\u001b[33mYARNS\u001b[39m\u001b[33m\"\u001b[39m)\n\u001b[32m     49\u001b[39m box_elsets = inp_f.select_regex(\u001b[33m\"\u001b[39m\u001b[33m.*BOX.*\u001b[39m\u001b[33m\"\u001b[39m,\u001b[33m\"\u001b[39m\u001b[33melset\u001b[39m\u001b[33m\"\u001b[39m)\n",
      "\u001b[36mFile \u001b[39m\u001b[32mc:\\Users\\djoroya\\Documents\\GitHub\\CITISENS_Composite_v2\\.conda\\Lib\\site-packages\\djccx\\inp\\inp.py:176\u001b[39m, in \u001b[36minp.select_regex\u001b[39m\u001b[34m(self, regex, type)\u001b[39m\n\u001b[32m    175\u001b[39m \u001b[38;5;28;01mdef\u001b[39;00m\u001b[38;5;250m \u001b[39m\u001b[34mselect_regex\u001b[39m(\u001b[38;5;28mself\u001b[39m,regex,\u001b[38;5;28mtype\u001b[39m):\n\u001b[32m--> \u001b[39m\u001b[32m176\u001b[39m     \u001b[38;5;28;01mreturn\u001b[39;00m \u001b[43mselect_regex\u001b[49m\u001b[43m(\u001b[49m\u001b[38;5;28;43mself\u001b[39;49m\u001b[43m,\u001b[49m\u001b[43mregex\u001b[49m\u001b[43m,\u001b[49m\u001b[38;5;28;43mtype\u001b[39;49m\u001b[43m)\u001b[49m\n",
      "\u001b[36mFile \u001b[39m\u001b[32mc:\\Users\\djoroya\\Documents\\GitHub\\CITISENS_Composite_v2\\.conda\\Lib\\site-packages\\djccx\\inp\\basic\\select.py:36\u001b[39m, in \u001b[36mselect_regex\u001b[39m\u001b[34m(self, regex, type)\u001b[39m\n\u001b[32m     33\u001b[39m     \u001b[38;5;28;01mraise\u001b[39;00m \u001b[38;5;167;01mException\u001b[39;00m(\u001b[33m\"\u001b[39m\u001b[33mtype must be nset, elset or surface\u001b[39m\u001b[33m\"\u001b[39m)\n\u001b[32m     35\u001b[39m \u001b[38;5;28;01mif\u001b[39;00m \u001b[38;5;28mlen\u001b[39m(r) == \u001b[32m0\u001b[39m:\n\u001b[32m---> \u001b[39m\u001b[32m36\u001b[39m     \u001b[38;5;28;01mraise\u001b[39;00m \u001b[38;5;167;01mException\u001b[39;00m(\u001b[33m\"\u001b[39m\u001b[33mNo existe el \u001b[39m\u001b[33m\"\u001b[39m+\u001b[38;5;28mtype\u001b[39m+\u001b[33m\"\u001b[39m\u001b[33m: \u001b[39m\u001b[33m\"\u001b[39m+regex)\n\u001b[32m     37\u001b[39m \u001b[38;5;28;01mreturn\u001b[39;00m r\n",
      "\u001b[31mException\u001b[39m: No existe el elset: .*YARN.*"
     ]
    }
   ],
   "source": [
    "design = \"A\"\n",
    "for design in [\"Adouble\",\"B\",\"C\",\"D\",\"E\",\"F\"]:\n",
    "# for design in [\"Adouble\"]:\n",
    "    # Generate mesh and RVE\n",
    "    params_copy = deepcopy(params)\n",
    "    RunFullModel(design,\"output\",params_copy)\n",
    "\n",
    "    "
   ]
  }
 ],
 "metadata": {
  "kernelspec": {
   "display_name": "Python 3",
   "language": "python",
   "name": "python3"
  },
  "language_info": {
   "codemirror_mode": {
    "name": "ipython",
    "version": 3
   },
   "file_extension": ".py",
   "mimetype": "text/x-python",
   "name": "python",
   "nbconvert_exporter": "python",
   "pygments_lexer": "ipython3",
   "version": "3.13.2"
  }
 },
 "nbformat": 4,
 "nbformat_minor": 2
}
