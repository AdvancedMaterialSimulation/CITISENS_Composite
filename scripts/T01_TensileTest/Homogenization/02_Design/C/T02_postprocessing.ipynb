{
 "cells": [
  {
   "cell_type": "code",
   "execution_count": 20,
   "metadata": {},
   "outputs": [],
   "source": [
    "\n",
    "import os \n",
    "join = os.path.join"
   ]
  },
  {
   "cell_type": "code",
   "execution_count": 21,
   "metadata": {},
   "outputs": [],
   "source": [
    "params_composite ={\n",
    "    \"r\"         :  0.25,\n",
    "    \"h\"         :  0.65,\n",
    "    \"z0\"        :  2.82/2,\n",
    "    \"density\"   : 8,\n",
    "    \"interface_factor\"  :  1.2,\n",
    "    \"with_interface\"    : False,\n",
    "    \"mirror\"            : True,\n",
    "    \"check_jacobian\"    : False,\n",
    "}\n",
    "\n",
    "params_ccx = {\n",
    "    \"epsilon\" : 0.1,\n",
    "}\n",
    "params = {\n",
    "    \"mesh\" : params_composite,\n",
    "    \"ccx\"  : params_ccx,\n",
    "}"
   ]
  },
  {
   "cell_type": "code",
   "execution_count": 22,
   "metadata": {},
   "outputs": [],
   "source": [
    "\n",
    "from djccx.read_dat import read_dat\n",
    "\n",
    "def compute_vol_frac(dat_path):\n",
    "    dat = read_dat(dat_path)\n",
    "    vols = [ idat[\"df\"][\"volume\"].sum() for idat in dat]\n",
    "    vols_frac = vols[0]/vols[1]\n",
    "    return vols_frac"
   ]
  },
  {
   "cell_type": "code",
   "execution_count": 23,
   "metadata": {},
   "outputs": [],
   "source": [
    "import numpy as np"
   ]
  },
  {
   "cell_type": "code",
   "execution_count": 24,
   "metadata": {},
   "outputs": [
    {
     "data": {
      "text/plain": [
       "array([0.2  , 0.225, 0.25 , 0.275, 0.3  ])"
      ]
     },
     "execution_count": 24,
     "metadata": {},
     "output_type": "execute_result"
    }
   ],
   "source": [
    "np.linspace(0.2 ,0.3,5)"
   ]
  },
  {
   "cell_type": "code",
   "execution_count": 25,
   "metadata": {},
   "outputs": [
    {
     "data": {
      "text/plain": [
       "array([0.15 , 0.175, 0.2  , 0.225, 0.25 ])"
      ]
     },
     "execution_count": 25,
     "metadata": {},
     "output_type": "execute_result"
    }
   ],
   "source": [
    "r_span = np.linspace(0.15 ,0.25,5)\n",
    "r_span"
   ]
  },
  {
   "cell_type": "code",
   "execution_count": 26,
   "metadata": {},
   "outputs": [],
   "source": [
    "from djccx.frd.readfrd import readfrd"
   ]
  },
  {
   "cell_type": "code",
   "execution_count": 27,
   "metadata": {},
   "outputs": [],
   "source": [
    "import glob,os\n",
    "join = os.path.join"
   ]
  },
  {
   "cell_type": "code",
   "execution_count": 28,
   "metadata": {},
   "outputs": [
    {
     "data": {
      "text/plain": [
       "['output\\\\r_00\\\\ccx\\\\C\\\\main.frd',\n",
       " 'output\\\\r_01\\\\ccx\\\\C\\\\main.frd',\n",
       " 'output\\\\r_02\\\\ccx\\\\C\\\\main.frd',\n",
       " 'output\\\\r_03\\\\ccx\\\\C\\\\main.frd',\n",
       " 'output\\\\r_04\\\\ccx\\\\C\\\\main.frd']"
      ]
     },
     "execution_count": 28,
     "metadata": {},
     "output_type": "execute_result"
    }
   ],
   "source": [
    "frd_files = glob.glob(join(\"output\",\"r_*\",\"ccx\",\"C\",\"*.frd\"),recursive=True)\n",
    "frd_files"
   ]
  },
  {
   "cell_type": "code",
   "execution_count": 29,
   "metadata": {},
   "outputs": [],
   "source": [
    "dat_files = glob.glob(join(\"output\",\"r_*\",\"ccx\",\"C\",\"*.dat\"),recursive=True)"
   ]
  },
  {
   "cell_type": "code",
   "execution_count": 30,
   "metadata": {},
   "outputs": [
    {
     "data": {
      "text/plain": [
       "['output\\\\r_00\\\\ccx\\\\C\\\\main.dat',\n",
       " 'output\\\\r_01\\\\ccx\\\\C\\\\main.dat',\n",
       " 'output\\\\r_02\\\\ccx\\\\C\\\\main.dat',\n",
       " 'output\\\\r_03\\\\ccx\\\\C\\\\main.dat',\n",
       " 'output\\\\r_04\\\\ccx\\\\C\\\\main.dat']"
      ]
     },
     "execution_count": 30,
     "metadata": {},
     "output_type": "execute_result"
    }
   ],
   "source": [
    "dat_files"
   ]
  },
  {
   "cell_type": "code",
   "execution_count": 31,
   "metadata": {},
   "outputs": [],
   "source": [
    "ancho = params_composite[\"z0\"] + 0.5*params_composite[\"h\"]\n",
    "largo = 10 \n",
    "A = ancho*largo\n",
    "\n",
    "def compute_Fapl(iffiles):\n",
    "    ifrd = readfrd(iffiles)\n",
    "    df = ifrd[\"data\"]\n",
    "    Fapl = np.sum(df[\"F2\"]*(df[\"y\"] > df[\"y\"].mean()))\n",
    "\n",
    "    return Fapl\n",
    "\n",
    "Fapl = [compute_Fapl(f) for f in frd_files]\n",
    "Sapl = [f/A for f in Fapl]\n",
    "E_eff = [s / params[\"ccx\"][\"epsilon\"] for s in Sapl]\n",
    "E_eff = np.array(E_eff)"
   ]
  },
  {
   "cell_type": "code",
   "execution_count": 32,
   "metadata": {},
   "outputs": [],
   "source": [
    "vfrac_FEM = [compute_vol_frac(f) for f in dat_files]"
   ]
  },
  {
   "cell_type": "code",
   "execution_count": 33,
   "metadata": {},
   "outputs": [],
   "source": [
    "vfrac_FEM = np.array(vfrac_FEM)"
   ]
  },
  {
   "cell_type": "code",
   "execution_count": 34,
   "metadata": {},
   "outputs": [],
   "source": [
    "from matplotlib import pyplot as plt"
   ]
  },
  {
   "cell_type": "code",
   "execution_count": 35,
   "metadata": {},
   "outputs": [],
   "source": [
    "# *MATERIAL, NAME=MATRIX\n",
    "# *ELASTIC\n",
    "# 2549.7289999999994,0.265\n",
    "\n",
    "# *MATERIAL, NAME=CARBON\n",
    "# *ELASTIC\n",
    "# 230000.0,0.3\n",
    "\n",
    "E_m = 2549.729 \n",
    "E_c = 230000.0\n",
    "\n",
    "E_eff_analytical = E_m + (E_c - E_m)*vfrac_FEM\n",
    "\n",
    "# considramos que la fibras perpendiculares no aportan a la rigidez\n",
    "E_eff_analytical_2 = E_m + (E_c - E_m)*vfrac_FEM*0.5"
   ]
  },
  {
   "cell_type": "code",
   "execution_count": null,
   "metadata": {},
   "outputs": [],
   "source": []
  },
  {
   "cell_type": "code",
   "execution_count": 36,
   "metadata": {},
   "outputs": [
    {
     "data": {
      "image/png": "[encoded data removed]",
      "text/plain": [
       "<Figure size 640x480 with 1 Axes>"
      ]
     },
     "metadata": {},
     "output_type": "display_data"
    }
   ],
   "source": [
    "from matplotlib import pyplot as plt\n",
    "plt.plot(100*vfrac_FEM,1e-3*E_eff_analytical,\"o--\",label=\"Analytical\")\n",
    "plt.plot(100*vfrac_FEM,1e-3*E_eff_analytical_2,\"o--\",label=\"Analytical 2\")\n",
    "# mean analytical and analytical 2\n",
    "plt.plot(100*vfrac_FEM,1e-3*0.5*(E_eff_analytical + E_eff_analytical_2),\"o--\",label=\"Mean Analytical\")\n",
    "plt.plot(100*vfrac_FEM,1e-3*E_eff,\"o-\",label=\"FEM\",color=\"red\") \n",
    "plt.ylabel(r\"$E_{eff} \\ [GPa]$\")\n",
    "plt.xlabel(\"Volume fraction [%]\")\n",
    "plt.legend()\n",
    "# grid\n",
    "plt.grid()"
   ]
  },
  {
   "cell_type": "code",
   "execution_count": 37,
   "metadata": {},
   "outputs": [],
   "source": [
    "import numpy as np\n",
    "import pandas as pd"
   ]
  },
  {
   "cell_type": "code",
   "execution_count": 38,
   "metadata": {},
   "outputs": [],
   "source": [
    "import pandas as pd\n",
    "df_save = pd.DataFrame({\"vfrac\":vfrac_FEM,\"E\":E_eff})\n",
    "df_save.to_csv(\"E_eff_analytical.csv\",index=False)"
   ]
  },
  {
   "cell_type": "code",
   "execution_count": null,
   "metadata": {},
   "outputs": [],
   "source": []
  }
 ],
 "metadata": {
  "kernelspec": {
   "display_name": ".conda",
   "language": "python",
   "name": "python3"
  },
  "language_info": {
   "codemirror_mode": {
    "name": "ipython",
    "version": 3
   },
   "file_extension": ".py",
   "mimetype": "text/x-python",
   "name": "python",
   "nbconvert_exporter": "python",
   "pygments_lexer": "ipython3",
   "version": "3.11.10"
  }
 },
 "nbformat": 4,
 "nbformat_minor": 2
}
