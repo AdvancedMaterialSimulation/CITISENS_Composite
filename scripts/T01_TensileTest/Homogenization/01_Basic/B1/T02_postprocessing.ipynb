{
 "cells": [
  {
   "cell_type": "code",
   "execution_count": 1,
   "metadata": {},
   "outputs": [],
   "source": [
    "\n",
    "import os \n",
    "join = os.path.join"
   ]
  },
  {
   "cell_type": "code",
   "execution_count": 2,
   "metadata": {},
   "outputs": [],
   "source": [
    "params_composite ={\n",
    "    \"r\"         :  0.25,\n",
    "    \"h\"         :  0.65,\n",
    "    \"z0\"        :  2.82/2,\n",
    "    \"density\"   : 8,\n",
    "    \"interface_factor\"  :  1.2,\n",
    "    \"with_interface\"    : False,\n",
    "    \"mirror\"            : True,\n",
    "    \"check_jacobian\"    : False,\n",
    "}\n",
    "\n",
    "params_ccx = {\n",
    "    \"epsilon\" : 0.1,\n",
    "}\n",
    "params = {\n",
    "    \"mesh\" : params_composite,\n",
    "    \"ccx\"  : params_ccx,\n",
    "}"
   ]
  },
  {
   "cell_type": "code",
   "execution_count": 3,
   "metadata": {},
   "outputs": [],
   "source": [
    "\n",
    "from djccx.read_dat import read_dat\n",
    "\n",
    "def compute_vol_frac(dat_path):\n",
    "    dat = read_dat(dat_path)\n",
    "    vols = [ idat[\"df\"][\"volume\"].sum() for idat in dat]\n",
    "    vT = vols[1]\n",
    "    v_yarns = vols[0]/vT\n",
    "    v_alma  = vols[2]/vT\n",
    "    v_matrix = 1 - v_yarns - v_alma\n",
    "    return {\n",
    "        \"yarns\"  : v_yarns,\n",
    "        \"matrix\" : v_matrix,\n",
    "        \"alma\"   : v_alma,\n",
    "    }"
   ]
  },
  {
   "cell_type": "code",
   "execution_count": 4,
   "metadata": {},
   "outputs": [],
   "source": [
    "import numpy as np"
   ]
  },
  {
   "cell_type": "code",
   "execution_count": 5,
   "metadata": {},
   "outputs": [
    {
     "data": {
      "text/plain": [
       "array([0.2  , 0.225, 0.25 , 0.275, 0.3  ])"
      ]
     },
     "execution_count": 5,
     "metadata": {},
     "output_type": "execute_result"
    }
   ],
   "source": [
    "np.linspace(0.2 ,0.3,5)"
   ]
  },
  {
   "cell_type": "code",
   "execution_count": null,
   "metadata": {},
   "outputs": [],
   "source": []
  },
  {
   "cell_type": "code",
   "execution_count": 6,
   "metadata": {},
   "outputs": [
    {
     "data": {
      "text/plain": [
       "array([0.15 , 0.175, 0.2  , 0.225, 0.25 ])"
      ]
     },
     "execution_count": 6,
     "metadata": {},
     "output_type": "execute_result"
    }
   ],
   "source": [
    "r_span = np.linspace(0.15 ,0.25,5)\n",
    "r_span"
   ]
  },
  {
   "cell_type": "code",
   "execution_count": 7,
   "metadata": {},
   "outputs": [],
   "source": [
    "from djccx.frd.readfrd import readfrd"
   ]
  },
  {
   "cell_type": "code",
   "execution_count": 8,
   "metadata": {},
   "outputs": [],
   "source": [
    "import glob,os\n",
    "join = os.path.join"
   ]
  },
  {
   "cell_type": "code",
   "execution_count": 9,
   "metadata": {},
   "outputs": [
    {
     "data": {
      "text/plain": [
       "['output\\\\r_00\\\\ccx\\\\B1\\\\main.frd',\n",
       " 'output\\\\r_01\\\\ccx\\\\B1\\\\main.frd',\n",
       " 'output\\\\r_02\\\\ccx\\\\B1\\\\main.frd',\n",
       " 'output\\\\r_03\\\\ccx\\\\B1\\\\main.frd',\n",
       " 'output\\\\r_04\\\\ccx\\\\B1\\\\main.frd']"
      ]
     },
     "execution_count": 9,
     "metadata": {},
     "output_type": "execute_result"
    }
   ],
   "source": [
    "frd_files = glob.glob(join(\"output\",\"r_*\",\"ccx\",\"B1\",\"*.frd\"),recursive=True)\n",
    "frd_files"
   ]
  },
  {
   "cell_type": "code",
   "execution_count": 10,
   "metadata": {},
   "outputs": [],
   "source": [
    "dat_files = glob.glob(join(\"output\",\"r_*\",\"ccx\",\"B1\",\"*.dat\"),recursive=True)"
   ]
  },
  {
   "cell_type": "code",
   "execution_count": 11,
   "metadata": {},
   "outputs": [],
   "source": [
    "ancho = params_composite[\"z0\"] + 0.5*params_composite[\"h\"]\n",
    "largo = 10 \n",
    "A = ancho*largo\n",
    "\n",
    "def compute_Fapl(iffiles):\n",
    "    ifrd = readfrd(iffiles)\n",
    "    df = ifrd[\"data\"]\n",
    "    Fapl = np.sum(df[\"F2\"]*(df[\"y\"] > df[\"y\"].mean()))\n",
    "\n",
    "    return Fapl\n",
    "\n",
    "Fapl = [compute_Fapl(f) for f in frd_files]\n",
    "Sapl = [f/A for f in Fapl]\n",
    "E_eff = [s / params[\"ccx\"][\"epsilon\"] for s in Sapl]"
   ]
  },
  {
   "cell_type": "code",
   "execution_count": 12,
   "metadata": {},
   "outputs": [],
   "source": [
    "vfracs = [compute_vol_frac(f) for f in dat_files]"
   ]
  },
  {
   "cell_type": "code",
   "execution_count": 13,
   "metadata": {},
   "outputs": [
    {
     "data": {
      "text/plain": [
       "[{'yarns': np.float64(0.024442020819347092),\n",
       "  'matrix': np.float64(0.35019774830435135),\n",
       "  'alma': np.float64(0.6253602308763015)},\n",
       " {'yarns': np.float64(0.03326885491821474),\n",
       "  'matrix': np.float64(0.341370914702369),\n",
       "  'alma': np.float64(0.6253602303794162)},\n",
       " {'yarns': np.float64(0.04345301317283831),\n",
       "  'matrix': np.float64(0.3311867555240263),\n",
       "  'alma': np.float64(0.6253602313031353)},\n",
       " {'yarns': np.float64(0.054995192085211274),\n",
       "  'matrix': np.float64(0.3196445769058668),\n",
       "  'alma': np.float64(0.6253602310089219)},\n",
       " {'yarns': np.float64(0.06789599357693947),\n",
       "  'matrix': np.float64(0.3067437768917928),\n",
       "  'alma': np.float64(0.6253602295312678)}]"
      ]
     },
     "execution_count": 13,
     "metadata": {},
     "output_type": "execute_result"
    }
   ],
   "source": [
    "vfracs"
   ]
  },
  {
   "cell_type": "code",
   "execution_count": 14,
   "metadata": {},
   "outputs": [],
   "source": [
    "from validation.experimental import carbonfiber,resina,nucleo\n",
    "\n",
    "carbon = carbonfiber()\n",
    "Ecarbon_MPa = carbon[\"carbon\"].iloc[0][\"Young Modulus (GPa)\"]*1e3\n",
    "resina = resina()\n",
    "nucleo = nucleo()"
   ]
  },
  {
   "cell_type": "code",
   "execution_count": null,
   "metadata": {},
   "outputs": [],
   "source": []
  },
  {
   "cell_type": "code",
   "execution_count": 15,
   "metadata": {},
   "outputs": [],
   "source": [
    "def analytical(r):\n",
    "    v_y  = r[\"yarns\"]\n",
    "    v_m  = r[\"matrix\"]\n",
    "    v_a  = r[\"alma\"]\n",
    "\n",
    "    E_y = Ecarbon_MPa\n",
    "    E_m = resina[\"young modulus [MPa]\"]\n",
    "    E_a = nucleo[\"young modulus [MPa]\"]\n",
    "\n",
    "    E_sy = 1/(v_y/E_y + v_m/E_m)\n",
    "    v_sy = v_y + v_m\n",
    "    return  E_sy*v_sy + v_a*E_a\n",
    "\n",
    "E_eff_analytical = [analytical(v) for v in vfracs]\n",
    "v_carbon = [v[\"yarns\"] for v in vfracs]"
   ]
  },
  {
   "cell_type": "code",
   "execution_count": 16,
   "metadata": {},
   "outputs": [],
   "source": [
    "def analytical(r):\n",
    "\n",
    "    h = params_composite[\"h\"]\n",
    "    z0 = params_composite[\"z0\"]\n",
    "    Lx = 10\n",
    "\n",
    "    h_al = z0 - h/2\n",
    "    \n",
    "    f_y  = r[\"yarns\"]\n",
    "    f_m  = r[\"matrix\"]\n",
    "    h_tot = h + h_al\n",
    "\n",
    "    radius = np.sqrt(f_y*h_tot*Lx/(6*np.pi))  \n",
    "    d = 2*radius\n",
    "\n",
    "    # print(\"h_tot = \",h_tot)\n",
    "    # print(\"z0 = \",z0)\n",
    "    # print(\"radius = \",radius)    \n",
    "    # print(\"diamentro = \",d)\n",
    "    # print(\"Lx = \",Lx)\n",
    "\n",
    "    E_c = Ecarbon_MPa\n",
    "    E_m = resina[\"young modulus [MPa]\"]\n",
    "    E_n = nucleo[\"young modulus [MPa]\"]\n",
    "\n",
    "    f_c_ast = d/(h_tot)\n",
    "    f_n = h_al/(h_tot)\n",
    "    f_m = (h-d)/(h_tot)\n",
    "\n",
    "    f_c = 6*d/Lx \n",
    "\n",
    "    E_c_ast = 1/(f_c/E_c + (1-f_c)/E_m)\n",
    "\n",
    "    E_eff = f_c_ast*E_c_ast + f_m*E_m + f_n*E_n\n",
    "\n",
    "    return E_eff\n",
    "\n",
    "E_eff_analytical = [analytical(v) for v in vfracs]\n",
    "v_carbon = [v[\"yarns\"] for v in vfracs]"
   ]
  },
  {
   "cell_type": "code",
   "execution_count": 17,
   "metadata": {},
   "outputs": [],
   "source": [
    "E_y = Ecarbon_MPa\n",
    "E_m = resina[\"young modulus [MPa]\"]\n",
    "E_a = nucleo[\"young modulus [MPa]\"]"
   ]
  },
  {
   "cell_type": "code",
   "execution_count": 18,
   "metadata": {},
   "outputs": [
    {
     "name": "stdout",
     "output_type": "stream",
     "text": [
      "Carbon 230000.0\n",
      "Resina 2549.7289999999994\n",
      "Nucleo 800\n"
     ]
    }
   ],
   "source": [
    "print(\"Carbon\",Ecarbon_MPa)\n",
    "print(\"Resina\",resina[\"young modulus [MPa]\"])\n",
    "print(\"Nucleo\",nucleo[\"young modulus [MPa]\"])"
   ]
  },
  {
   "cell_type": "code",
   "execution_count": 19,
   "metadata": {},
   "outputs": [],
   "source": [
    "from matplotlib import pyplot as plt"
   ]
  },
  {
   "cell_type": "code",
   "execution_count": 20,
   "metadata": {},
   "outputs": [],
   "source": [
    "v_carbon = np.array(v_carbon)"
   ]
  },
  {
   "cell_type": "code",
   "execution_count": 29,
   "metadata": {},
   "outputs": [
    {
     "data": {
      "text/plain": [
       "(0.0, 1883.9451053604764)"
      ]
     },
     "execution_count": 29,
     "metadata": {},
     "output_type": "execute_result"
    },
    {
     "data": {
      "image/png": "[encoded data removed]",
      "text/plain": [
       "<Figure size 640x480 with 1 Axes>"
      ]
     },
     "metadata": {},
     "output_type": "display_data"
    }
   ],
   "source": [
    "from matplotlib import pyplot as plt\n",
    "plt.plot(100*v_carbon,E_eff_analytical,\"o-\",label=\"Analytical\")\n",
    "plt.plot(100*v_carbon,E_eff,\"o-\",label=\"FEM\")\n",
    "# plt.axhline(y=E_m, color='g', linestyle='--', label='Matrix Young Modulus')\n",
    "plt.axhline(y=E_a, color='b', linestyle='--', label='Core Young Modulus')\n",
    "\n",
    "plt.ylabel(r\"$E_{eff} \\ [MPa]$\")\n",
    "plt.xlabel(\" Volume fraction of carbon [%]\")\n",
    "plt.legend()\n",
    "# grid\n",
    "plt.grid()\n",
    "plt.ylim([0,None])"
   ]
  },
  {
   "cell_type": "code",
   "execution_count": 30,
   "metadata": {},
   "outputs": [
    {
     "data": {
      "text/plain": [
       "<matplotlib.legend.Legend at 0x18038320810>"
      ]
     },
     "execution_count": 30,
     "metadata": {},
     "output_type": "execute_result"
    },
    {
     "data": {
      "image/png": "[encoded data removed]",
      "text/plain": [
       "<Figure size 600x600 with 2 Axes>"
      ]
     },
     "metadata": {},
     "output_type": "display_data"
    }
   ],
   "source": [
    "# error \n",
    "\n",
    "error = np.abs(np.array(E_eff_analytical) - np.array(E_eff))\n",
    "plt.figure( figsize=(6,6) )\n",
    "# padding subplot h=0.5\n",
    "plt.subplots_adjust(hspace=0.5)\n",
    "\n",
    "plt.subplot(2,1,1)\n",
    "plt.plot(100*v_carbon,error,\"o-\")\n",
    "\n",
    "plt.ylabel(r\"$\\Delta E_{\\text{eff}} \\ [MPa]$\")\n",
    "plt.xlabel(\" Volume fraction of carbon fiber [%]\")\n",
    "plt.grid()\n",
    "\n",
    "plt.subplot(2,1,2)\n",
    "error_rel = error / np.array(E_eff)\n",
    "\n",
    "plt.plot(100*v_carbon,100*error_rel,\"o-\")\n",
    "plt.axhline(y=5, color='r', linestyle='--', label='5% Error')\n",
    "\n",
    "# \n",
    "plt.ylabel(r\"$\\Delta E_{\\text{eff}} \\ [\\%]$\")\n",
    "plt.xlabel(\" Volume fraction of carbon fiber [%]\")\n",
    "plt.grid()\n",
    "plt.legend()\n",
    "\n"
   ]
  },
  {
   "cell_type": "code",
   "execution_count": 31,
   "metadata": {},
   "outputs": [
    {
     "ename": "NameError",
     "evalue": "name 'vfrac_FEM' is not defined",
     "output_type": "error",
     "traceback": [
      "\u001b[1;31m---------------------------------------------------------------------------\u001b[0m",
      "\u001b[1;31mNameError\u001b[0m                                 Traceback (most recent call last)",
      "Cell \u001b[1;32mIn[31], line 2\u001b[0m\n\u001b[0;32m      1\u001b[0m \u001b[38;5;28;01mimport\u001b[39;00m \u001b[38;5;21;01mpandas\u001b[39;00m \u001b[38;5;28;01mas\u001b[39;00m \u001b[38;5;21;01mpd\u001b[39;00m\n\u001b[1;32m----> 2\u001b[0m df_save \u001b[38;5;241m=\u001b[39m pd\u001b[38;5;241m.\u001b[39mDataFrame({\u001b[38;5;124m\"\u001b[39m\u001b[38;5;124mvfrac\u001b[39m\u001b[38;5;124m\"\u001b[39m:\u001b[43mvfrac_FEM\u001b[49m,\u001b[38;5;124m\"\u001b[39m\u001b[38;5;124mE\u001b[39m\u001b[38;5;124m\"\u001b[39m:E_eff})\n\u001b[0;32m      3\u001b[0m df_save\u001b[38;5;241m.\u001b[39mto_csv(\u001b[38;5;124m\"\u001b[39m\u001b[38;5;124mE_eff_analytical.csv\u001b[39m\u001b[38;5;124m\"\u001b[39m,index\u001b[38;5;241m=\u001b[39m\u001b[38;5;28;01mFalse\u001b[39;00m)\n",
      "\u001b[1;31mNameError\u001b[0m: name 'vfrac_FEM' is not defined"
     ]
    }
   ],
   "source": [
    "import pandas as pd\n",
    "df_save = pd.DataFrame({\"vfrac\":vfrac_FEM,\"E\":E_eff})\n",
    "df_save.to_csv(\"E_eff_analytical.csv\",index=False)"
   ]
  },
  {
   "cell_type": "code",
   "execution_count": null,
   "metadata": {},
   "outputs": [],
   "source": []
  }
 ],
 "metadata": {
  "kernelspec": {
   "display_name": ".conda",
   "language": "python",
   "name": "python3"
  },
  "language_info": {
   "codemirror_mode": {
    "name": "ipython",
    "version": 3
   },
   "file_extension": ".py",
   "mimetype": "text/x-python",
   "name": "python",
   "nbconvert_exporter": "python",
   "pygments_lexer": "ipython3",
   "version": "3.11.10"
  }
 },
 "nbformat": 4,
 "nbformat_minor": 2
}
