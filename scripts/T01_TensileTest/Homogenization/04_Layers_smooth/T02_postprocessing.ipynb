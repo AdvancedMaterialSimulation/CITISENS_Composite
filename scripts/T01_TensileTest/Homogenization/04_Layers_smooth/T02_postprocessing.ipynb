{
 "cells": [
  {
   "cell_type": "code",
   "execution_count": 111,
   "metadata": {},
   "outputs": [],
   "source": [
    "import os \n",
    "import glob\n",
    "join = os.path.join\n",
    "from djccx.read_dat import read_dat\n",
    "import numpy as np\n",
    "from djccx.frd.readfrd import readfrd\n",
    "from matplotlib import pyplot as plt\n",
    "from matplotlib import pyplot as plt\n"
   ]
  },
  {
   "cell_type": "code",
   "execution_count": 112,
   "metadata": {},
   "outputs": [],
   "source": [
    "params_composite ={\n",
    "    \"r\"         :  0.25,\n",
    "    \"h\"         :  0.65,\n",
    "    \"z0\"        :  2.82/2,\n",
    "    \"density\"   : 8,\n",
    "    \"interface_factor\"  :  1.2,\n",
    "    \"with_interface\"    : False,\n",
    "    \"mirror\"            : True,\n",
    "    \"check_jacobian\"    : False,\n",
    "}\n",
    "\n",
    "params_ccx = {\n",
    "    \"epsilon\" : 0.1,\n",
    "}\n",
    "params = {\n",
    "    \"mesh\" : params_composite,\n",
    "    \"ccx\"  : params_ccx,\n",
    "}"
   ]
  },
  {
   "cell_type": "code",
   "execution_count": 113,
   "metadata": {},
   "outputs": [],
   "source": [
    "def compute_vol_frac(dat_path):\n",
    "    dat = read_dat(dat_path)\n",
    "    vols = [ idat[\"df\"][\"volume\"].sum() for idat in dat]\n",
    "    vT = vols[1]\n",
    "    v_yarns = vols[0]/vT\n",
    "    v_matrix = 1 - v_yarns \n",
    "    return {\n",
    "        \"yarns\"  : v_yarns,\n",
    "        \"matrix\" : v_matrix,\n",
    "    }"
   ]
  },
  {
   "cell_type": "code",
   "execution_count": 114,
   "metadata": {},
   "outputs": [
    {
     "data": {
      "text/plain": [
       "array([0.15, 0.2 , 0.25])"
      ]
     },
     "execution_count": 114,
     "metadata": {},
     "output_type": "execute_result"
    }
   ],
   "source": [
    "r_span = np.linspace(0.15 ,0.25,3)\n",
    "r_span"
   ]
  },
  {
   "cell_type": "code",
   "execution_count": 115,
   "metadata": {},
   "outputs": [],
   "source": [
    "frd_files = glob.glob(join(\"output\",\"r_*\",\"ccx\",\"*\",\"*.frd\"),recursive=True)\n",
    "dat_files = glob.glob(join(\"output\",\"r_*\",\"ccx\",\"*\",\"*.dat\"),recursive=True)"
   ]
  },
  {
   "cell_type": "code",
   "execution_count": 116,
   "metadata": {},
   "outputs": [
    {
     "data": {
      "text/plain": [
       "['SX_smooth',\n",
       " 'SY_smooth',\n",
       " 'X',\n",
       " 'Y',\n",
       " 'SX_smooth',\n",
       " 'SY_smooth',\n",
       " 'X',\n",
       " 'Y',\n",
       " 'SX_smooth',\n",
       " 'SY_smooth',\n",
       " 'X',\n",
       " 'Y']"
      ]
     },
     "execution_count": 116,
     "metadata": {},
     "output_type": "execute_result"
    }
   ],
   "source": [
    "designs = [ os.path.split(os.path.split(f)[0])[1] for f in frd_files]\n",
    "designs = list(designs)\n",
    "designs"
   ]
  },
  {
   "cell_type": "code",
   "execution_count": 117,
   "metadata": {},
   "outputs": [],
   "source": [
    "ancho = params_composite[\"z0\"] + 0.5*params_composite[\"h\"]\n",
    "largo = 10 \n",
    "A = ancho*largo\n",
    "\n",
    "def compute_Fapl(iffiles):\n",
    "    ifrd = readfrd(iffiles)\n",
    "    df = ifrd[\"data\"]\n",
    "    Fapl = np.sum(df[\"F2\"]*(df[\"y\"] > df[\"y\"].mean()))\n",
    "\n",
    "    return Fapl\n",
    "\n",
    "Fapl = [compute_Fapl(f) for f in frd_files]\n",
    "Sapl = [f/A for f in Fapl]\n",
    "E_eff = [s / params[\"ccx\"][\"epsilon\"] for s in Sapl]"
   ]
  },
  {
   "cell_type": "code",
   "execution_count": 118,
   "metadata": {},
   "outputs": [],
   "source": [
    "vfracs = [compute_vol_frac(f) for f in dat_files]"
   ]
  },
  {
   "cell_type": "code",
   "execution_count": 119,
   "metadata": {},
   "outputs": [
    {
     "data": {
      "text/plain": [
       "[{'yarns': np.float64(0.022509073149375225),\n",
       "  'matrix': np.float64(0.9774909268506248)},\n",
       " {'yarns': np.float64(0.022509073243223092),\n",
       "  'matrix': np.float64(0.977490926756777)},\n",
       " {'yarns': np.float64(0.11598612561793718),\n",
       "  'matrix': np.float64(0.8840138743820628)},\n",
       " {'yarns': np.float64(0.11598631533083567),\n",
       "  'matrix': np.float64(0.8840136846691643)},\n",
       " {'yarns': np.float64(0.03133271097161987),\n",
       "  'matrix': np.float64(0.9686672890283802)},\n",
       " {'yarns': np.float64(0.031332711102041465),\n",
       "  'matrix': np.float64(0.9686672888979585)},\n",
       " {'yarns': np.float64(0.16013390916713066),\n",
       "  'matrix': np.float64(0.8398660908328693)},\n",
       " {'yarns': np.float64(0.16013382897558187),\n",
       "  'matrix': np.float64(0.8398661710244182)},\n",
       " {'yarns': np.float64(0.04175474967730135),\n",
       "  'matrix': np.float64(0.9582452503226987)},\n",
       " {'yarns': np.float64(0.041754749275240956),\n",
       "  'matrix': np.float64(0.9582452507247591)},\n",
       " {'yarns': np.float64(0.2113872918165871),\n",
       "  'matrix': np.float64(0.7886127081834129)},\n",
       " {'yarns': np.float64(0.2113870242657099),\n",
       "  'matrix': np.float64(0.7886129757342901)}]"
      ]
     },
     "execution_count": 119,
     "metadata": {},
     "output_type": "execute_result"
    }
   ],
   "source": [
    "vfracs"
   ]
  },
  {
   "cell_type": "code",
   "execution_count": 120,
   "metadata": {},
   "outputs": [],
   "source": [
    "from validation.experimental import carbonfiber,resina,nucleo\n",
    "\n",
    "carbon = carbonfiber()\n",
    "Ecarbon_MPa = carbon[\"carbon\"].iloc[0][\"Young Modulus (GPa)\"]*1e3\n",
    "resina = resina()\n",
    "nucleo = nucleo()"
   ]
  },
  {
   "cell_type": "code",
   "execution_count": null,
   "metadata": {},
   "outputs": [],
   "source": []
  },
  {
   "cell_type": "code",
   "execution_count": 121,
   "metadata": {},
   "outputs": [],
   "source": [
    "def analytical(r):\n",
    "    v_y  = r[\"yarns\"]\n",
    "    v_m  = r[\"matrix\"]\n",
    "\n",
    "    E_y = Ecarbon_MPa\n",
    "    E_m = resina[\"young modulus [MPa]\"]\n",
    "\n",
    "    E_sy = 1/(v_y/E_y + v_m/E_m)\n",
    "    v_sy = v_y + v_m\n",
    "    return  E_sy*v_sy \n",
    "\n",
    "E_eff_analytical = [analytical(v) for v in vfracs]\n",
    "v_carbon = [v[\"yarns\"] for v in vfracs]"
   ]
  },
  {
   "cell_type": "code",
   "execution_count": 122,
   "metadata": {},
   "outputs": [],
   "source": [
    "E_y = Ecarbon_MPa\n",
    "E_m = resina[\"young modulus [MPa]\"]\n",
    "E_a = nucleo[\"young modulus [MPa]\"]"
   ]
  },
  {
   "cell_type": "code",
   "execution_count": 123,
   "metadata": {},
   "outputs": [
    {
     "name": "stdout",
     "output_type": "stream",
     "text": [
      "Carbon 230000.0\n",
      "Resina 2549.7289999999994\n",
      "Nucleo 800\n"
     ]
    }
   ],
   "source": [
    "print(\"Carbon\",Ecarbon_MPa)\n",
    "print(\"Resina\",resina[\"young modulus [MPa]\"])\n",
    "print(\"Nucleo\",nucleo[\"young modulus [MPa]\"])"
   ]
  },
  {
   "cell_type": "code",
   "execution_count": 124,
   "metadata": {},
   "outputs": [],
   "source": [
    "v_carbon = np.array(v_carbon)"
   ]
  },
  {
   "cell_type": "code",
   "execution_count": 125,
   "metadata": {},
   "outputs": [],
   "source": [
    "E_eff = np.array(E_eff)\n",
    "E_eff_analytical = np.array(E_eff_analytical)"
   ]
  },
  {
   "cell_type": "code",
   "execution_count": 126,
   "metadata": {},
   "outputs": [
    {
     "data": {
      "text/plain": [
       "array([  925.98084735,  1282.50218391,  1188.21066253, 10838.77472166,\n",
       "         903.82332108,  1322.0106491 ,  1261.77140862, 14600.68884473,\n",
       "         871.45023405,  1354.99843293,  1349.65086853, 18968.0849881 ])"
      ]
     },
     "execution_count": 126,
     "metadata": {},
     "output_type": "execute_result"
    }
   ],
   "source": [
    "E_eff"
   ]
  },
  {
   "cell_type": "code",
   "execution_count": 127,
   "metadata": {},
   "outputs": [
    {
     "data": {
      "text/plain": [
       "array([0.02250907, 0.02250907, 0.11598613, 0.11598632, 0.03133271,\n",
       "       0.03133271, 0.16013391, 0.16013383, 0.04175475, 0.04175475,\n",
       "       0.21138729, 0.21138702])"
      ]
     },
     "execution_count": 127,
     "metadata": {},
     "output_type": "execute_result"
    }
   ],
   "source": [
    "v_carbon"
   ]
  },
  {
   "cell_type": "code",
   "execution_count": 128,
   "metadata": {},
   "outputs": [],
   "source": [
    "import pandas as pd"
   ]
  },
  {
   "cell_type": "code",
   "execution_count": 129,
   "metadata": {},
   "outputs": [
    {
     "data": {
      "text/plain": [
       "['SX_smooth',\n",
       " 'SY_smooth',\n",
       " 'X',\n",
       " 'Y',\n",
       " 'SX_smooth',\n",
       " 'SY_smooth',\n",
       " 'X',\n",
       " 'Y',\n",
       " 'SX_smooth',\n",
       " 'SY_smooth',\n",
       " 'X',\n",
       " 'Y']"
      ]
     },
     "execution_count": 129,
     "metadata": {},
     "output_type": "execute_result"
    }
   ],
   "source": [
    "designs"
   ]
  },
  {
   "cell_type": "code",
   "execution_count": 130,
   "metadata": {},
   "outputs": [],
   "source": [
    "df_results = pd.DataFrame({ \n",
    "    \"design\" : designs,\n",
    "    \"v_carbon\" : v_carbon,\n",
    "    \"E_eff\" : E_eff,\n",
    "})"
   ]
  },
  {
   "cell_type": "code",
   "execution_count": 131,
   "metadata": {},
   "outputs": [
    {
     "data": {
      "text/html": [
       "<div>\n",
       "<style scoped>\n",
       "    .dataframe tbody tr th:only-of-type {\n",
       "        vertical-align: middle;\n",
       "    }\n",
       "\n",
       "    .dataframe tbody tr th {\n",
       "        vertical-align: top;\n",
       "    }\n",
       "\n",
       "    .dataframe thead th {\n",
       "        text-align: right;\n",
       "    }\n",
       "</style>\n",
       "<table border=\"1\" class=\"dataframe\">\n",
       "  <thead>\n",
       "    <tr style=\"text-align: right;\">\n",
       "      <th></th>\n",
       "      <th>design</th>\n",
       "      <th>v_carbon</th>\n",
       "      <th>E_eff</th>\n",
       "    </tr>\n",
       "  </thead>\n",
       "  <tbody>\n",
       "    <tr>\n",
       "      <th>0</th>\n",
       "      <td>SX_smooth</td>\n",
       "      <td>0.022509</td>\n",
       "      <td>925.980847</td>\n",
       "    </tr>\n",
       "    <tr>\n",
       "      <th>1</th>\n",
       "      <td>SY_smooth</td>\n",
       "      <td>0.022509</td>\n",
       "      <td>1282.502184</td>\n",
       "    </tr>\n",
       "    <tr>\n",
       "      <th>2</th>\n",
       "      <td>X</td>\n",
       "      <td>0.115986</td>\n",
       "      <td>1188.210663</td>\n",
       "    </tr>\n",
       "    <tr>\n",
       "      <th>3</th>\n",
       "      <td>Y</td>\n",
       "      <td>0.115986</td>\n",
       "      <td>10838.774722</td>\n",
       "    </tr>\n",
       "    <tr>\n",
       "      <th>4</th>\n",
       "      <td>SX_smooth</td>\n",
       "      <td>0.031333</td>\n",
       "      <td>903.823321</td>\n",
       "    </tr>\n",
       "    <tr>\n",
       "      <th>5</th>\n",
       "      <td>SY_smooth</td>\n",
       "      <td>0.031333</td>\n",
       "      <td>1322.010649</td>\n",
       "    </tr>\n",
       "    <tr>\n",
       "      <th>6</th>\n",
       "      <td>X</td>\n",
       "      <td>0.160134</td>\n",
       "      <td>1261.771409</td>\n",
       "    </tr>\n",
       "    <tr>\n",
       "      <th>7</th>\n",
       "      <td>Y</td>\n",
       "      <td>0.160134</td>\n",
       "      <td>14600.688845</td>\n",
       "    </tr>\n",
       "    <tr>\n",
       "      <th>8</th>\n",
       "      <td>SX_smooth</td>\n",
       "      <td>0.041755</td>\n",
       "      <td>871.450234</td>\n",
       "    </tr>\n",
       "    <tr>\n",
       "      <th>9</th>\n",
       "      <td>SY_smooth</td>\n",
       "      <td>0.041755</td>\n",
       "      <td>1354.998433</td>\n",
       "    </tr>\n",
       "    <tr>\n",
       "      <th>10</th>\n",
       "      <td>X</td>\n",
       "      <td>0.211387</td>\n",
       "      <td>1349.650869</td>\n",
       "    </tr>\n",
       "    <tr>\n",
       "      <th>11</th>\n",
       "      <td>Y</td>\n",
       "      <td>0.211387</td>\n",
       "      <td>18968.084988</td>\n",
       "    </tr>\n",
       "  </tbody>\n",
       "</table>\n",
       "</div>"
      ],
      "text/plain": [
       "       design  v_carbon         E_eff\n",
       "0   SX_smooth  0.022509    925.980847\n",
       "1   SY_smooth  0.022509   1282.502184\n",
       "2           X  0.115986   1188.210663\n",
       "3           Y  0.115986  10838.774722\n",
       "4   SX_smooth  0.031333    903.823321\n",
       "5   SY_smooth  0.031333   1322.010649\n",
       "6           X  0.160134   1261.771409\n",
       "7           Y  0.160134  14600.688845\n",
       "8   SX_smooth  0.041755    871.450234\n",
       "9   SY_smooth  0.041755   1354.998433\n",
       "10          X  0.211387   1349.650869\n",
       "11          Y  0.211387  18968.084988"
      ]
     },
     "execution_count": 131,
     "metadata": {},
     "output_type": "execute_result"
    }
   ],
   "source": [
    "df_results"
   ]
  },
  {
   "cell_type": "code",
   "execution_count": 133,
   "metadata": {},
   "outputs": [
    {
     "data": {
      "text/plain": [
       "Text(0.5, 1.0, '$t_l=0.65$ mm')"
      ]
     },
     "execution_count": 133,
     "metadata": {},
     "output_type": "execute_result"
    },
    {
     "data": {
      "image/png": "[encoded data removed]",
      "text/plain": [
       "<Figure size 900x300 with 2 Axes>"
      ]
     },
     "metadata": {},
     "output_type": "display_data"
    }
   ],
   "source": [
    "desing_unique = df_results[\"design\"].unique()\n",
    "fig = plt.figure(figsize=(9,3))\n",
    "#\n",
    "#paddding subplots\n",
    "plt.subplots_adjust(wspace=0.5)\n",
    "plt.subplot(1,2,2)\n",
    "for d in [\"SX_smooth\",\"SY_smooth\",\"X\",\"Y\"]:\n",
    "    df = df_results[df_results[\"design\"] == d]\n",
    "    plt.plot(100*df[\"v_carbon\"],1e-3*df[\"E_eff\"],label=d,marker=\"o\")\n",
    "plt.xlabel(\"Carbon volume fraction (%)\")\n",
    "plt.ylabel(\"Effective Young Modulus (GPa)\")\n",
    "plt.legend()\n",
    "plt.grid()\n",
    "# plt.ylim([0,None])\n",
    "\n",
    "# ========================\n",
    "plt.subplot(1,2,1)\n",
    "for d in [\"SX_smooth\",\"SY_smooth\",\"X\"]:\n",
    "    df = df_results[df_results[\"design\"] == d]\n",
    "    plt.plot(100*df[\"v_carbon\"],1e-3*df[\"E_eff\"],label=d,marker=\"o\")\n",
    "plt.xlabel(\"Carbon volume fraction (%)\")\n",
    "plt.ylabel(\"Effective Young Modulus (GPa)\")\n",
    "plt.legend()\n",
    "plt.grid()\n",
    "# plt.ylim([0,1.5])\n",
    "h = params_composite[\"h\"]\n",
    "#\n",
    "plt.title(f\"$t_l={h}$ mm\")\n",
    "# ========================\n"
   ]
  },
  {
   "cell_type": "code",
   "execution_count": null,
   "metadata": {},
   "outputs": [],
   "source": []
  }
 ],
 "metadata": {
  "kernelspec": {
   "display_name": ".conda",
   "language": "python",
   "name": "python3"
  },
  "language_info": {
   "codemirror_mode": {
    "name": "ipython",
    "version": 3
   },
   "file_extension": ".py",
   "mimetype": "text/x-python",
   "name": "python",
   "nbconvert_exporter": "python",
   "pygments_lexer": "ipython3",
   "version": "3.11.10"
  }
 },
 "nbformat": 4,
 "nbformat_minor": 2
}
