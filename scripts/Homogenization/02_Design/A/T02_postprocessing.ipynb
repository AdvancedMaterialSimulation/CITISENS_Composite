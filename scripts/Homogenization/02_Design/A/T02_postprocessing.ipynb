{
 "cells": [
  {
   "cell_type": "code",
   "execution_count": 1,
   "metadata": {},
   "outputs": [],
   "source": [
    "\n",
    "import os \n",
    "join = os.path.join"
   ]
  },
  {
   "cell_type": "code",
   "execution_count": 2,
   "metadata": {},
   "outputs": [],
   "source": [
    "params_composite ={\n",
    "    \"r\"         :  0.25,\n",
    "    \"h\"         :  0.65,\n",
    "    \"z0\"        :  2.82/2,\n",
    "    \"density\"   : 8,\n",
    "    \"interface_factor\"  :  1.2,\n",
    "    \"with_interface\"    : False,\n",
    "    \"mirror\"            : True,\n",
    "    \"check_jacobian\"    : False,\n",
    "}\n",
    "\n",
    "params_ccx = {\n",
    "    \"epsilon\" : 0.1,\n",
    "}\n",
    "params = {\n",
    "    \"mesh\" : params_composite,\n",
    "    \"ccx\"  : params_ccx,\n",
    "}"
   ]
  },
  {
   "cell_type": "code",
   "execution_count": 3,
   "metadata": {},
   "outputs": [],
   "source": [
    "\n",
    "from djccx.read_dat import read_dat\n",
    "\n",
    "def compute_vol_frac(dat_path):\n",
    "    dat = read_dat(dat_path)\n",
    "    vols = [ idat[\"df\"][\"volume\"].sum() for idat in dat]\n",
    "    vT = vols[1]\n",
    "    v_yarns = vols[0]/vT\n",
    "    v_alma  = vols[2]/vT\n",
    "    v_matrix = 1 - v_yarns - v_alma\n",
    "    return {\n",
    "        \"yarns\"  : v_yarns,\n",
    "        \"matrix\" : v_matrix,\n",
    "        \"alma\"   : v_alma,\n",
    "    }"
   ]
  },
  {
   "cell_type": "code",
   "execution_count": 4,
   "metadata": {},
   "outputs": [],
   "source": [
    "import numpy as np"
   ]
  },
  {
   "cell_type": "code",
   "execution_count": 5,
   "metadata": {},
   "outputs": [
    {
     "data": {
      "text/plain": [
       "array([0.2  , 0.225, 0.25 , 0.275, 0.3  ])"
      ]
     },
     "execution_count": 5,
     "metadata": {},
     "output_type": "execute_result"
    }
   ],
   "source": [
    "np.linspace(0.2 ,0.3,5)"
   ]
  },
  {
   "cell_type": "code",
   "execution_count": 6,
   "metadata": {},
   "outputs": [
    {
     "data": {
      "text/plain": [
       "array([0.15 , 0.175, 0.2  , 0.225, 0.25 ])"
      ]
     },
     "execution_count": 6,
     "metadata": {},
     "output_type": "execute_result"
    }
   ],
   "source": [
    "r_span = np.linspace(0.15 ,0.25,5)\n",
    "r_span"
   ]
  },
  {
   "cell_type": "code",
   "execution_count": 7,
   "metadata": {},
   "outputs": [],
   "source": [
    "from djccx.frd.readfrd import readfrd"
   ]
  },
  {
   "cell_type": "code",
   "execution_count": 8,
   "metadata": {},
   "outputs": [],
   "source": [
    "import glob,os\n",
    "join = os.path.join"
   ]
  },
  {
   "cell_type": "code",
   "execution_count": 9,
   "metadata": {},
   "outputs": [
    {
     "data": {
      "text/plain": [
       "['output\\\\r_00\\\\ccx\\\\A\\\\main.frd',\n",
       " 'output\\\\r_01\\\\ccx\\\\A\\\\main.frd',\n",
       " 'output\\\\r_02\\\\ccx\\\\A\\\\main.frd',\n",
       " 'output\\\\r_03\\\\ccx\\\\A\\\\main.frd',\n",
       " 'output\\\\r_04\\\\ccx\\\\A\\\\main.frd']"
      ]
     },
     "execution_count": 9,
     "metadata": {},
     "output_type": "execute_result"
    }
   ],
   "source": [
    "frd_files = glob.glob(join(\"output\",\"r_*\",\"ccx\",\"A\",\"*.frd\"),recursive=True)\n",
    "frd_files"
   ]
  },
  {
   "cell_type": "code",
   "execution_count": 10,
   "metadata": {},
   "outputs": [],
   "source": [
    "dat_files = glob.glob(join(\"output\",\"r_*\",\"ccx\",\"A\",\"*.dat\"),recursive=True)"
   ]
  },
  {
   "cell_type": "code",
   "execution_count": 11,
   "metadata": {},
   "outputs": [],
   "source": [
    "ancho = params_composite[\"z0\"] + 0.5*params_composite[\"h\"]\n",
    "largo = 10 \n",
    "A = ancho*largo\n",
    "\n",
    "def compute_Fapl(iffiles):\n",
    "    ifrd = readfrd(iffiles)\n",
    "    df = ifrd[\"data\"]\n",
    "    Fapl = np.sum(df[\"F2\"]*(df[\"y\"] > df[\"y\"].mean()))\n",
    "\n",
    "    return Fapl\n",
    "\n",
    "Fapl = [compute_Fapl(f) for f in frd_files]\n",
    "Sapl = [f/A for f in Fapl]\n",
    "E_eff = [s / params[\"ccx\"][\"epsilon\"] for s in Sapl]"
   ]
  },
  {
   "cell_type": "code",
   "execution_count": 12,
   "metadata": {},
   "outputs": [],
   "source": [
    "vfracs = [compute_vol_frac(f) for f in dat_files]"
   ]
  },
  {
   "cell_type": "code",
   "execution_count": 13,
   "metadata": {},
   "outputs": [
    {
     "data": {
      "text/plain": [
       "[{'yarns': np.float64(0.024441994636369174),\n",
       "  'matrix': np.float64(0.35019777482911196),\n",
       "  'alma': np.float64(0.6253602305345188)},\n",
       " {'yarns': np.float64(0.03326892654212452),\n",
       "  'matrix': np.float64(0.3413708433359187),\n",
       "  'alma': np.float64(0.6253602301219567)},\n",
       " {'yarns': np.float64(0.04345309358454886),\n",
       "  'matrix': np.float64(0.33118667591955364),\n",
       "  'alma': np.float64(0.6253602304958975)},\n",
       " {'yarns': np.float64(0.05499531862702869),\n",
       "  'matrix': np.float64(0.319644451306227),\n",
       "  'alma': np.float64(0.6253602300667443)},\n",
       " {'yarns': np.float64(0.06789596335776951),\n",
       "  'matrix': np.float64(0.3067438066002056),\n",
       "  'alma': np.float64(0.6253602300420249)}]"
      ]
     },
     "execution_count": 13,
     "metadata": {},
     "output_type": "execute_result"
    }
   ],
   "source": [
    "vfracs"
   ]
  },
  {
   "cell_type": "code",
   "execution_count": 14,
   "metadata": {},
   "outputs": [],
   "source": [
    "from validation.experimental import carbonfiber,resina,nucleo\n",
    "\n",
    "carbon = carbonfiber()\n",
    "Ecarbon_MPa = carbon[\"carbon\"].iloc[0][\"Young Modulus (GPa)\"]*1e3\n",
    "resina = resina()\n",
    "nucleo = nucleo()\n",
    "E_a = nucleo[\"young modulus [MPa]\"]"
   ]
  },
  {
   "cell_type": "code",
   "execution_count": null,
   "metadata": {},
   "outputs": [],
   "source": []
  },
  {
   "cell_type": "code",
   "execution_count": 15,
   "metadata": {},
   "outputs": [],
   "source": [
    "def analytical(r):\n",
    "    v_y  = r[\"yarns\"]\n",
    "    v_m  = r[\"matrix\"]\n",
    "    v_a  = r[\"alma\"]\n",
    "\n",
    "    E_y = Ecarbon_MPa\n",
    "    E_m = resina[\"young modulus [MPa]\"]\n",
    "    E_a = nucleo[\"young modulus [MPa]\"]\n",
    "\n",
    "\n",
    "    return  E_y*v_y + E_m*v_m + E_a*v_a\n",
    "\n",
    "E_eff_analytical = [analytical(v) for v in vfracs]\n",
    "v_carbon = [v[\"yarns\"] for v in vfracs]"
   ]
  },
  {
   "cell_type": "code",
   "execution_count": 16,
   "metadata": {},
   "outputs": [
    {
     "name": "stdout",
     "output_type": "stream",
     "text": [
      "Carbon 230000.0\n",
      "Resina 2549.7289999999994\n",
      "Nucleo 800\n"
     ]
    }
   ],
   "source": [
    "print(\"Carbon\",Ecarbon_MPa)\n",
    "print(\"Resina\",resina[\"young modulus [MPa]\"])\n",
    "print(\"Nucleo\",nucleo[\"young modulus [MPa]\"])"
   ]
  },
  {
   "cell_type": "code",
   "execution_count": 17,
   "metadata": {},
   "outputs": [],
   "source": [
    "from matplotlib import pyplot as plt"
   ]
  },
  {
   "cell_type": "code",
   "execution_count": 27,
   "metadata": {},
   "outputs": [],
   "source": [
    "v_carbon = np.array(v_carbon)\n",
    "E_eff = np.array(E_eff)\n",
    "E_eff_analytical = np.array(E_eff_analytical)"
   ]
  },
  {
   "cell_type": "code",
   "execution_count": 29,
   "metadata": {},
   "outputs": [
    {
     "data": {
      "image/png": "[encoded data removed]",
      "text/plain": [
       "<Figure size 640x480 with 1 Axes>"
      ]
     },
     "metadata": {},
     "output_type": "display_data"
    }
   ],
   "source": [
    "from matplotlib import pyplot as plt\n",
    "plt.plot(100*v_carbon,E_eff_analytical/1e3,\"o-\",label=\"Analytical\")\n",
    "plt.plot(100*v_carbon,E_eff/1e3,\"o-\",label=\"Computed\")\n",
    "plt.ylabel(r\"$E_{eff}$ [GPa]\")\n",
    "plt.xlabel(\"Carbon volume fraction [%]\")\n",
    "# grid\n",
    "plt.grid()"
   ]
  },
  {
   "cell_type": "code",
   "execution_count": 58,
   "metadata": {},
   "outputs": [],
   "source": [
    "import pandas as pd\n",
    "df_save = pd.DataFrame({\"vfrac\":vfrac_FEM,\"E\":E_eff})\n",
    "df_save.to_csv(\"E_eff_analytical.csv\",index=False)"
   ]
  }
 ],
 "metadata": {
  "kernelspec": {
   "display_name": ".conda",
   "language": "python",
   "name": "python3"
  },
  "language_info": {
   "codemirror_mode": {
    "name": "ipython",
    "version": 3
   },
   "file_extension": ".py",
   "mimetype": "text/x-python",
   "name": "python",
   "nbconvert_exporter": "python",
   "pygments_lexer": "ipython3",
   "version": "3.13.0"
  }
 },
 "nbformat": 4,
 "nbformat_minor": 2
}
