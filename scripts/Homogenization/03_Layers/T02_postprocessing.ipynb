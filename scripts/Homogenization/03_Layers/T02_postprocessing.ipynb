{
 "cells": [
  {
   "cell_type": "code",
   "execution_count": 26,
   "metadata": {},
   "outputs": [],
   "source": [
    "import os \n",
    "import glob\n",
    "join = os.path.join\n",
    "from djccx.read_dat import read_dat\n",
    "import numpy as np\n",
    "from djccx.frd.readfrd import readfrd\n",
    "from matplotlib import pyplot as plt\n",
    "from matplotlib import pyplot as plt\n"
   ]
  },
  {
   "cell_type": "code",
   "execution_count": 27,
   "metadata": {},
   "outputs": [],
   "source": [
    "params_composite ={\n",
    "    \"r\"         :  0.25,\n",
    "    \"h\"         :  0.65,\n",
    "    \"z0\"        :  2.82/2,\n",
    "    \"density\"   : 8,\n",
    "    \"interface_factor\"  :  1.2,\n",
    "    \"with_interface\"    : False,\n",
    "    \"mirror\"            : True,\n",
    "    \"check_jacobian\"    : False,\n",
    "}\n",
    "\n",
    "params_ccx = {\n",
    "    \"epsilon\" : 0.1,\n",
    "}\n",
    "params = {\n",
    "    \"mesh\" : params_composite,\n",
    "    \"ccx\"  : params_ccx,\n",
    "}"
   ]
  },
  {
   "cell_type": "code",
   "execution_count": 28,
   "metadata": {},
   "outputs": [],
   "source": [
    "def compute_vol_frac(dat_path):\n",
    "    dat = read_dat(dat_path)\n",
    "    vols = [ idat[\"df\"][\"volume\"].sum() for idat in dat]\n",
    "    vT = vols[1]\n",
    "    v_yarns = vols[0]/vT\n",
    "    v_matrix = 1 - v_yarns \n",
    "    return {\n",
    "        \"yarns\"  : v_yarns,\n",
    "        \"matrix\" : v_matrix,\n",
    "    }"
   ]
  },
  {
   "cell_type": "code",
   "execution_count": 29,
   "metadata": {},
   "outputs": [
    {
     "data": {
      "text/plain": [
       "array([0.15, 0.2 , 0.25])"
      ]
     },
     "execution_count": 29,
     "metadata": {},
     "output_type": "execute_result"
    }
   ],
   "source": [
    "r_span = np.linspace(0.15 ,0.25,3)\n",
    "r_span"
   ]
  },
  {
   "cell_type": "code",
   "execution_count": 30,
   "metadata": {},
   "outputs": [],
   "source": [
    "frd_files = glob.glob(join(\"output\",\"r_*\",\"ccx\",\"*\",\"*.frd\"),recursive=True)\n",
    "dat_files = glob.glob(join(\"output\",\"r_*\",\"ccx\",\"*\",\"*.dat\"),recursive=True)"
   ]
  },
  {
   "cell_type": "code",
   "execution_count": 31,
   "metadata": {},
   "outputs": [
    {
     "data": {
      "text/plain": [
       "['SX', 'SY', 'X', 'Y', 'SX', 'SY', 'X', 'Y', 'SX', 'SY', 'X', 'Y']"
      ]
     },
     "execution_count": 31,
     "metadata": {},
     "output_type": "execute_result"
    }
   ],
   "source": [
    "designs = [ os.path.split(os.path.split(f)[0])[1] for f in frd_files]\n",
    "designs = list(designs)\n",
    "designs"
   ]
  },
  {
   "cell_type": "code",
   "execution_count": 32,
   "metadata": {},
   "outputs": [],
   "source": [
    "ancho = params_composite[\"z0\"] + 0.5*params_composite[\"h\"]\n",
    "largo = 10 \n",
    "A = ancho*largo\n",
    "\n",
    "def compute_Fapl(iffiles):\n",
    "    ifrd = readfrd(iffiles)\n",
    "    df = ifrd[\"data\"]\n",
    "    Fapl = np.sum(df[\"F2\"]*(df[\"y\"] > df[\"y\"].mean()))\n",
    "\n",
    "    return Fapl\n",
    "\n",
    "Fapl = [compute_Fapl(f) for f in frd_files]\n",
    "Sapl = [f/A for f in Fapl]\n",
    "E_eff = [s / params[\"ccx\"][\"epsilon\"] for s in Sapl]"
   ]
  },
  {
   "cell_type": "code",
   "execution_count": 33,
   "metadata": {},
   "outputs": [],
   "source": [
    "vfracs = [compute_vol_frac(f) for f in dat_files]"
   ]
  },
  {
   "cell_type": "code",
   "execution_count": 34,
   "metadata": {},
   "outputs": [
    {
     "data": {
      "text/plain": [
       "[{'yarns': np.float64(0.03180902794976575),\n",
       "  'matrix': np.float64(0.9681909720502343)},\n",
       " {'yarns': np.float64(0.03180902795580407),\n",
       "  'matrix': np.float64(0.9681909720441959)},\n",
       " {'yarns': np.float64(0.06524139316415482),\n",
       "  'matrix': np.float64(0.9347586068358452)},\n",
       " {'yarns': np.float64(0.06524132456254564),\n",
       "  'matrix': np.float64(0.9347586754374544)},\n",
       " {'yarns': np.float64(0.05655069011265088),\n",
       "  'matrix': np.float64(0.9434493098873491)},\n",
       " {'yarns': np.float64(0.05655068995855535),\n",
       "  'matrix': np.float64(0.9434493100414446)},\n",
       " {'yarns': np.float64(0.11598612516218237),\n",
       "  'matrix': np.float64(0.8840138748378177)},\n",
       " {'yarns': np.float64(0.11598631478463348),\n",
       "  'matrix': np.float64(0.8840136852153665)},\n",
       " {'yarns': np.float64(0.08836308107206003),\n",
       "  'matrix': np.float64(0.91163691892794)},\n",
       " {'yarns': np.float64(0.0883630810396541),\n",
       "  'matrix': np.float64(0.9116369189603459)},\n",
       " {'yarns': np.float64(0.18123000351800572),\n",
       "  'matrix': np.float64(0.8187699964819943)},\n",
       " {'yarns': np.float64(0.18122998800710036),\n",
       "  'matrix': np.float64(0.8187700119928997)}]"
      ]
     },
     "execution_count": 34,
     "metadata": {},
     "output_type": "execute_result"
    }
   ],
   "source": [
    "vfracs"
   ]
  },
  {
   "cell_type": "code",
   "execution_count": 35,
   "metadata": {},
   "outputs": [],
   "source": [
    "from validation.experimental import carbonfiber,resina,nucleo\n",
    "\n",
    "carbon = carbonfiber()\n",
    "Ecarbon_MPa = carbon[\"carbon\"].iloc[0][\"Young Modulus (GPa)\"]*1e3\n",
    "resina = resina()\n",
    "nucleo = nucleo()"
   ]
  },
  {
   "cell_type": "code",
   "execution_count": null,
   "metadata": {},
   "outputs": [],
   "source": []
  },
  {
   "cell_type": "code",
   "execution_count": 36,
   "metadata": {},
   "outputs": [],
   "source": [
    "def analytical(r):\n",
    "    v_y  = r[\"yarns\"]\n",
    "    v_m  = r[\"matrix\"]\n",
    "\n",
    "    E_y = Ecarbon_MPa\n",
    "    E_m = resina[\"young modulus [MPa]\"]\n",
    "\n",
    "    E_sy = 1/(v_y/E_y + v_m/E_m)\n",
    "    v_sy = v_y + v_m\n",
    "    return  E_sy*v_sy \n",
    "\n",
    "E_eff_analytical = [analytical(v) for v in vfracs]\n",
    "v_carbon = [v[\"yarns\"] for v in vfracs]"
   ]
  },
  {
   "cell_type": "code",
   "execution_count": 37,
   "metadata": {},
   "outputs": [],
   "source": [
    "E_y = Ecarbon_MPa\n",
    "E_m = resina[\"young modulus [MPa]\"]\n",
    "E_a = nucleo[\"young modulus [MPa]\"]"
   ]
  },
  {
   "cell_type": "code",
   "execution_count": 38,
   "metadata": {},
   "outputs": [
    {
     "name": "stdout",
     "output_type": "stream",
     "text": [
      "Carbon 230000.0\n",
      "Resina 2549.7289999999994\n",
      "Nucleo 800\n"
     ]
    }
   ],
   "source": [
    "print(\"Carbon\",Ecarbon_MPa)\n",
    "print(\"Resina\",resina[\"young modulus [MPa]\"])\n",
    "print(\"Nucleo\",nucleo[\"young modulus [MPa]\"])"
   ]
  },
  {
   "cell_type": "code",
   "execution_count": 39,
   "metadata": {},
   "outputs": [],
   "source": [
    "v_carbon = np.array(v_carbon)"
   ]
  },
  {
   "cell_type": "code",
   "execution_count": 40,
   "metadata": {},
   "outputs": [],
   "source": [
    "E_eff = np.array(E_eff)\n",
    "E_eff_analytical = np.array(E_eff_analytical)"
   ]
  },
  {
   "cell_type": "code",
   "execution_count": 41,
   "metadata": {},
   "outputs": [
    {
     "data": {
      "text/plain": [
       "array([0.03180903, 0.03180903, 0.06524139, 0.06524132, 0.05655069,\n",
       "       0.05655069, 0.11598613, 0.11598631, 0.08836308, 0.08836308,\n",
       "       0.18123   , 0.18122999])"
      ]
     },
     "execution_count": 41,
     "metadata": {},
     "output_type": "execute_result"
    }
   ],
   "source": [
    "v_carbon"
   ]
  },
  {
   "cell_type": "code",
   "execution_count": 42,
   "metadata": {},
   "outputs": [],
   "source": [
    "import pandas as pd"
   ]
  },
  {
   "cell_type": "code",
   "execution_count": 43,
   "metadata": {},
   "outputs": [
    {
     "data": {
      "text/plain": [
       "['SX', 'SY', 'X', 'Y', 'SX', 'SY', 'X', 'Y', 'SX', 'SY', 'X', 'Y']"
      ]
     },
     "execution_count": 43,
     "metadata": {},
     "output_type": "execute_result"
    }
   ],
   "source": [
    "designs"
   ]
  },
  {
   "cell_type": "code",
   "execution_count": 44,
   "metadata": {},
   "outputs": [],
   "source": [
    "df_results = pd.DataFrame({ \n",
    "    \"design\" : designs,\n",
    "    \"v_carbon\" : v_carbon,\n",
    "    \"E_eff\" : E_eff,\n",
    "})"
   ]
  },
  {
   "cell_type": "code",
   "execution_count": 48,
   "metadata": {},
   "outputs": [
    {
     "data": {
      "text/html": [
       "<div>\n",
       "<style scoped>\n",
       "    .dataframe tbody tr th:only-of-type {\n",
       "        vertical-align: middle;\n",
       "    }\n",
       "\n",
       "    .dataframe tbody tr th {\n",
       "        vertical-align: top;\n",
       "    }\n",
       "\n",
       "    .dataframe thead th {\n",
       "        text-align: right;\n",
       "    }\n",
       "</style>\n",
       "<table border=\"1\" class=\"dataframe\">\n",
       "  <thead>\n",
       "    <tr style=\"text-align: right;\">\n",
       "      <th></th>\n",
       "      <th>design</th>\n",
       "      <th>v_carbon</th>\n",
       "      <th>E_eff</th>\n",
       "    </tr>\n",
       "  </thead>\n",
       "  <tbody>\n",
       "    <tr>\n",
       "      <th>0</th>\n",
       "      <td>SX</td>\n",
       "      <td>0.031809</td>\n",
       "      <td>1156.956433</td>\n",
       "    </tr>\n",
       "    <tr>\n",
       "      <th>1</th>\n",
       "      <td>SY</td>\n",
       "      <td>0.031809</td>\n",
       "      <td>1122.221233</td>\n",
       "    </tr>\n",
       "    <tr>\n",
       "      <th>2</th>\n",
       "      <td>X</td>\n",
       "      <td>0.065241</td>\n",
       "      <td>1104.976133</td>\n",
       "    </tr>\n",
       "    <tr>\n",
       "      <th>3</th>\n",
       "      <td>Y</td>\n",
       "      <td>0.065241</td>\n",
       "      <td>6514.656378</td>\n",
       "    </tr>\n",
       "    <tr>\n",
       "      <th>4</th>\n",
       "      <td>SX</td>\n",
       "      <td>0.056551</td>\n",
       "      <td>1229.909124</td>\n",
       "    </tr>\n",
       "    <tr>\n",
       "      <th>5</th>\n",
       "      <td>SY</td>\n",
       "      <td>0.056551</td>\n",
       "      <td>1191.175780</td>\n",
       "    </tr>\n",
       "    <tr>\n",
       "      <th>6</th>\n",
       "      <td>X</td>\n",
       "      <td>0.115986</td>\n",
       "      <td>1189.371566</td>\n",
       "    </tr>\n",
       "    <tr>\n",
       "      <th>7</th>\n",
       "      <td>Y</td>\n",
       "      <td>0.115986</td>\n",
       "      <td>10838.776862</td>\n",
       "    </tr>\n",
       "    <tr>\n",
       "      <th>8</th>\n",
       "      <td>SX</td>\n",
       "      <td>0.088363</td>\n",
       "      <td>1304.066610</td>\n",
       "    </tr>\n",
       "    <tr>\n",
       "      <th>9</th>\n",
       "      <td>SY</td>\n",
       "      <td>0.088363</td>\n",
       "      <td>1270.164992</td>\n",
       "    </tr>\n",
       "    <tr>\n",
       "      <th>10</th>\n",
       "      <td>X</td>\n",
       "      <td>0.181230</td>\n",
       "      <td>1301.067190</td>\n",
       "    </tr>\n",
       "    <tr>\n",
       "      <th>11</th>\n",
       "      <td>Y</td>\n",
       "      <td>0.181230</td>\n",
       "      <td>16398.346214</td>\n",
       "    </tr>\n",
       "  </tbody>\n",
       "</table>\n",
       "</div>"
      ],
      "text/plain": [
       "   design  v_carbon         E_eff\n",
       "0      SX  0.031809   1156.956433\n",
       "1      SY  0.031809   1122.221233\n",
       "2       X  0.065241   1104.976133\n",
       "3       Y  0.065241   6514.656378\n",
       "4      SX  0.056551   1229.909124\n",
       "5      SY  0.056551   1191.175780\n",
       "6       X  0.115986   1189.371566\n",
       "7       Y  0.115986  10838.776862\n",
       "8      SX  0.088363   1304.066610\n",
       "9      SY  0.088363   1270.164992\n",
       "10      X  0.181230   1301.067190\n",
       "11      Y  0.181230  16398.346214"
      ]
     },
     "execution_count": 48,
     "metadata": {},
     "output_type": "execute_result"
    }
   ],
   "source": [
    "df_results"
   ]
  },
  {
   "cell_type": "code",
   "execution_count": 70,
   "metadata": {},
   "outputs": [
    {
     "data": {
      "text/plain": [
       "Text(0.5, 1.0, '$t_l=0.65$ mm')"
      ]
     },
     "execution_count": 70,
     "metadata": {},
     "output_type": "execute_result"
    },
    {
     "data": {
      "image/png": "[encoded data removed]",
      "text/plain": [
       "<Figure size 900x300 with 2 Axes>"
      ]
     },
     "metadata": {},
     "output_type": "display_data"
    }
   ],
   "source": [
    "desing_unique = df_results[\"design\"].unique()\n",
    "fig = plt.figure(figsize=(9,3))\n",
    "#\n",
    "#paddding subplots\n",
    "plt.subplots_adjust(wspace=0.5)\n",
    "plt.subplot(1,2,2)\n",
    "for d in [\"SX\",\"SY\",\"X\",\"Y\"]:\n",
    "    df = df_results[df_results[\"design\"] == d]\n",
    "    plt.plot(100*df[\"v_carbon\"],1e-3*df[\"E_eff\"],label=d,marker=\"o\")\n",
    "plt.xlabel(\"Carbon volume fraction (%)\")\n",
    "plt.ylabel(\"Effective Young Modulus (GPa)\")\n",
    "plt.legend()\n",
    "plt.grid()\n",
    "plt.ylim([0,None])\n",
    "\n",
    "# ========================\n",
    "plt.subplot(1,2,1)\n",
    "for d in [\"SX\",\"SY\",\"X\"]:\n",
    "    df = df_results[df_results[\"design\"] == d]\n",
    "    plt.plot(100*df[\"v_carbon\"],1e-3*df[\"E_eff\"],label=d,marker=\"o\")\n",
    "plt.xlabel(\"Carbon volume fraction (%)\")\n",
    "plt.ylabel(\"Effective Young Modulus (GPa)\")\n",
    "plt.legend()\n",
    "plt.grid()\n",
    "plt.ylim([0,1.5])\n",
    "h = params_composite[\"h\"]\n",
    "#\n",
    "plt.title(f\"$t_l={h}$ mm\")\n",
    "# ========================\n"
   ]
  }
 ],
 "metadata": {
  "kernelspec": {
   "display_name": ".conda",
   "language": "python",
   "name": "python3"
  },
  "language_info": {
   "codemirror_mode": {
    "name": "ipython",
    "version": 3
   },
   "file_extension": ".py",
   "mimetype": "text/x-python",
   "name": "python",
   "nbconvert_exporter": "python",
   "pygments_lexer": "ipython3",
   "version": "3.11.10"
  }
 },
 "nbformat": 4,
 "nbformat_minor": 2
}
