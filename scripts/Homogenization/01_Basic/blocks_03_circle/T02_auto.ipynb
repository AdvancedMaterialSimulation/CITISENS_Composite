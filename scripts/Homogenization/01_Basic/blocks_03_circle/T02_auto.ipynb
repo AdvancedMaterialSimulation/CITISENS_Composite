{
 "cells": [
  {
   "cell_type": "code",
   "execution_count": 1,
   "metadata": {},
   "outputs": [],
   "source": [
    "from functions.RunBlock import RunBlock\n",
    "import numpy as np\n",
    "from copy import deepcopy\n",
    "import os,shutil\n",
    "join = os.path.join"
   ]
  },
  {
   "cell_type": "code",
   "execution_count": 2,
   "metadata": {},
   "outputs": [],
   "source": [
    "# remove output folder\n",
    "if os.path.exists('output'):\n",
    "    shutil.rmtree('output')\n",
    "\n",
    "# create output folder\n",
    "os.mkdir('output')"
   ]
  },
  {
   "cell_type": "code",
   "execution_count": 3,
   "metadata": {},
   "outputs": [],
   "source": [
    "from validation.experimental import carbonfiber,resina,nucleo\n",
    "carbon_data = carbonfiber()\n",
    "resina_data = resina()\n",
    "nucleo_data = nucleo()\n",
    "\n",
    "Ec_GPa = carbon_data[\"carbon\"][\"Young Modulus (GPa)\"][0]\n",
    "Ec = Ec_GPa*1e3\n",
    "nu_c = carbon_data[\"poisson ratio\"]\n",
    "Em = nucleo_data[\"young modulus [MPa]\"]\n",
    "nu_m = nucleo_data[\"poisson ratio\"]"
   ]
  },
  {
   "cell_type": "code",
   "execution_count": 4,
   "metadata": {},
   "outputs": [],
   "source": [
    "params = {\n",
    "    \"zT\": 10,\n",
    "    \"matrix\": {\n",
    "        \"E\": Em,\n",
    "        \"nu\": nu_m\n",
    "    },\n",
    "    \"carbon\": {\n",
    "        \"E\": Ec,\n",
    "        \"nu\": nu_c\n",
    "    },\n",
    "    \"output_folder\": \"output\"\n",
    "}\n"
   ]
  },
  {
   "cell_type": "code",
   "execution_count": 5,
   "metadata": {},
   "outputs": [
    {
     "name": "stdout",
     "output_type": "stream",
     "text": [
      "**************************************************\n",
      "z_f =  0.005\n",
      "**************************************************\n",
      "output\\f_0\n",
      "Running Calculix at:  output\\f_0\n",
      "Output file:  c:\\Users\\djoroya\\Documents\\GitHub\\CITISENS_Composite\\scripts\\Homogenization_blocks_03_circle\\output\\f_0\\out.txt\n",
      "Command:\n",
      " mpiexec -n 4 c:\\Users\\djoroya\\Documents\\GitHub\\CITISENS_Composite\\.conda\\Lib\\site-packages\\djccx\\bin\\ccx_dynamic.exe main\n",
      "Error reading cvf file\n",
      "\n",
      "pid:  4960 \n",
      "\n",
      "Calculix finished\n",
      "\n",
      "**************************************************\n",
      "z_f =  0.042\n",
      "**************************************************\n",
      "output\\f_1\n",
      "Running Calculix at:  output\\f_1\n",
      "Output file:  c:\\Users\\djoroya\\Documents\\GitHub\\CITISENS_Composite\\scripts\\Homogenization_blocks_03_circle\\output\\f_1\\out.txt\n",
      "Command:\n",
      " mpiexec -n 4 c:\\Users\\djoroya\\Documents\\GitHub\\CITISENS_Composite\\.conda\\Lib\\site-packages\\djccx\\bin\\ccx_dynamic.exe main\n",
      "Error reading cvf file\n",
      "\n",
      "pid:  5424 \n",
      "\n",
      "Calculix finished\n",
      "\n",
      "**************************************************\n",
      "z_f =  0.079\n",
      "**************************************************\n",
      "output\\f_2\n",
      "Running Calculix at:  output\\f_2\n",
      "Output file:  c:\\Users\\djoroya\\Documents\\GitHub\\CITISENS_Composite\\scripts\\Homogenization_blocks_03_circle\\output\\f_2\\out.txt\n",
      "Command:\n",
      " mpiexec -n 4 c:\\Users\\djoroya\\Documents\\GitHub\\CITISENS_Composite\\.conda\\Lib\\site-packages\\djccx\\bin\\ccx_dynamic.exe main\n",
      "Error reading cvf file\n",
      "\n",
      "pid:  15948 \n",
      "\n",
      "Calculix finished\n",
      "\n",
      "**************************************************\n",
      "z_f =  0.11600000000000002\n",
      "**************************************************\n",
      "output\\f_3\n",
      "Running Calculix at:  output\\f_3\n",
      "Output file:  c:\\Users\\djoroya\\Documents\\GitHub\\CITISENS_Composite\\scripts\\Homogenization_blocks_03_circle\\output\\f_3\\out.txt\n",
      "Command:\n",
      " mpiexec -n 4 c:\\Users\\djoroya\\Documents\\GitHub\\CITISENS_Composite\\.conda\\Lib\\site-packages\\djccx\\bin\\ccx_dynamic.exe main\n",
      "Error reading cvf file\n",
      "\n",
      "pid:  10064 \n",
      "\n",
      "Calculix finished\n",
      "\n",
      "**************************************************\n",
      "z_f =  0.153\n",
      "**************************************************\n",
      "output\\f_4\n",
      "Running Calculix at:  output\\f_4\n",
      "Output file:  c:\\Users\\djoroya\\Documents\\GitHub\\CITISENS_Composite\\scripts\\Homogenization_blocks_03_circle\\output\\f_4\\out.txt\n",
      "Command:\n",
      " mpiexec -n 4 c:\\Users\\djoroya\\Documents\\GitHub\\CITISENS_Composite\\.conda\\Lib\\site-packages\\djccx\\bin\\ccx_dynamic.exe main\n",
      "Error reading cvf file\n",
      "\n",
      "pid:  7696 \n",
      "\n",
      "Calculix finished\n",
      "\n"
     ]
    },
    {
     "ename": "IndexError",
     "evalue": "list index out of range",
     "output_type": "error",
     "traceback": [
      "\u001b[1;31m---------------------------------------------------------------------------\u001b[0m",
      "\u001b[1;31mIndexError\u001b[0m                                Traceback (most recent call last)",
      "Cell \u001b[1;32mIn[5], line 12\u001b[0m\n\u001b[0;32m     10\u001b[0m \u001b[38;5;28mprint\u001b[39m(output)\n\u001b[0;32m     11\u001b[0m params_loop[\u001b[38;5;124m\"\u001b[39m\u001b[38;5;124moutput_folder\u001b[39m\u001b[38;5;124m\"\u001b[39m] \u001b[38;5;241m=\u001b[39m output\n\u001b[1;32m---> 12\u001b[0m \u001b[43mRunBlock\u001b[49m\u001b[43m(\u001b[49m\u001b[43mparams_loop\u001b[49m\u001b[43m)\u001b[49m\n",
      "File \u001b[1;32mc:\\Users\\djoroya\\Documents\\GitHub\\CITISENS_Composite\\scripts\\Homogenization_blocks_03_circle\\functions\\RunBlock.py:133\u001b[0m, in \u001b[0;36mRunBlock\u001b[1;34m(params)\u001b[0m\n\u001b[0;32m    130\u001b[0m shutil\u001b[38;5;241m.\u001b[39mrmtree(output_folder, ignore_errors\u001b[38;5;241m=\u001b[39m\u001b[38;5;28;01mTrue\u001b[39;00m)\n\u001b[0;32m    131\u001b[0m os\u001b[38;5;241m.\u001b[39mmkdir(output_folder)\n\u001b[1;32m--> 133\u001b[0m \u001b[43minp_f\u001b[49m\u001b[38;5;241;43m.\u001b[39;49m\u001b[43mrun\u001b[49m\u001b[43m(\u001b[49m\u001b[43moutput_folder\u001b[49m\u001b[43m)\u001b[49m\n",
      "File \u001b[1;32mc:\\Users\\djoroya\\Documents\\GitHub\\CITISENS_Composite\\.conda\\Lib\\site-packages\\djccx\\inp\\inp.py:267\u001b[0m, in \u001b[0;36minp.run\u001b[1;34m(self, output, mkdirforce, opt)\u001b[0m\n\u001b[0;32m    263\u001b[0m runccx(output,\u001b[38;5;124m\"\u001b[39m\u001b[38;5;124mmain\u001b[39m\u001b[38;5;124m\"\u001b[39m,\u001b[38;5;241m*\u001b[39m\u001b[38;5;241m*\u001b[39mopt)\n\u001b[0;32m    265\u001b[0m frd_file \u001b[38;5;241m=\u001b[39m join(output,\u001b[38;5;124m\"\u001b[39m\u001b[38;5;124mmain.frd\u001b[39m\u001b[38;5;124m\"\u001b[39m)\n\u001b[1;32m--> 267\u001b[0m frd \u001b[38;5;241m=\u001b[39m \u001b[43mreadfrd\u001b[49m\u001b[43m(\u001b[49m\u001b[43mfrd_file\u001b[49m\u001b[43m)\u001b[49m\n\u001b[0;32m    269\u001b[0m \u001b[38;5;28mself\u001b[39m\u001b[38;5;241m.\u001b[39msetResults(frd)\n\u001b[0;32m    271\u001b[0m \u001b[38;5;28;01mreturn\u001b[39;00m frd\n",
      "File \u001b[1;32mc:\\Users\\djoroya\\Documents\\GitHub\\CITISENS_Composite\\.conda\\Lib\\site-packages\\djccx\\frd\\readfrd.py:114\u001b[0m, in \u001b[0;36mreadfrd\u001b[1;34m(file, remove_fail_steps, add_compute)\u001b[0m\n\u001b[0;32m    111\u001b[0m \u001b[38;5;66;03m#mesh = mesh[:,:3]\u001b[39;00m\n\u001b[0;32m    112\u001b[0m \u001b[38;5;66;03m# \u001b[39;00m\n\u001b[0;32m    113\u001b[0m out \u001b[38;5;241m=\u001b[39m \u001b[38;5;28mdict\u001b[39m()\n\u001b[1;32m--> 114\u001b[0m out[\u001b[38;5;124m\"\u001b[39m\u001b[38;5;124mdata\u001b[39m\u001b[38;5;124m\"\u001b[39m] \u001b[38;5;241m=\u001b[39m \u001b[43mblocks_out_list_merged\u001b[49m\u001b[43m[\u001b[49m\u001b[38;5;241;43m-\u001b[39;49m\u001b[38;5;241;43m1\u001b[39;49m\u001b[43m]\u001b[49m\n\u001b[0;32m    115\u001b[0m out[\u001b[38;5;124m\"\u001b[39m\u001b[38;5;124mmesh\u001b[39m\u001b[38;5;124m\"\u001b[39m] \u001b[38;5;241m=\u001b[39m mesh\n\u001b[0;32m    116\u001b[0m out[\u001b[38;5;124m\"\u001b[39m\u001b[38;5;124msteps\u001b[39m\u001b[38;5;124m\"\u001b[39m] \u001b[38;5;241m=\u001b[39m name_steps_u\n",
      "\u001b[1;31mIndexError\u001b[0m: list index out of range"
     ]
    }
   ],
   "source": [
    "z_f_span = np.linspace(0.5, 19, 6)/100 # 0.5% to 10% of the total thicknessz\n",
    "#z_f_span = [z_f_span[2]]\n",
    "for i,z_f in enumerate(z_f_span):\n",
    "    print(50*\"*\")\n",
    "    print(\"z_f = \", z_f)\n",
    "    print(50*\"*\")\n",
    "    params_loop = deepcopy(params)\n",
    "    params_loop[\"volume_fraction\"] = z_f\n",
    "    output = join(\"output\",\"f_\"+str(i))\n",
    "    print(output)\n",
    "    params_loop[\"output_folder\"] = output\n",
    "    RunBlock(params_loop)"
   ]
  },
  {
   "cell_type": "code",
   "execution_count": null,
   "metadata": {},
   "outputs": [],
   "source": []
  }
 ],
 "metadata": {
  "kernelspec": {
   "display_name": ".conda",
   "language": "python",
   "name": "python3"
  },
  "language_info": {
   "codemirror_mode": {
    "name": "ipython",
    "version": 3
   },
   "file_extension": ".py",
   "mimetype": "text/x-python",
   "name": "python",
   "nbconvert_exporter": "python",
   "pygments_lexer": "ipython3",
   "version": "3.11.10"
  }
 },
 "nbformat": 4,
 "nbformat_minor": 2
}
