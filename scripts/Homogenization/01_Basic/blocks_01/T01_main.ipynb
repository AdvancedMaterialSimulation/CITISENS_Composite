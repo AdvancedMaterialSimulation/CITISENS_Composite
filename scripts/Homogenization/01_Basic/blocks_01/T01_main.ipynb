{
 "cells": [
  {
   "cell_type": "code",
   "execution_count": 1,
   "metadata": {},
   "outputs": [],
   "source": [
    "import gmsh \n",
    "from CompositeSandwich.box_labeling import box_labeling\n",
    "import shutil,os\n",
    "from djccx.inp.inp import inp\n",
    "from Composite.inp.CreateNsetFromElset import CreateNsetFromElset\n"
   ]
  },
  {
   "cell_type": "code",
   "execution_count": 2,
   "metadata": {},
   "outputs": [],
   "source": [
    "\n",
    "gmsh.initialize()\n",
    "\n",
    "# Un cubo partido en tres partes\n",
    "# Para ello haremos primero un cubo y luego un cubo más pequeño en el centro\n",
    "# luego con la herramienta de partición de gmsh dividiremos el cubo en tres partes\n",
    "# ademas etiquetaremos las tres partes con physical groups como top, middle y bottom\n",
    "\n",
    "cube = gmsh.model.occ.addBox(0, 0, 0, 1, 1, 1)\n",
    "\n",
    "# Cubo más pequeño\n",
    "small_cube = gmsh.model.occ.addBox(0.0, 0.0, 0.25, \n",
    "                                   1.0, 1.0, 0.50)\n",
    "\n",
    "# Partición\n",
    "\n",
    "gmsh.model.occ.synchronize()\n",
    "\n",
    "\n",
    "r = gmsh.model.occ.cut([(3, cube)], [(3, small_cube)], removeTool=False)\n",
    "gmsh.model.occ.synchronize()\n",
    "\n",
    "# Etiquetado\n",
    "# Definimos los grupos físicos\n",
    "\n",
    "middle = gmsh.model.addPhysicalGroup(3, [small_cube])\n",
    "gmsh.model.setPhysicalName(3, middle, \"middle\")\n",
    "\n",
    "top_tag = r[0][1][1]\n",
    "bot_tag = r[0][0][1]\n",
    "\n",
    "top_ph = gmsh.model.addPhysicalGroup(3, [top_tag])\n",
    "gmsh.model.setPhysicalName(3, top_ph, \"top\")\n",
    "\n",
    "bot_ph = gmsh.model.addPhysicalGroup(3, [bot_tag])\n",
    "gmsh.model.setPhysicalName(3, bot_ph, \"bot\")\n",
    "\n",
    "# Box labeling \n",
    "box_labeling(bot_tag,\"bot\") \n",
    "box_labeling(top_tag,\"top\")\n",
    "\n",
    "gmsh.model.occ.synchronize()\n",
    "\n",
    "gmsh.model.mesh.generate(3)\n",
    "# second order\n",
    "gmsh.model.mesh.setOrder(2)\n",
    "gmsh.write(\"cube.inp\")\n",
    "gmsh.finalize()"
   ]
  },
  {
   "cell_type": "code",
   "execution_count": 3,
   "metadata": {},
   "outputs": [],
   "source": [
    "\n",
    "inp_f = inp(\"cube.inp\")\n",
    "\n",
    "# --------------------------------\n",
    "# Creamos los nsets a partir de los elsets\n",
    "# --------------------------------\n",
    "bot_surf_elset = inp_f.select(\"BOT_Z0\",\"elset\") # Este viene de la función box_labeling\n",
    "bot_nset= CreateNsetFromElset(inp_f, bot_surf_elset, \"bot\")\n",
    " \n",
    "top_surf_elset = inp_f.select(\"TOP_ZL\",\"elset\") # Este viene de la función box_labeling\n",
    "top_nset= CreateNsetFromElset(inp_f, top_surf_elset, \"top\")\n",
    "\n",
    "mat_m = inp_f.CreateElasticMaterial(\"MAT_1\", 1e6, 0.3)\n",
    "mat_c = inp_f.CreateElasticMaterial(\"MAT_2\", 2e6, 0.3)\n",
    "\n",
    "elset_bot = inp_f.select(\"BOT\",\"elset\")\n",
    "elset_top = inp_f.select(\"TOP\",\"elset\")\n",
    "elset_mid = inp_f.select(\"MIDDLE\",\"elset\")\n",
    "\n",
    "# remove 2d elements\n",
    "# Solo usamos los elementos 2D para crear los nsets\n",
    "# ya no los necesitamos\n",
    "inp_f.remove_by_type(2)\n",
    "\n",
    "# --------------------------------\n",
    "# Section\n",
    "# --------------------------------\n",
    "inp_f.CreateSolidSection(elset_bot,mat_m)\n",
    "inp_f.CreateSolidSection(elset_top,mat_m)\n",
    "\n",
    "inp_f.CreateSolidSection(elset_mid,mat_c)\n",
    "\n",
    "# --------------------------------\n",
    "# Step \n",
    "# --------------------------------\n",
    "istep = inp_f.CreateStaticStep()\n",
    "istep.CreateBoundary(top_nset,3,0.1)\n",
    "istep.CreateBoundary(bot_nset,3,0.0)\n",
    "\n",
    "# remove output folder\n",
    "\n",
    "shutil.rmtree(\"output\", ignore_errors=True)\n",
    "os.mkdir(\"output\")\n",
    "\n",
    "inp_f.run(\"output\")"
   ]
  },
  {
   "cell_type": "code",
   "execution_count": null,
   "metadata": {},
   "outputs": [
    {
     "name": "stdout",
     "output_type": "stream",
     "text": [
      "Running Calculix at:  output\n",
      "Output file:  c:\\Users\\djoroya\\Documents\\GitHub\\CITISENS_Composite\\scripts\\Homogenization_blocks\\output\\out.txt\n",
      "Command:\n",
      " mpiexec -n 4 c:\\Users\\djoroya\\Documents\\GitHub\\CITISENS_Composite\\.conda\\Lib\\site-packages\\djccx\\bin\\ccx_dynamic.exe main\n",
      "Error reading cvf file\n",
      "\n",
      "pid:  15628 \n",
      "\n"
     ]
    }
   ],
   "source": []
  },
  {
   "cell_type": "code",
   "execution_count": 5,
   "metadata": {},
   "outputs": [],
   "source": [
    "inp_f.print(\"cube_with_nset.inp\")"
   ]
  }
 ],
 "metadata": {
  "kernelspec": {
   "display_name": ".conda",
   "language": "python",
   "name": "python3"
  },
  "language_info": {
   "codemirror_mode": {
    "name": "ipython",
    "version": 3
   },
   "file_extension": ".py",
   "mimetype": "text/x-python",
   "name": "python",
   "nbconvert_exporter": "python",
   "pygments_lexer": "ipython3",
   "version": "3.11.10"
  }
 },
 "nbformat": 4,
 "nbformat_minor": 2
}
