{
 "cells": [
  {
   "cell_type": "code",
   "execution_count": 110,
   "metadata": {},
   "outputs": [],
   "source": [
    "from functions.FullBending import FullBending\n",
    "import pandas as pd"
   ]
  },
  {
   "cell_type": "markdown",
   "metadata": {},
   "source": []
  },
  {
   "cell_type": "code",
   "execution_count": 111,
   "metadata": {},
   "outputs": [],
   "source": [
    "# E [GPa]\n",
    "# nucleo\t4.22\n",
    "# X\t26.95\n",
    "# SX\t13.57\n",
    "# Y\t97.86\n",
    "# SY\t4.22\n",
    "\n",
    "df_layers = pd.DataFrame({ 'E': [0.800000,\n",
    "                                 5.198613, \n",
    "                                 2.814443, \n",
    "                                 21.284290, \n",
    "                                 5.775806]}, index=['nucleo', 'X', 'SX', 'Y', 'SY'])"
   ]
  },
  {
   "cell_type": "code",
   "execution_count": 112,
   "metadata": {},
   "outputs": [
    {
     "data": {
      "text/html": [
       "<div>\n",
       "<style scoped>\n",
       "    .dataframe tbody tr th:only-of-type {\n",
       "        vertical-align: middle;\n",
       "    }\n",
       "\n",
       "    .dataframe tbody tr th {\n",
       "        vertical-align: top;\n",
       "    }\n",
       "\n",
       "    .dataframe thead th {\n",
       "        text-align: right;\n",
       "    }\n",
       "</style>\n",
       "<table border=\"1\" class=\"dataframe\">\n",
       "  <thead>\n",
       "    <tr style=\"text-align: right;\">\n",
       "      <th></th>\n",
       "      <th>E</th>\n",
       "    </tr>\n",
       "  </thead>\n",
       "  <tbody>\n",
       "    <tr>\n",
       "      <th>nucleo</th>\n",
       "      <td>0.800000</td>\n",
       "    </tr>\n",
       "    <tr>\n",
       "      <th>X</th>\n",
       "      <td>5.198613</td>\n",
       "    </tr>\n",
       "    <tr>\n",
       "      <th>SX</th>\n",
       "      <td>2.814443</td>\n",
       "    </tr>\n",
       "    <tr>\n",
       "      <th>Y</th>\n",
       "      <td>21.284290</td>\n",
       "    </tr>\n",
       "    <tr>\n",
       "      <th>SY</th>\n",
       "      <td>5.775806</td>\n",
       "    </tr>\n",
       "  </tbody>\n",
       "</table>\n",
       "</div>"
      ],
      "text/plain": [
       "                E\n",
       "nucleo   0.800000\n",
       "X        5.198613\n",
       "SX       2.814443\n",
       "Y       21.284290\n",
       "SY       5.775806"
      ]
     },
     "execution_count": 112,
     "metadata": {},
     "output_type": "execute_result"
    }
   ],
   "source": [
    "df_layers"
   ]
  },
  {
   "cell_type": "code",
   "execution_count": 113,
   "metadata": {},
   "outputs": [],
   "source": [
    "from validation.BendingExperimental import BendingExperimental\n",
    "\n",
    "r = BendingExperimental()\n",
    "\n",
    "df_stats = r[\"df_stats\"]\n",
    "\n",
    "# layers = df_stats[\"layers\"]\n",
    "# layers[0] = [\"Y\",\"Y\"]\n",
    "# df_stats[\"layers\"] = layers"
   ]
  },
  {
   "cell_type": "code",
   "execution_count": 114,
   "metadata": {},
   "outputs": [
    {
     "data": {
      "text/html": [
       "<div>\n",
       "<style scoped>\n",
       "    .dataframe tbody tr th:only-of-type {\n",
       "        vertical-align: middle;\n",
       "    }\n",
       "\n",
       "    .dataframe tbody tr th {\n",
       "        vertical-align: top;\n",
       "    }\n",
       "\n",
       "    .dataframe thead tr th {\n",
       "        text-align: left;\n",
       "    }\n",
       "\n",
       "    .dataframe thead tr:last-of-type th {\n",
       "        text-align: right;\n",
       "    }\n",
       "</style>\n",
       "<table border=\"1\" class=\"dataframe\">\n",
       "  <thead>\n",
       "    <tr>\n",
       "      <th></th>\n",
       "      <th colspan=\"2\" halign=\"left\">Eb [GPa]</th>\n",
       "      <th colspan=\"2\" halign=\"left\">t [mm]</th>\n",
       "      <th colspan=\"2\" halign=\"left\">b [mm]</th>\n",
       "      <th colspan=\"2\" halign=\"left\">Sb [MPa]</th>\n",
       "      <th>layers</th>\n",
       "      <th>v [X,SX,Y,SY]</th>\n",
       "      <th>ni</th>\n",
       "    </tr>\n",
       "    <tr>\n",
       "      <th></th>\n",
       "      <th>mean</th>\n",
       "      <th>std</th>\n",
       "      <th>mean</th>\n",
       "      <th>std</th>\n",
       "      <th>mean</th>\n",
       "      <th>std</th>\n",
       "      <th>mean</th>\n",
       "      <th>std</th>\n",
       "      <th></th>\n",
       "      <th></th>\n",
       "      <th></th>\n",
       "    </tr>\n",
       "    <tr>\n",
       "      <th>Name</th>\n",
       "      <th></th>\n",
       "      <th></th>\n",
       "      <th></th>\n",
       "      <th></th>\n",
       "      <th></th>\n",
       "      <th></th>\n",
       "      <th></th>\n",
       "      <th></th>\n",
       "      <th></th>\n",
       "      <th></th>\n",
       "      <th></th>\n",
       "    </tr>\n",
       "  </thead>\n",
       "  <tbody>\n",
       "    <tr>\n",
       "      <th>TFP1</th>\n",
       "      <td>13.201050</td>\n",
       "      <td>0.630858</td>\n",
       "      <td>5.266667</td>\n",
       "      <td>0.057735</td>\n",
       "      <td>25.600000</td>\n",
       "      <td>0.100000</td>\n",
       "      <td>134.996667</td>\n",
       "      <td>18.942693</td>\n",
       "      <td>[Y]</td>\n",
       "      <td>[0, 0, 1, 0]</td>\n",
       "      <td>1</td>\n",
       "    </tr>\n",
       "    <tr>\n",
       "      <th>TFP2</th>\n",
       "      <td>9.869501</td>\n",
       "      <td>0.780113</td>\n",
       "      <td>4.700000</td>\n",
       "      <td>0.000000</td>\n",
       "      <td>25.566667</td>\n",
       "      <td>0.057735</td>\n",
       "      <td>117.430000</td>\n",
       "      <td>15.759607</td>\n",
       "      <td>[Y, X]</td>\n",
       "      <td>[1, 0, 1, 0]</td>\n",
       "      <td>2</td>\n",
       "    </tr>\n",
       "    <tr>\n",
       "      <th>TFP3</th>\n",
       "      <td>9.222003</td>\n",
       "      <td>0.495965</td>\n",
       "      <td>4.833333</td>\n",
       "      <td>0.057735</td>\n",
       "      <td>25.400000</td>\n",
       "      <td>0.173205</td>\n",
       "      <td>128.053333</td>\n",
       "      <td>5.337905</td>\n",
       "      <td>[Y, SX]</td>\n",
       "      <td>[0, 1, 1, 0]</td>\n",
       "      <td>2</td>\n",
       "    </tr>\n",
       "    <tr>\n",
       "      <th>TFP4</th>\n",
       "      <td>10.181815</td>\n",
       "      <td>0.770635</td>\n",
       "      <td>4.700000</td>\n",
       "      <td>0.000000</td>\n",
       "      <td>25.666667</td>\n",
       "      <td>0.152753</td>\n",
       "      <td>141.703333</td>\n",
       "      <td>7.525386</td>\n",
       "      <td>[Y, SY]</td>\n",
       "      <td>[0, 0, 1, 1]</td>\n",
       "      <td>2</td>\n",
       "    </tr>\n",
       "    <tr>\n",
       "      <th>TFP5</th>\n",
       "      <td>6.143105</td>\n",
       "      <td>0.161637</td>\n",
       "      <td>5.700000</td>\n",
       "      <td>0.000000</td>\n",
       "      <td>25.166667</td>\n",
       "      <td>0.152753</td>\n",
       "      <td>107.433333</td>\n",
       "      <td>3.902939</td>\n",
       "      <td>[Y, SX, SY]</td>\n",
       "      <td>[0, 1, 1, 1]</td>\n",
       "      <td>3</td>\n",
       "    </tr>\n",
       "    <tr>\n",
       "      <th>TFP6</th>\n",
       "      <td>7.798060</td>\n",
       "      <td>0.334186</td>\n",
       "      <td>5.600000</td>\n",
       "      <td>0.000000</td>\n",
       "      <td>25.033333</td>\n",
       "      <td>0.635085</td>\n",
       "      <td>114.306667</td>\n",
       "      <td>11.800790</td>\n",
       "      <td>[Y, X, SY]</td>\n",
       "      <td>[1, 0, 1, 1]</td>\n",
       "      <td>3</td>\n",
       "    </tr>\n",
       "  </tbody>\n",
       "</table>\n",
       "</div>"
      ],
      "text/plain": [
       "       Eb [GPa]              t [mm]               b [mm]            \\\n",
       "           mean       std      mean       std       mean       std   \n",
       "Name                                                                 \n",
       "TFP1  13.201050  0.630858  5.266667  0.057735  25.600000  0.100000   \n",
       "TFP2   9.869501  0.780113  4.700000  0.000000  25.566667  0.057735   \n",
       "TFP3   9.222003  0.495965  4.833333  0.057735  25.400000  0.173205   \n",
       "TFP4  10.181815  0.770635  4.700000  0.000000  25.666667  0.152753   \n",
       "TFP5   6.143105  0.161637  5.700000  0.000000  25.166667  0.152753   \n",
       "TFP6   7.798060  0.334186  5.600000  0.000000  25.033333  0.635085   \n",
       "\n",
       "        Sb [MPa]                  layers v [X,SX,Y,SY] ni  \n",
       "            mean        std                                \n",
       "Name                                                       \n",
       "TFP1  134.996667  18.942693          [Y]  [0, 0, 1, 0]  1  \n",
       "TFP2  117.430000  15.759607       [Y, X]  [1, 0, 1, 0]  2  \n",
       "TFP3  128.053333   5.337905      [Y, SX]  [0, 1, 1, 0]  2  \n",
       "TFP4  141.703333   7.525386      [Y, SY]  [0, 0, 1, 1]  2  \n",
       "TFP5  107.433333   3.902939  [Y, SX, SY]  [0, 1, 1, 1]  3  \n",
       "TFP6  114.306667  11.800790   [Y, X, SY]  [1, 0, 1, 1]  3  "
      ]
     },
     "execution_count": 114,
     "metadata": {},
     "output_type": "execute_result"
    }
   ],
   "source": [
    "df_stats"
   ]
  },
  {
   "cell_type": "code",
   "execution_count": 115,
   "metadata": {},
   "outputs": [
    {
     "name": "stdout",
     "output_type": "stream",
     "text": [
      "\n",
      "\n",
      "Layers:  ['Y'] \n",
      "\n",
      "\n",
      "{'geo': {'t_n': 3.0734, 't_l': 0.85424, 'Lx': 30, 'meshsizefactor': 1.1}, 'sim': {'disp': 5.0, 'opt': {'OMP_NUM_THREADS': 4, 'mpi_np': 4, 'mpi': True}}}\n",
      "Running Calculix at:  output\\sim\n",
      "Output file:  c:\\Users\\djoroya\\Documents\\GitHub\\CITISENS_Composite_v2\\scripts\\T02_Modelo_MultiCapa\\T01_NumericalBasic\\output\\sim\\out.txt\n",
      "Command:\n",
      " C:\\Program Files\\Microsoft MPI\\Bin\\mpiexec -n 4 c:\\Users\\djoroya\\Documents\\GitHub\\CITISENS_Composite_v2\\.conda\\Lib\\site-packages\\djccx\\bin\\ccx_dynamic.exe main\n",
      "Error reading cvf file\n",
      "\n",
      "pid:  12420 \n",
      "\n",
      "Calculix finished\n",
      "\n"
     ]
    }
   ],
   "source": [
    "\n",
    "import os \n",
    "from copy import deepcopy\n",
    "join = os.path.join\n",
    "\n",
    "E_pred = []\n",
    "\n",
    "if not os.path.exists(\"output\"):\n",
    "    os.mkdir(\"output\")\n",
    "\n",
    "params = {\n",
    "            \"geo\" : {\n",
    "                        \"t_n\" : 3.073400,\n",
    "                        \"t_l\" : 2*0.427120,\n",
    "                        \"Lx\"  : 30,\n",
    "                        \"meshsizefactor\" : 1.1\n",
    "                    },\n",
    "            \"sim\" : {\n",
    "                        \"disp\" : 5.0,\n",
    "                        \"opt\": {\n",
    "                                \"OMP_NUM_THREADS\":4,\n",
    "                                \"mpi_np\":4,\n",
    "                                \"mpi\":True\n",
    "                                },\n",
    "                    },\n",
    "        }\n",
    "\n",
    "\n",
    "all_params = []\n",
    "\n",
    "id_design = 0\n",
    "E_n =   df_layers.loc[\"nucleo\"].values[-1]*1e3\n",
    "\n",
    "lyrs = df_stats[\"layers\"].iloc[id_design]\n",
    "\n",
    "print(\"\\n\\nLayers: \", lyrs, \"\\n\\n\")\n",
    "E_l = df_layers.loc[lyrs][\"E\"].values*1e3 # MPa\n",
    "name_mat = df_stats[\"layers\"].iloc[id_design]\n",
    "name = df_stats.index[id_design]\n",
    "B    = df_stats[\"b [mm]\"][\"mean\"].iloc[id_design]\n",
    "\n",
    "params_loop = deepcopy(params)\n",
    "\n",
    "B = 25\n",
    "params_loop[\"geo\"][\"Ly\"] = B\n",
    "params_loop[\"sim\"][\"E_n\"] = E_n\n",
    "params_loop[\"sim\"][\"E_l\"] = E_l\n",
    "params_loop[\"sim\"][\"name_mat\"] = name_mat\n",
    "params_loop[\"output_folder\"] = join(\"output\")\n",
    "\n",
    "print(params)\n",
    "inp_f = FullBending(params_loop)\n",
    "Eflex_FEM = params_loop[\"Eflex\"]\n"
   ]
  },
  {
   "cell_type": "code",
   "execution_count": 116,
   "metadata": {},
   "outputs": [],
   "source": [
    "def E_flex_inercia(E_n,E_l,t_n,t_l,B):\n",
    "\n",
    "    t_t = t_n + 2*t_l\n",
    "    # print(t_t)\n",
    "\n",
    "    yG = t_n*0.5 + t_l*0.5\n",
    "\n",
    "    I_tot = (1/12)*B*t_t**3\n",
    "    I_l   = (1/12)*B*t_l**3 + B*t_l*yG**2\n",
    "    I_n   = (1/12)*B*t_n**3 \n",
    "\n",
    "\n",
    "    Eflex = (E_n*I_n + 2*E_l*I_l)/(I_tot)\n",
    "\n",
    "    return Eflex*1e-3 # GPa"
   ]
  },
  {
   "cell_type": "code",
   "execution_count": 117,
   "metadata": {},
   "outputs": [],
   "source": [
    "t_n = params_loop[\"geo\"][\"t_n\"]\n",
    "t_l = params_loop[\"geo\"][\"t_l\"]"
   ]
  },
  {
   "cell_type": "code",
   "execution_count": 118,
   "metadata": {},
   "outputs": [
    {
     "name": "stdout",
     "output_type": "stream",
     "text": [
      "E_n 800.0\n",
      "E_l 21284.289999999997\n",
      "tn 3.0734\n",
      "tl 0.85424\n",
      "B 25\n"
     ]
    }
   ],
   "source": [
    "print(\"E_n\", E_n)\n",
    "print(\"E_l\", E_l[0])\n",
    "print(\"tn\",t_n)\n",
    "print(\"tl\",t_l)\n",
    "print(\"B\",B)"
   ]
  },
  {
   "cell_type": "code",
   "execution_count": 119,
   "metadata": {},
   "outputs": [],
   "source": [
    "Eflex_pred_inercia = E_flex_inercia(E_n,E_l[0],t_n,t_l,B)"
   ]
  },
  {
   "cell_type": "code",
   "execution_count": 120,
   "metadata": {},
   "outputs": [],
   "source": [
    "def E_tracion_an(E_n,E_l,t_n,t_l):\n",
    "\n",
    "    t_t = t_n + 2*t_l\n",
    "\n",
    "    Etrac = (E_n*t_n + 2*E_l*t_l)/(t_t)\n",
    "\n",
    "    return Etrac*1e-3 # GPa"
   ]
  },
  {
   "cell_type": "code",
   "execution_count": 121,
   "metadata": {},
   "outputs": [],
   "source": [
    "from AnalyticalLayers.models import E_flexion  as E_flexion_fcn"
   ]
  },
  {
   "cell_type": "code",
   "execution_count": 122,
   "metadata": {},
   "outputs": [],
   "source": [
    "t_n = params_loop[\"geo\"][\"t_n\"]\n",
    "t_l = params_loop[\"geo\"][\"t_l\"]\n",
    "\n",
    "Eflex_pred = E_flex_inercia(E_n,\n",
    "                          E_l[0],\n",
    "                          t_n,\n",
    "                          t_l,B)\n",
    "\n",
    "Eflex_pred_fcn = E_flexion_fcn(E_n,\n",
    "                           [0,0,E_l[0],0],\n",
    "                           t_n,\n",
    "                           t_l,layers=lyrs)\n",
    "Eflex_pred_fcn = Eflex_pred_fcn*1e-3"
   ]
  },
  {
   "cell_type": "code",
   "execution_count": 123,
   "metadata": {},
   "outputs": [
    {
     "name": "stdout",
     "output_type": "stream",
     "text": [
      "Analitico:  15.845752140285697\n",
      "Simulado:  12.136144746821191\n",
      "Analitico fcn:  15.845752140285692\n"
     ]
    }
   ],
   "source": [
    "Eflex_pred - params_loop[\"Eflex\"]\n",
    "\n",
    "print(\"Analitico: \", Eflex_pred)\n",
    "print(\"Simulado: \", Eflex_FEM)\n",
    "print(\"Analitico fcn: \", Eflex_pred_fcn)    \n"
   ]
  },
  {
   "cell_type": "code",
   "execution_count": 124,
   "metadata": {},
   "outputs": [
    {
     "name": "stdout",
     "output_type": "stream",
     "text": [
      "Error (%) :  30.56660472376254\n"
     ]
    }
   ],
   "source": [
    "print(\"Error (%) : \", abs(Eflex_pred - Eflex_FEM)/Eflex_FEM*100)"
   ]
  },
  {
   "cell_type": "code",
   "execution_count": 126,
   "metadata": {},
   "outputs": [
    {
     "data": {
      "text/html": [
       "<div>\n",
       "<style scoped>\n",
       "    .dataframe tbody tr th:only-of-type {\n",
       "        vertical-align: middle;\n",
       "    }\n",
       "\n",
       "    .dataframe tbody tr th {\n",
       "        vertical-align: top;\n",
       "    }\n",
       "\n",
       "    .dataframe thead th {\n",
       "        text-align: right;\n",
       "    }\n",
       "</style>\n",
       "<table border=\"1\" class=\"dataframe\">\n",
       "  <thead>\n",
       "    <tr style=\"text-align: right;\">\n",
       "      <th></th>\n",
       "      <th>x</th>\n",
       "      <th>y</th>\n",
       "      <th>z</th>\n",
       "      <th>D1</th>\n",
       "      <th>D2</th>\n",
       "      <th>D3</th>\n",
       "      <th>SXX</th>\n",
       "      <th>SYY</th>\n",
       "      <th>SZZ</th>\n",
       "      <th>SXY</th>\n",
       "      <th>...</th>\n",
       "      <th>EYZ</th>\n",
       "      <th>EZX</th>\n",
       "      <th>F1</th>\n",
       "      <th>F2</th>\n",
       "      <th>F3</th>\n",
       "      <th>STR(%)</th>\n",
       "      <th>S_von_mises</th>\n",
       "      <th>P1</th>\n",
       "      <th>P2</th>\n",
       "      <th>P3</th>\n",
       "    </tr>\n",
       "    <tr>\n",
       "      <th>nid</th>\n",
       "      <th></th>\n",
       "      <th></th>\n",
       "      <th></th>\n",
       "      <th></th>\n",
       "      <th></th>\n",
       "      <th></th>\n",
       "      <th></th>\n",
       "      <th></th>\n",
       "      <th></th>\n",
       "      <th></th>\n",
       "      <th></th>\n",
       "      <th></th>\n",
       "      <th></th>\n",
       "      <th></th>\n",
       "      <th></th>\n",
       "      <th></th>\n",
       "      <th></th>\n",
       "      <th></th>\n",
       "      <th></th>\n",
       "      <th></th>\n",
       "      <th></th>\n",
       "    </tr>\n",
       "  </thead>\n",
       "  <tbody>\n",
       "    <tr>\n",
       "      <th>87</th>\n",
       "      <td>0.0</td>\n",
       "      <td>12.500000</td>\n",
       "      <td>-1.536700</td>\n",
       "      <td>0.0</td>\n",
       "      <td>0.080191</td>\n",
       "      <td>-4.91863</td>\n",
       "      <td>141.1940</td>\n",
       "      <td>-8.61114</td>\n",
       "      <td>-6.789410</td>\n",
       "      <td>0.001340</td>\n",
       "      <td>...</td>\n",
       "      <td>5.909790e-05</td>\n",
       "      <td>-1.504610e-06</td>\n",
       "      <td>-2.220540</td>\n",
       "      <td>-3.497720e-12</td>\n",
       "      <td>1.173450e-10</td>\n",
       "      <td>4.79477</td>\n",
       "      <td>148.902685</td>\n",
       "      <td>141.194001</td>\n",
       "      <td>-6.786652</td>\n",
       "      <td>-8.613899</td>\n",
       "    </tr>\n",
       "    <tr>\n",
       "      <th>167</th>\n",
       "      <td>0.0</td>\n",
       "      <td>12.500000</td>\n",
       "      <td>1.536700</td>\n",
       "      <td>0.0</td>\n",
       "      <td>0.080474</td>\n",
       "      <td>-4.99482</td>\n",
       "      <td>66.8128</td>\n",
       "      <td>53.84730</td>\n",
       "      <td>-42.807600</td>\n",
       "      <td>-0.136023</td>\n",
       "      <td>...</td>\n",
       "      <td>1.350990e-04</td>\n",
       "      <td>-9.849640e-05</td>\n",
       "      <td>-0.456047</td>\n",
       "      <td>-4.249300e-12</td>\n",
       "      <td>4.190830e-11</td>\n",
       "      <td>16.61460</td>\n",
       "      <td>103.758902</td>\n",
       "      <td>66.820661</td>\n",
       "      <td>53.846856</td>\n",
       "      <td>-42.815017</td>\n",
       "    </tr>\n",
       "    <tr>\n",
       "      <th>206</th>\n",
       "      <td>0.0</td>\n",
       "      <td>12.500000</td>\n",
       "      <td>-2.390940</td>\n",
       "      <td>0.0</td>\n",
       "      <td>0.080230</td>\n",
       "      <td>-4.91144</td>\n",
       "      <td>787.7340</td>\n",
       "      <td>129.94700</td>\n",
       "      <td>0.020464</td>\n",
       "      <td>-0.012553</td>\n",
       "      <td>...</td>\n",
       "      <td>5.091580e-07</td>\n",
       "      <td>-3.971200e-06</td>\n",
       "      <td>-5.324260</td>\n",
       "      <td>3.392410e-11</td>\n",
       "      <td>-7.637820e-11</td>\n",
       "      <td>2.32509</td>\n",
       "      <td>731.456521</td>\n",
       "      <td>787.734006</td>\n",
       "      <td>129.947000</td>\n",
       "      <td>0.020458</td>\n",
       "    </tr>\n",
       "    <tr>\n",
       "      <th>293</th>\n",
       "      <td>0.0</td>\n",
       "      <td>12.500000</td>\n",
       "      <td>2.390940</td>\n",
       "      <td>0.0</td>\n",
       "      <td>0.080294</td>\n",
       "      <td>-5.00000</td>\n",
       "      <td>-1804.0400</td>\n",
       "      <td>-843.92600</td>\n",
       "      <td>-1333.240000</td>\n",
       "      <td>-14.681400</td>\n",
       "      <td>...</td>\n",
       "      <td>4.157180e-04</td>\n",
       "      <td>3.737830e-02</td>\n",
       "      <td>12.212100</td>\n",
       "      <td>-6.566520e-12</td>\n",
       "      <td>-9.173250e+00</td>\n",
       "      <td>12.78410</td>\n",
       "      <td>1347.511295</td>\n",
       "      <td>-843.636376</td>\n",
       "      <td>-913.054574</td>\n",
       "      <td>-2224.515050</td>\n",
       "    </tr>\n",
       "    <tr>\n",
       "      <th>1387</th>\n",
       "      <td>0.0</td>\n",
       "      <td>12.489658</td>\n",
       "      <td>-2.190312</td>\n",
       "      <td>0.0</td>\n",
       "      <td>0.080270</td>\n",
       "      <td>-4.91382</td>\n",
       "      <td>665.1490</td>\n",
       "      <td>95.73970</td>\n",
       "      <td>-0.390082</td>\n",
       "      <td>-0.019584</td>\n",
       "      <td>...</td>\n",
       "      <td>4.771470e-06</td>\n",
       "      <td>-5.010510e-07</td>\n",
       "      <td>-0.045445</td>\n",
       "      <td>-1.682060e-10</td>\n",
       "      <td>-5.514810e-11</td>\n",
       "      <td>5.09073</td>\n",
       "      <td>623.061070</td>\n",
       "      <td>665.149001</td>\n",
       "      <td>95.739763</td>\n",
       "      <td>-0.390146</td>\n",
       "    </tr>\n",
       "    <tr>\n",
       "      <th>...</th>\n",
       "      <td>...</td>\n",
       "      <td>...</td>\n",
       "      <td>...</td>\n",
       "      <td>...</td>\n",
       "      <td>...</td>\n",
       "      <td>...</td>\n",
       "      <td>...</td>\n",
       "      <td>...</td>\n",
       "      <td>...</td>\n",
       "      <td>...</td>\n",
       "      <td>...</td>\n",
       "      <td>...</td>\n",
       "      <td>...</td>\n",
       "      <td>...</td>\n",
       "      <td>...</td>\n",
       "      <td>...</td>\n",
       "      <td>...</td>\n",
       "      <td>...</td>\n",
       "      <td>...</td>\n",
       "      <td>...</td>\n",
       "      <td>...</td>\n",
       "    </tr>\n",
       "    <tr>\n",
       "      <th>2767</th>\n",
       "      <td>0.0</td>\n",
       "      <td>12.554376</td>\n",
       "      <td>2.090789</td>\n",
       "      <td>0.0</td>\n",
       "      <td>0.080579</td>\n",
       "      <td>-4.99581</td>\n",
       "      <td>-680.1150</td>\n",
       "      <td>-174.49500</td>\n",
       "      <td>-315.275000</td>\n",
       "      <td>-4.877620</td>\n",
       "      <td>...</td>\n",
       "      <td>7.037620e-04</td>\n",
       "      <td>3.144520e-03</td>\n",
       "      <td>10.818800</td>\n",
       "      <td>1.302560e-11</td>\n",
       "      <td>1.799200e-10</td>\n",
       "      <td>14.03510</td>\n",
       "      <td>461.205804</td>\n",
       "      <td>-173.557188</td>\n",
       "      <td>-309.006765</td>\n",
       "      <td>-687.321047</td>\n",
       "    </tr>\n",
       "    <tr>\n",
       "      <th>2769</th>\n",
       "      <td>0.0</td>\n",
       "      <td>12.503409</td>\n",
       "      <td>1.994489</td>\n",
       "      <td>0.0</td>\n",
       "      <td>0.080327</td>\n",
       "      <td>-4.99569</td>\n",
       "      <td>-513.0830</td>\n",
       "      <td>-102.23300</td>\n",
       "      <td>-182.914000</td>\n",
       "      <td>-2.773730</td>\n",
       "      <td>...</td>\n",
       "      <td>5.524330e-04</td>\n",
       "      <td>1.080390e-03</td>\n",
       "      <td>8.154370</td>\n",
       "      <td>-4.391200e-11</td>\n",
       "      <td>-1.296380e-10</td>\n",
       "      <td>13.70970</td>\n",
       "      <td>378.637743</td>\n",
       "      <td>-101.229866</td>\n",
       "      <td>-182.946462</td>\n",
       "      <td>-514.053672</td>\n",
       "    </tr>\n",
       "    <tr>\n",
       "      <th>2770</th>\n",
       "      <td>0.0</td>\n",
       "      <td>12.449033</td>\n",
       "      <td>2.113958</td>\n",
       "      <td>0.0</td>\n",
       "      <td>0.079954</td>\n",
       "      <td>-4.99601</td>\n",
       "      <td>-722.1250</td>\n",
       "      <td>-210.75400</td>\n",
       "      <td>-358.089000</td>\n",
       "      <td>-0.026715</td>\n",
       "      <td>...</td>\n",
       "      <td>5.720510e-05</td>\n",
       "      <td>4.173260e-03</td>\n",
       "      <td>9.140300</td>\n",
       "      <td>-4.011900e-12</td>\n",
       "      <td>-2.046520e-10</td>\n",
       "      <td>13.15690</td>\n",
       "      <td>471.034334</td>\n",
       "      <td>-210.747700</td>\n",
       "      <td>-345.693312</td>\n",
       "      <td>-734.526988</td>\n",
       "    </tr>\n",
       "    <tr>\n",
       "      <th>2774</th>\n",
       "      <td>0.0</td>\n",
       "      <td>12.554433</td>\n",
       "      <td>1.862572</td>\n",
       "      <td>0.0</td>\n",
       "      <td>0.080612</td>\n",
       "      <td>-4.99562</td>\n",
       "      <td>-332.4880</td>\n",
       "      <td>-32.04680</td>\n",
       "      <td>-119.923000</td>\n",
       "      <td>-2.065190</td>\n",
       "      <td>...</td>\n",
       "      <td>1.830060e-04</td>\n",
       "      <td>-1.993510e-04</td>\n",
       "      <td>5.939080</td>\n",
       "      <td>-3.814080e-11</td>\n",
       "      <td>-1.255120e-10</td>\n",
       "      <td>18.65330</td>\n",
       "      <td>267.688620</td>\n",
       "      <td>-31.929009</td>\n",
       "      <td>-119.977120</td>\n",
       "      <td>-332.551671</td>\n",
       "    </tr>\n",
       "    <tr>\n",
       "      <th>2780</th>\n",
       "      <td>0.0</td>\n",
       "      <td>12.449089</td>\n",
       "      <td>1.885741</td>\n",
       "      <td>0.0</td>\n",
       "      <td>0.080098</td>\n",
       "      <td>-4.99577</td>\n",
       "      <td>-367.8540</td>\n",
       "      <td>-50.00240</td>\n",
       "      <td>-145.766000</td>\n",
       "      <td>-0.631522</td>\n",
       "      <td>...</td>\n",
       "      <td>1.483430e-04</td>\n",
       "      <td>1.051780e-03</td>\n",
       "      <td>7.253770</td>\n",
       "      <td>-9.318070e-11</td>\n",
       "      <td>-1.855470e-10</td>\n",
       "      <td>17.77510</td>\n",
       "      <td>284.025021</td>\n",
       "      <td>-49.940721</td>\n",
       "      <td>-144.498278</td>\n",
       "      <td>-369.183401</td>\n",
       "    </tr>\n",
       "  </tbody>\n",
       "</table>\n",
       "<p>61 rows × 26 columns</p>\n",
       "</div>"
      ],
      "text/plain": [
       "        x          y         z   D1        D2       D3        SXX        SYY  \\\n",
       "nid                                                                            \n",
       "87    0.0  12.500000 -1.536700  0.0  0.080191 -4.91863   141.1940   -8.61114   \n",
       "167   0.0  12.500000  1.536700  0.0  0.080474 -4.99482    66.8128   53.84730   \n",
       "206   0.0  12.500000 -2.390940  0.0  0.080230 -4.91144   787.7340  129.94700   \n",
       "293   0.0  12.500000  2.390940  0.0  0.080294 -5.00000 -1804.0400 -843.92600   \n",
       "1387  0.0  12.489658 -2.190312  0.0  0.080270 -4.91382   665.1490   95.73970   \n",
       "...   ...        ...       ...  ...       ...      ...        ...        ...   \n",
       "2767  0.0  12.554376  2.090789  0.0  0.080579 -4.99581  -680.1150 -174.49500   \n",
       "2769  0.0  12.503409  1.994489  0.0  0.080327 -4.99569  -513.0830 -102.23300   \n",
       "2770  0.0  12.449033  2.113958  0.0  0.079954 -4.99601  -722.1250 -210.75400   \n",
       "2774  0.0  12.554433  1.862572  0.0  0.080612 -4.99562  -332.4880  -32.04680   \n",
       "2780  0.0  12.449089  1.885741  0.0  0.080098 -4.99577  -367.8540  -50.00240   \n",
       "\n",
       "              SZZ        SXY  ...           EYZ           EZX         F1  \\\n",
       "nid                           ...                                          \n",
       "87      -6.789410   0.001340  ...  5.909790e-05 -1.504610e-06  -2.220540   \n",
       "167    -42.807600  -0.136023  ...  1.350990e-04 -9.849640e-05  -0.456047   \n",
       "206      0.020464  -0.012553  ...  5.091580e-07 -3.971200e-06  -5.324260   \n",
       "293  -1333.240000 -14.681400  ...  4.157180e-04  3.737830e-02  12.212100   \n",
       "1387    -0.390082  -0.019584  ...  4.771470e-06 -5.010510e-07  -0.045445   \n",
       "...           ...        ...  ...           ...           ...        ...   \n",
       "2767  -315.275000  -4.877620  ...  7.037620e-04  3.144520e-03  10.818800   \n",
       "2769  -182.914000  -2.773730  ...  5.524330e-04  1.080390e-03   8.154370   \n",
       "2770  -358.089000  -0.026715  ...  5.720510e-05  4.173260e-03   9.140300   \n",
       "2774  -119.923000  -2.065190  ...  1.830060e-04 -1.993510e-04   5.939080   \n",
       "2780  -145.766000  -0.631522  ...  1.483430e-04  1.051780e-03   7.253770   \n",
       "\n",
       "                F2            F3    STR(%)  S_von_mises          P1  \\\n",
       "nid                                                                   \n",
       "87   -3.497720e-12  1.173450e-10   4.79477   148.902685  141.194001   \n",
       "167  -4.249300e-12  4.190830e-11  16.61460   103.758902   66.820661   \n",
       "206   3.392410e-11 -7.637820e-11   2.32509   731.456521  787.734006   \n",
       "293  -6.566520e-12 -9.173250e+00  12.78410  1347.511295 -843.636376   \n",
       "1387 -1.682060e-10 -5.514810e-11   5.09073   623.061070  665.149001   \n",
       "...            ...           ...       ...          ...         ...   \n",
       "2767  1.302560e-11  1.799200e-10  14.03510   461.205804 -173.557188   \n",
       "2769 -4.391200e-11 -1.296380e-10  13.70970   378.637743 -101.229866   \n",
       "2770 -4.011900e-12 -2.046520e-10  13.15690   471.034334 -210.747700   \n",
       "2774 -3.814080e-11 -1.255120e-10  18.65330   267.688620  -31.929009   \n",
       "2780 -9.318070e-11 -1.855470e-10  17.77510   284.025021  -49.940721   \n",
       "\n",
       "              P2           P3  \n",
       "nid                            \n",
       "87     -6.786652    -8.613899  \n",
       "167    53.846856   -42.815017  \n",
       "206   129.947000     0.020458  \n",
       "293  -913.054574 -2224.515050  \n",
       "1387   95.739763    -0.390146  \n",
       "...          ...          ...  \n",
       "2767 -309.006765  -687.321047  \n",
       "2769 -182.946462  -514.053672  \n",
       "2770 -345.693312  -734.526988  \n",
       "2774 -119.977120  -332.551671  \n",
       "2780 -144.498278  -369.183401  \n",
       "\n",
       "[61 rows x 26 columns]"
      ]
     },
     "execution_count": 126,
     "metadata": {},
     "output_type": "execute_result"
    }
   ],
   "source": [
    "x0 = 0\n",
    "y0 = B/2\n",
    "eps = 0.1\n",
    "ifrd = inp_f.frd\n",
    "ifrd = ifrd.copy()\n",
    "\n",
    "ifrd = ifrd[ (ifrd[\"x\"] > x0 - eps) & (ifrd[\"x\"] < x0 + eps) ]\n",
    "ifrd = ifrd[ (ifrd[\"y\"] > y0 - eps) & (ifrd[\"y\"] < y0 + eps) ]\n",
    "ifrd"
   ]
  },
  {
   "cell_type": "code",
   "execution_count": 127,
   "metadata": {},
   "outputs": [],
   "source": [
    "#sort by z\n",
    "ifrd = ifrd.sort_values(\"z\")"
   ]
  },
  {
   "cell_type": "code",
   "execution_count": 128,
   "metadata": {},
   "outputs": [],
   "source": [
    "from matplotlib import pyplot as plt"
   ]
  },
  {
   "cell_type": "code",
   "execution_count": 129,
   "metadata": {},
   "outputs": [
    {
     "data": {
      "text/plain": [
       "(-200.0, 850.0)"
      ]
     },
     "execution_count": 129,
     "metadata": {},
     "output_type": "execute_result"
    },
    {
     "data": {
      "image/png": "[encoded data removed]",
      "text/plain": [
       "<Figure size 640x480 with 1 Axes>"
      ]
     },
     "metadata": {},
     "output_type": "display_data"
    }
   ],
   "source": [
    "# plot \n",
    "plt.plot(ifrd[\"z\"], ifrd[\"P1\"], label=\"P1\",marker=\"o\")\n",
    "plt.ylim([-200,850])"
   ]
  },
  {
   "cell_type": "code",
   "execution_count": 130,
   "metadata": {},
   "outputs": [
    {
     "data": {
      "text/plain": [
       "np.float64(787.734005606278)"
      ]
     },
     "execution_count": 130,
     "metadata": {},
     "output_type": "execute_result"
    }
   ],
   "source": [
    "ifrd[\"P1\"].values[0]"
   ]
  },
  {
   "cell_type": "code",
   "execution_count": 131,
   "metadata": {},
   "outputs": [],
   "source": [
    "E_eff = E_tracion_an(E_n,E_l[0],t_n,t_l)"
   ]
  },
  {
   "cell_type": "code",
   "execution_count": 132,
   "metadata": {},
   "outputs": [
    {
     "data": {
      "text/plain": [
       "np.float64(8.118669598400627)"
      ]
     },
     "execution_count": 132,
     "metadata": {},
     "output_type": "execute_result"
    }
   ],
   "source": [
    "E_eff"
   ]
  },
  {
   "cell_type": "code",
   "execution_count": 133,
   "metadata": {},
   "outputs": [
    {
     "data": {
      "text/plain": [
       "nid\n",
       "206     0.0\n",
       "1488    0.0\n",
       "1489    0.0\n",
       "1493    0.0\n",
       "1387    0.0\n",
       "       ... \n",
       "2650    0.0\n",
       "2754    0.0\n",
       "2753    0.0\n",
       "2752    0.0\n",
       "293     0.0\n",
       "Name: x, Length: 61, dtype: float64"
      ]
     },
     "execution_count": 133,
     "metadata": {},
     "output_type": "execute_result"
    }
   ],
   "source": [
    "ifrd[\"x\"]"
   ]
  },
  {
   "cell_type": "code",
   "execution_count": 134,
   "metadata": {},
   "outputs": [],
   "source": [
    "ifrd = inp_f.frd\n",
    "ifrd = ifrd.copy()\n",
    "# sort \n",
    "ifrd = ifrd.sort_values(\"z\")\n",
    "P = -ifrd[\"F3\"][ifrd[\"x\"] < ifrd[\"x\"].mean()].values\n",
    "# P = ifrd[\"F3\"].values\n",
    "P = 2*P.sum()\n",
    "\n",
    "\n",
    "L = 2*params[\"geo\"][\"Lx\"]\n",
    "tl = params[\"geo\"][\"t_l\"]\n",
    "tn = params[\"geo\"][\"t_n\"]\n",
    "D = 2*tl + tn"
   ]
  },
  {
   "cell_type": "code",
   "execution_count": 135,
   "metadata": {},
   "outputs": [
    {
     "data": {
      "text/plain": [
       "25"
      ]
     },
     "execution_count": 135,
     "metadata": {},
     "output_type": "execute_result"
    }
   ],
   "source": [
    "B"
   ]
  },
  {
   "cell_type": "code",
   "execution_count": 136,
   "metadata": {},
   "outputs": [
    {
     "data": {
      "text/plain": [
       "4.78188"
      ]
     },
     "execution_count": 136,
     "metadata": {},
     "output_type": "execute_result"
    }
   ],
   "source": [
    "D"
   ]
  },
  {
   "cell_type": "code",
   "execution_count": 137,
   "metadata": {},
   "outputs": [
    {
     "data": {
      "text/plain": [
       "np.float64(3071.8006009930928)"
      ]
     },
     "execution_count": 137,
     "metadata": {},
     "output_type": "execute_result"
    }
   ],
   "source": [
    "P"
   ]
  },
  {
   "cell_type": "code",
   "execution_count": 138,
   "metadata": {},
   "outputs": [
    {
     "data": {
      "text/plain": [
       "np.float64(483.6132320160776)"
      ]
     },
     "execution_count": 138,
     "metadata": {},
     "output_type": "execute_result"
    }
   ],
   "source": [
    "sigma_max = (3/2)*P*L/(B*D**2)\n",
    "sigma_max"
   ]
  },
  {
   "cell_type": "code",
   "execution_count": 139,
   "metadata": {},
   "outputs": [],
   "source": [
    "# plot \n",
    "\n",
    "ifrd = ifrd[ (ifrd[\"x\"] > x0 - eps) & (ifrd[\"x\"] < x0 + eps) ]\n",
    "ifrd = ifrd[ (ifrd[\"y\"] > y0 - eps) & (ifrd[\"y\"] < y0 + eps) ]\n"
   ]
  },
  {
   "cell_type": "code",
   "execution_count": 140,
   "metadata": {},
   "outputs": [
    {
     "data": {
      "text/plain": [
       "array([21284.29])"
      ]
     },
     "execution_count": 140,
     "metadata": {},
     "output_type": "execute_result"
    }
   ],
   "source": [
    "E_l"
   ]
  },
  {
   "cell_type": "code",
   "execution_count": 141,
   "metadata": {},
   "outputs": [
    {
     "data": {
      "text/plain": [
       "<matplotlib.legend.Legend at 0x27be7cc9d10>"
      ]
     },
     "execution_count": 141,
     "metadata": {},
     "output_type": "execute_result"
    },
    {
     "data": {
      "image/png": "[encoded data removed]",
      "text/plain": [
       "<Figure size 640x480 with 1 Axes>"
      ]
     },
     "metadata": {},
     "output_type": "display_data"
    }
   ],
   "source": [
    "\n",
    "plt.plot(ifrd[\"z\"], ifrd[\"P1\"], label=\"P1\",marker=\"o\")\n",
    "z = ifrd[\"z\"]\n",
    "zmax = D/2\n",
    "sigma_i_an = -sigma_max*(E_l[0]/E_eff*(z/zmax) )*(z<-t_n/2) + \\\n",
    "             -sigma_max*(E_n/E_eff   *(z/zmax) )*(z>=-t_n/2)*(z<=t_n/2) + \\\n",
    "             -sigma_max*(E_l[0]/E_eff*(z/zmax) )*(z>t_n/2)\n",
    "\n",
    "plt.plot(z, sigma_i_an*1e-3, label=\"Formula\",marker=\"o\")\n",
    "#plt.ylim([-200,850])\n",
    "plt.legend()"
   ]
  },
  {
   "cell_type": "code",
   "execution_count": 142,
   "metadata": {},
   "outputs": [
    {
     "data": {
      "text/plain": [
       "(-100.0, 100.0)"
      ]
     },
     "execution_count": 142,
     "metadata": {},
     "output_type": "execute_result"
    },
    {
     "data": {
      "image/png": "[encoded data removed]",
      "text/plain": [
       "<Figure size 640x480 with 1 Axes>"
      ]
     },
     "metadata": {},
     "output_type": "display_data"
    }
   ],
   "source": [
    "sigma_i_an\n",
    "plt.plot(ifrd[\"z\"], ifrd[\"P1\"], label=\"P1\",marker=\"o\")\n",
    "z = ifrd[\"z\"]\n",
    "zmax = D/2\n",
    "sigma_i_an = -sigma_max*(E_l[0]/E_eff*(z/zmax) )*(z<-t_n/2) + \\\n",
    "             -sigma_max*(E_n/E_eff   *(z/zmax) )*(z>=-t_n/2)*(z<=t_n/2) + \\\n",
    "             -sigma_max*(E_l[0]/E_eff*(z/zmax) )*(z>t_n/2)\n",
    "\n",
    "plt.plot(z, sigma_i_an*1e-3, label=\"Formula\",marker=\"o\")\n",
    "#plt.ylim([-200,850])\n",
    "plt.legend()\n",
    "plt.ylim([-100,100])"
   ]
  },
  {
   "cell_type": "code",
   "execution_count": 143,
   "metadata": {},
   "outputs": [
    {
     "data": {
      "text/plain": [
       "np.float64(15.845752140285697)"
      ]
     },
     "execution_count": 143,
     "metadata": {},
     "output_type": "execute_result"
    }
   ],
   "source": [
    "Eflex_pred"
   ]
  },
  {
   "cell_type": "code",
   "execution_count": 144,
   "metadata": {},
   "outputs": [
    {
     "data": {
      "text/plain": [
       "<matplotlib.legend.Legend at 0x27be95b11d0>"
      ]
     },
     "execution_count": 144,
     "metadata": {},
     "output_type": "execute_result"
    },
    {
     "data": {
      "image/png": "[encoded data removed]",
      "text/plain": [
       "<Figure size 640x480 with 1 Axes>"
      ]
     },
     "metadata": {},
     "output_type": "display_data"
    }
   ],
   "source": [
    "\n",
    "plt.plot(ifrd[\"z\"], ifrd[\"P1\"], label=\"P1\",marker=\"o\")\n",
    "z = ifrd[\"z\"]\n",
    "zmax = D/2\n",
    "sigma_i_an = -sigma_max*((E_l[0]/Eflex_pred)*(z/zmax) )*(z<-t_n/2) + \\\n",
    "             -sigma_max*((E_n   /Eflex_pred)*(z/zmax) )*(z>=-t_n/2)*(z<=t_n/2) + \\\n",
    "             -sigma_max*((E_l[0]/Eflex_pred)*(z/zmax) )*(z>t_n/2)\n",
    "\n",
    "plt.plot(z, sigma_i_an*1e-3, label=\"Formula\",marker=\"o\")\n",
    "#plt.ylim([-200,850])\n",
    "plt.legend()"
   ]
  },
  {
   "cell_type": "code",
   "execution_count": 151,
   "metadata": {},
   "outputs": [
    {
     "data": {
      "text/plain": [
       "(-100.0, 100.0)"
      ]
     },
     "execution_count": 151,
     "metadata": {},
     "output_type": "execute_result"
    },
    {
     "data": {
      "image/png": "[encoded data removed]",
      "text/plain": [
       "<Figure size 640x480 with 1 Axes>"
      ]
     },
     "metadata": {},
     "output_type": "display_data"
    }
   ],
   "source": [
    "\n",
    "plt.plot(ifrd[\"z\"], ifrd[\"P1\"], label=\"P1\",marker=\"o\")\n",
    "z = ifrd[\"z\"]\n",
    "zmax = D/2\n",
    "sigma_i_an = -sigma_max*((E_l[0]/Eflex_pred)*(z/zmax) )*(z<-t_n/2) + \\\n",
    "             -sigma_max*((E_n   /Eflex_pred)*(z/zmax) )*(z>=-t_n/2)*(z<=t_n/2) + \\\n",
    "             -sigma_max*((E_l[0]/Eflex_pred)*(z/zmax) )*(z>t_n/2)\n",
    "\n",
    "plt.plot(z, sigma_i_an*1e-3, label=\"Formula\",marker=\"o\")\n",
    "#plt.ylim([-200,850])\n",
    "plt.legend()\n",
    "plt.ylim([-100,100])"
   ]
  },
  {
   "cell_type": "code",
   "execution_count": 145,
   "metadata": {},
   "outputs": [
    {
     "data": {
      "text/plain": [
       "4.78188"
      ]
     },
     "execution_count": 145,
     "metadata": {},
     "output_type": "execute_result"
    }
   ],
   "source": [
    "D"
   ]
  },
  {
   "cell_type": "code",
   "execution_count": 146,
   "metadata": {},
   "outputs": [],
   "source": [
    "U = params[\"sim\"][\"disp\"]\n",
    "E_flexion_formula = P*L**3/(4*U*B*D**3)*1e-3"
   ]
  },
  {
   "cell_type": "code",
   "execution_count": 147,
   "metadata": {},
   "outputs": [
    {
     "data": {
      "text/plain": [
       "np.float64(12.136144746821191)"
      ]
     },
     "execution_count": 147,
     "metadata": {},
     "output_type": "execute_result"
    }
   ],
   "source": [
    "E_flexion_formula"
   ]
  },
  {
   "cell_type": "code",
   "execution_count": 148,
   "metadata": {},
   "outputs": [
    {
     "data": {
      "text/plain": [
       "np.float64(15.845752140285697)"
      ]
     },
     "execution_count": 148,
     "metadata": {},
     "output_type": "execute_result"
    }
   ],
   "source": [
    "Eflex_pred"
   ]
  },
  {
   "cell_type": "code",
   "execution_count": 149,
   "metadata": {},
   "outputs": [
    {
     "data": {
      "text/plain": [
       "np.float64(8.118669598400627)"
      ]
     },
     "execution_count": 149,
     "metadata": {},
     "output_type": "execute_result"
    }
   ],
   "source": [
    "E_eff"
   ]
  },
  {
   "cell_type": "code",
   "execution_count": 150,
   "metadata": {},
   "outputs": [
    {
     "data": {
      "text/plain": [
       "np.float64(13.336422798704605)"
      ]
     },
     "execution_count": 150,
     "metadata": {},
     "output_type": "execute_result"
    }
   ],
   "source": [
    "E_flexion_formula/(1-0.3**2)"
   ]
  },
  {
   "cell_type": "code",
   "execution_count": null,
   "metadata": {},
   "outputs": [],
   "source": []
  },
  {
   "cell_type": "code",
   "execution_count": null,
   "metadata": {},
   "outputs": [],
   "source": []
  },
  {
   "cell_type": "code",
   "execution_count": null,
   "metadata": {},
   "outputs": [],
   "source": []
  }
 ],
 "metadata": {
  "kernelspec": {
   "display_name": "Python 3",
   "language": "python",
   "name": "python3"
  },
  "language_info": {
   "codemirror_mode": {
    "name": "ipython",
    "version": 3
   },
   "file_extension": ".py",
   "mimetype": "text/x-python",
   "name": "python",
   "nbconvert_exporter": "python",
   "pygments_lexer": "ipython3",
   "version": "3.13.2"
  }
 },
 "nbformat": 4,
 "nbformat_minor": 2
}
