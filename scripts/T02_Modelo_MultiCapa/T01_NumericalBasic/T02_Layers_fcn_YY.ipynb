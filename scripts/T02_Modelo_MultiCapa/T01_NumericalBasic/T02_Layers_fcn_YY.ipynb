{
 "cells": [
  {
   "cell_type": "code",
   "execution_count": 42,
   "metadata": {},
   "outputs": [],
   "source": [
    "from functions.FullBending import FullBending\n",
    "import pandas as pd"
   ]
  },
  {
   "cell_type": "markdown",
   "metadata": {},
   "source": []
  },
  {
   "cell_type": "code",
   "execution_count": 43,
   "metadata": {},
   "outputs": [],
   "source": [
    "# E [GPa]\n",
    "# nucleo\t4.22\n",
    "# X\t26.95\n",
    "# SX\t13.57\n",
    "# Y\t97.86\n",
    "# SY\t4.22\n",
    "\n",
    "df_layers = pd.DataFrame({ 'E': [0.800000,\n",
    "                                 5.198613, \n",
    "                                 2.814443, \n",
    "                                 21.284290, \n",
    "                                 5.775806]}, index=['nucleo', 'X', 'SX', 'Y', 'SY'])"
   ]
  },
  {
   "cell_type": "code",
   "execution_count": 44,
   "metadata": {},
   "outputs": [
    {
     "data": {
      "text/html": [
       "<div>\n",
       "<style scoped>\n",
       "    .dataframe tbody tr th:only-of-type {\n",
       "        vertical-align: middle;\n",
       "    }\n",
       "\n",
       "    .dataframe tbody tr th {\n",
       "        vertical-align: top;\n",
       "    }\n",
       "\n",
       "    .dataframe thead th {\n",
       "        text-align: right;\n",
       "    }\n",
       "</style>\n",
       "<table border=\"1\" class=\"dataframe\">\n",
       "  <thead>\n",
       "    <tr style=\"text-align: right;\">\n",
       "      <th></th>\n",
       "      <th>E</th>\n",
       "    </tr>\n",
       "  </thead>\n",
       "  <tbody>\n",
       "    <tr>\n",
       "      <th>nucleo</th>\n",
       "      <td>0.800000</td>\n",
       "    </tr>\n",
       "    <tr>\n",
       "      <th>X</th>\n",
       "      <td>5.198613</td>\n",
       "    </tr>\n",
       "    <tr>\n",
       "      <th>SX</th>\n",
       "      <td>2.814443</td>\n",
       "    </tr>\n",
       "    <tr>\n",
       "      <th>Y</th>\n",
       "      <td>21.284290</td>\n",
       "    </tr>\n",
       "    <tr>\n",
       "      <th>SY</th>\n",
       "      <td>5.775806</td>\n",
       "    </tr>\n",
       "  </tbody>\n",
       "</table>\n",
       "</div>"
      ],
      "text/plain": [
       "                E\n",
       "nucleo   0.800000\n",
       "X        5.198613\n",
       "SX       2.814443\n",
       "Y       21.284290\n",
       "SY       5.775806"
      ]
     },
     "execution_count": 44,
     "metadata": {},
     "output_type": "execute_result"
    }
   ],
   "source": [
    "df_layers"
   ]
  },
  {
   "cell_type": "code",
   "execution_count": 45,
   "metadata": {},
   "outputs": [
    {
     "name": "stderr",
     "output_type": "stream",
     "text": [
      "C:\\Users\\djoroya\\AppData\\Local\\Temp\\ipykernel_9564\\3445370218.py:8: SettingWithCopyWarning: \n",
      "A value is trying to be set on a copy of a slice from a DataFrame\n",
      "\n",
      "See the caveats in the documentation: https://pandas.pydata.org/pandas-docs/stable/user_guide/indexing.html#returning-a-view-versus-a-copy\n",
      "  layers[0] = [\"Y\",\"Y\"]\n",
      "C:\\Users\\djoroya\\AppData\\Local\\Temp\\ipykernel_9564\\3445370218.py:8: FutureWarning: Series.__setitem__ treating keys as positions is deprecated. In a future version, integer keys will always be treated as labels (consistent with DataFrame behavior). To set a value by position, use `ser.iloc[pos] = value`\n",
      "  layers[0] = [\"Y\",\"Y\"]\n"
     ]
    }
   ],
   "source": [
    "from validation.BendingExperimental import BendingExperimental\n",
    "\n",
    "r = BendingExperimental()\n",
    "\n",
    "df_stats = r[\"df_stats\"]\n",
    "\n",
    "layers = df_stats[\"layers\"]\n",
    "layers[0] = [\"Y\",\"Y\"]\n",
    "df_stats[\"layers\"] = layers"
   ]
  },
  {
   "cell_type": "code",
   "execution_count": 46,
   "metadata": {},
   "outputs": [
    {
     "data": {
      "text/html": [
       "<div>\n",
       "<style scoped>\n",
       "    .dataframe tbody tr th:only-of-type {\n",
       "        vertical-align: middle;\n",
       "    }\n",
       "\n",
       "    .dataframe tbody tr th {\n",
       "        vertical-align: top;\n",
       "    }\n",
       "\n",
       "    .dataframe thead tr th {\n",
       "        text-align: left;\n",
       "    }\n",
       "\n",
       "    .dataframe thead tr:last-of-type th {\n",
       "        text-align: right;\n",
       "    }\n",
       "</style>\n",
       "<table border=\"1\" class=\"dataframe\">\n",
       "  <thead>\n",
       "    <tr>\n",
       "      <th></th>\n",
       "      <th colspan=\"2\" halign=\"left\">Eb [GPa]</th>\n",
       "      <th colspan=\"2\" halign=\"left\">t [mm]</th>\n",
       "      <th colspan=\"2\" halign=\"left\">b [mm]</th>\n",
       "      <th colspan=\"2\" halign=\"left\">Sb [MPa]</th>\n",
       "      <th>layers</th>\n",
       "      <th>v [X,SX,Y,SY]</th>\n",
       "      <th>ni</th>\n",
       "    </tr>\n",
       "    <tr>\n",
       "      <th></th>\n",
       "      <th>mean</th>\n",
       "      <th>std</th>\n",
       "      <th>mean</th>\n",
       "      <th>std</th>\n",
       "      <th>mean</th>\n",
       "      <th>std</th>\n",
       "      <th>mean</th>\n",
       "      <th>std</th>\n",
       "      <th></th>\n",
       "      <th></th>\n",
       "      <th></th>\n",
       "    </tr>\n",
       "    <tr>\n",
       "      <th>Name</th>\n",
       "      <th></th>\n",
       "      <th></th>\n",
       "      <th></th>\n",
       "      <th></th>\n",
       "      <th></th>\n",
       "      <th></th>\n",
       "      <th></th>\n",
       "      <th></th>\n",
       "      <th></th>\n",
       "      <th></th>\n",
       "      <th></th>\n",
       "    </tr>\n",
       "  </thead>\n",
       "  <tbody>\n",
       "    <tr>\n",
       "      <th>TFP1</th>\n",
       "      <td>13.201050</td>\n",
       "      <td>0.630858</td>\n",
       "      <td>5.266667</td>\n",
       "      <td>0.057735</td>\n",
       "      <td>25.600000</td>\n",
       "      <td>0.100000</td>\n",
       "      <td>134.996667</td>\n",
       "      <td>18.942693</td>\n",
       "      <td>[Y, Y]</td>\n",
       "      <td>[0, 0, 1, 0]</td>\n",
       "      <td>1</td>\n",
       "    </tr>\n",
       "    <tr>\n",
       "      <th>TFP2</th>\n",
       "      <td>9.869501</td>\n",
       "      <td>0.780113</td>\n",
       "      <td>4.700000</td>\n",
       "      <td>0.000000</td>\n",
       "      <td>25.566667</td>\n",
       "      <td>0.057735</td>\n",
       "      <td>117.430000</td>\n",
       "      <td>15.759607</td>\n",
       "      <td>[Y, X]</td>\n",
       "      <td>[1, 0, 1, 0]</td>\n",
       "      <td>2</td>\n",
       "    </tr>\n",
       "    <tr>\n",
       "      <th>TFP3</th>\n",
       "      <td>9.222003</td>\n",
       "      <td>0.495965</td>\n",
       "      <td>4.833333</td>\n",
       "      <td>0.057735</td>\n",
       "      <td>25.400000</td>\n",
       "      <td>0.173205</td>\n",
       "      <td>128.053333</td>\n",
       "      <td>5.337905</td>\n",
       "      <td>[Y, SX]</td>\n",
       "      <td>[0, 1, 1, 0]</td>\n",
       "      <td>2</td>\n",
       "    </tr>\n",
       "    <tr>\n",
       "      <th>TFP4</th>\n",
       "      <td>10.181815</td>\n",
       "      <td>0.770635</td>\n",
       "      <td>4.700000</td>\n",
       "      <td>0.000000</td>\n",
       "      <td>25.666667</td>\n",
       "      <td>0.152753</td>\n",
       "      <td>141.703333</td>\n",
       "      <td>7.525386</td>\n",
       "      <td>[Y, SY]</td>\n",
       "      <td>[0, 0, 1, 1]</td>\n",
       "      <td>2</td>\n",
       "    </tr>\n",
       "    <tr>\n",
       "      <th>TFP5</th>\n",
       "      <td>6.143105</td>\n",
       "      <td>0.161637</td>\n",
       "      <td>5.700000</td>\n",
       "      <td>0.000000</td>\n",
       "      <td>25.166667</td>\n",
       "      <td>0.152753</td>\n",
       "      <td>107.433333</td>\n",
       "      <td>3.902939</td>\n",
       "      <td>[Y, SX, SY]</td>\n",
       "      <td>[0, 1, 1, 1]</td>\n",
       "      <td>3</td>\n",
       "    </tr>\n",
       "    <tr>\n",
       "      <th>TFP6</th>\n",
       "      <td>7.798060</td>\n",
       "      <td>0.334186</td>\n",
       "      <td>5.600000</td>\n",
       "      <td>0.000000</td>\n",
       "      <td>25.033333</td>\n",
       "      <td>0.635085</td>\n",
       "      <td>114.306667</td>\n",
       "      <td>11.800790</td>\n",
       "      <td>[Y, X, SY]</td>\n",
       "      <td>[1, 0, 1, 1]</td>\n",
       "      <td>3</td>\n",
       "    </tr>\n",
       "  </tbody>\n",
       "</table>\n",
       "</div>"
      ],
      "text/plain": [
       "       Eb [GPa]              t [mm]               b [mm]            \\\n",
       "           mean       std      mean       std       mean       std   \n",
       "Name                                                                 \n",
       "TFP1  13.201050  0.630858  5.266667  0.057735  25.600000  0.100000   \n",
       "TFP2   9.869501  0.780113  4.700000  0.000000  25.566667  0.057735   \n",
       "TFP3   9.222003  0.495965  4.833333  0.057735  25.400000  0.173205   \n",
       "TFP4  10.181815  0.770635  4.700000  0.000000  25.666667  0.152753   \n",
       "TFP5   6.143105  0.161637  5.700000  0.000000  25.166667  0.152753   \n",
       "TFP6   7.798060  0.334186  5.600000  0.000000  25.033333  0.635085   \n",
       "\n",
       "        Sb [MPa]                  layers v [X,SX,Y,SY] ni  \n",
       "            mean        std                                \n",
       "Name                                                       \n",
       "TFP1  134.996667  18.942693       [Y, Y]  [0, 0, 1, 0]  1  \n",
       "TFP2  117.430000  15.759607       [Y, X]  [1, 0, 1, 0]  2  \n",
       "TFP3  128.053333   5.337905      [Y, SX]  [0, 1, 1, 0]  2  \n",
       "TFP4  141.703333   7.525386      [Y, SY]  [0, 0, 1, 1]  2  \n",
       "TFP5  107.433333   3.902939  [Y, SX, SY]  [0, 1, 1, 1]  3  \n",
       "TFP6  114.306667  11.800790   [Y, X, SY]  [1, 0, 1, 1]  3  "
      ]
     },
     "execution_count": 46,
     "metadata": {},
     "output_type": "execute_result"
    }
   ],
   "source": [
    "df_stats"
   ]
  },
  {
   "cell_type": "code",
   "execution_count": 47,
   "metadata": {},
   "outputs": [
    {
     "name": "stdout",
     "output_type": "stream",
     "text": [
      "\n",
      "\n",
      "Layers:  ['Y', 'Y'] \n",
      "\n",
      "\n",
      "{'geo': {'t_n': 3.0734, 't_l': 0.42712, 'Lx': 30, 'meshsizefactor': 1.1}, 'sim': {'disp': 5.0, 'opt': {'OMP_NUM_THREADS': 4, 'mpi_np': 4, 'mpi': True}}}\n",
      "Running Calculix at:  output_YY\\sim\n",
      "Output file:  c:\\Users\\djoroya\\Documents\\GitHub\\CITISENS_Composite_v2\\scripts\\T02_Modelo_MultiCapa\\T01_NumericalBasic\\output_YY\\sim\\out.txt\n",
      "Command:\n",
      " C:\\Program Files\\Microsoft MPI\\Bin\\mpiexec -n 4 c:\\Users\\djoroya\\Documents\\GitHub\\CITISENS_Composite_v2\\.conda\\Lib\\site-packages\\djccx\\bin\\ccx_dynamic.exe main\n",
      "Error reading cvf file\n",
      "\n",
      "pid:  6952 \n",
      "\n",
      "Calculix finished\n",
      "\n"
     ]
    }
   ],
   "source": [
    "\n",
    "import os \n",
    "from copy import deepcopy\n",
    "join = os.path.join\n",
    "\n",
    "E_pred = []\n",
    "\n",
    "if not os.path.exists(\"output\"):\n",
    "    os.mkdir(\"output\")\n",
    "\n",
    "params = {\n",
    "            \"geo\" : {\n",
    "                        \"t_n\" : 3.073400,\n",
    "                        \"t_l\" : 0.427120,\n",
    "                        \"Lx\"  : 30,\n",
    "                        \"meshsizefactor\" : 1.1\n",
    "                    },\n",
    "            \"sim\" : {\n",
    "                        \"disp\" : 5.0,\n",
    "                        \"opt\": {\n",
    "                                \"OMP_NUM_THREADS\":4,\n",
    "                                \"mpi_np\":4,\n",
    "                                \"mpi\":True\n",
    "                                },\n",
    "                    },\n",
    "        }\n",
    "\n",
    "\n",
    "all_params = []\n",
    "\n",
    "id_design = 0\n",
    "E_n =   df_layers.loc[\"nucleo\"].values[-1]*1e3\n",
    "\n",
    "lyrs = df_stats[\"layers\"].iloc[id_design]\n",
    "\n",
    "print(\"\\n\\nLayers: \", lyrs, \"\\n\\n\")\n",
    "E_l = df_layers.loc[lyrs][\"E\"].values*1e3 # MPa\n",
    "name_mat = df_stats[\"layers\"].iloc[id_design]\n",
    "name = df_stats.index[id_design]\n",
    "B    = df_stats[\"b [mm]\"][\"mean\"].iloc[id_design]\n",
    "\n",
    "params_loop = deepcopy(params)\n",
    "\n",
    "B = 25\n",
    "params_loop[\"geo\"][\"Ly\"] = B\n",
    "params_loop[\"sim\"][\"E_n\"] = E_n\n",
    "params_loop[\"sim\"][\"E_l\"] = E_l\n",
    "params_loop[\"sim\"][\"name_mat\"] = name_mat\n",
    "params_loop[\"output_folder\"] = join(\"output_YY\")\n",
    "\n",
    "print(params)\n",
    "inp_f = FullBending(params_loop)\n",
    "Eflex_FEM = params_loop[\"Eflex\"]\n"
   ]
  },
  {
   "cell_type": "code",
   "execution_count": 48,
   "metadata": {},
   "outputs": [],
   "source": [
    "def E_flex_inercia(E_n,E_l,t_n,t_l,B):\n",
    "\n",
    "    ni = 2\n",
    "    t_t = t_n + 2*t_l*ni\n",
    "    # print(t_t)\n",
    "\n",
    "\n",
    "    I_tot = (1/12)*B*t_t**3\n",
    "\n",
    "    yG1 = t_n*0.5 + t_l*0.5\n",
    "    I_l1   = (1/12)*B*t_l**3 + B*t_l*yG1**2\n",
    "\n",
    "    yG2 = yG1 + t_l\n",
    "    I_l2   = (1/12)*B*t_l**3 + B*t_l*yG2**2\n",
    "\n",
    "    I_n   = (1/12)*B*t_n**3 \n",
    "\n",
    "\n",
    "    Eflex = (E_n*I_n + 2*E_l*I_l1 + 2*E_l*I_l2)/(I_tot)\n",
    "\n",
    "    return Eflex*1e-3 # GPa"
   ]
  },
  {
   "cell_type": "code",
   "execution_count": 49,
   "metadata": {},
   "outputs": [],
   "source": [
    "t_n = params_loop[\"geo\"][\"t_n\"]\n",
    "t_l = params_loop[\"geo\"][\"t_l\"]"
   ]
  },
  {
   "cell_type": "code",
   "execution_count": 50,
   "metadata": {},
   "outputs": [
    {
     "name": "stdout",
     "output_type": "stream",
     "text": [
      "E_n 800.0\n",
      "E_l 21284.289999999997\n",
      "tn 3.0734\n",
      "tl 0.42712\n",
      "B 25\n"
     ]
    }
   ],
   "source": [
    "print(\"E_n\", E_n)\n",
    "print(\"E_l\", E_l[0])\n",
    "print(\"tn\",t_n)\n",
    "print(\"tl\",t_l)\n",
    "print(\"B\",B)"
   ]
  },
  {
   "cell_type": "code",
   "execution_count": 51,
   "metadata": {},
   "outputs": [],
   "source": [
    "Eflex_pred_inercia = E_flex_inercia(E_n,E_l[0],t_n,t_l,B)"
   ]
  },
  {
   "cell_type": "code",
   "execution_count": 52,
   "metadata": {},
   "outputs": [],
   "source": [
    "def E_tracion_an(E_n,E_l,t_n,t_l):\n",
    "\n",
    "    t_t = t_n + 2*2*t_l\n",
    "\n",
    "    Etrac = (E_n*t_n + 2*2*E_l*t_l)/(t_t)\n",
    "\n",
    "    return Etrac*1e-3 # GPa"
   ]
  },
  {
   "cell_type": "code",
   "execution_count": 53,
   "metadata": {},
   "outputs": [],
   "source": [
    "from AnalyticalLayers.models import E_flexion  as E_flexion_fcn"
   ]
  },
  {
   "cell_type": "code",
   "execution_count": 54,
   "metadata": {},
   "outputs": [],
   "source": [
    "t_n = params_loop[\"geo\"][\"t_n\"]\n",
    "t_l = params_loop[\"geo\"][\"t_l\"]\n",
    "\n",
    "Eflex_pred = E_flex_inercia(E_n,\n",
    "                          E_l[0],\n",
    "                          t_n,\n",
    "                          t_l,B)\n",
    "\n",
    "Eflex_pred_fcn = E_flexion_fcn(E_n,\n",
    "                           [0,0,E_l[0],0],\n",
    "                           t_n,\n",
    "                           t_l,layers=lyrs)\n",
    "Eflex_pred_fcn = Eflex_pred_fcn*1e-3"
   ]
  },
  {
   "cell_type": "code",
   "execution_count": 55,
   "metadata": {},
   "outputs": [
    {
     "name": "stdout",
     "output_type": "stream",
     "text": [
      "Analitico:  15.845752140285695\n",
      "Simulado:  12.117674481051068\n",
      "Analitico fcn:  15.845752140285695\n"
     ]
    }
   ],
   "source": [
    "Eflex_pred - params_loop[\"Eflex\"]\n",
    "\n",
    "print(\"Analitico: \", Eflex_pred)\n",
    "print(\"Simulado: \", Eflex_FEM)\n",
    "print(\"Analitico fcn: \", Eflex_pred_fcn)    \n"
   ]
  },
  {
   "cell_type": "code",
   "execution_count": 56,
   "metadata": {},
   "outputs": [
    {
     "name": "stdout",
     "output_type": "stream",
     "text": [
      "Error (%) :  30.765619798290366\n"
     ]
    }
   ],
   "source": [
    "print(\"Error (%) : \", abs(Eflex_pred - Eflex_FEM)/Eflex_FEM*100)"
   ]
  },
  {
   "cell_type": "code",
   "execution_count": 57,
   "metadata": {},
   "outputs": [
    {
     "data": {
      "text/html": [
       "<div>\n",
       "<style scoped>\n",
       "    .dataframe tbody tr th:only-of-type {\n",
       "        vertical-align: middle;\n",
       "    }\n",
       "\n",
       "    .dataframe tbody tr th {\n",
       "        vertical-align: top;\n",
       "    }\n",
       "\n",
       "    .dataframe thead th {\n",
       "        text-align: right;\n",
       "    }\n",
       "</style>\n",
       "<table border=\"1\" class=\"dataframe\">\n",
       "  <thead>\n",
       "    <tr style=\"text-align: right;\">\n",
       "      <th></th>\n",
       "      <th>x</th>\n",
       "      <th>y</th>\n",
       "      <th>z</th>\n",
       "      <th>D1</th>\n",
       "      <th>D2</th>\n",
       "      <th>D3</th>\n",
       "      <th>SXX</th>\n",
       "      <th>SYY</th>\n",
       "      <th>SZZ</th>\n",
       "      <th>SXY</th>\n",
       "      <th>...</th>\n",
       "      <th>EYZ</th>\n",
       "      <th>EZX</th>\n",
       "      <th>F1</th>\n",
       "      <th>F2</th>\n",
       "      <th>F3</th>\n",
       "      <th>STR(%)</th>\n",
       "      <th>S_von_mises</th>\n",
       "      <th>P1</th>\n",
       "      <th>P2</th>\n",
       "      <th>P3</th>\n",
       "    </tr>\n",
       "    <tr>\n",
       "      <th>nid</th>\n",
       "      <th></th>\n",
       "      <th></th>\n",
       "      <th></th>\n",
       "      <th></th>\n",
       "      <th></th>\n",
       "      <th></th>\n",
       "      <th></th>\n",
       "      <th></th>\n",
       "      <th></th>\n",
       "      <th></th>\n",
       "      <th></th>\n",
       "      <th></th>\n",
       "      <th></th>\n",
       "      <th></th>\n",
       "      <th></th>\n",
       "      <th></th>\n",
       "      <th></th>\n",
       "      <th></th>\n",
       "      <th></th>\n",
       "      <th></th>\n",
       "      <th></th>\n",
       "    </tr>\n",
       "  </thead>\n",
       "  <tbody>\n",
       "    <tr>\n",
       "      <th>111</th>\n",
       "      <td>0.000000</td>\n",
       "      <td>12.500000</td>\n",
       "      <td>-1.536700</td>\n",
       "      <td>0.000000</td>\n",
       "      <td>0.023467</td>\n",
       "      <td>-4.91704</td>\n",
       "      <td>141.3910</td>\n",
       "      <td>-8.61498</td>\n",
       "      <td>-6.86249</td>\n",
       "      <td>-0.002040</td>\n",
       "      <td>...</td>\n",
       "      <td>1.779010e-05</td>\n",
       "      <td>-9.636740e-07</td>\n",
       "      <td>-2.326100e+00</td>\n",
       "      <td>2.267570e-13</td>\n",
       "      <td>-1.297200e-12</td>\n",
       "      <td>4.86052</td>\n",
       "      <td>149.137462</td>\n",
       "      <td>141.391000</td>\n",
       "      <td>-6.862266</td>\n",
       "      <td>-8.615204</td>\n",
       "    </tr>\n",
       "    <tr>\n",
       "      <th>207</th>\n",
       "      <td>0.000000</td>\n",
       "      <td>12.500000</td>\n",
       "      <td>-1.963820</td>\n",
       "      <td>0.000000</td>\n",
       "      <td>0.023484</td>\n",
       "      <td>-4.91440</td>\n",
       "      <td>528.9110</td>\n",
       "      <td>57.33400</td>\n",
       "      <td>-2.44638</td>\n",
       "      <td>-0.001367</td>\n",
       "      <td>...</td>\n",
       "      <td>2.342480e-06</td>\n",
       "      <td>3.602360e-07</td>\n",
       "      <td>-8.159410e+00</td>\n",
       "      <td>1.378980e-12</td>\n",
       "      <td>-1.904670e-12</td>\n",
       "      <td>3.51007</td>\n",
       "      <td>504.132540</td>\n",
       "      <td>528.911000</td>\n",
       "      <td>57.334025</td>\n",
       "      <td>-2.446405</td>\n",
       "    </tr>\n",
       "    <tr>\n",
       "      <th>303</th>\n",
       "      <td>0.000000</td>\n",
       "      <td>12.500000</td>\n",
       "      <td>1.536700</td>\n",
       "      <td>0.000000</td>\n",
       "      <td>0.023574</td>\n",
       "      <td>-4.99454</td>\n",
       "      <td>72.5983</td>\n",
       "      <td>57.25950</td>\n",
       "      <td>-44.18540</td>\n",
       "      <td>0.184117</td>\n",
       "      <td>...</td>\n",
       "      <td>9.512970e-05</td>\n",
       "      <td>-7.665830e-05</td>\n",
       "      <td>-5.518720e-01</td>\n",
       "      <td>4.185850e-14</td>\n",
       "      <td>-2.976580e-13</td>\n",
       "      <td>16.41270</td>\n",
       "      <td>109.926209</td>\n",
       "      <td>72.604146</td>\n",
       "      <td>57.257311</td>\n",
       "      <td>-44.189057</td>\n",
       "    </tr>\n",
       "    <tr>\n",
       "      <th>399</th>\n",
       "      <td>0.000000</td>\n",
       "      <td>12.500000</td>\n",
       "      <td>1.963820</td>\n",
       "      <td>0.000000</td>\n",
       "      <td>0.023464</td>\n",
       "      <td>-4.99541</td>\n",
       "      <td>-473.4640</td>\n",
       "      <td>-84.87070</td>\n",
       "      <td>-167.99000</td>\n",
       "      <td>-0.319361</td>\n",
       "      <td>...</td>\n",
       "      <td>2.415670e-04</td>\n",
       "      <td>5.626860e-04</td>\n",
       "      <td>7.506420e+00</td>\n",
       "      <td>6.855190e-13</td>\n",
       "      <td>-3.057000e-12</td>\n",
       "      <td>11.45370</td>\n",
       "      <td>354.846188</td>\n",
       "      <td>-84.682894</td>\n",
       "      <td>-167.899728</td>\n",
       "      <td>-473.742078</td>\n",
       "    </tr>\n",
       "    <tr>\n",
       "      <th>438</th>\n",
       "      <td>0.000000</td>\n",
       "      <td>12.500000</td>\n",
       "      <td>-2.390940</td>\n",
       "      <td>0.000000</td>\n",
       "      <td>0.023501</td>\n",
       "      <td>-4.90986</td>\n",
       "      <td>786.0110</td>\n",
       "      <td>129.35200</td>\n",
       "      <td>0.03215</td>\n",
       "      <td>-0.001782</td>\n",
       "      <td>...</td>\n",
       "      <td>1.819860e-07</td>\n",
       "      <td>-1.226120e-06</td>\n",
       "      <td>-5.987510e+00</td>\n",
       "      <td>-5.290350e-13</td>\n",
       "      <td>-1.058760e-13</td>\n",
       "      <td>2.37338</td>\n",
       "      <td>729.961445</td>\n",
       "      <td>786.011001</td>\n",
       "      <td>129.352000</td>\n",
       "      <td>0.032149</td>\n",
       "    </tr>\n",
       "    <tr>\n",
       "      <th>...</th>\n",
       "      <td>...</td>\n",
       "      <td>...</td>\n",
       "      <td>...</td>\n",
       "      <td>...</td>\n",
       "      <td>...</td>\n",
       "      <td>...</td>\n",
       "      <td>...</td>\n",
       "      <td>...</td>\n",
       "      <td>...</td>\n",
       "      <td>...</td>\n",
       "      <td>...</td>\n",
       "      <td>...</td>\n",
       "      <td>...</td>\n",
       "      <td>...</td>\n",
       "      <td>...</td>\n",
       "      <td>...</td>\n",
       "      <td>...</td>\n",
       "      <td>...</td>\n",
       "      <td>...</td>\n",
       "      <td>...</td>\n",
       "      <td>...</td>\n",
       "    </tr>\n",
       "    <tr>\n",
       "      <th>9755</th>\n",
       "      <td>0.095358</td>\n",
       "      <td>12.513412</td>\n",
       "      <td>1.442160</td>\n",
       "      <td>0.000534</td>\n",
       "      <td>0.023629</td>\n",
       "      <td>-4.98994</td>\n",
       "      <td>-12.4375</td>\n",
       "      <td>-13.12690</td>\n",
       "      <td>-42.48900</td>\n",
       "      <td>0.007961</td>\n",
       "      <td>...</td>\n",
       "      <td>1.860730e-04</td>\n",
       "      <td>3.897530e-03</td>\n",
       "      <td>1.680980e-13</td>\n",
       "      <td>-1.009790e-13</td>\n",
       "      <td>4.363180e-14</td>\n",
       "      <td>13.07990</td>\n",
       "      <td>30.002468</td>\n",
       "      <td>-12.246948</td>\n",
       "      <td>-13.126792</td>\n",
       "      <td>-42.679660</td>\n",
       "    </tr>\n",
       "    <tr>\n",
       "      <th>9756</th>\n",
       "      <td>0.095358</td>\n",
       "      <td>12.405910</td>\n",
       "      <td>1.455194</td>\n",
       "      <td>0.000544</td>\n",
       "      <td>0.023174</td>\n",
       "      <td>-4.99058</td>\n",
       "      <td>-12.4685</td>\n",
       "      <td>-13.12070</td>\n",
       "      <td>-42.73010</td>\n",
       "      <td>0.009340</td>\n",
       "      <td>...</td>\n",
       "      <td>2.664230e-04</td>\n",
       "      <td>3.899860e-03</td>\n",
       "      <td>1.057780e-13</td>\n",
       "      <td>-1.980460e-13</td>\n",
       "      <td>-3.095860e-13</td>\n",
       "      <td>13.60170</td>\n",
       "      <td>30.229337</td>\n",
       "      <td>-12.278771</td>\n",
       "      <td>-13.120397</td>\n",
       "      <td>-42.920132</td>\n",
       "    </tr>\n",
       "    <tr>\n",
       "      <th>9808</th>\n",
       "      <td>0.095358</td>\n",
       "      <td>12.515731</td>\n",
       "      <td>1.645648</td>\n",
       "      <td>-0.000169</td>\n",
       "      <td>0.023616</td>\n",
       "      <td>-4.99464</td>\n",
       "      <td>-45.7621</td>\n",
       "      <td>65.96720</td>\n",
       "      <td>-62.44840</td>\n",
       "      <td>0.319009</td>\n",
       "      <td>...</td>\n",
       "      <td>2.043920e-05</td>\n",
       "      <td>7.406160e-04</td>\n",
       "      <td>-1.242510e-12</td>\n",
       "      <td>2.131630e-12</td>\n",
       "      <td>9.693150e-12</td>\n",
       "      <td>23.72620</td>\n",
       "      <td>122.751636</td>\n",
       "      <td>65.969184</td>\n",
       "      <td>-39.388268</td>\n",
       "      <td>-68.824215</td>\n",
       "    </tr>\n",
       "    <tr>\n",
       "      <th>9809</th>\n",
       "      <td>0.095358</td>\n",
       "      <td>12.515731</td>\n",
       "      <td>1.859208</td>\n",
       "      <td>-0.001380</td>\n",
       "      <td>0.023555</td>\n",
       "      <td>-4.99492</td>\n",
       "      <td>-367.7500</td>\n",
       "      <td>-37.91930</td>\n",
       "      <td>-111.74600</td>\n",
       "      <td>-2.534840</td>\n",
       "      <td>...</td>\n",
       "      <td>-5.845710e-05</td>\n",
       "      <td>2.489140e-03</td>\n",
       "      <td>-1.094240e-12</td>\n",
       "      <td>3.684500e-12</td>\n",
       "      <td>-2.201150e-11</td>\n",
       "      <td>23.13640</td>\n",
       "      <td>308.046957</td>\n",
       "      <td>-37.876381</td>\n",
       "      <td>-105.441363</td>\n",
       "      <td>-374.097556</td>\n",
       "    </tr>\n",
       "    <tr>\n",
       "      <th>10763</th>\n",
       "      <td>0.095358</td>\n",
       "      <td>12.515731</td>\n",
       "      <td>2.072768</td>\n",
       "      <td>-0.002329</td>\n",
       "      <td>0.023516</td>\n",
       "      <td>-4.99476</td>\n",
       "      <td>-612.9050</td>\n",
       "      <td>-145.98400</td>\n",
       "      <td>-250.77700</td>\n",
       "      <td>0.193194</td>\n",
       "      <td>...</td>\n",
       "      <td>2.691680e-04</td>\n",
       "      <td>5.075390e-03</td>\n",
       "      <td>-7.248370e-12</td>\n",
       "      <td>8.595330e-12</td>\n",
       "      <td>-2.083490e-11</td>\n",
       "      <td>17.72270</td>\n",
       "      <td>448.152263</td>\n",
       "      <td>-145.765308</td>\n",
       "      <td>-232.836832</td>\n",
       "      <td>-631.063860</td>\n",
       "    </tr>\n",
       "  </tbody>\n",
       "</table>\n",
       "<p>76 rows × 26 columns</p>\n",
       "</div>"
      ],
      "text/plain": [
       "              x          y         z        D1        D2       D3       SXX  \\\n",
       "nid                                                                           \n",
       "111    0.000000  12.500000 -1.536700  0.000000  0.023467 -4.91704  141.3910   \n",
       "207    0.000000  12.500000 -1.963820  0.000000  0.023484 -4.91440  528.9110   \n",
       "303    0.000000  12.500000  1.536700  0.000000  0.023574 -4.99454   72.5983   \n",
       "399    0.000000  12.500000  1.963820  0.000000  0.023464 -4.99541 -473.4640   \n",
       "438    0.000000  12.500000 -2.390940  0.000000  0.023501 -4.90986  786.0110   \n",
       "...         ...        ...       ...       ...       ...      ...       ...   \n",
       "9755   0.095358  12.513412  1.442160  0.000534  0.023629 -4.98994  -12.4375   \n",
       "9756   0.095358  12.405910  1.455194  0.000544  0.023174 -4.99058  -12.4685   \n",
       "9808   0.095358  12.515731  1.645648 -0.000169  0.023616 -4.99464  -45.7621   \n",
       "9809   0.095358  12.515731  1.859208 -0.001380  0.023555 -4.99492 -367.7500   \n",
       "10763  0.095358  12.515731  2.072768 -0.002329  0.023516 -4.99476 -612.9050   \n",
       "\n",
       "             SYY        SZZ       SXY  ...           EYZ           EZX  \\\n",
       "nid                                    ...                               \n",
       "111     -8.61498   -6.86249 -0.002040  ...  1.779010e-05 -9.636740e-07   \n",
       "207     57.33400   -2.44638 -0.001367  ...  2.342480e-06  3.602360e-07   \n",
       "303     57.25950  -44.18540  0.184117  ...  9.512970e-05 -7.665830e-05   \n",
       "399    -84.87070 -167.99000 -0.319361  ...  2.415670e-04  5.626860e-04   \n",
       "438    129.35200    0.03215 -0.001782  ...  1.819860e-07 -1.226120e-06   \n",
       "...          ...        ...       ...  ...           ...           ...   \n",
       "9755   -13.12690  -42.48900  0.007961  ...  1.860730e-04  3.897530e-03   \n",
       "9756   -13.12070  -42.73010  0.009340  ...  2.664230e-04  3.899860e-03   \n",
       "9808    65.96720  -62.44840  0.319009  ...  2.043920e-05  7.406160e-04   \n",
       "9809   -37.91930 -111.74600 -2.534840  ... -5.845710e-05  2.489140e-03   \n",
       "10763 -145.98400 -250.77700  0.193194  ...  2.691680e-04  5.075390e-03   \n",
       "\n",
       "                 F1            F2            F3    STR(%)  S_von_mises  \\\n",
       "nid                                                                      \n",
       "111   -2.326100e+00  2.267570e-13 -1.297200e-12   4.86052   149.137462   \n",
       "207   -8.159410e+00  1.378980e-12 -1.904670e-12   3.51007   504.132540   \n",
       "303   -5.518720e-01  4.185850e-14 -2.976580e-13  16.41270   109.926209   \n",
       "399    7.506420e+00  6.855190e-13 -3.057000e-12  11.45370   354.846188   \n",
       "438   -5.987510e+00 -5.290350e-13 -1.058760e-13   2.37338   729.961445   \n",
       "...             ...           ...           ...       ...          ...   \n",
       "9755   1.680980e-13 -1.009790e-13  4.363180e-14  13.07990    30.002468   \n",
       "9756   1.057780e-13 -1.980460e-13 -3.095860e-13  13.60170    30.229337   \n",
       "9808  -1.242510e-12  2.131630e-12  9.693150e-12  23.72620   122.751636   \n",
       "9809  -1.094240e-12  3.684500e-12 -2.201150e-11  23.13640   308.046957   \n",
       "10763 -7.248370e-12  8.595330e-12 -2.083490e-11  17.72270   448.152263   \n",
       "\n",
       "               P1          P2          P3  \n",
       "nid                                        \n",
       "111    141.391000   -6.862266   -8.615204  \n",
       "207    528.911000   57.334025   -2.446405  \n",
       "303     72.604146   57.257311  -44.189057  \n",
       "399    -84.682894 -167.899728 -473.742078  \n",
       "438    786.011001  129.352000    0.032149  \n",
       "...           ...         ...         ...  \n",
       "9755   -12.246948  -13.126792  -42.679660  \n",
       "9756   -12.278771  -13.120397  -42.920132  \n",
       "9808    65.969184  -39.388268  -68.824215  \n",
       "9809   -37.876381 -105.441363 -374.097556  \n",
       "10763 -145.765308 -232.836832 -631.063860  \n",
       "\n",
       "[76 rows x 26 columns]"
      ]
     },
     "execution_count": 57,
     "metadata": {},
     "output_type": "execute_result"
    }
   ],
   "source": [
    "x0 = 0\n",
    "y0 = B/2\n",
    "eps = 0.1\n",
    "ifrd = inp_f.frd\n",
    "ifrd = ifrd.copy()\n",
    "\n",
    "ifrd = ifrd[ (ifrd[\"x\"] > x0 - eps) & (ifrd[\"x\"] < x0 + eps) ]\n",
    "ifrd = ifrd[ (ifrd[\"y\"] > y0 - eps) & (ifrd[\"y\"] < y0 + eps) ]\n",
    "ifrd"
   ]
  },
  {
   "cell_type": "code",
   "execution_count": 58,
   "metadata": {},
   "outputs": [],
   "source": [
    "#sort by z\n",
    "ifrd = ifrd.sort_values(\"z\")"
   ]
  },
  {
   "cell_type": "code",
   "execution_count": 59,
   "metadata": {},
   "outputs": [],
   "source": [
    "from matplotlib import pyplot as plt"
   ]
  },
  {
   "cell_type": "code",
   "execution_count": 60,
   "metadata": {},
   "outputs": [
    {
     "data": {
      "text/plain": [
       "(-200.0, 850.0)"
      ]
     },
     "execution_count": 60,
     "metadata": {},
     "output_type": "execute_result"
    },
    {
     "data": {
      "image/png": "[encoded data removed]",
      "text/plain": [
       "<Figure size 640x480 with 1 Axes>"
      ]
     },
     "metadata": {},
     "output_type": "display_data"
    }
   ],
   "source": [
    "# plot \n",
    "plt.plot(ifrd[\"z\"], ifrd[\"P1\"], label=\"P1\",marker=\"o\")\n",
    "plt.ylim([-200,850])"
   ]
  },
  {
   "cell_type": "code",
   "execution_count": 61,
   "metadata": {},
   "outputs": [
    {
     "data": {
      "text/plain": [
       "np.float64(786.0110005175686)"
      ]
     },
     "execution_count": 61,
     "metadata": {},
     "output_type": "execute_result"
    }
   ],
   "source": [
    "ifrd[\"P1\"].values[0]"
   ]
  },
  {
   "cell_type": "code",
   "execution_count": 62,
   "metadata": {},
   "outputs": [],
   "source": [
    "E_eff = E_tracion_an(E_n,E_l[0],t_n,t_l)"
   ]
  },
  {
   "cell_type": "code",
   "execution_count": 63,
   "metadata": {},
   "outputs": [
    {
     "data": {
      "text/plain": [
       "np.float64(8.118669598400627)"
      ]
     },
     "execution_count": 63,
     "metadata": {},
     "output_type": "execute_result"
    }
   ],
   "source": [
    "E_eff"
   ]
  },
  {
   "cell_type": "code",
   "execution_count": 64,
   "metadata": {},
   "outputs": [
    {
     "data": {
      "text/plain": [
       "nid\n",
       "438      0.000000\n",
       "3845     0.000000\n",
       "3846     0.000000\n",
       "3777     0.000000\n",
       "3814     0.000000\n",
       "           ...   \n",
       "10763    0.095358\n",
       "5580     0.000000\n",
       "5648     0.000000\n",
       "5649     0.000000\n",
       "557      0.000000\n",
       "Name: x, Length: 76, dtype: float64"
      ]
     },
     "execution_count": 64,
     "metadata": {},
     "output_type": "execute_result"
    }
   ],
   "source": [
    "ifrd[\"x\"]"
   ]
  },
  {
   "cell_type": "code",
   "execution_count": 65,
   "metadata": {},
   "outputs": [],
   "source": [
    "ifrd = inp_f.frd\n",
    "ifrd = ifrd.copy()\n",
    "# sort \n",
    "ifrd = ifrd.sort_values(\"z\")\n",
    "P = -ifrd[\"F3\"][ifrd[\"x\"] < ifrd[\"x\"].mean()].values\n",
    "# P = ifrd[\"F3\"].values\n",
    "P = 2*P.sum()\n",
    "\n",
    "\n",
    "L = 2*params[\"geo\"][\"Lx\"]\n",
    "tl = params[\"geo\"][\"t_l\"]\n",
    "tn = params[\"geo\"][\"t_n\"]\n",
    "D = 2*tl + tn"
   ]
  },
  {
   "cell_type": "code",
   "execution_count": 66,
   "metadata": {},
   "outputs": [
    {
     "data": {
      "text/plain": [
       "25"
      ]
     },
     "execution_count": 66,
     "metadata": {},
     "output_type": "execute_result"
    }
   ],
   "source": [
    "B"
   ]
  },
  {
   "cell_type": "code",
   "execution_count": 67,
   "metadata": {},
   "outputs": [
    {
     "data": {
      "text/plain": [
       "3.92764"
      ]
     },
     "execution_count": 67,
     "metadata": {},
     "output_type": "execute_result"
    }
   ],
   "source": [
    "D"
   ]
  },
  {
   "cell_type": "code",
   "execution_count": 68,
   "metadata": {},
   "outputs": [
    {
     "data": {
      "text/plain": [
       "np.float64(3067.1255600573763)"
      ]
     },
     "execution_count": 68,
     "metadata": {},
     "output_type": "execute_result"
    }
   ],
   "source": [
    "P"
   ]
  },
  {
   "cell_type": "code",
   "execution_count": 69,
   "metadata": {},
   "outputs": [
    {
     "data": {
      "text/plain": [
       "np.float64(715.7654107013882)"
      ]
     },
     "execution_count": 69,
     "metadata": {},
     "output_type": "execute_result"
    }
   ],
   "source": [
    "sigma_max = (3/2)*P*L/(B*D**2)\n",
    "sigma_max"
   ]
  },
  {
   "cell_type": "code",
   "execution_count": 70,
   "metadata": {},
   "outputs": [],
   "source": [
    "# plot \n",
    "\n",
    "ifrd = ifrd[ (ifrd[\"x\"] > x0 - eps) & (ifrd[\"x\"] < x0 + eps) ]\n",
    "ifrd = ifrd[ (ifrd[\"y\"] > y0 - eps) & (ifrd[\"y\"] < y0 + eps) ]\n"
   ]
  },
  {
   "cell_type": "code",
   "execution_count": 71,
   "metadata": {},
   "outputs": [
    {
     "data": {
      "text/plain": [
       "array([21284.29, 21284.29])"
      ]
     },
     "execution_count": 71,
     "metadata": {},
     "output_type": "execute_result"
    }
   ],
   "source": [
    "E_l"
   ]
  },
  {
   "cell_type": "code",
   "execution_count": 72,
   "metadata": {},
   "outputs": [
    {
     "data": {
      "text/plain": [
       "<matplotlib.legend.Legend at 0x29144ff25d0>"
      ]
     },
     "execution_count": 72,
     "metadata": {},
     "output_type": "execute_result"
    },
    {
     "data": {
      "image/png": "[encoded data removed]",
      "text/plain": [
       "<Figure size 640x480 with 1 Axes>"
      ]
     },
     "metadata": {},
     "output_type": "display_data"
    }
   ],
   "source": [
    "\n",
    "plt.plot(ifrd[\"z\"], ifrd[\"P1\"], label=\"P1\",marker=\"o\")\n",
    "z = ifrd[\"z\"]\n",
    "zmax = D/2\n",
    "sigma_i_an = -sigma_max*(E_l[0]/E_eff*(z/zmax) )*(z<-t_n/2) + \\\n",
    "             -sigma_max*(E_n/E_eff   *(z/zmax) )*(z>=-t_n/2)*(z<=t_n/2) + \\\n",
    "             -sigma_max*(E_l[0]/E_eff*(z/zmax) )*(z>t_n/2)\n",
    "\n",
    "plt.plot(z, sigma_i_an*1e-3, label=\"Formula\",marker=\"o\")\n",
    "#plt.ylim([-200,850])\n",
    "plt.legend()"
   ]
  },
  {
   "cell_type": "code",
   "execution_count": 73,
   "metadata": {},
   "outputs": [
    {
     "data": {
      "text/plain": [
       "(-100.0, 100.0)"
      ]
     },
     "execution_count": 73,
     "metadata": {},
     "output_type": "execute_result"
    },
    {
     "data": {
      "image/png": "[encoded data removed]",
      "text/plain": [
       "<Figure size 640x480 with 1 Axes>"
      ]
     },
     "metadata": {},
     "output_type": "display_data"
    }
   ],
   "source": [
    "sigma_i_an\n",
    "plt.plot(ifrd[\"z\"], ifrd[\"P1\"], label=\"P1\",marker=\"o\")\n",
    "z = ifrd[\"z\"]\n",
    "zmax = D/2\n",
    "sigma_i_an = -sigma_max*(E_l[0]/E_eff*(z/zmax) )*(z<-t_n/2) + \\\n",
    "             -sigma_max*(E_n/E_eff   *(z/zmax) )*(z>=-t_n/2)*(z<=t_n/2) + \\\n",
    "             -sigma_max*(E_l[0]/E_eff*(z/zmax) )*(z>t_n/2)\n",
    "\n",
    "plt.plot(z, sigma_i_an*1e-3, label=\"Formula\",marker=\"o\")\n",
    "#plt.ylim([-200,850])\n",
    "plt.legend()\n",
    "plt.ylim([-100,100])"
   ]
  },
  {
   "cell_type": "code",
   "execution_count": 74,
   "metadata": {},
   "outputs": [
    {
     "data": {
      "text/plain": [
       "np.float64(15.845752140285695)"
      ]
     },
     "execution_count": 74,
     "metadata": {},
     "output_type": "execute_result"
    }
   ],
   "source": [
    "Eflex_pred"
   ]
  },
  {
   "cell_type": "code",
   "execution_count": 75,
   "metadata": {},
   "outputs": [
    {
     "data": {
      "text/plain": [
       "<matplotlib.legend.Legend at 0x29145f182d0>"
      ]
     },
     "execution_count": 75,
     "metadata": {},
     "output_type": "execute_result"
    },
    {
     "data": {
      "image/png": "[encoded data removed]",
      "text/plain": [
       "<Figure size 640x480 with 1 Axes>"
      ]
     },
     "metadata": {},
     "output_type": "display_data"
    }
   ],
   "source": [
    "\n",
    "plt.plot(ifrd[\"z\"], ifrd[\"P1\"], label=\"P1\",marker=\"o\")\n",
    "z = ifrd[\"z\"]\n",
    "zmax = D/2\n",
    "sigma_i_an = -sigma_max*((E_l[0]/Eflex_pred)*(z/zmax) )*(z<-t_n/2) + \\\n",
    "             -sigma_max*((E_n   /Eflex_pred)*(z/zmax) )*(z>=-t_n/2)*(z<=t_n/2) + \\\n",
    "             -sigma_max*((E_l[0]/Eflex_pred)*(z/zmax) )*(z>t_n/2)\n",
    "\n",
    "plt.plot(z, sigma_i_an*1e-3, label=\"Formula\",marker=\"o\")\n",
    "#plt.ylim([-200,850])\n",
    "plt.legend()"
   ]
  },
  {
   "cell_type": "code",
   "execution_count": 76,
   "metadata": {},
   "outputs": [
    {
     "data": {
      "text/plain": [
       "(-100.0, 100.0)"
      ]
     },
     "execution_count": 76,
     "metadata": {},
     "output_type": "execute_result"
    },
    {
     "data": {
      "image/png": "[encoded data removed]",
      "text/plain": [
       "<Figure size 640x480 with 1 Axes>"
      ]
     },
     "metadata": {},
     "output_type": "display_data"
    }
   ],
   "source": [
    "\n",
    "plt.plot(ifrd[\"z\"], ifrd[\"P1\"], label=\"P1\",marker=\"o\")\n",
    "z = ifrd[\"z\"]\n",
    "zmax = D/2\n",
    "sigma_i_an = -sigma_max*((E_l[0]/Eflex_pred)*(z/zmax) )*(z<-t_n/2) + \\\n",
    "             -sigma_max*((E_n   /Eflex_pred)*(z/zmax) )*(z>=-t_n/2)*(z<=t_n/2) + \\\n",
    "             -sigma_max*((E_l[0]/Eflex_pred)*(z/zmax) )*(z>t_n/2)\n",
    "\n",
    "plt.plot(z, sigma_i_an*1e-3, label=\"Formula\",marker=\"o\")\n",
    "#plt.ylim([-200,850])\n",
    "plt.legend()\n",
    "plt.ylim([-100,100])"
   ]
  },
  {
   "cell_type": "code",
   "execution_count": 77,
   "metadata": {},
   "outputs": [
    {
     "data": {
      "text/plain": [
       "3.92764"
      ]
     },
     "execution_count": 77,
     "metadata": {},
     "output_type": "execute_result"
    }
   ],
   "source": [
    "D"
   ]
  },
  {
   "cell_type": "code",
   "execution_count": 78,
   "metadata": {},
   "outputs": [],
   "source": [
    "U = params[\"sim\"][\"disp\"]\n",
    "E_flexion_formula = P*L**3/(4*U*B*D**3)*1e-3"
   ]
  },
  {
   "cell_type": "code",
   "execution_count": 79,
   "metadata": {},
   "outputs": [
    {
     "data": {
      "text/plain": [
       "np.float64(21.868564655662585)"
      ]
     },
     "execution_count": 79,
     "metadata": {},
     "output_type": "execute_result"
    }
   ],
   "source": [
    "E_flexion_formula"
   ]
  },
  {
   "cell_type": "code",
   "execution_count": 80,
   "metadata": {},
   "outputs": [
    {
     "data": {
      "text/plain": [
       "np.float64(15.845752140285695)"
      ]
     },
     "execution_count": 80,
     "metadata": {},
     "output_type": "execute_result"
    }
   ],
   "source": [
    "Eflex_pred"
   ]
  },
  {
   "cell_type": "code",
   "execution_count": 81,
   "metadata": {},
   "outputs": [
    {
     "data": {
      "text/plain": [
       "np.float64(8.118669598400627)"
      ]
     },
     "execution_count": 81,
     "metadata": {},
     "output_type": "execute_result"
    }
   ],
   "source": [
    "E_eff"
   ]
  },
  {
   "cell_type": "code",
   "execution_count": 82,
   "metadata": {},
   "outputs": [
    {
     "data": {
      "text/plain": [
       "np.float64(24.031389731497345)"
      ]
     },
     "execution_count": 82,
     "metadata": {},
     "output_type": "execute_result"
    }
   ],
   "source": [
    "E_flexion_formula/(1-0.3**2)"
   ]
  },
  {
   "cell_type": "code",
   "execution_count": null,
   "metadata": {},
   "outputs": [],
   "source": []
  },
  {
   "cell_type": "code",
   "execution_count": null,
   "metadata": {},
   "outputs": [],
   "source": []
  },
  {
   "cell_type": "code",
   "execution_count": null,
   "metadata": {},
   "outputs": [],
   "source": []
  }
 ],
 "metadata": {
  "kernelspec": {
   "display_name": "Python 3",
   "language": "python",
   "name": "python3"
  },
  "language_info": {
   "codemirror_mode": {
    "name": "ipython",
    "version": 3
   },
   "file_extension": ".py",
   "mimetype": "text/x-python",
   "name": "python",
   "nbconvert_exporter": "python",
   "pygments_lexer": "ipython3",
   "version": "3.13.2"
  }
 },
 "nbformat": 4,
 "nbformat_minor": 2
}
