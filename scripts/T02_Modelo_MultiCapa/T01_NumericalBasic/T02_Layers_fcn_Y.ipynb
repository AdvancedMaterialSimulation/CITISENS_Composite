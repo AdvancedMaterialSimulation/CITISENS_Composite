{
 "cells": [
  {
   "cell_type": "code",
   "execution_count": 14,
   "metadata": {},
   "outputs": [],
   "source": [
    "from functions.FullBending import FullBending\n",
    "import pandas as pd"
   ]
  },
  {
   "cell_type": "markdown",
   "metadata": {},
   "source": []
  },
  {
   "cell_type": "code",
   "execution_count": 15,
   "metadata": {},
   "outputs": [],
   "source": [
    "# E [GPa]\n",
    "# nucleo\t4.22\n",
    "# X\t26.95\n",
    "# SX\t13.57\n",
    "# Y\t97.86\n",
    "# SY\t4.22\n",
    "\n",
    "df_layers = pd.DataFrame({ 'E': [0.800000,\n",
    "                                 5.198613, \n",
    "                                 2.814443, \n",
    "                                 21.284290, \n",
    "                                 5.775806]}, index=['nucleo', 'X', 'SX', 'Y', 'SY'])"
   ]
  },
  {
   "cell_type": "code",
   "execution_count": 16,
   "metadata": {},
   "outputs": [
    {
     "data": {
      "text/html": [
       "<div>\n",
       "<style scoped>\n",
       "    .dataframe tbody tr th:only-of-type {\n",
       "        vertical-align: middle;\n",
       "    }\n",
       "\n",
       "    .dataframe tbody tr th {\n",
       "        vertical-align: top;\n",
       "    }\n",
       "\n",
       "    .dataframe thead th {\n",
       "        text-align: right;\n",
       "    }\n",
       "</style>\n",
       "<table border=\"1\" class=\"dataframe\">\n",
       "  <thead>\n",
       "    <tr style=\"text-align: right;\">\n",
       "      <th></th>\n",
       "      <th>E</th>\n",
       "    </tr>\n",
       "  </thead>\n",
       "  <tbody>\n",
       "    <tr>\n",
       "      <th>nucleo</th>\n",
       "      <td>0.800000</td>\n",
       "    </tr>\n",
       "    <tr>\n",
       "      <th>X</th>\n",
       "      <td>5.198613</td>\n",
       "    </tr>\n",
       "    <tr>\n",
       "      <th>SX</th>\n",
       "      <td>2.814443</td>\n",
       "    </tr>\n",
       "    <tr>\n",
       "      <th>Y</th>\n",
       "      <td>21.284290</td>\n",
       "    </tr>\n",
       "    <tr>\n",
       "      <th>SY</th>\n",
       "      <td>5.775806</td>\n",
       "    </tr>\n",
       "  </tbody>\n",
       "</table>\n",
       "</div>"
      ],
      "text/plain": [
       "                E\n",
       "nucleo   0.800000\n",
       "X        5.198613\n",
       "SX       2.814443\n",
       "Y       21.284290\n",
       "SY       5.775806"
      ]
     },
     "execution_count": 16,
     "metadata": {},
     "output_type": "execute_result"
    }
   ],
   "source": [
    "df_layers"
   ]
  },
  {
   "cell_type": "code",
   "execution_count": 17,
   "metadata": {},
   "outputs": [],
   "source": [
    "composition = [\n",
    "        [\"Y\", \"Y\"],\n",
    "        [\"Y\", \"X\"],\n",
    "        [\"Y\", \"SX\"],\n",
    "        [\"Y\", \"SY\"],\n",
    "        [\"Y\",\"SX\",\"SY\"],\n",
    "        [\"Y\",\"X\", \"SY\"]\n",
    "    ]\n"
   ]
  },
  {
   "cell_type": "code",
   "execution_count": 18,
   "metadata": {},
   "outputs": [],
   "source": [
    "from validation.BendingExperimental import BendingExperimental\n",
    "\n",
    "r = BendingExperimental()\n",
    "\n",
    "df_stats = r[\"df_stats\"]\n"
   ]
  },
  {
   "cell_type": "code",
   "execution_count": 19,
   "metadata": {},
   "outputs": [
    {
     "data": {
      "text/html": [
       "<div>\n",
       "<style scoped>\n",
       "    .dataframe tbody tr th:only-of-type {\n",
       "        vertical-align: middle;\n",
       "    }\n",
       "\n",
       "    .dataframe tbody tr th {\n",
       "        vertical-align: top;\n",
       "    }\n",
       "\n",
       "    .dataframe thead tr th {\n",
       "        text-align: left;\n",
       "    }\n",
       "\n",
       "    .dataframe thead tr:last-of-type th {\n",
       "        text-align: right;\n",
       "    }\n",
       "</style>\n",
       "<table border=\"1\" class=\"dataframe\">\n",
       "  <thead>\n",
       "    <tr>\n",
       "      <th></th>\n",
       "      <th colspan=\"2\" halign=\"left\">Eb [GPa]</th>\n",
       "      <th colspan=\"2\" halign=\"left\">t [mm]</th>\n",
       "      <th colspan=\"2\" halign=\"left\">b [mm]</th>\n",
       "      <th colspan=\"2\" halign=\"left\">Sb [MPa]</th>\n",
       "      <th>layers</th>\n",
       "      <th>v [X,SX,Y,SY]</th>\n",
       "      <th>ni</th>\n",
       "    </tr>\n",
       "    <tr>\n",
       "      <th></th>\n",
       "      <th>mean</th>\n",
       "      <th>std</th>\n",
       "      <th>mean</th>\n",
       "      <th>std</th>\n",
       "      <th>mean</th>\n",
       "      <th>std</th>\n",
       "      <th>mean</th>\n",
       "      <th>std</th>\n",
       "      <th></th>\n",
       "      <th></th>\n",
       "      <th></th>\n",
       "    </tr>\n",
       "    <tr>\n",
       "      <th>Name</th>\n",
       "      <th></th>\n",
       "      <th></th>\n",
       "      <th></th>\n",
       "      <th></th>\n",
       "      <th></th>\n",
       "      <th></th>\n",
       "      <th></th>\n",
       "      <th></th>\n",
       "      <th></th>\n",
       "      <th></th>\n",
       "      <th></th>\n",
       "    </tr>\n",
       "  </thead>\n",
       "  <tbody>\n",
       "    <tr>\n",
       "      <th>TFP1</th>\n",
       "      <td>13.201050</td>\n",
       "      <td>0.630858</td>\n",
       "      <td>5.266667</td>\n",
       "      <td>0.057735</td>\n",
       "      <td>25.600000</td>\n",
       "      <td>0.100000</td>\n",
       "      <td>134.996667</td>\n",
       "      <td>18.942693</td>\n",
       "      <td>[Y]</td>\n",
       "      <td>[0, 0, 1, 0]</td>\n",
       "      <td>1</td>\n",
       "    </tr>\n",
       "    <tr>\n",
       "      <th>TFP2</th>\n",
       "      <td>9.869501</td>\n",
       "      <td>0.780113</td>\n",
       "      <td>4.700000</td>\n",
       "      <td>0.000000</td>\n",
       "      <td>25.566667</td>\n",
       "      <td>0.057735</td>\n",
       "      <td>117.430000</td>\n",
       "      <td>15.759607</td>\n",
       "      <td>[Y, X]</td>\n",
       "      <td>[1, 0, 1, 0]</td>\n",
       "      <td>2</td>\n",
       "    </tr>\n",
       "    <tr>\n",
       "      <th>TFP3</th>\n",
       "      <td>9.222003</td>\n",
       "      <td>0.495965</td>\n",
       "      <td>4.833333</td>\n",
       "      <td>0.057735</td>\n",
       "      <td>25.400000</td>\n",
       "      <td>0.173205</td>\n",
       "      <td>128.053333</td>\n",
       "      <td>5.337905</td>\n",
       "      <td>[Y, SX]</td>\n",
       "      <td>[0, 1, 1, 0]</td>\n",
       "      <td>2</td>\n",
       "    </tr>\n",
       "    <tr>\n",
       "      <th>TFP4</th>\n",
       "      <td>10.181815</td>\n",
       "      <td>0.770635</td>\n",
       "      <td>4.700000</td>\n",
       "      <td>0.000000</td>\n",
       "      <td>25.666667</td>\n",
       "      <td>0.152753</td>\n",
       "      <td>141.703333</td>\n",
       "      <td>7.525386</td>\n",
       "      <td>[Y, SY]</td>\n",
       "      <td>[0, 0, 1, 1]</td>\n",
       "      <td>2</td>\n",
       "    </tr>\n",
       "    <tr>\n",
       "      <th>TFP5</th>\n",
       "      <td>6.143105</td>\n",
       "      <td>0.161637</td>\n",
       "      <td>5.700000</td>\n",
       "      <td>0.000000</td>\n",
       "      <td>25.166667</td>\n",
       "      <td>0.152753</td>\n",
       "      <td>107.433333</td>\n",
       "      <td>3.902939</td>\n",
       "      <td>[Y, SX, SY]</td>\n",
       "      <td>[0, 1, 1, 1]</td>\n",
       "      <td>3</td>\n",
       "    </tr>\n",
       "    <tr>\n",
       "      <th>TFP6</th>\n",
       "      <td>7.798060</td>\n",
       "      <td>0.334186</td>\n",
       "      <td>5.600000</td>\n",
       "      <td>0.000000</td>\n",
       "      <td>25.033333</td>\n",
       "      <td>0.635085</td>\n",
       "      <td>114.306667</td>\n",
       "      <td>11.800790</td>\n",
       "      <td>[Y, X, SY]</td>\n",
       "      <td>[1, 0, 1, 1]</td>\n",
       "      <td>3</td>\n",
       "    </tr>\n",
       "  </tbody>\n",
       "</table>\n",
       "</div>"
      ],
      "text/plain": [
       "       Eb [GPa]              t [mm]               b [mm]            \\\n",
       "           mean       std      mean       std       mean       std   \n",
       "Name                                                                 \n",
       "TFP1  13.201050  0.630858  5.266667  0.057735  25.600000  0.100000   \n",
       "TFP2   9.869501  0.780113  4.700000  0.000000  25.566667  0.057735   \n",
       "TFP3   9.222003  0.495965  4.833333  0.057735  25.400000  0.173205   \n",
       "TFP4  10.181815  0.770635  4.700000  0.000000  25.666667  0.152753   \n",
       "TFP5   6.143105  0.161637  5.700000  0.000000  25.166667  0.152753   \n",
       "TFP6   7.798060  0.334186  5.600000  0.000000  25.033333  0.635085   \n",
       "\n",
       "        Sb [MPa]                  layers v [X,SX,Y,SY] ni  \n",
       "            mean        std                                \n",
       "Name                                                       \n",
       "TFP1  134.996667  18.942693          [Y]  [0, 0, 1, 0]  1  \n",
       "TFP2  117.430000  15.759607       [Y, X]  [1, 0, 1, 0]  2  \n",
       "TFP3  128.053333   5.337905      [Y, SX]  [0, 1, 1, 0]  2  \n",
       "TFP4  141.703333   7.525386      [Y, SY]  [0, 0, 1, 1]  2  \n",
       "TFP5  107.433333   3.902939  [Y, SX, SY]  [0, 1, 1, 1]  3  \n",
       "TFP6  114.306667  11.800790   [Y, X, SY]  [1, 0, 1, 1]  3  "
      ]
     },
     "execution_count": 19,
     "metadata": {},
     "output_type": "execute_result"
    }
   ],
   "source": [
    "df_stats"
   ]
  },
  {
   "cell_type": "code",
   "execution_count": 20,
   "metadata": {},
   "outputs": [
    {
     "name": "stdout",
     "output_type": "stream",
     "text": [
      "\n",
      "\n",
      "Layers:  ['Y'] \n",
      "\n",
      "\n",
      "{'geo': {'t_n': 3.0734, 't_l': 0.85424, 'Lx': 30, 'meshsizefactor': 1.1}, 'sim': {'disp': 5.0, 'opt': {'OMP_NUM_THREADS': 4, 'mpi_np': 4, 'mpi': True}}}\n",
      "Running Calculix at:  output_Y\\sim\n",
      "Output file:  c:\\Users\\djoroya\\Documents\\GitHub\\CITISENS_Composite_v2\\scripts\\T02_Modelo_MultiCapa\\T01_NumericalBasic\\output_Y\\sim\\out.txt\n",
      "Command:\n",
      " C:\\Program Files\\Microsoft MPI\\Bin\\mpiexec -n 4 c:\\Users\\djoroya\\Documents\\GitHub\\CITISENS_Composite_v2\\.conda\\Lib\\site-packages\\djccx\\bin\\ccx_dynamic.exe main\n",
      "Error reading cvf file\n",
      "\n",
      "pid:  700 \n",
      "\n",
      "Calculix finished\n",
      "\n"
     ]
    }
   ],
   "source": [
    "\n",
    "import os \n",
    "from copy import deepcopy\n",
    "join = os.path.join\n",
    "\n",
    "E_pred = []\n",
    "\n",
    "if not os.path.exists(\"output\"):\n",
    "    os.mkdir(\"output\")\n",
    "\n",
    "params = {\n",
    "            \"geo\" : {\n",
    "                        \"t_n\" : 3.073400,\n",
    "                        \"t_l\" : 2*0.427120,\n",
    "                        \"Lx\"  : 30,\n",
    "                        \"meshsizefactor\" : 1.1\n",
    "                    },\n",
    "            \"sim\" : {\n",
    "                        \"disp\" : 5.0,\n",
    "                        \"opt\": {\n",
    "                                \"OMP_NUM_THREADS\":4,\n",
    "                                \"mpi_np\":4,\n",
    "                                \"mpi\":True\n",
    "                                },\n",
    "                    },\n",
    "        }\n",
    "\n",
    "\n",
    "all_params = []\n",
    "\n",
    "id_design = 0\n",
    "E_n =   df_layers.loc[\"nucleo\"].values[-1]*1e3\n",
    "\n",
    "lyrs = df_stats[\"layers\"].iloc[id_design]\n",
    "\n",
    "print(\"\\n\\nLayers: \", lyrs, \"\\n\\n\")\n",
    "E_l = df_layers.loc[lyrs][\"E\"].values*1e3 # MPa\n",
    "name_mat = df_stats[\"layers\"].iloc[id_design]\n",
    "name = df_stats.index[id_design]\n",
    "B    = df_stats[\"b [mm]\"][\"mean\"].iloc[id_design]\n",
    "\n",
    "params_loop = deepcopy(params)\n",
    "\n",
    "B = 25\n",
    "params_loop[\"geo\"][\"Ly\"] = B\n",
    "params_loop[\"sim\"][\"E_n\"] = E_n\n",
    "params_loop[\"sim\"][\"E_l\"] = E_l\n",
    "params_loop[\"sim\"][\"name_mat\"] = name_mat\n",
    "params_loop[\"output_folder\"] = join(\"output_Y\")\n",
    "\n",
    "print(params)\n",
    "inp_f = FullBending(params_loop)\n",
    "Eflex = params_loop[\"Eflex\"]\n"
   ]
  },
  {
   "cell_type": "code",
   "execution_count": 21,
   "metadata": {},
   "outputs": [],
   "source": [
    "def E_flexion_an(E_n,E_l,t_n,t_l):\n",
    "\n",
    "    t_t = t_n + 2*t_l\n",
    "\n",
    "    yG = t_n*0.5 + t_l*0.5\n",
    "\n",
    "    I_tot = (1/12)*t_t**3\n",
    "    I_l   = (1/12)*t_l**3 + t_l*yG**2\n",
    "    I_n   = (1/12)*t_n**3 \n",
    "\n",
    "\n",
    "    Eflex = (E_n*I_n + 2*E_l*I_l)/(I_tot)\n",
    "\n",
    "    return Eflex*1e-3 # GPa"
   ]
  },
  {
   "cell_type": "code",
   "execution_count": 22,
   "metadata": {},
   "outputs": [],
   "source": [
    "from AnalyticalLayers.models import E_flexion  as E_flexion_fcn"
   ]
  },
  {
   "cell_type": "code",
   "execution_count": 23,
   "metadata": {},
   "outputs": [],
   "source": [
    "t_n = params_loop[\"geo\"][\"t_n\"]\n",
    "t_l = params_loop[\"geo\"][\"t_l\"]\n",
    "\n",
    "Eflex_pred = E_flexion_an(E_n,\n",
    "                          E_l[0],\n",
    "                          t_n,\n",
    "                          t_l)\n",
    "\n",
    "Eflex_pred_fcn = E_flexion_fcn(E_n,\n",
    "                           [E_l[0],0,0,0],\n",
    "                           t_n,\n",
    "                           t_l,layers=[\"X\"])\n",
    "Eflex_pred_fcn = Eflex_pred_fcn*1e-3"
   ]
  },
  {
   "cell_type": "code",
   "execution_count": 24,
   "metadata": {},
   "outputs": [
    {
     "name": "stdout",
     "output_type": "stream",
     "text": [
      "Analitico:  15.845752140285692\n",
      "Simulado:  12.136144742882863\n",
      "Analitico fcn:  15.845752140285692\n"
     ]
    }
   ],
   "source": [
    "Eflex_pred - params_loop[\"Eflex\"]\n",
    "\n",
    "print(\"Analitico: \", Eflex_pred)\n",
    "print(\"Simulado: \", Eflex)\n",
    "print(\"Analitico fcn: \", Eflex_pred_fcn)    \n"
   ]
  },
  {
   "cell_type": "code",
   "execution_count": 25,
   "metadata": {},
   "outputs": [
    {
     "name": "stdout",
     "output_type": "stream",
     "text": [
      "Error (%) :  30.566604766132972\n"
     ]
    }
   ],
   "source": [
    "print(\"Error (%) : \", abs(Eflex_pred - Eflex)/Eflex*100)"
   ]
  },
  {
   "cell_type": "code",
   "execution_count": 26,
   "metadata": {},
   "outputs": [
    {
     "data": {
      "text/plain": [
       "4.78188"
      ]
     },
     "execution_count": 26,
     "metadata": {},
     "output_type": "execute_result"
    }
   ],
   "source": [
    "t_t = params_loop[\"geo\"][\"t_t\"]\n",
    "t_t"
   ]
  },
  {
   "cell_type": "code",
   "execution_count": null,
   "metadata": {},
   "outputs": [],
   "source": []
  }
 ],
 "metadata": {
  "kernelspec": {
   "display_name": "Python 3",
   "language": "python",
   "name": "python3"
  },
  "language_info": {
   "codemirror_mode": {
    "name": "ipython",
    "version": 3
   },
   "file_extension": ".py",
   "mimetype": "text/x-python",
   "name": "python",
   "nbconvert_exporter": "python",
   "pygments_lexer": "ipython3",
   "version": "3.13.2"
  }
 },
 "nbformat": 4,
 "nbformat_minor": 2
}
