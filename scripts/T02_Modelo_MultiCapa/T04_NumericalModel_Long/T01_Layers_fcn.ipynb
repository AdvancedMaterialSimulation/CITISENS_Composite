{
 "cells": [
  {
   "cell_type": "code",
   "execution_count": 1,
   "metadata": {},
   "outputs": [
    {
     "name": "stdout",
     "output_type": "stream",
     "text": [
      "Wine está instalado. Versión: wine-9.0\n",
      "Wine is installed. Calculix will be run with windows binary\n"
     ]
    }
   ],
   "source": [
    "from functions.Bending.FullBending import FullBending\n",
    "import numpy as np\n",
    "import pandas as pd"
   ]
  },
  {
   "cell_type": "markdown",
   "metadata": {},
   "source": []
  },
  {
   "cell_type": "code",
   "execution_count": 2,
   "metadata": {},
   "outputs": [],
   "source": [
    "from validation.FullExperimental import FullExperimental\n",
    "\n",
    "df_stats = FullExperimental()\n",
    "# double layer\n",
    "layers = df_stats[\"layers\"].values\n",
    "layers[0] = [\"Y\",\"Y\"]\n",
    "df_stats[\"layers\"] = layers\n"
   ]
  },
  {
   "cell_type": "code",
   "execution_count": 3,
   "metadata": {},
   "outputs": [],
   "source": [
    "# Material properties\n",
    "\n",
    "df_layers = pd.DataFrame({ 'E': [0.800000\t,   # nucleo GPa\n",
    "                                 5.198613\t,   # X\n",
    "                                 2.814443\t\t,   # SX\n",
    "                                 21.284290    ,   # Y\n",
    "                                 5.775806]}  ,   # SY\n",
    "                                 index=['nucleo', 'X', 'SX', 'Y', 'SY'])\n",
    "\n",
    "St_layers = {\n",
    "    \"X\"   : 481.083731,   # MPa\n",
    "    \"SX\"  : 80.120493,    # MPa\n",
    "    \"Y\"   : 667.663085,   # MPa\n",
    "    \"SY\"  : 127.036236,   # MPa\n",
    "    \"nucleo\" : 0.0,\n",
    "}\n",
    "\n",
    "En = df_layers.loc[\"nucleo\"].values[-1]*1e3\n",
    "\n",
    "params = {\n",
    "            \"El\": df_layers.loc[[\"X\",\"SX\",\"Y\",\"SY\"]].values.flatten(),\n",
    "            \"geo\" : {\n",
    "                        \"t_n\" : 2.934,\n",
    "                        \"t_l\" : 0.475,\n",
    "                        \"Lx\"  : 30,\n",
    "                        \"meshsizefactor\" : 0.75,\n",
    "                    },\n",
    "            \"sim\" : {\n",
    "                        \"disp\" : 5.0,\n",
    "                        \"opt\": {\n",
    "                                    \"OMP_NUM_THREADS\":4,\n",
    "                                    \"mpi_np\":4,\n",
    "                                    \"mpi\":True\n",
    "                                },\n",
    "                        \"E_n\":  En\n",
    "                    },\n",
    "            \"tensile\" : {\n",
    "                        \"disp\" : 3.0,\n",
    "                        \"St_layers\": St_layers,\n",
    "                    },\n",
    "        }\n"
   ]
  },
  {
   "cell_type": "code",
   "execution_count": 4,
   "metadata": {},
   "outputs": [
    {
     "data": {
      "application/vnd.microsoft.datawrangler.viewer.v0+json": {
       "columns": [
        {
         "name": "Name",
         "rawType": "object",
         "type": "string"
        },
        {
         "name": "('Et [GPa]', 'mean')",
         "rawType": "float64",
         "type": "float"
        },
        {
         "name": "('Et [GPa]', 'std')",
         "rawType": "float64",
         "type": "float"
        },
        {
         "name": "('% e', 'mean')",
         "rawType": "float64",
         "type": "float"
        },
        {
         "name": "('% e', 'std')",
         "rawType": "float64",
         "type": "float"
        },
        {
         "name": "('St [MPa]', 'mean')",
         "rawType": "float64",
         "type": "float"
        },
        {
         "name": "('St [MPa]', 'std')",
         "rawType": "float64",
         "type": "float"
        },
        {
         "name": "('Eb [GPa]', 'mean')",
         "rawType": "float64",
         "type": "float"
        },
        {
         "name": "('Eb [GPa]', 'std')",
         "rawType": "float64",
         "type": "float"
        },
        {
         "name": "('t [mm]', 'mean')",
         "rawType": "float64",
         "type": "float"
        },
        {
         "name": "('t [mm]', 'std')",
         "rawType": "float64",
         "type": "float"
        },
        {
         "name": "('b [mm]', 'mean')",
         "rawType": "float64",
         "type": "float"
        },
        {
         "name": "('b [mm]', 'std')",
         "rawType": "float64",
         "type": "float"
        },
        {
         "name": "('Sb [MPa]', 'mean')",
         "rawType": "float64",
         "type": "float"
        },
        {
         "name": "('Sb [MPa]', 'std')",
         "rawType": "float64",
         "type": "float"
        },
        {
         "name": "('layers', '')",
         "rawType": "object",
         "type": "unknown"
        },
        {
         "name": "('Vc', '')",
         "rawType": "float64",
         "type": "float"
        }
       ],
       "ref": "eba35b96-c717-494b-8838-34b7d05f8099",
       "rows": [
        [
         "TFP1",
         "2.885509223333333",
         "0.2272951576465367",
         "0.12330555533333333",
         "0.009826739708382246",
         "279.1033333333333",
         "14.33769972252638",
         "13.201050433333334",
         "0.6308580803456912",
         "5.266666666666667",
         "0.05773502691896237",
         "25.599999999999998",
         "0.0999999999999992",
         "134.99666666666667",
         "18.94269340229455",
         "['Y', 'Y']",
         "0.178"
        ],
        [
         "TFP2",
         "2.258502544",
         "0.06562636519719042",
         "0.08755555533333333",
         "0.002839861932611568",
         "153.36",
         "0.4731807265728384",
         "9.869500666333332",
         "0.7801134840462621",
         "4.7",
         "0.0",
         "25.566666666666666",
         "0.05773502691896366",
         "117.42999999999999",
         "15.759606594074613",
         "['Y', 'X']",
         "0.164"
        ],
        [
         "TFP3",
         "2.0004365616666666",
         "0.004434942878471981",
         "0.08744444433333333",
         "0.0021639941509129235",
         "137.11333333333334",
         "4.996812317201176",
         "9.222003430000001",
         "0.4959654651807207",
         "4.833333333333333",
         "0.05773502691896295",
         "25.400000000000002",
         "0.1732050807568866",
         "128.0533333333333",
         "5.337905331994307",
         "['Y', 'SX']",
         "0.135"
        ],
        [
         "TFP4",
         "2.4513617530000005",
         "0.11435337021707032",
         "0.09547222233333334",
         "0.005491365648468998",
         "184.39666666666668",
         "1.3565151430534554",
         "10.181815286333332",
         "0.770635403114932",
         "4.7",
         "0.0",
         "25.666666666666668",
         "0.15275252316519433",
         "141.70333333333335",
         "7.525385925873396",
         "['Y', 'SY']",
         "0.144"
        ],
        [
         "TFP5",
         "1.6265822796666667",
         "0.12027157292656442",
         "0.08988888899999999",
         "0.013756900245035291",
         "99.99000000000001",
         "9.790137894840916",
         "6.14310539",
         "0.16163658335627418",
         "5.7",
         "0.0",
         "25.166666666666668",
         "0.1527525231651954",
         "107.43333333333334",
         "3.9029390634921977",
         "['Y', 'SX', 'SY']",
         "0.146"
        ],
        [
         "TFP6",
         "1.7398699316666668",
         "0.06751450755209366",
         "0.08908333333333333",
         "0.010304058325350375",
         "104.51333333333334",
         "7.708893132826098",
         "7.798059885666667",
         "0.3341860753601006",
         "5.599999999999999",
         "0.0",
         "25.03333333333333",
         "0.6350852961085856",
         "114.30666666666667",
         "11.800789521609696",
         "['Y', 'X', 'SY']",
         "0.18"
        ]
       ],
       "shape": {
        "columns": 16,
        "rows": 6
       }
      },
      "text/html": [
       "<div>\n",
       "<style scoped>\n",
       "    .dataframe tbody tr th:only-of-type {\n",
       "        vertical-align: middle;\n",
       "    }\n",
       "\n",
       "    .dataframe tbody tr th {\n",
       "        vertical-align: top;\n",
       "    }\n",
       "\n",
       "    .dataframe thead tr th {\n",
       "        text-align: left;\n",
       "    }\n",
       "\n",
       "    .dataframe thead tr:last-of-type th {\n",
       "        text-align: right;\n",
       "    }\n",
       "</style>\n",
       "<table border=\"1\" class=\"dataframe\">\n",
       "  <thead>\n",
       "    <tr>\n",
       "      <th></th>\n",
       "      <th colspan=\"2\" halign=\"left\">Et [GPa]</th>\n",
       "      <th colspan=\"2\" halign=\"left\">% e</th>\n",
       "      <th colspan=\"2\" halign=\"left\">St [MPa]</th>\n",
       "      <th colspan=\"2\" halign=\"left\">Eb [GPa]</th>\n",
       "      <th colspan=\"2\" halign=\"left\">t [mm]</th>\n",
       "      <th colspan=\"2\" halign=\"left\">b [mm]</th>\n",
       "      <th colspan=\"2\" halign=\"left\">Sb [MPa]</th>\n",
       "      <th>layers</th>\n",
       "      <th>Vc</th>\n",
       "    </tr>\n",
       "    <tr>\n",
       "      <th></th>\n",
       "      <th>mean</th>\n",
       "      <th>std</th>\n",
       "      <th>mean</th>\n",
       "      <th>std</th>\n",
       "      <th>mean</th>\n",
       "      <th>std</th>\n",
       "      <th>mean</th>\n",
       "      <th>std</th>\n",
       "      <th>mean</th>\n",
       "      <th>std</th>\n",
       "      <th>mean</th>\n",
       "      <th>std</th>\n",
       "      <th>mean</th>\n",
       "      <th>std</th>\n",
       "      <th></th>\n",
       "      <th></th>\n",
       "    </tr>\n",
       "    <tr>\n",
       "      <th>Name</th>\n",
       "      <th></th>\n",
       "      <th></th>\n",
       "      <th></th>\n",
       "      <th></th>\n",
       "      <th></th>\n",
       "      <th></th>\n",
       "      <th></th>\n",
       "      <th></th>\n",
       "      <th></th>\n",
       "      <th></th>\n",
       "      <th></th>\n",
       "      <th></th>\n",
       "      <th></th>\n",
       "      <th></th>\n",
       "      <th></th>\n",
       "      <th></th>\n",
       "    </tr>\n",
       "  </thead>\n",
       "  <tbody>\n",
       "    <tr>\n",
       "      <th>TFP1</th>\n",
       "      <td>2.885509</td>\n",
       "      <td>0.227295</td>\n",
       "      <td>0.123306</td>\n",
       "      <td>0.009827</td>\n",
       "      <td>279.103333</td>\n",
       "      <td>14.337700</td>\n",
       "      <td>13.201050</td>\n",
       "      <td>0.630858</td>\n",
       "      <td>5.266667</td>\n",
       "      <td>0.057735</td>\n",
       "      <td>25.600000</td>\n",
       "      <td>0.100000</td>\n",
       "      <td>134.996667</td>\n",
       "      <td>18.942693</td>\n",
       "      <td>[Y, Y]</td>\n",
       "      <td>0.178</td>\n",
       "    </tr>\n",
       "    <tr>\n",
       "      <th>TFP2</th>\n",
       "      <td>2.258503</td>\n",
       "      <td>0.065626</td>\n",
       "      <td>0.087556</td>\n",
       "      <td>0.002840</td>\n",
       "      <td>153.360000</td>\n",
       "      <td>0.473181</td>\n",
       "      <td>9.869501</td>\n",
       "      <td>0.780113</td>\n",
       "      <td>4.700000</td>\n",
       "      <td>0.000000</td>\n",
       "      <td>25.566667</td>\n",
       "      <td>0.057735</td>\n",
       "      <td>117.430000</td>\n",
       "      <td>15.759607</td>\n",
       "      <td>[Y, X]</td>\n",
       "      <td>0.164</td>\n",
       "    </tr>\n",
       "    <tr>\n",
       "      <th>TFP3</th>\n",
       "      <td>2.000437</td>\n",
       "      <td>0.004435</td>\n",
       "      <td>0.087444</td>\n",
       "      <td>0.002164</td>\n",
       "      <td>137.113333</td>\n",
       "      <td>4.996812</td>\n",
       "      <td>9.222003</td>\n",
       "      <td>0.495965</td>\n",
       "      <td>4.833333</td>\n",
       "      <td>0.057735</td>\n",
       "      <td>25.400000</td>\n",
       "      <td>0.173205</td>\n",
       "      <td>128.053333</td>\n",
       "      <td>5.337905</td>\n",
       "      <td>[Y, SX]</td>\n",
       "      <td>0.135</td>\n",
       "    </tr>\n",
       "    <tr>\n",
       "      <th>TFP4</th>\n",
       "      <td>2.451362</td>\n",
       "      <td>0.114353</td>\n",
       "      <td>0.095472</td>\n",
       "      <td>0.005491</td>\n",
       "      <td>184.396667</td>\n",
       "      <td>1.356515</td>\n",
       "      <td>10.181815</td>\n",
       "      <td>0.770635</td>\n",
       "      <td>4.700000</td>\n",
       "      <td>0.000000</td>\n",
       "      <td>25.666667</td>\n",
       "      <td>0.152753</td>\n",
       "      <td>141.703333</td>\n",
       "      <td>7.525386</td>\n",
       "      <td>[Y, SY]</td>\n",
       "      <td>0.144</td>\n",
       "    </tr>\n",
       "    <tr>\n",
       "      <th>TFP5</th>\n",
       "      <td>1.626582</td>\n",
       "      <td>0.120272</td>\n",
       "      <td>0.089889</td>\n",
       "      <td>0.013757</td>\n",
       "      <td>99.990000</td>\n",
       "      <td>9.790138</td>\n",
       "      <td>6.143105</td>\n",
       "      <td>0.161637</td>\n",
       "      <td>5.700000</td>\n",
       "      <td>0.000000</td>\n",
       "      <td>25.166667</td>\n",
       "      <td>0.152753</td>\n",
       "      <td>107.433333</td>\n",
       "      <td>3.902939</td>\n",
       "      <td>[Y, SX, SY]</td>\n",
       "      <td>0.146</td>\n",
       "    </tr>\n",
       "    <tr>\n",
       "      <th>TFP6</th>\n",
       "      <td>1.739870</td>\n",
       "      <td>0.067515</td>\n",
       "      <td>0.089083</td>\n",
       "      <td>0.010304</td>\n",
       "      <td>104.513333</td>\n",
       "      <td>7.708893</td>\n",
       "      <td>7.798060</td>\n",
       "      <td>0.334186</td>\n",
       "      <td>5.600000</td>\n",
       "      <td>0.000000</td>\n",
       "      <td>25.033333</td>\n",
       "      <td>0.635085</td>\n",
       "      <td>114.306667</td>\n",
       "      <td>11.800790</td>\n",
       "      <td>[Y, X, SY]</td>\n",
       "      <td>0.180</td>\n",
       "    </tr>\n",
       "  </tbody>\n",
       "</table>\n",
       "</div>"
      ],
      "text/plain": [
       "      Et [GPa]                 % e              St [MPa]             \\\n",
       "          mean       std      mean       std        mean        std   \n",
       "Name                                                                  \n",
       "TFP1  2.885509  0.227295  0.123306  0.009827  279.103333  14.337700   \n",
       "TFP2  2.258503  0.065626  0.087556  0.002840  153.360000   0.473181   \n",
       "TFP3  2.000437  0.004435  0.087444  0.002164  137.113333   4.996812   \n",
       "TFP4  2.451362  0.114353  0.095472  0.005491  184.396667   1.356515   \n",
       "TFP5  1.626582  0.120272  0.089889  0.013757   99.990000   9.790138   \n",
       "TFP6  1.739870  0.067515  0.089083  0.010304  104.513333   7.708893   \n",
       "\n",
       "       Eb [GPa]              t [mm]               b [mm]            \\\n",
       "           mean       std      mean       std       mean       std   \n",
       "Name                                                                 \n",
       "TFP1  13.201050  0.630858  5.266667  0.057735  25.600000  0.100000   \n",
       "TFP2   9.869501  0.780113  4.700000  0.000000  25.566667  0.057735   \n",
       "TFP3   9.222003  0.495965  4.833333  0.057735  25.400000  0.173205   \n",
       "TFP4  10.181815  0.770635  4.700000  0.000000  25.666667  0.152753   \n",
       "TFP5   6.143105  0.161637  5.700000  0.000000  25.166667  0.152753   \n",
       "TFP6   7.798060  0.334186  5.600000  0.000000  25.033333  0.635085   \n",
       "\n",
       "        Sb [MPa]                  layers     Vc  \n",
       "            mean        std                      \n",
       "Name                                             \n",
       "TFP1  134.996667  18.942693       [Y, Y]  0.178  \n",
       "TFP2  117.430000  15.759607       [Y, X]  0.164  \n",
       "TFP3  128.053333   5.337905      [Y, SX]  0.135  \n",
       "TFP4  141.703333   7.525386      [Y, SY]  0.144  \n",
       "TFP5  107.433333   3.902939  [Y, SX, SY]  0.146  \n",
       "TFP6  114.306667  11.800790   [Y, X, SY]  0.180  "
      ]
     },
     "execution_count": 4,
     "metadata": {},
     "output_type": "execute_result"
    }
   ],
   "source": [
    "df_stats"
   ]
  },
  {
   "cell_type": "code",
   "execution_count": 5,
   "metadata": {},
   "outputs": [],
   "source": [
    "import os \n",
    "from copy import deepcopy\n",
    "join = os.path.join\n",
    "\n",
    "\n",
    "if not os.path.exists(\"output\"):\n",
    "    os.mkdir(\"output\")"
   ]
  },
  {
   "cell_type": "code",
   "execution_count": 6,
   "metadata": {},
   "outputs": [],
   "source": [
    "Lx_span = np.linspace(12.5,100,6)"
   ]
  },
  {
   "cell_type": "code",
   "execution_count": 7,
   "metadata": {},
   "outputs": [
    {
     "data": {
      "text/plain": [
       "array([ 12.5,  30. ,  47.5,  65. ,  82.5, 100. ])"
      ]
     },
     "execution_count": 7,
     "metadata": {},
     "output_type": "execute_result"
    }
   ],
   "source": [
    "Lx_span"
   ]
  },
  {
   "cell_type": "code",
   "execution_count": 8,
   "metadata": {},
   "outputs": [
    {
     "data": {
      "text/plain": [
       "['Lx_0012', 'Lx_0030', 'Lx_0047', 'Lx_0065', 'Lx_0082', 'Lx_0100']"
      ]
     },
     "execution_count": 8,
     "metadata": {},
     "output_type": "execute_result"
    }
   ],
   "source": [
    "# int with 4 digits\n",
    "str_Lx_span = [\"Lx_\" +str(int(Lx)).zfill(4) for Lx in Lx_span]\n",
    "\n",
    "str_Lx_span"
   ]
  },
  {
   "cell_type": "code",
   "execution_count": 9,
   "metadata": {},
   "outputs": [
    {
     "name": "stdout",
     "output_type": "stream",
     "text": [
      "Running for Lx_0012 with Lx = 12.5 mm\n",
      "=========================================\n",
      "Geo file output/Lx_0012/TFP1/geo/composite_layers.inp already exists. Skipping geometry creation.\n",
      "Simulation file output/Lx_0012/TFP1/sim/main.inp already exists. Skipping simulation creation.\n",
      "['Y', 'Y', 'nucleo', 'Y', 'Y']\n",
      "Time Step:\n",
      "Time Step:\n",
      "Time Step:\n",
      "Geo file output/Lx_0012/TFP2/geo/composite_layers.inp already exists. Skipping geometry creation.\n",
      "Simulation file output/Lx_0012/TFP2/sim/main.inp already exists. Skipping simulation creation.\n",
      "['X', 'Y', 'nucleo', 'Y', 'X']\n",
      "Time Step:\n",
      "Time Step:\n",
      "Time Step:\n",
      "Geo file output/Lx_0012/TFP3/geo/composite_layers.inp already exists. Skipping geometry creation.\n",
      "Simulation file output/Lx_0012/TFP3/sim/main.inp already exists. Skipping simulation creation.\n",
      "['SX', 'Y', 'nucleo', 'Y', 'SX']\n",
      "Time Step:\n",
      "Time Step:\n",
      "Time Step:\n",
      "Geo file output/Lx_0012/TFP4/geo/composite_layers.inp already exists. Skipping geometry creation.\n",
      "Simulation file output/Lx_0012/TFP4/sim/main.inp already exists. Skipping simulation creation.\n",
      "['SY', 'Y', 'nucleo', 'Y', 'SY']\n",
      "Time Step:\n",
      "Time Step:\n",
      "Time Step:\n",
      "Geo file output/Lx_0012/TFP5/geo/composite_layers.inp already exists. Skipping geometry creation.\n",
      "Simulation file output/Lx_0012/TFP5/sim/main.inp already exists. Skipping simulation creation.\n",
      "['SY', 'SX', 'Y', 'nucleo', 'Y', 'SX', 'SY']\n",
      "Time Step:\n",
      "Time Step:\n",
      "Time Step:\n",
      "Geo file output/Lx_0012/TFP6/geo/composite_layers.inp already exists. Skipping geometry creation.\n",
      "Simulation file output/Lx_0012/TFP6/sim/main.inp already exists. Skipping simulation creation.\n",
      "['SY', 'X', 'Y', 'nucleo', 'Y', 'X', 'SY']\n",
      "Time Step:\n",
      "Time Step:\n",
      "Time Step:\n",
      "Running for Lx_0030 with Lx = 30.0 mm\n",
      "=========================================\n",
      "Geo file output/Lx_0030/TFP1/geo/composite_layers.inp already exists. Skipping geometry creation.\n",
      "Simulation file output/Lx_0030/TFP1/sim/main.inp already exists. Skipping simulation creation.\n",
      "['Y', 'Y', 'nucleo', 'Y', 'Y']\n",
      "Time Step:\n",
      "Time Step:\n",
      "Time Step:\n",
      "Geo file output/Lx_0030/TFP2/geo/composite_layers.inp already exists. Skipping geometry creation.\n",
      "Simulation file output/Lx_0030/TFP2/sim/main.inp already exists. Skipping simulation creation.\n",
      "['X', 'Y', 'nucleo', 'Y', 'X']\n",
      "Time Step:\n",
      "Time Step:\n",
      "Time Step:\n",
      "Geo file output/Lx_0030/TFP3/geo/composite_layers.inp already exists. Skipping geometry creation.\n",
      "Simulation file output/Lx_0030/TFP3/sim/main.inp already exists. Skipping simulation creation.\n",
      "['SX', 'Y', 'nucleo', 'Y', 'SX']\n",
      "Time Step:\n",
      "Time Step:\n",
      "Time Step:\n",
      "Geo file output/Lx_0030/TFP4/geo/composite_layers.inp already exists. Skipping geometry creation.\n",
      "Simulation file output/Lx_0030/TFP4/sim/main.inp already exists. Skipping simulation creation.\n",
      "['SY', 'Y', 'nucleo', 'Y', 'SY']\n",
      "Time Step:\n",
      "Time Step:\n",
      "Time Step:\n",
      "Geo file output/Lx_0030/TFP5/geo/composite_layers.inp already exists. Skipping geometry creation.\n",
      "Simulation file output/Lx_0030/TFP5/sim/main.inp already exists. Skipping simulation creation.\n",
      "['SY', 'SX', 'Y', 'nucleo', 'Y', 'SX', 'SY']\n",
      "Time Step:\n",
      "Time Step:\n",
      "Time Step:\n",
      "Geo file output/Lx_0030/TFP6/geo/composite_layers.inp already exists. Skipping geometry creation.\n",
      "Simulation file output/Lx_0030/TFP6/sim/main.inp already exists. Skipping simulation creation.\n",
      "['SY', 'X', 'Y', 'nucleo', 'Y', 'X', 'SY']\n",
      "Time Step:\n",
      "Time Step:\n",
      "Time Step:\n",
      "Running for Lx_0047 with Lx = 47.5 mm\n",
      "=========================================\n",
      "Geo file output/Lx_0047/TFP1/geo/composite_layers.inp already exists. Skipping geometry creation.\n",
      "Simulation file output/Lx_0047/TFP1/sim/main.inp already exists. Skipping simulation creation.\n",
      "['Y', 'Y', 'nucleo', 'Y', 'Y']\n",
      "Time Step:\n",
      "Time Step:\n",
      "Time Step:\n",
      "Geo file output/Lx_0047/TFP2/geo/composite_layers.inp already exists. Skipping geometry creation.\n",
      "Simulation file output/Lx_0047/TFP2/sim/main.inp already exists. Skipping simulation creation.\n",
      "['X', 'Y', 'nucleo', 'Y', 'X']\n",
      "Time Step:\n",
      "Time Step:\n",
      "Time Step:\n",
      "Geo file output/Lx_0047/TFP3/geo/composite_layers.inp already exists. Skipping geometry creation.\n",
      "Simulation file output/Lx_0047/TFP3/sim/main.inp already exists. Skipping simulation creation.\n",
      "['SX', 'Y', 'nucleo', 'Y', 'SX']\n",
      "Time Step:\n",
      "Time Step:\n",
      "Time Step:\n",
      "Geo file output/Lx_0047/TFP4/geo/composite_layers.inp already exists. Skipping geometry creation.\n",
      "Simulation file output/Lx_0047/TFP4/sim/main.inp already exists. Skipping simulation creation.\n",
      "['SY', 'Y', 'nucleo', 'Y', 'SY']\n",
      "Time Step:\n",
      "Time Step:\n",
      "Time Step:\n",
      "Geo file output/Lx_0047/TFP5/geo/composite_layers.inp already exists. Skipping geometry creation.\n",
      "Simulation file output/Lx_0047/TFP5/sim/main.inp already exists. Skipping simulation creation.\n",
      "['SY', 'SX', 'Y', 'nucleo', 'Y', 'SX', 'SY']\n",
      "Time Step:\n",
      "Time Step:\n",
      "Time Step:\n",
      "Geo file output/Lx_0047/TFP6/geo/composite_layers.inp already exists. Skipping geometry creation.\n",
      "Simulation file output/Lx_0047/TFP6/sim/main.inp already exists. Skipping simulation creation.\n",
      "['SY', 'X', 'Y', 'nucleo', 'Y', 'X', 'SY']\n",
      "Time Step:\n",
      "Time Step:\n",
      "Time Step:\n",
      "Running for Lx_0065 with Lx = 65.0 mm\n",
      "=========================================\n",
      "Geo file output/Lx_0065/TFP1/geo/composite_layers.inp already exists. Skipping geometry creation.\n",
      "Simulation file output/Lx_0065/TFP1/sim/main.inp already exists. Skipping simulation creation.\n",
      "['Y', 'Y', 'nucleo', 'Y', 'Y']\n",
      "Time Step:\n",
      "Time Step:\n",
      "Time Step:\n",
      "Geo file output/Lx_0065/TFP2/geo/composite_layers.inp already exists. Skipping geometry creation.\n",
      "Simulation file output/Lx_0065/TFP2/sim/main.inp already exists. Skipping simulation creation.\n",
      "['X', 'Y', 'nucleo', 'Y', 'X']\n",
      "Time Step:\n",
      "Time Step:\n",
      "Time Step:\n",
      "Geo file output/Lx_0065/TFP3/geo/composite_layers.inp already exists. Skipping geometry creation.\n",
      "Simulation file output/Lx_0065/TFP3/sim/main.inp already exists. Skipping simulation creation.\n",
      "['SX', 'Y', 'nucleo', 'Y', 'SX']\n",
      "Time Step:\n",
      "Time Step:\n",
      "Time Step:\n",
      "Geo file output/Lx_0065/TFP4/geo/composite_layers.inp already exists. Skipping geometry creation.\n",
      "Simulation file output/Lx_0065/TFP4/sim/main.inp already exists. Skipping simulation creation.\n",
      "['SY', 'Y', 'nucleo', 'Y', 'SY']\n",
      "Time Step:\n",
      "Time Step:\n",
      "Time Step:\n",
      "Geo file output/Lx_0065/TFP5/geo/composite_layers.inp already exists. Skipping geometry creation.\n",
      "Simulation file output/Lx_0065/TFP5/sim/main.inp already exists. Skipping simulation creation.\n",
      "['SY', 'SX', 'Y', 'nucleo', 'Y', 'SX', 'SY']\n",
      "Time Step:\n",
      "Time Step:\n",
      "Time Step:\n",
      "Geo file output/Lx_0065/TFP6/geo/composite_layers.inp already exists. Skipping geometry creation.\n",
      "Simulation file output/Lx_0065/TFP6/sim/main.inp already exists. Skipping simulation creation.\n",
      "['SY', 'X', 'Y', 'nucleo', 'Y', 'X', 'SY']\n",
      "Time Step:\n",
      "Time Step:\n",
      "Time Step:\n",
      "Running for Lx_0082 with Lx = 82.5 mm\n",
      "=========================================\n",
      "Geo file output/Lx_0082/TFP1/geo/composite_layers.inp already exists. Skipping geometry creation.\n",
      "Simulation file output/Lx_0082/TFP1/sim/main.inp already exists. Skipping simulation creation.\n",
      "['Y', 'Y', 'nucleo', 'Y', 'Y']\n",
      "Time Step:\n",
      "Time Step:\n",
      "Time Step:\n",
      "Geo file output/Lx_0082/TFP2/geo/composite_layers.inp already exists. Skipping geometry creation.\n",
      "Simulation file output/Lx_0082/TFP2/sim/main.inp already exists. Skipping simulation creation.\n",
      "['X', 'Y', 'nucleo', 'Y', 'X']\n",
      "Time Step:\n",
      "Time Step:\n",
      "Time Step:\n",
      "Geo file output/Lx_0082/TFP3/geo/composite_layers.inp already exists. Skipping geometry creation.\n",
      "Simulation file output/Lx_0082/TFP3/sim/main.inp already exists. Skipping simulation creation.\n",
      "['SX', 'Y', 'nucleo', 'Y', 'SX']\n",
      "Time Step:\n",
      "Time Step:\n",
      "Time Step:\n",
      "Geo file output/Lx_0082/TFP4/geo/composite_layers.inp already exists. Skipping geometry creation.\n",
      "Simulation file output/Lx_0082/TFP4/sim/main.inp already exists. Skipping simulation creation.\n",
      "['SY', 'Y', 'nucleo', 'Y', 'SY']\n",
      "Time Step:\n",
      "Time Step:\n",
      "Time Step:\n",
      "Geo file output/Lx_0082/TFP5/geo/composite_layers.inp already exists. Skipping geometry creation.\n",
      "Simulation file output/Lx_0082/TFP5/sim/main.inp already exists. Skipping simulation creation.\n",
      "['SY', 'SX', 'Y', 'nucleo', 'Y', 'SX', 'SY']\n",
      "Time Step:\n",
      "Time Step:\n",
      "Time Step:\n",
      "Geo file output/Lx_0082/TFP6/geo/composite_layers.inp already exists. Skipping geometry creation.\n",
      "Simulation file output/Lx_0082/TFP6/sim/main.inp already exists. Skipping simulation creation.\n",
      "['SY', 'X', 'Y', 'nucleo', 'Y', 'X', 'SY']\n",
      "Time Step:\n",
      "Time Step:\n",
      "Time Step:\n",
      "Running for Lx_0100 with Lx = 100.0 mm\n",
      "=========================================\n",
      "Geo file output/Lx_0100/TFP1/geo/composite_layers.inp already exists. Skipping geometry creation.\n",
      "Simulation file output/Lx_0100/TFP1/sim/main.inp already exists. Skipping simulation creation.\n",
      "['Y', 'Y', 'nucleo', 'Y', 'Y']\n",
      "Time Step:\n",
      "Time Step:\n",
      "Time Step:\n",
      "Geo file output/Lx_0100/TFP2/geo/composite_layers.inp already exists. Skipping geometry creation.\n",
      "Simulation file output/Lx_0100/TFP2/sim/main.inp already exists. Skipping simulation creation.\n",
      "['X', 'Y', 'nucleo', 'Y', 'X']\n",
      "Time Step:\n",
      "Time Step:\n",
      "Time Step:\n",
      "Geo file output/Lx_0100/TFP3/geo/composite_layers.inp already exists. Skipping geometry creation.\n",
      "Simulation file output/Lx_0100/TFP3/sim/main.inp already exists. Skipping simulation creation.\n",
      "['SX', 'Y', 'nucleo', 'Y', 'SX']\n",
      "Time Step:\n",
      "Time Step:\n",
      "Time Step:\n",
      "Geo file output/Lx_0100/TFP4/geo/composite_layers.inp already exists. Skipping geometry creation.\n",
      "Simulation file output/Lx_0100/TFP4/sim/main.inp already exists. Skipping simulation creation.\n",
      "['SY', 'Y', 'nucleo', 'Y', 'SY']\n",
      "Time Step:\n",
      "Time Step:\n",
      "Time Step:\n",
      "Geo file output/Lx_0100/TFP5/geo/composite_layers.inp already exists. Skipping geometry creation.\n",
      "Simulation file output/Lx_0100/TFP5/sim/main.inp already exists. Skipping simulation creation.\n",
      "['SY', 'SX', 'Y', 'nucleo', 'Y', 'SX', 'SY']\n",
      "Time Step:\n",
      "Time Step:\n",
      "Time Step:\n",
      "Geo file output/Lx_0100/TFP6/geo/composite_layers.inp already exists. Skipping geometry creation.\n",
      "Simulation file output/Lx_0100/TFP6/sim/main.inp already exists. Skipping simulation creation.\n",
      "['SY', 'X', 'Y', 'nucleo', 'Y', 'X', 'SY']\n",
      "Time Step:\n",
      "Time Step:\n",
      "Time Step:\n"
     ]
    }
   ],
   "source": [
    "\n",
    "\n",
    "Lx_loop_results = []\n",
    "\n",
    "for name_loop,iLx in zip(str_Lx_span, Lx_span):\n",
    "\n",
    "    print(f\"Running for {name_loop} with Lx = {iLx} mm\")\n",
    "    print(\"=========================================\")\n",
    "    all_params = []\n",
    "\n",
    "    for id_design in range(6):\n",
    "\n",
    "        params_loop = deepcopy(params)\n",
    "        # =============================================================================\n",
    "        params_loop[\"geo\"][\"Ly\"]  = df_stats[\"b [mm]\"][\"mean\"].iloc[id_design]\n",
    "        params_loop[\"geo\"][\"Lx\"]  = iLx\n",
    "        \n",
    "        lyrs = df_stats[\"layers\"].iloc[id_design]\n",
    "        E_l  = df_layers.loc[lyrs][\"E\"].values*1e3 # MPa\n",
    "        params_loop[\"sim\"][\"E_l\"] = E_l\n",
    "        params_loop[\"sim\"][\"name_mat\"] = df_stats[\"layers\"].iloc[id_design]\n",
    "        # =============================================================================\n",
    "        name = df_stats.index[id_design]\n",
    "        params_loop[\"output_folder\"] = join(\"output\",name_loop, name)\n",
    "\n",
    "        if not os.path.exists(params_loop[\"output_folder\"]):\n",
    "            os.makedirs(params_loop[\"output_folder\"])\n",
    "        \n",
    "        inp_f = FullBending(params_loop)\n",
    "        \n",
    "        all_params.append(params_loop)    \n",
    "    \n",
    "    Lx_loop_results.append(all_params)"
   ]
  },
  {
   "cell_type": "markdown",
   "metadata": {},
   "source": []
  },
  {
   "cell_type": "code",
   "execution_count": null,
   "metadata": {},
   "outputs": [],
   "source": []
  },
  {
   "cell_type": "code",
   "execution_count": 10,
   "metadata": {},
   "outputs": [],
   "source": [
    "df_stats_all = []\n",
    "for kall_params in Lx_loop_results:\n",
    "    idf_stats = df_stats.copy()\n",
    "    idf_stats[\"Eb pred [GPa]\"]  = [ iall_params[\"Eflex\"] for iall_params in kall_params]\n",
    "    idf_stats[\"Eb analytical pred [GPa]\"]  = [ iall_params[\"Eflexion_analytical\"] for iall_params in kall_params]\n",
    "    idf_stats[\"Sb pred [MPa]\"] = [ iall_params[\"rpostbending\"] for iall_params in kall_params]\n",
    "    idf_stats[\"Et analytical pred [GPa]\"]  = [ iall_params[\"Etensile_analytical\"] for iall_params in kall_params]\n",
    "    tau_pred  = [ iall_params[\"geo\"][\"t_t\"] for iall_params in kall_params]\n",
    "    idf_stats[\"t pred [mm]\"] = tau_pred\n",
    "    df_stats_all.append(idf_stats)"
   ]
  },
  {
   "cell_type": "code",
   "execution_count": 11,
   "metadata": {},
   "outputs": [
    {
     "data": {
      "application/vnd.microsoft.datawrangler.viewer.v0+json": {
       "columns": [
        {
         "name": "Name",
         "rawType": "object",
         "type": "string"
        },
        {
         "name": "Eb analytical pred [GPa]",
         "rawType": "float64",
         "type": "float"
        }
       ],
       "ref": "48062941-8c51-4352-bdcd-46f0dcdde30d",
       "rows": [
        [
         "TFP1",
         "16.704123078475284"
        ],
        [
         "TFP2",
         "8.96211512405766"
        ],
        [
         "TFP3",
         "7.8146183102969555"
        ],
        [
         "TFP4",
         "9.239917096410716"
        ],
        [
         "TFP5",
         "6.965985135408507"
        ],
        [
         "TFP6",
         "7.635849035478254"
        ]
       ],
       "shape": {
        "columns": 1,
        "rows": 6
       }
      },
      "text/plain": [
       "Name\n",
       "TFP1    16.704123\n",
       "TFP2     8.962115\n",
       "TFP3     7.814618\n",
       "TFP4     9.239917\n",
       "TFP5     6.965985\n",
       "TFP6     7.635849\n",
       "Name: Eb analytical pred [GPa], dtype: float64"
      ]
     },
     "execution_count": 11,
     "metadata": {},
     "output_type": "execute_result"
    }
   ],
   "source": [
    "df_stats_all[0][\"Eb analytical pred [GPa]\"]"
   ]
  },
  {
   "cell_type": "code",
   "execution_count": 12,
   "metadata": {},
   "outputs": [
    {
     "data": {
      "application/vnd.microsoft.datawrangler.viewer.v0+json": {
       "columns": [
        {
         "name": "Name",
         "rawType": "object",
         "type": "string"
        },
        {
         "name": "mean",
         "rawType": "float64",
         "type": "float"
        },
        {
         "name": "std",
         "rawType": "float64",
         "type": "float"
        }
       ],
       "ref": "2ec5e69d-6276-48fd-969d-b83e79689074",
       "rows": [
        [
         "TFP1",
         "2.885509223333333",
         "0.2272951576465367"
        ],
        [
         "TFP2",
         "2.258502544",
         "0.06562636519719042"
        ],
        [
         "TFP3",
         "2.0004365616666666",
         "0.004434942878471981"
        ],
        [
         "TFP4",
         "2.4513617530000005",
         "0.11435337021707032"
        ],
        [
         "TFP5",
         "1.6265822796666667",
         "0.12027157292656442"
        ],
        [
         "TFP6",
         "1.7398699316666668",
         "0.06751450755209366"
        ]
       ],
       "shape": {
        "columns": 2,
        "rows": 6
       }
      },
      "text/html": [
       "<div>\n",
       "<style scoped>\n",
       "    .dataframe tbody tr th:only-of-type {\n",
       "        vertical-align: middle;\n",
       "    }\n",
       "\n",
       "    .dataframe tbody tr th {\n",
       "        vertical-align: top;\n",
       "    }\n",
       "\n",
       "    .dataframe thead th {\n",
       "        text-align: right;\n",
       "    }\n",
       "</style>\n",
       "<table border=\"1\" class=\"dataframe\">\n",
       "  <thead>\n",
       "    <tr style=\"text-align: right;\">\n",
       "      <th></th>\n",
       "      <th>mean</th>\n",
       "      <th>std</th>\n",
       "    </tr>\n",
       "    <tr>\n",
       "      <th>Name</th>\n",
       "      <th></th>\n",
       "      <th></th>\n",
       "    </tr>\n",
       "  </thead>\n",
       "  <tbody>\n",
       "    <tr>\n",
       "      <th>TFP1</th>\n",
       "      <td>2.885509</td>\n",
       "      <td>0.227295</td>\n",
       "    </tr>\n",
       "    <tr>\n",
       "      <th>TFP2</th>\n",
       "      <td>2.258503</td>\n",
       "      <td>0.065626</td>\n",
       "    </tr>\n",
       "    <tr>\n",
       "      <th>TFP3</th>\n",
       "      <td>2.000437</td>\n",
       "      <td>0.004435</td>\n",
       "    </tr>\n",
       "    <tr>\n",
       "      <th>TFP4</th>\n",
       "      <td>2.451362</td>\n",
       "      <td>0.114353</td>\n",
       "    </tr>\n",
       "    <tr>\n",
       "      <th>TFP5</th>\n",
       "      <td>1.626582</td>\n",
       "      <td>0.120272</td>\n",
       "    </tr>\n",
       "    <tr>\n",
       "      <th>TFP6</th>\n",
       "      <td>1.739870</td>\n",
       "      <td>0.067515</td>\n",
       "    </tr>\n",
       "  </tbody>\n",
       "</table>\n",
       "</div>"
      ],
      "text/plain": [
       "          mean       std\n",
       "Name                    \n",
       "TFP1  2.885509  0.227295\n",
       "TFP2  2.258503  0.065626\n",
       "TFP3  2.000437  0.004435\n",
       "TFP4  2.451362  0.114353\n",
       "TFP5  1.626582  0.120272\n",
       "TFP6  1.739870  0.067515"
      ]
     },
     "execution_count": 12,
     "metadata": {},
     "output_type": "execute_result"
    }
   ],
   "source": [
    "df_stats_all[0][\"Et [GPa]\"]"
   ]
  },
  {
   "cell_type": "code",
   "execution_count": 13,
   "metadata": {},
   "outputs": [],
   "source": [
    "TFP_str = [\"TFP1\", \"TFP2\", \"TFP3\", \"TFP4\", \"TFP5\", \"TFP6\"]\n",
    "TFP_Eb = [ [ ids[\"Eb pred [GPa]\"].loc[TFP] \n",
    "            for ids in df_stats_all] \n",
    "            for TFP in TFP_str ]\n",
    "\n",
    "TFP_Eb_ana = [ [ ids[\"Eb analytical pred [GPa]\"].loc[TFP]\n",
    "            for ids in df_stats_all][0]\n",
    "            for TFP in TFP_str ]\n",
    "\n",
    "TFP_Et_ana = [ [ ids[\"Et analytical pred [GPa]\"].loc[TFP]\n",
    "            for ids in df_stats_all][0]\n",
    "            for TFP in TFP_str ]"
   ]
  },
  {
   "cell_type": "code",
   "execution_count": 14,
   "metadata": {},
   "outputs": [
    {
     "data": {
      "text/plain": [
       "[np.float64(16.704123078475284),\n",
       " np.float64(8.96211512405766),\n",
       " np.float64(7.8146183102969555),\n",
       " np.float64(9.239917096410716),\n",
       " np.float64(6.965985135408507),\n",
       " np.float64(7.635849035478254)]"
      ]
     },
     "execution_count": 14,
     "metadata": {},
     "output_type": "execute_result"
    }
   ],
   "source": [
    "TFP_Eb_ana"
   ]
  },
  {
   "cell_type": "code",
   "execution_count": 51,
   "metadata": {},
   "outputs": [
    {
     "data": {
      "image/png": "[encoded data removed]",
      "text/plain": [
       "<Figure size 900x1000 with 6 Axes>"
      ]
     },
     "metadata": {},
     "output_type": "display_data"
    }
   ],
   "source": [
    "from matplotlib import pyplot as plt\n",
    "fig = plt.figure(figsize=(9, 10))\n",
    "#padding \n",
    "fig.subplots_adjust(hspace=0.4, wspace=0.3)\n",
    "for iTFP, TFP in enumerate(TFP_str):\n",
    "    plt.subplot(3, 2, iTFP+1)\n",
    "    plt.plot(2*Lx_span, TFP_Eb[iTFP], label=TFP,marker=\"o\", linestyle=\"-\")\n",
    "    plt.axhline(TFP_Eb_ana[iTFP], linestyle=\"--\", color=\"k\", \n",
    "                label=r\"$E_{analítico}$\")\n",
    "    \n",
    "    plt.xlabel(\"$L_x$ [mm]\")\n",
    "    plt.ylabel(r\"$E_{flexión}$ [GPa]\")\n",
    "    factor = TFP_Eb[iTFP][1]/TFP_Eb_ana[iTFP]\n",
    "    # plt.title(f\"{TFP}   |   \"+\"$E_{60}/E_{analítico}:\"+f\" {factor:.2f}$\")\n",
    "    # plt.title(f\"{TFP}\")\n",
    "    plt.ylim(0, 1.2*max(TFP_Eb[iTFP]))\n",
    "    plt.grid()\n",
    "    # vrtical at 60mm \n",
    "    plt.axvline(60, linestyle=\"--\", color=\"r\", label=r\"$L_x = 60 mm$\")\n",
    "    plt.legend()"
   ]
  },
  {
   "cell_type": "code",
   "execution_count": 16,
   "metadata": {},
   "outputs": [
    {
     "data": {
      "text/plain": [
       "[np.float64(16.704123078475284),\n",
       " np.float64(8.96211512405766),\n",
       " np.float64(7.8146183102969555),\n",
       " np.float64(9.239917096410716),\n",
       " np.float64(6.965985135408507),\n",
       " np.float64(7.635849035478254)]"
      ]
     },
     "execution_count": 16,
     "metadata": {},
     "output_type": "execute_result"
    }
   ],
   "source": [
    "TFP_Eb_ana"
   ]
  },
  {
   "cell_type": "code",
   "execution_count": 17,
   "metadata": {},
   "outputs": [
    {
     "data": {
      "text/plain": [
       "<matplotlib.legend.Legend at 0x7f98798d0510>"
      ]
     },
     "execution_count": 17,
     "metadata": {},
     "output_type": "execute_result"
    },
    {
     "data": {
      "image/png": "[encoded data removed]",
      "text/plain": [
       "<Figure size 600x900 with 2 Axes>"
      ]
     },
     "metadata": {},
     "output_type": "display_data"
    }
   ],
   "source": [
    "# bar plot analytical traction vs flexion\n",
    "\n",
    "plt.figure(figsize=(6, 9))\n",
    "plt.subplot(2,1,1)\n",
    "x = np.arange(len(TFP_str))\n",
    "width = 0.35  # the width of the bars\n",
    "plt.bar(x - width/2, TFP_Eb_ana, width, label='Flexión')\n",
    "plt.bar(x + width/2, TFP_Et_ana, width, label='Tracción')\n",
    "plt.xlabel('TFP')\n",
    "plt.ylabel('E [GPa]')\n",
    "plt.title('Comparación de E analítico de flexión y tracción')\n",
    "plt.xticks(x, TFP_str)\n",
    "plt.legend()\n",
    "plt.grid()\n",
    "plt.subplot(2,1,2)\n",
    "plt.plot(TFP_Eb_ana, TFP_Et_ana, marker='o', linestyle='none', label='E flexión vs E tracción')\n",
    "for i, TFP in enumerate(TFP_str):\n",
    "    plt.text(TFP_Eb_ana[i], TFP_Et_ana[i], TFP, fontsize=9, ha='right')\n",
    "plt.xlabel('E flexión [GPa]')\n",
    "plt.ylabel('E tracción [GPa]')\n",
    "plt.title('E flexión vs E tracción')\n",
    "plt.grid()\n",
    "# 1vs1 \n",
    "plt.plot([min(TFP_Eb_ana), max(TFP_Eb_ana)], \n",
    "         [min(TFP_Eb_ana), max(TFP_Eb_ana)], linestyle='--', color='k', label='1:1')\n",
    "plt.legend()"
   ]
  },
  {
   "cell_type": "code",
   "execution_count": 18,
   "metadata": {},
   "outputs": [
    {
     "name": "stderr",
     "output_type": "stream",
     "text": [
      "/tmp/ipykernel_859182/3955085854.py:24: FutureWarning: Series.__getitem__ treating keys as positions is deprecated. In a future version, integer keys will always be treated as labels (consistent with DataFrame behavior). To access a value by position, use `ser.iloc[pos]`\n",
      "  plt.text(df_stats[\"Eb [GPa]\"][\"mean\"][i], df_stats[\"Et [GPa]\"][\"mean\"][i], TFP, fontsize=9, ha='right')\n"
     ]
    },
    {
     "data": {
      "text/plain": [
       "<matplotlib.legend.Legend at 0x7f987b2808d0>"
      ]
     },
     "execution_count": 18,
     "metadata": {},
     "output_type": "execute_result"
    },
    {
     "data": {
      "image/png": "[encoded data removed]",
      "text/plain": [
       "<Figure size 600x900 with 2 Axes>"
      ]
     },
     "metadata": {},
     "output_type": "display_data"
    }
   ],
   "source": [
    "# experimental  \n",
    "df_stats[\"Eb [GPa]\"][\"mean\"]\n",
    "df_stats[\"Et [GPa]\"][\"mean\"]\n",
    "\n",
    "# bar plots \n",
    "x = np.arange(len(TFP_str))\n",
    "width = 0.35  # the width of the bars\n",
    "plt.figure(figsize=(6, 9))\n",
    "plt.subplot(2,1,1)\n",
    "plt.bar(x - width/2, df_stats[\"Eb [GPa]\"][\"mean\"],\n",
    "        width, label='Flexión')\n",
    "plt.bar(x + width/2, df_stats[\"Et [GPa]\"][\"mean\"],\n",
    "        width, label='Tracción')\n",
    "plt.xlabel('TFP')\n",
    "plt.ylabel('E [GPa]')\n",
    "plt.title('Comparación de E experimental de flexión y tracción')\n",
    "plt.grid()\n",
    "plt.legend()\n",
    "plt.xticks(x, TFP_str)\n",
    "plt.subplot(2,1,2)\n",
    "plt.plot(df_stats[\"Eb [GPa]\"][\"mean\"], df_stats[\"Et [GPa]\"][\"mean\"],\n",
    "         marker='o', linestyle='none', label='E flexión vs E tracción')\n",
    "for i, TFP in enumerate(TFP_str):\n",
    "    plt.text(df_stats[\"Eb [GPa]\"][\"mean\"][i], df_stats[\"Et [GPa]\"][\"mean\"][i], TFP, fontsize=9, ha='right')\n",
    "plt.xlabel('E flexión [GPa]')\n",
    "plt.ylabel('E tracción [GPa]')\n",
    "plt.title('E flexión vs E tracción')\n",
    "plt.grid()\n",
    "plt.legend()\n",
    "# 1vs1\n",
    "plt.plot([min(df_stats[\"Eb [GPa]\"][\"mean\"]), max(df_stats[\"Eb [GPa]\"][\"mean\"])], \n",
    "         [min(df_stats[\"Eb [GPa]\"][\"mean\"]), max(df_stats[\"Eb [GPa]\"][\"mean\"])], \n",
    "         linestyle='--', color='k', label='1:1')\n",
    "plt.legend()"
   ]
  },
  {
   "cell_type": "code",
   "execution_count": 19,
   "metadata": {},
   "outputs": [
    {
     "name": "stderr",
     "output_type": "stream",
     "text": [
      "/tmp/ipykernel_859182/2352891751.py:2: FutureWarning: Series.__getitem__ treating keys as positions is deprecated. In a future version, integer keys will always be treated as labels (consistent with DataFrame behavior). To access a value by position, use `ser.iloc[pos]`\n",
      "  ratio_flex_trac_exp = [ df_stats[\"Eb [GPa]\"][\"mean\"][i]/df_stats[\"Et [GPa]\"][\"mean\"][i] for i in range(len(TFP_str)) ]\n"
     ]
    },
    {
     "data": {
      "image/png": "[encoded data removed]",
      "text/plain": [
       "<Figure size 600x400 with 1 Axes>"
      ]
     },
     "metadata": {},
     "output_type": "display_data"
    }
   ],
   "source": [
    "ratio_flex_trac = [ TFP_Eb_ana[i]/TFP_Et_ana[i] for i in range(len(TFP_str)) ]\n",
    "ratio_flex_trac_exp = [ df_stats[\"Eb [GPa]\"][\"mean\"][i]/df_stats[\"Et [GPa]\"][\"mean\"][i] for i in range(len(TFP_str)) ]\n",
    "plt.figure(figsize=(6, 4))\n",
    "x = np.arange(len(TFP_str))\n",
    "width = 0.35  # the width of the bars\n",
    "plt.bar(x - width/2, ratio_flex_trac_exp, width, label='Experimental')\n",
    "plt.bar(x + width/2, ratio_flex_trac, width, label='FEM')\n",
    "plt.xlabel('TFP')\n",
    "plt.xlabel('TFP')\n",
    "plt.ylabel(r\"$E_{flexión}/E_{tracción}$\")\n",
    "plt.title(r'Comparación de $E_{flexión}/E_{tracción}$')\n",
    "plt.xticks(x, TFP_str)\n",
    "plt.legend()\n",
    "plt.grid()"
   ]
  },
  {
   "cell_type": "code",
   "execution_count": 20,
   "metadata": {},
   "outputs": [
    {
     "data": {
      "text/plain": [
       "Text(0.5, 1.0, 'Comparación de $E_{flexión}/E_{tracción}$')"
      ]
     },
     "execution_count": 20,
     "metadata": {},
     "output_type": "execute_result"
    },
    {
     "data": {
      "image/png": "[encoded data removed]",
      "text/plain": [
       "<Figure size 800x600 with 1 Axes>"
      ]
     },
     "metadata": {},
     "output_type": "display_data"
    }
   ],
   "source": [
    "# x vs y \n",
    "plt.figure(figsize=(8, 6))\n",
    "for iTFP, TFP in enumerate(TFP_str):    \n",
    "    plt.plot(ratio_flex_trac[iTFP], ratio_flex_trac_exp[iTFP], marker='o', linestyle='-', label=TFP)\n",
    "    plt.text(ratio_flex_trac[iTFP], ratio_flex_trac_exp[iTFP], TFP, fontsize=9, ha='right')\n",
    "plt.xlabel(r\"$E_{flexión}/E_{tracción}$ FEM\")\n",
    "plt.ylabel(r\"$E_{flexión}/E_{tracción}$ Experimental\")\n",
    "plt.title(r'Comparación de $E_{flexión}/E_{tracción}$')"
   ]
  },
  {
   "cell_type": "code",
   "execution_count": 21,
   "metadata": {},
   "outputs": [
    {
     "name": "stderr",
     "output_type": "stream",
     "text": [
      "/tmp/ipykernel_859182/3298415964.py:4: FutureWarning: Series.__getitem__ treating keys as positions is deprecated. In a future version, integer keys will always be treated as labels (consistent with DataFrame behavior). To access a value by position, use `ser.iloc[pos]`\n",
      "  plt.text(df_stats[\"Eb [GPa]\"][\"mean\"][i],\n",
      "/tmp/ipykernel_859182/3298415964.py:5: FutureWarning: Series.__getitem__ treating keys as positions is deprecated. In a future version, integer keys will always be treated as labels (consistent with DataFrame behavior). To access a value by position, use `ser.iloc[pos]`\n",
      "  df_stats[\"Et [GPa]\"][\"mean\"][i], TFP, fontsize=9, ha='right')\n"
     ]
    },
    {
     "data": {
      "text/plain": [
       "<matplotlib.legend.Legend at 0x7f9879decf90>"
      ]
     },
     "execution_count": 21,
     "metadata": {},
     "output_type": "execute_result"
    },
    {
     "data": {
      "image/png": "[encoded data removed]",
      "text/plain": [
       "<Figure size 640x480 with 1 Axes>"
      ]
     },
     "metadata": {},
     "output_type": "display_data"
    }
   ],
   "source": [
    "plt.plot(df_stats[\"Eb [GPa]\"][\"mean\"], df_stats[\"Et [GPa]\"][\"mean\"],\n",
    "         marker='o', linestyle='none', label=\"Experimental\")\n",
    "for i, TFP in enumerate(TFP_str):\n",
    "    plt.text(df_stats[\"Eb [GPa]\"][\"mean\"][i], \n",
    "             df_stats[\"Et [GPa]\"][\"mean\"][i], TFP, fontsize=9, ha='right')\n",
    "\n",
    "\n",
    "\n",
    "plt.plot(TFP_Eb_ana, TFP_Et_ana, marker='o', linestyle='none', label='FEM')\n",
    "for i, TFP in enumerate(TFP_str):\n",
    "    plt.text(TFP_Eb_ana[i], TFP_Et_ana[i], TFP, fontsize=9, ha='right')\n",
    "plt.xlabel('E flexión [GPa]')\n",
    "plt.ylabel('E tracción [GPa]')\n",
    "plt.title('E flexión vs E tracción')\n",
    "plt.grid()\n",
    "plt.legend()"
   ]
  },
  {
   "cell_type": "code",
   "execution_count": 22,
   "metadata": {},
   "outputs": [
    {
     "data": {
      "text/plain": [
       "[[np.float64(5.51507132847271),\n",
       "  np.float64(12.630373157812446),\n",
       "  np.float64(14.872159460385012),\n",
       "  np.float64(15.706182521968039),\n",
       "  np.float64(16.08912769617717),\n",
       "  np.float64(16.29323228792881)],\n",
       " [np.float64(3.82078314510414),\n",
       "  np.float64(7.463201058338979),\n",
       "  np.float64(8.348077204072363),\n",
       "  np.float64(8.64622976309796),\n",
       "  np.float64(8.776726609300864),\n",
       "  np.float64(8.843943475537005)],\n",
       " [np.float64(3.401763045590269),\n",
       "  np.float64(6.580168381307936),\n",
       "  np.float64(7.318167124207056),\n",
       "  np.float64(7.5619279622637965),\n",
       "  np.float64(7.66760964096716),\n",
       "  np.float64(7.721746397397358)],\n",
       " [np.float64(3.90704191888742),\n",
       "  np.float64(7.669670253570873),\n",
       "  np.float64(8.594813707608083),\n",
       "  np.float64(8.907105854897583),\n",
       "  np.float64(9.044128308734745),\n",
       "  np.float64(9.114869106801944)],\n",
       " [np.float64(2.760704752787856),\n",
       "  np.float64(5.679760616711084),\n",
       "  np.float64(6.428922279694115),\n",
       "  np.float64(6.685347494021477),\n",
       "  np.float64(6.798661705892691),\n",
       "  np.float64(6.8575735108820695)],\n",
       " [np.float64(2.948850128973917),\n",
       "  np.float64(6.152746016988129),\n",
       "  np.float64(7.004944856984139),\n",
       "  np.float64(7.303216378644506),\n",
       "  np.float64(7.435979922462919),\n",
       "  np.float64(7.504914251393969)]]"
      ]
     },
     "execution_count": 22,
     "metadata": {},
     "output_type": "execute_result"
    }
   ],
   "source": [
    "TFP_Eb"
   ]
  },
  {
   "cell_type": "code",
   "execution_count": 23,
   "metadata": {},
   "outputs": [
    {
     "data": {
      "image/png": "[encoded data removed]",
      "text/plain": [
       "<Figure size 800x600 with 1 Axes>"
      ]
     },
     "metadata": {},
     "output_type": "display_data"
    }
   ],
   "source": [
    "# x vs y \n",
    "plt.figure(figsize=(8, 6))\n",
    "for iTFP, TFP in enumerate(TFP_str):\n",
    "    plt.plot(TFP_Eb_ana[iTFP], TFP_Et_ana[iTFP], marker='o', linestyle='-', label=TFP)\n",
    "    plt.text(TFP_Eb_ana[iTFP], TFP_Et_ana[iTFP], TFP, fontsize=9, ha='right')"
   ]
  },
  {
   "cell_type": "code",
   "execution_count": 24,
   "metadata": {},
   "outputs": [
    {
     "ename": "NameError",
     "evalue": "name 'fdfdf' is not defined",
     "output_type": "error",
     "traceback": [
      "\u001b[31m---------------------------------------------------------------------------\u001b[39m",
      "\u001b[31mNameError\u001b[39m                                 Traceback (most recent call last)",
      "\u001b[36mCell\u001b[39m\u001b[36m \u001b[39m\u001b[32mIn[24]\u001b[39m\u001b[32m, line 1\u001b[39m\n\u001b[32m----> \u001b[39m\u001b[32m1\u001b[39m \u001b[43mfdfdf\u001b[49m\n",
      "\u001b[31mNameError\u001b[39m: name 'fdfdf' is not defined"
     ]
    }
   ],
   "source": [
    "fdfdf"
   ]
  },
  {
   "cell_type": "code",
   "execution_count": null,
   "metadata": {},
   "outputs": [],
   "source": [
    "from matplotlib import pyplot as plt"
   ]
  },
  {
   "cell_type": "code",
   "execution_count": null,
   "metadata": {},
   "outputs": [],
   "source": [
    "# plot bars with error bars Espesor (mm)\n",
    "width = 0.3\n",
    "idx = df_stats.index\n",
    "idx_range = np.arange(len(idx))\n",
    "\n",
    "fig = plt.figure(figsize=(12, 4))\n",
    "ax = fig.add_subplot(131)\n",
    "\n",
    "plt.bar(idx_range+width , \n",
    "        df_stats['t [mm]']['mean'], \n",
    "        yerr  = df_stats['t [mm]']['std'], \n",
    "        label ='Experimental',\n",
    "        width = width)\n",
    "\n",
    "plt.bar(idx_range, tau_pred, \n",
    "        label='Predicted', \n",
    "        alpha=0.5, \n",
    "        width=width)\n",
    "plt.title('Espesor (mm)')\n",
    "\n",
    "plt.legend()\n",
    "plt.xticks(rotation=45)\n",
    "plt.xlabel('') \n",
    "plt.grid()\n",
    "plt.xticks(idx_range, idx);\n",
    "\n",
    "ax = fig.add_subplot(132)\n",
    "\n",
    "# plot bars with error bars Modulo Tracción [MPa] and prediction\n",
    "\n",
    "plt.bar(idx_range+width , \n",
    "        df_stats['Eb [GPa]']['mean'], \n",
    "        yerr  = df_stats['Eb [GPa]']['std'], \n",
    "        label = 'Experimental',\n",
    "        width = width)\n",
    "\n",
    "plt.bar(idx_range, df_stats['Eb pred [GPa]'], \n",
    "        label='Predicted', \n",
    "        alpha=0.5, \n",
    "        width=width)\n",
    "plt.legend()\n",
    "plt.grid()\n",
    "# off xlabel\n",
    "plt.xlabel('') \n",
    "plt.xticks(rotation=45)\n",
    "# tick labels \n",
    "plt.xticks(idx_range, idx);\n",
    "\n",
    "plt.title('Modulo Flexión [GPa]')\n",
    "\n",
    "ax = fig.add_subplot(133)\n",
    "\n",
    "# plot bars with error bars St [MPa] and prediction\n",
    "Et_exp = df_stats[\"Et [GPa]\"][\"mean\"]\n",
    "Et_exp_err = df_stats[\"Et [GPa]\"][\"std\"]\n",
    "\n",
    "plt.bar(idx_range+width ,\n",
    "         Et_exp, \n",
    "         yerr=Et_exp_err, label='Experimental',width=width)\n",
    "plt.legend()\n",
    "plt.grid()\n",
    "# off xlabel\n",
    "plt.xlabel('')\n",
    "plt.xticks(rotation=45)\n",
    "# tick labels\n",
    "plt.xticks(idx_range, idx);\n",
    "plt.title('Modulo Tracción [GPa]')\n"
   ]
  },
  {
   "cell_type": "code",
   "execution_count": null,
   "metadata": {},
   "outputs": [],
   "source": [
    "df_stats"
   ]
  },
  {
   "cell_type": "code",
   "execution_count": null,
   "metadata": {},
   "outputs": [],
   "source": [
    "# plot bars with error bars Espesor (mm)\n",
    "width = 0.3\n",
    "idx = df_stats.index\n",
    "idx_range = np.arange(len(idx))\n",
    "\n",
    "fig = plt.figure(figsize=(9, 9))\n",
    "# subplot \n",
    "fig.subplots_adjust(hspace=0.35, wspace=0.35)\n",
    "\n",
    "ax = fig.add_subplot(222)\n",
    "\n",
    "# plot bars with error bars Modulo Flexion [GPa] and prediction\n",
    "\n",
    "plt.bar(idx_range+width , df_stats['Eb [GPa]']['mean'], yerr=df_stats['Eb [GPa]']['std'], label='Experimental',width=width)\n",
    "plt.bar(idx_range, df_stats['Eb pred [GPa]'], label='FEM', alpha=0.5, width=width)\n",
    "\n",
    "Eb_pred_1   = df_stats['Eb pred [GPa]'].values[0]\n",
    "Eb_analytical_1 = df_stats['Eb analytical pred [GPa]'].values[0]\n",
    "# factor = Eb_pred_1/Eb_analytical_1\n",
    "# plt.bar(idx_range-width, factor*df_stats['Eb analytical pred [GPa]'], label='Analytical', alpha=0.5, width=width)\n",
    "\n",
    "plt.bar(idx_range-width, df_stats['Eb analytical pred [GPa]'], label='Analytical', alpha=0.5, width=width)\n",
    "\n",
    "plt.legend()\n",
    "plt.grid()\n",
    "# off xlabel\n",
    "plt.xlabel('') \n",
    "plt.xticks(rotation=45)\n",
    "# tick labels \n",
    "plt.xticks(idx_range, idx);\n",
    "\n",
    "plt.title('Modulo Flexión [GPa]')\n",
    "\n",
    "ax = fig.add_subplot(221)\n",
    "\n",
    "# plot bars with error bars Modulo Tracción [MPa] and prediction\n",
    "Et_exp = df_stats[\"Et [GPa]\"][\"mean\"]\n",
    "Et_exp_err = df_stats[\"Et [GPa]\"][\"std\"]\n",
    "\n",
    "plt.bar(idx_range+width , Et_exp, yerr=Et_exp_err, label='Experimental',width=width)\n",
    "plt.bar(idx_range, df_stats['Et pred [GPa]'], label='FEM', alpha=0.5, width=width)\n",
    "plt.bar(idx_range-width, df_stats['Et analytical pred [GPa]'], label='Analytical', alpha=0.5, width=width)\n",
    "plt.legend()\n",
    "plt.grid()\n",
    "# off xlabel\n",
    "plt.xlabel('')\n",
    "plt.xticks(rotation=45)\n",
    "# tick labels\n",
    "plt.xticks(idx_range, idx);\n",
    "plt.title('Modulo Tracción [GPa]')\n",
    "\n",
    "\n",
    "ax = fig.add_subplot(223)\n",
    "\n",
    "# \n",
    "St_exp = df_stats[\"St [MPa]\"][\"mean\"]\n",
    "St_exp_err = df_stats[\"St [MPa]\"][\"std\"]\n",
    "\n",
    "plt.bar(idx_range+width , St_exp, yerr=St_exp_err, label='Experimental',width=width)\n",
    "plt.bar(idx_range, df_stats['St pred [MPa]'], label='FEM', alpha=0.5, width=width)\n",
    "plt.bar(idx_range-width, df_stats['St analytical pred [MPa]'], label='Analytical', alpha=0.5, width=width)\n",
    "\n",
    "plt.legend()\n",
    "plt.grid()\n",
    "# off xlabel\n",
    "\n",
    "plt.xlabel('')\n",
    "plt.xticks(rotation=45)\n",
    "# tick labels\n",
    "plt.xticks(idx_range, idx);\n",
    "plt.title('Tensión máxima Tracción  [MPa]')\n",
    "# ========================\n",
    "ax = fig.add_subplot(224)\n",
    "\n",
    "Sb_exp = df_stats[\"Sb [MPa]\"][\"mean\"]\n",
    "Sb_exp_err = df_stats[\"Sb [MPa]\"][\"std\"]\n",
    "\n",
    "plt.bar(idx_range+width , Sb_exp, yerr=Sb_exp_err, label='Experimental',width=width)\n",
    "plt.bar(idx_range, df_stats['Sb pred [MPa]'], label='FEM', alpha=0.5, width=width)\n",
    "plt.bar(idx_range-width, 1e3*df_stats['Sb analytical pred [MPa]'], label='Analytical', alpha=0.5, width=width)\n",
    "\n",
    "plt.title('Tensión máxima Flexión [MPa]')\n",
    "plt.xlabel('')\n",
    "plt.xticks(rotation=45)\n",
    "plt.xticks(idx_range, idx);\n",
    "plt.legend()\n",
    "plt.grid()"
   ]
  },
  {
   "cell_type": "code",
   "execution_count": null,
   "metadata": {},
   "outputs": [],
   "source": [
    "df_stats['Sb analytical pred [MPa]'].values*1e3"
   ]
  },
  {
   "cell_type": "code",
   "execution_count": null,
   "metadata": {},
   "outputs": [],
   "source": [
    "# plot bars with error bars Espesor (mm)\n",
    "width = 0.3\n",
    "idx = df_stats.index\n",
    "idx_range = np.arange(len(idx))\n",
    "\n",
    "fig = plt.figure(figsize=(9, 7))\n",
    "# subplot \n",
    "fig.subplots_adjust(hspace=0.35, wspace=0.35)\n",
    "\n",
    "ax = fig.add_subplot(222)\n",
    "\n",
    "# plot bars with error bars Modulo Flexion [GPa] and prediction\n",
    "\n",
    "plt.bar(idx_range, df_stats['Eb pred [GPa]'], label='FEM', width=width)\n",
    "\n",
    "Eb_pred_1   = df_stats['Eb pred [GPa]'].values[0]\n",
    "Eb_analytical_1 = df_stats['Eb analytical pred [GPa]'].values[0]\n",
    "\n",
    "plt.bar(idx_range-width, df_stats['Eb analytical pred [GPa]'], label='Analítico', width=width)\n",
    "\n",
    "plt.legend()\n",
    "plt.grid()\n",
    "# off xlabel\n",
    "plt.xlabel('') \n",
    "plt.xticks(rotation=45)\n",
    "# tick labels \n",
    "plt.xticks(idx_range, idx);\n",
    "\n",
    "plt.title('Modulo Flexión [GPa]')\n",
    "\n",
    "ax = fig.add_subplot(221)\n",
    "\n",
    "# plot bars with error bars Modulo Tracción [MPa] and prediction\n",
    "Et_exp = df_stats[\"Et [GPa]\"][\"mean\"]\n",
    "Et_exp_err = df_stats[\"Et [GPa]\"][\"std\"]\n",
    "\n",
    "plt.bar(idx_range, df_stats['Et pred [GPa]'], label='FEM', width=width)\n",
    "plt.bar(idx_range-width, df_stats['Et analytical pred [GPa]'], label='Analítico',  width=width)\n",
    "plt.legend()\n",
    "plt.grid()\n",
    "# off xlabel\n",
    "plt.xlabel('')\n",
    "plt.xticks(rotation=45)\n",
    "# tick labels\n",
    "plt.xticks(idx_range, idx);\n",
    "plt.title('Modulo Tracción [GPa]')\n",
    "\n",
    "\n",
    "ax = fig.add_subplot(223)\n",
    "\n",
    "# \n",
    "St_exp = df_stats[\"St [MPa]\"][\"mean\"]\n",
    "St_exp_err = df_stats[\"St [MPa]\"][\"std\"]\n",
    "\n",
    "plt.bar(idx_range, df_stats['St pred [MPa]'], label='FEM', width=width)\n",
    "plt.bar(idx_range-width, df_stats['St analytical pred [MPa]'], label='Analítico', width=width)\n",
    "\n",
    "plt.legend()\n",
    "plt.grid()\n",
    "# off xlabel\n",
    "\n",
    "plt.xlabel('')\n",
    "plt.xticks(rotation=45)\n",
    "# tick labels\n",
    "plt.xticks(idx_range, idx);\n",
    "plt.title('Tensión máxima Tracción  [MPa]')\n",
    "# ========================\n",
    "ax = fig.add_subplot(224)\n",
    "\n",
    "Sb_exp = df_stats[\"Sb [MPa]\"][\"mean\"]\n",
    "Sb_exp_err = df_stats[\"Sb [MPa]\"][\"std\"]\n",
    "\n",
    "plt.bar(idx_range, df_stats['Sb pred [MPa]'], label='FEM', width=width)\n",
    "plt.bar(idx_range-width, 1e3*df_stats['Sb analytical pred [MPa]'], label='Analítico', width=width)\n",
    "\n",
    "plt.title('Tensión máxima Flexión [MPa]')\n",
    "plt.xlabel('')\n",
    "plt.xticks(rotation=45)\n",
    "plt.xticks(idx_range, idx);\n",
    "plt.legend()\n",
    "plt.grid()"
   ]
  },
  {
   "cell_type": "code",
   "execution_count": null,
   "metadata": {},
   "outputs": [],
   "source": [
    "df_stats['Sb analytical pred [MPa]']*1e3"
   ]
  },
  {
   "cell_type": "code",
   "execution_count": null,
   "metadata": {},
   "outputs": [],
   "source": [
    "Et_exp"
   ]
  },
  {
   "cell_type": "code",
   "execution_count": null,
   "metadata": {},
   "outputs": [],
   "source": [
    "df_stats"
   ]
  },
  {
   "cell_type": "code",
   "execution_count": null,
   "metadata": {},
   "outputs": [],
   "source": [
    "df_save = pd.DataFrame({\"Eb [GPa]\"        : df_stats['Eb [GPa]']['mean'].values,\n",
    "                        \"Eb pred [GPa]\"   : df_stats['Eb pred [GPa]'].values,\n",
    "                        \"Et [GPa]\"        : df_stats[\"Et [GPa]\"][\"mean\"].values,\n",
    "                        \"Et pred [GPa]\"   : df_stats['Et pred [GPa]'].values,\n",
    "                        \"Name\": df_stats.index})\n",
    "\n",
    "df_save.to_csv(\"output.csv\", index=False)"
   ]
  },
  {
   "cell_type": "code",
   "execution_count": null,
   "metadata": {},
   "outputs": [],
   "source": [
    "plt.plot(df_stats[\"Eb analytical pred [GPa]\"],df_stats[\"Eb pred [GPa]\"],'o')\n",
    "plt.plot([0,15],[0,15],'r--')\n",
    "plt.grid()\n",
    "plt.ylabel(\"FEM\")\n",
    "plt.xlabel(\"Analytical\")\n",
    "plt.title(\"Modulo Flexión [GPa]\")\n",
    "\n",
    "for i in range(len(df_stats)):\n",
    "    plt.text(df_stats[\"Eb analytical pred [GPa]\"].iloc[i],\n",
    "             df_stats[\"Eb pred [GPa]\"].iloc[i],\n",
    "             df_stats.index[i])\n",
    "plt.xlim(0,25)\n",
    "plt.ylim(0,25)"
   ]
  },
  {
   "cell_type": "code",
   "execution_count": null,
   "metadata": {},
   "outputs": [],
   "source": [
    "params"
   ]
  },
  {
   "cell_type": "code",
   "execution_count": null,
   "metadata": {},
   "outputs": [],
   "source": [
    "El = df_layers.loc[\"Y\"].values\n",
    "En = df_layers.loc[\"nucleo\"].values\n",
    "tn = params[\"geo\"][\"t_n\"]\n",
    "tl = params[\"geo\"][\"t_l\"]"
   ]
  },
  {
   "cell_type": "code",
   "execution_count": null,
   "metadata": {},
   "outputs": [],
   "source": [
    "print(\"El\", El)\n",
    "print(\"En\", En)\n",
    "print(\"tn\", tn)\n",
    "print(\"tl\", tl)"
   ]
  },
  {
   "cell_type": "code",
   "execution_count": null,
   "metadata": {},
   "outputs": [],
   "source": [
    "E_eff = (En*tn + 2*(2*El*tl)) / (tn + 2*(2*tl))\n",
    "print(E_eff)"
   ]
  },
  {
   "cell_type": "code",
   "execution_count": null,
   "metadata": {},
   "outputs": [],
   "source": []
  }
 ],
 "metadata": {
  "kernelspec": {
   "display_name": "Python 3",
   "language": "python",
   "name": "python3"
  },
  "language_info": {
   "codemirror_mode": {
    "name": "ipython",
    "version": 3
   },
   "file_extension": ".py",
   "mimetype": "text/x-python",
   "name": "python",
   "nbconvert_exporter": "python",
   "pygments_lexer": "ipython3",
   "version": "3.11.13"
  }
 },
 "nbformat": 4,
 "nbformat_minor": 2
}
