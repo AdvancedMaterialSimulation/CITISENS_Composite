{
 "cells": [
  {
   "cell_type": "code",
   "execution_count": 1,
   "metadata": {},
   "outputs": [],
   "source": [
    "\n",
    "import os \n",
    "from copy import deepcopy\n",
    "from Composite.RunFullModel import RunFullModel\n",
    "join = os.path.join\n",
    "import numpy as np"
   ]
  },
  {
   "cell_type": "code",
   "execution_count": 2,
   "metadata": {},
   "outputs": [],
   "source": [
    "params_composite ={\n",
    "    \"r\"         :  0.297,\n",
    "    \"factor_radius\": 2,\n",
    "    \"h\"         :  0.35,\n",
    "    \"z0\"        :  3.073/2,\n",
    "    \"density\"   : 10,\n",
    "    \"interface_factor\"  :  1.2,\n",
    "    \"with_interface\"    : False,\n",
    "    \"mirror\"            : True,\n",
    "    \"check_jacobian\"    : False,\n",
    "}\n",
    "\n",
    "params_ccx = {\n",
    "    \"epsilon\" : 0.1,\n",
    "    \"x_fixed\" : True\n",
    "}\n",
    "params = {\n",
    "    \"mesh\" : params_composite,\n",
    "    \"ccx\"  : params_ccx,\n",
    "}"
   ]
  },
  {
   "cell_type": "markdown",
   "metadata": {},
   "source": []
  },
  {
   "cell_type": "code",
   "execution_count": null,
   "metadata": {},
   "outputs": [
    {
     "name": "stdout",
     "output_type": "stream",
     "text": [
      "\t==================================================\n",
      "\tDesign Adouble\n",
      "\t==================================================\n",
      "Layer With Sign 1 and number 1/2 done\n",
      "Layer With Sign 1 and number 2/2 done\n",
      "Meshing ... \n",
      "Optimizing mesh ... \n",
      "\t==================================================\n",
      "\tCCX Adouble\n",
      "\t==================================================\n",
      "Input folder: \t output\\designs\\Adouble\n",
      "Output folder: \t output\\ccx\\Adouble\n",
      "Running Calculix at:  output\\ccx\\Adouble\n",
      "Output file:  c:\\Users\\djoroya\\Documents\\GitHub\\CITISENS_Composite_v2\\scripts\\T04_FEM\\03_Design_rc_fixed_x_fixed\\output\\ccx\\Adouble\\out.txt\n",
      "Command:\n",
      " C:\\Program Files\\Microsoft MPI\\Bin\\mpiexec -n 4 c:\\Users\\djoroya\\Documents\\GitHub\\CITISENS_Composite_v2\\.conda\\Lib\\site-packages\\djccx\\bin\\ccx_dynamic.exe main\n",
      "Error reading cvf file\n",
      "\n",
      "pid:  14480 \n",
      "\n"
     ]
    }
   ],
   "source": [
    "design = \"A\"\n",
    "for design in [\"Adouble\",\"B\",\"C\",\"D\",\"E\",\"F\"]:\n",
    "# for design in [\"Adouble\"]:\n",
    "    # Generate mesh and RVE\n",
    "    params_copy = deepcopy(params)\n",
    "    RunFullModel(design,\"output\",params_copy)\n",
    "    \n",
    "\n",
    "    "
   ]
  }
 ],
 "metadata": {
  "kernelspec": {
   "display_name": "Python 3",
   "language": "python",
   "name": "python3"
  },
  "language_info": {
   "codemirror_mode": {
    "name": "ipython",
    "version": 3
   },
   "file_extension": ".py",
   "mimetype": "text/x-python",
   "name": "python",
   "nbconvert_exporter": "python",
   "pygments_lexer": "ipython3",
   "version": "3.13.2"
  }
 },
 "nbformat": 4,
 "nbformat_minor": 2
}
