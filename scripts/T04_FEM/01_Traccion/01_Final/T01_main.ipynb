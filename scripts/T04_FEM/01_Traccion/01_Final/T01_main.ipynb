{
 "cells": [
  {
   "cell_type": "code",
   "execution_count": 1,
   "metadata": {},
   "outputs": [],
   "source": [
    "\n",
    "import os \n",
    "from copy import deepcopy\n",
    "from FEM_traccion.RunFullModel import RunFullModel\n",
    "import numpy as np\n",
    "join = os.path.join\n",
    "\n",
    "A_s = 0.283 # mm^2"
   ]
  },
  {
   "cell_type": "code",
   "execution_count": 2,
   "metadata": {},
   "outputs": [],
   "source": [
    "t_l = 0.475 #  Espesor de la capa [mm]\n",
    "t_n = 2.934\n",
    "\n",
    "r = 3*t_l/8 \n",
    "d = (A_s - np.pi*r**2)/(2*r) # Area de la capa [mm^2]\n",
    "params_composite ={\n",
    "    \"r\"         :  r,\n",
    "    \"d\"         :  d,\n",
    "    \"h\"         :  t_l,\n",
    "    \"z0\"        :  t_n/2,\n",
    "    \"density\"   : 5,\n",
    "}\n",
    "\n",
    "E_Resina =  0.63*1e3 \n",
    "E_Carbon =  16.69*1e3\n",
    "params_ccx = {\n",
    "    \"epsilon\" : 0.1,\n",
    "    \"x_fixed\" : True,\n",
    "    \"E_nucleo\": 0.8800*1e3,\n",
    "    \"E_resina\": E_Resina,\n",
    "    \"E_fibra\" : E_Carbon\n",
    "}\n",
    "params = {\n",
    "    \"mesh\" : params_composite,\n",
    "    \"ccx\"  : params_ccx,\n",
    "}"
   ]
  },
  {
   "cell_type": "code",
   "execution_count": 3,
   "metadata": {},
   "outputs": [
    {
     "data": {
      "text/plain": [
       "0.35000000000000003"
      ]
     },
     "execution_count": 3,
     "metadata": {},
     "output_type": "execute_result"
    }
   ],
   "source": [
    "1.05/3"
   ]
  },
  {
   "cell_type": "markdown",
   "metadata": {},
   "source": []
  },
  {
   "cell_type": "code",
   "execution_count": 4,
   "metadata": {},
   "outputs": [
    {
     "name": "stdout",
     "output_type": "stream",
     "text": [
      "\t==================================================\n",
      "\tDesign Adouble\n",
      "\t==================================================\n",
      "Layer number 1/2 done\n",
      "Layer number 2/2 done\n",
      "Meshing ... \n",
      "\t==================================================\n",
      "\tCCX Adouble\n",
      "\t==================================================\n",
      "Input folder: \t output\\designs\\Adouble\n",
      "Output folder: \t output\\ccx\\Adouble\n",
      "Running Calculix at:  output\\ccx\\Adouble\n",
      "Output file:  c:\\Users\\djoroya\\Documents\\GitHub\\CITISENS_Composite_v2\\scripts\\T04_FEM\\01_Traccion\\01_Final\\output\\ccx\\Adouble\\out.txt\n",
      "Command:\n",
      " C:\\Program Files\\Microsoft MPI\\Bin\\mpiexec -n 4 c:\\Users\\djoroya\\Documents\\GitHub\\CITISENS_Composite_v2\\.conda\\Lib\\site-packages\\djccx\\bin\\ccx_dynamic.exe main\n",
      "Error reading cvf file\n",
      "\n",
      "pid:  2388 \n",
      "\n",
      "Calculix finished\n",
      "\n"
     ]
    },
    {
     "ename": "IndexError",
     "evalue": "list index out of range",
     "output_type": "error",
     "traceback": [
      "\u001b[31m---------------------------------------------------------------------------\u001b[39m",
      "\u001b[31mIndexError\u001b[39m                                Traceback (most recent call last)",
      "\u001b[36mCell\u001b[39m\u001b[36m \u001b[39m\u001b[32mIn[4]\u001b[39m\u001b[32m, line 7\u001b[39m\n\u001b[32m      4\u001b[39m \u001b[38;5;28;01mfor\u001b[39;00m design \u001b[38;5;129;01min\u001b[39;00m layers:\n\u001b[32m      5\u001b[39m     \u001b[38;5;66;03m# Generate mesh and RVEl\u001b[39;00m\n\u001b[32m      6\u001b[39m     params_copy = deepcopy(params)\n\u001b[32m----> \u001b[39m\u001b[32m7\u001b[39m     \u001b[43mRunFullModel\u001b[49m\u001b[43m(\u001b[49m\u001b[43mdesign\u001b[49m\u001b[43m,\u001b[49m\u001b[33;43m\"\u001b[39;49m\u001b[33;43moutput\u001b[39;49m\u001b[33;43m\"\u001b[39;49m\u001b[43m,\u001b[49m\u001b[43mparams_copy\u001b[49m\u001b[43m)\u001b[49m\n",
      "\u001b[36mFile \u001b[39m\u001b[32mc:\\Users\\djoroya\\Documents\\GitHub\\CITISENS_Composite_v2\\scripts\\T04_FEM\\01_Traccion\\01_Final\\FEM_traccion\\RunFullModel.py:60\u001b[39m, in \u001b[36mRunFullModel\u001b[39m\u001b[34m(design, root, params)\u001b[39m\n\u001b[32m     57\u001b[39m \u001b[38;5;28mprint\u001b[39m(\u001b[33m\"\u001b[39m\u001b[33mInput folder: \u001b[39m\u001b[38;5;130;01m\\t\u001b[39;00m\u001b[33m\"\u001b[39m, design_folder)\n\u001b[32m     58\u001b[39m \u001b[38;5;28mprint\u001b[39m(\u001b[33m\"\u001b[39m\u001b[33mOutput folder: \u001b[39m\u001b[38;5;130;01m\\t\u001b[39;00m\u001b[33m\"\u001b[39m, output_folder)\n\u001b[32m---> \u001b[39m\u001b[32m60\u001b[39m inpf = \u001b[43mCreateSimulation\u001b[49m\u001b[43m(\u001b[49m\u001b[43mdesign_folder\u001b[49m\u001b[43m,\u001b[49m\n\u001b[32m     61\u001b[39m \u001b[43m                        \u001b[49m\u001b[43moutput_folder\u001b[49m\u001b[43m,\u001b[49m\n\u001b[32m     62\u001b[39m \u001b[43m                        \u001b[49m\u001b[43mparams\u001b[49m\u001b[43m[\u001b[49m\u001b[33;43m\"\u001b[39;49m\u001b[33;43mccx\u001b[39;49m\u001b[33;43m\"\u001b[39;49m\u001b[43m]\u001b[49m\u001b[43m,\u001b[49m\n\u001b[32m     63\u001b[39m \u001b[43m                        \u001b[49m\u001b[43mno_shell\u001b[49m\u001b[43m=\u001b[49m\u001b[38;5;28;43;01mTrue\u001b[39;49;00m\u001b[43m)\u001b[49m\n",
      "\u001b[36mFile \u001b[39m\u001b[32mc:\\Users\\djoroya\\Documents\\GitHub\\CITISENS_Composite_v2\\scripts\\T04_FEM\\01_Traccion\\01_Final\\FEM_traccion\\CreateSimulation\\CreateSimulation.py:187\u001b[39m, in \u001b[36mCreateSimulation\u001b[39m\u001b[34m(design_folder, output_folder, params, no_shell)\u001b[39m\n\u001b[32m    180\u001b[39m os.makedirs(output_folder)\n\u001b[32m    182\u001b[39m opt_default = {\n\u001b[32m    183\u001b[39m     \u001b[33m\"\u001b[39m\u001b[33mOMP_NUM_THREADS\u001b[39m\u001b[33m\"\u001b[39m:\u001b[32m4\u001b[39m,\n\u001b[32m    184\u001b[39m     \u001b[33m\"\u001b[39m\u001b[33mmpi_np\u001b[39m\u001b[33m\"\u001b[39m:\u001b[32m4\u001b[39m,\n\u001b[32m    185\u001b[39m     \u001b[33m\"\u001b[39m\u001b[33mmpi\u001b[39m\u001b[33m\"\u001b[39m:\u001b[38;5;28;01mTrue\u001b[39;00m\n\u001b[32m    186\u001b[39m }\n\u001b[32m--> \u001b[39m\u001b[32m187\u001b[39m \u001b[43minp_f\u001b[49m\u001b[43m.\u001b[49m\u001b[43mrun\u001b[49m\u001b[43m(\u001b[49m\u001b[43moutput_folder\u001b[49m\u001b[43m,\u001b[49m\u001b[43mopt\u001b[49m\u001b[43m=\u001b[49m\u001b[43mopt_default\u001b[49m\u001b[43m)\u001b[49m\n\u001b[32m    189\u001b[39m \u001b[38;5;28;01mreturn\u001b[39;00m inp_f\n",
      "\u001b[36mFile \u001b[39m\u001b[32mc:\\Users\\djoroya\\Documents\\GitHub\\CITISENS_Composite_v2\\.conda\\Lib\\site-packages\\djccx\\inp\\inp.py:271\u001b[39m, in \u001b[36minp.run\u001b[39m\u001b[34m(self, output, mkdirforce, opt)\u001b[39m\n\u001b[32m    267\u001b[39m runccx(output,\u001b[33m\"\u001b[39m\u001b[33mmain\u001b[39m\u001b[33m\"\u001b[39m,**opt)\n\u001b[32m    269\u001b[39m frd_file = join(output,\u001b[33m\"\u001b[39m\u001b[33mmain.frd\u001b[39m\u001b[33m\"\u001b[39m)\n\u001b[32m--> \u001b[39m\u001b[32m271\u001b[39m frd = \u001b[43mreadfrd\u001b[49m\u001b[43m(\u001b[49m\u001b[43mfrd_file\u001b[49m\u001b[43m)\u001b[49m\n\u001b[32m    273\u001b[39m \u001b[38;5;28mself\u001b[39m.setResults(frd)\n\u001b[32m    275\u001b[39m \u001b[38;5;28;01mreturn\u001b[39;00m frd\n",
      "\u001b[36mFile \u001b[39m\u001b[32mc:\\Users\\djoroya\\Documents\\GitHub\\CITISENS_Composite_v2\\.conda\\Lib\\site-packages\\djccx\\frd\\readfrd.py:61\u001b[39m, in \u001b[36mreadfrd\u001b[39m\u001b[34m(file, remove_fail_steps, add_compute)\u001b[39m\n\u001b[32m     57\u001b[39m idx.insert(\u001b[32m0\u001b[39m,\u001b[32m0\u001b[39m)\n\u001b[32m     59\u001b[39m blocks = [ lines[idx[i]:idx[i+\u001b[32m1\u001b[39m]] \u001b[38;5;28;01mfor\u001b[39;00m i \u001b[38;5;129;01min\u001b[39;00m \u001b[38;5;28mrange\u001b[39m(\u001b[38;5;28mlen\u001b[39m(idx)-\u001b[32m1\u001b[39m) ]\n\u001b[32m---> \u001b[39m\u001b[32m61\u001b[39m nodes = parsenodes(\u001b[43mblocks\u001b[49m\u001b[43m[\u001b[49m\u001b[32;43m0\u001b[39;49m\u001b[43m]\u001b[49m)\n\u001b[32m     62\u001b[39m blocks_out = []\n\u001b[32m     63\u001b[39m \u001b[38;5;28;01mfor\u001b[39;00m i \u001b[38;5;129;01min\u001b[39;00m \u001b[38;5;28mrange\u001b[39m(\u001b[32m2\u001b[39m,\u001b[38;5;28mlen\u001b[39m(blocks)):\n",
      "\u001b[31mIndexError\u001b[39m: list index out of range"
     ]
    }
   ],
   "source": [
    "\n",
    "layers = [\"Adouble\",\"B\",\"C\",\"D\",\"E\",\"F\"]\n",
    "\n",
    "# layers =[ \"E\"]\n",
    "for design in layers:\n",
    "    # Generate mesh and RVEl\n",
    "    params_copy = deepcopy(params)\n",
    "    RunFullModel(design,\"output\",params_copy)\n",
    "    \n",
    "    "
   ]
  },
  {
   "cell_type": "code",
   "execution_count": null,
   "metadata": {},
   "outputs": [],
   "source": []
  }
 ],
 "metadata": {
  "kernelspec": {
   "display_name": "Python 3",
   "language": "python",
   "name": "python3"
  },
  "language_info": {
   "codemirror_mode": {
    "name": "ipython",
    "version": 3
   },
   "file_extension": ".py",
   "mimetype": "text/x-python",
   "name": "python",
   "nbconvert_exporter": "python",
   "pygments_lexer": "ipython3",
   "version": "3.13.0"
  }
 },
 "nbformat": 4,
 "nbformat_minor": 2
}
