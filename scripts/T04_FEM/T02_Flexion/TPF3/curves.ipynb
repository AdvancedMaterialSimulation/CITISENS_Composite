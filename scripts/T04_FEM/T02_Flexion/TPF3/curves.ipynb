{
 "cells": [
  {
   "cell_type": "code",
   "execution_count": 1,
   "metadata": {},
   "outputs": [
    {
     "data": {
      "image/png": "[encoded data removed]",
      "text/plain": [
       "<Figure size 640x480 with 1 Axes>"
      ]
     },
     "metadata": {},
     "output_type": "display_data"
    }
   ],
   "source": [
    "from matplotlib import pyplot as plt\n",
    "import numpy as np\n",
    "\n",
    "\n",
    "def rectangle(x, y, width, height, color,linestyle=\"-\"):\n",
    "    plt.fill([x, x, x + width, x + width], \n",
    "             [y, y + height, y + height, y], color=\"None\", edgecolor=color, linestyle=linestyle)\n",
    "\n",
    "lx = 10 \n",
    "\n",
    "rectangle(0,   0,  lx,  10  , 'red')\n",
    "rectangle(0,   0, -lx,  10  , 'red')\n",
    "rectangle(0,   0,  lx, 12.5 , 'red')\n",
    "rectangle(0,   0, -lx, 12.5 , 'red')\n",
    "\n",
    "\n",
    "\n",
    "rectangle(0,   0,  lx,  -10  , 'blue',linestyle=\"--\")\n",
    "rectangle(0,   0, -lx,  -10  , 'blue',linestyle=\"--\")\n",
    "rectangle(0,   0,  lx, -12.5 , 'blue',linestyle=\"--\")\n",
    "rectangle(0,   0, -lx, -12.5 , 'blue',linestyle=\"--\")\n",
    "# aspect ratio\n",
    "\n",
    "R = 10/4\n",
    "T = 10\n",
    "\n",
    "t1 = np.linspace(0, 1, 30)\n",
    "\n",
    "# =============================================================================\n",
    "def fparams(t,y0):\n",
    "    y = 12.5*t\n",
    "    x = -R*np.cos(2*np.pi*y/T) + y0\n",
    "    return x,y\n",
    "\n",
    "x1,y1 = fparams(t1,-4*R)\n",
    "\n",
    "y1 = t1*2*R + R\n",
    "x1 = -R*np.cos(2*np.pi*y1/T) - 4*R\n",
    "\n",
    "plt.plot(x1,y1, 'k')\n",
    "\n",
    "x2,y2 = fparams(t1,-2*R)\n",
    "plt.plot(x2,y2, 'k')\n",
    "\n",
    "x3,y3 = fparams(t1,0)\n",
    "plt.plot(x3,y3, 'k')\n",
    "\n",
    "x3,y3 = fparams(t1,2*R)\n",
    "plt.plot(x3,y3, 'k')\n",
    "\n",
    "y4 = t1*R \n",
    "x4 = -R*np.cos(2*np.pi*y4/T) + 4*R\n",
    "plt.plot(x4,y4, 'k')\n",
    "\n",
    "y5 = t1*2*R + 3*R\n",
    "x5 = -R*np.cos(2*np.pi*y5/T) + 4*R\n",
    "plt.plot(x5,y5, 'k')\n",
    "\n",
    "\n",
    "# =============================================================================\n",
    "\n",
    "\n",
    "plt.gca().set_aspect('equal', adjustable='box')"
   ]
  },
  {
   "cell_type": "code",
   "execution_count": 2,
   "metadata": {},
   "outputs": [],
   "source": [
    "import gmsh\n",
    "import numpy as np\n",
    "from gmshtools.CreateYarnRect import CreateYarnRect"
   ]
  },
  {
   "cell_type": "markdown",
   "metadata": {},
   "source": []
  },
  {
   "cell_type": "code",
   "execution_count": 3,
   "metadata": {},
   "outputs": [],
   "source": [
    "gmsh.initialize()\n",
    "trajs = np.array([[x1[i],y1[i],0] for i in range(len(x1))])\n",
    "yarn = CreateYarnRect({\"trajs\":trajs, \n",
    "                \"radius\":0.3, \n",
    "                \"factor_radius\":2.2, \n",
    "                \"density\":5,\n",
    "                \"vec_init\":[1,0,0],\n",
    "                \"vec_end\" :[-1,0,0],\n",
    "                \"skip\":5})\n",
    "\n",
    "gmsh.model.occ.synchronize()\n",
    "gmsh.fltk.run()"
   ]
  },
  {
   "cell_type": "code",
   "execution_count": 4,
   "metadata": {},
   "outputs": [],
   "source": [
    "ph = gmsh.model.addPhysicalGroup(3, [yarn[\"volumes\"][0][1]])\n",
    "gmsh.model.setPhysicalName(3, ph, \"Yarn\")\n",
    "gmsh.model.occ.synchronize()\n"
   ]
  },
  {
   "cell_type": "code",
   "execution_count": 5,
   "metadata": {},
   "outputs": [],
   "source": [
    "gmsh.fltk.run()"
   ]
  },
  {
   "cell_type": "code",
   "execution_count": 6,
   "metadata": {},
   "outputs": [],
   "source": [
    "surfaces = gmsh.model.getEntities(2)"
   ]
  }
 ],
 "metadata": {
  "kernelspec": {
   "display_name": "Python 3",
   "language": "python",
   "name": "python3"
  },
  "language_info": {
   "codemirror_mode": {
    "name": "ipython",
    "version": 3
   },
   "file_extension": ".py",
   "mimetype": "text/x-python",
   "name": "python",
   "nbconvert_exporter": "python",
   "pygments_lexer": "ipython3",
   "version": "3.13.2"
  }
 },
 "nbformat": 4,
 "nbformat_minor": 2
}
