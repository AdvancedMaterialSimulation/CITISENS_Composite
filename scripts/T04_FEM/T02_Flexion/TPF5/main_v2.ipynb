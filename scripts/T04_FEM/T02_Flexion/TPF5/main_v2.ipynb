{
 "cells": [
  {
   "cell_type": "code",
   "execution_count": 1,
   "metadata": {},
   "outputs": [
    {
     "data": {
      "text/plain": [
       "15.0"
      ]
     },
     "execution_count": 1,
     "metadata": {},
     "output_type": "execute_result"
    }
   ],
   "source": [
    "25*6/10"
   ]
  },
  {
   "cell_type": "code",
   "execution_count": 2,
   "metadata": {},
   "outputs": [
    {
     "data": {
      "text/plain": [
       "<matplotlib.legend.Legend at 0x15532348830>"
      ]
     },
     "execution_count": 2,
     "metadata": {},
     "output_type": "execute_result"
    },
    {
     "data": {
      "image/png": "[encoded data removed]",
      "text/plain": [
       "<Figure size 640x480 with 1 Axes>"
      ]
     },
     "metadata": {},
     "output_type": "display_data"
    }
   ],
   "source": [
    "from matplotlib import pyplot as plt\n",
    "import numpy as np\n",
    "\n",
    "\n",
    "def rectangle(x, y, width, height, color,linestyle=\"-\"):\n",
    "    plt.fill([x, x, x + width, x + width], \n",
    "             [y, y + height, y + height, y], color=\"None\", edgecolor=color, linestyle=linestyle)\n",
    "\n",
    "lx = 10\n",
    "\n",
    "rectangle(0,   0,  lx,  10  , 'red')\n",
    "rectangle(0,   0, -lx,  10  , 'red')\n",
    "rectangle(0,   0,  lx, 12.5 , 'red')\n",
    "rectangle(0,   0, -lx, 12.5 , 'red')\n",
    "\n",
    "\n",
    "\n",
    "rectangle(0,   0,  lx,  -10  , 'blue',linestyle=\"--\")\n",
    "rectangle(0,   0, -lx,  -10  , 'blue',linestyle=\"--\")\n",
    "rectangle(0,   0,  lx, -12.5 , 'blue',linestyle=\"--\")\n",
    "rectangle(0,   0, -lx, -12.5 , 'blue',linestyle=\"--\")\n",
    "# aspect ratio\n",
    "\n",
    "R = 10/4\n",
    "T = 10\n",
    "\n",
    "t1 = np.linspace(0, 1, 500)\n",
    "\n",
    "# =============================================================================\n",
    "def fparams(t,y0):\n",
    "    y = 4*R*t - 2*R\n",
    "    x = -R*np.cos(2*np.pi*y/T) + y0\n",
    "    return y,x\n",
    "\n",
    "# x1,y1 = fparams(t1,-4*R)\n",
    "\n",
    "# y1 = t1*2*R + R\n",
    "# x1 = -R*np.cos(2*np.pi*y1/T) - 4*R\n",
    "\n",
    "# plt.plot(x1,y1, 'r',label=\"1\")\n",
    "\n",
    "x1,y1 = fparams(t1,-4*R)\n",
    "plt.plot(x1,y1, 'g',label=\"1\")  \n",
    "\n",
    "x2,y2 = fparams(t1,-2*R)\n",
    "plt.plot(x2,y2, 'g',label=\"2\")  \n",
    "\n",
    "x3,y3 = fparams(t1,0)\n",
    "plt.plot(x3,y3, 'b',label=\"3\")\n",
    "\n",
    "x4,y4 = fparams(t1,2*R)\n",
    "plt.plot(x4,y4, 'c',label=\"4\")\n",
    "\n",
    "\n",
    "x5 = 4*R*t1 - 2*R\n",
    "y5 = -R*np.cos(2*np.pi*x5/T) + 4*R\n",
    "# x5,y5 = fparams(t1,4*R)\n",
    "plt.plot(x5,y5, 'r',label=\"5\")\n",
    "\n",
    "\n",
    "# y5 = t1*R \n",
    "# x5 = -R*np.cos(2*np.pi*y5/T) + 4*R\n",
    "# plt.plot(x5,y5, 'y' ,label=\"5\")\n",
    "\n",
    "# y6 = t1*2*R + 3*R\n",
    "# x6 = -R*np.cos(2*np.pi*y6/T) + 4*R\n",
    "# plt.plot(x6,y6, 'm' ,label=\"6\")\n",
    "\n",
    "\n",
    "# =============================================================================\n",
    "\n",
    "\n",
    "plt.gca().set_aspect('equal', adjustable='box')\n",
    "plt.legend()"
   ]
  },
  {
   "cell_type": "code",
   "execution_count": null,
   "metadata": {},
   "outputs": [],
   "source": []
  },
  {
   "cell_type": "code",
   "execution_count": 3,
   "metadata": {},
   "outputs": [],
   "source": [
    "from gmshtools.CircRect6 import CircRect\n"
   ]
  },
  {
   "cell_type": "code",
   "execution_count": 4,
   "metadata": {},
   "outputs": [],
   "source": [
    "import gmsh \n",
    "\n",
    "gmsh.initialize()\n",
    "\n",
    "gmsh.model.add(\"t1\")\n",
    "\n",
    "# cilindro\n",
    "Ly = 25\n",
    "Lx = 60\n",
    "tn  = 3.0\n",
    "tl = 0.5\n",
    "r  = 0.32\n",
    "\n",
    "A = np.pi*r**2\n",
    "\n",
    "factor = 2.2\n",
    "rx = factor*r \n",
    "ry = (1/factor)*r\n",
    "\n",
    "R = 10/6\n",
    "nx_fibres = 6\n",
    "\n",
    "lx = 10\n",
    "\n",
    "z0 = tn/2\n",
    "dx = 0.1 \n",
    "dz = 0.1\n",
    "\n",
    "hx = R\n",
    "hz = tl\n",
    "Lz = 2*(3*hz + z0) \n",
    "\n",
    "def CreateCylinder_Lxx(x0,z0):\n",
    "\n",
    "    ellipse_1 = CircRect(x0, -Ly/2, z0, \n",
    "                         rx, ry, \n",
    "                         [0,1,0] ,            # vec_z \n",
    "                         [1,0,0])             # vec_x\n",
    "    \n",
    "    ellipse_2 = CircRect(x0, +Ly/2, z0,\n",
    "                            rx, ry, \n",
    "                            [0,1,0] ,            # vec_z \n",
    "                            [1,0,0])             # vec_x\n",
    "    gmsh.model.occ.synchronize()\n",
    "\n",
    "    thrusection = gmsh.model.occ.addThruSections([ellipse_1, ellipse_2])\n",
    "\n",
    "    gmsh.model.occ.synchronize()\n",
    "\n",
    "    return thrusection[0][1]\n",
    "\n",
    "def CreateCylinder_Lyy(y0,z0):\n",
    "    \n",
    "    ellipse_1 = CircRect(-lx/2, y0, z0,\n",
    "                            rx, ry, \n",
    "                            [1,0,0] ,            # vec_z \n",
    "                            [0,1,0])             # vec_x\n",
    "    \n",
    "    ellipse_2 = CircRect(lx/2, y0, z0,\n",
    "                            rx, ry, \n",
    "                            [1,0,0] ,            # vec_z \n",
    "                            [0,1,0])             # vec_x\n",
    "    \n",
    "    gmsh.model.occ.synchronize()\n",
    "\n",
    "\n",
    "\n",
    "    thrusection = gmsh.model.occ.addThruSections([ellipse_1, ellipse_2])\n",
    "\n",
    "    gmsh.model.occ.synchronize()\n",
    "\n",
    "    return thrusection[0][1]\n",
    "\n",
    "FM1_list = []\n"
   ]
  },
  {
   "cell_type": "code",
   "execution_count": 5,
   "metadata": {},
   "outputs": [
    {
     "name": "stdout",
     "output_type": "stream",
     "text": [
      "yarn 1\n",
      "yarn 2\n",
      "yarn 3\n",
      "yarn 4\n",
      "yarn 5\n"
     ]
    }
   ],
   "source": [
    "\n",
    "from gmshtools.CreateYarnRect import CreateYarnRect\n",
    "\n",
    "trajs_mid = [ [x1,y1],\n",
    "              [x2,y2],\n",
    "              [x3,y3],\n",
    "              [x4,y4],\n",
    "              [x5,y5]]\n",
    "\n",
    "for itraj_2D in trajs_mid:\n",
    "    trajs = np.array([[itraj_2D[0][i],\n",
    "                       itraj_2D[1][i], \n",
    "                    -z0 - 5*hz/2 ] \n",
    "                    for i in range(len(itraj_2D[0]))])\n",
    "\n",
    "    yarn = CreateYarnRect({\"trajs\":trajs, \n",
    "                    \"radius\":0.3, \n",
    "                    \"factor_radius\":2.2, \n",
    "                    \"density\":2,\n",
    "                    \"skip_left\":2,\n",
    "                    \"skip_right\":2,\n",
    "                    \"vec_init\":[1,0,0],\n",
    "                    \"vec_end\":[1,0,0]})\n",
    "\n",
    "    FM1_list.append(yarn[\"volumes\"][0][1])\n",
    "    print(\"yarn\", yarn[\"volumes\"][0][1])\n",
    "    # gmsh.fltk.run()"
   ]
  },
  {
   "cell_type": "code",
   "execution_count": 6,
   "metadata": {},
   "outputs": [
    {
     "data": {
      "text/plain": [
       "<matplotlib.legend.Legend at 0x1553d84a210>"
      ]
     },
     "execution_count": 6,
     "metadata": {},
     "output_type": "execute_result"
    },
    {
     "data": {
      "image/png": "[encoded data removed]",
      "text/plain": [
       "<Figure size 640x480 with 1 Axes>"
      ]
     },
     "metadata": {},
     "output_type": "display_data"
    }
   ],
   "source": [
    "from matplotlib import pyplot as plt\n",
    "import numpy as np\n",
    "\n",
    "\n",
    "def rectangle(x, y, width, height, color,linestyle=\"-\"):\n",
    "    plt.fill([x, x, x + width, x + width], \n",
    "             [y, y + height, y + height, y], color=\"None\", edgecolor=color, linestyle=linestyle)\n",
    "\n",
    "\n",
    "rectangle(0,   0,  lx/2,  10  , 'red')\n",
    "rectangle(0,   0, -lx/2,  10  , 'red')\n",
    "rectangle(0,   0,  lx/2, 12.5 , 'red')\n",
    "rectangle(0,   0, -lx/2, 12.5 , 'red')\n",
    "\n",
    "\n",
    "\n",
    "rectangle(0,   0,  lx/2,  -10  , 'blue',linestyle=\"--\")\n",
    "rectangle(0,   0, -lx/2,  -10  , 'blue',linestyle=\"--\")\n",
    "rectangle(0,   0,  lx/2, -12.5 , 'blue',linestyle=\"--\")\n",
    "rectangle(0,   0, -lx/2, -12.5 , 'blue',linestyle=\"--\")\n",
    "# aspect ratio\n",
    "\n",
    "R = 10/4\n",
    "T = 10\n",
    "\n",
    "t1 = np.linspace(0, 1, 500)\n",
    "\n",
    "# =============================================================================\n",
    "def fparams(t,y0):\n",
    "    y = 2*12.5*t-12.5\n",
    "    x = -R*np.cos(2*np.pi*y/T) + y0\n",
    "    return x,y\n",
    "\n",
    "\n",
    "y1 = t1*2*R + R\n",
    "x1 = -R*np.cos(2*np.pi*y1/T) - 2*R\n",
    "\n",
    "plt.plot(x1,y1, 'r',label=\"1\")\n",
    "\n",
    "\n",
    "x3,y3 = fparams(t1,0)\n",
    "plt.plot(x3,y3, 'b',label=\"3\")\n",
    "\n",
    "\n",
    "y5 = 2*t1*R -R\n",
    "x5 = -R*np.cos(2*np.pi*y5/T) + 2*R\n",
    "plt.plot(x5,y5, 'y' ,label=\"5\")\n",
    "\n",
    "y6 = t1*2*R + 3*R\n",
    "x6 = -R*np.cos(2*np.pi*y6/T) + 2*R\n",
    "plt.plot(x6,y6, 'm' ,label=\"6\")\n",
    "\n",
    "y7 = t1*2*R - 3*R\n",
    "x7 = -R*np.cos(2*np.pi*y1/T) - 2*R\n",
    "plt.plot(x7,y7, 'k' ,label=\"7\")\n",
    "\n",
    "# =============================================================================\n",
    "\n",
    "\n",
    "plt.gca().set_aspect('equal', adjustable='box')\n",
    "plt.legend()"
   ]
  },
  {
   "cell_type": "code",
   "execution_count": 7,
   "metadata": {},
   "outputs": [
    {
     "name": "stdout",
     "output_type": "stream",
     "text": [
      "yarn 6\n",
      "yarn 7\n",
      "yarn 8\n",
      "yarn 9\n",
      "yarn 10\n"
     ]
    }
   ],
   "source": [
    "\n",
    "from gmshtools.CreateYarnRect import CreateYarnRect\n",
    "\n",
    "trajs_mid = [ [x3,y3]]\n",
    "\n",
    "for itraj_2D in trajs_mid:\n",
    "    trajs = np.array([[itraj_2D[0][i],\n",
    "                       itraj_2D[1][i], \n",
    "                    -z0 - 3*hz/2 ] \n",
    "                    for i in range(len(itraj_2D[0]))])\n",
    "\n",
    "    yarn = CreateYarnRect({\"trajs\":trajs, \n",
    "                    \"radius\":0.3, \n",
    "                    \"factor_radius\":2.2, \n",
    "                    \"density\":2.5,\n",
    "                    \"skip_left\":2,\n",
    "                    \"skip_right\":4,\n",
    "                    \"vec_init\":[0,1,0],\n",
    "                    \"vec_end\":[0,1,0]})\n",
    "\n",
    "    FM1_list.append(yarn[\"volumes\"][0][1])\n",
    "    print(\"yarn\", yarn[\"volumes\"][0][1])\n",
    "\n",
    "# x1,y1\n",
    "itraj_2D = [x1,y1]\n",
    "trajs = np.array([[itraj_2D[0][i],\n",
    "                    itraj_2D[1][i], \n",
    "                -z0 - 3*hz/2 ] \n",
    "                for i in range(len(itraj_2D[0]))])\n",
    "\n",
    "yarn = CreateYarnRect({\"trajs\":trajs, \n",
    "                \"radius\":0.3, \n",
    "                \"factor_radius\":2.2, \n",
    "                \"density\":2.5,\n",
    "                \"skip_left\":2,\n",
    "                \"skip_right\":3,\n",
    "                \"vec_init\":[1  , 0 , 0],\n",
    "                \"vec_end\" :[-1 , 0 , 0]})\n",
    "\n",
    "FM1_list.append(yarn[\"volumes\"][0][1])\n",
    "print(\"yarn\", yarn[\"volumes\"][0][1])\n",
    "\n",
    "\n",
    "# x5,y5\n",
    "itraj_2D = [x5,y5]\n",
    "trajs = np.array([[itraj_2D[0][i],\n",
    "                    itraj_2D[1][i], \n",
    "                -z0 - 3*hz/2 ] \n",
    "                for i in range(len(itraj_2D[0]))])\n",
    "\n",
    "yarn = CreateYarnRect({\"trajs\":trajs, \n",
    "                \"radius\":0.3, \n",
    "                \"factor_radius\":2.2, \n",
    "                \"density\":2.5,\n",
    "                \"skip_left\":2,\n",
    "                \"skip_right\":2,\n",
    "                \"vec_init\":[-1  , 0 , 0],\n",
    "                \"vec_end\" :[1 , 0 , 0]})\n",
    "FM1_list.append(yarn[\"volumes\"][0][1])\n",
    "print(\"yarn\", yarn[\"volumes\"][0][1])    \n",
    "\n",
    "# x6,y6\n",
    "itraj_2D = [x6,y6]\n",
    "trajs = np.array([[itraj_2D[0][i],\n",
    "                    itraj_2D[1][i], \n",
    "                -z0 - 3*hz/2 ] \n",
    "                for i in range(len(itraj_2D[0]))])\n",
    "\n",
    "yarn = CreateYarnRect({\"trajs\":trajs,\n",
    "                \"radius\":0.3, \n",
    "                \"factor_radius\":2.2, \n",
    "                \"density\":2.5,\n",
    "                \"skip_left\":2,\n",
    "                \"skip_right\":4,\n",
    "                \"vec_init\":[-1 , 0 , 0],\n",
    "                \"vec_end\" :[1 , 0 , 0]})\n",
    "\n",
    "\n",
    "# gmsh.fltk.run()\n",
    "FM1_list.append(yarn[\"volumes\"][0][1])\n",
    "print(\"yarn\", yarn[\"volumes\"][0][1])\n",
    "\n",
    "\n",
    "\n",
    "# x1,y1\n",
    "itraj_2D = [x7,y7]\n",
    "trajs = np.array([[itraj_2D[0][i],\n",
    "                    itraj_2D[1][i], \n",
    "                -z0 - 3*hz/2 ] \n",
    "                for i in range(len(itraj_2D[0]))])\n",
    "\n",
    "yarn = CreateYarnRect({\"trajs\":trajs, \n",
    "                \"radius\":0.3, \n",
    "                \"factor_radius\":2.2, \n",
    "                \"density\":2.5,\n",
    "                \"skip_left\":2,\n",
    "                \"skip_right\":3,\n",
    "                \"vec_init\":[1  , 0 , 0],\n",
    "                \"vec_end\" :[-1 , 0 , 0]})\n",
    "\n",
    "FM1_list.append(yarn[\"volumes\"][0][1])\n",
    "print(\"yarn\", yarn[\"volumes\"][0][1])\n"
   ]
  },
  {
   "cell_type": "code",
   "execution_count": 8,
   "metadata": {},
   "outputs": [],
   "source": [
    "gmsh.fltk.run()"
   ]
  },
  {
   "cell_type": "code",
   "execution_count": null,
   "metadata": {},
   "outputs": [],
   "source": []
  },
  {
   "cell_type": "code",
   "execution_count": 9,
   "metadata": {},
   "outputs": [
    {
     "data": {
      "text/plain": [
       "{'volumes': [(3, 10)]}"
      ]
     },
     "execution_count": 9,
     "metadata": {},
     "output_type": "execute_result"
    }
   ],
   "source": [
    "yarn"
   ]
  },
  {
   "cell_type": "code",
   "execution_count": 10,
   "metadata": {},
   "outputs": [],
   "source": [
    "# gmsh.fltk.run()"
   ]
  },
  {
   "cell_type": "code",
   "execution_count": 11,
   "metadata": {},
   "outputs": [],
   "source": [
    "\n",
    "box_cut = gmsh.model.occ.addBox( -Lx/2 ,  -Ly/2, -Lz/2, \n",
    "                                  Lx   ,   Ly   , Lz)\n",
    "gmsh.model.occ.synchronize()\n",
    "# gmsh.fltk.run()\n",
    "\n",
    "yarn_cut = gmsh.model.occ.intersect(yarn[\"volumes\"], [(3,box_cut)])\n",
    "gmsh.model.occ.synchronize()\n",
    "# gmsh.fltk.run()\n",
    "\n",
    "# gmsh.fltk.run()\n",
    "\n",
    "FM1_list.append(yarn_cut[0][0][1])\n",
    "\n"
   ]
  },
  {
   "cell_type": "code",
   "execution_count": 12,
   "metadata": {},
   "outputs": [],
   "source": [
    "# gmsh.fltk.run()\n"
   ]
  },
  {
   "cell_type": "code",
   "execution_count": 13,
   "metadata": {},
   "outputs": [
    {
     "data": {
      "text/plain": [
       "[(3, 10)]"
      ]
     },
     "execution_count": 13,
     "metadata": {},
     "output_type": "execute_result"
    }
   ],
   "source": [
    "yarn[\"volumes\"]"
   ]
  },
  {
   "cell_type": "code",
   "execution_count": 14,
   "metadata": {},
   "outputs": [
    {
     "data": {
      "text/plain": [
       "([(3, 10)], [[(3, 10)], [(3, 10)]])"
      ]
     },
     "execution_count": 14,
     "metadata": {},
     "output_type": "execute_result"
    }
   ],
   "source": [
    "yarn_cut"
   ]
  },
  {
   "cell_type": "code",
   "execution_count": 15,
   "metadata": {},
   "outputs": [],
   "source": [
    "yarn_cut = FM1_list[0]\n",
    "\n",
    "box_cut = gmsh.model.occ.addBox( -Lx/2    ,  -Ly/2 , -Lz/2, \n",
    "                                 Lx ,  Ly   , Lz)\n",
    "gmsh.model.occ.synchronize()\n",
    "\n",
    "yarn_cut = gmsh.model.occ.intersect([(3,yarn_cut)], [(3,box_cut)])\n",
    "gmsh.model.occ.synchronize()\n",
    "\n",
    "FM1_list.append(yarn_cut[0][0][1])\n",
    "\n",
    "FM1_list = FM1_list[1:]"
   ]
  },
  {
   "cell_type": "code",
   "execution_count": 16,
   "metadata": {},
   "outputs": [],
   "source": [
    "# gmsh.fltk.run()"
   ]
  },
  {
   "cell_type": "code",
   "execution_count": 17,
   "metadata": {},
   "outputs": [
    {
     "data": {
      "text/plain": [
       "11"
      ]
     },
     "execution_count": 17,
     "metadata": {},
     "output_type": "execute_result"
    }
   ],
   "source": [
    "box_cut"
   ]
  },
  {
   "cell_type": "code",
   "execution_count": 18,
   "metadata": {},
   "outputs": [],
   "source": [
    "\n",
    "gmsh.model.occ.synchronize()\n",
    "# \n",
    "#\n",
    "\n",
    "nfilaments = int(0.5*25*6/10)\n",
    "\n",
    "yspan = np.arange(-Ly/2, Ly/2, hx)\n",
    "yspan = yspan + hx/2\n",
    "\n",
    "FM2_list = []\n",
    "for iy in yspan:\n",
    "    FibreMinus_02 = CreateCylinder_Lyy(iy, -z0 - hz/2 )\n",
    "\n",
    "    FM2_list.append(FibreMinus_02)\n",
    "\n",
    "FM2_list.extend(FM1_list)\n"
   ]
  },
  {
   "cell_type": "code",
   "execution_count": 19,
   "metadata": {},
   "outputs": [],
   "source": [
    "# for ix in range(-nx_fibres,nx_fibres):\n",
    "#     FibreMinus_01 = CreateCylinder_Lxx(hx/2 + hx*ix, -z0 - 3*hz/2 )\n",
    "#     FM1_list.append(FibreMinus_01)"
   ]
  },
  {
   "cell_type": "code",
   "execution_count": 20,
   "metadata": {},
   "outputs": [],
   "source": [
    "\n",
    "# Identificamos las fibras\n",
    "fibres_tags = np.concatenate([FM1_list, FM2_list])\n",
    "f1 = gmsh.model.addPhysicalGroup(3, fibres_tags)\n",
    "gmsh.model.setPhysicalName(3, f1, \"Fibres\")\n",
    "\n",
    "\n",
    "gmsh.model.occ.synchronize()\n",
    "box_01 = gmsh.model.occ.addBox( -Lx/2  , -Ly/2 , + z0 ,\n",
    "                                Lx   ,  Ly   ,  3*hz    )\n",
    "\n",
    "box_02 = gmsh.model.occ.addBox( -lx/2  , -Ly/2 , - z0 ,\n",
    "                                lx   ,  Ly   ,  -3*hz    )\n",
    "\n",
    "gmsh.model.occ.synchronize()\n",
    "\n",
    "\n",
    "box_02_cut = gmsh.model.occ.cut([(3, box_02)], \n",
    "                   [(3,i) for i in FM2_list],\n",
    "                   removeTool=False)\n",
    "\n",
    "gmsh.model.occ.synchronize()"
   ]
  },
  {
   "cell_type": "code",
   "execution_count": 21,
   "metadata": {},
   "outputs": [],
   "source": [
    "\n",
    "\n",
    "\n",
    "# # box \n",
    "# #\n",
    "# gmsh.model.occ.synchronize()\n",
    "# #\n",
    "\n",
    "box_big_mid = gmsh.model.occ.addBox( -Lx/2   , -Ly/2     , -z0,\n",
    "                                      Lx   ,  Ly       ,  2*z0    )\n",
    "\n",
    "\n",
    "box_sup = gmsh.model.occ.addBox( -Lx/2  ,   -Ly/2 , z0 + hz,\n",
    "                                  Lx    ,    Ly   ,  hz       )\n",
    "\n",
    "# =============================================================================\n",
    "\n",
    "# partition with rectangle \n",
    "\n",
    "# (0, Ly/2,  z0 + 2*hz)\n",
    "# (0, Ly/2, -z0 - 2*hz)\n",
    "# (0, -Ly/2, -z0 - 2*hz)\n",
    "# (0, -Ly/2,  z0 + 2*hz)\n",
    "\n",
    "p1_rect = gmsh.model.occ.addPoint(0, Ly/2,  z0 + 3*hz)\n",
    "p2_rect = gmsh.model.occ.addPoint(0, Ly/2,  z0 +   hz)\n",
    "p3_rect = gmsh.model.occ.addPoint(0, -Ly/2   ,  z0 +   hz)\n",
    "p4_rect = gmsh.model.occ.addPoint(0, -Ly/2   ,  z0 + 3*hz)\n",
    "\n",
    "gmsh.model.occ.synchronize()\n",
    "\n",
    "l1 =  gmsh.model.occ.addLine(p1_rect, p2_rect)\n",
    "l2 =  gmsh.model.occ.addLine(p2_rect, p3_rect)\n",
    "l3 =  gmsh.model.occ.addLine(p3_rect, p4_rect)\n",
    "l4 =  gmsh.model.occ.addLine(p4_rect, p1_rect)\n",
    "\n",
    "gmsh.model.occ.synchronize()\n",
    "\n",
    "ll = gmsh.model.occ.addCurveLoop([l1,l2,l3,l4])\n",
    "gmsh.model.occ.synchronize()\n",
    "\n",
    "ss = gmsh.model.occ.addPlaneSurface([ll])\n",
    "gmsh.model.occ.synchronize()\n",
    "\n",
    "# gmsh.fltk.run()\n",
    "\n",
    "box_sup = gmsh.model.occ.fragment([(3,box_sup)], [(2,ss)])\n",
    "gmsh.model.occ.synchronize()\n",
    "# =============================================================================\n",
    "\n",
    "box_inf = gmsh.model.occ.addBox( -Lx/2 , -Ly/2     , -z0 - hz,\n",
    "                                 Lx    ,  Ly       ,  -hz       )\n",
    "\n",
    "gmsh.model.occ.synchronize()\n",
    "volumes = gmsh.model.getEntities(3)\n",
    "\n",
    "\n",
    "\n",
    "box_big = gmsh.model.occ.addBox( -Lx/2     ,  -Ly/2      , -Lz/2,\n",
    "                                 Lx  ,   Ly        ,  Lz    )\n",
    "\n",
    "gmsh.model.occ.synchronize()\n",
    "\n",
    "# cut box_big - volumes\n",
    "box_big = gmsh.model.occ.fragment([(3,box_big)], volumes)\n",
    "\n",
    "\n",
    "\n",
    "gmsh.model.occ.synchronize()\n",
    "\n",
    "\n",
    "# buscar la caja que tiene como media z= 0\n"
   ]
  },
  {
   "cell_type": "code",
   "execution_count": 22,
   "metadata": {},
   "outputs": [
    {
     "data": {
      "text/plain": [
       "([(3, 47), (3, 48), (2, 2219)], [[(3, 47), (3, 48)], [(2, 2214), (2, 2219)]])"
      ]
     },
     "execution_count": 22,
     "metadata": {},
     "output_type": "execute_result"
    }
   ],
   "source": [
    "p1_rect = gmsh.model.occ.addPoint(0, Ly/2,  z0 + 3*hz)\n",
    "p2_rect = gmsh.model.occ.addPoint(0, Ly/2,  z0 +   hz)\n",
    "p3_rect = gmsh.model.occ.addPoint(0, -Ly/2   ,  z0 +   hz)\n",
    "p4_rect = gmsh.model.occ.addPoint(0, -Ly/2   ,  z0 + 3*hz)\n",
    "\n",
    "gmsh.model.occ.synchronize()\n",
    "\n",
    "l1 =  gmsh.model.occ.addLine(p1_rect, p2_rect)\n",
    "l2 =  gmsh.model.occ.addLine(p2_rect, p3_rect)\n",
    "l3 =  gmsh.model.occ.addLine(p3_rect, p4_rect)\n",
    "l4 =  gmsh.model.occ.addLine(p4_rect, p1_rect)\n",
    "\n",
    "gmsh.model.occ.synchronize()\n",
    "\n",
    "ll = gmsh.model.occ.addCurveLoop([l1,l2,l3,l4])\n",
    "gmsh.model.occ.synchronize()\n",
    "\n",
    "ss = gmsh.model.occ.addPlaneSurface([ll])\n",
    "gmsh.model.occ.synchronize()\n",
    "\n",
    "# \n",
    "volumes = gmsh.model.getEntities(3)\n",
    "com = [ gmsh.model.occ.getCenterOfMass(3,i[1]) for i in volumes]\n",
    "com = np.array(com)\n",
    "z_unique = np.unique(com[:,2])\n",
    "z_unique = np.round(z_unique, 2)\n",
    "z_max = np.max(z_unique)\n",
    "\n",
    "volume_layer_max  = [ volumes[i] for i in range(len(volumes)) if com[i,2] == z_max]\n",
    "\n",
    "\n",
    "# fragment volume_layer_max - ss \n",
    "gmsh.model.occ.fragment(volume_layer_max, [(2,ss)])"
   ]
  },
  {
   "cell_type": "code",
   "execution_count": 23,
   "metadata": {},
   "outputs": [
    {
     "data": {
      "text/plain": [
       "np.float64(2.75)"
      ]
     },
     "execution_count": 23,
     "metadata": {},
     "output_type": "execute_result"
    }
   ],
   "source": [
    "z_max"
   ]
  },
  {
   "cell_type": "code",
   "execution_count": 24,
   "metadata": {},
   "outputs": [],
   "source": [
    "gmsh.model.occ.synchronize()\n",
    "volumes = gmsh.model.getEntities(3)\n",
    "com = [ gmsh.model.occ.getCenterOfMass(3, i[1]) \n",
    "       for i in volumes ]\n",
    "#encontart volumenes con yCOM > 12.5\n",
    "volumes = [volumes[i] for i in range(len(volumes)) if com[i][1] > 12.5]\n",
    "# eliminar volumenes\n",
    "gmsh.model.occ.remove([i for i in volumes],recursive=True)\n",
    "gmsh.model.occ.synchronize()"
   ]
  },
  {
   "cell_type": "code",
   "execution_count": 25,
   "metadata": {},
   "outputs": [
    {
     "data": {
      "text/plain": [
       "[(3, 44), (3, 45), (3, 46)]"
      ]
     },
     "execution_count": 25,
     "metadata": {},
     "output_type": "execute_result"
    }
   ],
   "source": [
    "volumes"
   ]
  },
  {
   "cell_type": "code",
   "execution_count": 26,
   "metadata": {},
   "outputs": [],
   "source": [
    "# gmsh.fltk.run()\n"
   ]
  },
  {
   "cell_type": "code",
   "execution_count": 27,
   "metadata": {},
   "outputs": [],
   "source": [
    "# Identificamos el nucleo\n",
    "# Este es el volumen con menor valor de z en valor absoluto\n",
    "volumes = gmsh.model.getEntities(3)\n",
    "com = [ gmsh.model.occ.getCenterOfMass(3, i[1]) \n",
    "       for i in volumes ]\n",
    "\n",
    "\n",
    "sort_com_index = np.argsort(np.abs(np.array(com)[:,2]))\n",
    "\n",
    "id_nucleo = volumes[sort_com_index[0]][1]\n",
    "# physical group\n",
    "f2 = gmsh.model.addPhysicalGroup(3, [id_nucleo])\n",
    "gmsh.model.setPhysicalName(3, f2, \"Nucleo\")\n",
    "# \n",
    "gmsh.model.occ.synchronize()"
   ]
  },
  {
   "cell_type": "code",
   "execution_count": 28,
   "metadata": {},
   "outputs": [],
   "source": [
    "\n",
    "\n",
    "# Selecionamos todos los volumenes que no sean ni fibras ni nucleo\n",
    "resina = [ i[1] for i in volumes if i[1] != id_nucleo ]\n",
    "resina = [ i for i in resina if i not in fibres_tags]\n",
    "\n",
    "# sort by x\n",
    "com = [ gmsh.model.occ.getCenterOfMass(3, i) \n",
    "       for i in resina ]\n",
    "\n",
    "# remove z>0 \n",
    "\n",
    "resina = [resina[i] for i in range(len(com)) if com[i][2] < 0]\n",
    "com = [com[i] for i in range(len(com)) if com[i][2] < 0]\n",
    "\n",
    "sort_com_index = np.argsort(np.sqrt((np.array(com)[:,0]) **2 + (np.array(com)[:,1])**2))\n",
    "\n",
    "resina = [resina[i] for i in sort_com_index]\n",
    "\n",
    "# select solo las z<0 \n",
    "resina = resina[:3]\n",
    "com = [com[i] for i in sort_com_index]"
   ]
  },
  {
   "cell_type": "code",
   "execution_count": 29,
   "metadata": {},
   "outputs": [
    {
     "data": {
      "text/plain": [
       "array([[ 0.000e+00,  0.000e+00, -1.750e+00],\n",
       "       [-0.000e+00, -1.000e-03, -2.750e+00],\n",
       "       [ 2.500e-02, -1.500e-01, -2.250e+00],\n",
       "       [ 0.000e+00,  9.874e+00, -2.750e+00],\n",
       "       [ 3.506e+00,  9.906e+00, -2.250e+00],\n",
       "       [ 1.750e+01,  0.000e+00, -2.250e+00],\n",
       "       [-1.750e+01,  0.000e+00, -2.750e+00],\n",
       "       [ 1.750e+01,  0.000e+00, -2.750e+00],\n",
       "       [ 1.750e+01,  0.000e+00, -1.750e+00],\n",
       "       [-1.750e+01,  0.000e+00, -2.250e+00],\n",
       "       [-1.750e+01,  0.000e+00, -1.750e+00]])"
      ]
     },
     "execution_count": 29,
     "metadata": {},
     "output_type": "execute_result"
    }
   ],
   "source": [
    "np.array(com).round(3)"
   ]
  },
  {
   "cell_type": "code",
   "execution_count": 30,
   "metadata": {},
   "outputs": [],
   "source": [
    "# gmsh.fltk.run()"
   ]
  },
  {
   "cell_type": "code",
   "execution_count": 31,
   "metadata": {},
   "outputs": [
    {
     "data": {
      "text/plain": [
       "[38, 33, 35]"
      ]
     },
     "execution_count": 31,
     "metadata": {},
     "output_type": "execute_result"
    }
   ],
   "source": [
    "resina"
   ]
  },
  {
   "cell_type": "code",
   "execution_count": 32,
   "metadata": {},
   "outputs": [
    {
     "data": {
      "text/plain": [
       "array([[ 0.00000000e+00,  2.88672255e-15, -1.75000000e+00],\n",
       "       [-1.08035804e-04, -5.57174834e-04, -2.75000000e+00],\n",
       "       [ 2.46898538e-02, -1.50189179e-01, -2.25000000e+00],\n",
       "       [ 3.95991385e-04,  9.87442016e+00, -2.75000000e+00],\n",
       "       [ 3.50605474e+00,  9.90588780e+00, -2.25000000e+00],\n",
       "       [ 1.75000000e+01,  3.58095758e-10, -2.25000000e+00],\n",
       "       [-1.75000000e+01,  2.94076199e-10, -2.75000000e+00],\n",
       "       [ 1.75000000e+01,  2.94076250e-10, -2.75000000e+00],\n",
       "       [ 1.75000000e+01,  6.48866206e-16, -1.75000000e+00],\n",
       "       [-1.75000000e+01,  5.68434189e-17, -2.25000000e+00],\n",
       "       [-1.75000000e+01,  6.18882723e-16, -1.75000000e+00]])"
      ]
     },
     "execution_count": 32,
     "metadata": {},
     "output_type": "execute_result"
    }
   ],
   "source": [
    "np.array(com)"
   ]
  },
  {
   "cell_type": "code",
   "execution_count": 33,
   "metadata": {},
   "outputs": [
    {
     "data": {
      "text/plain": [
       "[38, 33, 35]"
      ]
     },
     "execution_count": 33,
     "metadata": {},
     "output_type": "execute_result"
    }
   ],
   "source": [
    "resina"
   ]
  },
  {
   "cell_type": "code",
   "execution_count": 34,
   "metadata": {},
   "outputs": [],
   "source": [
    "# gmsh.fltk.run()"
   ]
  },
  {
   "cell_type": "code",
   "execution_count": 35,
   "metadata": {},
   "outputs": [],
   "source": [
    "f3 = gmsh.model.addPhysicalGroup(3, resina)\n",
    "gmsh.model.setPhysicalName(3, f3, \"Resina\")"
   ]
  },
  {
   "cell_type": "code",
   "execution_count": 36,
   "metadata": {},
   "outputs": [
    {
     "data": {
      "text/plain": [
       "[38, 33, 35]"
      ]
     },
     "execution_count": 36,
     "metadata": {},
     "output_type": "execute_result"
    }
   ],
   "source": [
    "resina"
   ]
  },
  {
   "cell_type": "code",
   "execution_count": 37,
   "metadata": {},
   "outputs": [
    {
     "data": {
      "text/plain": [
       "[38, 33, 35]"
      ]
     },
     "execution_count": 37,
     "metadata": {},
     "output_type": "execute_result"
    }
   ],
   "source": [
    "resina"
   ]
  },
  {
   "cell_type": "code",
   "execution_count": 38,
   "metadata": {},
   "outputs": [],
   "source": [
    "\n",
    "volumes = gmsh.model.getEntities(3)\n",
    "volumes = [ i for i in volumes if i[1] not in resina]\n",
    "volumes = [ i for i in volumes if i[1] not in fibres_tags]\n",
    "volumes = [ i for i in volumes if i[1] != id_nucleo]\n"
   ]
  },
  {
   "cell_type": "code",
   "execution_count": 39,
   "metadata": {},
   "outputs": [],
   "source": [
    "com = [ gmsh.model.occ.getCenterOfMass(3, i[1]) for i in volumes ]\n",
    "com = np.array(com)\n",
    "# round \n",
    "com = np.round(com, 2)\n",
    "z_unique = np.unique(abs(com[:,2]))\n",
    "z_unique\n",
    "\n",
    "capas_1 = [ volumes[i][1] for i in range(len(volumes)) if abs(com[i][2]) == z_unique[0]]\n",
    "capas_2 = [ volumes[i][1] for i in range(len(volumes)) if abs(com[i][2]) == z_unique[1]]\n",
    "capas_3 = [ volumes[i][1] for i in range(len(volumes)) if abs(com[i][2]) == z_unique[2]]"
   ]
  },
  {
   "cell_type": "code",
   "execution_count": 40,
   "metadata": {},
   "outputs": [
    {
     "data": {
      "text/plain": [
       "[34, 40, 41]"
      ]
     },
     "execution_count": 40,
     "metadata": {},
     "output_type": "execute_result"
    }
   ],
   "source": [
    "capas_1"
   ]
  },
  {
   "cell_type": "code",
   "execution_count": 41,
   "metadata": {},
   "outputs": [],
   "source": [
    "# gmsh.fltk.run()"
   ]
  },
  {
   "cell_type": "code",
   "execution_count": 42,
   "metadata": {},
   "outputs": [
    {
     "data": {
      "text/plain": [
       "[np.float64(2.25),\n",
       " np.float64(2.25),\n",
       " np.float64(2.75),\n",
       " np.float64(2.25),\n",
       " np.float64(1.75),\n",
       " np.float64(2.75),\n",
       " np.float64(2.75),\n",
       " np.float64(2.25),\n",
       " np.float64(1.75),\n",
       " np.float64(1.75),\n",
       " np.float64(2.25),\n",
       " np.float64(2.75),\n",
       " np.float64(2.75)]"
      ]
     },
     "execution_count": 42,
     "metadata": {},
     "output_type": "execute_result"
    }
   ],
   "source": [
    "[ abs(i[2]) for i in com ]"
   ]
  },
  {
   "cell_type": "code",
   "execution_count": 43,
   "metadata": {},
   "outputs": [],
   "source": [
    "\n",
    "\n",
    "\n",
    "\n",
    "f5 = gmsh.model.addPhysicalGroup(3, capas_1)\n",
    "gmsh.model.setPhysicalName(3, f5, \"CAPAS_1\")\n",
    "\n",
    "f4 = gmsh.model.addPhysicalGroup(3, capas_2)\n",
    "gmsh.model.setPhysicalName(3, f4, \"CAPAS_2\")\n",
    "\n",
    "f6 = gmsh.model.addPhysicalGroup(3, capas_3)\n",
    "gmsh.model.setPhysicalName(3, f6, \"CAPAS_3\")\n",
    "#"
   ]
  },
  {
   "cell_type": "code",
   "execution_count": 44,
   "metadata": {},
   "outputs": [],
   "source": [
    "# gmsh.fltk.run()\n",
    "\n"
   ]
  },
  {
   "cell_type": "code",
   "execution_count": 45,
   "metadata": {},
   "outputs": [],
   "source": [
    "# # set mesh \n",
    "# gmsh.option.setNumber(\"Mesh.CharacteristicLengthMin\", 0.25*r)\n",
    "# gmsh.option.setNumber(\"Mesh.CharacteristicLengthMax\", 4.0*r)\n",
    "\n",
    "\n",
    "#algorithm\n",
    "gmsh.option.setNumber(\"Mesh.Algorithm\", 6) # 2: Delaunay, 6: Frontal-Delaunay, 7: Frontal\n",
    "\n",
    "# gmsh.option.setNumber(\"Mesh.CharacteristicLengthMin\", 0.4*r)\n",
    "# gmsh.option.setNumber(\"Mesh.CharacteristicLengthMax\", 4.0*r)\n",
    "\n",
    "# gmsh.option.setNumber(\"Mesh.MeshSizeFromCurvature\", 10) # 20\n",
    "\n",
    "# gmsh.option.setNumber(\"Mesh.SmoothRatio\", 1.5) # 20\n",
    "\n",
    "# # gmsh \n",
    "#\n"
   ]
  },
  {
   "cell_type": "code",
   "execution_count": 46,
   "metadata": {},
   "outputs": [],
   "source": [
    "\n",
    "# field = gmsh.model.mesh.field\n",
    "# field.add(\"MathEval\", 1)\n",
    "\n",
    "# THX = \"(0.5 + 0.5*Tanh(10*(-x + x0)) )  * (0.5 + 0.5*Tanh(10*(x + x0)) )\"\n",
    "\n",
    "# THZ_MINUS = \"( 0.5 + 0.5*Tanh(10*(-z - z0)) )\"\n",
    "# THY = \"(0.5 + 0.5*Tanh(10*(y - y0)) )\"\n",
    "\n",
    "\n",
    "# Fz = \"1.0 - 0.55 * THX * THZ_MINUS - 0.35 * THY*THZ_MINUS\"\n",
    "\n",
    "# Fz = Fz.replace(\"THX\", THX)\n",
    "# Fz = Fz.replace(\"THZ_MINUS\", THZ_MINUS)\n",
    "# Fz = Fz.replace(\"THY\", THY)\n",
    "\n",
    "# Fz = Fz.replace(\"y0\", str(0.975*Ly/2))\n",
    "# Fz = Fz.replace(\"z0\", str(z0 - 1))\n",
    "# Fz = Fz.replace(\"x0\", str(lx/2 + 1))\n",
    "# field.setString(1, \"F\", Fz)\n",
    "\n",
    "# # Aplicar el campo de fondo\n",
    "# field.setAsBackgroundMesh(1)\n",
    "\n"
   ]
  },
  {
   "cell_type": "code",
   "execution_count": 47,
   "metadata": {},
   "outputs": [],
   "source": [
    "\n",
    "\n",
    "def BoxRefine(x1,x2,y1,y2,z1,z2,vin,vout,Thickness=1.0):\n",
    "    \n",
    "\n",
    "    field_tag = gmsh.model.mesh.field.add(\"Box\")\n",
    "\n",
    "    gmsh.model.mesh.field.setNumber(field_tag, \"VIn\", vin)\n",
    "    gmsh.model.mesh.field.setNumber(field_tag, \"VOut\", vout)\n",
    "\n",
    "    gmsh.model.mesh.field.setNumber(field_tag, \"XMin\", x1)\n",
    "    gmsh.model.mesh.field.setNumber(field_tag, \"XMax\", x2)\n",
    "\n",
    "    gmsh.model.mesh.field.setNumber(field_tag, \"YMin\", y1)\n",
    "    gmsh.model.mesh.field.setNumber(field_tag, \"YMax\", y2)\n",
    "\n",
    "    gmsh.model.mesh.field.setNumber(field_tag, \"ZMin\", z1)\n",
    "    gmsh.model.mesh.field.setNumber(field_tag, \"ZMax\", z2)\n",
    "\n",
    "    # Thickness\n",
    "    gmsh.model.mesh.field.setNumber(field_tag, \"Thickness\", Thickness)\n",
    "\n",
    "    return field_tag\n",
    "\n",
    "BaseMeshSize = 1.8\n",
    "\n",
    "field_tag_base = BoxRefine(-Lx/2, Lx/2, \n",
    "                           -Ly/2, Ly/2, \n",
    "                           -Lz/2, Lz/2,\n",
    "                            BaseMeshSize, BaseMeshSize)\n",
    "\n",
    "FineMeshSize = 0.275\n",
    "\n",
    "eps = 0.25\n",
    "field_tag_fine = BoxRefine(    -lx/2     , lx/2,\n",
    "                               -Ly/2     , Ly/2, \n",
    "                            -z0 - 3*hz , -z0 - hz + eps ,\n",
    "                            FineMeshSize, BaseMeshSize,Thickness=2)\n",
    "\n",
    "BordeMeshSize = 0.12\n",
    "# # Ly borde \n",
    "field_tag_border_1 = BoxRefine(-lx/2    , lx/2 ,\n",
    "                                -Ly/2   , -0.95*Ly/2,\n",
    "                               -z0 - 3*hz , -z0 - hz + eps ,\n",
    "                             BordeMeshSize, BaseMeshSize)\n",
    "\n",
    "field_tag_border_2 = BoxRefine(-lx/2    , lx/2 ,\n",
    "                                0.95*Ly/2   , Ly/2,\n",
    "                               -z0 - 3*hz , -z0 - hz + eps ,\n",
    "                             BordeMeshSize, BaseMeshSize)\n",
    "BordeMeshSize = 0.125\n",
    "\n",
    "field_tag_border_3 = BoxRefine(0.9*lx/2    , lx/2 ,\n",
    "                                -Ly/2   , Ly/2,\n",
    "                               -z0 - 3*hz , -z0 - hz + eps ,\n",
    "                             BordeMeshSize, BaseMeshSize)\n",
    "\n",
    "field_tag_border_4 = BoxRefine(-lx/2    , -0.9*lx/2 ,\n",
    "                                -Ly/2   , Ly/2,\n",
    "                               -z0 - 3*hz , -z0 - hz + eps ,\n",
    "                             BordeMeshSize, BaseMeshSize)\n",
    "\n",
    "\n",
    "# # Ly borde BordeMeshSize = 0.35\n",
    "# BordeMeshSize = 0.30\n",
    "\n",
    "# field_tag_border_2 = BoxRefine(-lx/2    , lx/2,\n",
    "#                              -Ly/2 , -0.9*Ly/2,\n",
    "#                             -z0 - 3*hz , -z0 - hz + eps ,\n",
    "#                              BordeMeshSize, BaseMeshSize)\n",
    "# BordeMeshSize = 0.30\n",
    "\n",
    "# field_tag_border_3 = BoxRefine(0.9*lx/2    , lx/2,\n",
    "#                                 -Ly/2 , Ly/2,\n",
    "#                                 -z0 - 3*hz , -z0 - hz + eps ,\n",
    "#                                 BordeMeshSize, BaseMeshSize)\n",
    "# BordeMeshSize = 0.35\n",
    "\n",
    "# field_tag_border_4 = BoxRefine(  0    , eps,\n",
    "#                                 -Ly/2 , Ly/2,\n",
    "#                                 -z0 - 3*hz , -z0  ,\n",
    "#                                 BordeMeshSize, BaseMeshSize)\n",
    "# # syncro\n",
    "\n",
    "field_tag_min =  gmsh.model.mesh.field.add(\"Min\")\n",
    "gmsh.model.mesh.field.setNumbers(field_tag_min, \"FieldsList\", \n",
    "                                [field_tag_base, field_tag_fine,\n",
    "                                field_tag_border_1, field_tag_border_2,\n",
    "                                field_tag_border_3, field_tag_border_4])\n",
    "\n",
    "gmsh.model.mesh.field.setAsBackgroundMesh(field_tag_min)\n",
    "\n",
    "gmsh.option.setNumber(\"Mesh.MeshSizeExtendFromBoundary\", 0)\n",
    "gmsh.option.setNumber(\"Mesh.MeshSizeFromPoints\", 0)\n",
    "gmsh.option.setNumber(\"Mesh.MeshSizeFromCurvature\", 6.5)\n"
   ]
  },
  {
   "cell_type": "code",
   "execution_count": null,
   "metadata": {},
   "outputs": [],
   "source": []
  },
  {
   "cell_type": "code",
   "execution_count": 48,
   "metadata": {},
   "outputs": [
    {
     "data": {
      "text/plain": [
       "7"
      ]
     },
     "execution_count": 48,
     "metadata": {},
     "output_type": "execute_result"
    }
   ],
   "source": [
    "field_tag_min"
   ]
  },
  {
   "cell_type": "code",
   "execution_count": 49,
   "metadata": {},
   "outputs": [],
   "source": [
    "# gmsh.write(\"t1.brep\")"
   ]
  },
  {
   "cell_type": "code",
   "execution_count": 50,
   "metadata": {},
   "outputs": [],
   "source": [
    "gmsh.fltk.run()"
   ]
  },
  {
   "cell_type": "code",
   "execution_count": 51,
   "metadata": {},
   "outputs": [],
   "source": [
    "\n",
    "gmsh.model.mesh.generate(3)\n",
    "# optimize\n",
    "# second order \n",
    "gmsh.model.mesh.optimize(\"Netgen\",force=False)\n",
    "gmsh.model.mesh.setOrder(2)\n"
   ]
  },
  {
   "cell_type": "code",
   "execution_count": 52,
   "metadata": {},
   "outputs": [],
   "source": [
    "\n",
    "# recombine \n",
    "gmsh.write(\"t1_large.inp\")"
   ]
  },
  {
   "cell_type": "code",
   "execution_count": 53,
   "metadata": {},
   "outputs": [],
   "source": [
    "E1 = 8000 \n",
    "E2 = 700 \n",
    "\n",
    "Ec = 8000\n",
    "\n",
    "nu = 0.3 \n",
    "Em = 1000\n",
    "En = 800\n"
   ]
  },
  {
   "cell_type": "code",
   "execution_count": 54,
   "metadata": {},
   "outputs": [],
   "source": [
    "from djccx.inp.inp import  inp \n",
    "\n",
    "inp_f = inp(\"t1_large.inp\")\n",
    "\n",
    "inp_f.remove_by_type(2)\n",
    "\n",
    "nodes = inp_f.nodes.df\n",
    "\n",
    "# nodes_sym = nodes.copy()\n",
    "# nodes_sym = nodes_sym[ nodes_sym[\"x\"] < 1e-3] \n",
    "\n",
    "# nset_sym_x = inp_f.CreateNsetFromIds(nodes_sym.index, \"sym_x\")\n",
    "\n",
    "# nodes_sym = nodes.copy()\n",
    "# nodes_sym = nodes_sym[ nodes_sym[\"y\"] < 1e-3] \n",
    "\n",
    "# nset_sym_y = inp_f.CreateNsetFromIds(nodes_sym.index, \"sym_y\")\n",
    "\n",
    "nodes_fixed = nodes.copy()\n",
    "nodes_fixed = nodes_fixed[ nodes_fixed[\"x\"] > 0.5*Lx  - 1e-1]\n",
    "nodes_fixed = nodes_fixed[ nodes_fixed[\"z\"] < -0.5*Lz + 1e-1]\n",
    "\n",
    "nset_fixed = inp_f.CreateNsetFromIds(nodes_fixed.index, \"fixed\")\n",
    "\n",
    "# nodes_fixed_minus = nodes.copy()\n",
    "# nodes_fixed_minus = nodes_fixed_minus[ nodes_fixed_minus[\"x\"] < -0.5*Lx + 1e-1]\n",
    "# nodes_fixed_minus = nodes_fixed_minus[ nodes_fixed_minus[\"z\"] < -0.5*Lz + 1e-1]\n",
    "\n",
    "# nset_fixed_minus = inp_f.CreateNsetFromIds(nodes_fixed_minus.index, \"fixed_minus\")\n",
    "\n",
    "nodes_force = nodes.copy()\n",
    "z_unique = nodes_force[\"z\"].unique()\n",
    "z_unique = np.sort(z_unique)\n",
    "nodes_force = nodes_force[ nodes_force[\"x\"]  == 0]\n",
    "nodes_force = nodes_force[ nodes_force[\"z\"] == z_unique[-1] ]\n",
    "nset_force = inp_f.CreateNsetFromIds(nodes_force.index, \"force\")\n",
    "\n",
    "# materials \n",
    "mat_fibras = inp_f.CreateElasticMaterial(\"FIBRES\", Ec, nu)\n",
    "mat_resina = inp_f.CreateElasticMaterial(\"RESINA\", Em, nu)\n",
    "mat_capas_1 = inp_f.CreateElasticMaterial(\"CAPAS_1\", E1, nu)\n",
    "mat_capas_2 = inp_f.CreateElasticMaterial(\"CAPAS_2\", E1, nu)\n",
    "mat_capas_3 = inp_f.CreateElasticMaterial(\"CAPAS_3\", E2, nu)\n",
    "\n",
    "mat_nucleo = inp_f.CreateElasticMaterial(\"NUCLEO\", En, nu)\n",
    "\n",
    "\n",
    "# elsets \n",
    "fibres_elset  = inp_f.select(\"FIBRES\",\"elset\")\n",
    "resina_elset  = inp_f.select(\"RESINA\",\"elset\") \n",
    "capas_1_elset = inp_f.select(\"CAPAS_1\",\"elset\")\n",
    "capas_2_elset = inp_f.select(\"CAPAS_2\",\"elset\")\n",
    "capas_3_elset = inp_f.select(\"CAPAS_3\",\"elset\")\n",
    "nucleo_elset  = inp_f.select(\"NUCLEO\",\"elset\")\n",
    "\n",
    "inp_f.CreateSolidSection( fibres_elset, mat_fibras)\n",
    "inp_f.CreateSolidSection( resina_elset, mat_resina)\n",
    "inp_f.CreateSolidSection( capas_1_elset, mat_capas_1)\n",
    "inp_f.CreateSolidSection( capas_2_elset, mat_capas_2)\n",
    "inp_f.CreateSolidSection( capas_3_elset, mat_capas_3)\n",
    "inp_f.CreateSolidSection( nucleo_elset, mat_nucleo)\n",
    "#\n",
    "\n",
    "istep = inp_f.CreateStaticStep()\n",
    "istep.CreateBoundary(nset_fixed,3,0)\n",
    "disp = 5\n",
    "istep.CreateBoundary(nset_force, 3, -disp)\n",
    "\n",
    "\n",
    "inp_f.print(\"t1_new_large.inp\")"
   ]
  },
  {
   "cell_type": "code",
   "execution_count": 55,
   "metadata": {},
   "outputs": [],
   "source": [
    "nodes_force = nodes.copy()\n",
    "z_unique = nodes_force[\"z\"].unique()\n",
    "z_unique = np.sort(z_unique)\n",
    "nodes_force = nodes_force[ nodes_force[\"x\"]  == 0]\n",
    "nodes_force = nodes_force[ nodes_force[\"z\"] == z_unique[-1] ]"
   ]
  },
  {
   "cell_type": "code",
   "execution_count": 56,
   "metadata": {},
   "outputs": [
    {
     "data": {
      "text/html": [
       "<div>\n",
       "<style scoped>\n",
       "    .dataframe tbody tr th:only-of-type {\n",
       "        vertical-align: middle;\n",
       "    }\n",
       "\n",
       "    .dataframe tbody tr th {\n",
       "        vertical-align: top;\n",
       "    }\n",
       "\n",
       "    .dataframe thead th {\n",
       "        text-align: right;\n",
       "    }\n",
       "</style>\n",
       "<table border=\"1\" class=\"dataframe\">\n",
       "  <thead>\n",
       "    <tr style=\"text-align: right;\">\n",
       "      <th></th>\n",
       "      <th>x</th>\n",
       "      <th>y</th>\n",
       "      <th>z</th>\n",
       "    </tr>\n",
       "    <tr>\n",
       "      <th>nid</th>\n",
       "      <th></th>\n",
       "      <th></th>\n",
       "      <th></th>\n",
       "    </tr>\n",
       "  </thead>\n",
       "  <tbody>\n",
       "    <tr>\n",
       "      <th>1</th>\n",
       "      <td>-5.000000</td>\n",
       "      <td>-2.169888</td>\n",
       "      <td>-2.886364</td>\n",
       "    </tr>\n",
       "    <tr>\n",
       "      <th>2</th>\n",
       "      <td>-5.000000</td>\n",
       "      <td>-2.169888</td>\n",
       "      <td>-2.613636</td>\n",
       "    </tr>\n",
       "    <tr>\n",
       "      <th>3</th>\n",
       "      <td>-3.847796</td>\n",
       "      <td>-2.670759</td>\n",
       "      <td>-2.613636</td>\n",
       "    </tr>\n",
       "    <tr>\n",
       "      <th>4</th>\n",
       "      <td>-3.847796</td>\n",
       "      <td>-2.670759</td>\n",
       "      <td>-2.886364</td>\n",
       "    </tr>\n",
       "    <tr>\n",
       "      <th>5</th>\n",
       "      <td>-5.000000</td>\n",
       "      <td>-2.500000</td>\n",
       "      <td>-2.613636</td>\n",
       "    </tr>\n",
       "    <tr>\n",
       "      <th>...</th>\n",
       "      <td>...</td>\n",
       "      <td>...</td>\n",
       "      <td>...</td>\n",
       "    </tr>\n",
       "    <tr>\n",
       "      <th>700981</th>\n",
       "      <td>18.743908</td>\n",
       "      <td>-11.498545</td>\n",
       "      <td>2.622695</td>\n",
       "    </tr>\n",
       "    <tr>\n",
       "      <th>700982</th>\n",
       "      <td>28.784865</td>\n",
       "      <td>-2.220638</td>\n",
       "      <td>2.875156</td>\n",
       "    </tr>\n",
       "    <tr>\n",
       "      <th>700983</th>\n",
       "      <td>28.389298</td>\n",
       "      <td>11.412658</td>\n",
       "      <td>2.878832</td>\n",
       "    </tr>\n",
       "    <tr>\n",
       "      <th>700984</th>\n",
       "      <td>19.981060</td>\n",
       "      <td>11.365737</td>\n",
       "      <td>2.876499</td>\n",
       "    </tr>\n",
       "    <tr>\n",
       "      <th>700985</th>\n",
       "      <td>13.927451</td>\n",
       "      <td>11.128945</td>\n",
       "      <td>2.875396</td>\n",
       "    </tr>\n",
       "  </tbody>\n",
       "</table>\n",
       "<p>700985 rows × 3 columns</p>\n",
       "</div>"
      ],
      "text/plain": [
       "                x          y         z\n",
       "nid                                   \n",
       "1       -5.000000  -2.169888 -2.886364\n",
       "2       -5.000000  -2.169888 -2.613636\n",
       "3       -3.847796  -2.670759 -2.613636\n",
       "4       -3.847796  -2.670759 -2.886364\n",
       "5       -5.000000  -2.500000 -2.613636\n",
       "...           ...        ...       ...\n",
       "700981  18.743908 -11.498545  2.622695\n",
       "700982  28.784865  -2.220638  2.875156\n",
       "700983  28.389298  11.412658  2.878832\n",
       "700984  19.981060  11.365737  2.876499\n",
       "700985  13.927451  11.128945  2.875396\n",
       "\n",
       "[700985 rows x 3 columns]"
      ]
     },
     "execution_count": 56,
     "metadata": {},
     "output_type": "execute_result"
    }
   ],
   "source": [
    "nodes_force = nodes.copy()\n",
    "nodes_force"
   ]
  },
  {
   "cell_type": "code",
   "execution_count": 57,
   "metadata": {},
   "outputs": [
    {
     "data": {
      "text/plain": [
       "[<matplotlib.lines.Line2D at 0x15516ba3c50>]"
      ]
     },
     "execution_count": 57,
     "metadata": {},
     "output_type": "execute_result"
    },
    {
     "data": {
      "image/png": "[encoded data removed]",
      "text/plain": [
       "<Figure size 640x480 with 1 Axes>"
      ]
     },
     "metadata": {},
     "output_type": "display_data"
    }
   ],
   "source": [
    "from matplotlib import pyplot as plt\n",
    "\n",
    "plt.plot(nodes_force[\"x\"], nodes_force[\"z\"], \"o\")"
   ]
  },
  {
   "cell_type": "code",
   "execution_count": 58,
   "metadata": {},
   "outputs": [],
   "source": [
    "fibres_elset = inp_f.select(\"FIBRES\",\"elset\")\n"
   ]
  },
  {
   "cell_type": "code",
   "execution_count": 59,
   "metadata": {},
   "outputs": [
    {
     "data": {
      "text/plain": [
       "[Card (*ELSET) :FIBRES,\n",
       " Card (*ELSET) :NUCLEO,\n",
       " Card (*ELSET) :RESINA,\n",
       " Card (*ELSET) :CAPAS_1,\n",
       " Card (*ELSET) :CAPAS_2,\n",
       " Card (*ELSET) :CAPAS_3]"
      ]
     },
     "execution_count": 59,
     "metadata": {},
     "output_type": "execute_result"
    }
   ],
   "source": [
    "inp_f.elsets"
   ]
  },
  {
   "cell_type": "code",
   "execution_count": 60,
   "metadata": {},
   "outputs": [
    {
     "data": {
      "text/plain": [
       "2.999"
      ]
     },
     "execution_count": 60,
     "metadata": {},
     "output_type": "execute_result"
    }
   ],
   "source": [
    "0.5*Lz - 1e-3"
   ]
  },
  {
   "cell_type": "code",
   "execution_count": null,
   "metadata": {},
   "outputs": [],
   "source": []
  },
  {
   "cell_type": "markdown",
   "metadata": {},
   "source": []
  },
  {
   "cell_type": "code",
   "execution_count": null,
   "metadata": {},
   "outputs": [],
   "source": []
  },
  {
   "cell_type": "code",
   "execution_count": null,
   "metadata": {},
   "outputs": [],
   "source": []
  }
 ],
 "metadata": {
  "kernelspec": {
   "display_name": "Python 3",
   "language": "python",
   "name": "python3"
  },
  "language_info": {
   "codemirror_mode": {
    "name": "ipython",
    "version": 3
   },
   "file_extension": ".py",
   "mimetype": "text/x-python",
   "name": "python",
   "nbconvert_exporter": "python",
   "pygments_lexer": "ipython3",
   "version": "3.13.2"
  }
 },
 "nbformat": 4,
 "nbformat_minor": 2
}
