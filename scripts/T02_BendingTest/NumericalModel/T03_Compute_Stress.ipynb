{
 "cells": [
  {
   "cell_type": "code",
   "execution_count": 4,
   "metadata": {},
   "outputs": [],
   "source": [
    "from djccx.frd.readfrd import readfrd\n",
    "from matplotlib import pyplot as plt\n",
    "from validation.FullExperimental import FullExperimental\n",
    "import os, glob\n",
    "import numpy as np"
   ]
  },
  {
   "cell_type": "code",
   "execution_count": 5,
   "metadata": {},
   "outputs": [],
   "source": [
    "params = {\n",
    "            \"geo\" : {\n",
    "                        \"t_n\" : 2.51,\n",
    "                        \"t_l\" : 0.5,\n",
    "                        \"Lx\"  : 30,\n",
    "                        \"Ly\"  : 25\n",
    "                    },\n",
    "            \"sim\" : {\n",
    "                        \"disp\" : 0.5,\n",
    "                    },\n",
    "            \"tensile\" : {\n",
    "                        \"disp\" : 2.0,\n",
    "                    },\n",
    "        }"
   ]
  },
  {
   "cell_type": "code",
   "execution_count": 6,
   "metadata": {},
   "outputs": [
    {
     "name": "stdout",
     "output_type": "stream",
     "text": [
      "[0.         0.02666667 0.05333333 0.08      ]\n"
     ]
    }
   ],
   "source": [
    "epsilon_tensile = params[\"tensile\"][\"disp\"] / params[\"geo\"][\"Ly\"]\n",
    "eps_span = np.linspace(0, epsilon_tensile, 4)\n",
    "print(eps_span)"
   ]
  },
  {
   "cell_type": "code",
   "execution_count": null,
   "metadata": {},
   "outputs": [],
   "source": []
  },
  {
   "cell_type": "code",
   "execution_count": 7,
   "metadata": {},
   "outputs": [],
   "source": [
    "from AnalyticalLayers.models import Tau_model"
   ]
  },
  {
   "cell_type": "code",
   "execution_count": 8,
   "metadata": {},
   "outputs": [],
   "source": [
    "composition = [\n",
    "        [\"Y\", \"Y\"],\n",
    "        [\"Y\", \"X\"],\n",
    "        [\"Y\", \"SX\"],\n",
    "        [\"Y\", \"SY\"],\n",
    "        [\"Y\", \"SX\" , \"SY\"],\n",
    "        [\"Y\", \"X\"  , \"SY\"]\n",
    "    ]\n",
    "ni = [ len(c) for c in composition ]"
   ]
  },
  {
   "cell_type": "code",
   "execution_count": 9,
   "metadata": {},
   "outputs": [],
   "source": [
    "tn = params[\"geo\"][\"t_n\"]\n",
    "tl = params[\"geo\"][\"t_l\"]\n",
    "Lx = params[\"geo\"][\"Lx\"]\n",
    "\n",
    "tt = [ Tau_model(tn,tl,ini) for ini in ni ]\n",
    "tt = np.array(tt)\n"
   ]
  },
  {
   "cell_type": "code",
   "execution_count": 10,
   "metadata": {},
   "outputs": [],
   "source": [
    "df_exp = FullExperimental() "
   ]
  },
  {
   "cell_type": "code",
   "execution_count": 11,
   "metadata": {},
   "outputs": [
    {
     "data": {
      "text/plain": [
       "Name\n",
       "TFP1    0.178\n",
       "TFP2    0.164\n",
       "TFP3    0.135\n",
       "TFP4    0.144\n",
       "TFP5    0.146\n",
       "TFP6    0.180\n",
       "Name: Vc, dtype: float64"
      ]
     },
     "execution_count": 11,
     "metadata": {},
     "output_type": "execute_result"
    }
   ],
   "source": [
    "df_exp.pop(\"Eb [GPa]\")\n",
    "df_exp.pop(\"Et [GPa]\")\n",
    "df_exp.pop(\"Vc\")"
   ]
  },
  {
   "cell_type": "code",
   "execution_count": 12,
   "metadata": {},
   "outputs": [
    {
     "data": {
      "text/html": [
       "<div>\n",
       "<style scoped>\n",
       "    .dataframe tbody tr th:only-of-type {\n",
       "        vertical-align: middle;\n",
       "    }\n",
       "\n",
       "    .dataframe tbody tr th {\n",
       "        vertical-align: top;\n",
       "    }\n",
       "\n",
       "    .dataframe thead tr th {\n",
       "        text-align: left;\n",
       "    }\n",
       "\n",
       "    .dataframe thead tr:last-of-type th {\n",
       "        text-align: right;\n",
       "    }\n",
       "</style>\n",
       "<table border=\"1\" class=\"dataframe\">\n",
       "  <thead>\n",
       "    <tr>\n",
       "      <th></th>\n",
       "      <th colspan=\"2\" halign=\"left\">% e</th>\n",
       "      <th colspan=\"2\" halign=\"left\">Smax [MPa]</th>\n",
       "      <th colspan=\"2\" halign=\"left\">t [mm]</th>\n",
       "      <th colspan=\"2\" halign=\"left\">b [mm]</th>\n",
       "      <th>layers</th>\n",
       "    </tr>\n",
       "    <tr>\n",
       "      <th></th>\n",
       "      <th>mean</th>\n",
       "      <th>std</th>\n",
       "      <th>mean</th>\n",
       "      <th>std</th>\n",
       "      <th>mean</th>\n",
       "      <th>std</th>\n",
       "      <th>mean</th>\n",
       "      <th>std</th>\n",
       "      <th></th>\n",
       "    </tr>\n",
       "    <tr>\n",
       "      <th>Name</th>\n",
       "      <th></th>\n",
       "      <th></th>\n",
       "      <th></th>\n",
       "      <th></th>\n",
       "      <th></th>\n",
       "      <th></th>\n",
       "      <th></th>\n",
       "      <th></th>\n",
       "      <th></th>\n",
       "    </tr>\n",
       "  </thead>\n",
       "  <tbody>\n",
       "    <tr>\n",
       "      <th>TFP1</th>\n",
       "      <td>0.123306</td>\n",
       "      <td>0.009827</td>\n",
       "      <td>279.103333</td>\n",
       "      <td>14.337700</td>\n",
       "      <td>5.266667</td>\n",
       "      <td>0.057735</td>\n",
       "      <td>25.600000</td>\n",
       "      <td>0.100000</td>\n",
       "      <td>[Y]</td>\n",
       "    </tr>\n",
       "    <tr>\n",
       "      <th>TFP2</th>\n",
       "      <td>0.087556</td>\n",
       "      <td>0.002840</td>\n",
       "      <td>153.360000</td>\n",
       "      <td>0.473181</td>\n",
       "      <td>4.700000</td>\n",
       "      <td>0.000000</td>\n",
       "      <td>25.566667</td>\n",
       "      <td>0.057735</td>\n",
       "      <td>[Y, X]</td>\n",
       "    </tr>\n",
       "    <tr>\n",
       "      <th>TFP3</th>\n",
       "      <td>0.087444</td>\n",
       "      <td>0.002164</td>\n",
       "      <td>137.113333</td>\n",
       "      <td>4.996812</td>\n",
       "      <td>4.833333</td>\n",
       "      <td>0.057735</td>\n",
       "      <td>25.400000</td>\n",
       "      <td>0.173205</td>\n",
       "      <td>[Y, SX]</td>\n",
       "    </tr>\n",
       "    <tr>\n",
       "      <th>TFP4</th>\n",
       "      <td>0.095472</td>\n",
       "      <td>0.005491</td>\n",
       "      <td>184.396667</td>\n",
       "      <td>1.356515</td>\n",
       "      <td>4.700000</td>\n",
       "      <td>0.000000</td>\n",
       "      <td>25.666667</td>\n",
       "      <td>0.152753</td>\n",
       "      <td>[Y, SY]</td>\n",
       "    </tr>\n",
       "    <tr>\n",
       "      <th>TFP5</th>\n",
       "      <td>0.089889</td>\n",
       "      <td>0.013757</td>\n",
       "      <td>99.990000</td>\n",
       "      <td>9.790138</td>\n",
       "      <td>5.700000</td>\n",
       "      <td>0.000000</td>\n",
       "      <td>25.166667</td>\n",
       "      <td>0.152753</td>\n",
       "      <td>[Y, SX, SY]</td>\n",
       "    </tr>\n",
       "    <tr>\n",
       "      <th>TFP6</th>\n",
       "      <td>0.089083</td>\n",
       "      <td>0.010304</td>\n",
       "      <td>104.513333</td>\n",
       "      <td>7.708893</td>\n",
       "      <td>5.600000</td>\n",
       "      <td>0.000000</td>\n",
       "      <td>25.033333</td>\n",
       "      <td>0.635085</td>\n",
       "      <td>[Y, X, SY]</td>\n",
       "    </tr>\n",
       "  </tbody>\n",
       "</table>\n",
       "</div>"
      ],
      "text/plain": [
       "           % e            Smax [MPa]               t [mm]            \\\n",
       "          mean       std        mean        std      mean       std   \n",
       "Name                                                                  \n",
       "TFP1  0.123306  0.009827  279.103333  14.337700  5.266667  0.057735   \n",
       "TFP2  0.087556  0.002840  153.360000   0.473181  4.700000  0.000000   \n",
       "TFP3  0.087444  0.002164  137.113333   4.996812  4.833333  0.057735   \n",
       "TFP4  0.095472  0.005491  184.396667   1.356515  4.700000  0.000000   \n",
       "TFP5  0.089889  0.013757   99.990000   9.790138  5.700000  0.000000   \n",
       "TFP6  0.089083  0.010304  104.513333   7.708893  5.600000  0.000000   \n",
       "\n",
       "         b [mm]                 layers  \n",
       "           mean       std               \n",
       "Name                                    \n",
       "TFP1  25.600000  0.100000          [Y]  \n",
       "TFP2  25.566667  0.057735       [Y, X]  \n",
       "TFP3  25.400000  0.173205      [Y, SX]  \n",
       "TFP4  25.666667  0.152753      [Y, SY]  \n",
       "TFP5  25.166667  0.152753  [Y, SX, SY]  \n",
       "TFP6  25.033333  0.635085   [Y, X, SY]  "
      ]
     },
     "execution_count": 12,
     "metadata": {},
     "output_type": "execute_result"
    }
   ],
   "source": [
    "df_exp"
   ]
  },
  {
   "cell_type": "code",
   "execution_count": 13,
   "metadata": {},
   "outputs": [],
   "source": [
    "St = df_exp[\"Smax [MPa]\"][\"mean\"]"
   ]
  },
  {
   "cell_type": "code",
   "execution_count": 14,
   "metadata": {},
   "outputs": [],
   "source": [
    "St = np.array([256.88057426, 146.37908435, 130.73891314, 183.43036528,\n",
    "       106.30559521, 112.76523383])"
   ]
  },
  {
   "cell_type": "code",
   "execution_count": 15,
   "metadata": {},
   "outputs": [
    {
     "data": {
      "text/plain": [
       "array([256.88057426, 146.37908435, 130.73891314, 183.43036528,\n",
       "       106.30559521, 112.76523383])"
      ]
     },
     "execution_count": 15,
     "metadata": {},
     "output_type": "execute_result"
    }
   ],
   "source": [
    "St"
   ]
  },
  {
   "cell_type": "code",
   "execution_count": 16,
   "metadata": {},
   "outputs": [],
   "source": [
    "import pandas as pd\n",
    "\n",
    "results = pd.read_csv(\"output.csv\")"
   ]
  },
  {
   "cell_type": "code",
   "execution_count": 17,
   "metadata": {},
   "outputs": [],
   "source": [
    "frds = glob.glob(\"output/*/tensile/*.frd\")\n",
    "inps = glob.glob(\"output/*/tensile/*.inp\")\n",
    "stress_test = [ p.replace(\"tensile\",\"stress\") for p in inps ]\n"
   ]
  },
  {
   "cell_type": "code",
   "execution_count": 18,
   "metadata": {},
   "outputs": [],
   "source": [
    "# createe folders \n",
    "for p in stress_test:\n",
    "    try:\n",
    "        os.makedirs(p, exist_ok=True)\n",
    "    except:\n",
    "        pass"
   ]
  },
  {
   "cell_type": "code",
   "execution_count": 19,
   "metadata": {},
   "outputs": [],
   "source": [
    "from djccx.inp.inp import inp"
   ]
  },
  {
   "cell_type": "code",
   "execution_count": 20,
   "metadata": {},
   "outputs": [],
   "source": [
    "import numpy as np"
   ]
  },
  {
   "cell_type": "code",
   "execution_count": 21,
   "metadata": {},
   "outputs": [],
   "source": [
    "St_layers = {\n",
    "    \"X\"   : 51.1,  # MPa\n",
    "    \"SX\"  : 72.8,  # MPa\n",
    "    \"Y\"   : 741.4,   # MPa\n",
    "    \"SY\"  : 111.3, # MPa\n",
    "    \"nucleo\" : 0.0,\n",
    "}\n",
    "\n",
    "St_TFP = [ 279.1, 153.4 , 137.1 , 184.4 , 100.0 , 104.5 ]"
   ]
  },
  {
   "cell_type": "code",
   "execution_count": 34,
   "metadata": {},
   "outputs": [
    {
     "data": {
      "text/plain": [
       "67.26722314969395"
      ]
     },
     "execution_count": 34,
     "metadata": {},
     "output_type": "execute_result"
    }
   ],
   "source": [
    "788*153.4/1797"
   ]
  },
  {
   "cell_type": "code",
   "execution_count": 41,
   "metadata": {},
   "outputs": [
    {
     "name": "stdout",
     "output_type": "stream",
     "text": [
      "['SX', 'Y', 'nucleo', 'Y', 'SX']\n"
     ]
    }
   ],
   "source": [
    "\n",
    "TPF = 2\n",
    "inp_f = inp(inps[TPF])\n",
    "ifrd = readfrd(frds[TPF])\n",
    "LAYERS =  inp_f.elements\n",
    "\n",
    "YLs = inp_f.select_regex(\".*YL_.*\",\"nset\")\n",
    "icomp = [ *composition[TPF][::-1] , \"nucleo\", *composition[TPF] ]\n",
    "\n",
    "ti = np.array([tl for i in range(len(icomp))])\n",
    "ti[len(icomp)//2] = tn\n",
    "\n",
    "A = ti*Lx\n",
    "print(icomp)\n",
    "\n",
    "rr = []\n",
    "for data in ifrd[\"data_blocks\"]:\n",
    "    F2s = []\n",
    "    S2s = []\n",
    "    \n",
    "    # ========================\n",
    "    # Principal Stress\n",
    "    # ========================\n",
    "    P1s = []\n",
    "\n",
    "    for idx in range(len(LAYERS)):\n",
    "        nodes = LAYERS[idx].GetUniqueNodes(inp_f.nodes)\n",
    "        P1max = np.max(data.loc[nodes.index][\"P1\"])\n",
    "        P1s.append(P1max)\n",
    "\n",
    "    P1s = np.array(P1s)\n",
    "    # ========================\n",
    "    # Force By layers\n",
    "    # ========================\n",
    "    \n",
    "    for idx in range(len(YLs)):\n",
    "        df = data.loc[YLs[idx].id_nodes]\n",
    "        F2 = df[\"F2\"].sum()\n",
    "        F2s.append(F2)\n",
    "        S2 = F2/A[idx]\n",
    "        S2s.append(S2)\n",
    "\n",
    "    S2s = np.array(S2s)\n",
    "    # ========================\n",
    "    # Total Force\n",
    "    # ========================\n",
    "\n",
    "    F2 = data[\"F2\"]\n",
    "    y = data[\"y\"]\n",
    "    ymean = F2.mean()\n",
    "    A_ly1 = Lx*tt[TPF]\n",
    "    F2_tot = F2[y>y.mean()].sum()\n",
    "    sigma_tot = F2_tot.sum()/A_ly1\n",
    "\n",
    "    r = { \n",
    "        \"Sapl_by_layers\" : S2s,\n",
    "        \"Sapl\" : sigma_tot,\n",
    "        \"layers\" : icomp,\n",
    "        \"P1\" : P1s,\n",
    "    }\n",
    "    rr.append(r)\n"
   ]
  },
  {
   "cell_type": "code",
   "execution_count": 42,
   "metadata": {},
   "outputs": [],
   "source": [
    "Sapl_time = [ r[\"Sapl\"] for r in rr ]\n",
    "L1 = [ r[\"Sapl_by_layers\"][0] for r in rr ]\n",
    "L2 = [ r[\"Sapl_by_layers\"][1] for r in rr ]\n",
    "L3 = [ r[\"Sapl_by_layers\"][2] for r in rr ]\n",
    "L4 = [ r[\"Sapl_by_layers\"][3] for r in rr ]\n",
    "L5 = [ r[\"Sapl_by_layers\"][4] for r in rr ]\n",
    "\n",
    "Ls = [ L1, L2, L3, L4, L5 ]"
   ]
  },
  {
   "cell_type": "code",
   "execution_count": 43,
   "metadata": {},
   "outputs": [],
   "source": [
    "L1 = [ r[\"P1\"][0] for r in rr ]\n",
    "L2 = [ r[\"P1\"][1] for r in rr ]\n",
    "L3 = [ r[\"P1\"][2] for r in rr ]\n",
    "L4 = [ r[\"P1\"][3] for r in rr ]\n",
    "L5 = [ r[\"P1\"][4] for r in rr ]\n",
    "\n",
    "P1s = [ L1, L2, L3, L4, L5 ]\n"
   ]
  },
  {
   "cell_type": "code",
   "execution_count": 44,
   "metadata": {},
   "outputs": [
    {
     "data": {
      "text/plain": [
       "0.08"
      ]
     },
     "execution_count": 44,
     "metadata": {},
     "output_type": "execute_result"
    }
   ],
   "source": [
    "epsilon_tensile"
   ]
  },
  {
   "cell_type": "code",
   "execution_count": 45,
   "metadata": {},
   "outputs": [
    {
     "data": {
      "image/png": "[encoded data removed]",
      "text/plain": [
       "<Figure size 640x480 with 1 Axes>"
      ]
     },
     "metadata": {},
     "output_type": "display_data"
    }
   ],
   "source": [
    "\n",
    "colors = [\"r\",\"g\",\"k\"]\n",
    "for i,L in enumerate(Ls):\n",
    "    if i>len(Ls)//2:\n",
    "        break\n",
    "    ly = rr[0][\"layers\"][i]\n",
    "    St_layer = St_layers[ly]\n",
    "    if ly != \"nucleo\":\n",
    "\n",
    "        plt.plot(eps_span,L,'.-',label=r\"$\\sigma_{max}^{\"+ly + \"}$\",\n",
    "                    color=colors[i])\n",
    "        plt.axhline(St_layer,linestyle=\"--\",color=colors[i],label=r\"$\\sigma_{\"+ly+\"}$\")\n",
    "\n",
    "\n",
    "plt.plot(eps_span,Sapl_time,'.-',label=r\"$\\sigma_{apl}$\",color=\"b\")\n",
    "plt.legend()\n",
    "plt.ylabel(r\"$\\sigma_{max}^{i}$ [MPa]\",fontsize=12)\n",
    "plt.xlabel(r\"$\\sigma_{apl}$ [MPa]\")\n",
    "#  Mpa vertical line\n",
    "# plt.axvline(St_TFP[TPF],linestyle=\"--\",color=\"k\")\n",
    "plt.title(\"TFP \"+str(TPF) + \" | Composition: \" + str(icomp))\n",
    "plt.grid()"
   ]
  },
  {
   "cell_type": "code",
   "execution_count": 46,
   "metadata": {},
   "outputs": [
    {
     "data": {
      "text/plain": [
       "<matplotlib.legend.Legend at 0x2857d1d2490>"
      ]
     },
     "execution_count": 46,
     "metadata": {},
     "output_type": "execute_result"
    },
    {
     "data": {
      "image/png": "[encoded data removed]",
      "text/plain": [
       "<Figure size 640x480 with 1 Axes>"
      ]
     },
     "metadata": {},
     "output_type": "display_data"
    }
   ],
   "source": [
    "\n",
    "colors = [\"r\",\"g\",\"k\"]\n",
    "for i,L in enumerate(Ls):\n",
    "    if i>len(Ls)//2:\n",
    "        break\n",
    "    ly = rr[0][\"layers\"][i]\n",
    "    St_layer = St_layers[ly]\n",
    "    if ly != \"nucleo\":\n",
    "\n",
    "        plt.plot(Sapl_time,L,'.-',label=r\"$\\sigma_{max}^{\"+ly + \"}$\",\n",
    "                    color=colors[i])\n",
    "        plt.axhline(St_layer,\n",
    "                    linestyle=\"--\",\n",
    "                    color=colors[i],\n",
    "                    label=r\"$\\sigma_{\"+ly+\"}$ (from analytical model)\")\n",
    "        \n",
    "plt.ylabel(r\"$\\sigma_{max}^{i}$ [MPa]\",fontsize=12)\n",
    "plt.xlabel(r\"$\\sigma_{apl}$ [MPa]\")\n",
    "#  Mpa vertical line\n",
    "plt.axvline(St_TFP[TPF],linestyle=\"--\",\n",
    "            color=\"k\",\n",
    "            label=r\"$\\sigma_{apl}$ (experimental)\")\n",
    "plt.title(\"TFP \"+str(TPF+1) + \" | Composition: \" + str(icomp))\n",
    "plt.grid()\n",
    "# outside\n",
    "plt.legend( bbox_to_anchor=(1.05, 1), \n",
    "           loc='upper left', \n",
    "           borderaxespad=0.)\n"
   ]
  },
  {
   "cell_type": "code",
   "execution_count": null,
   "metadata": {},
   "outputs": [],
   "source": []
  },
  {
   "cell_type": "code",
   "execution_count": null,
   "metadata": {},
   "outputs": [],
   "source": []
  }
 ],
 "metadata": {
  "kernelspec": {
   "display_name": "Python 3",
   "language": "python",
   "name": "python3"
  },
  "language_info": {
   "codemirror_mode": {
    "name": "ipython",
    "version": 3
   },
   "file_extension": ".py",
   "mimetype": "text/x-python",
   "name": "python",
   "nbconvert_exporter": "python",
   "pygments_lexer": "ipython3",
   "version": "3.13.2"
  }
 },
 "nbformat": 4,
 "nbformat_minor": 2
}
