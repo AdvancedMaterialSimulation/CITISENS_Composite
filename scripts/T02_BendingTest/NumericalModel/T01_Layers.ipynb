{
 "cells": [
  {
   "cell_type": "code",
   "execution_count": 1,
   "metadata": {},
   "outputs": [],
   "source": [
    "import gmsh \n",
    "import numpy as np"
   ]
  },
  {
   "cell_type": "code",
   "execution_count": 2,
   "metadata": {},
   "outputs": [],
   "source": [
    "t_n = 3.0\n",
    "t_l = 0.5\n",
    "n_l = 3\n",
    "\n",
    "Lx = 30 # mm\n",
    "Ly = 10 # mm\n",
    "\n",
    "E_n = 1.0 # MPa\n",
    "E_l = [ 1.0, 2.0, 3.0] # MPa\n",
    "\n",
    "\n",
    "t_t = 2*t_l*n_l + t_n\n",
    "\n",
    "# Create a box layers \n",
    "gmsh.initialize()\n",
    "\n",
    "gmsh.model.add(\"compisite_Layers\")\n",
    "# create a fullbox \n",
    "\n",
    "addBox = lambda Lz: gmsh.model.occ.addBox( 0  ,  0  , -Lz/2, \n",
    "                                              Lx ,  Ly , Lz)\n",
    "total_box  = addBox(t_t)\n",
    "gmsh.model.occ.synchronize()\n",
    "\n",
    "\n",
    "# add planes \n",
    "zspan = [2*t_l*i + t_n for i in range(0,n_l,1)] \n",
    "zspan = np.array(zspan)/2\n",
    "zspan = np.concatenate((-zspan, zspan))\n",
    "\n",
    "wires = []\n",
    "for z in zspan:\n",
    "    wireTag = gmsh.model.occ.addRectangle(0, 0, z, Lx, Ly)\n",
    "    wires.append(wireTag)\n",
    "gmsh.model.occ.synchronize()\n",
    "\n",
    "# fragment the box\n",
    "gmsh.model.occ.fragment([(3, total_box)], [(2, wire) for wire in wires])\n",
    "\n",
    "gmsh.model.occ.synchronize()\n"
   ]
  },
  {
   "cell_type": "code",
   "execution_count": 3,
   "metadata": {},
   "outputs": [],
   "source": [
    "volumen = gmsh.model.getEntities(3)\n",
    "# sort by z \n",
    "center_z = np.array([gmsh.model.occ.getCenterOfMass(3, vol[1])[2] for vol in volumen])\n",
    "idx = np.argsort(center_z)\n",
    "volumen = np.array(volumen)[idx]\n",
    "\n",
    "names = [\"Layer_{}\".format(abs(i))\n",
    "         for i in range(-n_l,n_l+1)]\n",
    "sign = [ \"plus\" if i > 0 else \"minus\" for i in range(-n_l,n_l+1)]\n",
    "\n",
    "names = [name + \"_\" + s for name,s in zip(names,sign)]\n",
    "names\n",
    "# the element that cotain layer 0 replace by nucleo\n",
    "names[n_l] = \"nucleo\"\n",
    "\n",
    "# add physical group\n",
    "for name, vol in zip(names, volumen):\n",
    "    gmsh.model.addPhysicalGroup(3, [vol[1]],name= name)\n",
    "\n",
    "# select all surface which center of mass is in the plane x = 0\n",
    "# ============================================================\n",
    "surfaces = gmsh.model.getEntities(2)\n",
    "surfaces = np.array(surfaces)\n",
    "center_x = np.array([gmsh.model.occ.getCenterOfMass(2, surf[1])[0] for surf in surfaces])\n",
    "\n",
    "idx = np.where(center_x == 0)[0]\n",
    "\n",
    "# add physical group\n",
    "gmsh.model.addPhysicalGroup(2, [surf[1] for surf in surfaces[idx]], name = \"symmetry\")\n",
    "\n",
    "# select all egdes which center of mass is in x = Lx and z=0\n",
    "\n",
    "edges = gmsh.model.getEntities(1)\n",
    "edges = np.array(edges)\n",
    "center_x = np.array([gmsh.model.occ.getCenterOfMass(1, edge[1])[0] for edge in edges])\n",
    "center_z = np.array([gmsh.model.occ.getCenterOfMass(1, edge[1])[2] for edge in edges])\n",
    "\n",
    "idx = np.where((center_x == Lx) & (center_z == 0))[0]\n",
    "\n",
    "# add physical group\n",
    "\n",
    "gmsh.model.occ.synchronize()"
   ]
  },
  {
   "cell_type": "code",
   "execution_count": 4,
   "metadata": {},
   "outputs": [],
   "source": [
    "# set size 0.1 of Characteristic Length min\n",
    "gmsh.option.setNumber(\"Mesh.CharacteristicLengthMin\", 0.01)\n",
    "gmsh.option.setNumber(\"Mesh.CharacteristicLengthMax\", 2*t_l)\n",
    "# mesh \n",
    "# near to the symmetry plane, the mesh is finer\n",
    "field = gmsh.model.mesh.field.add(\"Distance\", 1)\n",
    "# x = 0 and z = 0\n",
    "\n",
    "gmsh.model.mesh.field.setAsBackgroundMesh(1)\n",
    "\n",
    "# set the point of the symmetry plane\n",
    "\n",
    "#\n",
    "gmsh.model.mesh.generate(3)\n",
    "# save inp \n",
    "# set order \n",
    "gmsh.model.mesh.setOrder(2)\n",
    "gmsh.write(\"composite_layers.inp\")\n"
   ]
  },
  {
   "cell_type": "code",
   "execution_count": 5,
   "metadata": {},
   "outputs": [],
   "source": [
    "from djccx.inp.inp import inp\n",
    "from Composite.inp.CreateNsetFromElset import CreateNsetFromElset"
   ]
  },
  {
   "cell_type": "code",
   "execution_count": 6,
   "metadata": {},
   "outputs": [
    {
     "ename": "PermissionError",
     "evalue": "[WinError 32] El proceso no tiene acceso al archivo porque está siendo utilizado por otro proceso: 'output\\\\TFP3\\\\sim\\\\err.txt'",
     "output_type": "error",
     "traceback": [
      "\u001b[31m---------------------------------------------------------------------------\u001b[39m",
      "\u001b[31mPermissionError\u001b[39m                           Traceback (most recent call last)",
      "\u001b[36mCell\u001b[39m\u001b[36m \u001b[39m\u001b[32mIn[6]\u001b[39m\u001b[32m, line 58\u001b[39m\n\u001b[32m     56\u001b[39m \u001b[38;5;28;01mif\u001b[39;00m os.path.exists(\u001b[33m\"\u001b[39m\u001b[33moutput\u001b[39m\u001b[33m\"\u001b[39m) == \u001b[38;5;28;01mFalse\u001b[39;00m:\n\u001b[32m     57\u001b[39m     os.mkdir(\u001b[33m\"\u001b[39m\u001b[33moutput\u001b[39m\u001b[33m\"\u001b[39m)\n\u001b[32m---> \u001b[39m\u001b[32m58\u001b[39m \u001b[43minp_f\u001b[49m\u001b[43m.\u001b[49m\u001b[43mrun\u001b[49m\u001b[43m(\u001b[49m\u001b[33;43m\"\u001b[39;49m\u001b[33;43moutput\u001b[39;49m\u001b[33;43m\"\u001b[39;49m\u001b[43m)\u001b[49m\n",
      "\u001b[36mFile \u001b[39m\u001b[32mc:\\Users\\djoroya\\Documents\\GitHub\\CITISENS_Composite_v2\\.conda\\Lib\\site-packages\\djccx\\inp\\inp.py:254\u001b[39m, in \u001b[36minp.run\u001b[39m\u001b[34m(self, output, mkdirforce, opt)\u001b[39m\n\u001b[32m    252\u001b[39m exist = os.path.exists(output)\n\u001b[32m    253\u001b[39m \u001b[38;5;28;01mif\u001b[39;00m exist:\n\u001b[32m--> \u001b[39m\u001b[32m254\u001b[39m     \u001b[43mshutil\u001b[49m\u001b[43m.\u001b[49m\u001b[43mrmtree\u001b[49m\u001b[43m(\u001b[49m\u001b[43moutput\u001b[49m\u001b[43m)\u001b[49m\n\u001b[32m    255\u001b[39m     os.mkdir(output)\n\u001b[32m    256\u001b[39m \u001b[38;5;28;01melse\u001b[39;00m:\n",
      "\u001b[36mFile \u001b[39m\u001b[32mc:\\Users\\djoroya\\Documents\\GitHub\\CITISENS_Composite_v2\\.conda\\Lib\\shutil.py:790\u001b[39m, in \u001b[36mrmtree\u001b[39m\u001b[34m(path, ignore_errors, onerror, onexc, dir_fd)\u001b[39m\n\u001b[32m    788\u001b[39m     \u001b[38;5;66;03m# can't continue even if onexc hook returns\u001b[39;00m\n\u001b[32m    789\u001b[39m     \u001b[38;5;28;01mreturn\u001b[39;00m\n\u001b[32m--> \u001b[39m\u001b[32m790\u001b[39m \u001b[38;5;28;01mreturn\u001b[39;00m \u001b[43m_rmtree_unsafe\u001b[49m\u001b[43m(\u001b[49m\u001b[43mpath\u001b[49m\u001b[43m,\u001b[49m\u001b[43m \u001b[49m\u001b[43monexc\u001b[49m\u001b[43m)\u001b[49m\n",
      "\u001b[36mFile \u001b[39m\u001b[32mc:\\Users\\djoroya\\Documents\\GitHub\\CITISENS_Composite_v2\\.conda\\Lib\\shutil.py:629\u001b[39m, in \u001b[36m_rmtree_unsafe\u001b[39m\u001b[34m(path, onexc)\u001b[39m\n\u001b[32m    627\u001b[39m             \u001b[38;5;28;01mcontinue\u001b[39;00m\n\u001b[32m    628\u001b[39m         \u001b[38;5;28;01mexcept\u001b[39;00m \u001b[38;5;167;01mOSError\u001b[39;00m \u001b[38;5;28;01mas\u001b[39;00m err:\n\u001b[32m--> \u001b[39m\u001b[32m629\u001b[39m             \u001b[43monexc\u001b[49m\u001b[43m(\u001b[49m\u001b[43mos\u001b[49m\u001b[43m.\u001b[49m\u001b[43munlink\u001b[49m\u001b[43m,\u001b[49m\u001b[43m \u001b[49m\u001b[43mfullname\u001b[49m\u001b[43m,\u001b[49m\u001b[43m \u001b[49m\u001b[43merr\u001b[49m\u001b[43m)\u001b[49m\n\u001b[32m    630\u001b[39m \u001b[38;5;28;01mtry\u001b[39;00m:\n\u001b[32m    631\u001b[39m     os.rmdir(path)\n",
      "\u001b[36mFile \u001b[39m\u001b[32mc:\\Users\\djoroya\\Documents\\GitHub\\CITISENS_Composite_v2\\.conda\\Lib\\shutil.py:625\u001b[39m, in \u001b[36m_rmtree_unsafe\u001b[39m\u001b[34m(path, onexc)\u001b[39m\n\u001b[32m    623\u001b[39m fullname = os.path.join(dirpath, name)\n\u001b[32m    624\u001b[39m \u001b[38;5;28;01mtry\u001b[39;00m:\n\u001b[32m--> \u001b[39m\u001b[32m625\u001b[39m     \u001b[43mos\u001b[49m\u001b[43m.\u001b[49m\u001b[43munlink\u001b[49m\u001b[43m(\u001b[49m\u001b[43mfullname\u001b[49m\u001b[43m)\u001b[49m\n\u001b[32m    626\u001b[39m \u001b[38;5;28;01mexcept\u001b[39;00m \u001b[38;5;167;01mFileNotFoundError\u001b[39;00m:\n\u001b[32m    627\u001b[39m     \u001b[38;5;28;01mcontinue\u001b[39;00m\n",
      "\u001b[31mPermissionError\u001b[39m: [WinError 32] El proceso no tiene acceso al archivo porque está siendo utilizado por otro proceso: 'output\\\\TFP3\\\\sim\\\\err.txt'"
     ]
    }
   ],
   "source": [
    "inp_f = inp(\"composite_layers.inp\")\n",
    "\n",
    "elset_symmetry = inp_f.select(\"SYMMETRY\",\"elset\")\n",
    "nset_symmetry = CreateNsetFromElset(inp_f, elset_symmetry, \"nset_symmetry\")\n",
    "\n",
    "# select all nodes that have x=Lx and z=0\n",
    "df_nodes = inp_f.nodes.df\n",
    "eps = 1e-3\n",
    "\n",
    "sel_egdes = lambda x,z: df_nodes[(df_nodes[\"x\"] > x - eps) &\\\n",
    "                                 (df_nodes[\"x\"] < x + eps) &\\\n",
    "                                 (df_nodes[\"z\"] > z - eps) &\\\n",
    "                                 (df_nodes[\"z\"] < z + eps)].index\n",
    "\n",
    "\n",
    "nid = sel_egdes(Lx,-t_t/2)\n",
    "nset_fixed = inp_f.CreateNsetFromIds(nid, \"nset_fixed\")\n",
    "\n",
    "nid = sel_egdes(0,t_t/2)\n",
    "nset_load = inp_f.CreateNsetFromIds(nid, \"nset_load\")\n",
    "\n",
    "\n",
    "#\n",
    "#\n",
    "# remove 1d 2d elements\n",
    "inp_f.remove_by_type(1)\n",
    "inp_f.remove_by_type(2)\n",
    "\n",
    "elset_all = inp_f.CreateElsetAll()\n",
    "\n",
    "# \n",
    "\n",
    "materials = []\n",
    "for i,iEs in enumerate(E_l):\n",
    "    name_mat = \"mat_{}\".format(i+1)\n",
    "    materials.append(inp_f.CreateElasticMaterial(name_mat, iEs, 0.3))\n",
    "\n",
    "mat_nucleo   = inp_f.CreateElasticMaterial(\"mat_nucleo\", E_n, 0.3)\n",
    "elset_nucleo = inp_f.select(\"NUCLEO\",\"elset\")\n",
    "inp_f.CreateSolidSection(elset_nucleo,mat_nucleo)\n",
    "\n",
    "layer_sel = lambda i: inp_f.select_regex(\"LAYER_{}.*\".format(i),\"elset\")\n",
    "for i, iEs in enumerate(E_l):\n",
    "    for ielset in layer_sel(i+1):\n",
    "        inp_f.CreateSolidSection(ielset,materials[i])\n",
    "\n",
    "istep = inp_f.CreateStaticStep()\n",
    "# \n",
    "\n",
    "istep.CreateBoundary(nset_symmetry,1,0.0)\n",
    "istep.CreateBoundary(nset_fixed,3,0.0)\n",
    "istep.CreateBoundary(nset_load,3,-1.0)\n",
    "\n",
    "import os\n",
    "# create output if not exist\n",
    "if os.path.exists(\"output\") == False:\n",
    "    os.mkdir(\"output\")\n",
    "inp_f.run(\"output\")"
   ]
  },
  {
   "cell_type": "code",
   "execution_count": null,
   "metadata": {},
   "outputs": [
    {
     "data": {
      "text/plain": [
       "array([Card (None) :*HEADING, Card (*NODE) :*NODE,\n",
       "       Card (*ELEMENT) :VOLUME1, Card (*ELEMENT) :VOLUME2,\n",
       "       Card (*ELEMENT) :VOLUME3, Card (*ELEMENT) :VOLUME4,\n",
       "       Card (*ELEMENT) :VOLUME5, Card (*ELEMENT) :VOLUME6,\n",
       "       Card (*ELEMENT) :VOLUME7, Card (*ELSET) :SYMMETRY,\n",
       "       Card (*ELSET) :LAYER_3_MINUS, Card (*ELSET) :LAYER_2_MINUS,\n",
       "       Card (*ELSET) :LAYER_1_MINUS, Card (*ELSET) :NUCLEO,\n",
       "       Card (*ELSET) :LAYER_1_PLUS, Card (*ELSET) :LAYER_2_PLUS,\n",
       "       Card (*ELSET) :LAYER_3_PLUS, Card (*NSET) :NSET_SYMMETRY,\n",
       "       Card (*NSET) :NSET_FIXED, Card (*NSET) :NSET_LOAD,\n",
       "       Card (*ELSETOFELSET) :ALL, Card (*MATERIAL) :MAT_1,\n",
       "       Card (*MATERIAL) :MAT_2, Card (*MATERIAL) :MAT_3,\n",
       "       Card (*MATERIAL) :MAT_NUCLEO, Card (*SOLIDSECTION) :SOLID_SECTION,\n",
       "       Card (*SOLIDSECTION) :SOLID_SECTION,\n",
       "       Card (*SOLIDSECTION) :SOLID_SECTION,\n",
       "       Card (*SOLIDSECTION) :SOLID_SECTION,\n",
       "       Card (*SOLIDSECTION) :SOLID_SECTION,\n",
       "       Card (*SOLIDSECTION) :SOLID_SECTION,\n",
       "       Card (*SOLIDSECTION) :SOLID_SECTION, Card (*STEP) :STEP],\n",
       "      dtype=object)"
      ]
     },
     "execution_count": 7,
     "metadata": {},
     "output_type": "execute_result"
    }
   ],
   "source": [
    "inp_f.cards"
   ]
  },
  {
   "cell_type": "code",
   "execution_count": null,
   "metadata": {},
   "outputs": [
    {
     "data": {
      "text/plain": [
       "[Card (*ELSET) :LAYER_3_MINUS, Card (*ELSET) :LAYER_3_PLUS]"
      ]
     },
     "execution_count": 8,
     "metadata": {},
     "output_type": "execute_result"
    }
   ],
   "source": [
    "layer_sel(3)"
   ]
  },
  {
   "cell_type": "code",
   "execution_count": null,
   "metadata": {},
   "outputs": [],
   "source": [
    "t_n = 3.0\n",
    "t_l = 0.5\n",
    "n_l = 3\n",
    "\n",
    "Lx = 30 # mm\n",
    "Ly = 10 # mm\n",
    "\n",
    "E_n = 1.0 # MPa\n",
    "E_l = [ 1.0, 2.0, 3.0] # MPa"
   ]
  }
 ],
 "metadata": {
  "kernelspec": {
   "display_name": "Python 3",
   "language": "python",
   "name": "python3"
  },
  "language_info": {
   "codemirror_mode": {
    "name": "ipython",
    "version": 3
   },
   "file_extension": ".py",
   "mimetype": "text/x-python",
   "name": "python",
   "nbconvert_exporter": "python",
   "pygments_lexer": "ipython3",
   "version": "3.13.2"
  }
 },
 "nbformat": 4,
 "nbformat_minor": 2
}
