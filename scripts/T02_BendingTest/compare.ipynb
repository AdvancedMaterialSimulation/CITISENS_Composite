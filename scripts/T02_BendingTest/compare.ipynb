{
 "cells": [
  {
   "cell_type": "code",
   "execution_count": 34,
   "metadata": {},
   "outputs": [],
   "source": [
    "import glob\n",
    "import pandas as pd"
   ]
  },
  {
   "cell_type": "code",
   "execution_count": 35,
   "metadata": {},
   "outputs": [
    {
     "name": "stdout",
     "output_type": "stream",
     "text": [
      "['AnalyticModel\\\\output.csv', 'NumericalModel\\\\output.csv', 'NumericalModelANIISO\\\\output.csv']\n"
     ]
    }
   ],
   "source": [
    "csvs = glob.glob('*/output.csv')\n",
    "print(csvs)\n",
    "df_results = [ pd.read_csv(csv) for csv in csvs ]\n",
    "df_results = df_results[:2]"
   ]
  },
  {
   "cell_type": "code",
   "execution_count": 36,
   "metadata": {},
   "outputs": [
    {
     "data": {
      "text/html": [
       "<div>\n",
       "<style scoped>\n",
       "    .dataframe tbody tr th:only-of-type {\n",
       "        vertical-align: middle;\n",
       "    }\n",
       "\n",
       "    .dataframe tbody tr th {\n",
       "        vertical-align: top;\n",
       "    }\n",
       "\n",
       "    .dataframe thead th {\n",
       "        text-align: right;\n",
       "    }\n",
       "</style>\n",
       "<table border=\"1\" class=\"dataframe\">\n",
       "  <thead>\n",
       "    <tr style=\"text-align: right;\">\n",
       "      <th></th>\n",
       "      <th>E [GPa]</th>\n",
       "      <th>E pred [GPa]</th>\n",
       "      <th>Name</th>\n",
       "    </tr>\n",
       "  </thead>\n",
       "  <tbody>\n",
       "    <tr>\n",
       "      <th>0</th>\n",
       "      <td>13.201050</td>\n",
       "      <td>13.620581</td>\n",
       "      <td>TFP1-1</td>\n",
       "    </tr>\n",
       "    <tr>\n",
       "      <th>1</th>\n",
       "      <td>9.869501</td>\n",
       "      <td>9.721223</td>\n",
       "      <td>TFP2-1</td>\n",
       "    </tr>\n",
       "    <tr>\n",
       "      <th>2</th>\n",
       "      <td>9.222003</td>\n",
       "      <td>8.711639</td>\n",
       "      <td>TFP3-1</td>\n",
       "    </tr>\n",
       "    <tr>\n",
       "      <th>3</th>\n",
       "      <td>10.181815</td>\n",
       "      <td>8.778776</td>\n",
       "      <td>TFP4-1</td>\n",
       "    </tr>\n",
       "    <tr>\n",
       "      <th>4</th>\n",
       "      <td>6.143105</td>\n",
       "      <td>7.514863</td>\n",
       "      <td>TFP5-1</td>\n",
       "    </tr>\n",
       "    <tr>\n",
       "      <th>5</th>\n",
       "      <td>7.798060</td>\n",
       "      <td>8.068490</td>\n",
       "      <td>TFP6-1</td>\n",
       "    </tr>\n",
       "  </tbody>\n",
       "</table>\n",
       "</div>"
      ],
      "text/plain": [
       "     E [GPa]  E pred [GPa]    Name\n",
       "0  13.201050     13.620581  TFP1-1\n",
       "1   9.869501      9.721223  TFP2-1\n",
       "2   9.222003      8.711639  TFP3-1\n",
       "3  10.181815      8.778776  TFP4-1\n",
       "4   6.143105      7.514863  TFP5-1\n",
       "5   7.798060      8.068490  TFP6-1"
      ]
     },
     "execution_count": 36,
     "metadata": {},
     "output_type": "execute_result"
    }
   ],
   "source": [
    "df_results[0]"
   ]
  },
  {
   "cell_type": "code",
   "execution_count": 37,
   "metadata": {},
   "outputs": [
    {
     "data": {
      "text/html": [
       "<div>\n",
       "<style scoped>\n",
       "    .dataframe tbody tr th:only-of-type {\n",
       "        vertical-align: middle;\n",
       "    }\n",
       "\n",
       "    .dataframe tbody tr th {\n",
       "        vertical-align: top;\n",
       "    }\n",
       "\n",
       "    .dataframe thead th {\n",
       "        text-align: right;\n",
       "    }\n",
       "</style>\n",
       "<table border=\"1\" class=\"dataframe\">\n",
       "  <thead>\n",
       "    <tr style=\"text-align: right;\">\n",
       "      <th></th>\n",
       "      <th>Eb [GPa]</th>\n",
       "      <th>Eb pred [GPa]</th>\n",
       "      <th>Et [GPa]</th>\n",
       "      <th>Et pred [GPa]</th>\n",
       "      <th>Name</th>\n",
       "    </tr>\n",
       "  </thead>\n",
       "  <tbody>\n",
       "    <tr>\n",
       "      <th>0</th>\n",
       "      <td>13.201050</td>\n",
       "      <td>12.094837</td>\n",
       "      <td>2.885509</td>\n",
       "      <td>8.118666</td>\n",
       "      <td>TFP1-1</td>\n",
       "    </tr>\n",
       "    <tr>\n",
       "      <th>1</th>\n",
       "      <td>9.869501</td>\n",
       "      <td>7.261885</td>\n",
       "      <td>2.258503</td>\n",
       "      <td>5.245106</td>\n",
       "      <td>TFP2-1</td>\n",
       "    </tr>\n",
       "    <tr>\n",
       "      <th>2</th>\n",
       "      <td>9.222003</td>\n",
       "      <td>6.438122</td>\n",
       "      <td>2.000437</td>\n",
       "      <td>4.819195</td>\n",
       "      <td>TFP3-1</td>\n",
       "    </tr>\n",
       "    <tr>\n",
       "      <th>3</th>\n",
       "      <td>10.181815</td>\n",
       "      <td>7.454643</td>\n",
       "      <td>2.451362</td>\n",
       "      <td>5.348214</td>\n",
       "      <td>TFP4-1</td>\n",
       "    </tr>\n",
       "    <tr>\n",
       "      <th>4</th>\n",
       "      <td>6.143105</td>\n",
       "      <td>5.660030</td>\n",
       "      <td>1.626582</td>\n",
       "      <td>4.964183</td>\n",
       "      <td>TFP5-1</td>\n",
       "    </tr>\n",
       "    <tr>\n",
       "      <th>5</th>\n",
       "      <td>7.798060</td>\n",
       "      <td>6.118602</td>\n",
       "      <td>1.739870</td>\n",
       "      <td>5.325541</td>\n",
       "      <td>TFP6-1</td>\n",
       "    </tr>\n",
       "  </tbody>\n",
       "</table>\n",
       "</div>"
      ],
      "text/plain": [
       "    Eb [GPa]  Eb pred [GPa]  Et [GPa]  Et pred [GPa]    Name\n",
       "0  13.201050      12.094837  2.885509       8.118666  TFP1-1\n",
       "1   9.869501       7.261885  2.258503       5.245106  TFP2-1\n",
       "2   9.222003       6.438122  2.000437       4.819195  TFP3-1\n",
       "3  10.181815       7.454643  2.451362       5.348214  TFP4-1\n",
       "4   6.143105       5.660030  1.626582       4.964183  TFP5-1\n",
       "5   7.798060       6.118602  1.739870       5.325541  TFP6-1"
      ]
     },
     "execution_count": 37,
     "metadata": {},
     "output_type": "execute_result"
    }
   ],
   "source": [
    "df_results[1]"
   ]
  },
  {
   "cell_type": "code",
   "execution_count": 38,
   "metadata": {},
   "outputs": [
    {
     "data": {
      "text/html": [
       "<div>\n",
       "<style scoped>\n",
       "    .dataframe tbody tr th:only-of-type {\n",
       "        vertical-align: middle;\n",
       "    }\n",
       "\n",
       "    .dataframe tbody tr th {\n",
       "        vertical-align: top;\n",
       "    }\n",
       "\n",
       "    .dataframe thead th {\n",
       "        text-align: right;\n",
       "    }\n",
       "</style>\n",
       "<table border=\"1\" class=\"dataframe\">\n",
       "  <thead>\n",
       "    <tr style=\"text-align: right;\">\n",
       "      <th></th>\n",
       "      <th>Name</th>\n",
       "      <th>E [GPa]</th>\n",
       "      <th>E pred Analytic [GPa]</th>\n",
       "      <th>E pred Numeric [GPa]</th>\n",
       "    </tr>\n",
       "  </thead>\n",
       "  <tbody>\n",
       "    <tr>\n",
       "      <th>0</th>\n",
       "      <td>TFP1-1</td>\n",
       "      <td>13.201050</td>\n",
       "      <td>13.620581</td>\n",
       "      <td>12.094837</td>\n",
       "    </tr>\n",
       "    <tr>\n",
       "      <th>1</th>\n",
       "      <td>TFP2-1</td>\n",
       "      <td>9.869501</td>\n",
       "      <td>9.721223</td>\n",
       "      <td>7.261885</td>\n",
       "    </tr>\n",
       "    <tr>\n",
       "      <th>2</th>\n",
       "      <td>TFP3-1</td>\n",
       "      <td>9.222003</td>\n",
       "      <td>8.711639</td>\n",
       "      <td>6.438122</td>\n",
       "    </tr>\n",
       "    <tr>\n",
       "      <th>3</th>\n",
       "      <td>TFP4-1</td>\n",
       "      <td>10.181815</td>\n",
       "      <td>8.778776</td>\n",
       "      <td>7.454643</td>\n",
       "    </tr>\n",
       "    <tr>\n",
       "      <th>4</th>\n",
       "      <td>TFP5-1</td>\n",
       "      <td>6.143105</td>\n",
       "      <td>7.514863</td>\n",
       "      <td>5.660030</td>\n",
       "    </tr>\n",
       "    <tr>\n",
       "      <th>5</th>\n",
       "      <td>TFP6-1</td>\n",
       "      <td>7.798060</td>\n",
       "      <td>8.068490</td>\n",
       "      <td>6.118602</td>\n",
       "    </tr>\n",
       "  </tbody>\n",
       "</table>\n",
       "</div>"
      ],
      "text/plain": [
       "     Name    E [GPa]  E pred Analytic [GPa]  E pred Numeric [GPa]\n",
       "0  TFP1-1  13.201050              13.620581             12.094837\n",
       "1  TFP2-1   9.869501               9.721223              7.261885\n",
       "2  TFP3-1   9.222003               8.711639              6.438122\n",
       "3  TFP4-1  10.181815               8.778776              7.454643\n",
       "4  TFP5-1   6.143105               7.514863              5.660030\n",
       "5  TFP6-1   7.798060               8.068490              6.118602"
      ]
     },
     "execution_count": 38,
     "metadata": {},
     "output_type": "execute_result"
    }
   ],
   "source": [
    "df_r = pd.DataFrame({\n",
    "    \"Name\" : df_results[0][\"Name\"],\n",
    "    \"E [GPa]\" : df_results[0][\"E [GPa]\"],\n",
    "    \"E pred Analytic [GPa]\" : df_results[0][\"E pred [GPa]\"],\n",
    "    \"E pred Numeric [GPa]\" : df_results[1][\"Eb pred [GPa]\"],\n",
    "})\n",
    "\n",
    "df_r"
   ]
  },
  {
   "cell_type": "code",
   "execution_count": 39,
   "metadata": {},
   "outputs": [
    {
     "data": {
      "text/plain": [
       "0    1.126148\n",
       "1    1.338664\n",
       "2    1.353134\n",
       "3    1.177625\n",
       "4    1.327707\n",
       "5    1.318682\n",
       "dtype: float64"
      ]
     },
     "execution_count": 39,
     "metadata": {},
     "output_type": "execute_result"
    }
   ],
   "source": [
    "df_r[\"E pred Analytic [GPa]\"]/df_r[\"E pred Numeric [GPa]\"]"
   ]
  },
  {
   "cell_type": "code",
   "execution_count": 40,
   "metadata": {},
   "outputs": [
    {
     "data": {
      "text/plain": [
       "Text(0, 0.5, '$E_{flexión} [GPa]$')"
      ]
     },
     "execution_count": 40,
     "metadata": {},
     "output_type": "execute_result"
    },
    {
     "data": {
      "image/png": "[encoded data removed]",
      "text/plain": [
       "<Figure size 640x480 with 1 Axes>"
      ]
     },
     "metadata": {},
     "output_type": "display_data"
    }
   ],
   "source": [
    "# bar plot of the results\n",
    "\n",
    "import matplotlib.pyplot as plt\n",
    "\n",
    "df_r.plot(x=\"Name\", y=[\"E [GPa]\", \n",
    "                       \"E pred Analytic [GPa]\", \n",
    "                       \"E pred Numeric [GPa]\"], kind=\"bar\")\n",
    "plt.legend([r\"$E_{flexión} [GPa]$ Experimental\",\n",
    "            r\"$E_{flexión} [GPa]$ Simplificado\",\n",
    "            r\"$E_{flexión} [GPa]$ FEM \"])\n",
    "plt.grid( )\n",
    "xticks = [ i for i in range(len(df_r[\"Name\"])) ]\n",
    "xtickslabels = [ f\"{name[:-2]}\" for name in df_r[\"Name\"] ]\n",
    "plt.xticks(xticks, xtickslabels,rotation=45)\n",
    "plt.ylabel(r\"$E_{flexión} [GPa]$\")"
   ]
  },
  {
   "cell_type": "code",
   "execution_count": 41,
   "metadata": {},
   "outputs": [
    {
     "data": {
      "image/png": "[encoded data removed]",
      "text/plain": [
       "<Figure size 500x350 with 1 Axes>"
      ]
     },
     "metadata": {},
     "output_type": "display_data"
    }
   ],
   "source": [
    "fig = plt.figure()\n",
    "fig.set_size_inches(5,3.5)\n",
    "plt.plot(df_r[\"E pred Analytic [GPa]\"],\n",
    "         df_r[\"E pred Numeric [GPa]\"],'o')\n",
    "plt.plot([5,15],[5,15],'r--')\n",
    "plt.xlabel(r\"$E_{flexión} \\  [GPa]$ Analítico\")\n",
    "plt.ylabel(r\"$E_{flexión} \\  [GPa]$ Numérico\")\n",
    "# text name \n",
    "names = [ \"1\", \"2\", \"3\", \"4\", \"5\", \"6\"]\n",
    "for i in range(len(df_r)):\n",
    "    plt.text(df_r[\"E pred Analytic [GPa]\"][i],\n",
    "             df_r[\"E pred Numeric [GPa]\"][i],\n",
    "                names[i],   \n",
    "                fontsize=8)\n",
    "plt.grid()"
   ]
  },
  {
   "cell_type": "code",
   "execution_count": 42,
   "metadata": {},
   "outputs": [
    {
     "ename": "AttributeError",
     "evalue": "module 'matplotlib.pyplot' has no attribute 'x'",
     "output_type": "error",
     "traceback": [
      "\u001b[31m---------------------------------------------------------------------------\u001b[39m",
      "\u001b[31mAttributeError\u001b[39m                            Traceback (most recent call last)",
      "\u001b[36mCell\u001b[39m\u001b[36m \u001b[39m\u001b[32mIn[42]\u001b[39m\u001b[32m, line 10\u001b[39m\n\u001b[32m      7\u001b[39m df_r.plot(x=\u001b[33m\"\u001b[39m\u001b[33mName\u001b[39m\u001b[33m\"\u001b[39m, y=\u001b[33m\"\u001b[39m\u001b[33mError Analytic vs Numeric [\u001b[39m\u001b[33m%\u001b[39m\u001b[33m]\u001b[39m\u001b[33m\"\u001b[39m, kind=\u001b[33m\"\u001b[39m\u001b[33mbar\u001b[39m\u001b[33m\"\u001b[39m)\n\u001b[32m      9\u001b[39m \u001b[38;5;66;03m# label \u001b[39;00m\n\u001b[32m---> \u001b[39m\u001b[32m10\u001b[39m \u001b[43mplt\u001b[49m\u001b[43m.\u001b[49m\u001b[43mx\u001b[49m(names)\n",
      "\u001b[31mAttributeError\u001b[39m: module 'matplotlib.pyplot' has no attribute 'x'"
     ]
    },
    {
     "data": {
      "image/png": "[encoded data removed]",
      "text/plain": [
       "<Figure size 640x480 with 1 Axes>"
      ]
     },
     "metadata": {},
     "output_type": "display_data"
    }
   ],
   "source": [
    "# error relative Analytic vs Numeric\n",
    "\n",
    "df_r[\"Error Analytic vs Numeric [%]\"] = 100 * abs(df_r[\"E pred Numeric [GPa]\"] - df_r[\"E pred Analytic [GPa]\"]) / df_r[\"E pred Numeric [GPa]\"]\n",
    "df_r[\"Error Analytic [%]\"] = 100 * abs(df_r[\"E [GPa]\"] - df_r[\"E pred Analytic [GPa]\"]) / df_r[\"E [GPa]\"]\n",
    "df_r[\"Error Numeric [%]\"] = 100 * abs(df_r[\"E [GPa]\"] - df_r[\"E pred Numeric [GPa]\"]) / df_r[\"E [GPa]\"]\n",
    "# error plot \n",
    "df_r.plot(x=\"Name\", y=\"Error Analytic vs Numeric [%]\", kind=\"bar\")\n",
    "\n",
    "# label \n",
    "plt.x(names)"
   ]
  },
  {
   "cell_type": "code",
   "execution_count": null,
   "metadata": {},
   "outputs": [
    {
     "data": {
      "text/plain": [
       "<matplotlib.legend.Legend at 0x26d04a92010>"
      ]
     },
     "execution_count": 8,
     "metadata": {},
     "output_type": "execute_result"
    },
    {
     "data": {
      "image/png": "[encoded data removed]",
      "text/plain": [
       "<Figure size 640x480 with 1 Axes>"
      ]
     },
     "metadata": {},
     "output_type": "display_data"
    }
   ],
   "source": [
    "df_r.plot(x=\"Name\", y=[\"Error Analytic [%]\", \"Error Numeric [%]\"], kind=\"bar\")\n",
    "# 5 % horizontal line\n",
    "plt.hlines(5, -1, 10, colors='r', linestyles='dashed',label=\"5% error\")\n",
    "plt.legend()"
   ]
  }
 ],
 "metadata": {
  "kernelspec": {
   "display_name": "Python 3",
   "language": "python",
   "name": "python3"
  },
  "language_info": {
   "codemirror_mode": {
    "name": "ipython",
    "version": 3
   },
   "file_extension": ".py",
   "mimetype": "text/x-python",
   "name": "python",
   "nbconvert_exporter": "python",
   "pygments_lexer": "ipython3",
   "version": "3.13.2"
  }
 },
 "nbformat": 4,
 "nbformat_minor": 2
}
