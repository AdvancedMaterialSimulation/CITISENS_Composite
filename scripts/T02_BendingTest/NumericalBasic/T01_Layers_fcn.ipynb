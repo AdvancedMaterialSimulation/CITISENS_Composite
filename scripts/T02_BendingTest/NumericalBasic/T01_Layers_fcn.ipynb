{
 "cells": [
  {
   "cell_type": "code",
   "execution_count": 67,
   "metadata": {},
   "outputs": [],
   "source": [
    "from Bending.FullBending import FullBending\n",
    "import numpy as np\n",
    "import pandas as pd"
   ]
  },
  {
   "cell_type": "markdown",
   "metadata": {},
   "source": []
  },
  {
   "cell_type": "code",
   "execution_count": 68,
   "metadata": {},
   "outputs": [],
   "source": [
    "# E [GPa]\n",
    "# nucleo\t4.22\n",
    "# X\t26.95\n",
    "# SX\t13.57\n",
    "# Y\t97.86\n",
    "# SY\t4.22\n",
    "\n",
    "df_layers = pd.DataFrame({ 'E': [4.01,\n",
    "                                 6.02, \n",
    "                                 4.01, \n",
    "                                 14.13, \n",
    "                                 4.01]}, index=['nucleo', 'X', 'SX', 'Y', 'SY'])"
   ]
  },
  {
   "cell_type": "code",
   "execution_count": 69,
   "metadata": {},
   "outputs": [
    {
     "data": {
      "text/html": [
       "<div>\n",
       "<style scoped>\n",
       "    .dataframe tbody tr th:only-of-type {\n",
       "        vertical-align: middle;\n",
       "    }\n",
       "\n",
       "    .dataframe tbody tr th {\n",
       "        vertical-align: top;\n",
       "    }\n",
       "\n",
       "    .dataframe thead th {\n",
       "        text-align: right;\n",
       "    }\n",
       "</style>\n",
       "<table border=\"1\" class=\"dataframe\">\n",
       "  <thead>\n",
       "    <tr style=\"text-align: right;\">\n",
       "      <th></th>\n",
       "      <th>E</th>\n",
       "    </tr>\n",
       "  </thead>\n",
       "  <tbody>\n",
       "    <tr>\n",
       "      <th>nucleo</th>\n",
       "      <td>4.01</td>\n",
       "    </tr>\n",
       "    <tr>\n",
       "      <th>X</th>\n",
       "      <td>6.02</td>\n",
       "    </tr>\n",
       "    <tr>\n",
       "      <th>SX</th>\n",
       "      <td>4.01</td>\n",
       "    </tr>\n",
       "    <tr>\n",
       "      <th>Y</th>\n",
       "      <td>14.13</td>\n",
       "    </tr>\n",
       "    <tr>\n",
       "      <th>SY</th>\n",
       "      <td>4.01</td>\n",
       "    </tr>\n",
       "  </tbody>\n",
       "</table>\n",
       "</div>"
      ],
      "text/plain": [
       "            E\n",
       "nucleo   4.01\n",
       "X        6.02\n",
       "SX       4.01\n",
       "Y       14.13\n",
       "SY       4.01"
      ]
     },
     "execution_count": 69,
     "metadata": {},
     "output_type": "execute_result"
    }
   ],
   "source": [
    "df_layers"
   ]
  },
  {
   "cell_type": "code",
   "execution_count": 70,
   "metadata": {},
   "outputs": [],
   "source": [
    "composition = [\n",
    "        [\"Y\", \"Y\"],\n",
    "        [\"Y\", \"X\"],\n",
    "        [\"Y\", \"SX\"],\n",
    "        [\"Y\", \"SY\"],\n",
    "        [\"Y\",\"SX\",\"SY\"],\n",
    "        [\"Y\",\"X\", \"SY\"]\n",
    "    ]\n"
   ]
  },
  {
   "cell_type": "code",
   "execution_count": 71,
   "metadata": {},
   "outputs": [],
   "source": [
    "from validation.BendingExperimental import BendingExperimental\n",
    "\n",
    "r = BendingExperimental()\n",
    "\n",
    "df_stats = r[\"df_stats\"]\n"
   ]
  },
  {
   "cell_type": "code",
   "execution_count": 72,
   "metadata": {},
   "outputs": [
    {
     "data": {
      "text/html": [
       "<div>\n",
       "<style scoped>\n",
       "    .dataframe tbody tr th:only-of-type {\n",
       "        vertical-align: middle;\n",
       "    }\n",
       "\n",
       "    .dataframe tbody tr th {\n",
       "        vertical-align: top;\n",
       "    }\n",
       "\n",
       "    .dataframe thead th {\n",
       "        text-align: right;\n",
       "    }\n",
       "</style>\n",
       "<table border=\"1\" class=\"dataframe\">\n",
       "  <thead>\n",
       "    <tr style=\"text-align: right;\">\n",
       "      <th></th>\n",
       "      <th>mean</th>\n",
       "      <th>std</th>\n",
       "    </tr>\n",
       "    <tr>\n",
       "      <th>Name</th>\n",
       "      <th></th>\n",
       "      <th></th>\n",
       "    </tr>\n",
       "  </thead>\n",
       "  <tbody>\n",
       "    <tr>\n",
       "      <th>TFP1</th>\n",
       "      <td>13.201050</td>\n",
       "      <td>0.630858</td>\n",
       "    </tr>\n",
       "    <tr>\n",
       "      <th>TFP2</th>\n",
       "      <td>9.869501</td>\n",
       "      <td>0.780113</td>\n",
       "    </tr>\n",
       "    <tr>\n",
       "      <th>TFP3</th>\n",
       "      <td>9.222003</td>\n",
       "      <td>0.495965</td>\n",
       "    </tr>\n",
       "    <tr>\n",
       "      <th>TFP4</th>\n",
       "      <td>10.181815</td>\n",
       "      <td>0.770635</td>\n",
       "    </tr>\n",
       "    <tr>\n",
       "      <th>TFP5</th>\n",
       "      <td>6.143105</td>\n",
       "      <td>0.161637</td>\n",
       "    </tr>\n",
       "    <tr>\n",
       "      <th>TFP6</th>\n",
       "      <td>7.798060</td>\n",
       "      <td>0.334186</td>\n",
       "    </tr>\n",
       "  </tbody>\n",
       "</table>\n",
       "</div>"
      ],
      "text/plain": [
       "           mean       std\n",
       "Name                     \n",
       "TFP1  13.201050  0.630858\n",
       "TFP2   9.869501  0.780113\n",
       "TFP3   9.222003  0.495965\n",
       "TFP4  10.181815  0.770635\n",
       "TFP5   6.143105  0.161637\n",
       "TFP6   7.798060  0.334186"
      ]
     },
     "execution_count": 72,
     "metadata": {},
     "output_type": "execute_result"
    }
   ],
   "source": [
    "df_stats[\"Modulo flexion (GPa)\"]"
   ]
  },
  {
   "cell_type": "code",
   "execution_count": 73,
   "metadata": {},
   "outputs": [
    {
     "name": "stdout",
     "output_type": "stream",
     "text": [
      "{'geo': {'t_n': 2.51, 't_l': 0.5, 'Lx': 30}, 'sim': {'disp': 0.5}}\n",
      "Running Calculix at:  output\\sim\n",
      "Output file:  c:\\Users\\djoroya\\Documents\\GitHub\\CITISENS_Composite\\scripts\\T02_BendingTest\\NumericalBasic\\output\\sim\\out.txt\n",
      "Command:\n",
      " mpiexec -n 4 c:\\Users\\djoroya\\Documents\\GitHub\\CITISENS_Composite\\.conda\\Lib\\site-packages\\djccx\\bin\\ccx_dynamic.exe main\n",
      "Error reading cvf file\n",
      "\n",
      "pid:  13752 \n",
      "\n",
      "Calculix finished\n",
      "\n"
     ]
    }
   ],
   "source": [
    "\n",
    "import os \n",
    "from copy import deepcopy\n",
    "join = os.path.join\n",
    "\n",
    "E_pred = []\n",
    "\n",
    "if not os.path.exists(\"output\"):\n",
    "    os.mkdir(\"output\")\n",
    "\n",
    "params = {\n",
    "            \"geo\" : {\n",
    "                        \"t_n\" : 2.51,\n",
    "                        \"t_l\" : 0.5,\n",
    "                        \"Lx\"  : 30,\n",
    "                    },\n",
    "            \"sim\" : {\n",
    "                        \"disp\" : 0.5,\n",
    "                    },\n",
    "        }\n",
    "\n",
    "\n",
    "all_params = []\n",
    "\n",
    "id_design = 0\n",
    "E_n =   df_layers.loc[\"nucleo\"].values[-1]*1e3\n",
    "\n",
    "lyrs = df_stats[\"layers\"].iloc[id_design]\n",
    "\n",
    "E_l = df_layers.loc[lyrs][\"E\"].values*1e3 # MPa\n",
    "name_mat = df_stats[\"layers\"].iloc[id_design]\n",
    "name = df_stats.index[id_design]\n",
    "B    = df_stats[\"Ancho flexion (mm)\"][\"mean\"].iloc[id_design]\n",
    "\n",
    "params_loop = deepcopy(params)\n",
    "\n",
    "B = 25\n",
    "params_loop[\"geo\"][\"Ly\"] = B\n",
    "params_loop[\"sim\"][\"E_n\"] = E_n\n",
    "params_loop[\"sim\"][\"E_l\"] = E_l\n",
    "params_loop[\"sim\"][\"name_mat\"] = name_mat\n",
    "params_loop[\"output_folder\"] = join(\"output\")\n",
    "\n",
    "print(params)\n",
    "inp_f = FullBending(params_loop)\n",
    "Eflex = params_loop[\"Eflex\"]\n"
   ]
  },
  {
   "cell_type": "code",
   "execution_count": 74,
   "metadata": {},
   "outputs": [],
   "source": [
    "def E_flexion_an(E_n,E_l,t_n,t_l):\n",
    "\n",
    "    t_t = t_n + 2*t_l\n",
    "\n",
    "    yG = t_n*0.5 + t_l*0.5\n",
    "\n",
    "    I_tot = (1/12)*t_t**3\n",
    "    \n",
    "    I_l   = (1/12)*t_l**3 + t_l*yG**2\n",
    "\n",
    "    I_n   = (1/12)*t_n**3 \n",
    "\n",
    "\n",
    "    Eflex = (E_n*I_n + 2*E_l*I_l)/(I_tot)\n",
    "\n",
    "    return Eflex*1e-3 # GPa"
   ]
  },
  {
   "cell_type": "code",
   "execution_count": 75,
   "metadata": {},
   "outputs": [],
   "source": [
    "t_n = params_loop[\"geo\"][\"t_n\"]\n",
    "t_l = params_loop[\"geo\"][\"t_l\"]\n",
    "\n",
    "Eflex_pred = E_flexion_an(E_n,\n",
    "                          E_l[0],\n",
    "                          t_n,\n",
    "                          t_l)"
   ]
  },
  {
   "cell_type": "code",
   "execution_count": 76,
   "metadata": {},
   "outputs": [
    {
     "name": "stdout",
     "output_type": "stream",
     "text": [
      "Analitico:  10.429330271928873\n",
      "Simulado:  10.851424147848933\n"
     ]
    }
   ],
   "source": [
    "Eflex_pred - params_loop[\"Eflex\"]\n",
    "\n",
    "print(\"Analitico: \", Eflex_pred)\n",
    "print(\"Simulado: \", Eflex)\n"
   ]
  },
  {
   "cell_type": "code",
   "execution_count": null,
   "metadata": {},
   "outputs": [],
   "source": []
  },
  {
   "cell_type": "code",
   "execution_count": null,
   "metadata": {},
   "outputs": [],
   "source": []
  }
 ],
 "metadata": {
  "kernelspec": {
   "display_name": ".conda",
   "language": "python",
   "name": "python3"
  },
  "language_info": {
   "codemirror_mode": {
    "name": "ipython",
    "version": 3
   },
   "file_extension": ".py",
   "mimetype": "text/x-python",
   "name": "python",
   "nbconvert_exporter": "python",
   "pygments_lexer": "ipython3",
   "version": "3.11.10"
  }
 },
 "nbformat": 4,
 "nbformat_minor": 2
}
