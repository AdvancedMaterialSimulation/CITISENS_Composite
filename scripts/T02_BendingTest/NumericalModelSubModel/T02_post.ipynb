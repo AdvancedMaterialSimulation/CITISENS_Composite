{
 "cells": [
  {
   "cell_type": "code",
   "execution_count": 3,
   "metadata": {},
   "outputs": [],
   "source": [
    "import glob\n",
    "import numpy as np"
   ]
  },
  {
   "cell_type": "code",
   "execution_count": 4,
   "metadata": {},
   "outputs": [],
   "source": [
    "frds = glob.glob('output/ccx/*/*.frd')\n",
    "dats = glob.glob('output/ccx/*/*.dat')"
   ]
  },
  {
   "cell_type": "code",
   "execution_count": 5,
   "metadata": {},
   "outputs": [],
   "source": [
    "dats = dats[1:]\n",
    "frds = frds[1:]"
   ]
  },
  {
   "cell_type": "code",
   "execution_count": 6,
   "metadata": {},
   "outputs": [],
   "source": [
    "from djccx.read_dat import read_dat\n",
    "from djccx.frd.readfrd import readfrd"
   ]
  },
  {
   "cell_type": "code",
   "execution_count": 7,
   "metadata": {},
   "outputs": [],
   "source": [
    "params_composite ={\n",
    "    \"r\"         :  0.297,\n",
    "    \"factor_radius\": 2,\n",
    "    \"h\"         :  0.35,\n",
    "    \"z0\"        :  3.073/2,\n",
    "    \"density\"   : 8,\n",
    "    \"interface_factor\"  :  1.2,\n",
    "    \"with_interface\"    : False,\n",
    "    \"mirror\"            : True,\n",
    "    \"check_jacobian\"    : False,\n",
    "}\n",
    "\n",
    "params_ccx = {\n",
    "    \"epsilon\" : 0.1,\n",
    "    \"x_fixed\" : True\n",
    "}\n",
    "params = {\n",
    "    \"mesh\" : params_composite,\n",
    "    \"ccx\"  : params_ccx,\n",
    "}"
   ]
  },
  {
   "cell_type": "code",
   "execution_count": 8,
   "metadata": {},
   "outputs": [],
   "source": [
    "ni = [1,2,2,2,3,3]"
   ]
  },
  {
   "cell_type": "code",
   "execution_count": 9,
   "metadata": {},
   "outputs": [],
   "source": [
    "\n",
    "\n",
    "def compute_E_eff(iffiles,ni):\n",
    "\n",
    "    ancho = params_composite[\"z0\"]*0.5 + ni*params_composite[\"h\"]\n",
    "    largo = 10 \n",
    "    A = ancho*largo\n",
    "    ifrd = readfrd(iffiles)\n",
    "    df = ifrd[\"data\"]\n",
    "    Sapl = np.sum(df[\"F2\"]*(df[\"y\"] > df[\"y\"].mean()))/A\n",
    "\n",
    "    E_eff = Sapl / params[\"ccx\"][\"epsilon\"]\n",
    "    return E_eff\n",
    "\n",
    "E_effs = [compute_E_eff(f,ini) for f,ini in zip(frds,ni)]\n",
    "#E_effs = [compute_E_eff(f,ini) for f,ini in zip(frds[0:1],ni[0:1])]\n"
   ]
  },
  {
   "cell_type": "code",
   "execution_count": 10,
   "metadata": {},
   "outputs": [
    {
     "data": {
      "text/plain": [
       "['output/ccx\\\\Adouble\\\\main.frd',\n",
       " 'output/ccx\\\\B\\\\main.frd',\n",
       " 'output/ccx\\\\C\\\\main.frd',\n",
       " 'output/ccx\\\\D\\\\main.frd',\n",
       " 'output/ccx\\\\E\\\\main.frd',\n",
       " 'output/ccx\\\\F\\\\main.frd']"
      ]
     },
     "execution_count": 10,
     "metadata": {},
     "output_type": "execute_result"
    }
   ],
   "source": [
    "frds"
   ]
  },
  {
   "cell_type": "code",
   "execution_count": 11,
   "metadata": {},
   "outputs": [
    {
     "data": {
      "text/plain": [
       "[np.float64(3109.1694460941185),\n",
       " np.float64(2365.1820797087557),\n",
       " np.float64(2330.616533976035),\n",
       " np.float64(2330.596330203067),\n",
       " np.float64(2436.2663212705465),\n",
       " np.float64(2464.8159572821314)]"
      ]
     },
     "execution_count": 11,
     "metadata": {},
     "output_type": "execute_result"
    }
   ],
   "source": [
    "E_effs"
   ]
  },
  {
   "cell_type": "code",
   "execution_count": 12,
   "metadata": {},
   "outputs": [],
   "source": [
    "from validation.FullExperimental import FullExperimental\n",
    "import numpy as np\n",
    "import pandas as pd\n",
    "from matplotlib import pyplot as plt"
   ]
  },
  {
   "cell_type": "code",
   "execution_count": 13,
   "metadata": {},
   "outputs": [
    {
     "data": {
      "text/html": [
       "<div>\n",
       "<style scoped>\n",
       "    .dataframe tbody tr th:only-of-type {\n",
       "        vertical-align: middle;\n",
       "    }\n",
       "\n",
       "    .dataframe tbody tr th {\n",
       "        vertical-align: top;\n",
       "    }\n",
       "\n",
       "    .dataframe thead tr th {\n",
       "        text-align: left;\n",
       "    }\n",
       "\n",
       "    .dataframe thead tr:last-of-type th {\n",
       "        text-align: right;\n",
       "    }\n",
       "</style>\n",
       "<table border=\"1\" class=\"dataframe\">\n",
       "  <thead>\n",
       "    <tr>\n",
       "      <th></th>\n",
       "      <th colspan=\"2\" halign=\"left\">Et [GPa]</th>\n",
       "      <th colspan=\"2\" halign=\"left\">Eb [GPa]</th>\n",
       "      <th colspan=\"2\" halign=\"left\">t [mm]</th>\n",
       "      <th colspan=\"2\" halign=\"left\">b [mm]</th>\n",
       "      <th>layers</th>\n",
       "      <th>Vc</th>\n",
       "    </tr>\n",
       "    <tr>\n",
       "      <th></th>\n",
       "      <th>mean</th>\n",
       "      <th>std</th>\n",
       "      <th>mean</th>\n",
       "      <th>std</th>\n",
       "      <th>mean</th>\n",
       "      <th>std</th>\n",
       "      <th>mean</th>\n",
       "      <th>std</th>\n",
       "      <th></th>\n",
       "      <th></th>\n",
       "    </tr>\n",
       "    <tr>\n",
       "      <th>Name</th>\n",
       "      <th></th>\n",
       "      <th></th>\n",
       "      <th></th>\n",
       "      <th></th>\n",
       "      <th></th>\n",
       "      <th></th>\n",
       "      <th></th>\n",
       "      <th></th>\n",
       "      <th></th>\n",
       "      <th></th>\n",
       "    </tr>\n",
       "  </thead>\n",
       "  <tbody>\n",
       "    <tr>\n",
       "      <th>TFP1</th>\n",
       "      <td>2.886</td>\n",
       "      <td>0.227</td>\n",
       "      <td>13.201</td>\n",
       "      <td>0.631</td>\n",
       "      <td>5.267</td>\n",
       "      <td>0.058</td>\n",
       "      <td>25.600</td>\n",
       "      <td>0.100</td>\n",
       "      <td>[Y]</td>\n",
       "      <td>0.178</td>\n",
       "    </tr>\n",
       "    <tr>\n",
       "      <th>TFP2</th>\n",
       "      <td>2.259</td>\n",
       "      <td>0.066</td>\n",
       "      <td>9.870</td>\n",
       "      <td>0.780</td>\n",
       "      <td>4.700</td>\n",
       "      <td>0.000</td>\n",
       "      <td>25.567</td>\n",
       "      <td>0.058</td>\n",
       "      <td>[Y, X]</td>\n",
       "      <td>0.164</td>\n",
       "    </tr>\n",
       "    <tr>\n",
       "      <th>TFP3</th>\n",
       "      <td>2.000</td>\n",
       "      <td>0.004</td>\n",
       "      <td>9.222</td>\n",
       "      <td>0.496</td>\n",
       "      <td>4.833</td>\n",
       "      <td>0.058</td>\n",
       "      <td>25.400</td>\n",
       "      <td>0.173</td>\n",
       "      <td>[Y, SX]</td>\n",
       "      <td>0.135</td>\n",
       "    </tr>\n",
       "    <tr>\n",
       "      <th>TFP4</th>\n",
       "      <td>2.451</td>\n",
       "      <td>0.114</td>\n",
       "      <td>10.182</td>\n",
       "      <td>0.771</td>\n",
       "      <td>4.700</td>\n",
       "      <td>0.000</td>\n",
       "      <td>25.667</td>\n",
       "      <td>0.153</td>\n",
       "      <td>[Y, SY]</td>\n",
       "      <td>0.144</td>\n",
       "    </tr>\n",
       "    <tr>\n",
       "      <th>TFP5</th>\n",
       "      <td>1.627</td>\n",
       "      <td>0.120</td>\n",
       "      <td>6.143</td>\n",
       "      <td>0.162</td>\n",
       "      <td>5.700</td>\n",
       "      <td>0.000</td>\n",
       "      <td>25.167</td>\n",
       "      <td>0.153</td>\n",
       "      <td>[Y, SX, SY]</td>\n",
       "      <td>0.146</td>\n",
       "    </tr>\n",
       "    <tr>\n",
       "      <th>TFP6</th>\n",
       "      <td>1.740</td>\n",
       "      <td>0.068</td>\n",
       "      <td>7.798</td>\n",
       "      <td>0.334</td>\n",
       "      <td>5.600</td>\n",
       "      <td>0.000</td>\n",
       "      <td>25.033</td>\n",
       "      <td>0.635</td>\n",
       "      <td>[Y, X, SY]</td>\n",
       "      <td>0.180</td>\n",
       "    </tr>\n",
       "  </tbody>\n",
       "</table>\n",
       "</div>"
      ],
      "text/plain": [
       "     Et [GPa]        Eb [GPa]        t [mm]         b [mm]         \\\n",
       "         mean    std     mean    std   mean    std    mean    std   \n",
       "Name                                                                \n",
       "TFP1    2.886  0.227   13.201  0.631  5.267  0.058  25.600  0.100   \n",
       "TFP2    2.259  0.066    9.870  0.780  4.700  0.000  25.567  0.058   \n",
       "TFP3    2.000  0.004    9.222  0.496  4.833  0.058  25.400  0.173   \n",
       "TFP4    2.451  0.114   10.182  0.771  4.700  0.000  25.667  0.153   \n",
       "TFP5    1.627  0.120    6.143  0.162  5.700  0.000  25.167  0.153   \n",
       "TFP6    1.740  0.068    7.798  0.334  5.600  0.000  25.033  0.635   \n",
       "\n",
       "           layers     Vc  \n",
       "                          \n",
       "Name                      \n",
       "TFP1          [Y]  0.178  \n",
       "TFP2       [Y, X]  0.164  \n",
       "TFP3      [Y, SX]  0.135  \n",
       "TFP4      [Y, SY]  0.144  \n",
       "TFP5  [Y, SX, SY]  0.146  \n",
       "TFP6   [Y, X, SY]  0.180  "
      ]
     },
     "execution_count": 13,
     "metadata": {},
     "output_type": "execute_result"
    }
   ],
   "source": [
    "df = FullExperimental()\n",
    "df.rename(columns={\"v [X,SX,Y,SY]\": \"delta\"}, inplace=True)\n",
    "\n",
    "# database\n",
    "# layers = df[\"layers\"].values\n",
    "# layers[0] = [\"Y\",\"Y\"]\n",
    "# df[\"layers\"] = layers\n",
    "\n",
    "\n",
    "df.round(3)"
   ]
  },
  {
   "cell_type": "code",
   "execution_count": 14,
   "metadata": {},
   "outputs": [
    {
     "name": "stdout",
     "output_type": "stream",
     "text": [
      "[3.10916945 2.36518208 2.33061653 2.33059633 2.43626632 2.46481596]\n",
      "[2.88550922 2.25850254 2.00043656 2.45136175 1.62658228 1.73986993]\n"
     ]
    }
   ],
   "source": [
    "E_effs = np.array(E_effs)*1e-3\n",
    "Et_exp = df[\"Et [GPa]\"][\"mean\"].values\n",
    "\n",
    "print(E_effs)\n",
    "print(Et_exp)"
   ]
  },
  {
   "cell_type": "code",
   "execution_count": 15,
   "metadata": {},
   "outputs": [],
   "source": [
    "error_rel = np.abs(E_effs - Et_exp)/Et_exp"
   ]
  },
  {
   "cell_type": "code",
   "execution_count": 16,
   "metadata": {},
   "outputs": [],
   "source": [
    "names = df.index.values"
   ]
  },
  {
   "cell_type": "code",
   "execution_count": 17,
   "metadata": {},
   "outputs": [
    {
     "data": {
      "text/plain": [
       "array([2.88550922])"
      ]
     },
     "execution_count": 17,
     "metadata": {},
     "output_type": "execute_result"
    }
   ],
   "source": [
    "Et_exp[0:1]\n"
   ]
  },
  {
   "cell_type": "code",
   "execution_count": 18,
   "metadata": {},
   "outputs": [
    {
     "data": {
      "image/png": "[encoded data removed]",
      "text/plain": [
       "<Figure size 640x480 with 1 Axes>"
      ]
     },
     "metadata": {},
     "output_type": "display_data"
    }
   ],
   "source": [
    "\n",
    "\n",
    "# bar compare \n",
    "fig, ax = plt.subplots()\n",
    "width = 0.35\n",
    "x = np.arange(len(E_effs))\n",
    "ax.bar(x - width/2, E_effs, width, label='FEM')\n",
    "ax.bar(x + width/2, Et_exp, width, label='Experimental')\n",
    "ax.set_xticks(x)\n",
    "ax.set_xticklabels(names)\n",
    "plt.legend()\n",
    "plt.ylabel(r\"$E_{tracción} \\ [GPa]$\")\n",
    "plt.grid()"
   ]
  },
  {
   "cell_type": "code",
   "execution_count": 19,
   "metadata": {},
   "outputs": [
    {
     "data": {
      "text/plain": [
       "Text(0, 0.5, '$\\\\varepsilon_{rel} \\\\ [\\\\%]$')"
      ]
     },
     "execution_count": 19,
     "metadata": {},
     "output_type": "execute_result"
    },
    {
     "data": {
      "image/png": "[encoded data removed]",
      "text/plain": [
       "<Figure size 640x480 with 1 Axes>"
      ]
     },
     "metadata": {},
     "output_type": "display_data"
    }
   ],
   "source": [
    "# plot bar error\n",
    "fig, ax = plt.subplots()\n",
    "\n",
    "ax.bar(x, 100*error_rel, width, label='Error')\n",
    "\n",
    "ax.set_xticks(x);\n",
    "ax.set_xticklabels(names)\n",
    "plt.grid()\n",
    "plt.ylabel(r\"$\\varepsilon_{rel} \\ [\\%]$\")"
   ]
  },
  {
   "cell_type": "code",
   "execution_count": null,
   "metadata": {},
   "outputs": [],
   "source": []
  }
 ],
 "metadata": {
  "kernelspec": {
   "display_name": ".conda",
   "language": "python",
   "name": "python3"
  },
  "language_info": {
   "codemirror_mode": {
    "name": "ipython",
    "version": 3
   },
   "file_extension": ".py",
   "mimetype": "text/x-python",
   "name": "python",
   "nbconvert_exporter": "python",
   "pygments_lexer": "ipython3",
   "version": "3.11.10"
  }
 },
 "nbformat": 4,
 "nbformat_minor": 2
}
