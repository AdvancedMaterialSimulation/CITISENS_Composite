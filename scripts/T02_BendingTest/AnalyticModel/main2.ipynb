{
 "cells": [
  {
   "cell_type": "code",
   "execution_count": 31,
   "metadata": {},
   "outputs": [],
   "source": [
    "\n",
    "t_n =  2.9337 # mm\n",
    "t_l = 0.4655172949244045 # mm\n",
    "B = 25.0 # mm "
   ]
  },
  {
   "cell_type": "code",
   "execution_count": 32,
   "metadata": {},
   "outputs": [],
   "source": [
    "import numpy as np\n",
    "import pandas as pd"
   ]
  },
  {
   "cell_type": "code",
   "execution_count": 33,
   "metadata": {},
   "outputs": [],
   "source": [
    "def get_vector(list_of_layers):\n",
    "    vector = [0,0,0,0]\n",
    "    if \"X\" in list_of_layers:\n",
    "        vector[0] = 1\n",
    "    if \"SX\" in list_of_layers:\n",
    "        vector[1] = 1\n",
    "    if \"Y\" in list_of_layers:\n",
    "        vector[2] = 1\n",
    "    if \"SY\" in list_of_layers:\n",
    "        vector[3] = 1\n",
    "\n",
    "    return vector\n"
   ]
  },
  {
   "cell_type": "code",
   "execution_count": 34,
   "metadata": {},
   "outputs": [],
   "source": [
    "composition = [\n",
    "        [\"Y\"],\n",
    "        [\"Y\", \"X\"],\n",
    "        [\"Y\", \"SX\"],\n",
    "        [\"Y\", \"SY\"],\n",
    "        [\"Y\",\"SX\", \"SY\"],\n",
    "        [\"Y\",\"X\", \"SY\"]\n",
    "    ]\n",
    "\n",
    "df = pd.DataFrame({\"layers\":composition})\n",
    "df['v [X,SX,Y,SY]'] = df['layers'].apply(get_vector)\n",
    "# \n",
    "n_l = [ len(i) for i in composition]\n",
    "n_l = np.array(n_l)\n",
    "\n",
    "t_t = t_n + np.sum(n_l)*t_l\n",
    "\n",
    "\n",
    "Ygs = [ t_n + np.arange(1,in_l+1,1)*t_l  for in_l in n_l]\n",
    "I_l = [ B*t_l*(t_l**2/12 + iYgs**2) for iYgs in Ygs]\n",
    "\n",
    "I_n = B*t_n*(t_n**2/12)\n",
    "I_t = B*t_t*(**2/12)\n",
    "\n",
    "df[\"Ygs\"] = Ygs\n",
    "df[\"n_l\"] = n_l\n",
    "\n",
    "# sort X,SX,Y,SY\n",
    "\n",
    "\n"
   ]
  },
  {
   "cell_type": "code",
   "execution_count": 35,
   "metadata": {},
   "outputs": [
    {
     "data": {
      "text/html": [
       "<div>\n",
       "<style scoped>\n",
       "    .dataframe tbody tr th:only-of-type {\n",
       "        vertical-align: middle;\n",
       "    }\n",
       "\n",
       "    .dataframe tbody tr th {\n",
       "        vertical-align: top;\n",
       "    }\n",
       "\n",
       "    .dataframe thead th {\n",
       "        text-align: right;\n",
       "    }\n",
       "</style>\n",
       "<table border=\"1\" class=\"dataframe\">\n",
       "  <thead>\n",
       "    <tr style=\"text-align: right;\">\n",
       "      <th></th>\n",
       "      <th>layers</th>\n",
       "      <th>v [X,SX,Y,SY]</th>\n",
       "      <th>Ygs</th>\n",
       "      <th>n_l</th>\n",
       "    </tr>\n",
       "  </thead>\n",
       "  <tbody>\n",
       "    <tr>\n",
       "      <th>0</th>\n",
       "      <td>[Y]</td>\n",
       "      <td>[0, 0, 1, 0]</td>\n",
       "      <td>[3.3992172949244046]</td>\n",
       "      <td>1</td>\n",
       "    </tr>\n",
       "    <tr>\n",
       "      <th>1</th>\n",
       "      <td>[Y, X]</td>\n",
       "      <td>[1, 0, 1, 0]</td>\n",
       "      <td>[3.3992172949244046, 3.8647345898488092]</td>\n",
       "      <td>2</td>\n",
       "    </tr>\n",
       "    <tr>\n",
       "      <th>2</th>\n",
       "      <td>[Y, SX]</td>\n",
       "      <td>[0, 1, 1, 0]</td>\n",
       "      <td>[3.3992172949244046, 3.8647345898488092]</td>\n",
       "      <td>2</td>\n",
       "    </tr>\n",
       "    <tr>\n",
       "      <th>3</th>\n",
       "      <td>[Y, SY]</td>\n",
       "      <td>[0, 0, 1, 1]</td>\n",
       "      <td>[3.3992172949244046, 3.8647345898488092]</td>\n",
       "      <td>2</td>\n",
       "    </tr>\n",
       "    <tr>\n",
       "      <th>4</th>\n",
       "      <td>[Y, SX, SY]</td>\n",
       "      <td>[0, 1, 1, 1]</td>\n",
       "      <td>[3.3992172949244046, 3.8647345898488092, 4.330...</td>\n",
       "      <td>3</td>\n",
       "    </tr>\n",
       "    <tr>\n",
       "      <th>5</th>\n",
       "      <td>[Y, X, SY]</td>\n",
       "      <td>[1, 0, 1, 1]</td>\n",
       "      <td>[3.3992172949244046, 3.8647345898488092, 4.330...</td>\n",
       "      <td>3</td>\n",
       "    </tr>\n",
       "  </tbody>\n",
       "</table>\n",
       "</div>"
      ],
      "text/plain": [
       "        layers v [X,SX,Y,SY]  \\\n",
       "0          [Y]  [0, 0, 1, 0]   \n",
       "1       [Y, X]  [1, 0, 1, 0]   \n",
       "2      [Y, SX]  [0, 1, 1, 0]   \n",
       "3      [Y, SY]  [0, 0, 1, 1]   \n",
       "4  [Y, SX, SY]  [0, 1, 1, 1]   \n",
       "5   [Y, X, SY]  [1, 0, 1, 1]   \n",
       "\n",
       "                                                 Ygs  n_l  \n",
       "0                               [3.3992172949244046]    1  \n",
       "1           [3.3992172949244046, 3.8647345898488092]    2  \n",
       "2           [3.3992172949244046, 3.8647345898488092]    2  \n",
       "3           [3.3992172949244046, 3.8647345898488092]    2  \n",
       "4  [3.3992172949244046, 3.8647345898488092, 4.330...    3  \n",
       "5  [3.3992172949244046, 3.8647345898488092, 4.330...    3  "
      ]
     },
     "execution_count": 35,
     "metadata": {},
     "output_type": "execute_result"
    }
   ],
   "source": [
    "df"
   ]
  },
  {
   "cell_type": "code",
   "execution_count": 15,
   "metadata": {},
   "outputs": [],
   "source": []
  },
  {
   "cell_type": "code",
   "execution_count": 36,
   "metadata": {},
   "outputs": [],
   "source": [
    "df_data = pd.read_csv(\"experimental.csv\")"
   ]
  },
  {
   "cell_type": "code",
   "execution_count": 37,
   "metadata": {},
   "outputs": [],
   "source": [
    "df_data[\"Modulo flexion [GPa]\"] =  df_data[\"Modulo flexion [MPa]\"]/1000\n",
    "df_data = df_data.drop(columns=[\"Modulo flexion [MPa]\"])\n",
    "df_data = df_data.drop(columns=[\"Tension maxima [MPa]\"])\n",
    "df_data[\"Espesor [mm]\"] = 0.5*df_data[\"Espesor [mm]\"] + 0.5*df_data[\"Espesor_2 [mm]\"]\n",
    "df_data = df_data.drop(columns=[\"Espesor_2 [mm]\"])\n",
    "\n",
    "# \n",
    "#  Ancho [mm]-> B [mm]\n",
    "#  Espesor [mm] -> t [mm]\n",
    "#  Modulo flexion [MPa] -> E [GPa]\n",
    "\n",
    "df_data[\"B [mm]\"] = df_data[\"Ancho [mm]\"]\n",
    "df_data[\"t [mm]\"] = df_data[\"Espesor [mm]\"]\n",
    "df_data[\"E [GPa]\"] = df_data[\"Modulo flexion [GPa]\"]\n",
    "\n",
    "df_data = df_data.drop(columns=[\"Ancho [mm]\"])\n",
    "df_data = df_data.drop(columns=[\"Espesor [mm]\"])\n",
    "df_data = df_data.drop(columns=[\"Modulo flexion [GPa]\"])\n"
   ]
  },
  {
   "cell_type": "code",
   "execution_count": 38,
   "metadata": {},
   "outputs": [],
   "source": [
    "df_stats = df_data.groupby('Nombre').agg(['mean', 'std'])\n",
    "df_stats[\"layers\"] = composition\n",
    "df_stats[\"I_l\"] = I_l\n",
    "df_stats[\"n_l\"] = n_l"
   ]
  },
  {
   "cell_type": "code",
   "execution_count": 39,
   "metadata": {},
   "outputs": [
    {
     "data": {
      "text/html": [
       "<div>\n",
       "<style scoped>\n",
       "    .dataframe tbody tr th:only-of-type {\n",
       "        vertical-align: middle;\n",
       "    }\n",
       "\n",
       "    .dataframe tbody tr th {\n",
       "        vertical-align: top;\n",
       "    }\n",
       "\n",
       "    .dataframe thead tr th {\n",
       "        text-align: left;\n",
       "    }\n",
       "\n",
       "    .dataframe thead tr:last-of-type th {\n",
       "        text-align: right;\n",
       "    }\n",
       "</style>\n",
       "<table border=\"1\" class=\"dataframe\">\n",
       "  <thead>\n",
       "    <tr>\n",
       "      <th></th>\n",
       "      <th colspan=\"2\" halign=\"left\">B [mm]</th>\n",
       "      <th colspan=\"2\" halign=\"left\">t [mm]</th>\n",
       "      <th colspan=\"2\" halign=\"left\">E [GPa]</th>\n",
       "      <th>layers</th>\n",
       "      <th>I_l</th>\n",
       "      <th>n_l</th>\n",
       "    </tr>\n",
       "    <tr>\n",
       "      <th></th>\n",
       "      <th>mean</th>\n",
       "      <th>std</th>\n",
       "      <th>mean</th>\n",
       "      <th>std</th>\n",
       "      <th>mean</th>\n",
       "      <th>std</th>\n",
       "      <th></th>\n",
       "      <th></th>\n",
       "      <th></th>\n",
       "    </tr>\n",
       "    <tr>\n",
       "      <th>Nombre</th>\n",
       "      <th></th>\n",
       "      <th></th>\n",
       "      <th></th>\n",
       "      <th></th>\n",
       "      <th></th>\n",
       "      <th></th>\n",
       "      <th></th>\n",
       "      <th></th>\n",
       "      <th></th>\n",
       "    </tr>\n",
       "  </thead>\n",
       "  <tbody>\n",
       "    <tr>\n",
       "      <th>TFP2-1</th>\n",
       "      <td>25.566667</td>\n",
       "      <td>0.057735</td>\n",
       "      <td>4.600000</td>\n",
       "      <td>0.050000</td>\n",
       "      <td>9.869501</td>\n",
       "      <td>0.780113</td>\n",
       "      <td>[Y, X]</td>\n",
       "      <td>[134.68273151777723, 174.03634434616583]</td>\n",
       "      <td>2</td>\n",
       "    </tr>\n",
       "    <tr>\n",
       "      <th>TFP3-1</th>\n",
       "      <td>25.400000</td>\n",
       "      <td>0.173205</td>\n",
       "      <td>4.866667</td>\n",
       "      <td>0.076376</td>\n",
       "      <td>9.222003</td>\n",
       "      <td>0.495965</td>\n",
       "      <td>[Y, SX]</td>\n",
       "      <td>[134.68273151777723, 174.03634434616583]</td>\n",
       "      <td>2</td>\n",
       "    </tr>\n",
       "    <tr>\n",
       "      <th>TFP4-1</th>\n",
       "      <td>25.666667</td>\n",
       "      <td>0.152753</td>\n",
       "      <td>4.600000</td>\n",
       "      <td>0.000000</td>\n",
       "      <td>10.181815</td>\n",
       "      <td>0.770635</td>\n",
       "      <td>[Y, SY]</td>\n",
       "      <td>[134.68273151777723, 174.03634434616583]</td>\n",
       "      <td>2</td>\n",
       "    </tr>\n",
       "    <tr>\n",
       "      <th>TFP5-1</th>\n",
       "      <td>25.166667</td>\n",
       "      <td>0.152753</td>\n",
       "      <td>5.716667</td>\n",
       "      <td>0.057735</td>\n",
       "      <td>6.143105</td>\n",
       "      <td>0.161637</td>\n",
       "      <td>[Y, SX, SY]</td>\n",
       "      <td>[134.68273151777723, 174.03634434616583, 218.4...</td>\n",
       "      <td>3</td>\n",
       "    </tr>\n",
       "    <tr>\n",
       "      <th>TFP6-1</th>\n",
       "      <td>25.033333</td>\n",
       "      <td>0.635085</td>\n",
       "      <td>5.566667</td>\n",
       "      <td>0.028868</td>\n",
       "      <td>7.798060</td>\n",
       "      <td>0.334186</td>\n",
       "      <td>[Y, X, SY]</td>\n",
       "      <td>[134.68273151777723, 174.03634434616583, 218.4...</td>\n",
       "      <td>3</td>\n",
       "    </tr>\n",
       "  </tbody>\n",
       "</table>\n",
       "</div>"
      ],
      "text/plain": [
       "           B [mm]              t [mm]              E [GPa]            \\\n",
       "             mean       std      mean       std       mean       std   \n",
       "Nombre                                                                 \n",
       "TFP2-1  25.566667  0.057735  4.600000  0.050000   9.869501  0.780113   \n",
       "TFP3-1  25.400000  0.173205  4.866667  0.076376   9.222003  0.495965   \n",
       "TFP4-1  25.666667  0.152753  4.600000  0.000000  10.181815  0.770635   \n",
       "TFP5-1  25.166667  0.152753  5.716667  0.057735   6.143105  0.161637   \n",
       "TFP6-1  25.033333  0.635085  5.566667  0.028868   7.798060  0.334186   \n",
       "\n",
       "             layers                                                I_l n_l  \n",
       "                                                                            \n",
       "Nombre                                                                      \n",
       "TFP2-1       [Y, X]           [134.68273151777723, 174.03634434616583]   2  \n",
       "TFP3-1      [Y, SX]           [134.68273151777723, 174.03634434616583]   2  \n",
       "TFP4-1      [Y, SY]           [134.68273151777723, 174.03634434616583]   2  \n",
       "TFP5-1  [Y, SX, SY]  [134.68273151777723, 174.03634434616583, 218.4...   3  \n",
       "TFP6-1   [Y, X, SY]  [134.68273151777723, 174.03634434616583, 218.4...   3  "
      ]
     },
     "execution_count": 39,
     "metadata": {},
     "output_type": "execute_result"
    }
   ],
   "source": [
    "df_stats = df_stats.iloc[1:,:]\n",
    "df_stats"
   ]
  },
  {
   "cell_type": "code",
   "execution_count": 40,
   "metadata": {},
   "outputs": [],
   "source": [
    "from matplotlib import pyplot as plt"
   ]
  },
  {
   "cell_type": "code",
   "execution_count": 41,
   "metadata": {},
   "outputs": [
    {
     "data": {
      "text/plain": [
       "(array([0, 1, 2, 3, 4]),\n",
       " [Text(0, 0, 'TFP2-1'),\n",
       "  Text(1, 0, 'TFP3-1'),\n",
       "  Text(2, 0, 'TFP4-1'),\n",
       "  Text(3, 0, 'TFP5-1'),\n",
       "  Text(4, 0, 'TFP6-1')])"
      ]
     },
     "execution_count": 41,
     "metadata": {},
     "output_type": "execute_result"
    },
    {
     "data": {
      "image/png": "[encoded data removed]",
      "text/plain": [
       "<Figure size 900x400 with 2 Axes>"
      ]
     },
     "metadata": {},
     "output_type": "display_data"
    }
   ],
   "source": [
    "# plot bars with error bars Espesor (mm)\n",
    "fig = plt.figure(figsize=(9, 4))\n",
    "ax = fig.add_subplot(121)\n",
    "df_stats['t [mm]'].plot(kind='bar', y='mean', \n",
    "                        yerr='std', \n",
    "                        legend=False, \n",
    "                        title='Espesor (mm)', \n",
    "                        ax=ax)\n",
    "# ticks angle\n",
    "plt.xticks(rotation=45)\n",
    "plt.xlabel('') \n",
    "\n",
    "# plot bars with error bars Modulo Tracción [MPa]\n",
    "plt.grid()\n",
    "ax = fig.add_subplot(122)\n",
    "df_stats['E [GPa]'].plot(kind='bar', y='mean', yerr='std', legend=False, \n",
    "                         title='Modulo Flexión [GPa]', ax=ax)\n",
    "plt.grid()\n",
    "# off xlabel\n",
    "plt.xlabel('') \n",
    "plt.xticks(rotation=45)"
   ]
  },
  {
   "cell_type": "code",
   "execution_count": 42,
   "metadata": {},
   "outputs": [
    {
     "data": {
      "text/plain": [
       "array([1, 2, 2, 2, 3, 3])"
      ]
     },
     "execution_count": 42,
     "metadata": {},
     "output_type": "execute_result"
    }
   ],
   "source": [
    "n_l"
   ]
  },
  {
   "cell_type": "code",
   "execution_count": 43,
   "metadata": {},
   "outputs": [
    {
     "data": {
      "text/plain": [
       "2.9337"
      ]
     },
     "execution_count": 43,
     "metadata": {},
     "output_type": "execute_result"
    }
   ],
   "source": [
    "t_n"
   ]
  },
  {
   "cell_type": "code",
   "execution_count": 44,
   "metadata": {},
   "outputs": [
    {
     "data": {
      "text/plain": [
       "0.4655172949244045"
      ]
     },
     "execution_count": 44,
     "metadata": {},
     "output_type": "execute_result"
    }
   ],
   "source": [
    "t_l"
   ]
  },
  {
   "cell_type": "code",
   "execution_count": 45,
   "metadata": {},
   "outputs": [
    {
     "data": {
      "text/html": [
       "<div>\n",
       "<style scoped>\n",
       "    .dataframe tbody tr th:only-of-type {\n",
       "        vertical-align: middle;\n",
       "    }\n",
       "\n",
       "    .dataframe tbody tr th {\n",
       "        vertical-align: top;\n",
       "    }\n",
       "\n",
       "    .dataframe thead tr th {\n",
       "        text-align: left;\n",
       "    }\n",
       "\n",
       "    .dataframe thead tr:last-of-type th {\n",
       "        text-align: right;\n",
       "    }\n",
       "</style>\n",
       "<table border=\"1\" class=\"dataframe\">\n",
       "  <thead>\n",
       "    <tr>\n",
       "      <th></th>\n",
       "      <th colspan=\"2\" halign=\"left\">B [mm]</th>\n",
       "      <th colspan=\"2\" halign=\"left\">t [mm]</th>\n",
       "      <th colspan=\"2\" halign=\"left\">E [GPa]</th>\n",
       "      <th>layers</th>\n",
       "      <th>I_l</th>\n",
       "      <th>n_l</th>\n",
       "    </tr>\n",
       "    <tr>\n",
       "      <th></th>\n",
       "      <th>mean</th>\n",
       "      <th>std</th>\n",
       "      <th>mean</th>\n",
       "      <th>std</th>\n",
       "      <th>mean</th>\n",
       "      <th>std</th>\n",
       "      <th></th>\n",
       "      <th></th>\n",
       "      <th></th>\n",
       "    </tr>\n",
       "    <tr>\n",
       "      <th>Nombre</th>\n",
       "      <th></th>\n",
       "      <th></th>\n",
       "      <th></th>\n",
       "      <th></th>\n",
       "      <th></th>\n",
       "      <th></th>\n",
       "      <th></th>\n",
       "      <th></th>\n",
       "      <th></th>\n",
       "    </tr>\n",
       "  </thead>\n",
       "  <tbody>\n",
       "    <tr>\n",
       "      <th>TFP2-1</th>\n",
       "      <td>25.566667</td>\n",
       "      <td>0.057735</td>\n",
       "      <td>4.600000</td>\n",
       "      <td>0.050000</td>\n",
       "      <td>9.869501</td>\n",
       "      <td>0.780113</td>\n",
       "      <td>[Y, X]</td>\n",
       "      <td>[134.68273151777723, 174.03634434616583]</td>\n",
       "      <td>2</td>\n",
       "    </tr>\n",
       "    <tr>\n",
       "      <th>TFP3-1</th>\n",
       "      <td>25.400000</td>\n",
       "      <td>0.173205</td>\n",
       "      <td>4.866667</td>\n",
       "      <td>0.076376</td>\n",
       "      <td>9.222003</td>\n",
       "      <td>0.495965</td>\n",
       "      <td>[Y, SX]</td>\n",
       "      <td>[134.68273151777723, 174.03634434616583]</td>\n",
       "      <td>2</td>\n",
       "    </tr>\n",
       "    <tr>\n",
       "      <th>TFP4-1</th>\n",
       "      <td>25.666667</td>\n",
       "      <td>0.152753</td>\n",
       "      <td>4.600000</td>\n",
       "      <td>0.000000</td>\n",
       "      <td>10.181815</td>\n",
       "      <td>0.770635</td>\n",
       "      <td>[Y, SY]</td>\n",
       "      <td>[134.68273151777723, 174.03634434616583]</td>\n",
       "      <td>2</td>\n",
       "    </tr>\n",
       "    <tr>\n",
       "      <th>TFP5-1</th>\n",
       "      <td>25.166667</td>\n",
       "      <td>0.152753</td>\n",
       "      <td>5.716667</td>\n",
       "      <td>0.057735</td>\n",
       "      <td>6.143105</td>\n",
       "      <td>0.161637</td>\n",
       "      <td>[Y, SX, SY]</td>\n",
       "      <td>[134.68273151777723, 174.03634434616583, 218.4...</td>\n",
       "      <td>3</td>\n",
       "    </tr>\n",
       "    <tr>\n",
       "      <th>TFP6-1</th>\n",
       "      <td>25.033333</td>\n",
       "      <td>0.635085</td>\n",
       "      <td>5.566667</td>\n",
       "      <td>0.028868</td>\n",
       "      <td>7.798060</td>\n",
       "      <td>0.334186</td>\n",
       "      <td>[Y, X, SY]</td>\n",
       "      <td>[134.68273151777723, 174.03634434616583, 218.4...</td>\n",
       "      <td>3</td>\n",
       "    </tr>\n",
       "  </tbody>\n",
       "</table>\n",
       "</div>"
      ],
      "text/plain": [
       "           B [mm]              t [mm]              E [GPa]            \\\n",
       "             mean       std      mean       std       mean       std   \n",
       "Nombre                                                                 \n",
       "TFP2-1  25.566667  0.057735  4.600000  0.050000   9.869501  0.780113   \n",
       "TFP3-1  25.400000  0.173205  4.866667  0.076376   9.222003  0.495965   \n",
       "TFP4-1  25.666667  0.152753  4.600000  0.000000  10.181815  0.770635   \n",
       "TFP5-1  25.166667  0.152753  5.716667  0.057735   6.143105  0.161637   \n",
       "TFP6-1  25.033333  0.635085  5.566667  0.028868   7.798060  0.334186   \n",
       "\n",
       "             layers                                                I_l n_l  \n",
       "                                                                            \n",
       "Nombre                                                                      \n",
       "TFP2-1       [Y, X]           [134.68273151777723, 174.03634434616583]   2  \n",
       "TFP3-1      [Y, SX]           [134.68273151777723, 174.03634434616583]   2  \n",
       "TFP4-1      [Y, SY]           [134.68273151777723, 174.03634434616583]   2  \n",
       "TFP5-1  [Y, SX, SY]  [134.68273151777723, 174.03634434616583, 218.4...   3  \n",
       "TFP6-1   [Y, X, SY]  [134.68273151777723, 174.03634434616583, 218.4...   3  "
      ]
     },
     "execution_count": 45,
     "metadata": {},
     "output_type": "execute_result"
    }
   ],
   "source": [
    "df_stats"
   ]
  },
  {
   "cell_type": "code",
   "execution_count": 46,
   "metadata": {},
   "outputs": [],
   "source": [
    "def E_flexion(E_n,E_l):\n",
    "\n",
    "    E_l = np.array(E_l)\n",
    "\n",
    "    E_l_dict = {\"X\":E_l[0], \"SX\":E_l[1], \"Y\":E_l[2], \"SY\":E_l[3]}\n",
    "    E_l_sel = [ [ E_l_dict[i] for i in l] for l in df_stats[\"layers\"]]\n",
    "\n",
    "    I_l = df_stats[\"I_l\"]\n",
    "    El_Il_sum =  np.array([ np.sum(iE*iI) \n",
    "                       for iE,iI in zip(E_l_sel,I_l)])\n",
    "    return (E_n*I_n + El_Il_sum)/I_t\n",
    "\n"
   ]
  },
  {
   "cell_type": "code",
   "execution_count": 47,
   "metadata": {},
   "outputs": [],
   "source": [
    "tau_pred_fcn = lambda tn,tl: tn + 2*tl*df_stats[\"n_l\"]\n",
    "\n",
    "E_n = 20\n",
    "E_l = [ 40,20,30,30]\n",
    "\n",
    "E_fl_pred = E_flexion(E_n,E_l)\n",
    "\n",
    "tau_pred = tau_pred_fcn(t_n,t_l)\n"
   ]
  },
  {
   "cell_type": "code",
   "execution_count": 48,
   "metadata": {},
   "outputs": [
    {
     "data": {
      "text/plain": [
       "5"
      ]
     },
     "execution_count": 48,
     "metadata": {},
     "output_type": "execute_result"
    }
   ],
   "source": [
    "len(tau_pred)"
   ]
  },
  {
   "cell_type": "code",
   "execution_count": 49,
   "metadata": {},
   "outputs": [
    {
     "data": {
      "text/plain": [
       "5"
      ]
     },
     "execution_count": 49,
     "metadata": {},
     "output_type": "execute_result"
    }
   ],
   "source": [
    "len(E_flexion(E_n,E_l))"
   ]
  },
  {
   "cell_type": "code",
   "execution_count": 50,
   "metadata": {},
   "outputs": [
    {
     "data": {
      "text/plain": [
       "0     13.328664\n",
       "1     13.758346\n",
       "2     12.516141\n",
       "3     10.753250\n",
       "4      9.578681\n",
       "5      9.276571\n",
       "6      8.650652\n",
       "7      9.541590\n",
       "8      9.473768\n",
       "9     11.061118\n",
       "10     9.860483\n",
       "11     9.623845\n",
       "12     6.069124\n",
       "13     6.328492\n",
       "14     6.031700\n",
       "15     7.960318\n",
       "16     8.020138\n",
       "17     7.413724\n",
       "Name: E [GPa], dtype: float64"
      ]
     },
     "execution_count": 50,
     "metadata": {},
     "output_type": "execute_result"
    }
   ],
   "source": [
    "df_data[\"E [GPa]\"]"
   ]
  },
  {
   "cell_type": "code",
   "execution_count": null,
   "metadata": {},
   "outputs": [],
   "source": []
  },
  {
   "cell_type": "code",
   "execution_count": 51,
   "metadata": {},
   "outputs": [
    {
     "name": "stderr",
     "output_type": "stream",
     "text": [
      "c:\\Users\\djoroya\\Documents\\GitHub\\CITISENS_Composite\\.conda\\Lib\\site-packages\\scipy\\optimize\\_basinhopping.py:302: OptimizeWarning: Initial guess is not within the specified bounds\n",
      "  return self.minimizer(self.func, x0, **self.kwargs)\n"
     ]
    }
   ],
   "source": [
    "# optimize E_n and E_l \n",
    "from scipy.optimize import minimize,basinhopping\n",
    "\n",
    "def objective(x):\n",
    "    E_n = x[0]\n",
    "    E_l = x[1:]\n",
    "    return np.sum((E_flexion(E_n,E_l) - df_stats[\"E [GPa]\"][\"mean\"].values)**2)\n",
    "\n",
    "x0 = np.array([E_n,*E_l])\n",
    "\n",
    "# must be positive\n",
    "bounds = [(0,None) for i in range(len(x0))]\n",
    "res = basinhopping(objective, x0, niter=50,minimizer_kwargs={\"bounds\":bounds,\"method\":\"Nelder-Mead\"})\n",
    "res\n",
    "E_l_opt = res.x[1:]\n",
    "E_n_opt = res.x[0]\n",
    "E_fl_pred = E_flexion(res.x[0],res.x[1:])\n"
   ]
  },
  {
   "cell_type": "code",
   "execution_count": 52,
   "metadata": {},
   "outputs": [],
   "source": [
    "\n",
    "n_l = df_stats[\"n_l\"]\n",
    "tau_pred_fcn = lambda tn,tl: tn + 2*tl*n_l\n",
    "tau_pred = tau_pred_fcn(t_n,t_l)\n"
   ]
  },
  {
   "cell_type": "code",
   "execution_count": 53,
   "metadata": {},
   "outputs": [],
   "source": [
    "df_stats[\"E pred [GPa]\"] = E_fl_pred\n",
    "df_stats[\"t pred [MPa]\"] = tau_pred"
   ]
  },
  {
   "cell_type": "code",
   "execution_count": 54,
   "metadata": {},
   "outputs": [
    {
     "data": {
      "text/html": [
       "<div>\n",
       "<style scoped>\n",
       "    .dataframe tbody tr th:only-of-type {\n",
       "        vertical-align: middle;\n",
       "    }\n",
       "\n",
       "    .dataframe tbody tr th {\n",
       "        vertical-align: top;\n",
       "    }\n",
       "\n",
       "    .dataframe thead tr th {\n",
       "        text-align: left;\n",
       "    }\n",
       "\n",
       "    .dataframe thead tr:last-of-type th {\n",
       "        text-align: right;\n",
       "    }\n",
       "</style>\n",
       "<table border=\"1\" class=\"dataframe\">\n",
       "  <thead>\n",
       "    <tr>\n",
       "      <th></th>\n",
       "      <th colspan=\"2\" halign=\"left\">B [mm]</th>\n",
       "      <th colspan=\"2\" halign=\"left\">t [mm]</th>\n",
       "      <th colspan=\"2\" halign=\"left\">E [GPa]</th>\n",
       "      <th>layers</th>\n",
       "      <th>I_l</th>\n",
       "      <th>n_l</th>\n",
       "      <th>E pred [GPa]</th>\n",
       "      <th>t pred [MPa]</th>\n",
       "    </tr>\n",
       "    <tr>\n",
       "      <th></th>\n",
       "      <th>mean</th>\n",
       "      <th>std</th>\n",
       "      <th>mean</th>\n",
       "      <th>std</th>\n",
       "      <th>mean</th>\n",
       "      <th>std</th>\n",
       "      <th></th>\n",
       "      <th></th>\n",
       "      <th></th>\n",
       "      <th></th>\n",
       "      <th></th>\n",
       "    </tr>\n",
       "    <tr>\n",
       "      <th>Nombre</th>\n",
       "      <th></th>\n",
       "      <th></th>\n",
       "      <th></th>\n",
       "      <th></th>\n",
       "      <th></th>\n",
       "      <th></th>\n",
       "      <th></th>\n",
       "      <th></th>\n",
       "      <th></th>\n",
       "      <th></th>\n",
       "      <th></th>\n",
       "    </tr>\n",
       "  </thead>\n",
       "  <tbody>\n",
       "    <tr>\n",
       "      <th>TFP2-1</th>\n",
       "      <td>25.566667</td>\n",
       "      <td>0.057735</td>\n",
       "      <td>4.600000</td>\n",
       "      <td>0.050000</td>\n",
       "      <td>9.869501</td>\n",
       "      <td>0.780113</td>\n",
       "      <td>[Y, X]</td>\n",
       "      <td>[134.68273151777723, 174.03634434616583]</td>\n",
       "      <td>2</td>\n",
       "      <td>8.833780</td>\n",
       "      <td>4.795769</td>\n",
       "    </tr>\n",
       "    <tr>\n",
       "      <th>TFP3-1</th>\n",
       "      <td>25.400000</td>\n",
       "      <td>0.173205</td>\n",
       "      <td>4.866667</td>\n",
       "      <td>0.076376</td>\n",
       "      <td>9.222003</td>\n",
       "      <td>0.495965</td>\n",
       "      <td>[Y, SX]</td>\n",
       "      <td>[134.68273151777723, 174.03634434616583]</td>\n",
       "      <td>2</td>\n",
       "      <td>8.515641</td>\n",
       "      <td>4.795769</td>\n",
       "    </tr>\n",
       "    <tr>\n",
       "      <th>TFP4-1</th>\n",
       "      <td>25.666667</td>\n",
       "      <td>0.152753</td>\n",
       "      <td>4.600000</td>\n",
       "      <td>0.000000</td>\n",
       "      <td>10.181815</td>\n",
       "      <td>0.770635</td>\n",
       "      <td>[Y, SY]</td>\n",
       "      <td>[134.68273151777723, 174.03634434616583]</td>\n",
       "      <td>2</td>\n",
       "      <td>8.515641</td>\n",
       "      <td>4.795769</td>\n",
       "    </tr>\n",
       "    <tr>\n",
       "      <th>TFP5-1</th>\n",
       "      <td>25.166667</td>\n",
       "      <td>0.152753</td>\n",
       "      <td>5.716667</td>\n",
       "      <td>0.057735</td>\n",
       "      <td>6.143105</td>\n",
       "      <td>0.161637</td>\n",
       "      <td>[Y, SX, SY]</td>\n",
       "      <td>[134.68273151777723, 174.03634434616583, 218.4...</td>\n",
       "      <td>3</td>\n",
       "      <td>8.515641</td>\n",
       "      <td>5.726804</td>\n",
       "    </tr>\n",
       "    <tr>\n",
       "      <th>TFP6-1</th>\n",
       "      <td>25.033333</td>\n",
       "      <td>0.635085</td>\n",
       "      <td>5.566667</td>\n",
       "      <td>0.028868</td>\n",
       "      <td>7.798060</td>\n",
       "      <td>0.334186</td>\n",
       "      <td>[Y, X, SY]</td>\n",
       "      <td>[134.68273151777723, 174.03634434616583, 218.4...</td>\n",
       "      <td>3</td>\n",
       "      <td>8.833780</td>\n",
       "      <td>5.726804</td>\n",
       "    </tr>\n",
       "  </tbody>\n",
       "</table>\n",
       "</div>"
      ],
      "text/plain": [
       "           B [mm]              t [mm]              E [GPa]            \\\n",
       "             mean       std      mean       std       mean       std   \n",
       "Nombre                                                                 \n",
       "TFP2-1  25.566667  0.057735  4.600000  0.050000   9.869501  0.780113   \n",
       "TFP3-1  25.400000  0.173205  4.866667  0.076376   9.222003  0.495965   \n",
       "TFP4-1  25.666667  0.152753  4.600000  0.000000  10.181815  0.770635   \n",
       "TFP5-1  25.166667  0.152753  5.716667  0.057735   6.143105  0.161637   \n",
       "TFP6-1  25.033333  0.635085  5.566667  0.028868   7.798060  0.334186   \n",
       "\n",
       "             layers                                                I_l n_l  \\\n",
       "                                                                             \n",
       "Nombre                                                                       \n",
       "TFP2-1       [Y, X]           [134.68273151777723, 174.03634434616583]   2   \n",
       "TFP3-1      [Y, SX]           [134.68273151777723, 174.03634434616583]   2   \n",
       "TFP4-1      [Y, SY]           [134.68273151777723, 174.03634434616583]   2   \n",
       "TFP5-1  [Y, SX, SY]  [134.68273151777723, 174.03634434616583, 218.4...   3   \n",
       "TFP6-1   [Y, X, SY]  [134.68273151777723, 174.03634434616583, 218.4...   3   \n",
       "\n",
       "       E pred [GPa] t pred [MPa]  \n",
       "                                  \n",
       "Nombre                            \n",
       "TFP2-1     8.833780     4.795769  \n",
       "TFP3-1     8.515641     4.795769  \n",
       "TFP4-1     8.515641     4.795769  \n",
       "TFP5-1     8.515641     5.726804  \n",
       "TFP6-1     8.833780     5.726804  "
      ]
     },
     "execution_count": 54,
     "metadata": {},
     "output_type": "execute_result"
    }
   ],
   "source": [
    "df_stats"
   ]
  },
  {
   "cell_type": "code",
   "execution_count": 55,
   "metadata": {},
   "outputs": [
    {
     "data": {
      "text/plain": [
       "(array([-1.,  0.,  1.,  2.,  3.,  4.,  5.]),\n",
       " [Text(-1.0, 0, '−1'),\n",
       "  Text(0.0, 0, '0'),\n",
       "  Text(1.0, 0, '1'),\n",
       "  Text(2.0, 0, '2'),\n",
       "  Text(3.0, 0, '3'),\n",
       "  Text(4.0, 0, '4'),\n",
       "  Text(5.0, 0, '5')])"
      ]
     },
     "execution_count": 55,
     "metadata": {},
     "output_type": "execute_result"
    },
    {
     "data": {
      "image/png": "[encoded data removed]",
      "text/plain": [
       "<Figure size 900x400 with 2 Axes>"
      ]
     },
     "metadata": {},
     "output_type": "display_data"
    }
   ],
   "source": [
    "# plot bars with error bars Espesor (mm)\n",
    "width = 0.3\n",
    "idx = df_stats.index\n",
    "idx_range = np.arange(len(idx))\n",
    "\n",
    "fig = plt.figure(figsize=(9, 4))\n",
    "ax = fig.add_subplot(121)\n",
    "\n",
    "plt.bar(idx_range+width , df_stats['t [mm]']['mean'], yerr=df_stats['t [mm]']['std'], label='Experimental',width=width)\n",
    "plt.bar(idx_range, tau_pred, label='Predicted', alpha=0.5, width=width)\n",
    "plt.title('Espesor (mm)')\n",
    "plt.grid()\n",
    "\n",
    "# ticks angle\n",
    "plt.xticks(rotation=45)\n",
    "plt.xlabel('') \n",
    "\n",
    "# plot bars with error bars Modulo Tracción [MPa]\n",
    "plt.grid()\n",
    "ax = fig.add_subplot(122)\n",
    "\n",
    "# plot bars with error bars Modulo Tracción [MPa] and prediction\n",
    "\n",
    "plt.bar(idx_range+width , df_stats['E [GPa]']['mean'], yerr=df_stats['E [GPa]']['std'], label='Experimental',width=width)\n",
    "\n",
    "plt.bar(idx_range, df_stats['E pred [GPa]'], label='Predicted', alpha=0.5, width=width)\n",
    "plt.legend()\n",
    "\n",
    "\n",
    "plt.grid()\n",
    "# off xlabel\n",
    "plt.xlabel('') \n",
    "plt.xticks(rotation=45)\n",
    "\n"
   ]
  },
  {
   "cell_type": "code",
   "execution_count": 56,
   "metadata": {},
   "outputs": [
    {
     "data": {
      "text/plain": [
       "array([[4.6       , 0.05      ],\n",
       "       [4.86666667, 0.07637626],\n",
       "       [4.6       , 0.        ],\n",
       "       [5.71666667, 0.05773503],\n",
       "       [5.56666667, 0.02886751]])"
      ]
     },
     "execution_count": 56,
     "metadata": {},
     "output_type": "execute_result"
    }
   ],
   "source": [
    "df_stats[\"t [mm]\"].values"
   ]
  },
  {
   "cell_type": "code",
   "execution_count": 57,
   "metadata": {},
   "outputs": [
    {
     "data": {
      "image/png": "[encoded data removed]",
      "text/plain": [
       "<Figure size 640x480 with 1 Axes>"
      ]
     },
     "metadata": {},
     "output_type": "display_data"
    }
   ],
   "source": [
    "plt.plot(df_stats[\"t [mm]\"][\"mean\"].values,\n",
    "         df_stats[\"E [GPa]\"][\"mean\"].values,'o')\n",
    "\n",
    "# text plot \n",
    "for i, txt in enumerate(df_stats.index):\n",
    "    plt.annotate(txt, (df_stats[\"t [mm]\"][\"mean\"].values[i], df_stats[\"E [GPa]\"][\"mean\"].values[i]))\n",
    "    plt.annotate(txt+\"prd\", (df_stats[\"t [mm]\"][\"mean\"].values[i], df_stats[\"E pred [GPa]\"].values[i]))\n",
    "\n",
    "# \n",
    "plt.plot(tau_pred,E_fl_pred,'o')\n",
    "\n",
    "plt.ylabel(\"E [GPa]\")\n",
    "plt.xlabel(\"t [mm]\")\n",
    "plt.grid()"
   ]
  },
  {
   "cell_type": "code",
   "execution_count": 58,
   "metadata": {},
   "outputs": [
    {
     "data": {
      "text/plain": [
       "<matplotlib.legend.Legend at 0x116ee100890>"
      ]
     },
     "execution_count": 58,
     "metadata": {},
     "output_type": "execute_result"
    },
    {
     "data": {
      "image/png": "[encoded data removed]",
      "text/plain": [
       "<Figure size 900x400 with 2 Axes>"
      ]
     },
     "metadata": {},
     "output_type": "display_data"
    }
   ],
   "source": [
    "# error \n",
    "\n",
    "df_stats[\"E error [%]\"] = 100*abs(df_stats['E [GPa]']['mean'] - df_stats['E pred [GPa]'])/df_stats['E [GPa]']['mean']\n",
    "\n",
    "df_stats[\"t error [%]\"] = 100*abs(df_stats['t [mm]']['mean'] - tau_pred)/df_stats['t [mm]']['mean']\n",
    "\n",
    "fig = plt.figure(figsize=(9, 4))\n",
    "\n",
    "ax = fig.add_subplot(121)\n",
    "\n",
    "plt.bar(idx_range, df_stats['t error [%]'], label='Espesor (mm)',width=width)\n",
    "# line in error mean \n",
    "plt.axhline(df_stats['t error [%]'].mean(), color='r', \n",
    "            linestyle='dashed', linewidth=1,label='Mean Error = {:.2f}%'.format(df_stats['t error [%]'].mean()))\n",
    "plt.title('Error Espesor (%)')\n",
    "plt.legend()\n",
    "plt.grid()\n",
    "plt.xticks(rotation=45)\n",
    "\n",
    "\n",
    "\n",
    "ax = fig.add_subplot(122)\n",
    "\n",
    "plt.bar(idx_range, df_stats['E error [%]'], \n",
    "        label='Modulo Flexión [GPa]',width=width)\n",
    "\n",
    "# line in error mean\n",
    "plt.axhline(df_stats['E error [%]'].mean(), color='r', \n",
    "            linestyle='dashed', \n",
    "            linewidth=1,\n",
    "            label='Mean Error = {:.2f}%'.format(df_stats['E error [%]'].mean()))\n",
    "\n",
    "plt.title('Error Modulo Flexión (%)')\n",
    "plt.grid()\n",
    "plt.legend()"
   ]
  },
  {
   "cell_type": "code",
   "execution_count": 59,
   "metadata": {},
   "outputs": [],
   "source": [
    "# X,SX,Y,SY"
   ]
  },
  {
   "cell_type": "code",
   "execution_count": 60,
   "metadata": {},
   "outputs": [
    {
     "name": "stdout",
     "output_type": "stream",
     "text": [
      "E_n_opt 225.71965512427397\n",
      "E_l_opt [2.76281269 0.         7.40253705 0.        ]\n"
     ]
    }
   ],
   "source": [
    "print(\"E_n_opt\",E_n_opt)\n",
    "print(\"E_l_opt\",E_l_opt)"
   ]
  },
  {
   "cell_type": "code",
   "execution_count": null,
   "metadata": {},
   "outputs": [],
   "source": []
  }
 ],
 "metadata": {
  "kernelspec": {
   "display_name": ".conda",
   "language": "python",
   "name": "python3"
  },
  "language_info": {
   "codemirror_mode": {
    "name": "ipython",
    "version": 3
   },
   "file_extension": ".py",
   "mimetype": "text/x-python",
   "name": "python",
   "nbconvert_exporter": "python",
   "pygments_lexer": "ipython3",
   "version": "3.11.10"
  }
 },
 "nbformat": 4,
 "nbformat_minor": 2
}
