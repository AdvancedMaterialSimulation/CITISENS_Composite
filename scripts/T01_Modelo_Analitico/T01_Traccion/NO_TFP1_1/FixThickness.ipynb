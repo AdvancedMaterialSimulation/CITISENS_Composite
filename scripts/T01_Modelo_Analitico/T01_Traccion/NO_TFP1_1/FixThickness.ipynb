{
 "cells": [
  {
   "cell_type": "code",
   "execution_count": 22,
   "metadata": {},
   "outputs": [],
   "source": [
    "import pandas as pd\n",
    "from scipy.optimize import basinhopping\n",
    "import numpy as np\n",
    "from validation.TensileExperimental import TensileExperimental"
   ]
  },
  {
   "cell_type": "code",
   "execution_count": 23,
   "metadata": {},
   "outputs": [],
   "source": [
    "r = TensileExperimental()\n",
    "\n",
    "df       = r[\"df\"]\n",
    "df_stats = r[\"df_stats\"]"
   ]
  },
  {
   "cell_type": "code",
   "execution_count": 24,
   "metadata": {},
   "outputs": [
    {
     "data": {
      "text/html": [
       "<div>\n",
       "<style scoped>\n",
       "    .dataframe tbody tr th:only-of-type {\n",
       "        vertical-align: middle;\n",
       "    }\n",
       "\n",
       "    .dataframe tbody tr th {\n",
       "        vertical-align: top;\n",
       "    }\n",
       "\n",
       "    .dataframe thead tr th {\n",
       "        text-align: left;\n",
       "    }\n",
       "\n",
       "    .dataframe thead tr:last-of-type th {\n",
       "        text-align: right;\n",
       "    }\n",
       "</style>\n",
       "<table border=\"1\" class=\"dataframe\">\n",
       "  <thead>\n",
       "    <tr>\n",
       "      <th></th>\n",
       "      <th colspan=\"2\" halign=\"left\">Modulo (GPa)</th>\n",
       "      <th colspan=\"2\" halign=\"left\">Espesor (mm)</th>\n",
       "      <th>layers</th>\n",
       "      <th>v [X,SX,Y,SY]</th>\n",
       "      <th>ni</th>\n",
       "    </tr>\n",
       "    <tr>\n",
       "      <th></th>\n",
       "      <th>mean</th>\n",
       "      <th>std</th>\n",
       "      <th>mean</th>\n",
       "      <th>std</th>\n",
       "      <th></th>\n",
       "      <th></th>\n",
       "      <th></th>\n",
       "    </tr>\n",
       "    <tr>\n",
       "      <th>Name</th>\n",
       "      <th></th>\n",
       "      <th></th>\n",
       "      <th></th>\n",
       "      <th></th>\n",
       "      <th></th>\n",
       "      <th></th>\n",
       "      <th></th>\n",
       "    </tr>\n",
       "  </thead>\n",
       "  <tbody>\n",
       "    <tr>\n",
       "      <th>TFP1</th>\n",
       "      <td>2.89</td>\n",
       "      <td>0.23</td>\n",
       "      <td>5.27</td>\n",
       "      <td>0.06</td>\n",
       "      <td>[Y]</td>\n",
       "      <td>[0, 0, 1, 0]</td>\n",
       "      <td>1</td>\n",
       "    </tr>\n",
       "    <tr>\n",
       "      <th>TFP2</th>\n",
       "      <td>2.26</td>\n",
       "      <td>0.07</td>\n",
       "      <td>4.70</td>\n",
       "      <td>0.00</td>\n",
       "      <td>[Y, X]</td>\n",
       "      <td>[1, 0, 1, 0]</td>\n",
       "      <td>2</td>\n",
       "    </tr>\n",
       "    <tr>\n",
       "      <th>TFP3</th>\n",
       "      <td>2.00</td>\n",
       "      <td>0.00</td>\n",
       "      <td>4.83</td>\n",
       "      <td>0.06</td>\n",
       "      <td>[Y, SX]</td>\n",
       "      <td>[0, 1, 1, 0]</td>\n",
       "      <td>2</td>\n",
       "    </tr>\n",
       "    <tr>\n",
       "      <th>TFP4</th>\n",
       "      <td>2.45</td>\n",
       "      <td>0.11</td>\n",
       "      <td>4.70</td>\n",
       "      <td>0.00</td>\n",
       "      <td>[Y, SY]</td>\n",
       "      <td>[0, 0, 1, 1]</td>\n",
       "      <td>2</td>\n",
       "    </tr>\n",
       "    <tr>\n",
       "      <th>TFP5</th>\n",
       "      <td>1.63</td>\n",
       "      <td>0.12</td>\n",
       "      <td>5.70</td>\n",
       "      <td>0.00</td>\n",
       "      <td>[Y, SX, SY]</td>\n",
       "      <td>[0, 1, 1, 1]</td>\n",
       "      <td>3</td>\n",
       "    </tr>\n",
       "    <tr>\n",
       "      <th>TFP6</th>\n",
       "      <td>1.74</td>\n",
       "      <td>0.07</td>\n",
       "      <td>5.60</td>\n",
       "      <td>0.00</td>\n",
       "      <td>[Y, X, SY]</td>\n",
       "      <td>[1, 0, 1, 1]</td>\n",
       "      <td>3</td>\n",
       "    </tr>\n",
       "  </tbody>\n",
       "</table>\n",
       "</div>"
      ],
      "text/plain": [
       "     Modulo (GPa)       Espesor (mm)             layers v [X,SX,Y,SY] ni\n",
       "             mean   std         mean   std                              \n",
       "Name                                                                    \n",
       "TFP1         2.89  0.23         5.27  0.06          [Y]  [0, 0, 1, 0]  1\n",
       "TFP2         2.26  0.07         4.70  0.00       [Y, X]  [1, 0, 1, 0]  2\n",
       "TFP3         2.00  0.00         4.83  0.06      [Y, SX]  [0, 1, 1, 0]  2\n",
       "TFP4         2.45  0.11         4.70  0.00      [Y, SY]  [0, 0, 1, 1]  2\n",
       "TFP5         1.63  0.12         5.70  0.00  [Y, SX, SY]  [0, 1, 1, 1]  3\n",
       "TFP6         1.74  0.07         5.60  0.00   [Y, X, SY]  [1, 0, 1, 1]  3"
      ]
     },
     "execution_count": 24,
     "metadata": {},
     "output_type": "execute_result"
    }
   ],
   "source": [
    "df_stats.round(2)"
   ]
  },
  {
   "cell_type": "code",
   "execution_count": 25,
   "metadata": {},
   "outputs": [
    {
     "data": {
      "image/png": "[encoded data removed]",
      "text/plain": [
       "<Figure size 900x400 with 2 Axes>"
      ]
     },
     "metadata": {},
     "output_type": "display_data"
    }
   ],
   "source": [
    "from validation.TensileExperimental import TensilePlotData\n",
    "\n",
    "TensilePlotData(df_stats)"
   ]
  },
  {
   "cell_type": "code",
   "execution_count": 26,
   "metadata": {},
   "outputs": [
    {
     "data": {
      "text/html": [
       "<div>\n",
       "<style scoped>\n",
       "    .dataframe tbody tr th:only-of-type {\n",
       "        vertical-align: middle;\n",
       "    }\n",
       "\n",
       "    .dataframe tbody tr th {\n",
       "        vertical-align: top;\n",
       "    }\n",
       "\n",
       "    .dataframe thead tr th {\n",
       "        text-align: left;\n",
       "    }\n",
       "\n",
       "    .dataframe thead tr:last-of-type th {\n",
       "        text-align: right;\n",
       "    }\n",
       "</style>\n",
       "<table border=\"1\" class=\"dataframe\">\n",
       "  <thead>\n",
       "    <tr>\n",
       "      <th></th>\n",
       "      <th colspan=\"2\" halign=\"left\">Modulo (GPa)</th>\n",
       "      <th colspan=\"2\" halign=\"left\">Espesor (mm)</th>\n",
       "      <th>layers</th>\n",
       "      <th>v [X,SX,Y,SY]</th>\n",
       "      <th>ni</th>\n",
       "    </tr>\n",
       "    <tr>\n",
       "      <th></th>\n",
       "      <th>mean</th>\n",
       "      <th>std</th>\n",
       "      <th>mean</th>\n",
       "      <th>std</th>\n",
       "      <th></th>\n",
       "      <th></th>\n",
       "      <th></th>\n",
       "    </tr>\n",
       "    <tr>\n",
       "      <th>Name</th>\n",
       "      <th></th>\n",
       "      <th></th>\n",
       "      <th></th>\n",
       "      <th></th>\n",
       "      <th></th>\n",
       "      <th></th>\n",
       "      <th></th>\n",
       "    </tr>\n",
       "  </thead>\n",
       "  <tbody>\n",
       "    <tr>\n",
       "      <th>TFP1</th>\n",
       "      <td>2.885509</td>\n",
       "      <td>0.227295</td>\n",
       "      <td>5.266667</td>\n",
       "      <td>0.057735</td>\n",
       "      <td>[Y]</td>\n",
       "      <td>[0, 0, 1, 0]</td>\n",
       "      <td>1</td>\n",
       "    </tr>\n",
       "    <tr>\n",
       "      <th>TFP2</th>\n",
       "      <td>2.258503</td>\n",
       "      <td>0.065626</td>\n",
       "      <td>4.700000</td>\n",
       "      <td>0.000000</td>\n",
       "      <td>[Y, X]</td>\n",
       "      <td>[1, 0, 1, 0]</td>\n",
       "      <td>2</td>\n",
       "    </tr>\n",
       "    <tr>\n",
       "      <th>TFP3</th>\n",
       "      <td>2.000437</td>\n",
       "      <td>0.004435</td>\n",
       "      <td>4.833333</td>\n",
       "      <td>0.057735</td>\n",
       "      <td>[Y, SX]</td>\n",
       "      <td>[0, 1, 1, 0]</td>\n",
       "      <td>2</td>\n",
       "    </tr>\n",
       "    <tr>\n",
       "      <th>TFP4</th>\n",
       "      <td>2.451362</td>\n",
       "      <td>0.114353</td>\n",
       "      <td>4.700000</td>\n",
       "      <td>0.000000</td>\n",
       "      <td>[Y, SY]</td>\n",
       "      <td>[0, 0, 1, 1]</td>\n",
       "      <td>2</td>\n",
       "    </tr>\n",
       "    <tr>\n",
       "      <th>TFP5</th>\n",
       "      <td>1.626582</td>\n",
       "      <td>0.120272</td>\n",
       "      <td>5.700000</td>\n",
       "      <td>0.000000</td>\n",
       "      <td>[Y, SX, SY]</td>\n",
       "      <td>[0, 1, 1, 1]</td>\n",
       "      <td>3</td>\n",
       "    </tr>\n",
       "    <tr>\n",
       "      <th>TFP6</th>\n",
       "      <td>1.739870</td>\n",
       "      <td>0.067515</td>\n",
       "      <td>5.600000</td>\n",
       "      <td>0.000000</td>\n",
       "      <td>[Y, X, SY]</td>\n",
       "      <td>[1, 0, 1, 1]</td>\n",
       "      <td>3</td>\n",
       "    </tr>\n",
       "  </tbody>\n",
       "</table>\n",
       "</div>"
      ],
      "text/plain": [
       "     Modulo (GPa)           Espesor (mm)                 layers v [X,SX,Y,SY]  \\\n",
       "             mean       std         mean       std                              \n",
       "Name                                                                            \n",
       "TFP1     2.885509  0.227295     5.266667  0.057735          [Y]  [0, 0, 1, 0]   \n",
       "TFP2     2.258503  0.065626     4.700000  0.000000       [Y, X]  [1, 0, 1, 0]   \n",
       "TFP3     2.000437  0.004435     4.833333  0.057735      [Y, SX]  [0, 1, 1, 0]   \n",
       "TFP4     2.451362  0.114353     4.700000  0.000000      [Y, SY]  [0, 0, 1, 1]   \n",
       "TFP5     1.626582  0.120272     5.700000  0.000000  [Y, SX, SY]  [0, 1, 1, 1]   \n",
       "TFP6     1.739870  0.067515     5.600000  0.000000   [Y, X, SY]  [1, 0, 1, 1]   \n",
       "\n",
       "     ni  \n",
       "         \n",
       "Name     \n",
       "TFP1  1  \n",
       "TFP2  2  \n",
       "TFP3  2  \n",
       "TFP4  2  \n",
       "TFP5  3  \n",
       "TFP6  3  "
      ]
     },
     "execution_count": 26,
     "metadata": {},
     "output_type": "execute_result"
    }
   ],
   "source": [
    "df_stats"
   ]
  },
  {
   "cell_type": "code",
   "execution_count": 27,
   "metadata": {},
   "outputs": [],
   "source": [
    "# only thin \n",
    "\n",
    "ni = df_stats[\"ni\"].values\n",
    "tau_exp = df_stats[\"Espesor (mm)\"][\"mean\"].values\n",
    "\n",
    "tau_pred_fcn = lambda tn,tl: tn + 2*tl*ni"
   ]
  },
  {
   "cell_type": "code",
   "execution_count": 28,
   "metadata": {},
   "outputs": [],
   "source": [
    "from validation.experimental import manual_data\n",
    "\n",
    "t_nucleo_exp = manual_data()[\"t_nucleo [mm]\"]"
   ]
  },
  {
   "cell_type": "code",
   "execution_count": 29,
   "metadata": {},
   "outputs": [],
   "source": [
    "# min square error\n",
    "\n",
    "def objective(tn,tl):\n",
    "    return sum((tau_pred_fcn(tn,tl) - tau_exp)**2)\n",
    "\n",
    "x0 = [0,0]\n",
    "#\n",
    "x0 = 2*np.random.rand(2)\n",
    "\n",
    "bound  = [(0.95*t_nucleo_exp, t_nucleo_exp*1.05), # tn\n",
    "          (0, None)] # tl\n",
    "\n",
    "\n",
    "\n",
    "minimizer_kwargs = {\"method\": \"L-BFGS-B\", \"bounds\": bound}\n",
    "\n",
    "res = basinhopping(lambda x: objective(*x), x0, \n",
    "                   minimizer_kwargs=minimizer_kwargs,\n",
    "                   niter=10)\n",
    "\n",
    "tn_opt = res.x[0]\n",
    "tl_opt = res.x[1]\n",
    "\n",
    "tau_pred = tau_pred_fcn(tn_opt,tl_opt)\n"
   ]
  },
  {
   "cell_type": "code",
   "execution_count": 30,
   "metadata": {},
   "outputs": [
    {
     "name": "stdout",
     "output_type": "stream",
     "text": [
      "Optimal tn:  2.9337\n",
      "Optimal tl:  0.47572956687980983\n",
      "Residuals:  1.989033693799284\n"
     ]
    }
   ],
   "source": [
    "print(\"Optimal tn: \", tn_opt)\n",
    "print(\"Optimal tl: \", tl_opt)\n",
    "print(\"Residuals: \", res.fun)"
   ]
  },
  {
   "cell_type": "code",
   "execution_count": 31,
   "metadata": {},
   "outputs": [
    {
     "name": "stdout",
     "output_type": "stream",
     "text": [
      "Tau predicted:  [3.88515913 4.83661827 4.83661827 4.83661827 5.7880774  5.7880774 ]\n",
      "Tau experimental:  [5.26666667 4.7        4.83333333 4.7        5.7        5.6       ]\n"
     ]
    },
    {
     "data": {
      "text/html": [
       "<div>\n",
       "<style scoped>\n",
       "    .dataframe tbody tr th:only-of-type {\n",
       "        vertical-align: middle;\n",
       "    }\n",
       "\n",
       "    .dataframe tbody tr th {\n",
       "        vertical-align: top;\n",
       "    }\n",
       "\n",
       "    .dataframe thead th {\n",
       "        text-align: right;\n",
       "    }\n",
       "</style>\n",
       "<table border=\"1\" class=\"dataframe\">\n",
       "  <thead>\n",
       "    <tr style=\"text-align: right;\">\n",
       "      <th></th>\n",
       "      <th>tau_exp</th>\n",
       "      <th>tau_pred</th>\n",
       "      <th>error [%]</th>\n",
       "    </tr>\n",
       "  </thead>\n",
       "  <tbody>\n",
       "    <tr>\n",
       "      <th>0</th>\n",
       "      <td>5.27</td>\n",
       "      <td>3.89</td>\n",
       "      <td>26.23</td>\n",
       "    </tr>\n",
       "    <tr>\n",
       "      <th>1</th>\n",
       "      <td>4.70</td>\n",
       "      <td>4.84</td>\n",
       "      <td>2.91</td>\n",
       "    </tr>\n",
       "    <tr>\n",
       "      <th>2</th>\n",
       "      <td>4.83</td>\n",
       "      <td>4.84</td>\n",
       "      <td>0.07</td>\n",
       "    </tr>\n",
       "    <tr>\n",
       "      <th>3</th>\n",
       "      <td>4.70</td>\n",
       "      <td>4.84</td>\n",
       "      <td>2.91</td>\n",
       "    </tr>\n",
       "    <tr>\n",
       "      <th>4</th>\n",
       "      <td>5.70</td>\n",
       "      <td>5.79</td>\n",
       "      <td>1.55</td>\n",
       "    </tr>\n",
       "    <tr>\n",
       "      <th>5</th>\n",
       "      <td>5.60</td>\n",
       "      <td>5.79</td>\n",
       "      <td>3.36</td>\n",
       "    </tr>\n",
       "  </tbody>\n",
       "</table>\n",
       "</div>"
      ],
      "text/plain": [
       "   tau_exp  tau_pred  error [%]\n",
       "0     5.27      3.89      26.23\n",
       "1     4.70      4.84       2.91\n",
       "2     4.83      4.84       0.07\n",
       "3     4.70      4.84       2.91\n",
       "4     5.70      5.79       1.55\n",
       "5     5.60      5.79       3.36"
      ]
     },
     "execution_count": 31,
     "metadata": {},
     "output_type": "execute_result"
    }
   ],
   "source": [
    "# Tau predicted\n",
    "print(\"Tau predicted: \", tau_pred)\n",
    "print(\"Tau experimental: \", tau_exp)\n",
    "\n",
    "df_exp = pd.DataFrame({\"tau_exp\": tau_exp, \"tau_pred\": tau_pred})\n",
    "df_exp[\"error [%]\"] = 100*abs(df_exp[\"tau_exp\"] - df_exp[\"tau_pred\"]) / df_exp[\"tau_exp\"]\n",
    "# round to 2 decimals\n",
    "df_exp = df_exp.round(2)\n",
    "df_exp"
   ]
  },
  {
   "cell_type": "code",
   "execution_count": 32,
   "metadata": {},
   "outputs": [],
   "source": [
    "def E_effective_j(En,Evec,j):\n",
    "    \n",
    "    delta_j  = df_stats[\"v [X,SX,Y,SY]\"].iloc[j]\n",
    "    tau_j    = tau_pred[j]\n",
    "\n",
    "    return (En*tn_opt + 2*tl_opt*(np.dot(delta_j,Evec)))/tau_j\n",
    "\n",
    "def E_effective(En,Evec):\n",
    "    return np.array([E_effective_j(En,Evec,j) for j in range(len(df_stats))])\n"
   ]
  },
  {
   "cell_type": "code",
   "execution_count": 33,
   "metadata": {},
   "outputs": [
    {
     "name": "stdout",
     "output_type": "stream",
     "text": [
      "0.8\n"
     ]
    }
   ],
   "source": [
    "from validation.experimental import  nucleo\n",
    "E_nucleo_exp_Mpa = nucleo()[\"young modulus [MPa]\"]\n",
    "E_nucleo_exp = E_nucleo_exp_Mpa/1000\n",
    "print(E_nucleo_exp)"
   ]
  },
  {
   "cell_type": "code",
   "execution_count": 34,
   "metadata": {},
   "outputs": [],
   "source": [
    "def theta(x):\n",
    "    return 0.5*(np.sign(x)+1)\n",
    "\n",
    "relu = lambda x: x*theta(x)"
   ]
  },
  {
   "cell_type": "code",
   "execution_count": 35,
   "metadata": {},
   "outputs": [],
   "source": [
    "# minimize \n",
    "E_eff_exp = df_stats[\"Modulo (GPa)\"][\"mean\"].values\n",
    "\n",
    "def objective_E(En,Evec):\n",
    "    Loss_E   = sum((E_effective(En,Evec) - E_eff_exp)**2)\n",
    "\n",
    "    Emax = np.max(Evec)\n",
    "    lag_mult = 1e6*relu( En - Emax) # Asumimos que el nucleo es el material más blando que la capas E[0] -> X\n",
    "\n",
    "    return Loss_E + lag_mult\n",
    "\n",
    "x0 = np.random.rand(5)\n",
    "# \n",
    "# bounds = [  (E_nucleo_exp*0.9,1.1*E_nucleo_exp), # En\n",
    "#             (0.100,None), # Evec[0]   # X\n",
    "#             (0.100,None), # Evec[1]   # Y\n",
    "#             (0.100,None), # Evec[2]   # SX\n",
    "#             (0.100,None), # Evec[3]   # SY\n",
    "#             (0.9*t_nucleo_exp,1.1*t_nucleo_exp), # tn\n",
    "#             (0.25,2)  # tl\n",
    "#             ]\n",
    "\n",
    "# must be positive\n",
    "bounds = [(0,None)]*5\n",
    "minimizer_kwargs = {\"method\": \"L-BFGS-B\", \"bounds\": bounds}\n",
    "\n",
    "res = basinhopping(lambda x: objective_E(x[0],x[1:]),\n",
    "                x0, minimizer_kwargs=minimizer_kwargs,\n",
    "                niter=50)\n",
    "\n",
    "En_opt = res.x[0]\n",
    "Evec_opt = res.x[1:]\n",
    "\n",
    "\n",
    "E_eff_pred = E_effective(En_opt,Evec_opt)"
   ]
  },
  {
   "cell_type": "code",
   "execution_count": 36,
   "metadata": {},
   "outputs": [
    {
     "data": {
      "image/png": "[encoded data removed]",
      "text/plain": [
       "<Figure size 900x400 with 2 Axes>"
      ]
     },
     "metadata": {},
     "output_type": "display_data"
    },
    {
     "data": {
      "image/png": "[encoded data removed]",
      "text/plain": [
       "<Figure size 900x400 with 2 Axes>"
      ]
     },
     "metadata": {},
     "output_type": "display_data"
    }
   ],
   "source": [
    "from AnalyticalLayers.plot_E import plot_E\n",
    "from AnalyticalLayers.plt_thin import plt_thin\n",
    "\n",
    "plt_thin(df_stats, tau_exp, tau_pred, tn_opt, tl_opt)\n",
    "plot_E(df_stats, E_eff_exp, E_eff_pred, Evec_opt, En_opt)"
   ]
  },
  {
   "cell_type": "code",
   "execution_count": 37,
   "metadata": {},
   "outputs": [
    {
     "name": "stdout",
     "output_type": "stream",
     "text": [
      "Optimal En:  2.3513793777833274\n",
      "Optimal Evec:  [0.         0.         3.96206179 0.        ]\n",
      "Optimal tn:  2.9337\n",
      "Optimal tl:  0.47572956687980983\n"
     ]
    }
   ],
   "source": [
    "print(\"Optimal En: \", En_opt)\n",
    "print(\"Optimal Evec: \", Evec_opt)\n",
    "print(\"Optimal tn: \", tn_opt)\n",
    "print(\"Optimal tl: \", tl_opt)"
   ]
  },
  {
   "cell_type": "code",
   "execution_count": 38,
   "metadata": {},
   "outputs": [
    {
     "data": {
      "text/html": [
       "<div>\n",
       "<style scoped>\n",
       "    .dataframe tbody tr th:only-of-type {\n",
       "        vertical-align: middle;\n",
       "    }\n",
       "\n",
       "    .dataframe tbody tr th {\n",
       "        vertical-align: top;\n",
       "    }\n",
       "\n",
       "    .dataframe thead th {\n",
       "        text-align: right;\n",
       "    }\n",
       "</style>\n",
       "<table border=\"1\" class=\"dataframe\">\n",
       "  <thead>\n",
       "    <tr style=\"text-align: right;\">\n",
       "      <th></th>\n",
       "      <th>Evec [GPa]</th>\n",
       "    </tr>\n",
       "  </thead>\n",
       "  <tbody>\n",
       "    <tr>\n",
       "      <th>X</th>\n",
       "      <td>0.00</td>\n",
       "    </tr>\n",
       "    <tr>\n",
       "      <th>SX</th>\n",
       "      <td>0.00</td>\n",
       "    </tr>\n",
       "    <tr>\n",
       "      <th>Y</th>\n",
       "      <td>3.96</td>\n",
       "    </tr>\n",
       "    <tr>\n",
       "      <th>SY</th>\n",
       "      <td>0.00</td>\n",
       "    </tr>\n",
       "    <tr>\n",
       "      <th>Nucleo</th>\n",
       "      <td>2.35</td>\n",
       "    </tr>\n",
       "  </tbody>\n",
       "</table>\n",
       "</div>"
      ],
      "text/plain": [
       "        Evec [GPa]\n",
       "X             0.00\n",
       "SX            0.00\n",
       "Y             3.96\n",
       "SY            0.00\n",
       "Nucleo        2.35"
      ]
     },
     "execution_count": 38,
     "metadata": {},
     "output_type": "execute_result"
    }
   ],
   "source": [
    "df_layers = pd.DataFrame({\"Evec [GPa]\": Evec_opt}, index=[\"X\",\"SX\",\"Y\",\"SY\"])\n",
    "# add nuclueo\n",
    "df_layers.loc[\"Nucleo\"] = [En_opt]\n",
    "df_layers.round(2)"
   ]
  },
  {
   "cell_type": "code",
   "execution_count": 39,
   "metadata": {},
   "outputs": [
    {
     "data": {
      "text/html": [
       "<div>\n",
       "<style scoped>\n",
       "    .dataframe tbody tr th:only-of-type {\n",
       "        vertical-align: middle;\n",
       "    }\n",
       "\n",
       "    .dataframe tbody tr th {\n",
       "        vertical-align: top;\n",
       "    }\n",
       "\n",
       "    .dataframe thead th {\n",
       "        text-align: right;\n",
       "    }\n",
       "</style>\n",
       "<table border=\"1\" class=\"dataframe\">\n",
       "  <thead>\n",
       "    <tr style=\"text-align: right;\">\n",
       "      <th></th>\n",
       "      <th>t [mm]</th>\n",
       "    </tr>\n",
       "  </thead>\n",
       "  <tbody>\n",
       "    <tr>\n",
       "      <th>Nucleo</th>\n",
       "      <td>2.93</td>\n",
       "    </tr>\n",
       "    <tr>\n",
       "      <th>Capas</th>\n",
       "      <td>0.48</td>\n",
       "    </tr>\n",
       "  </tbody>\n",
       "</table>\n",
       "</div>"
      ],
      "text/plain": [
       "        t [mm]\n",
       "Nucleo    2.93\n",
       "Capas     0.48"
      ]
     },
     "execution_count": 39,
     "metadata": {},
     "output_type": "execute_result"
    }
   ],
   "source": [
    "df_thickness = pd.DataFrame({\"t [mm]\": [tn_opt, tl_opt]}, index=[\"Nucleo\",\"Capas\"])\n",
    "\n",
    "df_thickness.round(2)"
   ]
  },
  {
   "cell_type": "code",
   "execution_count": 40,
   "metadata": {},
   "outputs": [
    {
     "data": {
      "text/html": [
       "<div>\n",
       "<style scoped>\n",
       "    .dataframe tbody tr th:only-of-type {\n",
       "        vertical-align: middle;\n",
       "    }\n",
       "\n",
       "    .dataframe tbody tr th {\n",
       "        vertical-align: top;\n",
       "    }\n",
       "\n",
       "    .dataframe thead th {\n",
       "        text-align: right;\n",
       "    }\n",
       "</style>\n",
       "<table border=\"1\" class=\"dataframe\">\n",
       "  <thead>\n",
       "    <tr style=\"text-align: right;\">\n",
       "      <th></th>\n",
       "      <th>Name</th>\n",
       "      <th>E pred [GPa]</th>\n",
       "      <th>E exp [GPa]</th>\n",
       "      <th>E e rel [%]</th>\n",
       "      <th>t pred [mm]</th>\n",
       "      <th>t exp [mm]</th>\n",
       "      <th>t e rel [%]</th>\n",
       "    </tr>\n",
       "  </thead>\n",
       "  <tbody>\n",
       "    <tr>\n",
       "      <th>0</th>\n",
       "      <td>TFP1</td>\n",
       "      <td>2.75</td>\n",
       "      <td>2.89</td>\n",
       "      <td>4.84</td>\n",
       "      <td>3.89</td>\n",
       "      <td>5.27</td>\n",
       "      <td>26.23</td>\n",
       "    </tr>\n",
       "    <tr>\n",
       "      <th>1</th>\n",
       "      <td>TFP2</td>\n",
       "      <td>2.21</td>\n",
       "      <td>2.26</td>\n",
       "      <td>2.34</td>\n",
       "      <td>4.84</td>\n",
       "      <td>4.70</td>\n",
       "      <td>2.91</td>\n",
       "    </tr>\n",
       "    <tr>\n",
       "      <th>2</th>\n",
       "      <td>TFP3</td>\n",
       "      <td>2.21</td>\n",
       "      <td>2.00</td>\n",
       "      <td>10.26</td>\n",
       "      <td>4.84</td>\n",
       "      <td>4.83</td>\n",
       "      <td>0.07</td>\n",
       "    </tr>\n",
       "    <tr>\n",
       "      <th>3</th>\n",
       "      <td>TFP4</td>\n",
       "      <td>2.21</td>\n",
       "      <td>2.45</td>\n",
       "      <td>10.02</td>\n",
       "      <td>4.84</td>\n",
       "      <td>4.70</td>\n",
       "      <td>2.91</td>\n",
       "    </tr>\n",
       "    <tr>\n",
       "      <th>4</th>\n",
       "      <td>TFP5</td>\n",
       "      <td>1.84</td>\n",
       "      <td>1.63</td>\n",
       "      <td>13.31</td>\n",
       "      <td>5.79</td>\n",
       "      <td>5.70</td>\n",
       "      <td>1.55</td>\n",
       "    </tr>\n",
       "  </tbody>\n",
       "</table>\n",
       "</div>"
      ],
      "text/plain": [
       "   Name  E pred [GPa]  E exp [GPa]  E e rel [%]  t pred [mm]  t exp [mm]  \\\n",
       "0  TFP1          2.75         2.89         4.84         3.89        5.27   \n",
       "1  TFP2          2.21         2.26         2.34         4.84        4.70   \n",
       "2  TFP3          2.21         2.00        10.26         4.84        4.83   \n",
       "3  TFP4          2.21         2.45        10.02         4.84        4.70   \n",
       "4  TFP5          1.84         1.63        13.31         5.79        5.70   \n",
       "\n",
       "   t e rel [%]  \n",
       "0        26.23  \n",
       "1         2.91  \n",
       "2         0.07  \n",
       "3         2.91  \n",
       "4         1.55  "
      ]
     },
     "execution_count": 40,
     "metadata": {},
     "output_type": "execute_result"
    }
   ],
   "source": [
    "df_pred = {\n",
    "    \"Name\"          : df_stats.index,\n",
    "    \"E pred [GPa]\"  : E_eff_pred,\n",
    "    \"E exp [GPa]\"   : E_eff_exp,\n",
    "    \"E e rel [%]\"   : 100*abs(E_eff_exp - E_eff_pred)/E_eff_exp,\n",
    "    \"t pred [mm]\"   : tau_pred,\n",
    "    \"t exp [mm]\"    : tau_exp,\n",
    "    \"t e rel [%]\"   : 100*abs(tau_exp - tau_pred)/tau_exp\n",
    "}\n",
    "df_pred = pd.DataFrame(df_pred)\n",
    "# decimals\n",
    "df_pred = df_pred.round(2)\n",
    "df_pred.head()"
   ]
  },
  {
   "cell_type": "code",
   "execution_count": 41,
   "metadata": {},
   "outputs": [],
   "source": [
    "Em_error = np.mean(df_pred[\"E e rel [%]\"])\n",
    "tm_error = np.mean(df_pred[\"t e rel [%]\"])\n",
    "\n",
    "from loadsavejson.savejson import savejson\n",
    "\n",
    "savejson({\"layers\":df_layers, \n",
    "            \"errors\": {\"E\":Em_error, \"t\":tm_error},\n",
    "          \"thickness\":df_thickness},\n",
    "          \"df_opt_fix_thin.json\")"
   ]
  },
  {
   "cell_type": "code",
   "execution_count": null,
   "metadata": {},
   "outputs": [],
   "source": []
  }
 ],
 "metadata": {
  "kernelspec": {
   "display_name": ".conda",
   "language": "python",
   "name": "python3"
  },
  "language_info": {
   "codemirror_mode": {
    "name": "ipython",
    "version": 3
   },
   "file_extension": ".py",
   "mimetype": "text/x-python",
   "name": "python",
   "nbconvert_exporter": "python",
   "pygments_lexer": "ipython3",
   "version": "3.11.10"
  }
 },
 "nbformat": 4,
 "nbformat_minor": 2
}
