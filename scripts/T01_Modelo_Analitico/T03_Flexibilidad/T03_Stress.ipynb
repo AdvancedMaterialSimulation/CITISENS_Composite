{
 "cells": [
  {
   "cell_type": "code",
   "execution_count": 1,
   "metadata": {},
   "outputs": [],
   "source": [
    "import numpy as np"
   ]
  },
  {
   "cell_type": "code",
   "execution_count": 2,
   "metadata": {},
   "outputs": [],
   "source": [
    "El_dict = { \"X\" :None, \n",
    "            \"SX\":None, \n",
    "            \"Y\" :None, \n",
    "            \"SY\":None}\n",
    "\n",
    "Sl_dict = { \"X\" :None,\n",
    "            \"SX\":None,\n",
    "            \"Y\" :None,\n",
    "            \"SY\":None}\n",
    "\n",
    "def Rotura(layers,E_eff,El,sigmal):\n",
    "\n",
    "    El_dict[\"X\"]  = El[0]\n",
    "    El_dict[\"SX\"] = El[1]\n",
    "    El_dict[\"Y\"]  = El[2]\n",
    "    El_dict[\"SY\"] = El[3]\n",
    "\n",
    "    El_s = np.array([ El_dict[ily] for ily in layers] )\n",
    "\n",
    "\n",
    "    Sl_dict[\"X\"]  = sigmal[0]\n",
    "    Sl_dict[\"SX\"] = sigmal[1]\n",
    "    Sl_dict[\"Y\"]  = sigmal[2]\n",
    "    Sl_dict[\"SY\"] = sigmal[3]\n",
    "\n",
    "    Sl_s = np.array([ Sl_dict[ily] for ily in layers] )\n",
    "\n",
    "    return E_eff*np.min(Sl_s/El_s)\n"
   ]
  },
  {
   "cell_type": "code",
   "execution_count": 3,
   "metadata": {},
   "outputs": [],
   "source": [
    "composition = [\n",
    "        [\"Y\", \"Y\"],\n",
    "        [\"Y\", \"X\"],\n",
    "        [\"Y\", \"SX\"],\n",
    "        [\"Y\", \"SY\"],\n",
    "        [\"Y\", \"SX\" , \"SY\"],\n",
    "        [\"Y\", \"X\"  , \"SY\"]\n",
    "    ]"
   ]
  },
  {
   "cell_type": "code",
   "execution_count": 4,
   "metadata": {},
   "outputs": [],
   "source": [
    "import pandas as pd"
   ]
  },
  {
   "cell_type": "code",
   "execution_count": 5,
   "metadata": {},
   "outputs": [],
   "source": [
    "df_pred = pd.read_csv(\"df_pred.csv\")\n",
    "df_opt = pd.read_csv(\"df_opt.csv\")"
   ]
  },
  {
   "cell_type": "code",
   "execution_count": 6,
   "metadata": {},
   "outputs": [
    {
     "data": {
      "text/html": [
       "<div>\n",
       "<style scoped>\n",
       "    .dataframe tbody tr th:only-of-type {\n",
       "        vertical-align: middle;\n",
       "    }\n",
       "\n",
       "    .dataframe tbody tr th {\n",
       "        vertical-align: top;\n",
       "    }\n",
       "\n",
       "    .dataframe thead th {\n",
       "        text-align: right;\n",
       "    }\n",
       "</style>\n",
       "<table border=\"1\" class=\"dataframe\">\n",
       "  <thead>\n",
       "    <tr style=\"text-align: right;\">\n",
       "      <th></th>\n",
       "      <th>Name</th>\n",
       "      <th>t [mm]</th>\n",
       "      <th>Et [GPa]</th>\n",
       "      <th>Eb [GPa]</th>\n",
       "      <th>Vc</th>\n",
       "    </tr>\n",
       "  </thead>\n",
       "  <tbody>\n",
       "    <tr>\n",
       "      <th>0</th>\n",
       "      <td>TFP1</td>\n",
       "      <td>4.726522</td>\n",
       "      <td>3.087119</td>\n",
       "      <td>4.768723</td>\n",
       "      <td>0.173492</td>\n",
       "    </tr>\n",
       "    <tr>\n",
       "      <th>1</th>\n",
       "      <td>TFP2</td>\n",
       "      <td>4.726522</td>\n",
       "      <td>2.082566</td>\n",
       "      <td>2.455439</td>\n",
       "      <td>0.173492</td>\n",
       "    </tr>\n",
       "    <tr>\n",
       "      <th>2</th>\n",
       "      <td>TFP3</td>\n",
       "      <td>4.726522</td>\n",
       "      <td>1.943916</td>\n",
       "      <td>2.136157</td>\n",
       "      <td>0.136315</td>\n",
       "    </tr>\n",
       "    <tr>\n",
       "      <th>3</th>\n",
       "      <td>TFP4</td>\n",
       "      <td>4.726522</td>\n",
       "      <td>2.003145</td>\n",
       "      <td>2.272549</td>\n",
       "      <td>0.136315</td>\n",
       "    </tr>\n",
       "    <tr>\n",
       "      <th>4</th>\n",
       "      <td>TFP5</td>\n",
       "      <td>5.926522</td>\n",
       "      <td>1.760267</td>\n",
       "      <td>1.594509</td>\n",
       "      <td>0.148246</td>\n",
       "    </tr>\n",
       "    <tr>\n",
       "      <th>5</th>\n",
       "      <td>TFP6</td>\n",
       "      <td>5.926522</td>\n",
       "      <td>1.870843</td>\n",
       "      <td>1.756466</td>\n",
       "      <td>0.177895</td>\n",
       "    </tr>\n",
       "  </tbody>\n",
       "</table>\n",
       "</div>"
      ],
      "text/plain": [
       "   Name    t [mm]  Et [GPa]  Eb [GPa]        Vc\n",
       "0  TFP1  4.726522  3.087119  4.768723  0.173492\n",
       "1  TFP2  4.726522  2.082566  2.455439  0.173492\n",
       "2  TFP3  4.726522  1.943916  2.136157  0.136315\n",
       "3  TFP4  4.726522  2.003145  2.272549  0.136315\n",
       "4  TFP5  5.926522  1.760267  1.594509  0.148246\n",
       "5  TFP6  5.926522  1.870843  1.756466  0.177895"
      ]
     },
     "execution_count": 6,
     "metadata": {},
     "output_type": "execute_result"
    }
   ],
   "source": [
    "df_pred"
   ]
  },
  {
   "cell_type": "code",
   "execution_count": 7,
   "metadata": {},
   "outputs": [
    {
     "data": {
      "text/html": [
       "<div>\n",
       "<style scoped>\n",
       "    .dataframe tbody tr th:only-of-type {\n",
       "        vertical-align: middle;\n",
       "    }\n",
       "\n",
       "    .dataframe tbody tr th {\n",
       "        vertical-align: top;\n",
       "    }\n",
       "\n",
       "    .dataframe thead th {\n",
       "        text-align: right;\n",
       "    }\n",
       "</style>\n",
       "<table border=\"1\" class=\"dataframe\">\n",
       "  <thead>\n",
       "    <tr style=\"text-align: right;\">\n",
       "      <th></th>\n",
       "      <th>Variable</th>\n",
       "      <th>x</th>\n",
       "      <th>unit</th>\n",
       "    </tr>\n",
       "  </thead>\n",
       "  <tbody>\n",
       "    <tr>\n",
       "      <th>0</th>\n",
       "      <td>r</td>\n",
       "      <td>0.305321</td>\n",
       "      <td>mm</td>\n",
       "    </tr>\n",
       "    <tr>\n",
       "      <th>1</th>\n",
       "      <td>tn</td>\n",
       "      <td>2.326522</td>\n",
       "      <td>mm</td>\n",
       "    </tr>\n",
       "    <tr>\n",
       "      <th>2</th>\n",
       "      <td>tl</td>\n",
       "      <td>0.600000</td>\n",
       "      <td>mm</td>\n",
       "    </tr>\n",
       "    <tr>\n",
       "      <th>3</th>\n",
       "      <td>En</td>\n",
       "      <td>0.797711</td>\n",
       "      <td>GPa</td>\n",
       "    </tr>\n",
       "    <tr>\n",
       "      <th>4</th>\n",
       "      <td>EX</td>\n",
       "      <td>1.349734</td>\n",
       "      <td>GPa</td>\n",
       "    </tr>\n",
       "    <tr>\n",
       "      <th>5</th>\n",
       "      <td>ESX</td>\n",
       "      <td>0.803624</td>\n",
       "      <td>GPa</td>\n",
       "    </tr>\n",
       "    <tr>\n",
       "      <th>6</th>\n",
       "      <td>EY</td>\n",
       "      <td>5.306436</td>\n",
       "      <td>GPa</td>\n",
       "    </tr>\n",
       "    <tr>\n",
       "      <th>7</th>\n",
       "      <td>ESY</td>\n",
       "      <td>1.036913</td>\n",
       "      <td>GPa</td>\n",
       "    </tr>\n",
       "  </tbody>\n",
       "</table>\n",
       "</div>"
      ],
      "text/plain": [
       "  Variable         x unit\n",
       "0        r  0.305321   mm\n",
       "1       tn  2.326522   mm\n",
       "2       tl  0.600000   mm\n",
       "3       En  0.797711  GPa\n",
       "4       EX  1.349734  GPa\n",
       "5      ESX  0.803624  GPa\n",
       "6       EY  5.306436  GPa\n",
       "7      ESY  1.036913  GPa"
      ]
     },
     "execution_count": 7,
     "metadata": {},
     "output_type": "execute_result"
    }
   ],
   "source": [
    "df_opt"
   ]
  },
  {
   "cell_type": "code",
   "execution_count": 8,
   "metadata": {},
   "outputs": [
    {
     "data": {
      "text/plain": [
       "[np.float64(151.71285019887162),\n",
       " np.float64(113.71234336080734),\n",
       " np.float64(102.14525722538826),\n",
       " np.float64(128.43408935134073),\n",
       " np.float64(85.49128207359739),\n",
       " np.float64(91.47462026546415)]"
      ]
     },
     "execution_count": 8,
     "metadata": {},
     "output_type": "execute_result"
    }
   ],
   "source": [
    "sigmal = [102,70,279,150]\n",
    "# El     = [1440,1000,2885,2000]\n",
    "El = df_opt[4:][\"x\"].values*1e3\n",
    "E_eff_exp = [ 2885.5 , 2162.75 , 1942.75, 2442.75 , 1626, 1739.8]\n",
    "\n",
    "[ Rotura(c,E_eff_exp[i],El,sigmal) for i,c in enumerate(composition)]"
   ]
  },
  {
   "cell_type": "code",
   "execution_count": 9,
   "metadata": {},
   "outputs": [
    {
     "data": {
      "text/plain": [
       "[np.float64(279.0483535528596),\n",
       " np.float64(153.19479166666667),\n",
       " np.float64(135.9925),\n",
       " np.float64(183.20624999999998),\n",
       " np.float64(113.82000000000001),\n",
       " np.float64(123.23583333333333)]"
      ]
     },
     "execution_count": 9,
     "metadata": {},
     "output_type": "execute_result"
    }
   ],
   "source": [
    "sigmal = [102,70,279,150]\n",
    "El     = [1440,1000,2885,2000]\n",
    "# El = df_opt[4:][\"x\"].values\n",
    "E_eff_exp = [ 2885.5 , 2162.75 , 1942.75, 2442.75 , 1626, 1739.8]\n",
    "\n",
    "[ Rotura(c,E_eff_exp[i],El,sigmal) for i,c in enumerate(composition)]"
   ]
  },
  {
   "cell_type": "code",
   "execution_count": null,
   "metadata": {},
   "outputs": [],
   "source": []
  }
 ],
 "metadata": {
  "kernelspec": {
   "display_name": "Python 3",
   "language": "python",
   "name": "python3"
  },
  "language_info": {
   "codemirror_mode": {
    "name": "ipython",
    "version": 3
   },
   "file_extension": ".py",
   "mimetype": "text/x-python",
   "name": "python",
   "nbconvert_exporter": "python",
   "pygments_lexer": "ipython3",
   "version": "3.13.2"
  }
 },
 "nbformat": 4,
 "nbformat_minor": 2
}
