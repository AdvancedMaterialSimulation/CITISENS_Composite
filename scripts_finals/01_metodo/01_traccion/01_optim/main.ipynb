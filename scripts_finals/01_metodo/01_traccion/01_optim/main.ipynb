{
 "cells": [
  {
   "cell_type": "code",
   "execution_count": 1,
   "metadata": {},
   "outputs": [],
   "source": [
    "from validation.TensileExperimental import TensileExperimental\n",
    "import numpy as np\n",
    "from scipy.optimize import minimize,basinhopping\n",
    "import pandas as pd"
   ]
  },
  {
   "cell_type": "code",
   "execution_count": 2,
   "metadata": {},
   "outputs": [
    {
     "name": "stderr",
     "output_type": "stream",
     "text": [
      "C:\\Users\\djoroya\\AppData\\Local\\Temp\\ipykernel_21168\\4098736568.py:8: SettingWithCopyWarning: \n",
      "A value is trying to be set on a copy of a slice from a DataFrame\n",
      "\n",
      "See the caveats in the documentation: https://pandas.pydata.org/pandas-docs/stable/user_guide/indexing.html#returning-a-view-versus-a-copy\n",
      "  layers[0] = [\"Y\",\"Y\"]\n",
      "C:\\Users\\djoroya\\AppData\\Local\\Temp\\ipykernel_21168\\4098736568.py:8: FutureWarning: Series.__setitem__ treating keys as positions is deprecated. In a future version, integer keys will always be treated as labels (consistent with DataFrame behavior). To set a value by position, use `ser.iloc[pos] = value`\n",
      "  layers[0] = [\"Y\",\"Y\"]\n",
      "C:\\Users\\djoroya\\AppData\\Local\\Temp\\ipykernel_21168\\4098736568.py:12: SettingWithCopyWarning: \n",
      "A value is trying to be set on a copy of a slice from a DataFrame\n",
      "\n",
      "See the caveats in the documentation: https://pandas.pydata.org/pandas-docs/stable/user_guide/indexing.html#returning-a-view-versus-a-copy\n",
      "  ni[0] = 2\n",
      "C:\\Users\\djoroya\\AppData\\Local\\Temp\\ipykernel_21168\\4098736568.py:12: FutureWarning: Series.__setitem__ treating keys as positions is deprecated. In a future version, integer keys will always be treated as labels (consistent with DataFrame behavior). To set a value by position, use `ser.iloc[pos] = value`\n",
      "  ni[0] = 2\n",
      "C:\\Users\\djoroya\\AppData\\Local\\Temp\\ipykernel_21168\\4098736568.py:16: SettingWithCopyWarning: \n",
      "A value is trying to be set on a copy of a slice from a DataFrame\n",
      "\n",
      "See the caveats in the documentation: https://pandas.pydata.org/pandas-docs/stable/user_guide/indexing.html#returning-a-view-versus-a-copy\n",
      "  delta[0] = [0,0,2,0]\n",
      "C:\\Users\\djoroya\\AppData\\Local\\Temp\\ipykernel_21168\\4098736568.py:16: FutureWarning: Series.__setitem__ treating keys as positions is deprecated. In a future version, integer keys will always be treated as labels (consistent with DataFrame behavior). To set a value by position, use `ser.iloc[pos] = value`\n",
      "  delta[0] = [0,0,2,0]\n"
     ]
    }
   ],
   "source": [
    "r = TensileExperimental()\n",
    "\n",
    "df       = r[\"df\"]\n",
    "df_stats = r[\"df_stats\"]\n",
    "\n",
    "# Get the data\n",
    "layers = df_stats[\"layers\"]\n",
    "layers[0] = [\"Y\",\"Y\"]\n",
    "df_stats[\"layers\"] = layers\n",
    "\n",
    "ni = df_stats[\"ni\"]\n",
    "ni[0] = 2\n",
    "df_stats[\"ni\"] = ni\n",
    "\n",
    "delta = df_stats[\"v [X,SX,Y,SY]\"]\n",
    "delta[0] = [0,0,2,0]\n",
    "df_stats[\"v [X,SX,Y,SY]\"] = delta"
   ]
  },
  {
   "cell_type": "code",
   "execution_count": 3,
   "metadata": {},
   "outputs": [
    {
     "data": {
      "text/html": [
       "<div>\n",
       "<style scoped>\n",
       "    .dataframe tbody tr th:only-of-type {\n",
       "        vertical-align: middle;\n",
       "    }\n",
       "\n",
       "    .dataframe tbody tr th {\n",
       "        vertical-align: top;\n",
       "    }\n",
       "\n",
       "    .dataframe thead tr th {\n",
       "        text-align: left;\n",
       "    }\n",
       "\n",
       "    .dataframe thead tr:last-of-type th {\n",
       "        text-align: right;\n",
       "    }\n",
       "</style>\n",
       "<table border=\"1\" class=\"dataframe\">\n",
       "  <thead>\n",
       "    <tr>\n",
       "      <th></th>\n",
       "      <th colspan=\"2\" halign=\"left\">Et [GPa]</th>\n",
       "      <th colspan=\"2\" halign=\"left\">t [mm]</th>\n",
       "      <th colspan=\"2\" halign=\"left\">% e</th>\n",
       "      <th colspan=\"2\" halign=\"left\">St [MPa]</th>\n",
       "      <th>layers</th>\n",
       "      <th>v [X,SX,Y,SY]</th>\n",
       "      <th>ni</th>\n",
       "    </tr>\n",
       "    <tr>\n",
       "      <th></th>\n",
       "      <th>mean</th>\n",
       "      <th>std</th>\n",
       "      <th>mean</th>\n",
       "      <th>std</th>\n",
       "      <th>mean</th>\n",
       "      <th>std</th>\n",
       "      <th>mean</th>\n",
       "      <th>std</th>\n",
       "      <th></th>\n",
       "      <th></th>\n",
       "      <th></th>\n",
       "    </tr>\n",
       "    <tr>\n",
       "      <th>Name</th>\n",
       "      <th></th>\n",
       "      <th></th>\n",
       "      <th></th>\n",
       "      <th></th>\n",
       "      <th></th>\n",
       "      <th></th>\n",
       "      <th></th>\n",
       "      <th></th>\n",
       "      <th></th>\n",
       "      <th></th>\n",
       "      <th></th>\n",
       "    </tr>\n",
       "  </thead>\n",
       "  <tbody>\n",
       "    <tr>\n",
       "      <th>TFP1</th>\n",
       "      <td>2.89</td>\n",
       "      <td>0.23</td>\n",
       "      <td>5.27</td>\n",
       "      <td>0.06</td>\n",
       "      <td>0.12</td>\n",
       "      <td>0.01</td>\n",
       "      <td>279.10</td>\n",
       "      <td>14.34</td>\n",
       "      <td>[Y, Y]</td>\n",
       "      <td>[0, 0, 2, 0]</td>\n",
       "      <td>2</td>\n",
       "    </tr>\n",
       "    <tr>\n",
       "      <th>TFP2</th>\n",
       "      <td>2.26</td>\n",
       "      <td>0.07</td>\n",
       "      <td>4.70</td>\n",
       "      <td>0.00</td>\n",
       "      <td>0.09</td>\n",
       "      <td>0.00</td>\n",
       "      <td>153.36</td>\n",
       "      <td>0.47</td>\n",
       "      <td>[Y, X]</td>\n",
       "      <td>[1, 0, 1, 0]</td>\n",
       "      <td>2</td>\n",
       "    </tr>\n",
       "    <tr>\n",
       "      <th>TFP3</th>\n",
       "      <td>2.00</td>\n",
       "      <td>0.00</td>\n",
       "      <td>4.83</td>\n",
       "      <td>0.06</td>\n",
       "      <td>0.09</td>\n",
       "      <td>0.00</td>\n",
       "      <td>137.11</td>\n",
       "      <td>5.00</td>\n",
       "      <td>[Y, SX]</td>\n",
       "      <td>[0, 1, 1, 0]</td>\n",
       "      <td>2</td>\n",
       "    </tr>\n",
       "    <tr>\n",
       "      <th>TFP4</th>\n",
       "      <td>2.45</td>\n",
       "      <td>0.11</td>\n",
       "      <td>4.70</td>\n",
       "      <td>0.00</td>\n",
       "      <td>0.10</td>\n",
       "      <td>0.01</td>\n",
       "      <td>184.40</td>\n",
       "      <td>1.36</td>\n",
       "      <td>[Y, SY]</td>\n",
       "      <td>[0, 0, 1, 1]</td>\n",
       "      <td>2</td>\n",
       "    </tr>\n",
       "    <tr>\n",
       "      <th>TFP5</th>\n",
       "      <td>1.63</td>\n",
       "      <td>0.12</td>\n",
       "      <td>5.70</td>\n",
       "      <td>0.00</td>\n",
       "      <td>0.09</td>\n",
       "      <td>0.01</td>\n",
       "      <td>99.99</td>\n",
       "      <td>9.79</td>\n",
       "      <td>[Y, SX, SY]</td>\n",
       "      <td>[0, 1, 1, 1]</td>\n",
       "      <td>3</td>\n",
       "    </tr>\n",
       "    <tr>\n",
       "      <th>TFP6</th>\n",
       "      <td>1.74</td>\n",
       "      <td>0.07</td>\n",
       "      <td>5.60</td>\n",
       "      <td>0.00</td>\n",
       "      <td>0.09</td>\n",
       "      <td>0.01</td>\n",
       "      <td>104.51</td>\n",
       "      <td>7.71</td>\n",
       "      <td>[Y, X, SY]</td>\n",
       "      <td>[1, 0, 1, 1]</td>\n",
       "      <td>3</td>\n",
       "    </tr>\n",
       "  </tbody>\n",
       "</table>\n",
       "</div>"
      ],
      "text/plain": [
       "     Et [GPa]       t [mm]         % e       St [MPa]              layers  \\\n",
       "         mean   std   mean   std  mean   std     mean    std                \n",
       "Name                                                                        \n",
       "TFP1     2.89  0.23   5.27  0.06  0.12  0.01   279.10  14.34       [Y, Y]   \n",
       "TFP2     2.26  0.07   4.70  0.00  0.09  0.00   153.36   0.47       [Y, X]   \n",
       "TFP3     2.00  0.00   4.83  0.06  0.09  0.00   137.11   5.00      [Y, SX]   \n",
       "TFP4     2.45  0.11   4.70  0.00  0.10  0.01   184.40   1.36      [Y, SY]   \n",
       "TFP5     1.63  0.12   5.70  0.00  0.09  0.01    99.99   9.79  [Y, SX, SY]   \n",
       "TFP6     1.74  0.07   5.60  0.00  0.09  0.01   104.51   7.71   [Y, X, SY]   \n",
       "\n",
       "     v [X,SX,Y,SY] ni  \n",
       "                       \n",
       "Name                   \n",
       "TFP1  [0, 0, 2, 0]  2  \n",
       "TFP2  [1, 0, 1, 0]  2  \n",
       "TFP3  [0, 1, 1, 0]  2  \n",
       "TFP4  [0, 0, 1, 1]  2  \n",
       "TFP5  [0, 1, 1, 1]  3  \n",
       "TFP6  [1, 0, 1, 1]  3  "
      ]
     },
     "execution_count": 3,
     "metadata": {},
     "output_type": "execute_result"
    }
   ],
   "source": [
    "df_stats.round(2)"
   ]
  },
  {
   "cell_type": "code",
   "execution_count": 4,
   "metadata": {},
   "outputs": [
    {
     "data": {
      "text/plain": [
       "0.8"
      ]
     },
     "execution_count": 4,
     "metadata": {},
     "output_type": "execute_result"
    }
   ],
   "source": [
    "12/15"
   ]
  },
  {
   "cell_type": "code",
   "execution_count": 5,
   "metadata": {},
   "outputs": [],
   "source": [
    "# from validation.TensileExperimental import TensilePlotData\n",
    "\n",
    "# TensilePlotData(df_stats)"
   ]
  },
  {
   "cell_type": "code",
   "execution_count": 6,
   "metadata": {},
   "outputs": [],
   "source": [
    "# only thin \n",
    "\n",
    "ni = df_stats[\"ni\"].values\n",
    "tau_exp = df_stats[\"t [mm]\"][\"mean\"].values\n",
    "\n",
    "tau_pred_fcn = lambda tn,tl: tn + 2*tl*ni"
   ]
  },
  {
   "cell_type": "code",
   "execution_count": 7,
   "metadata": {},
   "outputs": [
    {
     "name": "stdout",
     "output_type": "stream",
     "text": [
      "0.8\n"
     ]
    }
   ],
   "source": [
    "from validation.experimental import  nucleo\n",
    "E_nucleo_exp_Mpa = nucleo()[\"young modulus [MPa]\"]\n",
    "E_nucleo_exp = E_nucleo_exp_Mpa/1000\n",
    "print(E_nucleo_exp)"
   ]
  },
  {
   "cell_type": "code",
   "execution_count": 8,
   "metadata": {},
   "outputs": [],
   "source": [
    "from validation.experimental import manual_data\n",
    "\n",
    "t_nucleo_exp = manual_data()[\"t_nucleo [mm]\"]"
   ]
  },
  {
   "cell_type": "code",
   "execution_count": 9,
   "metadata": {},
   "outputs": [],
   "source": [
    "# # min square error\n",
    "\n",
    "\n",
    "# def objective(tn,tl):\n",
    "#     return sum(((tau_pred_fcn(tn,tl) - tau_exp)/tau_exp )**2)\n",
    "\n",
    "# x0 = [0,0]\n",
    "# #\n",
    "# x0 = 2*np.random.rand(2)\n",
    "\n",
    "# bound  = [(0.95*t_nucleo_exp, t_nucleo_exp*1.05), # tn\n",
    "#           (0, None)] # tl\n",
    "\n",
    "\n",
    "\n",
    "\n",
    "tn_opt = 2.934\n",
    "tl_opt = 0.475\n",
    "\n"
   ]
  },
  {
   "cell_type": "code",
   "execution_count": 10,
   "metadata": {},
   "outputs": [
    {
     "name": "stdout",
     "output_type": "stream",
     "text": [
      "Optimal tn:  2.934\n",
      "Optimal tl:  0.475\n"
     ]
    }
   ],
   "source": [
    "print(\"Optimal tn: \", tn_opt)\n",
    "print(\"Optimal tl: \", tl_opt)\n",
    "\n",
    "tau_pred = tau_pred_fcn(tn_opt,tl_opt)"
   ]
  },
  {
   "cell_type": "code",
   "execution_count": 11,
   "metadata": {},
   "outputs": [],
   "source": [
    "# # Tau predicted\n",
    "# print(\"Tau predicted: \", tau_pred)\n",
    "# print(\"Tau experimental: \", tau_exp)\n",
    "\n",
    "# df_exp = pd.DataFrame({\"tau_exp\": tau_exp, \"tau_pred\": tau_pred})\n",
    "# df_exp[\"error [%]\"] = 100*abs(df_exp[\"tau_exp\"] - df_exp[\"tau_pred\"]) / df_exp[\"tau_exp\"]\n",
    "# # round to 2 decimals\n",
    "# df_exp = df_exp.round(2)\n",
    "# df_exp"
   ]
  },
  {
   "cell_type": "code",
   "execution_count": 12,
   "metadata": {},
   "outputs": [],
   "source": [
    "\n",
    "def modelSY(E_Resina,E_Carbon):\n",
    "    return 0.00e+00 + \\\n",
    "           1.70e+00*E_Resina + \\\n",
    "           1.56e-02*E_Carbon - \\\n",
    "           4.74e-02*E_Resina**2 + \\\n",
    "           4.10e-03*E_Resina*E_Carbon - \\\n",
    "           9.11e-05*E_Carbon**2\n",
    "\n",
    "def modelSX(E_resina, E_carbon):\n",
    "    return 0.00e+00 + \\\n",
    "           1.59e+00*E_resina + \\\n",
    "           1.08e-02*E_carbon - \\\n",
    "           3.96e-02*E_resina**2 + \\\n",
    "           3.45e-03*E_resina*E_carbon - \\\n",
    "           7.69e-05*E_carbon**2\n",
    "\n",
    "def ModelY(E_resina,E_carbon):\n",
    "    v_frac = 46.02479330854317/100\n",
    "    E = (1- v_frac)*E_resina + v_frac*E_carbon\n",
    "    return E\n",
    "\n",
    "def ModelX(E_resina,E_carbon):\n",
    "    t_l = 0.475 #  Espesor de la capa [mm]\n",
    "    A_s = 0.2987243687021827 # mm^2\n",
    "    L =10 # mm\n",
    "    r = 3*t_l/8 \n",
    "    d = (A_s - np.pi*r**2)/(2*r) # Area de la capa [mm^2]\n",
    "\n",
    "    f_c = 6*(d+2*r)/L\n",
    "    E_h = 1/(f_c/E_carbon + (1-f_c)/E_resina)\n",
    "    E = (2*E_resina*(t_l - 2*r) + 2*E_h*r)/t_l\n",
    "    return E"
   ]
  },
  {
   "cell_type": "code",
   "execution_count": 13,
   "metadata": {},
   "outputs": [],
   "source": [
    "def E_effective_j(En,Eresina,Efibra,j):\n",
    "    \n",
    "\n",
    "\n",
    "    delta_j  = df_stats[\"v [X,SX,Y,SY]\"].iloc[j]\n",
    "    \n",
    "    tau_j    = tau_pred[j]\n",
    "\n",
    "    layers = df_stats[\"layers\"].iloc[j]\n",
    "    # unique \n",
    "    layers = list(dict.fromkeys(layers))\n",
    "    \n",
    "    E_SX = modelSX(Eresina,Efibra)\n",
    "    E_SY = modelSY(Eresina,Efibra)\n",
    "    E_X  = ModelX(Eresina,Efibra)\n",
    "    E_Y  = ModelY(Eresina,Efibra)\n",
    "\n",
    "    E_vec = np.array([ E_X, E_SX, E_Y, E_SY])\n",
    "        \n",
    "    beta = 1.0\n",
    "    return beta*(En*tn_opt + 2*tl_opt*(np.dot(delta_j,E_vec)))/tau_j\n",
    "\n",
    "def E_effective(En,Eresina,Efibra):\n",
    "\n",
    "    return np.array([E_effective_j(En,Eresina,Efibra,j) for j in range(len(df_stats))])\n"
   ]
  },
  {
   "cell_type": "code",
   "execution_count": 14,
   "metadata": {},
   "outputs": [],
   "source": [
    "E_eff_exp = df_stats[\"Et [GPa]\"][\"mean\"].values\n",
    "\n",
    "Eresina = 100 # GPa\n",
    "Efibra = 2000 # GPa\n",
    "En_0 = 1000\n",
    "\n",
    "E_eff_pred = E_effective(En_0,Eresina,Efibra)"
   ]
  },
  {
   "cell_type": "code",
   "execution_count": 15,
   "metadata": {},
   "outputs": [],
   "source": [
    "# from validation.experimental import  nucleo\n",
    "# E_nucleo_exp_Mpa = nucleo()[\"young modulus [MPa]\"]\n",
    "# E_nucleo_exp = E_nucleo_exp_Mpa/1000\n",
    "# print(E_nucleo_exp)"
   ]
  },
  {
   "cell_type": "code",
   "execution_count": 16,
   "metadata": {},
   "outputs": [
    {
     "name": "stderr",
     "output_type": "stream",
     "text": [
      "c:\\Users\\djoroya\\Documents\\GitHub\\CITISENS_Composite_v2\\.conda\\Lib\\site-packages\\scipy\\optimize\\_basinhopping.py:294: OptimizeWarning: Initial guess is not within the specified bounds\n",
      "  return self.minimizer(self.func, x0, **self.kwargs)\n"
     ]
    }
   ],
   "source": [
    "# minimize \n",
    "def objective_E(En,Eresina,Efibra):\n",
    "\n",
    "    # E_SX and E_SY similar \n",
    "    # dE_S = Evec[1] - Evec[3]\n",
    "    dE =   Eresina - Efibra\n",
    "    # Efibra > Eresina\n",
    "    return sum((E_effective(En,Eresina,Efibra) - E_eff_exp)**2)   + 1e4*np.max([0,dE])**2 \n",
    "\n",
    "x0 = np.random.rand(3)\n",
    "# must be positive \n",
    "# v [X,SX,Y,SY]\n",
    "eps = 0.001\n",
    "bounds = [  (E_nucleo_exp*0.9,1.1*E_nucleo_exp), # En\n",
    "            (eps,None), # Evec[0]   # Eresina\n",
    "            (eps,None), # Evec[1]   # Efibra\n",
    "            ]\n",
    "\n",
    "minimize_kwargs = { \n",
    "    'method':'Nelder-Mead',\n",
    "    'bounds': bounds\n",
    "}\n",
    "\n",
    "res = basinhopping(lambda x: objective_E(x[0],x[1],x[2]),\n",
    "                x0, \n",
    "                minimizer_kwargs=minimize_kwargs,\n",
    "                niter=50)\n",
    "\n",
    "\n",
    "En_opt = res.x[0]\n",
    "Eresina_opt = res.x[1]\n",
    "Efibra_opt = res.x[2]\n",
    "\n",
    "\n",
    "E_eff_pred = E_effective(En_opt,Eresina_opt,Efibra_opt)"
   ]
  },
  {
   "cell_type": "code",
   "execution_count": 17,
   "metadata": {},
   "outputs": [],
   "source": [
    "Evec_opt = np.array([ModelX(Eresina_opt,Efibra_opt),\n",
    "                        modelSX(Eresina_opt,Efibra_opt), \n",
    "                        ModelY(Eresina_opt,Efibra_opt), \n",
    "                        modelSY(Eresina_opt,Efibra_opt)])"
   ]
  },
  {
   "cell_type": "code",
   "execution_count": 18,
   "metadata": {},
   "outputs": [
    {
     "data": {
      "image/png": "[encoded data removed]",
      "text/plain": [
       "<Figure size 500x500 with 1 Axes>"
      ]
     },
     "metadata": {},
     "output_type": "display_data"
    },
    {
     "data": {
      "image/png": "[encoded data removed]",
      "text/plain": [
       "<Figure size 500x500 with 1 Axes>"
      ]
     },
     "metadata": {},
     "output_type": "display_data"
    }
   ],
   "source": [
    "from AnalyticalLayers.plot_E import plot_E\n",
    "# from AnalyticalLayers.plt_thin import plt_thin\n",
    "\n",
    "# plt_thin(df_stats, tau_exp, tau_pred, tn_opt, tl_opt)\n",
    "plot_E(df_stats, E_eff_exp, E_eff_pred, Evec_opt, En_opt)"
   ]
  },
  {
   "cell_type": "code",
   "execution_count": 19,
   "metadata": {},
   "outputs": [
    {
     "name": "stdout",
     "output_type": "stream",
     "text": [
      "Optimal En:  0.8800000000000001\n",
      "Optimal Evec:  [1.24436671 1.0949588  6.37461055 1.22388257]\n"
     ]
    }
   ],
   "source": [
    "print(\"Optimal En: \", En_opt)\n",
    "print(\"Optimal Evec: \", Evec_opt)\n",
    "# print(\"Optimal tn: \", tn_opt)\n",
    "# print(\"Optimal tl: \", tl_opt)"
   ]
  },
  {
   "cell_type": "code",
   "execution_count": 20,
   "metadata": {},
   "outputs": [
    {
     "data": {
      "text/html": [
       "<div>\n",
       "<style scoped>\n",
       "    .dataframe tbody tr th:only-of-type {\n",
       "        vertical-align: middle;\n",
       "    }\n",
       "\n",
       "    .dataframe tbody tr th {\n",
       "        vertical-align: top;\n",
       "    }\n",
       "\n",
       "    .dataframe thead th {\n",
       "        text-align: right;\n",
       "    }\n",
       "</style>\n",
       "<table border=\"1\" class=\"dataframe\">\n",
       "  <thead>\n",
       "    <tr style=\"text-align: right;\">\n",
       "      <th></th>\n",
       "      <th>Evec [GPa]</th>\n",
       "    </tr>\n",
       "  </thead>\n",
       "  <tbody>\n",
       "    <tr>\n",
       "      <th>X</th>\n",
       "      <td>1.24437</td>\n",
       "    </tr>\n",
       "    <tr>\n",
       "      <th>SX</th>\n",
       "      <td>1.09496</td>\n",
       "    </tr>\n",
       "    <tr>\n",
       "      <th>Y</th>\n",
       "      <td>6.37461</td>\n",
       "    </tr>\n",
       "    <tr>\n",
       "      <th>SY</th>\n",
       "      <td>1.22388</td>\n",
       "    </tr>\n",
       "    <tr>\n",
       "      <th>Nucleo</th>\n",
       "      <td>0.88000</td>\n",
       "    </tr>\n",
       "  </tbody>\n",
       "</table>\n",
       "</div>"
      ],
      "text/plain": [
       "        Evec [GPa]\n",
       "X          1.24437\n",
       "SX         1.09496\n",
       "Y          6.37461\n",
       "SY         1.22388\n",
       "Nucleo     0.88000"
      ]
     },
     "execution_count": 20,
     "metadata": {},
     "output_type": "execute_result"
    }
   ],
   "source": [
    "df_layers = pd.DataFrame({\"Evec [GPa]\": Evec_opt}, index=[\"X\",\"SX\",\"Y\",\"SY\"])\n",
    "# add nuclueo\n",
    "df_layers.loc[\"Nucleo\"] = [En_opt]\n",
    "df_layers.round(5)"
   ]
  },
  {
   "cell_type": "code",
   "execution_count": 21,
   "metadata": {},
   "outputs": [],
   "source": [
    "# save \n",
    "df_layers.to_csv(\"E_layers.csv\")"
   ]
  },
  {
   "cell_type": "code",
   "execution_count": 22,
   "metadata": {},
   "outputs": [],
   "source": [
    "# df_thickness = pd.DataFrame({\"t [mm]\": [tn_opt, tl_opt]}, index=[\"Nucleo\",\"Capas\"])\n",
    "\n",
    "# df_thickness.round(2)"
   ]
  },
  {
   "cell_type": "code",
   "execution_count": 23,
   "metadata": {},
   "outputs": [
    {
     "data": {
      "text/html": [
       "<div>\n",
       "<style scoped>\n",
       "    .dataframe tbody tr th:only-of-type {\n",
       "        vertical-align: middle;\n",
       "    }\n",
       "\n",
       "    .dataframe tbody tr th {\n",
       "        vertical-align: top;\n",
       "    }\n",
       "\n",
       "    .dataframe thead th {\n",
       "        text-align: right;\n",
       "    }\n",
       "</style>\n",
       "<table border=\"1\" class=\"dataframe\">\n",
       "  <thead>\n",
       "    <tr style=\"text-align: right;\">\n",
       "      <th></th>\n",
       "      <th>E [GPa]</th>\n",
       "    </tr>\n",
       "  </thead>\n",
       "  <tbody>\n",
       "    <tr>\n",
       "      <th>Resina</th>\n",
       "      <td>0.5996</td>\n",
       "    </tr>\n",
       "    <tr>\n",
       "      <th>Fibra</th>\n",
       "      <td>13.1473</td>\n",
       "    </tr>\n",
       "    <tr>\n",
       "      <th>Nucleo</th>\n",
       "      <td>0.8800</td>\n",
       "    </tr>\n",
       "  </tbody>\n",
       "</table>\n",
       "</div>"
      ],
      "text/plain": [
       "        E [GPa]\n",
       "Resina   0.5996\n",
       "Fibra   13.1473\n",
       "Nucleo   0.8800"
      ]
     },
     "execution_count": 23,
     "metadata": {},
     "output_type": "execute_result"
    }
   ],
   "source": [
    "df_mat = pd.DataFrame({\"E [GPa]\": [Eresina_opt, Efibra_opt,En_opt]}, index=[\"Resina\",\"Fibra\",\"Nucleo\"])\n",
    "df_mat.round(4)"
   ]
  },
  {
   "cell_type": "code",
   "execution_count": 24,
   "metadata": {},
   "outputs": [],
   "source": [
    "df_mat.to_csv(\"E_materials.csv\")"
   ]
  },
  {
   "cell_type": "code",
   "execution_count": 25,
   "metadata": {},
   "outputs": [
    {
     "data": {
      "text/html": [
       "<div>\n",
       "<style scoped>\n",
       "    .dataframe tbody tr th:only-of-type {\n",
       "        vertical-align: middle;\n",
       "    }\n",
       "\n",
       "    .dataframe tbody tr th {\n",
       "        vertical-align: top;\n",
       "    }\n",
       "\n",
       "    .dataframe thead th {\n",
       "        text-align: right;\n",
       "    }\n",
       "</style>\n",
       "<table border=\"1\" class=\"dataframe\">\n",
       "  <thead>\n",
       "    <tr style=\"text-align: right;\">\n",
       "      <th></th>\n",
       "      <th>Name</th>\n",
       "      <th>E pred [GPa]</th>\n",
       "      <th>E exp [GPa]</th>\n",
       "      <th>E e rel [%]</th>\n",
       "    </tr>\n",
       "  </thead>\n",
       "  <tbody>\n",
       "    <tr>\n",
       "      <th>0</th>\n",
       "      <td>TFP1</td>\n",
       "      <td>3.04</td>\n",
       "      <td>2.89</td>\n",
       "      <td>5.34</td>\n",
       "    </tr>\n",
       "    <tr>\n",
       "      <th>1</th>\n",
       "      <td>TFP2</td>\n",
       "      <td>2.03</td>\n",
       "      <td>2.26</td>\n",
       "      <td>10.05</td>\n",
       "    </tr>\n",
       "    <tr>\n",
       "      <th>2</th>\n",
       "      <td>TFP3</td>\n",
       "      <td>2.00</td>\n",
       "      <td>2.00</td>\n",
       "      <td>0.08</td>\n",
       "    </tr>\n",
       "    <tr>\n",
       "      <th>3</th>\n",
       "      <td>TFP4</td>\n",
       "      <td>2.03</td>\n",
       "      <td>2.45</td>\n",
       "      <td>17.29</td>\n",
       "    </tr>\n",
       "    <tr>\n",
       "      <th>4</th>\n",
       "      <td>TFP5</td>\n",
       "      <td>1.87</td>\n",
       "      <td>1.63</td>\n",
       "      <td>15.23</td>\n",
       "    </tr>\n",
       "    <tr>\n",
       "      <th>5</th>\n",
       "      <td>TFP6</td>\n",
       "      <td>1.90</td>\n",
       "      <td>1.74</td>\n",
       "      <td>9.13</td>\n",
       "    </tr>\n",
       "  </tbody>\n",
       "</table>\n",
       "</div>"
      ],
      "text/plain": [
       "   Name  E pred [GPa]  E exp [GPa]  E e rel [%]\n",
       "0  TFP1          3.04         2.89         5.34\n",
       "1  TFP2          2.03         2.26        10.05\n",
       "2  TFP3          2.00         2.00         0.08\n",
       "3  TFP4          2.03         2.45        17.29\n",
       "4  TFP5          1.87         1.63        15.23\n",
       "5  TFP6          1.90         1.74         9.13"
      ]
     },
     "execution_count": 25,
     "metadata": {},
     "output_type": "execute_result"
    }
   ],
   "source": [
    "df_pred = {\n",
    "    \"Name\"          : df_stats.index,\n",
    "    \"E pred [GPa]\"  : E_eff_pred,\n",
    "    \"E exp [GPa]\"   : E_eff_exp,\n",
    "    \"E e rel [%]\"   : 100*abs(E_eff_exp - E_eff_pred)/E_eff_exp,\n",
    "    # \"t pred [mm]\"   : tau_pred,\n",
    "    # \"t exp [mm]\"    : tau_exp,\n",
    "    # \"t e rel [%]\"   : 100*abs(tau_exp - tau_pred)/tau_exp\n",
    "}\n",
    "df_pred = pd.DataFrame(df_pred)\n",
    "# decimals1\n",
    "df_pred = df_pred.round(2)\n",
    "df_pred"
   ]
  },
  {
   "cell_type": "code",
   "execution_count": 26,
   "metadata": {},
   "outputs": [],
   "source": [
    "# Em_error = np.mean(df_pred[\"E e rel [%]\"])\n",
    "# # tm_error = np.mean(df_pred[\"t e rel [%]\"])\n",
    "\n",
    "# from loadsavejson.savejson import savejson\n",
    "\n",
    "# # savejson({\"layers\":df_layers, \n",
    "# #             \"errors\": {\"E\":Em_error, \"t\":tm_error},\n",
    "# #           \"thickness\":df_thickness},\n",
    "# #           \"df_opt_fix_thin.json\")"
   ]
  },
  {
   "cell_type": "code",
   "execution_count": 27,
   "metadata": {},
   "outputs": [],
   "source": [
    "df_pred.to_csv(\"df_pred.csv\", index=False)"
   ]
  }
 ],
 "metadata": {
  "kernelspec": {
   "display_name": "Python 3",
   "language": "python",
   "name": "python3"
  },
  "language_info": {
   "codemirror_mode": {
    "name": "ipython",
    "version": 3
   },
   "file_extension": ".py",
   "mimetype": "text/x-python",
   "name": "python",
   "nbconvert_exporter": "python",
   "pygments_lexer": "ipython3",
   "version": "3.13.2"
  }
 },
 "nbformat": 4,
 "nbformat_minor": 2
}
