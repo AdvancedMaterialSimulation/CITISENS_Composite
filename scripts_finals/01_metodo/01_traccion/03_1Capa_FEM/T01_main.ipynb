{
 "cells": [
  {
   "cell_type": "markdown",
   "metadata": {},
   "source": []
  },
  {
   "cell_type": "code",
   "execution_count": 1,
   "metadata": {},
   "outputs": [],
   "source": [
    "\n",
    "import os \n",
    "from copy import deepcopy\n",
    "from FEM_traccion.RunFullModel import RunFullModel\n",
    "import numpy as np\n",
    "join = os.path.join\n",
    "\n",
    "A_s = 0.283 # mm^21\n",
    "A_s = np.array([0.29872437, 0.30970758, 0.36436295, 0.37770379])\n",
    "\n"
   ]
  },
  {
   "cell_type": "code",
   "execution_count": 2,
   "metadata": {},
   "outputs": [
    {
     "data": {
      "text/html": [
       "<div>\n",
       "<style scoped>\n",
       "    .dataframe tbody tr th:only-of-type {\n",
       "        vertical-align: middle;\n",
       "    }\n",
       "\n",
       "    .dataframe tbody tr th {\n",
       "        vertical-align: top;\n",
       "    }\n",
       "\n",
       "    .dataframe thead th {\n",
       "        text-align: right;\n",
       "    }\n",
       "</style>\n",
       "<table border=\"1\" class=\"dataframe\">\n",
       "  <thead>\n",
       "    <tr style=\"text-align: right;\">\n",
       "      <th></th>\n",
       "      <th>E [GPa]</th>\n",
       "    </tr>\n",
       "    <tr>\n",
       "      <th>Unnamed: 0</th>\n",
       "      <th></th>\n",
       "    </tr>\n",
       "  </thead>\n",
       "  <tbody>\n",
       "    <tr>\n",
       "      <th>Resina</th>\n",
       "      <td>0.599557</td>\n",
       "    </tr>\n",
       "    <tr>\n",
       "      <th>Fibra</th>\n",
       "      <td>13.147265</td>\n",
       "    </tr>\n",
       "    <tr>\n",
       "      <th>Nucleo</th>\n",
       "      <td>0.880000</td>\n",
       "    </tr>\n",
       "  </tbody>\n",
       "</table>\n",
       "</div>"
      ],
      "text/plain": [
       "              E [GPa]\n",
       "Unnamed: 0           \n",
       "Resina       0.599557\n",
       "Fibra       13.147265\n",
       "Nucleo       0.880000"
      ]
     },
     "execution_count": 2,
     "metadata": {},
     "output_type": "execute_result"
    }
   ],
   "source": [
    "import pandas as pd\n",
    "df_mat = pd.read_csv(r\"C:\\Users\\djoroya\\Documents\\GitHub\\CITISENS_Composite_v2\\scripts_finals\\01_metodo\\01_traccion\\01_optim\\E_materials.csv\")\n",
    "df_mat.index = df_mat['Unnamed: 0']\n",
    "df_mat.pop('Unnamed: 0')\n",
    "df_mat"
   ]
  },
  {
   "cell_type": "code",
   "execution_count": 3,
   "metadata": {},
   "outputs": [
    {
     "data": {
      "text/plain": [
       "np.float64(0.5995571736994187)"
      ]
     },
     "execution_count": 3,
     "metadata": {},
     "output_type": "execute_result"
    }
   ],
   "source": [
    "df_mat[\"E [GPa]\"][\"Resina\"]"
   ]
  },
  {
   "cell_type": "code",
   "execution_count": 4,
   "metadata": {},
   "outputs": [],
   "source": [
    "t_l = 0.475 #  Espesor de la capa [mm]\n",
    "t_n = 2.934\n",
    "\n",
    "r = 3*t_l/8 \n",
    "d = (A_s - np.pi*r**2)/(2*r) # Area de la capa [mm^2]\n",
    "\n",
    "d = {'X': d[0], 'SX': d[1], 'Y': d[2], 'SY': d[3]}\n",
    "\n",
    "params_composite ={\n",
    "    \"r\"         :  r,\n",
    "    \"d\"         :  d, # X SX Y SY\n",
    "    \"h\"         :  t_l,\n",
    "    \"z0\"        :  0,\n",
    "    \"density\"   : 5,\n",
    "}\n",
    "\n",
    "E_Resina =  df_mat[\"E [GPa]\"][\"Resina\"]*1e3 \n",
    "E_Carbon =  df_mat[\"E [GPa]\"][\"Fibra\"]*1e3\n",
    "\n",
    "params_ccx = {\n",
    "    \"epsilon\" : 0.1,\n",
    "    \"x_fixed\" : True,\n",
    "    \"E_nucleo\": df_mat[\"E [GPa]\"][\"Nucleo\"]*1e3,\n",
    "   \"E_resina\": E_Resina,\n",
    "    \"E_fibra\" : E_Carbon\n",
    "}\n",
    "params = {\n",
    "    \"mesh\" : params_composite,\n",
    "    \"ccx\"  : params_ccx,\n",
    "}"
   ]
  },
  {
   "cell_type": "markdown",
   "metadata": {},
   "source": []
  },
  {
   "cell_type": "code",
   "execution_count": 5,
   "metadata": {},
   "outputs": [
    {
     "name": "stdout",
     "output_type": "stream",
     "text": [
      "\t==================================================\n",
      "\tDesign X\n",
      "\t==================================================\n",
      "Layer number 1/1 done\n",
      "Meshing ... \n",
      "\t==================================================\n",
      "\tCCX X\n",
      "\t==================================================\n",
      "Input folder: \t output\\designs\\X\n",
      "Output folder: \t output\\ccx\\X\n",
      "Resina E:  599.5571736994187\n",
      "Carbon E:  13147.265474776512\n",
      "Nucleo E:  880.0000000000001\n",
      "Running Calculix at:  output\\ccx\\X\n",
      "Output file:  c:\\Users\\djoroya\\Documents\\GitHub\\CITISENS_Composite_v2\\scripts_finals\\01_metodo\\01_traccion\\03_1Capa_FEM\\output\\ccx\\X\\out.txt\n",
      "Command:\n",
      " C:\\Program Files\\Microsoft MPI\\Bin\\mpiexec -n 6 c:\\Users\\djoroya\\Documents\\GitHub\\CITISENS_Composite_v2\\.conda\\Lib\\site-packages\\djccx\\bin\\ccx_dynamic.exe main\n",
      "Error reading cvf file\n",
      "\n",
      "pid:  14656 \n",
      "\n",
      "Calculix finished\n",
      "\n",
      "\t==================================================\n",
      "\tDesign Y\n",
      "\t==================================================\n",
      "Layer number 1/1 done\n",
      "Meshing ... \n",
      "\t==================================================\n",
      "\tCCX Y\n",
      "\t==================================================\n",
      "Input folder: \t output\\designs\\Y\n",
      "Output folder: \t output\\ccx\\Y\n",
      "Resina E:  599.5571736994187\n",
      "Carbon E:  13147.265474776512\n",
      "Nucleo E:  880.0000000000001\n",
      "Running Calculix at:  output\\ccx\\Y\n",
      "Output file:  c:\\Users\\djoroya\\Documents\\GitHub\\CITISENS_Composite_v2\\scripts_finals\\01_metodo\\01_traccion\\03_1Capa_FEM\\output\\ccx\\Y\\out.txt\n",
      "Command:\n",
      " C:\\Program Files\\Microsoft MPI\\Bin\\mpiexec -n 6 c:\\Users\\djoroya\\Documents\\GitHub\\CITISENS_Composite_v2\\.conda\\Lib\\site-packages\\djccx\\bin\\ccx_dynamic.exe main\n",
      "Error reading cvf file\n",
      "\n",
      "pid:  19532 \n",
      "\n",
      "SUMMARY OF C0NVERGENCE INFORMATION\n",
      "Calculix finished\n",
      "\n",
      "\t==================================================\n",
      "\tDesign SX\n",
      "\t==================================================\n",
      "Layer number 1/1 done\n",
      "Meshing ... \n",
      "\t==================================================\n",
      "\tCCX SX\n",
      "\t==================================================\n",
      "Input folder: \t output\\designs\\SX\n",
      "Output folder: \t output\\ccx\\SX\n",
      "Resina E:  599.5571736994187\n",
      "Carbon E:  13147.265474776512\n",
      "Nucleo E:  880.0000000000001\n",
      "Running Calculix at:  output\\ccx\\SX\n",
      "Output file:  c:\\Users\\djoroya\\Documents\\GitHub\\CITISENS_Composite_v2\\scripts_finals\\01_metodo\\01_traccion\\03_1Capa_FEM\\output\\ccx\\SX\\out.txt\n",
      "Command:\n",
      " C:\\Program Files\\Microsoft MPI\\Bin\\mpiexec -n 6 c:\\Users\\djoroya\\Documents\\GitHub\\CITISENS_Composite_v2\\.conda\\Lib\\site-packages\\djccx\\bin\\ccx_dynamic.exe main\n",
      "Error reading cvf file\n",
      "\n",
      "pid:  25792 \n",
      "\n",
      "Calculix finished\n",
      "\n",
      "\t==================================================\n",
      "\tDesign SY\n",
      "\t==================================================\n",
      "Layer number 1/1 done\n",
      "Meshing ... \n",
      "\t==================================================\n",
      "\tCCX SY\n",
      "\t==================================================\n",
      "Input folder: \t output\\designs\\SY\n",
      "Output folder: \t output\\ccx\\SY\n",
      "Resina E:  599.5571736994187\n",
      "Carbon E:  13147.265474776512\n",
      "Nucleo E:  880.0000000000001\n",
      "Running Calculix at:  output\\ccx\\SY\n",
      "Output file:  c:\\Users\\djoroya\\Documents\\GitHub\\CITISENS_Composite_v2\\scripts_finals\\01_metodo\\01_traccion\\03_1Capa_FEM\\output\\ccx\\SY\\out.txt\n",
      "Command:\n",
      " C:\\Program Files\\Microsoft MPI\\Bin\\mpiexec -n 6 c:\\Users\\djoroya\\Documents\\GitHub\\CITISENS_Composite_v2\\.conda\\Lib\\site-packages\\djccx\\bin\\ccx_dynamic.exe main\n",
      "Error reading cvf file\n",
      "\n",
      "pid:  2692 \n",
      "\n",
      "Calculix finished\n",
      "\n"
     ]
    }
   ],
   "source": [
    "\n",
    "layers = [\"X\",\"Y\",\"SX\",\"SY\"]\n",
    "# layers = [\"SY\"]\n",
    "\n",
    "for design in layers:\n",
    "    # Generate mesh and RVEl\n",
    "    params_copy = deepcopy(params)\n",
    "    RunFullModel(design,\"output\",params_copy)\n",
    "    \n",
    "    "
   ]
  },
  {
   "cell_type": "code",
   "execution_count": null,
   "metadata": {},
   "outputs": [],
   "source": []
  }
 ],
 "metadata": {
  "kernelspec": {
   "display_name": "Python 3",
   "language": "python",
   "name": "python3"
  },
  "language_info": {
   "codemirror_mode": {
    "name": "ipython",
    "version": 3
   },
   "file_extension": ".py",
   "mimetype": "text/x-python",
   "name": "python",
   "nbconvert_exporter": "python",
   "pygments_lexer": "ipython3",
   "version": "3.13.2"
  }
 },
 "nbformat": 4,
 "nbformat_minor": 2
}
