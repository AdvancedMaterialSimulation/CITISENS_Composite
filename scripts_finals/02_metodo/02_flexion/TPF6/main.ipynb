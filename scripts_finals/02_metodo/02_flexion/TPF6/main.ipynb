{
 "cells": [
  {
   "cell_type": "code",
   "execution_count": 1,
   "metadata": {},
   "outputs": [
    {
     "data": {
      "text/plain": [
       "15.0"
      ]
     },
     "execution_count": 1,
     "metadata": {},
     "output_type": "execute_result"
    }
   ],
   "source": [
    "25*6/10"
   ]
  },
  {
   "cell_type": "code",
   "execution_count": 2,
   "metadata": {},
   "outputs": [
    {
     "data": {
      "text/plain": [
       "<matplotlib.legend.Legend at 0x1a260793380>"
      ]
     },
     "execution_count": 2,
     "metadata": {},
     "output_type": "execute_result"
    },
    {
     "data": {
      "image/png": "[encoded data removed]",
      "text/plain": [
       "<Figure size 640x480 with 1 Axes>"
      ]
     },
     "metadata": {},
     "output_type": "display_data"
    }
   ],
   "source": [
    "from matplotlib import pyplot as plt\n",
    "import numpy as np\n",
    "\n",
    "\n",
    "def rectangle(x, y, width, height, color,linestyle=\"-\"):\n",
    "    plt.fill([x, x, x + width, x + width], \n",
    "             [y, y + height, y + height, y], color=\"None\", edgecolor=color, linestyle=linestyle)\n",
    "\n",
    "lx = 10\n",
    "\n",
    "rectangle(0,   0,  lx,  10  , 'red')\n",
    "rectangle(0,   0, -lx,  10  , 'red')\n",
    "rectangle(0,   0,  lx, 12.5 , 'red')\n",
    "rectangle(0,   0, -lx, 12.5 , 'red')\n",
    "\n",
    "\n",
    "\n",
    "rectangle(0,   0,  lx,  -10  , 'blue',linestyle=\"--\")\n",
    "rectangle(0,   0, -lx,  -10  , 'blue',linestyle=\"--\")\n",
    "rectangle(0,   0,  lx, -12.5 , 'blue',linestyle=\"--\")\n",
    "rectangle(0,   0, -lx, -12.5 , 'blue',linestyle=\"--\")\n",
    "# aspect ratio\n",
    "\n",
    "R = 10/4\n",
    "T = 10\n",
    "\n",
    "t1 = np.linspace(0, 0.5, 500)\n",
    "\n",
    "# =============================================================================\n",
    "def fparams(t,y0):\n",
    "    y = 4*R*t \n",
    "    x = -R*np.cos(2*np.pi*y/T) + y0\n",
    "    return y,x\n",
    "\n",
    "# x1,y1 = fparams(t1,-4*R)\n",
    "\n",
    "# y1 = t1*2*R + R\n",
    "# x1 = -R*np.cos(2*np.pi*y1/T) - 4*R\n",
    "\n",
    "# plt.plot(x1,y1, 'r',label=\"1\")\n",
    "\n",
    "x1,y1 = fparams(t1,-4*R)\n",
    "plt.plot(x1,y1, 'g',label=\"1\")  \n",
    "\n",
    "x2,y2 = fparams(t1,-2*R)\n",
    "plt.plot(x2,y2, 'g',label=\"2\")  \n",
    "\n",
    "x3,y3 = fparams(t1,0)\n",
    "plt.plot(x3,y3, 'b',label=\"3\")\n",
    "\n",
    "x4,y4 = fparams(t1,2*R)\n",
    "plt.plot(x4,y4, 'c',label=\"4\")\n",
    "\n",
    "\n",
    "x5 = 4*R*t1 \n",
    "y5 = -R*np.cos(2*np.pi*x5/T) + 4*R\n",
    "# x5,y5 = fparams(t1,4*R)\n",
    "plt.plot(x5,y5, 'r',label=\"5\")\n",
    "\n",
    "\n",
    "# y5 = t1*R \n",
    "# x5 = -R*np.cos(2*np.pi*y5/T) + 4*R\n",
    "# plt.plot(x5,y5, 'y' ,label=\"5\")\n",
    "\n",
    "# y6 = t1*2*R + 3*R\n",
    "# x6 = -R*np.cos(2*np.pi*y6/T) + 4*R\n",
    "# plt.plot(x6,y6, 'm' ,label=\"6\")\n",
    "\n",
    "\n",
    "# =============================================================================\n",
    "\n",
    "\n",
    "plt.gca().set_aspect('equal', adjustable='box')\n",
    "plt.legend()"
   ]
  },
  {
   "cell_type": "code",
   "execution_count": null,
   "metadata": {},
   "outputs": [],
   "source": []
  },
  {
   "cell_type": "code",
   "execution_count": 3,
   "metadata": {},
   "outputs": [],
   "source": [
    "from gmshtools.CircRect6 import CircRect\n"
   ]
  },
  {
   "cell_type": "code",
   "execution_count": 4,
   "metadata": {},
   "outputs": [],
   "source": [
    "import gmsh \n",
    "\n",
    "gmsh.initialize()\n",
    "\n",
    "gmsh.model.add(\"t1\")\n",
    "\n",
    "# cilindro\n",
    "Ly = 25\n",
    "Lx = 60\n",
    "tn  = 2.934\n",
    "tl = 0.475\n",
    "r  = 3*tl/8\n",
    "d_Y  = 0.74297\n",
    "d_SX = 0.5895\n",
    "d_SY = 0.78042\n",
    "\n",
    "A = np.pi*r**2\n",
    "\n",
    "\n",
    "R = 10/6\n",
    "nx_fibres = 3\n",
    "\n",
    "lx = 20*0.5\n",
    "\n",
    "z0 = tn/2\n",
    "dx = 0.1 \n",
    "dz = 0.1\n",
    "\n",
    "hx = R\n",
    "hz = tl\n",
    "Lz = 2*(3*hz + z0) \n",
    "\n",
    "def CreateCylinder_Lxx(x0,z0):\n",
    "\n",
    "    ellipse_1 = CircRect(x0, -Ly/2, z0, \n",
    "                         r, d_Y, \n",
    "                         [0,1,0] ,            # vec_z \n",
    "                         [1,0,0])             # vec_x\n",
    "    \n",
    "    ellipse_2 = CircRect(x0, +Ly/2, z0,\n",
    "                         r, d_Y, \n",
    "                            [0,1,0] ,            # vec_z \n",
    "                            [1,0,0])             # vec_x\n",
    "    gmsh.model.occ.synchronize()\n",
    "\n",
    "    thrusection = gmsh.model.occ.addThruSections([ellipse_1, ellipse_2])\n",
    "\n",
    "    gmsh.model.occ.synchronize()\n",
    "\n",
    "    return thrusection[0][1]\n",
    "\n",
    "def CreateCylinder_Lyy(y0,z0):\n",
    "    \n",
    "    ellipse_1 = CircRect(0, y0, z0,\n",
    "                         r, d_Y, \n",
    "                            [1,0,0] ,            # vec_z \n",
    "                            [0,1,0])             # vec_x\n",
    "    \n",
    "    ellipse_2 = CircRect(lx/2, y0, z0,\n",
    "                         r, d_Y, \n",
    "                            [1,0,0] ,            # vec_z \n",
    "                            [0,1,0])             # vec_x\n",
    "    \n",
    "    gmsh.model.occ.synchronize()\n",
    "\n",
    "\n",
    "\n",
    "    thrusection = gmsh.model.occ.addThruSections([ellipse_1, ellipse_2])\n",
    "\n",
    "    gmsh.model.occ.synchronize()\n",
    "\n",
    "    return thrusection[0][1]\n",
    "\n",
    "FM1_list = []\n"
   ]
  },
  {
   "cell_type": "code",
   "execution_count": 5,
   "metadata": {},
   "outputs": [
    {
     "name": "stdout",
     "output_type": "stream",
     "text": [
      "yarn 1\n",
      "yarn 2\n",
      "yarn 3\n",
      "yarn 4\n",
      "yarn 5\n"
     ]
    }
   ],
   "source": [
    "\n",
    "from gmshtools.CreateYarnRect import CreateYarnRect\n",
    "\n",
    "trajs_mid = [ [x1,y1],\n",
    "              [x2,y2],\n",
    "              [x3,y3],\n",
    "              [x4,y4],\n",
    "              [x5,y5]]\n",
    "\n",
    "for itraj_2D in trajs_mid:\n",
    "    trajs = np.array([[itraj_2D[0][i],\n",
    "                       itraj_2D[1][i], \n",
    "                    -z0 - 5*hz/2 ] \n",
    "                    for i in range(len(itraj_2D[0]))])\n",
    "\n",
    "    yarn = CreateYarnRect({\"trajs\":trajs, \n",
    "                    \"r\":r, \n",
    "                    \"d\": d_SY,\n",
    "                    \"density\":2,\n",
    "                    \"skip_left\":1,\n",
    "                    \"skip_right\":1,\n",
    "                    \"vec_init\":[1,0,0],\n",
    "                    \"vec_end\":[1,0,0]})\n",
    "\n",
    "    FM1_list.append(yarn[\"volumes\"][0][1])\n",
    "    print(\"yarn\", yarn[\"volumes\"][0][1])\n",
    "    # gmsh.fltk.run()"
   ]
  },
  {
   "cell_type": "code",
   "execution_count": 6,
   "metadata": {},
   "outputs": [
    {
     "data": {
      "text/plain": [
       "{'volumes': [(3, 5)]}"
      ]
     },
     "execution_count": 6,
     "metadata": {},
     "output_type": "execute_result"
    }
   ],
   "source": [
    "yarn"
   ]
  },
  {
   "cell_type": "code",
   "execution_count": 7,
   "metadata": {},
   "outputs": [],
   "source": [
    "# gmsh.fltk.run()"
   ]
  },
  {
   "cell_type": "code",
   "execution_count": 8,
   "metadata": {},
   "outputs": [],
   "source": [
    "\n",
    "box_cut = gmsh.model.occ.addBox( -Lx/2 ,  -Ly/2, -Lz/2, \n",
    "                                  Lx   ,   Ly   , Lz)\n",
    "gmsh.model.occ.synchronize()\n",
    "# gmsh.fltk.run()\n",
    "\n",
    "yarn_cut = gmsh.model.occ.intersect(yarn[\"volumes\"], [(3,box_cut)])\n",
    "gmsh.model.occ.synchronize()\n",
    "# gmsh.fltk.run()\n",
    "\n",
    "# gmsh.fltk.run()\n",
    "\n",
    "FM1_list.append(yarn_cut[0][0][1])\n",
    "\n"
   ]
  },
  {
   "cell_type": "code",
   "execution_count": 9,
   "metadata": {},
   "outputs": [],
   "source": [
    "# gmsh.fltk.run()\n"
   ]
  },
  {
   "cell_type": "code",
   "execution_count": 10,
   "metadata": {},
   "outputs": [
    {
     "data": {
      "text/plain": [
       "[(3, 5)]"
      ]
     },
     "execution_count": 10,
     "metadata": {},
     "output_type": "execute_result"
    }
   ],
   "source": [
    "yarn[\"volumes\"]"
   ]
  },
  {
   "cell_type": "code",
   "execution_count": 11,
   "metadata": {},
   "outputs": [
    {
     "data": {
      "text/plain": [
       "([(3, 5)], [[(3, 5)], [(3, 5)]])"
      ]
     },
     "execution_count": 11,
     "metadata": {},
     "output_type": "execute_result"
    }
   ],
   "source": [
    "yarn_cut"
   ]
  },
  {
   "cell_type": "code",
   "execution_count": 12,
   "metadata": {},
   "outputs": [],
   "source": [
    "yarn_cut = FM1_list[0]\n",
    "\n",
    "box_cut = gmsh.model.occ.addBox( -Lx/2    ,  -Ly/2 , -Lz/2, \n",
    "                                 Lx ,  Ly   , Lz)\n",
    "gmsh.model.occ.synchronize()\n",
    "\n",
    "yarn_cut = gmsh.model.occ.intersect([(3,yarn_cut)], [(3,box_cut)])\n",
    "gmsh.model.occ.synchronize()\n",
    "\n",
    "FM1_list.append(yarn_cut[0][0][1])\n",
    "\n",
    "FM1_list = FM1_list[1:]"
   ]
  },
  {
   "cell_type": "code",
   "execution_count": 13,
   "metadata": {},
   "outputs": [],
   "source": [
    "# gmsh.fltk.run()"
   ]
  },
  {
   "cell_type": "code",
   "execution_count": 14,
   "metadata": {},
   "outputs": [
    {
     "data": {
      "text/plain": [
       "6"
      ]
     },
     "execution_count": 14,
     "metadata": {},
     "output_type": "execute_result"
    }
   ],
   "source": [
    "box_cut"
   ]
  },
  {
   "cell_type": "code",
   "execution_count": 15,
   "metadata": {},
   "outputs": [],
   "source": [
    "\n",
    "gmsh.model.occ.synchronize()\n",
    "# \n",
    "#\n",
    "\n",
    "nfilaments = int(0.5*25*6/10)\n",
    "\n",
    "yspan = np.arange(-Ly/2, Ly/2, hx)\n",
    "yspan = yspan + hx/2\n",
    "\n",
    "FM2_list = []\n",
    "for iy in yspan:\n",
    "    FibreMinus_02 = CreateCylinder_Lyy(iy, -z0 - hz/2 )\n",
    "\n",
    "    FM2_list.append(FibreMinus_02)\n",
    "\n",
    "FM2_list.extend(FM1_list)\n"
   ]
  },
  {
   "cell_type": "code",
   "execution_count": 16,
   "metadata": {},
   "outputs": [],
   "source": [
    "for ix in range(nx_fibres):\n",
    "    FibreMinus_01 = CreateCylinder_Lxx(hx/2 + hx*ix, -z0 - 3*hz/2 )\n",
    "    FM1_list.append(FibreMinus_01)"
   ]
  },
  {
   "cell_type": "code",
   "execution_count": 17,
   "metadata": {},
   "outputs": [],
   "source": [
    "\n",
    "# Identificamos las fibras\n",
    "fibres_tags = np.concatenate([FM1_list, FM2_list])\n",
    "f1 = gmsh.model.addPhysicalGroup(3, fibres_tags)\n",
    "gmsh.model.setPhysicalName(3, f1, \"Fibres\")\n",
    "\n",
    "\n",
    "gmsh.model.occ.synchronize()\n",
    "box_01 = gmsh.model.occ.addBox( 0      , -Ly/2 , + z0 ,\n",
    "                                Lx/2   ,  Ly   ,  3*hz    )\n",
    "\n",
    "box_02 = gmsh.model.occ.addBox( 0      , -Ly/2 , - z0 ,\n",
    "                                lx/2   ,  Ly   ,  -3*hz    )\n",
    "\n",
    "gmsh.model.occ.synchronize()\n",
    "\n",
    "\n",
    "box_02_cut = gmsh.model.occ.cut([(3, box_02)], \n",
    "                   [(3,i) for i in FM2_list],\n",
    "                   removeTool=False)\n",
    "\n",
    "gmsh.model.occ.synchronize()"
   ]
  },
  {
   "cell_type": "code",
   "execution_count": 18,
   "metadata": {},
   "outputs": [],
   "source": [
    "\n",
    "# # box \n",
    "# #\n",
    "# gmsh.model.occ.synchronize()\n",
    "# #\n",
    "\n",
    "box_big_mid = gmsh.model.occ.addBox( 0      , -Ly/2     , -z0,\n",
    "                                     Lx/2   ,  Ly       ,  2*z0    )\n",
    "\n",
    "\n",
    "box_sup = gmsh.model.occ.addBox( 0      ,   -Ly/2     , z0 + hz,\n",
    "                                 Lx/2   ,    Ly   ,  hz       )\n",
    "\n",
    "# =============================================================================\n",
    "\n",
    "# partition with rectangle \n",
    "\n",
    "# (0, Ly/2,  z0 + 2*hz)\n",
    "# (0, Ly/2, -z0 - 2*hz)\n",
    "# (0, -Ly/2, -z0 - 2*hz)\n",
    "# (0, -Ly/2,  z0 + 2*hz)\n",
    "\n",
    "p1_rect = gmsh.model.occ.addPoint(0, Ly/2,  z0 + 2*hz)\n",
    "p2_rect = gmsh.model.occ.addPoint(0, Ly/2, -z0 - 2*hz)\n",
    "p3_rect = gmsh.model.occ.addPoint(0, 0   , -z0 - 2*hz)\n",
    "p4_rect = gmsh.model.occ.addPoint(0, 0   ,  z0 + 2*hz)\n",
    "\n",
    "gmsh.model.occ.synchronize()\n",
    "\n",
    "l1 =  gmsh.model.occ.addLine(p1_rect, p2_rect)\n",
    "l2 =  gmsh.model.occ.addLine(p2_rect, p3_rect)\n",
    "l3 =  gmsh.model.occ.addLine(p3_rect, p4_rect)\n",
    "l4 =  gmsh.model.occ.addLine(p4_rect, p1_rect)\n",
    "\n",
    "gmsh.model.occ.synchronize()\n",
    "\n",
    "ll = gmsh.model.occ.addCurveLoop([l1,l2,l3,l4])\n",
    "gmsh.model.occ.synchronize()\n",
    "\n",
    "ss = gmsh.model.occ.addPlaneSurface([ll])\n",
    "gmsh.model.occ.synchronize()\n",
    "\n",
    "# gmsh.fltk.run()\n",
    "\n",
    "box_sup = gmsh.model.occ.fragment([(3,box_sup)], [(2,ss)])\n",
    "gmsh.model.occ.synchronize()\n",
    "# =============================================================================\n",
    "\n",
    "box_inf = gmsh.model.occ.addBox( 0       , -Ly/2     , -z0 - hz,\n",
    "                                 Lx/2    ,  Ly       ,  -hz       )\n",
    "\n",
    "gmsh.model.occ.synchronize()\n",
    "volumes = gmsh.model.getEntities(3)\n",
    "\n",
    "\n",
    "\n",
    "box_big = gmsh.model.occ.addBox( 0     ,  -Ly/2      , -Lz/2,\n",
    "                                 Lx/2  ,   Ly        ,  Lz    )\n",
    "\n",
    "gmsh.model.occ.synchronize()\n",
    "\n",
    "# cut box_big - volumes\n",
    "box_big = gmsh.model.occ.fragment([(3,box_big)], volumes)\n",
    "\n",
    "\n",
    "\n",
    "gmsh.model.occ.synchronize()\n",
    "\n",
    "\n",
    "# buscar la caja que tiene como media z= 0\n"
   ]
  },
  {
   "cell_type": "code",
   "execution_count": 19,
   "metadata": {},
   "outputs": [],
   "source": [
    "# gmsh.fltk.run()"
   ]
  },
  {
   "cell_type": "code",
   "execution_count": 20,
   "metadata": {},
   "outputs": [],
   "source": [
    "gmsh.model.occ.synchronize()\n",
    "volumes = gmsh.model.getEntities(3)\n",
    "com = [ gmsh.model.occ.getCenterOfMass(3, i[1]) \n",
    "       for i in volumes ]\n",
    "#encontart volumenes con yCOM > 12.5\n",
    "volumes = [volumes[i] for i in range(len(volumes)) if com[i][1] > 12.5]\n",
    "# eliminar volumenes\n",
    "gmsh.model.occ.remove([i for i in volumes],recursive=True)\n",
    "gmsh.model.occ.synchronize()"
   ]
  },
  {
   "cell_type": "code",
   "execution_count": 21,
   "metadata": {},
   "outputs": [
    {
     "data": {
      "text/plain": [
       "[]"
      ]
     },
     "execution_count": 21,
     "metadata": {},
     "output_type": "execute_result"
    }
   ],
   "source": [
    "volumes"
   ]
  },
  {
   "cell_type": "code",
   "execution_count": 22,
   "metadata": {},
   "outputs": [],
   "source": [
    "# gmsh.fltk.run()\n"
   ]
  },
  {
   "cell_type": "code",
   "execution_count": 23,
   "metadata": {},
   "outputs": [],
   "source": [
    "# Identificamos el nucleo\n",
    "# Este es el volumen con menor valor de z en valor absoluto\n",
    "volumes = gmsh.model.getEntities(3)\n",
    "com = [ gmsh.model.occ.getCenterOfMass(3, i[1]) \n",
    "       for i in volumes ]\n",
    "\n",
    "\n",
    "sort_com_index = np.argsort(np.abs(np.array(com)[:,2]))\n",
    "\n",
    "id_nucleo = volumes[sort_com_index[0]][1]\n",
    "# physical group\n",
    "f2 = gmsh.model.addPhysicalGroup(3, [id_nucleo])\n",
    "gmsh.model.setPhysicalName(3, f2, \"Nucleo\")\n",
    "# \n",
    "gmsh.model.occ.synchronize()"
   ]
  },
  {
   "cell_type": "code",
   "execution_count": 24,
   "metadata": {},
   "outputs": [],
   "source": [
    "\n",
    "\n",
    "# Selecionamos todos los volumenes que no sean ni fibras ni nucleo\n",
    "resina = [ i[1] for i in volumes if i[1] != id_nucleo ]\n",
    "resina = [ i for i in resina if i not in fibres_tags]\n",
    "\n",
    "\n",
    "# sort by x\n",
    "com = [ gmsh.model.occ.getCenterOfMass(3, i) \n",
    "       for i in resina ]\n",
    "\n",
    "sort_com_index = np.argsort(np.abs(np.array(com)[:,0]))\n",
    "\n",
    "resina = [resina[i] for i in sort_com_index]\n",
    "\n",
    "# select solo las z<0 \n",
    "resina = [i for i in resina if gmsh.model.occ.getCenterOfMass(3,i)[2] < 0]\n",
    "\n",
    "com = [ gmsh.model.occ.getCenterOfMass(3, i)\n",
    "         for i in resina ]\n",
    "\n",
    "resina = resina[:3]"
   ]
  },
  {
   "cell_type": "code",
   "execution_count": 25,
   "metadata": {},
   "outputs": [],
   "source": [
    "f3 = gmsh.model.addPhysicalGroup(3, resina)\n",
    "gmsh.model.setPhysicalName(3, f3, \"Resina\")"
   ]
  },
  {
   "cell_type": "code",
   "execution_count": 26,
   "metadata": {},
   "outputs": [],
   "source": [
    "layers_centrales = resina[:4]\n",
    "\n",
    "\n",
    "com_centrals = [ gmsh.model.occ.getCenterOfMass(3, i)\n",
    "         for i in layers_centrales ]\n",
    "\n",
    "# sort by z\n",
    "sort_com_index = np.argsort(np.array(com_centrals)[:,2])\n",
    "layers_centrales = [layers_centrales[i] for i in sort_com_index]\n",
    "\n",
    "# resina = layers_centrales[:2]\n",
    "\n",
    "\n"
   ]
  },
  {
   "cell_type": "code",
   "execution_count": 27,
   "metadata": {},
   "outputs": [
    {
     "data": {
      "text/plain": [
       "[28, 29, 31]"
      ]
     },
     "execution_count": 27,
     "metadata": {},
     "output_type": "execute_result"
    }
   ],
   "source": [
    "resina"
   ]
  },
  {
   "cell_type": "code",
   "execution_count": 28,
   "metadata": {},
   "outputs": [
    {
     "data": {
      "text/plain": [
       "[28, 29, 31]"
      ]
     },
     "execution_count": 28,
     "metadata": {},
     "output_type": "execute_result"
    }
   ],
   "source": [
    "layers_centrales"
   ]
  },
  {
   "cell_type": "code",
   "execution_count": 29,
   "metadata": {},
   "outputs": [],
   "source": [
    "\n",
    "volumes = gmsh.model.getEntities(3)\n",
    "volumes = [ i for i in volumes if i[1] not in resina]\n",
    "volumes = [ i for i in volumes if i[1] not in fibres_tags]\n",
    "volumes = [ i for i in volumes if i[1] != id_nucleo]\n"
   ]
  },
  {
   "cell_type": "code",
   "execution_count": 30,
   "metadata": {},
   "outputs": [
    {
     "data": {
      "text/plain": [
       "array([1.7 , 2.18, 2.65])"
      ]
     },
     "execution_count": 30,
     "metadata": {},
     "output_type": "execute_result"
    }
   ],
   "source": [
    "com_capas = [ abs(np.round(gmsh.model.occ.getCenterOfMass(3, i[1])[2],2))\n",
    "            for i in volumes ]\n",
    "\n",
    "com_capas = np.array(com_capas)\n",
    "com_capas_unique = np.unique(com_capas)\n",
    "com_capas_unique = np.sort(com_capas_unique)\n",
    "com_capas_unique"
   ]
  },
  {
   "cell_type": "code",
   "execution_count": 31,
   "metadata": {},
   "outputs": [
    {
     "data": {
      "text/plain": [
       "[(3, 27), (3, 30), (3, 32), (3, 33), (3, 34), (3, 35)]"
      ]
     },
     "execution_count": 31,
     "metadata": {},
     "output_type": "execute_result"
    }
   ],
   "source": [
    "volumes"
   ]
  },
  {
   "cell_type": "code",
   "execution_count": 32,
   "metadata": {},
   "outputs": [
    {
     "data": {
      "text/plain": [
       "array([2.18, 2.65, 2.18, 1.7 , 1.7 , 2.65])"
      ]
     },
     "execution_count": 32,
     "metadata": {},
     "output_type": "execute_result"
    }
   ],
   "source": [
    "com_capas"
   ]
  },
  {
   "cell_type": "code",
   "execution_count": 33,
   "metadata": {},
   "outputs": [],
   "source": [
    "\n",
    "capas_1 = [ i[1] for i,ic in zip(volumes,com_capas) if ic == com_capas_unique[0]]\n",
    "capas_2 = [ i[1] for i,ic in zip(volumes,com_capas) if ic == com_capas_unique[1]]\n",
    "capas_3 = [ i[1] for i,ic in zip(volumes,com_capas) if ic == com_capas_unique[2]]"
   ]
  },
  {
   "cell_type": "code",
   "execution_count": 34,
   "metadata": {},
   "outputs": [
    {
     "data": {
      "text/plain": [
       "[30, 35]"
      ]
     },
     "execution_count": 34,
     "metadata": {},
     "output_type": "execute_result"
    }
   ],
   "source": [
    "capas_3"
   ]
  },
  {
   "cell_type": "code",
   "execution_count": 35,
   "metadata": {},
   "outputs": [
    {
     "data": {
      "text/plain": [
       "[27, 32]"
      ]
     },
     "execution_count": 35,
     "metadata": {},
     "output_type": "execute_result"
    }
   ],
   "source": [
    "capas_2"
   ]
  },
  {
   "cell_type": "code",
   "execution_count": 36,
   "metadata": {},
   "outputs": [
    {
     "data": {
      "text/plain": [
       "[33, 34]"
      ]
     },
     "execution_count": 36,
     "metadata": {},
     "output_type": "execute_result"
    }
   ],
   "source": [
    "capas_1"
   ]
  },
  {
   "cell_type": "code",
   "execution_count": 37,
   "metadata": {},
   "outputs": [],
   "source": [
    "\n",
    "\n",
    "\n",
    "\n",
    "f5 = gmsh.model.addPhysicalGroup(3, capas_1)\n",
    "gmsh.model.setPhysicalName(3, f5, \"CAPAS_1\")\n",
    "\n",
    "f4 = gmsh.model.addPhysicalGroup(3, capas_2)\n",
    "gmsh.model.setPhysicalName(3, f4, \"CAPAS_2\")\n",
    "\n",
    "f6 = gmsh.model.addPhysicalGroup(3, capas_3)\n",
    "gmsh.model.setPhysicalName(3, f6, \"CAPAS_3\")\n",
    "#"
   ]
  },
  {
   "cell_type": "code",
   "execution_count": 38,
   "metadata": {},
   "outputs": [],
   "source": [
    "\n",
    "#algorithm\n",
    "gmsh.option.setNumber(\"Mesh.Algorithm\", 6)\n",
    "\n"
   ]
  },
  {
   "cell_type": "code",
   "execution_count": 39,
   "metadata": {},
   "outputs": [],
   "source": [
    "gmsh.fltk.run()"
   ]
  },
  {
   "cell_type": "code",
   "execution_count": 40,
   "metadata": {},
   "outputs": [],
   "source": [
    "\n",
    "\n",
    "def BoxRefine(x1,x2,y1,y2,z1,z2,vin,vout):\n",
    "\n",
    "    field_tag = gmsh.model.mesh.field.add(\"Box\")\n",
    "\n",
    "    gmsh.model.mesh.field.setNumber(field_tag, \"VIn\", vin)\n",
    "    gmsh.model.mesh.field.setNumber(field_tag, \"VOut\", vout)\n",
    "\n",
    "    gmsh.model.mesh.field.setNumber(field_tag, \"XMin\", x1)\n",
    "    gmsh.model.mesh.field.setNumber(field_tag, \"XMax\", x2)\n",
    "\n",
    "    gmsh.model.mesh.field.setNumber(field_tag, \"YMin\", y1)\n",
    "    gmsh.model.mesh.field.setNumber(field_tag, \"YMax\", y2)\n",
    "\n",
    "    gmsh.model.mesh.field.setNumber(field_tag, \"ZMin\", z1)\n",
    "    gmsh.model.mesh.field.setNumber(field_tag, \"ZMax\", z2)\n",
    "\n",
    "    # Thickness\n",
    "    gmsh.model.mesh.field.setNumber(field_tag, \"Thickness\", 1)\n",
    "\n",
    "    return field_tag\n",
    "\n",
    "BaseMeshSize = 1.5\n",
    "\n",
    "field_tag_base = BoxRefine(0, Lx, \n",
    "                           -Ly/2, Ly/2, \n",
    "                           -Lz/2, Lz/2,\n",
    "                            BaseMeshSize, BaseMeshSize)\n",
    "\n",
    "FineMeshSize = 0.2\n",
    "\n",
    "field_tag_fine = BoxRefine(    0        , lx/2,\n",
    "                            -Ly/2        , Ly/2, \n",
    "                            -z0 - 3*hz , -z0 ,\n",
    "                            FineMeshSize, BaseMeshSize)\n",
    "\n",
    "\n",
    "FineMeshSize = 0.125\n",
    "\n",
    "field_tag_fine_2 = BoxRefine(    0        , 0.05*lx/2,\n",
    "                            -Ly/2        , Ly/2, \n",
    "                            -z0 - 3*hz , -z0 ,\n",
    "                            FineMeshSize, BaseMeshSize)\n",
    "\n",
    "\n",
    "\n",
    "field_tag_min =  gmsh.model.mesh.field.add(\"Min\")\n",
    "gmsh.model.mesh.field.setNumbers(field_tag_min, \"FieldsList\", \n",
    "                                [field_tag_base, \n",
    "                                 field_tag_fine,\n",
    "                                    field_tag_fine_2,\n",
    "                                 ])\n",
    "\n",
    "gmsh.model.mesh.field.setAsBackgroundMesh(field_tag_min)\n",
    "\n",
    "gmsh.option.setNumber(\"Mesh.MeshSizeExtendFromBoundary\", 0)\n",
    "gmsh.option.setNumber(\"Mesh.MeshSizeFromPoints\", 0)\n",
    "gmsh.option.setNumber(\"Mesh.MeshSizeFromCurvature\", 8)\n"
   ]
  },
  {
   "cell_type": "markdown",
   "metadata": {},
   "source": []
  },
  {
   "cell_type": "code",
   "execution_count": null,
   "metadata": {},
   "outputs": [],
   "source": []
  },
  {
   "cell_type": "code",
   "execution_count": 41,
   "metadata": {},
   "outputs": [
    {
     "data": {
      "text/plain": [
       "4"
      ]
     },
     "execution_count": 41,
     "metadata": {},
     "output_type": "execute_result"
    }
   ],
   "source": [
    "field_tag_min"
   ]
  },
  {
   "cell_type": "code",
   "execution_count": 42,
   "metadata": {},
   "outputs": [],
   "source": [
    "# gmsh.fltk.run()"
   ]
  },
  {
   "cell_type": "code",
   "execution_count": 43,
   "metadata": {},
   "outputs": [],
   "source": [
    "\n",
    "gmsh.model.mesh.generate(3)\n",
    "# optimize\n",
    "# second order \n",
    "gmsh.model.mesh.optimize(\"Netgen\",force=False)\n",
    "gmsh.model.mesh.setOrder(2)\n",
    "\n",
    "gmsh.write(\"t1_large.inp\")"
   ]
  },
  {
   "cell_type": "code",
   "execution_count": 44,
   "metadata": {},
   "outputs": [
    {
     "data": {
      "text/html": [
       "<div>\n",
       "<style scoped>\n",
       "    .dataframe tbody tr th:only-of-type {\n",
       "        vertical-align: middle;\n",
       "    }\n",
       "\n",
       "    .dataframe tbody tr th {\n",
       "        vertical-align: top;\n",
       "    }\n",
       "\n",
       "    .dataframe thead th {\n",
       "        text-align: right;\n",
       "    }\n",
       "</style>\n",
       "<table border=\"1\" class=\"dataframe\">\n",
       "  <thead>\n",
       "    <tr style=\"text-align: right;\">\n",
       "      <th></th>\n",
       "      <th>Unnamed: 0</th>\n",
       "      <th>Evec [GPa]</th>\n",
       "    </tr>\n",
       "  </thead>\n",
       "  <tbody>\n",
       "    <tr>\n",
       "      <th>0</th>\n",
       "      <td>X</td>\n",
       "      <td>10.156514</td>\n",
       "    </tr>\n",
       "    <tr>\n",
       "      <th>1</th>\n",
       "      <td>SX</td>\n",
       "      <td>8.410847</td>\n",
       "    </tr>\n",
       "    <tr>\n",
       "      <th>2</th>\n",
       "      <td>Y</td>\n",
       "      <td>21.993829</td>\n",
       "    </tr>\n",
       "    <tr>\n",
       "      <th>3</th>\n",
       "      <td>SY</td>\n",
       "      <td>8.379982</td>\n",
       "    </tr>\n",
       "    <tr>\n",
       "      <th>4</th>\n",
       "      <td>Nucleo</td>\n",
       "      <td>0.880000</td>\n",
       "    </tr>\n",
       "  </tbody>\n",
       "</table>\n",
       "</div>"
      ],
      "text/plain": [
       "  Unnamed: 0  Evec [GPa]\n",
       "0          X   10.156514\n",
       "1         SX    8.410847\n",
       "2          Y   21.993829\n",
       "3         SY    8.379982\n",
       "4     Nucleo    0.880000"
      ]
     },
     "execution_count": 44,
     "metadata": {},
     "output_type": "execute_result"
    }
   ],
   "source": [
    "import pandas as pd\n",
    "path = r\"C:\\Users\\djoroya\\Documents\\GitHub\\CITISENS_Composite_v2\\scripts_finals\\01_metodo\\02_flexion\\04_optim_stress\\df_pred.csv\"\n",
    "df_pred = pd.read_csv(path, sep=\",\")\n",
    "df_pred\n",
    "\n",
    "path = r\"C:\\Users\\djoroya\\Documents\\GitHub\\CITISENS_Composite_v2\\scripts_finals\\01_metodo\\02_flexion\\01_optim\\mat.csv\"\n",
    "df_mat = pd.read_csv(path, sep=\",\")\n",
    "df_mat\n",
    "\n",
    "df_layers = r\"C:\\Users\\djoroya\\Documents\\GitHub\\CITISENS_Composite_v2\\scripts_finals\\01_metodo\\02_flexion\\01_optim\\layers.csv\"\n",
    "df_layers = pd.read_csv(df_layers, sep=\",\")\n",
    "df_layers"
   ]
  },
  {
   "cell_type": "code",
   "execution_count": 45,
   "metadata": {},
   "outputs": [],
   "source": [
    "E1 = 1e3*df_layers.loc[2].values[1]  # Y\n",
    "E2 = 1e3*df_layers.loc[0].values[1]  # X\n",
    "E3 = 1e3*df_layers.loc[3].values[1]  # SY\n",
    "\n",
    "Ec = 1e3*df_mat.loc[1].values[1] \n",
    "\n",
    "nu = 0.3 \n",
    "Em = 1e3*df_mat.loc[0].values[1] \n",
    "En = 880\n"
   ]
  },
  {
   "cell_type": "code",
   "execution_count": null,
   "metadata": {},
   "outputs": [],
   "source": []
  },
  {
   "cell_type": "code",
   "execution_count": 46,
   "metadata": {},
   "outputs": [],
   "source": [
    "from djccx.inp.inp import  inp \n",
    "\n",
    "inp_f = inp(\"t1_large.inp\")\n",
    "\n",
    "inp_f.remove_by_type(2)\n",
    "\n",
    "nodes = inp_f.nodes.df\n",
    "\n",
    "nodes_sym = nodes.copy()\n",
    "nodes_sym = nodes_sym[ nodes_sym[\"x\"] < 1e-3] \n",
    "\n",
    "nset_sym_x = inp_f.CreateNsetFromIds(nodes_sym.index, \"sym_x\")\n",
    "\n",
    "# nodes_sym = nodes.copy()\n",
    "# nodes_sym = nodes_sym[ nodes_sym[\"y\"] < 1e-3] \n",
    "\n",
    "# nset_sym_y = inp_f.CreateNsetFromIds(nodes_sym.index, \"sym_y\")\n",
    "\n",
    "nodes_fixed = nodes.copy()\n",
    "nodes_fixed = nodes_fixed[ nodes_fixed[\"x\"] > 0.5*Lx  - 1e-1]\n",
    "nodes_fixed = nodes_fixed[ nodes_fixed[\"z\"] < -0.5*Lz + 1e-1]\n",
    "\n",
    "nset_fixed = inp_f.CreateNsetFromIds(nodes_fixed.index, \"fixed\")\n",
    "\n",
    "# nodes_fixed_minus = nodes.copy()\n",
    "# nodes_fixed_minus = nodes_fixed_minus[ nodes_fixed_minus[\"x\"] < -0.5*Lx + 1e-1]\n",
    "# nodes_fixed_minus = nodes_fixed_minus[ nodes_fixed_minus[\"z\"] < -0.5*Lz + 1e-1]\n",
    "\n",
    "# nset_fixed_minus = inp_f.CreateNsetFromIds(nodes_fixed_minus.index, \"fixed_minus\")\n",
    "\n",
    "nodes_force = nodes.copy()\n",
    "z_unique = nodes_force[\"z\"].unique()\n",
    "z_unique = np.sort(z_unique)\n",
    "nodes_force = nodes_force[ nodes_force[\"x\"]  == 0]\n",
    "nodes_force = nodes_force[ nodes_force[\"z\"] == z_unique[-1] ]\n",
    "nset_force = inp_f.CreateNsetFromIds(nodes_force.index, \"force\")\n",
    "\n",
    "# materials \n",
    "mat_fibras = inp_f.CreateElasticMaterial(\"FIBRES\", Ec, nu)\n",
    "mat_resina = inp_f.CreateElasticMaterial(\"RESINA\", Em, nu)\n",
    "mat_capas_1 = inp_f.CreateElasticMaterial(\"CAPAS_1\", E1, nu)\n",
    "mat_capas_2 = inp_f.CreateElasticMaterial(\"CAPAS_2\", E2, nu)\n",
    "mat_capas_3 = inp_f.CreateElasticMaterial(\"CAPAS_3\", E3, nu)\n",
    "\n",
    "mat_nucleo = inp_f.CreateElasticMaterial(\"NUCLEO\", En, nu)\n",
    "\n",
    "\n",
    "# elsets \n",
    "fibres_elset = inp_f.select(\"FIBRES\",\"elset\")\n",
    "resina_elset = inp_f.select(\"RESINA\",\"elset\")\n",
    "capas_1_elset = inp_f.select(\"CAPAS_1\",\"elset\")\n",
    "capas_2_elset = inp_f.select(\"CAPAS_2\",\"elset\")\n",
    "capas_3_elset = inp_f.select(\"CAPAS_3\",\"elset\")\n",
    "nucleo_elset = inp_f.select(\"NUCLEO\",\"elset\")\n",
    "\n",
    "inp_f.CreateSolidSection( fibres_elset, mat_fibras)\n",
    "inp_f.CreateSolidSection( resina_elset, mat_resina)\n",
    "inp_f.CreateSolidSection( capas_1_elset, mat_capas_1)\n",
    "inp_f.CreateSolidSection( capas_2_elset, mat_capas_2)\n",
    "inp_f.CreateSolidSection( capas_3_elset, mat_capas_3)\n",
    "inp_f.CreateSolidSection( nucleo_elset, mat_nucleo)\n",
    "#\n",
    "\n",
    "istep = inp_f.CreateStaticStep()\n",
    "istep.CreateBoundary(nset_fixed,3,0)\n",
    "istep.CreateBoundary(nset_sym_x,1,0)\n",
    "\n",
    "disp = 5\n",
    "istep.CreateBoundary(nset_force, 3, -disp)\n",
    "\n",
    "\n",
    "inp_f.print(\"t1_new_large.inp\")"
   ]
  },
  {
   "cell_type": "code",
   "execution_count": null,
   "metadata": {},
   "outputs": [],
   "source": []
  },
  {
   "cell_type": "code",
   "execution_count": 47,
   "metadata": {},
   "outputs": [
    {
     "data": {
      "text/plain": [
       "[<matplotlib.lines.Line2D at 0x1a276d51d10>]"
      ]
     },
     "execution_count": 47,
     "metadata": {},
     "output_type": "execute_result"
    },
    {
     "data": {
      "image/png": "[encoded data removed]",
      "text/plain": [
       "<Figure size 640x480 with 1 Axes>"
      ]
     },
     "metadata": {},
     "output_type": "display_data"
    }
   ],
   "source": [
    "from matplotlib import pyplot as plt\n",
    "\n",
    "plt.plot(nodes_force[\"x\"], nodes_force[\"z\"], \"o\")"
   ]
  },
  {
   "cell_type": "code",
   "execution_count": 48,
   "metadata": {},
   "outputs": [],
   "source": [
    "fibres_elset = inp_f.select(\"FIBRES\",\"elset\")\n"
   ]
  },
  {
   "cell_type": "code",
   "execution_count": 49,
   "metadata": {},
   "outputs": [
    {
     "data": {
      "text/plain": [
       "[Card (*ELSET) :FIBRES,\n",
       " Card (*ELSET) :NUCLEO,\n",
       " Card (*ELSET) :RESINA,\n",
       " Card (*ELSET) :CAPAS_1,\n",
       " Card (*ELSET) :CAPAS_2,\n",
       " Card (*ELSET) :CAPAS_3]"
      ]
     },
     "execution_count": 49,
     "metadata": {},
     "output_type": "execute_result"
    }
   ],
   "source": [
    "inp_f.elsets"
   ]
  },
  {
   "cell_type": "code",
   "execution_count": 50,
   "metadata": {},
   "outputs": [
    {
     "data": {
      "text/plain": [
       "2.891"
      ]
     },
     "execution_count": 50,
     "metadata": {},
     "output_type": "execute_result"
    }
   ],
   "source": [
    "0.5*Lz - 1e-3"
   ]
  },
  {
   "cell_type": "code",
   "execution_count": 51,
   "metadata": {},
   "outputs": [
    {
     "name": "stdout",
     "output_type": "stream",
     "text": [
      "Running Calculix at:  output\n",
      "Output file:  c:\\Users\\djoroya\\Documents\\GitHub\\CITISENS_Composite_v2\\scripts_finals\\02_metodo\\02_flexion\\TPF6\\output\\out.txt\n",
      "Command:\n",
      " C:\\Program Files\\Microsoft MPI\\Bin\\mpiexec -n 4 c:\\Users\\djoroya\\Documents\\GitHub\\CITISENS_Composite_v2\\.conda\\Lib\\site-packages\\djccx\\bin\\ccx_dynamic.exe main\n",
      "Error reading cvf file\n",
      "\n",
      "pid:  14236 \n",
      "\n",
      "Calculix finished\n",
      "\n"
     ]
    },
    {
     "data": {
      "text/plain": [
       "{'data':           node          x         y        z        D1        D2        D3  \\\n",
       " node                                                                         \n",
       " 1            1   0.000000  -7.03159 -2.83262  0.000000  0.039885 -4.912600   \n",
       " 2            2   0.000000  -7.03159 -2.47638  0.000000  0.036406 -4.916200   \n",
       " 3            3   0.352832  -7.01505 -2.47638  0.010811  0.035738 -4.916460   \n",
       " 4            4   0.352832  -7.01505 -2.83262  0.011084  0.039064 -4.912890   \n",
       " 5            5   0.000000  -7.96841 -2.47638  0.000000  0.038734 -4.924470   \n",
       " ...        ...        ...       ...      ...       ...       ...       ...   \n",
       " 486661  486661   0.813571   2.04100  2.53512 -0.032555  0.002687 -4.957430   \n",
       " 486662  486662   1.329060  11.59240  2.77408 -0.051496  0.077607 -4.977660   \n",
       " 486663  486663  20.075900  11.52920  2.77191 -0.505603  0.030420 -2.361030   \n",
       " 486664  486664  15.393000 -11.47560  2.77326 -0.434283 -0.069304 -3.290720   \n",
       " 486665  486665  29.294100  -5.88725  2.77267 -0.558086 -0.021569 -0.273051   \n",
       " \n",
       "                SXX         SYY        SZZ  ...       EYZ       EZX  \\\n",
       " node                                       ...                       \n",
       " 1        822.96600   23.694100  -0.405520  ... -0.000067  0.000051   \n",
       " 2        770.20400   38.630000  23.895900  ... -0.006819 -0.000027   \n",
       " 3        858.84700  123.138000  -8.880900  ... -0.009175  0.002572   \n",
       " 4       1034.83000  127.601000  -2.513780  ...  0.000205 -0.001233   \n",
       " 5        363.63800   93.343000  14.605200  ... -0.008052  0.000394   \n",
       " ...            ...         ...        ...  ...       ...       ...   \n",
       " 486661  -393.06100  -49.005200  59.551300  ... -0.000056  0.006715   \n",
       " 486662  -316.65200   -3.169300   7.075730  ... -0.000086  0.000486   \n",
       " 486663  -106.66100   -0.207344  -0.186167  ...  0.000004  0.000209   \n",
       " 486664  -152.64300    0.012992  -0.074288  ... -0.000010  0.000217   \n",
       " 486665     6.20759   14.577200  -0.218487  ... -0.000016 -0.000215   \n",
       " \n",
       "                   F1            F2            F3    STR(%)  S_von_mises  \\\n",
       " node                                                                      \n",
       " 1      -7.185360e-02 -6.990620e-13 -1.845980e-13   2.37195   811.592788   \n",
       " 2      -8.818430e-02  1.294390e-13  4.423930e-12   2.08919   742.859843   \n",
       " 3       4.830410e-13  2.871310e-13  1.479390e-11   7.93674   850.667568   \n",
       " 4       1.586840e-12 -8.108300e-13 -2.358930e-12   4.74838  1004.617742   \n",
       " 5      -6.091410e-02 -1.881520e-12 -2.649020e-12  10.64440   330.469213   \n",
       " ...              ...           ...           ...       ...          ...   \n",
       " 486661 -1.685540e-12  4.911310e-13  9.235570e-12   8.48934   416.182819   \n",
       " 486662 -3.740020e-12 -8.242600e-13  3.957490e-11   4.24100   319.646933   \n",
       " 486663  1.298530e-12 -9.214580e-12 -4.428870e-11   3.25032   107.169310   \n",
       " 486664 -4.420570e-12  3.493210e-12  4.645740e-11   2.68103   152.995985   \n",
       " 486665 -2.554050e-12 -2.469550e-14  1.465880e-12   5.79493    13.408609   \n",
       " \n",
       "                  P1          P2          P3  \n",
       " node                                         \n",
       " 1        822.967294   23.709956   -0.422670  \n",
       " 2        770.205185   75.248123  -12.723409  \n",
       " 3        878.374040  152.340164  -57.610104  \n",
       " 4       1053.099365  110.784403   -3.966548  \n",
       " 5        363.669214  120.514660  -12.597674  \n",
       " ...             ...         ...         ...  \n",
       " 486661    63.653438  -48.929368 -397.238969  \n",
       " 486662     7.124458   -2.597485 -317.272543  \n",
       " 486663     0.254258   -0.178161 -107.130607  \n",
       " 486664     0.256076   -0.061782 -152.898590  \n",
       " 486665    14.925188    6.150659   -0.509544  \n",
       " \n",
       " [486665 rows x 27 columns],\n",
       " 'mesh': array([[ 38447, 211481, 211389, ...,  38677, 211531, 211530],\n",
       "        [ 37530, 211448, 211453, ..., 211535, 211537, 211536],\n",
       "        [211508,    226,   3319, ..., 211540,  37597,  37599],\n",
       "        ...,\n",
       "        [   501, 484423, 121237, ..., 486259, 486230, 485566],\n",
       "        [   499,  16902, 121218, ..., 484562, 486451, 486486],\n",
       "        [ 16902, 484328, 484389, ..., 121255, 486486, 486425]],\n",
       "       shape=(347440, 10)),\n",
       " 'steps': array(['step_01_01'], dtype='<U10'),\n",
       " 'data_blocks': [          node          x         y        z        D1        D2        D3  \\\n",
       "  node                                                                         \n",
       "  1            1   0.000000  -7.03159 -2.83262  0.000000  0.039885 -4.912600   \n",
       "  2            2   0.000000  -7.03159 -2.47638  0.000000  0.036406 -4.916200   \n",
       "  3            3   0.352832  -7.01505 -2.47638  0.010811  0.035738 -4.916460   \n",
       "  4            4   0.352832  -7.01505 -2.83262  0.011084  0.039064 -4.912890   \n",
       "  5            5   0.000000  -7.96841 -2.47638  0.000000  0.038734 -4.924470   \n",
       "  ...        ...        ...       ...      ...       ...       ...       ...   \n",
       "  486661  486661   0.813571   2.04100  2.53512 -0.032555  0.002687 -4.957430   \n",
       "  486662  486662   1.329060  11.59240  2.77408 -0.051496  0.077607 -4.977660   \n",
       "  486663  486663  20.075900  11.52920  2.77191 -0.505603  0.030420 -2.361030   \n",
       "  486664  486664  15.393000 -11.47560  2.77326 -0.434283 -0.069304 -3.290720   \n",
       "  486665  486665  29.294100  -5.88725  2.77267 -0.558086 -0.021569 -0.273051   \n",
       "  \n",
       "                 SXX         SYY        SZZ  ...       EYZ       EZX  \\\n",
       "  node                                       ...                       \n",
       "  1        822.96600   23.694100  -0.405520  ... -0.000067  0.000051   \n",
       "  2        770.20400   38.630000  23.895900  ... -0.006819 -0.000027   \n",
       "  3        858.84700  123.138000  -8.880900  ... -0.009175  0.002572   \n",
       "  4       1034.83000  127.601000  -2.513780  ...  0.000205 -0.001233   \n",
       "  5        363.63800   93.343000  14.605200  ... -0.008052  0.000394   \n",
       "  ...            ...         ...        ...  ...       ...       ...   \n",
       "  486661  -393.06100  -49.005200  59.551300  ... -0.000056  0.006715   \n",
       "  486662  -316.65200   -3.169300   7.075730  ... -0.000086  0.000486   \n",
       "  486663  -106.66100   -0.207344  -0.186167  ...  0.000004  0.000209   \n",
       "  486664  -152.64300    0.012992  -0.074288  ... -0.000010  0.000217   \n",
       "  486665     6.20759   14.577200  -0.218487  ... -0.000016 -0.000215   \n",
       "  \n",
       "                    F1            F2            F3    STR(%)  S_von_mises  \\\n",
       "  node                                                                      \n",
       "  1      -7.185360e-02 -6.990620e-13 -1.845980e-13   2.37195   811.592788   \n",
       "  2      -8.818430e-02  1.294390e-13  4.423930e-12   2.08919   742.859843   \n",
       "  3       4.830410e-13  2.871310e-13  1.479390e-11   7.93674   850.667568   \n",
       "  4       1.586840e-12 -8.108300e-13 -2.358930e-12   4.74838  1004.617742   \n",
       "  5      -6.091410e-02 -1.881520e-12 -2.649020e-12  10.64440   330.469213   \n",
       "  ...              ...           ...           ...       ...          ...   \n",
       "  486661 -1.685540e-12  4.911310e-13  9.235570e-12   8.48934   416.182819   \n",
       "  486662 -3.740020e-12 -8.242600e-13  3.957490e-11   4.24100   319.646933   \n",
       "  486663  1.298530e-12 -9.214580e-12 -4.428870e-11   3.25032   107.169310   \n",
       "  486664 -4.420570e-12  3.493210e-12  4.645740e-11   2.68103   152.995985   \n",
       "  486665 -2.554050e-12 -2.469550e-14  1.465880e-12   5.79493    13.408609   \n",
       "  \n",
       "                   P1          P2          P3  \n",
       "  node                                         \n",
       "  1        822.967294   23.709956   -0.422670  \n",
       "  2        770.205185   75.248123  -12.723409  \n",
       "  3        878.374040  152.340164  -57.610104  \n",
       "  4       1053.099365  110.784403   -3.966548  \n",
       "  5        363.669214  120.514660  -12.597674  \n",
       "  ...             ...         ...         ...  \n",
       "  486661    63.653438  -48.929368 -397.238969  \n",
       "  486662     7.124458   -2.597485 -317.272543  \n",
       "  486663     0.254258   -0.178161 -107.130607  \n",
       "  486664     0.256076   -0.061782 -152.898590  \n",
       "  486665    14.925188    6.150659   -0.509544  \n",
       "  \n",
       "  [486665 rows x 27 columns]]}"
      ]
     },
     "execution_count": 51,
     "metadata": {},
     "output_type": "execute_result"
    }
   ],
   "source": [
    "inp_f.run(\"output\")"
   ]
  },
  {
   "cell_type": "code",
   "execution_count": null,
   "metadata": {},
   "outputs": [],
   "source": []
  },
  {
   "cell_type": "code",
   "execution_count": null,
   "metadata": {},
   "outputs": [],
   "source": []
  }
 ],
 "metadata": {
  "kernelspec": {
   "display_name": "Python 3",
   "language": "python",
   "name": "python3"
  },
  "language_info": {
   "codemirror_mode": {
    "name": "ipython",
    "version": 3
   },
   "file_extension": ".py",
   "mimetype": "text/x-python",
   "name": "python",
   "nbconvert_exporter": "python",
   "pygments_lexer": "ipython3",
   "version": "3.13.2"
  }
 },
 "nbformat": 4,
 "nbformat_minor": 2
}
