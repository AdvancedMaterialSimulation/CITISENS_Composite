{
 "cells": [
  {
   "cell_type": "code",
   "execution_count": 1,
   "metadata": {},
   "outputs": [
    {
     "data": {
      "text/plain": [
       "15.0"
      ]
     },
     "execution_count": 1,
     "metadata": {},
     "output_type": "execute_result"
    }
   ],
   "source": [
    "25*6/10"
   ]
  },
  {
   "cell_type": "code",
   "execution_count": 2,
   "metadata": {},
   "outputs": [
    {
     "data": {
      "text/plain": [
       "<matplotlib.legend.Legend at 0x14e1cbd7770>"
      ]
     },
     "execution_count": 2,
     "metadata": {},
     "output_type": "execute_result"
    },
    {
     "data": {
      "image/png": "[encoded data removed]",
      "text/plain": [
       "<Figure size 640x480 with 1 Axes>"
      ]
     },
     "metadata": {},
     "output_type": "display_data"
    }
   ],
   "source": [
    "from matplotlib import pyplot as plt\n",
    "import numpy as np\n",
    "\n",
    "\n",
    "def rectangle(x, y, width, height, color,linestyle=\"-\"):\n",
    "    plt.fill([x, x, x + width, x + width], \n",
    "             [y, y + height, y + height, y], color=\"None\", edgecolor=color, linestyle=linestyle)\n",
    "\n",
    "lx = 10\n",
    "\n",
    "rectangle(0,   0,  lx,  10  , 'red')\n",
    "rectangle(0,   0, -lx,  10  , 'red')\n",
    "rectangle(0,   0,  lx, 12.5 , 'red')\n",
    "rectangle(0,   0, -lx, 12.5 , 'red')\n",
    "\n",
    "\n",
    "\n",
    "rectangle(0,   0,  lx,  -10  , 'blue',linestyle=\"--\")\n",
    "rectangle(0,   0, -lx,  -10  , 'blue',linestyle=\"--\")\n",
    "rectangle(0,   0,  lx, -12.5 , 'blue',linestyle=\"--\")\n",
    "rectangle(0,   0, -lx, -12.5 , 'blue',linestyle=\"--\")\n",
    "# aspect ratio\n",
    "\n",
    "R = 10/4\n",
    "T = 10\n",
    "\n",
    "t1 = np.linspace(0, 1, 500)\n",
    "\n",
    "# =============================================================================\n",
    "def fparams(t,y0):\n",
    "    y = 12.5*t\n",
    "    x = -R*np.cos(2*np.pi*y/T) + y0\n",
    "    return x,y\n",
    "\n",
    "x1,y1 = fparams(t1,-4*R)\n",
    "\n",
    "y1 = t1*2*R + R\n",
    "x1 = -R*np.cos(2*np.pi*y1/T) - 2*R\n",
    "\n",
    "plt.plot(x1,y1, 'r',label=\"1\")\n",
    "\n",
    "\n",
    "x3,y3 = fparams(t1,0)\n",
    "plt.plot(x3,y3, 'b',label=\"3\")\n",
    "\n",
    "\n",
    "y5 = t1*R \n",
    "x5 = -R*np.cos(2*np.pi*y5/T) + 2*R\n",
    "plt.plot(x5,y5, 'y' ,label=\"5\")\n",
    "\n",
    "y6 = t1*2*R + 3*R\n",
    "x6 = -R*np.cos(2*np.pi*y6/T) + 2*R\n",
    "plt.plot(x6,y6, 'm' ,label=\"6\")\n",
    "\n",
    "\n",
    "# =============================================================================\n",
    "\n",
    "\n",
    "plt.gca().set_aspect('equal', adjustable='box')\n",
    "plt.legend()"
   ]
  },
  {
   "cell_type": "code",
   "execution_count": null,
   "metadata": {},
   "outputs": [],
   "source": []
  },
  {
   "cell_type": "code",
   "execution_count": 3,
   "metadata": {},
   "outputs": [],
   "source": [
    "from gmshtools.CircRect6 import CircRect\n"
   ]
  },
  {
   "cell_type": "code",
   "execution_count": 4,
   "metadata": {},
   "outputs": [],
   "source": [
    "import gmsh \n",
    "\n",
    "gmsh.initialize()\n",
    "\n",
    "gmsh.model.add(\"t1\")\n",
    "\n",
    "# cilindro\n",
    "Ly = 25\n",
    "Lx = 60\n",
    "tn  = 2.934\n",
    "tl = 0.475\n",
    "r  = 3*tl/8\n",
    "d_Y  = 0.74297\n",
    "d_SX = 0.5895\n",
    "\n",
    "A = np.pi*r**2\n",
    "\n",
    "\n",
    "\n",
    "R = 10/6\n",
    "nx_fibres = 3\n",
    "\n",
    "lx = 10\n",
    "\n",
    "z0 = tn/2\n",
    "dx = 0.1 \n",
    "dz = 0.1\n",
    "\n",
    "hx = R\n",
    "hz = tl\n",
    "Lz = 2*2*hz + 2*z0 \n",
    "\n",
    "def CreateCylinder_Lxx(x0,z0):\n",
    "\n",
    "    ellipse_1 = CircRect(x0, 0, z0, \n",
    "                         r, d_Y, \n",
    "                         [0,1,0] ,            # vec_z \n",
    "                         [1,0,0])             # vec_x\n",
    "    \n",
    "    ellipse_2 = CircRect(x0, +Ly/2, z0,\n",
    "                            r, d_Y, \n",
    "                            [0,1,0] ,            # vec_z \n",
    "                            [1,0,0])             # vec_x\n",
    "    gmsh.model.occ.synchronize()\n",
    "\n",
    "    thrusection = gmsh.model.occ.addThruSections([ellipse_1, ellipse_2])\n",
    "\n",
    "    gmsh.model.occ.synchronize()\n",
    "\n",
    "    return thrusection[0][1]\n",
    "\n",
    "def CreateCylinder_Lyy(y0,z0):\n",
    "    \n",
    "    ellipse_1 = CircRect(-lx/2, y0, z0,\n",
    "                            r, d_Y, \n",
    "                            [1,0,0] ,            # vec_z \n",
    "                            [0,1,0])             # vec_x\n",
    "    \n",
    "    ellipse_2 = CircRect(lx/2, y0, z0,\n",
    "                            r, d_Y, \n",
    "                            [1,0,0] ,            # vec_z \n",
    "                            [0,1,0])             # vec_x\n",
    "    \n",
    "    gmsh.model.occ.synchronize()\n",
    "\n",
    "\n",
    "\n",
    "    thrusection = gmsh.model.occ.addThruSections([ellipse_1, ellipse_2])\n",
    "\n",
    "    gmsh.model.occ.synchronize()\n",
    "\n",
    "    return thrusection[0][1]\n",
    "\n",
    "FM1_list = []\n"
   ]
  },
  {
   "cell_type": "code",
   "execution_count": 5,
   "metadata": {},
   "outputs": [
    {
     "name": "stdout",
     "output_type": "stream",
     "text": [
      "yarn 1\n",
      "yarn 2\n",
      "yarn 3\n",
      "yarn 4\n"
     ]
    }
   ],
   "source": [
    "\n",
    "from gmshtools.CreateYarnRect import CreateYarnRect\n",
    "\n",
    "trajs_mid = [ \n",
    "              [x3,y3]]\n",
    "\n",
    "for itraj_2D in trajs_mid:\n",
    "    trajs = np.array([[itraj_2D[0][i],\n",
    "                       itraj_2D[1][i], \n",
    "                    -z0 - 3*hz/2 ] \n",
    "                    for i in range(len(itraj_2D[0]))])\n",
    "\n",
    "    yarn = CreateYarnRect({\"trajs\":trajs, \n",
    "                    \"r\":r, \n",
    "                    \"d\": d_SX,\n",
    "                    \"density\":4,\n",
    "                    \"skip_left\":2,\n",
    "                    \"skip_right\":4,\n",
    "                    \"vec_init\":[0,1,0],\n",
    "                    \"vec_end\":[0,1,0]})\n",
    "\n",
    "    FM1_list.append(yarn[\"volumes\"][0][1])\n",
    "    print(\"yarn\", yarn[\"volumes\"][0][1])\n",
    "\n",
    "# x1,y1\n",
    "itraj_2D = [x1,y1]\n",
    "trajs = np.array([[itraj_2D[0][i],\n",
    "                    itraj_2D[1][i], \n",
    "                -z0 - 3*hz/2 ] \n",
    "                for i in range(len(itraj_2D[0]))])\n",
    "\n",
    "yarn = CreateYarnRect({\"trajs\":trajs, \n",
    "                    \"r\":r, \n",
    "                    \"d\": d_SX,\n",
    "                \"density\":4,\n",
    "                \"skip_left\":2,\n",
    "                \"skip_right\":3,\n",
    "                \"vec_init\":[1  , 0 , 0],\n",
    "                \"vec_end\" :[-1 , 0 , 0]})\n",
    "\n",
    "FM1_list.append(yarn[\"volumes\"][0][1])\n",
    "print(\"yarn\", yarn[\"volumes\"][0][1])\n",
    "\n",
    "\n",
    "# x5,y5\n",
    "itraj_2D = [x5,y5]\n",
    "trajs = np.array([[itraj_2D[0][i],\n",
    "                    itraj_2D[1][i], \n",
    "                -z0 - 3*hz/2 ] \n",
    "                for i in range(len(itraj_2D[0]))])\n",
    "\n",
    "yarn = CreateYarnRect({\"trajs\":trajs, \n",
    "                    \"r\":r, \n",
    "                    \"d\": d_SX,\n",
    "                \"density\":4,\n",
    "                \"skip_left\":2,\n",
    "                \"skip_right\":2,\n",
    "                \"vec_init\":[0  , 1 , 0],\n",
    "                \"vec_end\" :[1 , 0 , 0]})\n",
    "FM1_list.append(yarn[\"volumes\"][0][1])\n",
    "print(\"yarn\", yarn[\"volumes\"][0][1])    \n",
    "\n",
    "# x6,y6\n",
    "itraj_2D = [x6,y6]\n",
    "trajs = np.array([[itraj_2D[0][i],\n",
    "                    itraj_2D[1][i], \n",
    "                -z0 - 3*hz/2 ] \n",
    "                for i in range(len(itraj_2D[0]))])\n",
    "\n",
    "yarn = CreateYarnRect({\"trajs\":trajs,\n",
    "                    \"r\":r, \n",
    "                    \"d\": d_SX,\n",
    "                \"density\":4,\n",
    "                \"skip_left\":2,\n",
    "                \"skip_right\":4,\n",
    "                \"vec_init\":[-1 , 0 , 0],\n",
    "                \"vec_end\" :[1 , 0 , 0]})\n",
    "\n",
    "\n",
    "# gmsh.fltk.run()\n",
    "# FM1_list.append(yarn[\"volumes\"][0][1])\n",
    "print(\"yarn\", yarn[\"volumes\"][0][1])\n"
   ]
  },
  {
   "cell_type": "code",
   "execution_count": 6,
   "metadata": {},
   "outputs": [
    {
     "data": {
      "text/plain": [
       "{'volumes': [(3, 4)]}"
      ]
     },
     "execution_count": 6,
     "metadata": {},
     "output_type": "execute_result"
    }
   ],
   "source": [
    "yarn"
   ]
  },
  {
   "cell_type": "code",
   "execution_count": 7,
   "metadata": {},
   "outputs": [],
   "source": [
    "# gmsh.fltk.run()"
   ]
  },
  {
   "cell_type": "code",
   "execution_count": 8,
   "metadata": {},
   "outputs": [],
   "source": [
    "box_cut = gmsh.model.occ.addBox(-Lx/2, -Ly/2, -Lz/2, Lx, Ly, Lz)\n",
    "gmsh.model.occ.synchronize()\n",
    "\n",
    "yarn_cut = gmsh.model.occ.intersect(yarn[\"volumes\"], [(3,box_cut)])\n",
    "gmsh.model.occ.synchronize()\n",
    "\n",
    "# gmsh.fltk.run()\n",
    "\n",
    "FM1_list.append(yarn_cut[0][0][1])\n",
    "\n"
   ]
  },
  {
   "cell_type": "code",
   "execution_count": 9,
   "metadata": {},
   "outputs": [],
   "source": [
    "\n",
    "gmsh.model.occ.synchronize()\n",
    "# \n",
    "#\n",
    "\n",
    "nfilaments = int(0.5*25*6/10)\n",
    "\n",
    "yspan = np.arange(0, Ly/2 - hx, hx)\n",
    "yspan = yspan + hx/2\n",
    "\n",
    "FM2_list = []\n",
    "for iy in yspan:\n",
    "    FibreMinus_02 = CreateCylinder_Lyy(iy, -z0 - hz/2 )\n",
    "\n",
    "    FM2_list.append(FibreMinus_02)\n",
    "\n",
    "FM2_list.extend(FM1_list)\n",
    "\n",
    "\n",
    "\n",
    "\n",
    "# Identificamos las fibras\n",
    "fibres_tags = np.concatenate([FM1_list, FM2_list])\n",
    "f1 = gmsh.model.addPhysicalGroup(3, fibres_tags)\n",
    "gmsh.model.setPhysicalName(3, f1, \"Fibres\")\n",
    "\n",
    "\n",
    "gmsh.model.occ.synchronize()\n",
    "box_01 = gmsh.model.occ.addBox(-Lx/2, 0 , + z0 ,\n",
    "                                Lx   ,  Ly/2   ,  2*hz    )\n",
    "\n",
    "box_02 = gmsh.model.occ.addBox(-lx/2, 0 , - z0 ,\n",
    "                                lx   ,  Ly/2   ,  -2*hz    )\n",
    "\n",
    "gmsh.model.occ.synchronize()\n",
    "\n",
    "\n",
    "box_02_cut = gmsh.model.occ.cut([(3, box_02)], \n",
    "                   [(3,i) for i in FM2_list],\n",
    "                   removeTool=False)\n",
    "\n",
    "gmsh.model.occ.synchronize()"
   ]
  },
  {
   "cell_type": "code",
   "execution_count": 10,
   "metadata": {},
   "outputs": [],
   "source": [
    "# gmsh.fltk.run()\n"
   ]
  },
  {
   "cell_type": "code",
   "execution_count": 11,
   "metadata": {},
   "outputs": [],
   "source": [
    "\n",
    "\n",
    "# # box \n",
    "# #\n",
    "# gmsh.model.occ.synchronize()\n",
    "# #\n",
    "\n",
    "box_big_mid = gmsh.model.occ.addBox(-Lx/2      , 0     , -z0,\n",
    "                                     Lx   ,  Ly/2   ,  2*z0    )\n",
    "\n",
    "\n",
    "box_sup = gmsh.model.occ.addBox(-Lx/2       ,   0     , z0 + hz,\n",
    "                                 Lx    ,  Ly/2   ,  hz       )\n",
    "\n",
    "# partition with rectangle \n",
    "\n",
    "# (0, Ly/2,  z0 + 2*hz)\n",
    "# (0, Ly/2, -z0 - 2*hz)\n",
    "# (0, -Ly/2, -z0 - 2*hz)\n",
    "# (0, -Ly/2,  z0 + 2*hz)\n",
    "\n",
    "p1_rect = gmsh.model.occ.addPoint(0, Ly/2,  z0 + 2*hz)\n",
    "p2_rect = gmsh.model.occ.addPoint(0, Ly/2, -z0 - 2*hz)\n",
    "p3_rect = gmsh.model.occ.addPoint(0, 0   , -z0 - 2*hz)\n",
    "p4_rect = gmsh.model.occ.addPoint(0, 0   ,  z0 + 2*hz)\n",
    "\n",
    "gmsh.model.occ.synchronize()\n",
    "\n",
    "l1 =  gmsh.model.occ.addLine(p1_rect, p2_rect)\n",
    "l2 =  gmsh.model.occ.addLine(p2_rect, p3_rect)\n",
    "l3 =  gmsh.model.occ.addLine(p3_rect, p4_rect)\n",
    "l4 =  gmsh.model.occ.addLine(p4_rect, p1_rect)\n",
    "\n",
    "gmsh.model.occ.synchronize()\n",
    "\n",
    "ll = gmsh.model.occ.addCurveLoop([l1,l2,l3,l4])\n",
    "gmsh.model.occ.synchronize()\n",
    "\n",
    "ss = gmsh.model.occ.addPlaneSurface([ll])\n",
    "gmsh.model.occ.synchronize()\n",
    "\n",
    "# gmsh.fltk.run()\n",
    "\n",
    "box_sup = gmsh.model.occ.fragment([(3,box_sup)], [(2,ss)])\n",
    "gmsh.model.occ.synchronize()\n",
    "\n",
    "# gmsh.fltk.run()\n",
    "\n",
    "box_inf = gmsh.model.occ.addBox(-Lx/2       ,   0     , -z0 - hz,\n",
    "                                 Lx    ,  Ly/2   ,  -hz       )\n",
    "\n",
    "gmsh.model.occ.synchronize()\n",
    "volumes = gmsh.model.getEntities(3)\n",
    "\n",
    "\n",
    "\n",
    "box_big = gmsh.model.occ.addBox(-Lx/2,  0      , -Lz/2,\n",
    "                                 Lx  ,  Ly/2   ,  Lz    )\n",
    "\n",
    "gmsh.model.occ.synchronize()\n",
    "\n",
    "# cut box_big - volumes\n",
    "box_big = gmsh.model.occ.fragment([(3,box_big)], volumes)\n",
    "\n",
    "\n",
    "\n",
    "gmsh.model.occ.synchronize()\n",
    "\n",
    "\n",
    "# buscar la caja que tiene como media z= 0\n"
   ]
  },
  {
   "cell_type": "code",
   "execution_count": 12,
   "metadata": {},
   "outputs": [],
   "source": [
    "# gmsh.fltk.run()\n"
   ]
  },
  {
   "cell_type": "code",
   "execution_count": 13,
   "metadata": {},
   "outputs": [],
   "source": [
    "gmsh.model.occ.synchronize()\n",
    "volumes = gmsh.model.getEntities(3)\n",
    "com = [ gmsh.model.occ.getCenterOfMass(3, i[1]) \n",
    "       for i in volumes ]\n",
    "#encontart volumenes con yCOM > 12.5\n",
    "volumes = [volumes[i] for i in range(len(volumes)) if com[i][1] > 12.5]\n",
    "# eliminar volumenes\n",
    "gmsh.model.occ.remove([i for i in volumes],recursive=True)\n",
    "gmsh.model.occ.synchronize()"
   ]
  },
  {
   "cell_type": "code",
   "execution_count": 14,
   "metadata": {},
   "outputs": [
    {
     "data": {
      "text/plain": [
       "[]"
      ]
     },
     "execution_count": 14,
     "metadata": {},
     "output_type": "execute_result"
    }
   ],
   "source": [
    "volumes"
   ]
  },
  {
   "cell_type": "code",
   "execution_count": 15,
   "metadata": {},
   "outputs": [],
   "source": [
    "# gmsh.fltk.run()\n"
   ]
  },
  {
   "cell_type": "code",
   "execution_count": 16,
   "metadata": {},
   "outputs": [],
   "source": [
    "# Identificamos el nucleo\n",
    "# Este es el volumen con menor valor de z en valor absoluto\n",
    "volumes = gmsh.model.getEntities(3)\n",
    "com = [ gmsh.model.occ.getCenterOfMass(3, i[1]) \n",
    "       for i in volumes ]\n",
    "\n",
    "\n",
    "sort_com_index = np.argsort(np.abs(np.array(com)[:,2]))\n",
    "\n",
    "id_nucleo = volumes[sort_com_index[0]][1]\n",
    "# physical group\n",
    "f2 = gmsh.model.addPhysicalGroup(3, [id_nucleo])\n",
    "gmsh.model.setPhysicalName(3, f2, \"Nucleo\")\n",
    "# \n",
    "gmsh.model.occ.synchronize()"
   ]
  },
  {
   "cell_type": "code",
   "execution_count": 17,
   "metadata": {},
   "outputs": [],
   "source": [
    "\n",
    "\n",
    "# Selecionamos todos los volumenes que no sean ni fibras ni nucleo\n",
    "resina = [ i[1] for i in volumes if i[1] != id_nucleo ]\n",
    "resina = [ i for i in resina if i not in fibres_tags]\n",
    "\n",
    "\n",
    "# sort by x\n",
    "com = [ gmsh.model.occ.getCenterOfMass(3, i) \n",
    "       for i in resina ]\n",
    "\n",
    "sort_com_index = np.argsort(np.abs(np.array(com)[:,0]))\n",
    "\n",
    "resina = [resina[i] for i in sort_com_index]\n"
   ]
  },
  {
   "cell_type": "code",
   "execution_count": 18,
   "metadata": {},
   "outputs": [],
   "source": [
    "layers_centrales = resina[:4]\n",
    "\n",
    "\n",
    "com_centrals = [ gmsh.model.occ.getCenterOfMass(3, i)\n",
    "         for i in layers_centrales ]\n",
    "\n",
    "# sort by z\n",
    "sort_com_index = np.argsort(np.array(com_centrals)[:,2])\n",
    "layers_centrales = [layers_centrales[i] for i in sort_com_index]\n",
    "\n",
    "resina = layers_centrales[:2]\n",
    "\n",
    "f3 = gmsh.model.addPhysicalGroup(3, resina)\n",
    "gmsh.model.setPhysicalName(3, f3, \"Resina\")\n"
   ]
  },
  {
   "cell_type": "code",
   "execution_count": 19,
   "metadata": {},
   "outputs": [
    {
     "data": {
      "text/plain": [
       "[19, 20, 22, 15]"
      ]
     },
     "execution_count": 19,
     "metadata": {},
     "output_type": "execute_result"
    }
   ],
   "source": [
    "layers_centrales"
   ]
  },
  {
   "cell_type": "code",
   "execution_count": 20,
   "metadata": {},
   "outputs": [],
   "source": [
    "\n",
    "volumes = gmsh.model.getEntities(3)\n",
    "volumes = [ i for i in volumes if i[1] not in resina]\n",
    "volumes = [ i for i in volumes if i[1] not in fibres_tags]\n",
    "volumes = [ i for i in volumes if i[1] != id_nucleo]\n"
   ]
  },
  {
   "cell_type": "code",
   "execution_count": 21,
   "metadata": {},
   "outputs": [],
   "source": [
    "com = [ abs(gmsh.model.occ.getCenterOfMass(3, i[1])[2])\n",
    "         for i in volumes ]\n",
    "com = np.array(com)\n",
    "com = np.round(com, 2)\n",
    "com_unique = np.unique(com)\n",
    "com_unique = np.sort(com_unique)"
   ]
  },
  {
   "cell_type": "code",
   "execution_count": 22,
   "metadata": {},
   "outputs": [],
   "source": [
    "\n",
    "capas_1 = [ i[1] for i,ic in zip(volumes, com) if ic == com_unique[0]]\n",
    "capas_2 = [ i[1] for i,ic in zip(volumes, com) if ic == com_unique[1]]"
   ]
  },
  {
   "cell_type": "code",
   "execution_count": 23,
   "metadata": {},
   "outputs": [
    {
     "data": {
      "text/plain": [
       "[18, 22, 23]"
      ]
     },
     "execution_count": 23,
     "metadata": {},
     "output_type": "execute_result"
    }
   ],
   "source": [
    "capas_1"
   ]
  },
  {
   "cell_type": "code",
   "execution_count": 24,
   "metadata": {},
   "outputs": [
    {
     "data": {
      "text/plain": [
       "[15, 16, 17, 21]"
      ]
     },
     "execution_count": 24,
     "metadata": {},
     "output_type": "execute_result"
    }
   ],
   "source": [
    "capas_2"
   ]
  },
  {
   "cell_type": "code",
   "execution_count": 25,
   "metadata": {},
   "outputs": [],
   "source": [
    "\n",
    "\n",
    "f4 = gmsh.model.addPhysicalGroup(3, capas_2)\n",
    "gmsh.model.setPhysicalName(3, f4, \"CAPAS_2\")\n",
    "\n",
    "f5 = gmsh.model.addPhysicalGroup(3, capas_1)\n",
    "gmsh.model.setPhysicalName(3, f5, \"CAPAS_1\")\n",
    "\n",
    "\n",
    "#"
   ]
  },
  {
   "cell_type": "code",
   "execution_count": 26,
   "metadata": {},
   "outputs": [],
   "source": [
    "# gmsh.fltk.run()\n",
    "\n"
   ]
  },
  {
   "cell_type": "code",
   "execution_count": 27,
   "metadata": {},
   "outputs": [],
   "source": [
    "def BoxRefine(x1,x2,y1,y2,z1,z2,vin,vout,Thickness=0.25):\n",
    "    \n",
    "\n",
    "    field_tag = gmsh.model.mesh.field.add(\"Box\")\n",
    "\n",
    "    gmsh.model.mesh.field.setNumber(field_tag, \"VIn\", vin)\n",
    "    gmsh.model.mesh.field.setNumber(field_tag, \"VOut\", vout)\n",
    "\n",
    "    gmsh.model.mesh.field.setNumber(field_tag, \"XMin\", x1)\n",
    "    gmsh.model.mesh.field.setNumber(field_tag, \"XMax\", x2)\n",
    "\n",
    "    gmsh.model.mesh.field.setNumber(field_tag, \"YMin\", y1)\n",
    "    gmsh.model.mesh.field.setNumber(field_tag, \"YMax\", y2)\n",
    "\n",
    "    gmsh.model.mesh.field.setNumber(field_tag, \"ZMin\", z1)\n",
    "    gmsh.model.mesh.field.setNumber(field_tag, \"ZMax\", z2)\n",
    "\n",
    "    # Thickness\n",
    "    gmsh.model.mesh.field.setNumber(field_tag, \"Thickness\", Thickness)\n",
    "\n",
    "    return field_tag"
   ]
  },
  {
   "cell_type": "code",
   "execution_count": 28,
   "metadata": {},
   "outputs": [],
   "source": [
    "#field\n",
    "gmsh.option.setNumber(\"Mesh.MeshSizeFromCurvature\", 9) # 20\n",
    "\n",
    "mesh_inter = 1.5*r\n",
    "mesh_min = 2.0*r \n",
    "mesh_max = 7.0*r\n",
    "mesh_out = 10.0*r\n",
    "\n",
    "dx_per = 1.05\n",
    "#  \n",
    "field_base = BoxRefine(-Lx/2    ,  Lx/2, \n",
    "                       0    ,  Ly/2, \n",
    "                      -Lz/2 ,  Lz/2,\n",
    "                    mesh_out, mesh_out)\n",
    "\n",
    "field_mid = BoxRefine(- dx_per*nx_fibres*hx    ,   dx_per*nx_fibres*hx,\n",
    "                          0    ,  Ly/2, \n",
    "                            -z0 - 2*hz, -z0,\n",
    "                      mesh_min, mesh_out)\n",
    "\n",
    "field_curves = BoxRefine(- dx_per*nx_fibres*hx    ,   dx_per*nx_fibres*hx,\n",
    "                          0    ,  Ly/2, \n",
    "                            -z0 - 2*hz, -z0 -hz,\n",
    "                      0.5*mesh_min, mesh_out,Thickness=0.1)\n",
    "\n",
    "field_x = BoxRefine(-Lx/2    , -Lx/2 + 1,\n",
    "                       0    ,  0.05*Ly/2, \n",
    "                    -z0 - 2*hz, -z0,\n",
    "                    0.2*mesh_min, mesh_out)\n",
    "\n",
    "list_field = [field_base, field_mid, field_curves]\n",
    "\n",
    "field_min = gmsh.model.mesh.field.add(\"Min\")\n",
    "gmsh.model.mesh.field.setNumbers(field_min, \"FieldsList\", list_field)\n",
    "\n",
    "gmsh.model.mesh.field.setAsBackgroundMesh(field_min)\n"
   ]
  },
  {
   "cell_type": "code",
   "execution_count": 29,
   "metadata": {},
   "outputs": [],
   "source": [
    "# gmsh.fltk.run()"
   ]
  },
  {
   "cell_type": "code",
   "execution_count": 30,
   "metadata": {},
   "outputs": [],
   "source": [
    "\n",
    "gmsh.model.mesh.generate(3)\n",
    "# optimize\n",
    "# second order \n",
    "gmsh.model.mesh.optimize(\"Netgen\",force=False)\n",
    "gmsh.model.mesh.setOrder(2)\n",
    "\n",
    "gmsh.write(\"t1.inp\")"
   ]
  },
  {
   "cell_type": "code",
   "execution_count": 31,
   "metadata": {},
   "outputs": [
    {
     "data": {
      "text/html": [
       "<div>\n",
       "<style scoped>\n",
       "    .dataframe tbody tr th:only-of-type {\n",
       "        vertical-align: middle;\n",
       "    }\n",
       "\n",
       "    .dataframe tbody tr th {\n",
       "        vertical-align: top;\n",
       "    }\n",
       "\n",
       "    .dataframe thead th {\n",
       "        text-align: right;\n",
       "    }\n",
       "</style>\n",
       "<table border=\"1\" class=\"dataframe\">\n",
       "  <thead>\n",
       "    <tr style=\"text-align: right;\">\n",
       "      <th></th>\n",
       "      <th>Unnamed: 0</th>\n",
       "      <th>Evec [GPa]</th>\n",
       "    </tr>\n",
       "  </thead>\n",
       "  <tbody>\n",
       "    <tr>\n",
       "      <th>0</th>\n",
       "      <td>X</td>\n",
       "      <td>10.156514</td>\n",
       "    </tr>\n",
       "    <tr>\n",
       "      <th>1</th>\n",
       "      <td>SX</td>\n",
       "      <td>8.410847</td>\n",
       "    </tr>\n",
       "    <tr>\n",
       "      <th>2</th>\n",
       "      <td>Y</td>\n",
       "      <td>21.993829</td>\n",
       "    </tr>\n",
       "    <tr>\n",
       "      <th>3</th>\n",
       "      <td>SY</td>\n",
       "      <td>8.379982</td>\n",
       "    </tr>\n",
       "    <tr>\n",
       "      <th>4</th>\n",
       "      <td>Nucleo</td>\n",
       "      <td>0.880000</td>\n",
       "    </tr>\n",
       "  </tbody>\n",
       "</table>\n",
       "</div>"
      ],
      "text/plain": [
       "  Unnamed: 0  Evec [GPa]\n",
       "0          X   10.156514\n",
       "1         SX    8.410847\n",
       "2          Y   21.993829\n",
       "3         SY    8.379982\n",
       "4     Nucleo    0.880000"
      ]
     },
     "execution_count": 31,
     "metadata": {},
     "output_type": "execute_result"
    }
   ],
   "source": [
    "import pandas as pd\n",
    "path = r\"C:\\Users\\djoroya\\Documents\\GitHub\\CITISENS_Composite_v2\\scripts_finals\\01_metodo\\02_flexion\\04_optim_stress\\df_pred.csv\"\n",
    "df_pred = pd.read_csv(path, sep=\",\")\n",
    "df_pred\n",
    "\n",
    "path = r\"C:\\Users\\djoroya\\Documents\\GitHub\\CITISENS_Composite_v2\\scripts_finals\\01_metodo\\02_flexion\\01_optim\\mat.csv\"\n",
    "df_mat = pd.read_csv(path, sep=\",\")\n",
    "df_mat\n",
    "\n",
    "df_layers = r\"C:\\Users\\djoroya\\Documents\\GitHub\\CITISENS_Composite_v2\\scripts_finals\\01_metodo\\02_flexion\\01_optim\\layers.csv\"\n",
    "df_layers = pd.read_csv(df_layers, sep=\",\")\n",
    "df_layers"
   ]
  },
  {
   "cell_type": "code",
   "execution_count": 32,
   "metadata": {},
   "outputs": [],
   "source": [
    "E1 = 1e3*df_layers.loc[2].values[1] \n",
    "E2 = 1e3*df_layers.loc[1].values[1]  \n",
    "\n",
    "Ec = 1e3*df_mat.loc[1].values[1] \n",
    "\n",
    "nu = 0.3 \n",
    "Em = 1e3*df_mat.loc[0].values[1] \n",
    "En = 880\n"
   ]
  },
  {
   "cell_type": "code",
   "execution_count": 33,
   "metadata": {},
   "outputs": [],
   "source": [
    "from djccx.inp.inp import  inp \n",
    "\n",
    "inp_f = inp(\"t1.inp\")\n",
    "\n",
    "inp_f.remove_by_type(2)\n",
    "\n",
    "nodes = inp_f.nodes.df\n",
    "\n",
    "# nodes_sym = nodes.copy()\n",
    "# nodes_sym = nodes_sym[ nodes_sym[\"x\"] < 1e-3] \n",
    "\n",
    "# nset_sym_x = inp_f.CreateNsetFromIds(nodes_sym.index, \"sym_x\")\n",
    "\n",
    "nodes_sym = nodes.copy()\n",
    "nodes_sym = nodes_sym[ nodes_sym[\"y\"] < 1e-3] \n",
    "\n",
    "nset_sym_y = inp_f.CreateNsetFromIds(nodes_sym.index, \"sym_y\")\n",
    "\n",
    "nodes_fixed = nodes.copy()\n",
    "nodes_fixed = nodes_fixed[ nodes_fixed[\"x\"] > 0.5*Lx  - 1e-1]\n",
    "nodes_fixed = nodes_fixed[ nodes_fixed[\"z\"] < -0.5*Lz + 1e-1]\n",
    "\n",
    "nset_fixed = inp_f.CreateNsetFromIds(nodes_fixed.index, \"fixed\")\n",
    "\n",
    "\n",
    "nodes_fixed_minus = nodes.copy()\n",
    "nodes_fixed_minus = nodes_fixed_minus[ nodes_fixed_minus[\"x\"] < -0.5*Lx + 1e-1]\n",
    "nodes_fixed_minus = nodes_fixed_minus[ nodes_fixed_minus[\"z\"] < -0.5*Lz + 1e-1]\n",
    "\n",
    "nset_fixed_minus = inp_f.CreateNsetFromIds(nodes_fixed_minus.index, \"fixed_minus\")\n",
    "\n",
    "nodes_force = nodes.copy()\n",
    "nodes_force = nodes_force[ nodes_force[\"x\"]  < 1e-1 ]\n",
    "nodes_force = nodes_force[ nodes_force[\"x\" ] > -1e-1]\n",
    "nodes_force = nodes_force[ nodes_force[\"z\"]  > 0.5*Lz - 1e-1]\n",
    "\n",
    "nset_force = inp_f.CreateNsetFromIds(nodes_force.index, \"force\")\n",
    "\n",
    "# materials \n",
    "mat_fibras = inp_f.CreateElasticMaterial(\"FIBRES\", Ec, nu)\n",
    "mat_resina = inp_f.CreateElasticMaterial(\"RESINA\", Em, nu)\n",
    "mat_capas_1 = inp_f.CreateElasticMaterial(\"CAPAS_1\", E1, nu)\n",
    "mat_capas_2 = inp_f.CreateElasticMaterial(\"CAPAS_2\", E2, nu)\n",
    "mat_nucleo = inp_f.CreateElasticMaterial(\"NUCLEO\", En, nu)\n",
    "\n",
    "\n",
    "# elsets \n",
    "fibres_elset = inp_f.select(\"FIBRES\",\"elset\")\n",
    "resina_elset = inp_f.select(\"RESINA\",\"elset\")\n",
    "capas_1_elset = inp_f.select(\"CAPAS_1\",\"elset\")\n",
    "capas_2_elset = inp_f.select(\"CAPAS_2\",\"elset\")\n",
    "nucleo_elset = inp_f.select(\"NUCLEO\",\"elset\")\n",
    "\n",
    "inp_f.CreateSolidSection( fibres_elset, mat_fibras)\n",
    "inp_f.CreateSolidSection( resina_elset, mat_resina)\n",
    "inp_f.CreateSolidSection( capas_1_elset, mat_capas_1)\n",
    "inp_f.CreateSolidSection( capas_2_elset, mat_capas_2)\n",
    "inp_f.CreateSolidSection( nucleo_elset, mat_nucleo)\n",
    "#\n",
    "\n",
    "istep = inp_f.CreateStaticStep()\n",
    "istep.CreateBoundary(nset_fixed,3,0)\n",
    "istep.CreateBoundary(nset_fixed_minus,3,0)\n",
    "istep.CreateBoundary(nset_sym_y,2,0)\n",
    "\n",
    "disp = 5\n",
    "istep.CreateBoundary(nset_force, 3, -disp)\n",
    "\n",
    "\n",
    "inp_f.print(\"t1_new.inp\")"
   ]
  },
  {
   "cell_type": "code",
   "execution_count": 34,
   "metadata": {},
   "outputs": [],
   "source": [
    "fibres_elset = inp_f.select(\"FIBRES\",\"elset\")\n"
   ]
  },
  {
   "cell_type": "code",
   "execution_count": 35,
   "metadata": {},
   "outputs": [
    {
     "data": {
      "text/plain": [
       "[Card (*ELSET) :FIBRES,\n",
       " Card (*ELSET) :NUCLEO,\n",
       " Card (*ELSET) :RESINA,\n",
       " Card (*ELSET) :CAPAS_2,\n",
       " Card (*ELSET) :CAPAS_1]"
      ]
     },
     "execution_count": 35,
     "metadata": {},
     "output_type": "execute_result"
    }
   ],
   "source": [
    "inp_f.elsets"
   ]
  },
  {
   "cell_type": "code",
   "execution_count": 36,
   "metadata": {},
   "outputs": [
    {
     "name": "stdout",
     "output_type": "stream",
     "text": [
      "Running Calculix at:  output\n",
      "Output file:  c:\\Users\\djoroya\\Documents\\GitHub\\CITISENS_Composite_v2\\scripts_finals\\02_metodo\\02_flexion\\TPF3\\output\\out.txt\n",
      "Command:\n",
      " C:\\Program Files\\Microsoft MPI\\Bin\\mpiexec -n 4 c:\\Users\\djoroya\\Documents\\GitHub\\CITISENS_Composite_v2\\.conda\\Lib\\site-packages\\djccx\\bin\\ccx_dynamic.exe main\n",
      "Error reading cvf file\n",
      "\n",
      "pid:  5512 \n",
      "\n",
      "Calculix finished\n",
      "\n"
     ]
    },
    {
     "data": {
      "text/plain": [
       "{'data':           node         x             y        z        D1        D2        D3  \\\n",
       " node                                                                            \n",
       " 1            1  -2.85373  0.000000e+00 -2.35763 -0.075708  0.000000 -4.835250   \n",
       " 2            2  -2.85373  0.000000e+00 -2.00137 -0.058541  0.000000 -4.836480   \n",
       " 3            3  -2.64746  6.188850e-01 -2.00137 -0.055486  0.001499 -4.847500   \n",
       " 4            4  -2.64746  6.188850e-01 -2.35763 -0.071463  0.001106 -4.846190   \n",
       " 5            5  -2.50000 -1.000000e-08 -2.00137 -0.056773  0.000000 -4.853300   \n",
       " ...        ...       ...           ...      ...       ...       ...       ...   \n",
       " 374235  374235   6.34158  3.369760e-01 -1.80965  0.127034 -0.001102 -4.522500   \n",
       " 374236  374236   5.05976  1.048460e+00 -1.89089  0.107409 -0.004387 -4.652440   \n",
       " 374237  374237  22.53470  1.126740e+01 -1.82109  0.336303 -0.022207 -1.819920   \n",
       " 374238  374238  28.92280  3.504130e+00 -1.82601  0.365010 -0.003056 -0.290801   \n",
       " 374239  374239  26.01060  1.142930e+01 -1.82402  0.353298 -0.013480 -1.027320   \n",
       " \n",
       "              SXX         SYY        SZZ  ...       EYZ       EZX  \\\n",
       " node                                     ...                       \n",
       " 1       260.4940  132.635000  20.413300  ... -0.000435  0.008374   \n",
       " 2       189.2730  145.429000 -13.364400  ...  0.000418 -0.015177   \n",
       " 3       199.4940   88.642200 -27.633100  ... -0.003817 -0.019758   \n",
       " 4       219.2690  119.899000  14.454500  ... -0.001800  0.006145   \n",
       " 5       175.6870  136.094000   6.360440  ... -0.000015 -0.002241   \n",
       " ...          ...         ...        ...  ...       ...       ...   \n",
       " 374235  421.6690   51.983300  -0.314355  ... -0.000050  0.000253   \n",
       " 374236  497.3640   41.123700  -3.863100  ...  0.000579 -0.008550   \n",
       " 374237  136.8180   -0.429627  -0.021145  ... -0.000017  0.000394   \n",
       " 374238   17.0762   -8.798360   8.712920  ... -0.000046  0.000489   \n",
       " 374239   74.8117   -0.247045   3.594900  ...  0.000136  0.000130   \n",
       " \n",
       "                   F1            F2            F3    STR(%)  S_von_mises  \\\n",
       " node                                                                      \n",
       " 1       1.354050e-12  3.699060e-04 -2.093400e-11  13.06700   225.120787   \n",
       " 2      -4.606560e-14 -1.041300e-03  1.262580e-11  11.80270   256.805113   \n",
       " 3      -1.450370e-11  1.060780e-14 -1.090340e-10  10.15480   311.909923   \n",
       " 4       1.286610e-13 -8.171700e-12 -4.410540e-11  12.85060   206.764183   \n",
       " 5       5.357730e-12 -1.497700e-02  5.161520e-12   4.08617   156.009121   \n",
       " ...              ...           ...           ...       ...          ...   \n",
       " 374235  9.459020e-12  1.008190e-10  1.747660e-10   3.33228   398.724271   \n",
       " 374236 -1.624950e-11  8.809010e-12 -1.003920e-10  20.62250   542.176227   \n",
       " 374237  1.839610e-10  4.900490e-11  1.575900e-09   5.84645   137.850665   \n",
       " 374238 -1.731350e-10  1.261370e-10 -7.176100e-12  34.68520    27.894769   \n",
       " 374239 -2.678230e-10  4.024180e-10  1.580460e-09  23.98750    73.564294   \n",
       " \n",
       "                 P1          P2         P3  \n",
       " node                                       \n",
       " 1       270.359138  132.612963  10.570199  \n",
       " 2       232.472746  145.410485 -56.545631  \n",
       " 3       273.063558   73.833957 -86.394415  \n",
       " 4       243.419257  104.389537   5.813706  \n",
       " 5       177.256396  136.092204   4.792840  \n",
       " ...            ...         ...        ...  \n",
       " 374235  421.881928   51.824731  -0.368714  \n",
       " 374236  536.167528   42.631988 -44.174917  \n",
       " 374237  137.353776    0.083066  -1.069614  \n",
       " 374238   22.458663    4.181015  -9.648918  \n",
       " 374239   74.977999    4.535892  -1.354336  \n",
       " \n",
       " [374239 rows x 27 columns],\n",
       " 'mesh': array([[ 14738, 150143, 149667, ..., 151340, 151342, 151341],\n",
       "        [149482, 151041, 150336, ..., 151346, 151348, 151347],\n",
       "        [  1470, 149521, 149803, ..., 151352, 151354, 151353],\n",
       "        ...,\n",
       "        [141780, 141989, 370704, ..., 371443, 371327, 372732],\n",
       "        [370704, 370566,  12706, ..., 374223, 372037, 142185],\n",
       "        [ 12705, 141989, 370704, ..., 142186, 142187, 374223]],\n",
       "       shape=(267039, 10)),\n",
       " 'steps': array(['step_01_01'], dtype='<U10'),\n",
       " 'data_blocks': [          node         x             y        z        D1        D2        D3  \\\n",
       "  node                                                                            \n",
       "  1            1  -2.85373  0.000000e+00 -2.35763 -0.075708  0.000000 -4.835250   \n",
       "  2            2  -2.85373  0.000000e+00 -2.00137 -0.058541  0.000000 -4.836480   \n",
       "  3            3  -2.64746  6.188850e-01 -2.00137 -0.055486  0.001499 -4.847500   \n",
       "  4            4  -2.64746  6.188850e-01 -2.35763 -0.071463  0.001106 -4.846190   \n",
       "  5            5  -2.50000 -1.000000e-08 -2.00137 -0.056773  0.000000 -4.853300   \n",
       "  ...        ...       ...           ...      ...       ...       ...       ...   \n",
       "  374235  374235   6.34158  3.369760e-01 -1.80965  0.127034 -0.001102 -4.522500   \n",
       "  374236  374236   5.05976  1.048460e+00 -1.89089  0.107409 -0.004387 -4.652440   \n",
       "  374237  374237  22.53470  1.126740e+01 -1.82109  0.336303 -0.022207 -1.819920   \n",
       "  374238  374238  28.92280  3.504130e+00 -1.82601  0.365010 -0.003056 -0.290801   \n",
       "  374239  374239  26.01060  1.142930e+01 -1.82402  0.353298 -0.013480 -1.027320   \n",
       "  \n",
       "               SXX         SYY        SZZ  ...       EYZ       EZX  \\\n",
       "  node                                     ...                       \n",
       "  1       260.4940  132.635000  20.413300  ... -0.000435  0.008374   \n",
       "  2       189.2730  145.429000 -13.364400  ...  0.000418 -0.015177   \n",
       "  3       199.4940   88.642200 -27.633100  ... -0.003817 -0.019758   \n",
       "  4       219.2690  119.899000  14.454500  ... -0.001800  0.006145   \n",
       "  5       175.6870  136.094000   6.360440  ... -0.000015 -0.002241   \n",
       "  ...          ...         ...        ...  ...       ...       ...   \n",
       "  374235  421.6690   51.983300  -0.314355  ... -0.000050  0.000253   \n",
       "  374236  497.3640   41.123700  -3.863100  ...  0.000579 -0.008550   \n",
       "  374237  136.8180   -0.429627  -0.021145  ... -0.000017  0.000394   \n",
       "  374238   17.0762   -8.798360   8.712920  ... -0.000046  0.000489   \n",
       "  374239   74.8117   -0.247045   3.594900  ...  0.000136  0.000130   \n",
       "  \n",
       "                    F1            F2            F3    STR(%)  S_von_mises  \\\n",
       "  node                                                                      \n",
       "  1       1.354050e-12  3.699060e-04 -2.093400e-11  13.06700   225.120787   \n",
       "  2      -4.606560e-14 -1.041300e-03  1.262580e-11  11.80270   256.805113   \n",
       "  3      -1.450370e-11  1.060780e-14 -1.090340e-10  10.15480   311.909923   \n",
       "  4       1.286610e-13 -8.171700e-12 -4.410540e-11  12.85060   206.764183   \n",
       "  5       5.357730e-12 -1.497700e-02  5.161520e-12   4.08617   156.009121   \n",
       "  ...              ...           ...           ...       ...          ...   \n",
       "  374235  9.459020e-12  1.008190e-10  1.747660e-10   3.33228   398.724271   \n",
       "  374236 -1.624950e-11  8.809010e-12 -1.003920e-10  20.62250   542.176227   \n",
       "  374237  1.839610e-10  4.900490e-11  1.575900e-09   5.84645   137.850665   \n",
       "  374238 -1.731350e-10  1.261370e-10 -7.176100e-12  34.68520    27.894769   \n",
       "  374239 -2.678230e-10  4.024180e-10  1.580460e-09  23.98750    73.564294   \n",
       "  \n",
       "                  P1          P2         P3  \n",
       "  node                                       \n",
       "  1       270.359138  132.612963  10.570199  \n",
       "  2       232.472746  145.410485 -56.545631  \n",
       "  3       273.063558   73.833957 -86.394415  \n",
       "  4       243.419257  104.389537   5.813706  \n",
       "  5       177.256396  136.092204   4.792840  \n",
       "  ...            ...         ...        ...  \n",
       "  374235  421.881928   51.824731  -0.368714  \n",
       "  374236  536.167528   42.631988 -44.174917  \n",
       "  374237  137.353776    0.083066  -1.069614  \n",
       "  374238   22.458663    4.181015  -9.648918  \n",
       "  374239   74.977999    4.535892  -1.354336  \n",
       "  \n",
       "  [374239 rows x 27 columns]]}"
      ]
     },
     "execution_count": 36,
     "metadata": {},
     "output_type": "execute_result"
    }
   ],
   "source": [
    "inp_f.run(\"output\")"
   ]
  }
 ],
 "metadata": {
  "kernelspec": {
   "display_name": "Python 3",
   "language": "python",
   "name": "python3"
  },
  "language_info": {
   "codemirror_mode": {
    "name": "ipython",
    "version": 3
   },
   "file_extension": ".py",
   "mimetype": "text/x-python",
   "name": "python",
   "nbconvert_exporter": "python",
   "pygments_lexer": "ipython3",
   "version": "3.13.2"
  }
 },
 "nbformat": 4,
 "nbformat_minor": 2
}
