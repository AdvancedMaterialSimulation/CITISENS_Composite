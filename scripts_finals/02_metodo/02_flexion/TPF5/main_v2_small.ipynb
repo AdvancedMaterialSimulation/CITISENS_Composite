{
 "cells": [
  {
   "cell_type": "code",
   "execution_count": 1,
   "metadata": {},
   "outputs": [
    {
     "data": {
      "text/plain": [
       "15.0"
      ]
     },
     "execution_count": 1,
     "metadata": {},
     "output_type": "execute_result"
    }
   ],
   "source": [
    "25*6/10"
   ]
  },
  {
   "cell_type": "code",
   "execution_count": 2,
   "metadata": {},
   "outputs": [
    {
     "data": {
      "text/plain": [
       "<matplotlib.legend.Legend at 0x25316b7f230>"
      ]
     },
     "execution_count": 2,
     "metadata": {},
     "output_type": "execute_result"
    },
    {
     "data": {
      "image/png": "[encoded data removed]",
      "text/plain": [
       "<Figure size 640x480 with 1 Axes>"
      ]
     },
     "metadata": {},
     "output_type": "display_data"
    }
   ],
   "source": [
    "from matplotlib import pyplot as plt\n",
    "import numpy as np\n",
    "\n",
    "\n",
    "def rectangle(x, y, width, height, color,linestyle=\"-\"):\n",
    "    plt.fill([x, x, x + width, x + width], \n",
    "             [y, y + height, y + height, y], color=\"None\", edgecolor=color, linestyle=linestyle)\n",
    "\n",
    "lx = 10\n",
    "\n",
    "rectangle(0,   0,  lx,  10  , 'red')\n",
    "rectangle(0,   0, -lx,  10  , 'red')\n",
    "rectangle(0,   0,  lx, 12.5 , 'red')\n",
    "rectangle(0,   0, -lx, 12.5 , 'red')\n",
    "\n",
    "\n",
    "\n",
    "rectangle(0,   0,  lx,  -10  , 'blue',linestyle=\"--\")\n",
    "rectangle(0,   0, -lx,  -10  , 'blue',linestyle=\"--\")\n",
    "rectangle(0,   0,  lx, -12.5 , 'blue',linestyle=\"--\")\n",
    "rectangle(0,   0, -lx, -12.5 , 'blue',linestyle=\"--\")\n",
    "# aspect ratio\n",
    "\n",
    "R = 10/4\n",
    "T = 10\n",
    "\n",
    "t1 = np.linspace(0, 1, 2000)\n",
    "\n",
    "# =============================================================================\n",
    "def fparams(t,y0):\n",
    "    y = 0.65*lx*(t - 1/2) \n",
    "    x = -R*np.cos(2*np.pi*y/T) + y0\n",
    "    return y,x\n",
    "\n",
    "# x1,y1 = fparams(t1,-4*R)\n",
    "\n",
    "# y1 = t1*2*R + R\n",
    "# x1 = -R*np.cos(2*np.pi*y1/T) - 4*R\n",
    "\n",
    "# plt.plot(x1,y1, 'r',label=\"1\")\n",
    "\n",
    "x1,y1 = fparams(t1,-4*R)\n",
    "plt.plot(x1,y1, 'g',label=\"1\")  \n",
    "\n",
    "x2,y2 = fparams(t1,-2*R)\n",
    "plt.plot(x2,y2, 'g',label=\"2\")  \n",
    "\n",
    "x3,y3 = fparams(t1,0)\n",
    "plt.plot(x3,y3, 'b',label=\"3\")\n",
    "\n",
    "x4,y4 = fparams(t1,2*R)\n",
    "plt.plot(x4,y4, 'c',label=\"4\")\n",
    "\n",
    "\n",
    "x5 = 0.65*lx*(t1 - 1/2) \n",
    "y5 = -R*np.cos(2*np.pi*x5/T) + 4*R\n",
    "# x5,y5 = fparams(t1,4*R)\n",
    "plt.plot(x5,y5, 'r',label=\"5\")\n",
    "\n",
    "\n",
    "# y5 = t1*R \n",
    "# x5 = -R*np.cos(2*np.pi*y5/T) + 4*R\n",
    "# plt.plot(x5,y5, 'y' ,label=\"5\")\n",
    "\n",
    "# y6 = t1*2*R + 3*R\n",
    "# x6 = -R*np.cos(2*np.pi*y6/T) + 4*R\n",
    "# plt.plot(x6,y6, 'm' ,label=\"6\")\n",
    "\n",
    "\n",
    "# =============================================================================\n",
    "\n",
    "\n",
    "plt.gca().set_aspect('equal', adjustable='box')\n",
    "plt.legend()"
   ]
  },
  {
   "cell_type": "code",
   "execution_count": null,
   "metadata": {},
   "outputs": [],
   "source": []
  },
  {
   "cell_type": "code",
   "execution_count": 3,
   "metadata": {},
   "outputs": [],
   "source": [
    "from gmshtools.CircRect6 import CircRect\n"
   ]
  },
  {
   "cell_type": "code",
   "execution_count": 4,
   "metadata": {},
   "outputs": [],
   "source": [
    "import gmsh \n",
    "\n",
    "gmsh.initialize()\n",
    "\n",
    "gmsh.model.add(\"t1\")\n",
    "\n",
    "# cilindro\n",
    "Ly = 25\n",
    "Lx = 60\n",
    "\n",
    "tn  = 2.934\n",
    "tl = 0.475\n",
    "r  = 3*tl/8\n",
    "d_Y  = 0.74297\n",
    "d_SX = 0.5895\n",
    "d_SY = 0.78042\n",
    "\n",
    "A = np.pi*r**2\n",
    "\n",
    "\n",
    "R = 10/6\n",
    "nx_fibres = 6\n",
    "\n",
    "lx = 10\n",
    "\n",
    "z0 = tn/2\n",
    "dx = 0.1 \n",
    "dz = 0.1\n",
    "\n",
    "hx = R\n",
    "hz = tl\n",
    "Lz = 2*(3*hz + z0) \n",
    "\n",
    "def CreateCylinder_Lxx(x0,z0):\n",
    "\n",
    "    ellipse_1 = CircRect(x0, -Ly/2, z0, \n",
    "                         r, d_Y, \n",
    "                         [0,1,0] ,            # vec_z \n",
    "                         [1,0,0])             # vec_x\n",
    "    \n",
    "    ellipse_2 = CircRect(x0, +Ly/2, z0,\n",
    "                         r, d_Y, \n",
    "                            [0,1,0] ,            # vec_z \n",
    "                            [1,0,0])             # vec_x\n",
    "    gmsh.model.occ.synchronize()\n",
    "\n",
    "    thrusection = gmsh.model.occ.addThruSections([ellipse_1, ellipse_2])\n",
    "\n",
    "    gmsh.model.occ.synchronize()\n",
    "\n",
    "    return thrusection[0][1]\n",
    "\n",
    "def CreateCylinder_Lyy(y0,z0):\n",
    "    \n",
    "    ellipse_1 = CircRect(-0.325*lx, y0, z0,\n",
    "                         r, d_Y, \n",
    "                            [1,0,0] ,            # vec_z \n",
    "                            [0,1,0])             # vec_x\n",
    "    \n",
    "    ellipse_2 = CircRect(0.325*lx, y0, z0,\n",
    "                         r, d_Y, \n",
    "                            [1,0,0] ,            # vec_z \n",
    "                            [0,1,0])             # vec_x\n",
    "    \n",
    "    gmsh.model.occ.synchronize()\n",
    "\n",
    "\n",
    "\n",
    "    thrusection = gmsh.model.occ.addThruSections([ellipse_1, ellipse_2])\n",
    "\n",
    "    gmsh.model.occ.synchronize()\n",
    "\n",
    "    return thrusection[0][1]\n",
    "\n",
    "FM1_list = []\n"
   ]
  },
  {
   "cell_type": "code",
   "execution_count": 5,
   "metadata": {},
   "outputs": [
    {
     "name": "stdout",
     "output_type": "stream",
     "text": [
      "yarn 1\n",
      "yarn 2\n",
      "yarn 3\n",
      "yarn 4\n",
      "yarn 5\n"
     ]
    }
   ],
   "source": [
    "\n",
    "from gmshtools.CreateYarnRect import CreateYarnRect\n",
    "\n",
    "trajs_mid = [ [x1,y1],\n",
    "              [x2,y2],\n",
    "              [x3,y3],\n",
    "              [x4,y4],\n",
    "              [x5,y5]]\n",
    "\n",
    "for itraj_2D in trajs_mid:\n",
    "    trajs = np.array([[itraj_2D[0][i],\n",
    "                       itraj_2D[1][i], \n",
    "                    -z0 - 5*hz/2 ] \n",
    "                    for i in range(len(itraj_2D[0]))])\n",
    "\n",
    "    yarn = CreateYarnRect({\"trajs\":trajs, \n",
    "                    \"r\":r, \n",
    "                    \"d\": d_SX,\n",
    "                    \"density\":2.5,\n",
    "                    \"skip_left\":2,\n",
    "                    \"skip_right\":2,\n",
    "                    \"vec_init\":[1,0,0],\n",
    "                    \"vec_end\":[1,0,0]})\n",
    "\n",
    "    FM1_list.append(yarn[\"volumes\"][0][1])\n",
    "    print(\"yarn\", yarn[\"volumes\"][0][1])\n",
    "    # gmsh.fltk.run()"
   ]
  },
  {
   "cell_type": "code",
   "execution_count": 6,
   "metadata": {},
   "outputs": [
    {
     "data": {
      "text/plain": [
       "<matplotlib.legend.Legend at 0x25318e33250>"
      ]
     },
     "execution_count": 6,
     "metadata": {},
     "output_type": "execute_result"
    },
    {
     "data": {
      "image/png": "[encoded data removed]",
      "text/plain": [
       "<Figure size 640x480 with 1 Axes>"
      ]
     },
     "metadata": {},
     "output_type": "display_data"
    }
   ],
   "source": [
    "from matplotlib import pyplot as plt\n",
    "import numpy as np\n",
    "\n",
    "\n",
    "def rectangle(x, y, width, height, color,linestyle=\"-\"):\n",
    "    plt.fill([x, x, x + width, x + width], \n",
    "             [y, y + height, y + height, y], color=\"None\", edgecolor=color, linestyle=linestyle)\n",
    "\n",
    "\n",
    "rectangle(0,   0,  lx/2,  10  , 'red')\n",
    "rectangle(0,   0, -lx/2,  10  , 'red')\n",
    "rectangle(0,   0,  lx/2, 12.5 , 'red')\n",
    "rectangle(0,   0, -lx/2, 12.5 , 'red')\n",
    "\n",
    "\n",
    "\n",
    "rectangle(0,   0,  lx/2,  -10  , 'blue',linestyle=\"--\")\n",
    "rectangle(0,   0, -lx/2,  -10  , 'blue',linestyle=\"--\")\n",
    "rectangle(0,   0,  lx/2, -12.5 , 'blue',linestyle=\"--\")\n",
    "rectangle(0,   0, -lx/2, -12.5 , 'blue',linestyle=\"--\")\n",
    "# aspect ratio\n",
    "\n",
    "R = 10/4\n",
    "T = 10\n",
    "\n",
    "t1 = np.linspace(0, 1, 500)\n",
    "\n",
    "# =============================================================================\n",
    "def fparams(t,y0):\n",
    "    y = 2*12.5*t-12.5\n",
    "    x = -R*np.cos(2*np.pi*y/T) + y0\n",
    "    return x,y\n",
    "\n",
    "\n",
    "# y1 = t1*2*R + R\n",
    "# x1 = -R*np.cos(2*np.pi*y1/T) - 2*R\n",
    "\n",
    "# plt.plot(x1,y1, 'r',label=\"1\")\n",
    "\n",
    "\n",
    "x3,y3 = fparams(t1,0)\n",
    "plt.plot(x3,y3, 'b',label=\"3\")\n",
    "\n",
    "\n",
    "# y5 = 2*t1*R -R\n",
    "# x5 = -R*np.cos(2*np.pi*y5/T) + 2*R\n",
    "# plt.plot(x5,y5, 'y' ,label=\"5\")\n",
    "\n",
    "# y6 = t1*2*R + 3*R\n",
    "# x6 = -R*np.cos(2*np.pi*y6/T) + 2*R\n",
    "# plt.plot(x6,y6, 'm' ,label=\"6\")\n",
    "\n",
    "# y7 = t1*2*R - 3*R\n",
    "# x7 = -R*np.cos(2*np.pi*y1/T) - 2*R\n",
    "# plt.plot(x7,y7, 'k' ,label=\"7\")\n",
    "\n",
    "# =============================================================================\n",
    "\n",
    "\n",
    "plt.gca().set_aspect('equal', adjustable='box')\n",
    "plt.legend()"
   ]
  },
  {
   "cell_type": "code",
   "execution_count": 7,
   "metadata": {},
   "outputs": [
    {
     "name": "stdout",
     "output_type": "stream",
     "text": [
      "yarn 6\n"
     ]
    }
   ],
   "source": [
    "\n",
    "from gmshtools.CreateYarnRect import CreateYarnRect\n",
    "\n",
    "trajs_mid = [ [x3,y3]]\n",
    "\n",
    "for itraj_2D in trajs_mid:\n",
    "    trajs = np.array([[itraj_2D[0][i],\n",
    "                       itraj_2D[1][i], \n",
    "                    -z0 - 3*hz/2 ] \n",
    "                    for i in range(len(itraj_2D[0]))])\n",
    "\n",
    "    yarn = CreateYarnRect({\"trajs\":trajs, \n",
    "                    \"r\":r, \n",
    "                    \"d\": d_SY,\n",
    "                    \"density\":2.5,\n",
    "                    \"skip_left\":3,\n",
    "                    \"skip_right\":4,\n",
    "                    \"vec_init\":[0,1,0],\n",
    "                    \"vec_end\":[0,1,0]})\n",
    "\n",
    "    FM1_list.append(yarn[\"volumes\"][0][1])\n",
    "    print(\"yarn\", yarn[\"volumes\"][0][1])\n"
   ]
  },
  {
   "cell_type": "code",
   "execution_count": 8,
   "metadata": {},
   "outputs": [
    {
     "data": {
      "text/plain": [
       "[(3, 6)]"
      ]
     },
     "execution_count": 8,
     "metadata": {},
     "output_type": "execute_result"
    }
   ],
   "source": [
    "yarn[\"volumes\"]"
   ]
  },
  {
   "cell_type": "code",
   "execution_count": 9,
   "metadata": {},
   "outputs": [],
   "source": [
    "\n",
    "# box_cut = gmsh.model.occ.addBox( -Lx/2 ,  -Ly/2, -Lz/2, \n",
    "#                                    Lx   ,   Ly   , Lz)\n",
    "# gmsh.model.occ.synchronize()\n",
    "\n",
    "# yarn_cut = gmsh.model.occ.intersect(yarn[\"volumes\"], [(3,box_cut)])\n",
    "# gmsh.model.occ.synchronize()\n",
    "\n",
    "# # gmsh.fltk.run()\n",
    "\n",
    "# FM1_list.append(yarn_cut[0][0][1])"
   ]
  },
  {
   "cell_type": "code",
   "execution_count": 10,
   "metadata": {},
   "outputs": [],
   "source": [
    "# yarn_cut[0][0][1]"
   ]
  },
  {
   "cell_type": "code",
   "execution_count": 11,
   "metadata": {},
   "outputs": [],
   "source": [
    "yarn_cut = FM1_list[0]\n",
    "\n",
    "box_cut = gmsh.model.occ.addBox( -Lx/2    ,  -Ly/2 , -Lz/2, \n",
    "                                 Lx ,  Ly   , Lz)\n",
    "gmsh.model.occ.synchronize()\n",
    "\n",
    "yarn_cut = gmsh.model.occ.intersect([(3,yarn_cut)], [(3,box_cut)])\n",
    "gmsh.model.occ.synchronize()\n",
    "\n",
    "FM1_list.append(yarn_cut[0][0][1])\n",
    "\n",
    "# FM1_list = FM1_list[1:]"
   ]
  },
  {
   "cell_type": "code",
   "execution_count": 12,
   "metadata": {},
   "outputs": [],
   "source": [
    "\n",
    "gmsh.model.occ.synchronize()\n",
    "# \n",
    "#\n",
    "\n",
    "nfilaments = int(0.5*25*6/10)\n",
    "\n",
    "yspan = np.arange(-Ly/2, Ly/2, hx)\n",
    "yspan = yspan + hx/2\n",
    "\n",
    "FM2_list = []\n",
    "for iy in yspan:\n",
    "    FibreMinus_02 = CreateCylinder_Lyy(iy, -z0 - hz/2 )\n",
    "\n",
    "    FM2_list.append(FibreMinus_02)\n",
    "\n",
    "FM2_list.extend(FM1_list)\n"
   ]
  },
  {
   "cell_type": "code",
   "execution_count": 13,
   "metadata": {},
   "outputs": [],
   "source": [
    "# for ix in range(-nx_fibres,nx_fibres):\n",
    "#     FibreMinus_01 = CreateCylinder_Lxx(hx/2 + hx*ix, -z0 - 3*hz/2 )\n",
    "#     FM1_list.append(FibreMinus_01)"
   ]
  },
  {
   "cell_type": "code",
   "execution_count": 14,
   "metadata": {},
   "outputs": [],
   "source": [
    "\n",
    "# Identificamos las fibras\n",
    "fibres_tags = np.concatenate([FM1_list, FM2_list])\n",
    "f1 = gmsh.model.addPhysicalGroup(3, fibres_tags)\n",
    "gmsh.model.setPhysicalName(3, f1, \"Fibres\")\n",
    "\n",
    "\n",
    "gmsh.model.occ.synchronize()\n",
    "box_01 = gmsh.model.occ.addBox( -Lx/2  , -Ly/2 , + z0 ,\n",
    "                                Lx   ,  Ly   ,  3*hz    )\n",
    "\n",
    "box_02 = gmsh.model.occ.addBox( -0.325*lx   , -Ly/2 , - z0 ,\n",
    "                                2*0.325*lx   ,  Ly   ,  -3*hz    )\n",
    "\n",
    "gmsh.model.occ.synchronize()\n",
    "\n",
    "\n",
    "box_02_cut = gmsh.model.occ.cut([(3, box_02)], \n",
    "                   [(3,i) for i in FM2_list],\n",
    "                   removeTool=False)\n",
    "\n",
    "gmsh.model.occ.synchronize()"
   ]
  },
  {
   "cell_type": "code",
   "execution_count": null,
   "metadata": {},
   "outputs": [],
   "source": []
  },
  {
   "cell_type": "code",
   "execution_count": 16,
   "metadata": {},
   "outputs": [],
   "source": [
    "# # box \n",
    "# #\n",
    "# gmsh.model.occ.synchronize()\n",
    "# #\n",
    "\n",
    "box_big_mid = gmsh.model.occ.addBox( -Lx/2   , -Ly/2     , -z0,\n",
    "                                      Lx   ,  Ly       ,  2*z0    )\n",
    "\n",
    "\n",
    "box_sup = gmsh.model.occ.addBox( -Lx/2  ,   -Ly/2 , z0 + hz,\n",
    "                                  Lx    ,    Ly   ,  hz       )\n",
    "\n",
    "# =============================================================================\n",
    "\n",
    "# partition with rectangle \n",
    "\n",
    "# (0, Ly/2,  z0 + 2*hz)\n",
    "# (0, Ly/2, -z0 - 2*hz)\n",
    "# (0, -Ly/2, -z0 - 2*hz)\n",
    "# (0, -Ly/2,  z0 + 2*hz)\n",
    "\n",
    "p1_rect = gmsh.model.occ.addPoint(0, Ly/2,  z0 + 6*hz)\n",
    "p2_rect = gmsh.model.occ.addPoint(0, Ly/2,  z0 +   hz)\n",
    "p3_rect = gmsh.model.occ.addPoint(0, -Ly/2   ,  z0 +   hz)\n",
    "p4_rect = gmsh.model.occ.addPoint(0, -Ly/2   ,  z0 + 6*hz)\n",
    "\n",
    "gmsh.model.occ.synchronize()\n",
    "\n",
    "l1 =  gmsh.model.occ.addLine(p1_rect, p2_rect)\n",
    "l2 =  gmsh.model.occ.addLine(p2_rect, p3_rect)\n",
    "l3 =  gmsh.model.occ.addLine(p3_rect, p4_rect)\n",
    "l4 =  gmsh.model.occ.addLine(p4_rect, p1_rect)\n",
    "\n",
    "gmsh.model.occ.synchronize()\n",
    "\n",
    "ll = gmsh.model.occ.addCurveLoop([l1,l2,l3,l4])\n",
    "gmsh.model.occ.synchronize()\n",
    "\n",
    "ss = gmsh.model.occ.addPlaneSurface([ll])\n",
    "gmsh.model.occ.synchronize()\n",
    "\n",
    "# gmsh.fltk.run()\n",
    "\n",
    "box_sup = gmsh.model.occ.fragment([(3,box_sup)], [(2,ss)])\n",
    "gmsh.model.occ.synchronize()\n",
    "# =============================================================================\n",
    "\n",
    "box_inf = gmsh.model.occ.addBox( -Lx/2 , -Ly/2     , -z0 - hz,\n",
    "                                 Lx    ,  Ly       ,  -hz       )\n",
    "\n",
    "gmsh.model.occ.synchronize()\n",
    "volumes = gmsh.model.getEntities(3)\n",
    "\n",
    "\n",
    "# gmsh.fltk.run()\n",
    "box_big = gmsh.model.occ.addBox( -Lx/2     ,  -Ly/2      , -Lz/2,\n",
    "                                 Lx  ,   Ly        ,  Lz    )\n",
    "\n",
    "gmsh.model.occ.synchronize()\n",
    "\n",
    "# cut box_big - volumes\n",
    "box_big = gmsh.model.occ.fragment([(3,box_big)], volumes)\n",
    "\n",
    "\n",
    "\n",
    "gmsh.model.occ.synchronize()\n",
    "\n",
    "\n",
    "# buscar la caja que tiene como media z= 0\n"
   ]
  },
  {
   "cell_type": "code",
   "execution_count": 17,
   "metadata": {},
   "outputs": [
    {
     "data": {
      "text/plain": [
       "([(3, 37), (3, 38), (2, 679)], [[(3, 37), (3, 38)], [(2, 674), (2, 679)]])"
      ]
     },
     "execution_count": 17,
     "metadata": {},
     "output_type": "execute_result"
    }
   ],
   "source": [
    "p1_rect = gmsh.model.occ.addPoint(0, Ly/2,  z0 + 3*hz)\n",
    "p2_rect = gmsh.model.occ.addPoint(0, Ly/2,  z0 +   hz)\n",
    "p3_rect = gmsh.model.occ.addPoint(0, -Ly/2   ,  z0 +   hz)\n",
    "p4_rect = gmsh.model.occ.addPoint(0, -Ly/2   ,  z0 + 3*hz)\n",
    "\n",
    "gmsh.model.occ.synchronize()\n",
    "\n",
    "l1 =  gmsh.model.occ.addLine(p1_rect, p2_rect)\n",
    "l2 =  gmsh.model.occ.addLine(p2_rect, p3_rect)\n",
    "l3 =  gmsh.model.occ.addLine(p3_rect, p4_rect)\n",
    "l4 =  gmsh.model.occ.addLine(p4_rect, p1_rect)\n",
    "\n",
    "gmsh.model.occ.synchronize()\n",
    "\n",
    "ll = gmsh.model.occ.addCurveLoop([l1,l2,l3,l4])\n",
    "gmsh.model.occ.synchronize()\n",
    "\n",
    "ss = gmsh.model.occ.addPlaneSurface([ll])\n",
    "gmsh.model.occ.synchronize()\n",
    "\n",
    "# \n",
    "volumes = gmsh.model.getEntities(3)\n",
    "com = [ gmsh.model.occ.getCenterOfMass(3,i[1]) for i in volumes]\n",
    "com = np.array(com)\n",
    "com = np.round(com, 2)\n",
    "z_unique = np.unique(com[:,2])\n",
    "z_max = np.max(z_unique)\n",
    "\n",
    "volume_layer_max  = [ volumes[i] for i in range(len(volumes)) if com[i,2] == z_max]\n",
    "\n",
    "\n",
    "# fragment volume_layer_max - ss \n",
    "gmsh.model.occ.fragment(volume_layer_max, [(2,ss)])"
   ]
  },
  {
   "cell_type": "code",
   "execution_count": 18,
   "metadata": {},
   "outputs": [
    {
     "data": {
      "text/plain": [
       "[(3, 37)]"
      ]
     },
     "execution_count": 18,
     "metadata": {},
     "output_type": "execute_result"
    }
   ],
   "source": [
    "volume_layer_max"
   ]
  },
  {
   "cell_type": "code",
   "execution_count": 19,
   "metadata": {},
   "outputs": [
    {
     "data": {
      "text/plain": [
       "array([-2.65, -2.18, -1.7 , -0.  ,  1.7 ,  2.18,  2.65])"
      ]
     },
     "execution_count": 19,
     "metadata": {},
     "output_type": "execute_result"
    }
   ],
   "source": [
    "z_unique"
   ]
  },
  {
   "cell_type": "code",
   "execution_count": 20,
   "metadata": {},
   "outputs": [
    {
     "data": {
      "text/plain": [
       "[(3, 37)]"
      ]
     },
     "execution_count": 20,
     "metadata": {},
     "output_type": "execute_result"
    }
   ],
   "source": [
    "volume_layer_max"
   ]
  },
  {
   "cell_type": "code",
   "execution_count": 21,
   "metadata": {},
   "outputs": [
    {
     "data": {
      "text/plain": [
       "np.float64(2.65)"
      ]
     },
     "execution_count": 21,
     "metadata": {},
     "output_type": "execute_result"
    }
   ],
   "source": [
    "z_max"
   ]
  },
  {
   "cell_type": "code",
   "execution_count": 22,
   "metadata": {},
   "outputs": [],
   "source": [
    "gmsh.model.occ.synchronize()\n",
    "volumes = gmsh.model.getEntities(3)\n",
    "com = [ gmsh.model.occ.getCenterOfMass(3, i[1]) \n",
    "       for i in volumes ]\n",
    "#encontart volumenes con yCOM > 12.5\n",
    "volumes = [volumes[i] for i in range(len(volumes)) if com[i][1] > 12.5]\n",
    "# eliminar volumenes\n",
    "gmsh.model.occ.remove([i for i in volumes],recursive=True)\n",
    "gmsh.model.occ.synchronize()"
   ]
  },
  {
   "cell_type": "code",
   "execution_count": 23,
   "metadata": {},
   "outputs": [
    {
     "data": {
      "text/plain": [
       "[]"
      ]
     },
     "execution_count": 23,
     "metadata": {},
     "output_type": "execute_result"
    }
   ],
   "source": [
    "volumes"
   ]
  },
  {
   "cell_type": "code",
   "execution_count": 24,
   "metadata": {},
   "outputs": [],
   "source": [
    "# gmsh.fltk.run()\n"
   ]
  },
  {
   "cell_type": "code",
   "execution_count": 25,
   "metadata": {},
   "outputs": [],
   "source": [
    "# Identificamos el nucleo\n",
    "# Este es el volumen con menor valor de z en valor absoluto\n",
    "volumes = gmsh.model.getEntities(3)\n",
    "com = [ gmsh.model.occ.getCenterOfMass(3, i[1]) \n",
    "       for i in volumes ]\n",
    "\n",
    "\n",
    "sort_com_index = np.argsort(np.abs(np.array(com)[:,2]))\n",
    "\n",
    "id_nucleo = volumes[sort_com_index[0]][1]\n",
    "# physical group\n",
    "f2 = gmsh.model.addPhysicalGroup(3, [id_nucleo])\n",
    "gmsh.model.setPhysicalName(3, f2, \"Nucleo\")\n",
    "# \n",
    "gmsh.model.occ.synchronize()"
   ]
  },
  {
   "cell_type": "code",
   "execution_count": 26,
   "metadata": {},
   "outputs": [],
   "source": [
    "\n",
    "\n",
    "# Selecionamos todos los volumenes que no sean ni fibras ni nucleo\n",
    "resina = [ i[1] for i in volumes if i[1] != id_nucleo ]\n",
    "resina = [ i for i in resina if i not in fibres_tags]\n",
    "\n",
    "# sort by x\n",
    "com = [ gmsh.model.occ.getCenterOfMass(3, i) \n",
    "       for i in resina ]\n",
    "\n",
    "# remove z>0 \n",
    "\n",
    "resina = [resina[i] for i in range(len(com)) if com[i][2] < 0]\n",
    "com = [com[i] for i in range(len(com)) if com[i][2] < 0]\n",
    "\n",
    "sort_com_index = np.argsort(np.sqrt((np.array(com)[:,0]) **2 + (np.array(com)[:,1])**2))\n",
    "\n",
    "resina = [resina[i] for i in sort_com_index]\n",
    "\n",
    "# select solo las z<0 \n",
    "resina = resina[:3]\n",
    "com = [com[i] for i in sort_com_index]"
   ]
  },
  {
   "cell_type": "code",
   "execution_count": 27,
   "metadata": {},
   "outputs": [
    {
     "data": {
      "text/plain": [
       "array([[ 0.0000e+00,  0.0000e+00, -1.7050e+00],\n",
       "       [ 6.1000e-02, -2.0000e-03, -2.1790e+00],\n",
       "       [-0.0000e+00,  1.7500e-01, -2.6540e+00],\n",
       "       [ 1.6625e+01, -0.0000e+00, -1.7040e+00],\n",
       "       [ 1.6625e+01,  0.0000e+00, -2.6540e+00],\n",
       "       [-1.6625e+01,  0.0000e+00, -2.1800e+00],\n",
       "       [ 1.6625e+01,  0.0000e+00, -2.1800e+00],\n",
       "       [-1.6625e+01, -0.0000e+00, -1.7040e+00],\n",
       "       [-1.6625e+01, -0.0000e+00, -2.6550e+00]])"
      ]
     },
     "execution_count": 27,
     "metadata": {},
     "output_type": "execute_result"
    }
   ],
   "source": [
    "np.array(com).round(3)"
   ]
  },
  {
   "cell_type": "code",
   "execution_count": 28,
   "metadata": {},
   "outputs": [
    {
     "data": {
      "text/plain": [
       "[33, 31, 29]"
      ]
     },
     "execution_count": 28,
     "metadata": {},
     "output_type": "execute_result"
    }
   ],
   "source": [
    "resina"
   ]
  },
  {
   "cell_type": "code",
   "execution_count": 29,
   "metadata": {},
   "outputs": [],
   "source": [
    "# # merge resina \n",
    "# gmsh.model.occ.synchronize()\n",
    "# resina = gmsh.model.occ.fuse([(3,i) for i in resina[1:]], \n",
    "#                              [(3,resina[0])])\n",
    "# # gmsh.model.occ.synchronize()"
   ]
  },
  {
   "cell_type": "code",
   "execution_count": 30,
   "metadata": {},
   "outputs": [],
   "source": [
    "# gmsh.fltk.run()"
   ]
  },
  {
   "cell_type": "code",
   "execution_count": 31,
   "metadata": {},
   "outputs": [],
   "source": [
    "# resina = [resina[0][0][1]]"
   ]
  },
  {
   "cell_type": "code",
   "execution_count": 32,
   "metadata": {},
   "outputs": [],
   "source": [
    "f3 = gmsh.model.addPhysicalGroup(3, resina)\n",
    "gmsh.model.setPhysicalName(3, f3, \"Resina\")"
   ]
  },
  {
   "cell_type": "code",
   "execution_count": 33,
   "metadata": {},
   "outputs": [
    {
     "data": {
      "text/plain": [
       "[33, 31, 29]"
      ]
     },
     "execution_count": 33,
     "metadata": {},
     "output_type": "execute_result"
    }
   ],
   "source": [
    "resina"
   ]
  },
  {
   "cell_type": "code",
   "execution_count": 34,
   "metadata": {},
   "outputs": [
    {
     "data": {
      "text/plain": [
       "[33, 31, 29]"
      ]
     },
     "execution_count": 34,
     "metadata": {},
     "output_type": "execute_result"
    }
   ],
   "source": [
    "resina"
   ]
  },
  {
   "cell_type": "code",
   "execution_count": 35,
   "metadata": {},
   "outputs": [],
   "source": [
    "\n",
    "volumes = gmsh.model.getEntities(3)\n",
    "volumes = [ i for i in volumes if i[1] not in resina]\n",
    "volumes = [ i for i in volumes if i[1] not in fibres_tags]\n",
    "volumes = [ i for i in volumes if i[1] != id_nucleo]\n"
   ]
  },
  {
   "cell_type": "code",
   "execution_count": 36,
   "metadata": {},
   "outputs": [
    {
     "data": {
      "text/plain": [
       "[(3, 25),\n",
       " (3, 26),\n",
       " (3, 27),\n",
       " (3, 28),\n",
       " (3, 30),\n",
       " (3, 32),\n",
       " (3, 34),\n",
       " (3, 35),\n",
       " (3, 36),\n",
       " (3, 37),\n",
       " (3, 38)]"
      ]
     },
     "execution_count": 36,
     "metadata": {},
     "output_type": "execute_result"
    }
   ],
   "source": [
    "volumes"
   ]
  },
  {
   "cell_type": "code",
   "execution_count": 37,
   "metadata": {},
   "outputs": [],
   "source": [
    "com = [ gmsh.model.occ.getCenterOfMass(3, i[1]) for i in volumes ]\n",
    "com = np.array(com)\n",
    "# round \n",
    "com = np.round(com, 2)\n",
    "z_unique = np.unique(abs(com[:,2]))\n",
    "z_unique\n",
    "\n",
    "capas_1 = [ volumes[i][1] for i in range(len(volumes)) if abs(com[i][2]) == z_unique[0]]\n",
    "capas_2 = [ volumes[i][1] for i in range(len(volumes)) if abs(com[i][2]) == z_unique[1]]\n",
    "capas_3 = [ volumes[i][1] for i in range(len(volumes)) if abs(com[i][2]) == z_unique[2]]"
   ]
  },
  {
   "cell_type": "code",
   "execution_count": 38,
   "metadata": {},
   "outputs": [
    {
     "data": {
      "text/plain": [
       "[30, 35, 36]"
      ]
     },
     "execution_count": 38,
     "metadata": {},
     "output_type": "execute_result"
    }
   ],
   "source": [
    "capas_1"
   ]
  },
  {
   "cell_type": "code",
   "execution_count": 39,
   "metadata": {},
   "outputs": [
    {
     "data": {
      "text/plain": [
       "[np.float64(2.18),\n",
       " np.float64(2.18),\n",
       " np.float64(2.65),\n",
       " np.float64(2.18),\n",
       " np.float64(1.7),\n",
       " np.float64(2.65),\n",
       " np.float64(2.18),\n",
       " np.float64(1.7),\n",
       " np.float64(1.7),\n",
       " np.float64(2.65),\n",
       " np.float64(2.65)]"
      ]
     },
     "execution_count": 39,
     "metadata": {},
     "output_type": "execute_result"
    }
   ],
   "source": [
    "[ abs(i[2]) for i in com ]"
   ]
  },
  {
   "cell_type": "code",
   "execution_count": 40,
   "metadata": {},
   "outputs": [],
   "source": [
    "f5 = gmsh.model.addPhysicalGroup(3, capas_1)\n",
    "gmsh.model.setPhysicalName(3, f5, \"CAPAS_1\")\n",
    "\n",
    "f4 = gmsh.model.addPhysicalGroup(3, capas_2)\n",
    "gmsh.model.setPhysicalName(3, f4, \"CAPAS_2\")\n",
    "\n",
    "f6 = gmsh.model.addPhysicalGroup(3, capas_3)\n",
    "gmsh.model.setPhysicalName(3, f6, \"CAPAS_3\")\n",
    "#"
   ]
  },
  {
   "cell_type": "code",
   "execution_count": 41,
   "metadata": {},
   "outputs": [],
   "source": [
    "\n",
    "\n",
    "def BoxRefine(x1,x2,y1,y2,z1,z2,vin,vout,Thickness=1.0):\n",
    "    \n",
    "\n",
    "    field_tag = gmsh.model.mesh.field.add(\"Box\")\n",
    "\n",
    "    gmsh.model.mesh.field.setNumber(field_tag, \"VIn\", vin)\n",
    "    gmsh.model.mesh.field.setNumber(field_tag, \"VOut\", vout)\n",
    "\n",
    "    gmsh.model.mesh.field.setNumber(field_tag, \"XMin\", x1)\n",
    "    gmsh.model.mesh.field.setNumber(field_tag, \"XMax\", x2)\n",
    "\n",
    "    gmsh.model.mesh.field.setNumber(field_tag, \"YMin\", y1)\n",
    "    gmsh.model.mesh.field.setNumber(field_tag, \"YMax\", y2)\n",
    "\n",
    "    gmsh.model.mesh.field.setNumber(field_tag, \"ZMin\", z1)\n",
    "    gmsh.model.mesh.field.setNumber(field_tag, \"ZMax\", z2)\n",
    "\n",
    "    # Thickness\n",
    "    gmsh.model.mesh.field.setNumber(field_tag, \"Thickness\", Thickness)\n",
    "\n",
    "    return field_tag\n"
   ]
  },
  {
   "cell_type": "code",
   "execution_count": 42,
   "metadata": {},
   "outputs": [
    {
     "data": {
      "text/plain": [
       "-1.467"
      ]
     },
     "execution_count": 42,
     "metadata": {},
     "output_type": "execute_result"
    }
   ],
   "source": [
    "-z0 "
   ]
  },
  {
   "cell_type": "code",
   "execution_count": 43,
   "metadata": {},
   "outputs": [],
   "source": [
    "# resina\n",
    "# # fuse \n",
    "# gmsh.model.occ.synchronize()\n",
    "\n",
    "# resina = gmsh.model.occ.fuse([(3,i) for i in resina[1:]],\n",
    "#                              [(3,resina[0])])\n",
    "# gmsh.model.occ.synchronize()\n",
    "\n",
    "# # remove duplicate  faces \n",
    "# gmsh.model.occ.remove_all_duplicates()\n",
    "# gmsh.model.occ.synchronize()\n",
    "# gmsh.model.mesh.renumberNodes()  # Opcional si hay problemas de nodos compartidos\n",
    "\n"
   ]
  },
  {
   "cell_type": "code",
   "execution_count": null,
   "metadata": {},
   "outputs": [],
   "source": []
  },
  {
   "cell_type": "code",
   "execution_count": 44,
   "metadata": {},
   "outputs": [],
   "source": [
    "gmsh.option.setNumber(\"Mesh.Algorithm\", 6) # 2: Delaunay, 6: Frontal-Delaunay, 7: Frontal\n",
    "\n",
    "BaseMeshSize = 1.8\n",
    "\n",
    "Thickness = 0.2\n",
    "\n",
    "field_tag_base = BoxRefine(-Lx/2, Lx/2, \n",
    "                           -Ly/2, Ly/2, \n",
    "                           -Lz/2, Lz/2,\n",
    "                            BaseMeshSize, BaseMeshSize,\n",
    "                            Thickness=Thickness)\n",
    "\n",
    "FineMeshSize = 0.225\n",
    "\n",
    "eps = 0.25\n",
    "field_tag_fine = BoxRefine(    -0.36*lx     , 0.36*lx,\n",
    "                               -Ly/2     , Ly/2, \n",
    "                            -z0 - 3*hz , -z0 - hz + eps ,\n",
    "                            FineMeshSize, BaseMeshSize,\n",
    "                            Thickness=2)\n",
    "\n",
    "FineMeshSize = 0.3\n",
    "eps = 0.1\n",
    "\n",
    "field_1 = BoxRefine(    -0.36*lx     , 0.36*lx,\n",
    "                           -Ly/2     , Ly/2, \n",
    "                          -z0 - eps , -z0  + eps ,\n",
    "                            FineMeshSize, BaseMeshSize,\n",
    "                            Thickness=Thickness)\n",
    "\n",
    "field_2 = BoxRefine(    -0.36*lx     , 0.36*lx,\n",
    "                            -Ly/2     , Ly/2, \n",
    "                              -z0 - 3*hz - eps , -z0 - 3*hz + eps ,\n",
    "                             FineMeshSize, BaseMeshSize,\n",
    "                             Thickness=Thickness)\n",
    "\n",
    "FineMeshSize = 0.3\n",
    "\n",
    "field_3 = BoxRefine(    -0.36*lx     , 0.36*lx,\n",
    "                            -1.1*Ly/2     , -0.9*Ly/2, \n",
    "                              -z0 - 3*hz  , -z0  ,\n",
    "                             FineMeshSize, BaseMeshSize,\n",
    "                             Thickness=Thickness)\n",
    "\n",
    "field_4 = BoxRefine(    -0.36*lx     , 0.36*lx,\n",
    "                            0.9*Ly/2     , 1.1*Ly/2, \n",
    "                              -z0 - 3*hz  , -z0  ,\n",
    "                             FineMeshSize, BaseMeshSize,\n",
    "                             Thickness=Thickness)\n",
    "\n",
    "\n",
    "FineMeshSize = 0.1\n",
    "field_5 = BoxRefine(    -0.36*lx     , 0.36*lx,\n",
    "                            -Ly/2     , -Ly/2, \n",
    "                              -z0 - hz - eps  , -z0 - hz + eps ,\n",
    "                             FineMeshSize, BaseMeshSize,\n",
    "                             Thickness=Thickness)\n",
    "\n",
    "field_6 = BoxRefine(    -0.36*lx     , 0.36*lx,\n",
    "                            Ly/2     , Ly/2, \n",
    "                              -z0 - 2*hz - eps  , -z0 - 2*hz + eps ,\n",
    "                             FineMeshSize, BaseMeshSize,\n",
    "                             Thickness=Thickness)\n",
    "\n",
    "\n",
    "field_tag_min =  gmsh.model.mesh.field.add(\"Min\")\n",
    "gmsh.model.mesh.field.setNumbers(field_tag_min, \"FieldsList\", \n",
    "                                [field_tag_base, \n",
    "                                 field_tag_fine,\n",
    "                                 field_1,\n",
    "                                 field_2,\n",
    "                                    field_3,    \n",
    "                                    field_4,\n",
    "                                    field_5,\n",
    "                                    field_6])\n",
    "\n",
    "gmsh.model.mesh.field.setAsBackgroundMesh(field_tag_min)\n",
    "\n",
    "gmsh.option.setNumber(\"Mesh.MeshSizeExtendFromBoundary\", 0)\n",
    "gmsh.option.setNumber(\"Mesh.MeshSizeFromPoints\", 0)\n",
    "gmsh.option.setNumber(\"Mesh.MeshSizeFromCurvature\", 9)\n"
   ]
  },
  {
   "cell_type": "code",
   "execution_count": 45,
   "metadata": {},
   "outputs": [],
   "source": [
    "\n",
    "gmsh.model.mesh.generate(3)\n",
    "# optimize\n",
    "# second order \n",
    "gmsh.model.mesh.optimize(\"Netgen\",force=False)\n",
    "gmsh.model.mesh.setOrder(2)\n"
   ]
  },
  {
   "cell_type": "code",
   "execution_count": 46,
   "metadata": {},
   "outputs": [],
   "source": [
    "\n",
    "# recombine \n",
    "gmsh.write(\"t1_large.inp\")"
   ]
  },
  {
   "cell_type": "code",
   "execution_count": 47,
   "metadata": {},
   "outputs": [
    {
     "data": {
      "text/html": [
       "<div>\n",
       "<style scoped>\n",
       "    .dataframe tbody tr th:only-of-type {\n",
       "        vertical-align: middle;\n",
       "    }\n",
       "\n",
       "    .dataframe tbody tr th {\n",
       "        vertical-align: top;\n",
       "    }\n",
       "\n",
       "    .dataframe thead th {\n",
       "        text-align: right;\n",
       "    }\n",
       "</style>\n",
       "<table border=\"1\" class=\"dataframe\">\n",
       "  <thead>\n",
       "    <tr style=\"text-align: right;\">\n",
       "      <th></th>\n",
       "      <th>Unnamed: 0</th>\n",
       "      <th>Evec [GPa]</th>\n",
       "    </tr>\n",
       "  </thead>\n",
       "  <tbody>\n",
       "    <tr>\n",
       "      <th>0</th>\n",
       "      <td>X</td>\n",
       "      <td>10.156514</td>\n",
       "    </tr>\n",
       "    <tr>\n",
       "      <th>1</th>\n",
       "      <td>SX</td>\n",
       "      <td>8.410847</td>\n",
       "    </tr>\n",
       "    <tr>\n",
       "      <th>2</th>\n",
       "      <td>Y</td>\n",
       "      <td>21.993829</td>\n",
       "    </tr>\n",
       "    <tr>\n",
       "      <th>3</th>\n",
       "      <td>SY</td>\n",
       "      <td>8.379982</td>\n",
       "    </tr>\n",
       "    <tr>\n",
       "      <th>4</th>\n",
       "      <td>Nucleo</td>\n",
       "      <td>0.880000</td>\n",
       "    </tr>\n",
       "  </tbody>\n",
       "</table>\n",
       "</div>"
      ],
      "text/plain": [
       "  Unnamed: 0  Evec [GPa]\n",
       "0          X   10.156514\n",
       "1         SX    8.410847\n",
       "2          Y   21.993829\n",
       "3         SY    8.379982\n",
       "4     Nucleo    0.880000"
      ]
     },
     "execution_count": 47,
     "metadata": {},
     "output_type": "execute_result"
    }
   ],
   "source": [
    "import pandas as pd\n",
    "path = r\"C:\\Users\\djoroya\\Documents\\GitHub\\CITISENS_Composite_v2\\scripts_finals\\01_metodo\\02_flexion\\04_optim_stress\\df_pred.csv\"\n",
    "df_pred = pd.read_csv(path, sep=\",\")\n",
    "df_pred\n",
    "\n",
    "path = r\"C:\\Users\\djoroya\\Documents\\GitHub\\CITISENS_Composite_v2\\scripts_finals\\01_metodo\\02_flexion\\01_optim\\mat.csv\"\n",
    "df_mat = pd.read_csv(path, sep=\",\")\n",
    "df_mat\n",
    "\n",
    "df_layers = r\"C:\\Users\\djoroya\\Documents\\GitHub\\CITISENS_Composite_v2\\scripts_finals\\01_metodo\\02_flexion\\01_optim\\layers.csv\"\n",
    "df_layers = pd.read_csv(df_layers, sep=\",\")\n",
    "df_layers"
   ]
  },
  {
   "cell_type": "code",
   "execution_count": 48,
   "metadata": {},
   "outputs": [],
   "source": [
    "E1 = 1e3*df_layers.loc[2].values[1] \n",
    "E2 = 1e3*df_layers.loc[1].values[1]  \n",
    "E3 = 1e3*df_layers.loc[3].values[1]  \n",
    "\n",
    "Ec = 1e3*df_mat.loc[1].values[1] \n",
    "\n",
    "nu = 0.3 \n",
    "Em = 1e3*df_mat.loc[0].values[1] \n",
    "En = 880\n"
   ]
  },
  {
   "cell_type": "code",
   "execution_count": 49,
   "metadata": {},
   "outputs": [],
   "source": [
    "from djccx.inp.inp import  inp \n",
    "\n",
    "inp_f = inp(\"t1_large.inp\")\n",
    "\n",
    "inp_f.remove_by_type(2)\n",
    "\n",
    "nodes = inp_f.nodes.df\n",
    "\n",
    "# nodes_sym = nodes.copy()\n",
    "# nodes_sym = nodes_sym[ nodes_sym[\"x\"] < 1e-3] \n",
    "\n",
    "# nset_sym_x = inp_f.CreateNsetFromIds(nodes_sym.index, \"sym_x\")\n",
    "\n",
    "# nodes_sym = nodes.copy()\n",
    "# nodes_sym = nodes_sym[ nodes_sym[\"y\"] < 1e-3] \n",
    "\n",
    "# nset_sym_y = inp_f.CreateNsetFromIds(nodes_sym.index, \"sym_y\")\n",
    "\n",
    "nodes_fixed = nodes.copy()\n",
    "nodes_fixed = nodes_fixed[ nodes_fixed[\"x\"] > 0.5*Lx  - 1e-1]\n",
    "nodes_fixed = nodes_fixed[ nodes_fixed[\"z\"] < -0.5*Lz + 1e-1]\n",
    "\n",
    "nset_fixed = inp_f.CreateNsetFromIds(nodes_fixed.index, \"fixed\")\n",
    "\n",
    "nodes_fixed_minus = nodes.copy()\n",
    "nodes_fixed_minus = nodes_fixed_minus[ nodes_fixed_minus[\"x\"] < -0.5*Lx + 1e-1]\n",
    "nodes_fixed_minus = nodes_fixed_minus[ nodes_fixed_minus[\"z\"] < -0.5*Lz + 1e-1]\n",
    "\n",
    "nset_fixed_minus = inp_f.CreateNsetFromIds(nodes_fixed_minus.index, \"fixed_minus\")\n",
    "\n",
    "nodes_force = nodes.copy()\n",
    "z_unique = nodes_force[\"z\"].unique()\n",
    "z_unique = np.sort(z_unique)\n",
    "nodes_force = nodes_force[ nodes_force[\"x\"]  == 0]\n",
    "nodes_force = nodes_force[ nodes_force[\"z\"] == z_unique[-1] ]\n",
    "nset_force = inp_f.CreateNsetFromIds(nodes_force.index, \"force\")\n",
    "\n",
    "# materials \n",
    "mat_fibras = inp_f.CreateElasticMaterial(\"FIBRES\", Ec, nu)\n",
    "mat_resina = inp_f.CreateElasticMaterial(\"RESINA\", Em, nu)\n",
    "mat_capas_1 = inp_f.CreateElasticMaterial(\"CAPAS_1\", E1, nu)\n",
    "mat_capas_2 = inp_f.CreateElasticMaterial(\"CAPAS_2\", E2, nu)\n",
    "mat_capas_3 = inp_f.CreateElasticMaterial(\"CAPAS_3\", E3, nu)\n",
    "\n",
    "mat_nucleo = inp_f.CreateElasticMaterial(\"NUCLEO\", En, nu)\n",
    "\n",
    "\n",
    "# elsets \n",
    "fibres_elset  = inp_f.select(\"FIBRES\",\"elset\")\n",
    "resina_elset  = inp_f.select(\"RESINA\",\"elset\") \n",
    "capas_1_elset = inp_f.select(\"CAPAS_1\",\"elset\")\n",
    "capas_2_elset = inp_f.select(\"CAPAS_2\",\"elset\")\n",
    "capas_3_elset = inp_f.select(\"CAPAS_3\",\"elset\")\n",
    "nucleo_elset  = inp_f.select(\"NUCLEO\",\"elset\")\n",
    "\n",
    "inp_f.CreateSolidSection( fibres_elset, mat_fibras)\n",
    "inp_f.CreateSolidSection( resina_elset, mat_resina)\n",
    "inp_f.CreateSolidSection( capas_1_elset, mat_capas_1)\n",
    "inp_f.CreateSolidSection( capas_2_elset, mat_capas_2)\n",
    "inp_f.CreateSolidSection( capas_3_elset, mat_capas_3)\n",
    "inp_f.CreateSolidSection( nucleo_elset, mat_nucleo)\n",
    "#\n",
    "\n",
    "istep = inp_f.CreateStaticStep()\n",
    "istep.CreateBoundary(nset_fixed,3,0)\n",
    "istep.CreateBoundary(nset_fixed_minus,3,0)\n",
    "disp = 5\n",
    "istep.CreateBoundary(nset_force, 3, -disp)\n",
    "\n",
    "\n",
    "inp_f.print(\"t1_new_large.inp\")"
   ]
  },
  {
   "cell_type": "code",
   "execution_count": 50,
   "metadata": {},
   "outputs": [],
   "source": [
    "nodes_force = nodes.copy()\n",
    "z_unique = nodes_force[\"z\"].unique()\n",
    "z_unique = np.sort(z_unique)\n",
    "nodes_force = nodes_force[ nodes_force[\"x\"]  == 0]\n",
    "nodes_force = nodes_force[ nodes_force[\"z\"] == z_unique[-1] ]"
   ]
  },
  {
   "cell_type": "code",
   "execution_count": 51,
   "metadata": {},
   "outputs": [
    {
     "data": {
      "text/html": [
       "<div>\n",
       "<style scoped>\n",
       "    .dataframe tbody tr th:only-of-type {\n",
       "        vertical-align: middle;\n",
       "    }\n",
       "\n",
       "    .dataframe tbody tr th {\n",
       "        vertical-align: top;\n",
       "    }\n",
       "\n",
       "    .dataframe thead th {\n",
       "        text-align: right;\n",
       "    }\n",
       "</style>\n",
       "<table border=\"1\" class=\"dataframe\">\n",
       "  <thead>\n",
       "    <tr style=\"text-align: right;\">\n",
       "      <th></th>\n",
       "      <th>x</th>\n",
       "      <th>y</th>\n",
       "      <th>z</th>\n",
       "    </tr>\n",
       "    <tr>\n",
       "      <th>nid</th>\n",
       "      <th></th>\n",
       "      <th></th>\n",
       "      <th></th>\n",
       "    </tr>\n",
       "  </thead>\n",
       "  <tbody>\n",
       "    <tr>\n",
       "      <th>1</th>\n",
       "      <td>-3.250000</td>\n",
       "      <td>-3.255114</td>\n",
       "      <td>-2.832625</td>\n",
       "    </tr>\n",
       "    <tr>\n",
       "      <th>2</th>\n",
       "      <td>-3.250000</td>\n",
       "      <td>-3.255114</td>\n",
       "      <td>-2.476375</td>\n",
       "    </tr>\n",
       "    <tr>\n",
       "      <th>3</th>\n",
       "      <td>-2.534834</td>\n",
       "      <td>-4.398765</td>\n",
       "      <td>-2.476375</td>\n",
       "    </tr>\n",
       "    <tr>\n",
       "      <th>4</th>\n",
       "      <td>-2.534834</td>\n",
       "      <td>-4.398765</td>\n",
       "      <td>-2.832625</td>\n",
       "    </tr>\n",
       "    <tr>\n",
       "      <th>5</th>\n",
       "      <td>-3.250000</td>\n",
       "      <td>-4.474934</td>\n",
       "      <td>-2.476375</td>\n",
       "    </tr>\n",
       "    <tr>\n",
       "      <th>...</th>\n",
       "      <td>...</td>\n",
       "      <td>...</td>\n",
       "      <td>...</td>\n",
       "    </tr>\n",
       "    <tr>\n",
       "      <th>507315</th>\n",
       "      <td>18.942200</td>\n",
       "      <td>-11.433419</td>\n",
       "      <td>2.532381</td>\n",
       "    </tr>\n",
       "    <tr>\n",
       "      <th>507316</th>\n",
       "      <td>28.838831</td>\n",
       "      <td>0.653361</td>\n",
       "      <td>2.773153</td>\n",
       "    </tr>\n",
       "    <tr>\n",
       "      <th>507317</th>\n",
       "      <td>28.838174</td>\n",
       "      <td>4.687486</td>\n",
       "      <td>2.535773</td>\n",
       "    </tr>\n",
       "    <tr>\n",
       "      <th>507318</th>\n",
       "      <td>28.786053</td>\n",
       "      <td>-3.109231</td>\n",
       "      <td>2.773374</td>\n",
       "    </tr>\n",
       "    <tr>\n",
       "      <th>507319</th>\n",
       "      <td>1.093578</td>\n",
       "      <td>-6.720643</td>\n",
       "      <td>2.773618</td>\n",
       "    </tr>\n",
       "  </tbody>\n",
       "</table>\n",
       "<p>507319 rows × 3 columns</p>\n",
       "</div>"
      ],
      "text/plain": [
       "                x          y         z\n",
       "nid                                   \n",
       "1       -3.250000  -3.255114 -2.832625\n",
       "2       -3.250000  -3.255114 -2.476375\n",
       "3       -2.534834  -4.398765 -2.476375\n",
       "4       -2.534834  -4.398765 -2.832625\n",
       "5       -3.250000  -4.474934 -2.476375\n",
       "...           ...        ...       ...\n",
       "507315  18.942200 -11.433419  2.532381\n",
       "507316  28.838831   0.653361  2.773153\n",
       "507317  28.838174   4.687486  2.535773\n",
       "507318  28.786053  -3.109231  2.773374\n",
       "507319   1.093578  -6.720643  2.773618\n",
       "\n",
       "[507319 rows x 3 columns]"
      ]
     },
     "execution_count": 51,
     "metadata": {},
     "output_type": "execute_result"
    }
   ],
   "source": [
    "nodes_force = nodes.copy()\n",
    "nodes_force"
   ]
  },
  {
   "cell_type": "code",
   "execution_count": 52,
   "metadata": {},
   "outputs": [
    {
     "data": {
      "text/plain": [
       "[<matplotlib.lines.Line2D at 0x2d9360002d0>]"
      ]
     },
     "execution_count": 52,
     "metadata": {},
     "output_type": "execute_result"
    },
    {
     "data": {
      "image/png": "[encoded data removed]",
      "text/plain": [
       "<Figure size 640x480 with 1 Axes>"
      ]
     },
     "metadata": {},
     "output_type": "display_data"
    }
   ],
   "source": [
    "from matplotlib import pyplot as plt\n",
    "\n",
    "plt.plot(nodes_force[\"x\"], nodes_force[\"z\"], \"o\")"
   ]
  },
  {
   "cell_type": "code",
   "execution_count": 53,
   "metadata": {},
   "outputs": [
    {
     "name": "stdout",
     "output_type": "stream",
     "text": [
      "Running Calculix at:  output\n",
      "Output file:  c:\\Users\\djoroya\\Documents\\GitHub\\CITISENS_Composite_v2\\scripts_finals\\02_metodo\\02_flexion\\TPF5\\output\\out.txt\n",
      "Command:\n",
      " C:\\Program Files\\Microsoft MPI\\Bin\\mpiexec -n 4 c:\\Users\\djoroya\\Documents\\GitHub\\CITISENS_Composite_v2\\.conda\\Lib\\site-packages\\djccx\\bin\\ccx_dynamic.exe main\n",
      "Error reading cvf file\n",
      "\n",
      "pid:  9796 \n",
      "\n",
      "Calculix finished\n",
      "\n"
     ]
    },
    {
     "data": {
      "text/plain": [
       "{'data':           node         x          y        z        D1        D2        D3  \\\n",
       " node                                                                         \n",
       " 1            1  -3.25000  -3.255110 -2.83262 -0.144311  0.032172 -4.795190   \n",
       " 2            2  -3.25000  -3.255110 -2.47638 -0.120162  0.031617 -4.797090   \n",
       " 3            3  -2.53483  -4.398770 -2.47638 -0.103326  0.039425 -4.842530   \n",
       " 4            4  -2.53483  -4.398770 -2.83262 -0.124277  0.040094 -4.841390   \n",
       " 5            5  -3.25000  -4.474930 -2.47638 -0.109531  0.032789 -4.800140   \n",
       " ...        ...       ...        ...      ...       ...       ...       ...   \n",
       " 507315  507315  18.94220 -11.433400  2.53238 -0.448806 -0.026581 -2.588640   \n",
       " 507316  507316  28.83880   0.653361  2.77315 -0.564483  0.016243 -0.355848   \n",
       " 507317  507317  28.83820   4.687490  2.53577 -0.513676  0.022502 -0.361121   \n",
       " 507318  507318  28.78610  -3.109230  2.77337 -0.564686  0.009849 -0.369726   \n",
       " 507319  507319   1.09358  -6.720640  2.77362 -0.060003 -0.027117 -4.950770   \n",
       " \n",
       "               SXX         SYY        SZZ  ...       EYZ       EZX  \\\n",
       " node                                      ...                       \n",
       " 1       306.55200   55.964800 -48.269000  ... -0.001912  0.000296   \n",
       " 2       209.80300   -7.460290 -92.915900  ... -0.000474  0.001465   \n",
       " 3       197.28200   48.014500 -25.013100  ... -0.000256  0.011196   \n",
       " 4       229.13900   59.269200   8.196840  ... -0.003226 -0.006752   \n",
       " 5       514.97000  135.333000   1.571990  ...  0.008530 -0.017140   \n",
       " ...           ...         ...        ...  ...       ...       ...   \n",
       " 507315 -105.63100   -0.120048  -0.094647  ...  0.000010  0.000641   \n",
       " 507316    7.92049   16.546100  -0.518188  ...  0.000018 -0.000128   \n",
       " 507317    3.83973   13.511200  -0.986013  ...  0.000012 -0.000132   \n",
       " 507318    8.17657   16.239900  -0.636179  ...  0.000003 -0.000136   \n",
       " 507319 -358.89000  -32.978600  46.652000  ... -0.000254 -0.001100   \n",
       " \n",
       "                   F1            F2            F3    STR(%)  S_von_mises  \\\n",
       " node                                                                      \n",
       " 1      -7.341030e-12  6.147160e-12 -1.817410e-11  15.43040   321.283871   \n",
       " 2      -2.844570e-12  7.863100e-12  2.105890e-11  16.24980   271.344980   \n",
       " 3      -8.247910e-12 -7.576690e-12  2.223550e-11  12.52750   225.290917   \n",
       " 4       3.013090e-11  3.276580e-12  9.822420e-12  12.92130   215.090404   \n",
       " 5       4.268320e-12  2.808800e-12 -4.423090e-11  18.09350   558.348252   \n",
       " ...              ...           ...           ...       ...          ...   \n",
       " 507315 -5.432550e-11  1.266860e-10  9.403710e-10   4.09290   106.161901   \n",
       " 507316  2.549680e-10  9.575410e-12 -4.846160e-10   4.60144    14.868401   \n",
       " 507317  6.518110e-11  1.768370e-11  2.115190e-10  13.02240    13.206802   \n",
       " 507318  3.666760e-11  3.623210e-11 -5.782360e-10   5.21487    14.940049   \n",
       " 507319  2.137490e-11  1.461890e-13 -4.572880e-11   8.72811   372.517765   \n",
       " \n",
       "                 P1          P2          P3  \n",
       " node                                        \n",
       " 1       309.611631   56.459880  -51.823711  \n",
       " 2       210.067721   -6.251964  -94.388947  \n",
       " 3       214.430389   47.730167  -41.877156  \n",
       " 4       236.451517   65.068868   -4.915344  \n",
       " 5       575.931100  124.290574  -48.346685  \n",
       " ...            ...         ...         ...  \n",
       " 507315    0.378673   -0.168574 -106.055794  \n",
       " 507316   16.570130    7.976690   -0.598417  \n",
       " 507317   13.806428    3.693736   -1.135247  \n",
       " 507318   16.526632    7.978080   -0.724421  \n",
       " 507319   46.805671  -32.906380 -359.115891  \n",
       " \n",
       " [507319 rows x 27 columns],\n",
       " 'mesh': array([[ 72212,  73242,  73201, ..., 219093,  73965,  74034],\n",
       "        [219088,  72221,  72256, ..., 219096, 219098, 219097],\n",
       "        [ 72219,  72254,  72186, ..., 219099, 219101, 219100],\n",
       "        ...,\n",
       "        [218013, 505641, 505645, ..., 507146, 507196, 506469],\n",
       "        [505620, 218020, 217792, ..., 506441, 218105, 218101],\n",
       "        [505641,  20698, 505645, ..., 507196, 130833, 506469]],\n",
       "       shape=(364195, 10)),\n",
       " 'steps': array(['step_01_01'], dtype='<U10'),\n",
       " 'data_blocks': [          node         x          y        z        D1        D2        D3  \\\n",
       "  node                                                                         \n",
       "  1            1  -3.25000  -3.255110 -2.83262 -0.144311  0.032172 -4.795190   \n",
       "  2            2  -3.25000  -3.255110 -2.47638 -0.120162  0.031617 -4.797090   \n",
       "  3            3  -2.53483  -4.398770 -2.47638 -0.103326  0.039425 -4.842530   \n",
       "  4            4  -2.53483  -4.398770 -2.83262 -0.124277  0.040094 -4.841390   \n",
       "  5            5  -3.25000  -4.474930 -2.47638 -0.109531  0.032789 -4.800140   \n",
       "  ...        ...       ...        ...      ...       ...       ...       ...   \n",
       "  507315  507315  18.94220 -11.433400  2.53238 -0.448806 -0.026581 -2.588640   \n",
       "  507316  507316  28.83880   0.653361  2.77315 -0.564483  0.016243 -0.355848   \n",
       "  507317  507317  28.83820   4.687490  2.53577 -0.513676  0.022502 -0.361121   \n",
       "  507318  507318  28.78610  -3.109230  2.77337 -0.564686  0.009849 -0.369726   \n",
       "  507319  507319   1.09358  -6.720640  2.77362 -0.060003 -0.027117 -4.950770   \n",
       "  \n",
       "                SXX         SYY        SZZ  ...       EYZ       EZX  \\\n",
       "  node                                      ...                       \n",
       "  1       306.55200   55.964800 -48.269000  ... -0.001912  0.000296   \n",
       "  2       209.80300   -7.460290 -92.915900  ... -0.000474  0.001465   \n",
       "  3       197.28200   48.014500 -25.013100  ... -0.000256  0.011196   \n",
       "  4       229.13900   59.269200   8.196840  ... -0.003226 -0.006752   \n",
       "  5       514.97000  135.333000   1.571990  ...  0.008530 -0.017140   \n",
       "  ...           ...         ...        ...  ...       ...       ...   \n",
       "  507315 -105.63100   -0.120048  -0.094647  ...  0.000010  0.000641   \n",
       "  507316    7.92049   16.546100  -0.518188  ...  0.000018 -0.000128   \n",
       "  507317    3.83973   13.511200  -0.986013  ...  0.000012 -0.000132   \n",
       "  507318    8.17657   16.239900  -0.636179  ...  0.000003 -0.000136   \n",
       "  507319 -358.89000  -32.978600  46.652000  ... -0.000254 -0.001100   \n",
       "  \n",
       "                    F1            F2            F3    STR(%)  S_von_mises  \\\n",
       "  node                                                                      \n",
       "  1      -7.341030e-12  6.147160e-12 -1.817410e-11  15.43040   321.283871   \n",
       "  2      -2.844570e-12  7.863100e-12  2.105890e-11  16.24980   271.344980   \n",
       "  3      -8.247910e-12 -7.576690e-12  2.223550e-11  12.52750   225.290917   \n",
       "  4       3.013090e-11  3.276580e-12  9.822420e-12  12.92130   215.090404   \n",
       "  5       4.268320e-12  2.808800e-12 -4.423090e-11  18.09350   558.348252   \n",
       "  ...              ...           ...           ...       ...          ...   \n",
       "  507315 -5.432550e-11  1.266860e-10  9.403710e-10   4.09290   106.161901   \n",
       "  507316  2.549680e-10  9.575410e-12 -4.846160e-10   4.60144    14.868401   \n",
       "  507317  6.518110e-11  1.768370e-11  2.115190e-10  13.02240    13.206802   \n",
       "  507318  3.666760e-11  3.623210e-11 -5.782360e-10   5.21487    14.940049   \n",
       "  507319  2.137490e-11  1.461890e-13 -4.572880e-11   8.72811   372.517765   \n",
       "  \n",
       "                  P1          P2          P3  \n",
       "  node                                        \n",
       "  1       309.611631   56.459880  -51.823711  \n",
       "  2       210.067721   -6.251964  -94.388947  \n",
       "  3       214.430389   47.730167  -41.877156  \n",
       "  4       236.451517   65.068868   -4.915344  \n",
       "  5       575.931100  124.290574  -48.346685  \n",
       "  ...            ...         ...         ...  \n",
       "  507315    0.378673   -0.168574 -106.055794  \n",
       "  507316   16.570130    7.976690   -0.598417  \n",
       "  507317   13.806428    3.693736   -1.135247  \n",
       "  507318   16.526632    7.978080   -0.724421  \n",
       "  507319   46.805671  -32.906380 -359.115891  \n",
       "  \n",
       "  [507319 rows x 27 columns]]}"
      ]
     },
     "execution_count": 53,
     "metadata": {},
     "output_type": "execute_result"
    }
   ],
   "source": [
    "inp_f.run(\"output\")"
   ]
  }
 ],
 "metadata": {
  "kernelspec": {
   "display_name": "Python 3",
   "language": "python",
   "name": "python3"
  },
  "language_info": {
   "codemirror_mode": {
    "name": "ipython",
    "version": 3
   },
   "file_extension": ".py",
   "mimetype": "text/x-python",
   "name": "python",
   "nbconvert_exporter": "python",
   "pygments_lexer": "ipython3",
   "version": "3.13.2"
  }
 },
 "nbformat": 4,
 "nbformat_minor": 2
}
