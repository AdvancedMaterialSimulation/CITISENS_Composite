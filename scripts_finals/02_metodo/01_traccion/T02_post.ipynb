{
 "cells": [
  {
   "cell_type": "code",
   "execution_count": 1,
   "metadata": {},
   "outputs": [],
   "source": [
    "import glob\n",
    "import numpy as np"
   ]
  },
  {
   "cell_type": "code",
   "execution_count": 2,
   "metadata": {},
   "outputs": [],
   "source": [
    "frds = glob.glob('output/ccx/*/*.frd')\n",
    "dats = glob.glob('output/ccx/*/*.dat')"
   ]
  },
  {
   "cell_type": "code",
   "execution_count": 3,
   "metadata": {},
   "outputs": [],
   "source": [
    "# dats = dats[1:]\n",
    "# frds = frds[1:]"
   ]
  },
  {
   "cell_type": "code",
   "execution_count": 4,
   "metadata": {},
   "outputs": [],
   "source": [
    "from djccx.read_dat import read_dat\n",
    "from djccx.frd.readfrd import readfrd"
   ]
  },
  {
   "cell_type": "code",
   "execution_count": 5,
   "metadata": {},
   "outputs": [],
   "source": [
    "t_l = 0.475 #  Espesor de la capa [mm]\n",
    "t_n = 2.934\n",
    "A_s = 0.283 # mm^2\n",
    "r = 3*t_l/8 \n",
    "d = (A_s - np.pi*r**2)/(2*r) # Area de la capa [mm^2]\n",
    "params_composite ={\n",
    "    \"r\"         :  r,\n",
    "    \"d\"         :  d,\n",
    "    \"h\"         :  t_l,\n",
    "    \"z0\"        :  t_n/2,\n",
    "    \"density\"   : 5,\n",
    "}\n",
    "\n",
    "\n",
    "params_ccx = {\n",
    "    \"epsilon\" : 0.1,\n",
    "    \"x_fixed\" : True\n",
    "}\n",
    "params = {\n",
    "    \"mesh\" : params_composite,\n",
    "    \"ccx\"  : params_ccx,\n",
    "}"
   ]
  },
  {
   "cell_type": "code",
   "execution_count": 6,
   "metadata": {},
   "outputs": [],
   "source": [
    "ni = [1,2,2,2,3,3]\n",
    "ni = [2,2,2,2,3,3] # Consideramos Adouble"
   ]
  },
  {
   "cell_type": "code",
   "execution_count": 7,
   "metadata": {},
   "outputs": [
    {
     "name": "stdout",
     "output_type": "stream",
     "text": [
      "output/ccx\\Adouble\\main.frd\n",
      "output/ccx\\B\\main.frd\n",
      "output/ccx\\C\\main.frd\n",
      "output/ccx\\D\\main.frd\n",
      "output/ccx\\E\\main.frd\n",
      "output/ccx\\F\\main.frd\n"
     ]
    }
   ],
   "source": [
    "\n",
    "\n",
    "def compute_E_eff(iffiles,ni):\n",
    "    print(iffiles)\n",
    "    ancho = params_composite[\"z0\"] + ni*params_composite[\"h\"]\n",
    "    largo = 10 \n",
    "\n",
    "    A = ancho*largo\n",
    "    \n",
    "    ifrd = readfrd(iffiles)\n",
    "    df = ifrd[\"data\"]\n",
    "\n",
    "    Ancho_FEM = df[\"z\"].max() - df[\"z\"].min()\n",
    "\n",
    "    # print(10*\"-\")\n",
    "    # print(\"Ancho FEM: \", Ancho_FEM)\n",
    "    # print(\"Ancho A: \", ancho)\n",
    "\n",
    "    Sapl = np.sum(df[\"F2\"]*(df[\"y\"] > df[\"y\"].mean()))/A\n",
    "\n",
    "    E_eff = Sapl / params[\"ccx\"][\"epsilon\"]\n",
    "    return E_eff\n",
    "\n",
    "E_effs = [compute_E_eff(f,ini) for f,ini in zip(frds,ni)]\n",
    "#E_effs = [compute_E_eff(f,ini) for f,ini in zip(frds[0:1],ni[0:1])]\n"
   ]
  },
  {
   "cell_type": "code",
   "execution_count": 8,
   "metadata": {},
   "outputs": [
    {
     "data": {
      "text/plain": [
       "['output/ccx\\\\Adouble\\\\main.frd',\n",
       " 'output/ccx\\\\B\\\\main.frd',\n",
       " 'output/ccx\\\\C\\\\main.frd',\n",
       " 'output/ccx\\\\D\\\\main.frd',\n",
       " 'output/ccx\\\\E\\\\main.frd',\n",
       " 'output/ccx\\\\F\\\\main.frd']"
      ]
     },
     "execution_count": 8,
     "metadata": {},
     "output_type": "execute_result"
    }
   ],
   "source": [
    "frds"
   ]
  },
  {
   "cell_type": "code",
   "execution_count": 9,
   "metadata": {},
   "outputs": [
    {
     "data": {
      "text/plain": [
       "[np.float64(3039.3222774544124),\n",
       " np.float64(2048.4319393625133),\n",
       " np.float64(2020.774171401377),\n",
       " np.float64(2046.5504890581265),\n",
       " np.float64(1897.7174784392976),\n",
       " np.float64(1941.5259693439532)]"
      ]
     },
     "execution_count": 9,
     "metadata": {},
     "output_type": "execute_result"
    }
   ],
   "source": [
    "E_effs"
   ]
  },
  {
   "cell_type": "code",
   "execution_count": 10,
   "metadata": {},
   "outputs": [],
   "source": [
    "from validation.FullExperimental import FullExperimental\n",
    "import numpy as np\n",
    "import pandas as pd\n",
    "from matplotlib import pyplot as plt"
   ]
  },
  {
   "cell_type": "code",
   "execution_count": 11,
   "metadata": {},
   "outputs": [
    {
     "data": {
      "text/html": [
       "<div>\n",
       "<style scoped>\n",
       "    .dataframe tbody tr th:only-of-type {\n",
       "        vertical-align: middle;\n",
       "    }\n",
       "\n",
       "    .dataframe tbody tr th {\n",
       "        vertical-align: top;\n",
       "    }\n",
       "\n",
       "    .dataframe thead tr th {\n",
       "        text-align: left;\n",
       "    }\n",
       "\n",
       "    .dataframe thead tr:last-of-type th {\n",
       "        text-align: right;\n",
       "    }\n",
       "</style>\n",
       "<table border=\"1\" class=\"dataframe\">\n",
       "  <thead>\n",
       "    <tr>\n",
       "      <th></th>\n",
       "      <th colspan=\"2\" halign=\"left\">Et [GPa]</th>\n",
       "      <th colspan=\"2\" halign=\"left\">% e</th>\n",
       "      <th colspan=\"2\" halign=\"left\">St [MPa]</th>\n",
       "      <th colspan=\"2\" halign=\"left\">Eb [GPa]</th>\n",
       "      <th colspan=\"2\" halign=\"left\">t [mm]</th>\n",
       "      <th colspan=\"2\" halign=\"left\">b [mm]</th>\n",
       "      <th colspan=\"2\" halign=\"left\">Sb [MPa]</th>\n",
       "      <th>layers</th>\n",
       "      <th>Vc</th>\n",
       "    </tr>\n",
       "    <tr>\n",
       "      <th></th>\n",
       "      <th>mean</th>\n",
       "      <th>std</th>\n",
       "      <th>mean</th>\n",
       "      <th>std</th>\n",
       "      <th>mean</th>\n",
       "      <th>std</th>\n",
       "      <th>mean</th>\n",
       "      <th>std</th>\n",
       "      <th>mean</th>\n",
       "      <th>std</th>\n",
       "      <th>mean</th>\n",
       "      <th>std</th>\n",
       "      <th>mean</th>\n",
       "      <th>std</th>\n",
       "      <th></th>\n",
       "      <th></th>\n",
       "    </tr>\n",
       "    <tr>\n",
       "      <th>Name</th>\n",
       "      <th></th>\n",
       "      <th></th>\n",
       "      <th></th>\n",
       "      <th></th>\n",
       "      <th></th>\n",
       "      <th></th>\n",
       "      <th></th>\n",
       "      <th></th>\n",
       "      <th></th>\n",
       "      <th></th>\n",
       "      <th></th>\n",
       "      <th></th>\n",
       "      <th></th>\n",
       "      <th></th>\n",
       "      <th></th>\n",
       "      <th></th>\n",
       "    </tr>\n",
       "  </thead>\n",
       "  <tbody>\n",
       "    <tr>\n",
       "      <th>TFP1</th>\n",
       "      <td>2.886</td>\n",
       "      <td>0.227</td>\n",
       "      <td>0.123</td>\n",
       "      <td>0.010</td>\n",
       "      <td>279.103</td>\n",
       "      <td>14.338</td>\n",
       "      <td>13.201</td>\n",
       "      <td>0.631</td>\n",
       "      <td>5.267</td>\n",
       "      <td>0.058</td>\n",
       "      <td>25.600</td>\n",
       "      <td>0.100</td>\n",
       "      <td>134.997</td>\n",
       "      <td>18.943</td>\n",
       "      <td>[Y]</td>\n",
       "      <td>0.178</td>\n",
       "    </tr>\n",
       "    <tr>\n",
       "      <th>TFP2</th>\n",
       "      <td>2.259</td>\n",
       "      <td>0.066</td>\n",
       "      <td>0.088</td>\n",
       "      <td>0.003</td>\n",
       "      <td>153.360</td>\n",
       "      <td>0.473</td>\n",
       "      <td>9.870</td>\n",
       "      <td>0.780</td>\n",
       "      <td>4.700</td>\n",
       "      <td>0.000</td>\n",
       "      <td>25.567</td>\n",
       "      <td>0.058</td>\n",
       "      <td>117.430</td>\n",
       "      <td>15.760</td>\n",
       "      <td>[Y, X]</td>\n",
       "      <td>0.164</td>\n",
       "    </tr>\n",
       "    <tr>\n",
       "      <th>TFP3</th>\n",
       "      <td>2.000</td>\n",
       "      <td>0.004</td>\n",
       "      <td>0.087</td>\n",
       "      <td>0.002</td>\n",
       "      <td>137.113</td>\n",
       "      <td>4.997</td>\n",
       "      <td>9.222</td>\n",
       "      <td>0.496</td>\n",
       "      <td>4.833</td>\n",
       "      <td>0.058</td>\n",
       "      <td>25.400</td>\n",
       "      <td>0.173</td>\n",
       "      <td>128.053</td>\n",
       "      <td>5.338</td>\n",
       "      <td>[Y, SX]</td>\n",
       "      <td>0.135</td>\n",
       "    </tr>\n",
       "    <tr>\n",
       "      <th>TFP4</th>\n",
       "      <td>2.451</td>\n",
       "      <td>0.114</td>\n",
       "      <td>0.095</td>\n",
       "      <td>0.005</td>\n",
       "      <td>184.397</td>\n",
       "      <td>1.357</td>\n",
       "      <td>10.182</td>\n",
       "      <td>0.771</td>\n",
       "      <td>4.700</td>\n",
       "      <td>0.000</td>\n",
       "      <td>25.667</td>\n",
       "      <td>0.153</td>\n",
       "      <td>141.703</td>\n",
       "      <td>7.525</td>\n",
       "      <td>[Y, SY]</td>\n",
       "      <td>0.144</td>\n",
       "    </tr>\n",
       "    <tr>\n",
       "      <th>TFP5</th>\n",
       "      <td>1.627</td>\n",
       "      <td>0.120</td>\n",
       "      <td>0.090</td>\n",
       "      <td>0.014</td>\n",
       "      <td>99.990</td>\n",
       "      <td>9.790</td>\n",
       "      <td>6.143</td>\n",
       "      <td>0.162</td>\n",
       "      <td>5.700</td>\n",
       "      <td>0.000</td>\n",
       "      <td>25.167</td>\n",
       "      <td>0.153</td>\n",
       "      <td>107.433</td>\n",
       "      <td>3.903</td>\n",
       "      <td>[Y, SX, SY]</td>\n",
       "      <td>0.146</td>\n",
       "    </tr>\n",
       "    <tr>\n",
       "      <th>TFP6</th>\n",
       "      <td>1.740</td>\n",
       "      <td>0.068</td>\n",
       "      <td>0.089</td>\n",
       "      <td>0.010</td>\n",
       "      <td>104.513</td>\n",
       "      <td>7.709</td>\n",
       "      <td>7.798</td>\n",
       "      <td>0.334</td>\n",
       "      <td>5.600</td>\n",
       "      <td>0.000</td>\n",
       "      <td>25.033</td>\n",
       "      <td>0.635</td>\n",
       "      <td>114.307</td>\n",
       "      <td>11.801</td>\n",
       "      <td>[Y, X, SY]</td>\n",
       "      <td>0.180</td>\n",
       "    </tr>\n",
       "  </tbody>\n",
       "</table>\n",
       "</div>"
      ],
      "text/plain": [
       "     Et [GPa]           % e        St [MPa]         Eb [GPa]        t [mm]  \\\n",
       "         mean    std   mean    std     mean     std     mean    std   mean   \n",
       "Name                                                                         \n",
       "TFP1    2.886  0.227  0.123  0.010  279.103  14.338   13.201  0.631  5.267   \n",
       "TFP2    2.259  0.066  0.088  0.003  153.360   0.473    9.870  0.780  4.700   \n",
       "TFP3    2.000  0.004  0.087  0.002  137.113   4.997    9.222  0.496  4.833   \n",
       "TFP4    2.451  0.114  0.095  0.005  184.397   1.357   10.182  0.771  4.700   \n",
       "TFP5    1.627  0.120  0.090  0.014   99.990   9.790    6.143  0.162  5.700   \n",
       "TFP6    1.740  0.068  0.089  0.010  104.513   7.709    7.798  0.334  5.600   \n",
       "\n",
       "             b [mm]        Sb [MPa]               layers     Vc  \n",
       "        std    mean    std     mean     std                      \n",
       "Name                                                             \n",
       "TFP1  0.058  25.600  0.100  134.997  18.943          [Y]  0.178  \n",
       "TFP2  0.000  25.567  0.058  117.430  15.760       [Y, X]  0.164  \n",
       "TFP3  0.058  25.400  0.173  128.053   5.338      [Y, SX]  0.135  \n",
       "TFP4  0.000  25.667  0.153  141.703   7.525      [Y, SY]  0.144  \n",
       "TFP5  0.000  25.167  0.153  107.433   3.903  [Y, SX, SY]  0.146  \n",
       "TFP6  0.000  25.033  0.635  114.307  11.801   [Y, X, SY]  0.180  "
      ]
     },
     "execution_count": 11,
     "metadata": {},
     "output_type": "execute_result"
    }
   ],
   "source": [
    "df = FullExperimental()\n",
    "df.rename(columns={\"v [X,SX,Y,SY]\": \"delta\"}, inplace=True)\n",
    "\n",
    "# database\n",
    "# layers = df[\"layers\"].values\n",
    "# layers[0] = [\"Y\",\"Y\"]\n",
    "# df[\"layers\"] = layers\n",
    "\n",
    "\n",
    "df.round(3)"
   ]
  },
  {
   "cell_type": "code",
   "execution_count": 12,
   "metadata": {},
   "outputs": [
    {
     "name": "stdout",
     "output_type": "stream",
     "text": [
      "[3.03932228 2.04843194 2.02077417 2.04655049 1.89771748 1.94152597]\n",
      "[2.88550922 2.25850254 2.00043656 2.45136175 1.62658228 1.73986993]\n"
     ]
    }
   ],
   "source": [
    "E_effs = np.array(E_effs)*1e-3\n",
    "Et_exp = df[\"Et [GPa]\"][\"mean\"].values\n",
    "\n",
    "print(E_effs)\n",
    "print(Et_exp)"
   ]
  },
  {
   "cell_type": "code",
   "execution_count": 13,
   "metadata": {},
   "outputs": [],
   "source": [
    "error_rel = np.abs(E_effs - Et_exp)/Et_exp"
   ]
  },
  {
   "cell_type": "code",
   "execution_count": 14,
   "metadata": {},
   "outputs": [],
   "source": [
    "names = df.index.values"
   ]
  },
  {
   "cell_type": "code",
   "execution_count": 15,
   "metadata": {},
   "outputs": [
    {
     "data": {
      "text/html": [
       "<div>\n",
       "<style scoped>\n",
       "    .dataframe tbody tr th:only-of-type {\n",
       "        vertical-align: middle;\n",
       "    }\n",
       "\n",
       "    .dataframe tbody tr th {\n",
       "        vertical-align: top;\n",
       "    }\n",
       "\n",
       "    .dataframe thead th {\n",
       "        text-align: right;\n",
       "    }\n",
       "</style>\n",
       "<table border=\"1\" class=\"dataframe\">\n",
       "  <thead>\n",
       "    <tr style=\"text-align: right;\">\n",
       "      <th></th>\n",
       "      <th>E pred [GPa]</th>\n",
       "      <th>E exp [GPa]</th>\n",
       "      <th>E e rel [%]</th>\n",
       "      <th>t pred [mm]</th>\n",
       "      <th>t exp [mm]</th>\n",
       "      <th>t e rel [%]</th>\n",
       "    </tr>\n",
       "    <tr>\n",
       "      <th>Name</th>\n",
       "      <th></th>\n",
       "      <th></th>\n",
       "      <th></th>\n",
       "      <th></th>\n",
       "      <th></th>\n",
       "      <th></th>\n",
       "    </tr>\n",
       "  </thead>\n",
       "  <tbody>\n",
       "    <tr>\n",
       "      <th>TFP1</th>\n",
       "      <td>3.04</td>\n",
       "      <td>2.89</td>\n",
       "      <td>5.34</td>\n",
       "      <td>4.83</td>\n",
       "      <td>5.27</td>\n",
       "      <td>8.22</td>\n",
       "    </tr>\n",
       "    <tr>\n",
       "      <th>TFP2</th>\n",
       "      <td>2.03</td>\n",
       "      <td>2.26</td>\n",
       "      <td>10.05</td>\n",
       "      <td>4.83</td>\n",
       "      <td>4.70</td>\n",
       "      <td>2.85</td>\n",
       "    </tr>\n",
       "    <tr>\n",
       "      <th>TFP3</th>\n",
       "      <td>2.00</td>\n",
       "      <td>2.00</td>\n",
       "      <td>0.08</td>\n",
       "      <td>4.83</td>\n",
       "      <td>4.83</td>\n",
       "      <td>0.01</td>\n",
       "    </tr>\n",
       "    <tr>\n",
       "      <th>TFP4</th>\n",
       "      <td>2.03</td>\n",
       "      <td>2.45</td>\n",
       "      <td>17.29</td>\n",
       "      <td>4.83</td>\n",
       "      <td>4.70</td>\n",
       "      <td>2.85</td>\n",
       "    </tr>\n",
       "    <tr>\n",
       "      <th>TFP5</th>\n",
       "      <td>1.87</td>\n",
       "      <td>1.63</td>\n",
       "      <td>15.23</td>\n",
       "      <td>5.78</td>\n",
       "      <td>5.70</td>\n",
       "      <td>1.47</td>\n",
       "    </tr>\n",
       "    <tr>\n",
       "      <th>TFP6</th>\n",
       "      <td>1.90</td>\n",
       "      <td>1.74</td>\n",
       "      <td>9.13</td>\n",
       "      <td>5.78</td>\n",
       "      <td>5.60</td>\n",
       "      <td>3.29</td>\n",
       "    </tr>\n",
       "  </tbody>\n",
       "</table>\n",
       "</div>"
      ],
      "text/plain": [
       "      E pred [GPa]  E exp [GPa]  E e rel [%]  t pred [mm]  t exp [mm]  \\\n",
       "Name                                                                    \n",
       "TFP1          3.04         2.89         5.34         4.83        5.27   \n",
       "TFP2          2.03         2.26        10.05         4.83        4.70   \n",
       "TFP3          2.00         2.00         0.08         4.83        4.83   \n",
       "TFP4          2.03         2.45        17.29         4.83        4.70   \n",
       "TFP5          1.87         1.63        15.23         5.78        5.70   \n",
       "TFP6          1.90         1.74         9.13         5.78        5.60   \n",
       "\n",
       "      t e rel [%]  \n",
       "Name               \n",
       "TFP1         8.22  \n",
       "TFP2         2.85  \n",
       "TFP3         0.01  \n",
       "TFP4         2.85  \n",
       "TFP5         1.47  \n",
       "TFP6         3.29  "
      ]
     },
     "execution_count": 15,
     "metadata": {},
     "output_type": "execute_result"
    }
   ],
   "source": [
    "import pandas as pd\n",
    "\n",
    "df_analitico_path = r\"C:\\Users\\djoroya\\Documents\\GitHub\\CITISENS_Composite_v2\\scripts_finals\\01_metodo\\01_traccion\\01_optim\\df_pred.csv\"\n",
    "df_analitico = pd.read_csv(df_analitico_path, index_col=0)\n",
    "df_analitico"
   ]
  },
  {
   "cell_type": "code",
   "execution_count": 16,
   "metadata": {},
   "outputs": [],
   "source": [
    "Et_analitico = df_analitico[\"E pred [GPa]\"].values"
   ]
  },
  {
   "cell_type": "code",
   "execution_count": 17,
   "metadata": {},
   "outputs": [
    {
     "data": {
      "image/png": "[encoded data removed]",
      "text/plain": [
       "<Figure size 500x500 with 1 Axes>"
      ]
     },
     "metadata": {},
     "output_type": "display_data"
    }
   ],
   "source": [
    "\n",
    "\n",
    "# bar compare \n",
    "fig, ax = plt.subplots()\n",
    "fig.set_size_inches(5, 5)\n",
    "width = 0.4\n",
    "x = np.arange(len(E_effs))\n",
    "# ax.bar(x - 0.95*width, Et_exp, width, label='Experimental')\n",
    "ax.bar(x - 0.2, Et_analitico, width, label='Metodología 1')\n",
    "\n",
    "ax.bar(x + 0.2, E_effs, width, label='Metodología 2')\n",
    "#Et_analitico\n",
    "ax.set_xticks(x)\n",
    "ax.set_xticklabels(names)\n",
    "plt.legend()\n",
    "plt.ylabel(r\"$E \\ [GPa]$\")\n",
    "plt.grid()"
   ]
  },
  {
   "cell_type": "code",
   "execution_count": 18,
   "metadata": {},
   "outputs": [
    {
     "data": {
      "text/plain": [
       "Text(0, 0.5, '$\\\\varepsilon_{rel} \\\\ [\\\\%]$')"
      ]
     },
     "execution_count": 18,
     "metadata": {},
     "output_type": "execute_result"
    },
    {
     "data": {
      "image/png": "[encoded data removed]",
      "text/plain": [
       "<Figure size 640x480 with 1 Axes>"
      ]
     },
     "metadata": {},
     "output_type": "display_data"
    }
   ],
   "source": [
    "# plot bar error\n",
    "fig, ax = plt.subplots()\n",
    "\n",
    "ax.bar(x, 100*error_rel, width, label='Error')\n",
    "\n",
    "ax.set_xticks(x);\n",
    "ax.set_xticklabels(names)\n",
    "plt.grid()\n",
    "plt.ylabel(r\"$\\varepsilon_{rel} \\ [\\%]$\")"
   ]
  },
  {
   "cell_type": "code",
   "execution_count": 19,
   "metadata": {},
   "outputs": [
    {
     "data": {
      "image/png": "[encoded data removed]",
      "text/plain": [
       "<Figure size 640x480 with 1 Axes>"
      ]
     },
     "metadata": {},
     "output_type": "display_data"
    }
   ],
   "source": [
    "# vs \n",
    "fig, ax = plt.subplots()\n",
    "ax.plot(Et_exp, E_effs, \"o\")\n",
    "ax.plot([0.5*Et_exp.min(), 1.5*Et_exp.max()], \n",
    "        [0.5*Et_exp.min(), 1.5*Et_exp.max()], \"k--\")\n",
    "ax.set_xlabel(r\"$E_{tracción} (Experimental) \\ [GPa]$\")\n",
    "ax.set_ylabel(r\"$E_{tracción} (FEM) \\ [GPa]$\")\n",
    "\n",
    "plt.grid()\n",
    "plt.xlim(0.5*Et_exp.min(), 1.5*Et_exp.max())\n",
    "plt.ylim(0.5*Et_exp.min(), 1.5*Et_exp.max())\n",
    "\n",
    "# text \n",
    "for i, txt in enumerate(names):\n",
    "    ax.annotate(txt, (Et_exp[i], E_effs[i]), fontsize=8, ha='right', va='bottom')"
   ]
  },
  {
   "cell_type": "code",
   "execution_count": 20,
   "metadata": {},
   "outputs": [
    {
     "data": {
      "text/plain": [
       "([<matplotlib.axis.XTick at 0x25ed86a7750>,\n",
       "  <matplotlib.axis.XTick at 0x25ed1ec3390>,\n",
       "  <matplotlib.axis.XTick at 0x25ed1ec3b10>,\n",
       "  <matplotlib.axis.XTick at 0x25ed87502d0>,\n",
       "  <matplotlib.axis.XTick at 0x25ed8750a50>,\n",
       "  <matplotlib.axis.XTick at 0x25ed87511d0>],\n",
       " [Text(0, 0, 'TFP1'),\n",
       "  Text(1, 0, 'TFP2'),\n",
       "  Text(2, 0, 'TFP3'),\n",
       "  Text(3, 0, 'TFP4'),\n",
       "  Text(4, 0, 'TFP5'),\n",
       "  Text(5, 0, 'TFP6')])"
      ]
     },
     "execution_count": 20,
     "metadata": {},
     "output_type": "execute_result"
    },
    {
     "data": {
      "image/png": "[encoded data removed]",
      "text/plain": [
       "<Figure size 1000x425 with 2 Axes>"
      ]
     },
     "metadata": {},
     "output_type": "display_data"
    }
   ],
   "source": [
    "# plot bar \n",
    "fig = plt.figure()\n",
    "fig.set_size_inches(10, 4.25)\n",
    "plt.subplots_adjust(wspace=0.4)\n",
    "\n",
    "width = 0.4\n",
    "x = np.arange(len(E_effs))\n",
    "plt.subplot(121)\n",
    "plt.bar(x - 0.2, Et_exp, width, label='Experimental')\n",
    "plt.bar(x + 0.2, E_effs, width, label='Metodología 2')\n",
    "plt.ylabel(r\"$E_{tracción} \\ [GPa]$\")\n",
    "plt.legend()\n",
    "plt.xticks(x, names, rotation=45)\n",
    "\n",
    "plt.grid()\n",
    "plt.subplot(122)\n",
    "error_rel = np.abs(E_effs - Et_exp)/Et_exp\n",
    "plt.bar(x, 100*error_rel, width)\n",
    "error_mean = np.mean(100*error_rel)\n",
    "plt.axhline(error_mean, color=\"red\", linestyle=\"--\", label=\"Error medio = %.2f\" % error_mean + \" %\")\n",
    "plt.legend()\n",
    "plt.grid()\n",
    "plt.ylim(0,25)\n",
    "plt.ylabel(r\"$\\varepsilon_{rel} \\ [\\%]$\")\n",
    "plt.xticks(x, names, rotation=45)"
   ]
  },
  {
   "cell_type": "code",
   "execution_count": null,
   "metadata": {},
   "outputs": [],
   "source": []
  },
  {
   "cell_type": "code",
   "execution_count": 21,
   "metadata": {},
   "outputs": [
    {
     "data": {
      "image/png": "[encoded data removed]",
      "text/plain": [
       "<Figure size 500x500 with 1 Axes>"
      ]
     },
     "metadata": {},
     "output_type": "display_data"
    }
   ],
   "source": [
    "# vs \n",
    "fig, ax = plt.subplots()\n",
    "fig.set_size_inches(5, 5)\n",
    "ax.plot(Et_analitico,E_effs, \"o\")\n",
    "ax.plot([0.95*Et_analitico.min(), 1.05*Et_analitico.max()], \n",
    "        [0.95*Et_analitico.min(), 1.05*Et_analitico.max()], \"k--\")\n",
    "ax.set_xlabel(r\"$E \\ [GPa]$ (Metodología 1)\")\n",
    "ax.set_ylabel(r\"$E \\ [GPa]$ (Metodología 2)\")\n",
    "\n",
    "plt.grid()\n",
    "\n",
    "#text \n",
    "for i, txt in enumerate(names):\n",
    "    ax.annotate(txt, (Et_analitico[i], E_effs[i]), fontsize=8, ha='right', va='bottom')"
   ]
  },
  {
   "cell_type": "code",
   "execution_count": null,
   "metadata": {},
   "outputs": [],
   "source": []
  }
 ],
 "metadata": {
  "kernelspec": {
   "display_name": "Python 3",
   "language": "python",
   "name": "python3"
  },
  "language_info": {
   "codemirror_mode": {
    "name": "ipython",
    "version": 3
   },
   "file_extension": ".py",
   "mimetype": "text/x-python",
   "name": "python",
   "nbconvert_exporter": "python",
   "pygments_lexer": "ipython3",
   "version": "3.13.2"
  }
 },
 "nbformat": 4,
 "nbformat_minor": 2
}
