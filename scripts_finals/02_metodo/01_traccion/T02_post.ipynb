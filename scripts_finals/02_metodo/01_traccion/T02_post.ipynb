{
 "cells": [
  {
   "cell_type": "code",
   "execution_count": 1,
   "metadata": {},
   "outputs": [],
   "source": [
    "import glob\n",
    "import numpy as np"
   ]
  },
  {
   "cell_type": "code",
   "execution_count": 2,
   "metadata": {},
   "outputs": [],
   "source": [
    "frds = glob.glob('output/ccx/*/*.frd')\n",
    "dats = glob.glob('output/ccx/*/*.dat')\n",
    "\n",
    "frds.sort()\n",
    "dats.sort()"
   ]
  },
  {
   "cell_type": "code",
   "execution_count": 3,
   "metadata": {},
   "outputs": [],
   "source": [
    "# dats = dats[1:]\n",
    "# frds = frds[1:]"
   ]
  },
  {
   "cell_type": "code",
   "execution_count": 4,
   "metadata": {},
   "outputs": [],
   "source": [
    "from djccx.read_dat import read_dat\n",
    "from djccx.frd.readfrd import readfrd"
   ]
  },
  {
   "cell_type": "code",
   "execution_count": 5,
   "metadata": {},
   "outputs": [],
   "source": [
    "t_l = 0.475 #  Espesor de la capa [mm]\n",
    "t_n = 2.934\n",
    "A_s = 0.283 # mm^2\n",
    "r = 3*t_l/8 \n",
    "d = (A_s - np.pi*r**2)/(2*r) # Area de la capa [mm^2]\n",
    "params_composite ={\n",
    "    \"r\"         :  r,\n",
    "    \"d\"         :  d,\n",
    "    \"h\"         :  t_l,\n",
    "    \"z0\"        :  t_n/2,\n",
    "    \"density\"   : 5,\n",
    "}\n",
    "\n",
    "\n",
    "params_ccx = {\n",
    "    \"epsilon\" : 0.1,\n",
    "    \"x_fixed\" : True\n",
    "}\n",
    "params = {\n",
    "    \"mesh\" : params_composite,\n",
    "    \"ccx\"  : params_ccx,\n",
    "}"
   ]
  },
  {
   "cell_type": "code",
   "execution_count": 6,
   "metadata": {},
   "outputs": [],
   "source": [
    "ni = [1,2,2,2,3,3]\n",
    "ni = [2,2,2,2,3,3] # Consideramos Adouble"
   ]
  },
  {
   "cell_type": "code",
   "execution_count": 7,
   "metadata": {},
   "outputs": [
    {
     "name": "stdout",
     "output_type": "stream",
     "text": [
      "output/ccx/Adouble/main.frd\n",
      "output/ccx/B/main.frd\n",
      "output/ccx/C/main.frd\n",
      "output/ccx/D/main.frd\n",
      "output/ccx/E/main.frd\n",
      "output/ccx/F/main.frd\n"
     ]
    }
   ],
   "source": [
    "\n",
    "\n",
    "def compute_E_eff(iffiles,ni):\n",
    "    print(iffiles)\n",
    "    ancho = params_composite[\"z0\"] + ni*params_composite[\"h\"]\n",
    "    largo = 10 \n",
    "\n",
    "    A = ancho*largo\n",
    "    \n",
    "    ifrd = readfrd(iffiles)\n",
    "    df = ifrd[\"data\"]\n",
    "\n",
    "    Ancho_FEM = df[\"z\"].max() - df[\"z\"].min()\n",
    "\n",
    "    # print(10*\"-\")\n",
    "    # print(\"Ancho FEM: \", Ancho_FEM)\n",
    "    # print(\"Ancho A: \", ancho)\n",
    "\n",
    "    Sapl = np.sum(df[\"F2\"]*(df[\"y\"] > df[\"y\"].mean()))/A\n",
    "\n",
    "    E_eff = Sapl / params[\"ccx\"][\"epsilon\"]\n",
    "    return E_eff\n",
    "\n",
    "E_effs = [compute_E_eff(f,ini) for f,ini in zip(frds,ni)]\n",
    "#E_effs = [compute_E_eff(f,ini) for f,ini in zip(frds[0:1],ni[0:1])]\n"
   ]
  },
  {
   "cell_type": "code",
   "execution_count": 8,
   "metadata": {},
   "outputs": [
    {
     "data": {
      "text/plain": [
       "['output/ccx/Adouble/main.frd',\n",
       " 'output/ccx/B/main.frd',\n",
       " 'output/ccx/C/main.frd',\n",
       " 'output/ccx/D/main.frd',\n",
       " 'output/ccx/E/main.frd',\n",
       " 'output/ccx/F/main.frd']"
      ]
     },
     "execution_count": 8,
     "metadata": {},
     "output_type": "execute_result"
    }
   ],
   "source": [
    "frds"
   ]
  },
  {
   "cell_type": "code",
   "execution_count": 9,
   "metadata": {},
   "outputs": [
    {
     "data": {
      "text/plain": [
       "[np.float64(3039.3222261334154),\n",
       " np.float64(2048.431559055603),\n",
       " np.float64(2020.7657948571712),\n",
       " np.float64(2046.5517473339382),\n",
       " np.float64(1897.7112851091674),\n",
       " np.float64(1941.52623694025)]"
      ]
     },
     "execution_count": 9,
     "metadata": {},
     "output_type": "execute_result"
    }
   ],
   "source": [
    "E_effs"
   ]
  },
  {
   "cell_type": "code",
   "execution_count": 10,
   "metadata": {},
   "outputs": [],
   "source": [
    "from validation.FullExperimental import FullExperimental\n",
    "import numpy as np\n",
    "import pandas as pd\n",
    "from matplotlib import pyplot as plt"
   ]
  },
  {
   "cell_type": "code",
   "execution_count": 11,
   "metadata": {},
   "outputs": [
    {
     "data": {
      "application/vnd.microsoft.datawrangler.viewer.v0+json": {
       "columns": [
        {
         "name": "Name",
         "rawType": "object",
         "type": "string"
        },
        {
         "name": "('Et [GPa]', 'mean')",
         "rawType": "float64",
         "type": "float"
        },
        {
         "name": "('Et [GPa]', 'std')",
         "rawType": "float64",
         "type": "float"
        },
        {
         "name": "('% e', 'mean')",
         "rawType": "float64",
         "type": "float"
        },
        {
         "name": "('% e', 'std')",
         "rawType": "float64",
         "type": "float"
        },
        {
         "name": "('St [MPa]', 'mean')",
         "rawType": "float64",
         "type": "float"
        },
        {
         "name": "('St [MPa]', 'std')",
         "rawType": "float64",
         "type": "float"
        },
        {
         "name": "('Eb [GPa]', 'mean')",
         "rawType": "float64",
         "type": "float"
        },
        {
         "name": "('Eb [GPa]', 'std')",
         "rawType": "float64",
         "type": "float"
        },
        {
         "name": "('t [mm]', 'mean')",
         "rawType": "float64",
         "type": "float"
        },
        {
         "name": "('t [mm]', 'std')",
         "rawType": "float64",
         "type": "float"
        },
        {
         "name": "('b [mm]', 'mean')",
         "rawType": "float64",
         "type": "float"
        },
        {
         "name": "('b [mm]', 'std')",
         "rawType": "float64",
         "type": "float"
        },
        {
         "name": "('Sb [MPa]', 'mean')",
         "rawType": "float64",
         "type": "float"
        },
        {
         "name": "('Sb [MPa]', 'std')",
         "rawType": "float64",
         "type": "float"
        },
        {
         "name": "('layers', '')",
         "rawType": "object",
         "type": "unknown"
        },
        {
         "name": "('Vc', '')",
         "rawType": "float64",
         "type": "float"
        }
       ],
       "ref": "9f08c594-57e6-4c58-bcfd-d686076e5f23",
       "rows": [
        [
         "TFP1",
         "2.886",
         "0.227",
         "0.123",
         "0.01",
         "279.103",
         "14.338",
         "13.201",
         "0.631",
         "5.267",
         "0.058",
         "25.6",
         "0.1",
         "134.997",
         "18.943",
         "['Y']",
         "0.178"
        ],
        [
         "TFP2",
         "2.259",
         "0.066",
         "0.088",
         "0.003",
         "153.36",
         "0.473",
         "9.87",
         "0.78",
         "4.7",
         "0.0",
         "25.567",
         "0.058",
         "117.43",
         "15.76",
         "['Y', 'X']",
         "0.164"
        ],
        [
         "TFP3",
         "2.0",
         "0.004",
         "0.087",
         "0.002",
         "137.113",
         "4.997",
         "9.222",
         "0.496",
         "4.833",
         "0.058",
         "25.4",
         "0.173",
         "128.053",
         "5.338",
         "['Y', 'SX']",
         "0.135"
        ],
        [
         "TFP4",
         "2.451",
         "0.114",
         "0.095",
         "0.005",
         "184.397",
         "1.357",
         "10.182",
         "0.771",
         "4.7",
         "0.0",
         "25.667",
         "0.153",
         "141.703",
         "7.525",
         "['Y', 'SY']",
         "0.144"
        ],
        [
         "TFP5",
         "1.627",
         "0.12",
         "0.09",
         "0.014",
         "99.99",
         "9.79",
         "6.143",
         "0.162",
         "5.7",
         "0.0",
         "25.167",
         "0.153",
         "107.433",
         "3.903",
         "['Y', 'SX', 'SY']",
         "0.146"
        ],
        [
         "TFP6",
         "1.74",
         "0.068",
         "0.089",
         "0.01",
         "104.513",
         "7.709",
         "7.798",
         "0.334",
         "5.6",
         "0.0",
         "25.033",
         "0.635",
         "114.307",
         "11.801",
         "['Y', 'X', 'SY']",
         "0.18"
        ]
       ],
       "shape": {
        "columns": 16,
        "rows": 6
       }
      },
      "text/html": [
       "<div>\n",
       "<style scoped>\n",
       "    .dataframe tbody tr th:only-of-type {\n",
       "        vertical-align: middle;\n",
       "    }\n",
       "\n",
       "    .dataframe tbody tr th {\n",
       "        vertical-align: top;\n",
       "    }\n",
       "\n",
       "    .dataframe thead tr th {\n",
       "        text-align: left;\n",
       "    }\n",
       "\n",
       "    .dataframe thead tr:last-of-type th {\n",
       "        text-align: right;\n",
       "    }\n",
       "</style>\n",
       "<table border=\"1\" class=\"dataframe\">\n",
       "  <thead>\n",
       "    <tr>\n",
       "      <th></th>\n",
       "      <th colspan=\"2\" halign=\"left\">Et [GPa]</th>\n",
       "      <th colspan=\"2\" halign=\"left\">% e</th>\n",
       "      <th colspan=\"2\" halign=\"left\">St [MPa]</th>\n",
       "      <th colspan=\"2\" halign=\"left\">Eb [GPa]</th>\n",
       "      <th colspan=\"2\" halign=\"left\">t [mm]</th>\n",
       "      <th colspan=\"2\" halign=\"left\">b [mm]</th>\n",
       "      <th colspan=\"2\" halign=\"left\">Sb [MPa]</th>\n",
       "      <th>layers</th>\n",
       "      <th>Vc</th>\n",
       "    </tr>\n",
       "    <tr>\n",
       "      <th></th>\n",
       "      <th>mean</th>\n",
       "      <th>std</th>\n",
       "      <th>mean</th>\n",
       "      <th>std</th>\n",
       "      <th>mean</th>\n",
       "      <th>std</th>\n",
       "      <th>mean</th>\n",
       "      <th>std</th>\n",
       "      <th>mean</th>\n",
       "      <th>std</th>\n",
       "      <th>mean</th>\n",
       "      <th>std</th>\n",
       "      <th>mean</th>\n",
       "      <th>std</th>\n",
       "      <th></th>\n",
       "      <th></th>\n",
       "    </tr>\n",
       "    <tr>\n",
       "      <th>Name</th>\n",
       "      <th></th>\n",
       "      <th></th>\n",
       "      <th></th>\n",
       "      <th></th>\n",
       "      <th></th>\n",
       "      <th></th>\n",
       "      <th></th>\n",
       "      <th></th>\n",
       "      <th></th>\n",
       "      <th></th>\n",
       "      <th></th>\n",
       "      <th></th>\n",
       "      <th></th>\n",
       "      <th></th>\n",
       "      <th></th>\n",
       "      <th></th>\n",
       "    </tr>\n",
       "  </thead>\n",
       "  <tbody>\n",
       "    <tr>\n",
       "      <th>TFP1</th>\n",
       "      <td>2.886</td>\n",
       "      <td>0.227</td>\n",
       "      <td>0.123</td>\n",
       "      <td>0.010</td>\n",
       "      <td>279.103</td>\n",
       "      <td>14.338</td>\n",
       "      <td>13.201</td>\n",
       "      <td>0.631</td>\n",
       "      <td>5.267</td>\n",
       "      <td>0.058</td>\n",
       "      <td>25.600</td>\n",
       "      <td>0.100</td>\n",
       "      <td>134.997</td>\n",
       "      <td>18.943</td>\n",
       "      <td>[Y]</td>\n",
       "      <td>0.178</td>\n",
       "    </tr>\n",
       "    <tr>\n",
       "      <th>TFP2</th>\n",
       "      <td>2.259</td>\n",
       "      <td>0.066</td>\n",
       "      <td>0.088</td>\n",
       "      <td>0.003</td>\n",
       "      <td>153.360</td>\n",
       "      <td>0.473</td>\n",
       "      <td>9.870</td>\n",
       "      <td>0.780</td>\n",
       "      <td>4.700</td>\n",
       "      <td>0.000</td>\n",
       "      <td>25.567</td>\n",
       "      <td>0.058</td>\n",
       "      <td>117.430</td>\n",
       "      <td>15.760</td>\n",
       "      <td>[Y, X]</td>\n",
       "      <td>0.164</td>\n",
       "    </tr>\n",
       "    <tr>\n",
       "      <th>TFP3</th>\n",
       "      <td>2.000</td>\n",
       "      <td>0.004</td>\n",
       "      <td>0.087</td>\n",
       "      <td>0.002</td>\n",
       "      <td>137.113</td>\n",
       "      <td>4.997</td>\n",
       "      <td>9.222</td>\n",
       "      <td>0.496</td>\n",
       "      <td>4.833</td>\n",
       "      <td>0.058</td>\n",
       "      <td>25.400</td>\n",
       "      <td>0.173</td>\n",
       "      <td>128.053</td>\n",
       "      <td>5.338</td>\n",
       "      <td>[Y, SX]</td>\n",
       "      <td>0.135</td>\n",
       "    </tr>\n",
       "    <tr>\n",
       "      <th>TFP4</th>\n",
       "      <td>2.451</td>\n",
       "      <td>0.114</td>\n",
       "      <td>0.095</td>\n",
       "      <td>0.005</td>\n",
       "      <td>184.397</td>\n",
       "      <td>1.357</td>\n",
       "      <td>10.182</td>\n",
       "      <td>0.771</td>\n",
       "      <td>4.700</td>\n",
       "      <td>0.000</td>\n",
       "      <td>25.667</td>\n",
       "      <td>0.153</td>\n",
       "      <td>141.703</td>\n",
       "      <td>7.525</td>\n",
       "      <td>[Y, SY]</td>\n",
       "      <td>0.144</td>\n",
       "    </tr>\n",
       "    <tr>\n",
       "      <th>TFP5</th>\n",
       "      <td>1.627</td>\n",
       "      <td>0.120</td>\n",
       "      <td>0.090</td>\n",
       "      <td>0.014</td>\n",
       "      <td>99.990</td>\n",
       "      <td>9.790</td>\n",
       "      <td>6.143</td>\n",
       "      <td>0.162</td>\n",
       "      <td>5.700</td>\n",
       "      <td>0.000</td>\n",
       "      <td>25.167</td>\n",
       "      <td>0.153</td>\n",
       "      <td>107.433</td>\n",
       "      <td>3.903</td>\n",
       "      <td>[Y, SX, SY]</td>\n",
       "      <td>0.146</td>\n",
       "    </tr>\n",
       "    <tr>\n",
       "      <th>TFP6</th>\n",
       "      <td>1.740</td>\n",
       "      <td>0.068</td>\n",
       "      <td>0.089</td>\n",
       "      <td>0.010</td>\n",
       "      <td>104.513</td>\n",
       "      <td>7.709</td>\n",
       "      <td>7.798</td>\n",
       "      <td>0.334</td>\n",
       "      <td>5.600</td>\n",
       "      <td>0.000</td>\n",
       "      <td>25.033</td>\n",
       "      <td>0.635</td>\n",
       "      <td>114.307</td>\n",
       "      <td>11.801</td>\n",
       "      <td>[Y, X, SY]</td>\n",
       "      <td>0.180</td>\n",
       "    </tr>\n",
       "  </tbody>\n",
       "</table>\n",
       "</div>"
      ],
      "text/plain": [
       "     Et [GPa]           % e        St [MPa]         Eb [GPa]        t [mm]  \\\n",
       "         mean    std   mean    std     mean     std     mean    std   mean   \n",
       "Name                                                                         \n",
       "TFP1    2.886  0.227  0.123  0.010  279.103  14.338   13.201  0.631  5.267   \n",
       "TFP2    2.259  0.066  0.088  0.003  153.360   0.473    9.870  0.780  4.700   \n",
       "TFP3    2.000  0.004  0.087  0.002  137.113   4.997    9.222  0.496  4.833   \n",
       "TFP4    2.451  0.114  0.095  0.005  184.397   1.357   10.182  0.771  4.700   \n",
       "TFP5    1.627  0.120  0.090  0.014   99.990   9.790    6.143  0.162  5.700   \n",
       "TFP6    1.740  0.068  0.089  0.010  104.513   7.709    7.798  0.334  5.600   \n",
       "\n",
       "             b [mm]        Sb [MPa]               layers     Vc  \n",
       "        std    mean    std     mean     std                      \n",
       "Name                                                             \n",
       "TFP1  0.058  25.600  0.100  134.997  18.943          [Y]  0.178  \n",
       "TFP2  0.000  25.567  0.058  117.430  15.760       [Y, X]  0.164  \n",
       "TFP3  0.058  25.400  0.173  128.053   5.338      [Y, SX]  0.135  \n",
       "TFP4  0.000  25.667  0.153  141.703   7.525      [Y, SY]  0.144  \n",
       "TFP5  0.000  25.167  0.153  107.433   3.903  [Y, SX, SY]  0.146  \n",
       "TFP6  0.000  25.033  0.635  114.307  11.801   [Y, X, SY]  0.180  "
      ]
     },
     "execution_count": 11,
     "metadata": {},
     "output_type": "execute_result"
    }
   ],
   "source": [
    "df = FullExperimental()\n",
    "df.rename(columns={\"v [X,SX,Y,SY]\": \"delta\"}, inplace=True)\n",
    "\n",
    "# database\n",
    "# layers = df[\"layers\"].values\n",
    "# layers[0] = [\"Y\",\"Y\"]\n",
    "# df[\"layers\"] = layers\n",
    "\n",
    "\n",
    "df.round(3)"
   ]
  },
  {
   "cell_type": "code",
   "execution_count": 12,
   "metadata": {},
   "outputs": [
    {
     "name": "stdout",
     "output_type": "stream",
     "text": [
      "[3.03932223 2.04843156 2.02076579 2.04655175 1.89771129 1.94152624]\n",
      "[2.88550922 2.25850254 2.00043656 2.45136175 1.62658228 1.73986993]\n"
     ]
    }
   ],
   "source": [
    "E_effs = np.array(E_effs)*1e-3\n",
    "Et_exp = df[\"Et [GPa]\"][\"mean\"].values\n",
    "\n",
    "print(E_effs)\n",
    "print(Et_exp)"
   ]
  },
  {
   "cell_type": "code",
   "execution_count": 13,
   "metadata": {},
   "outputs": [],
   "source": [
    "error_rel = np.abs(E_effs - Et_exp)/Et_exp"
   ]
  },
  {
   "cell_type": "code",
   "execution_count": 14,
   "metadata": {},
   "outputs": [],
   "source": [
    "names = df.index.values"
   ]
  },
  {
   "cell_type": "code",
   "execution_count": 18,
   "metadata": {},
   "outputs": [
    {
     "data": {
      "application/vnd.microsoft.datawrangler.viewer.v0+json": {
       "columns": [
        {
         "name": "Name",
         "rawType": "object",
         "type": "string"
        },
        {
         "name": "E pred [GPa]",
         "rawType": "float64",
         "type": "float"
        },
        {
         "name": "E exp [GPa]",
         "rawType": "float64",
         "type": "float"
        },
        {
         "name": "E e rel [%]",
         "rawType": "float64",
         "type": "float"
        }
       ],
       "ref": "0fd13463-655c-4ea9-9c9a-45f0f5319531",
       "rows": [
        [
         "TFP1",
         "3.04",
         "2.89",
         "5.34"
        ],
        [
         "TFP2",
         "2.03",
         "2.26",
         "10.05"
        ],
        [
         "TFP3",
         "2.0",
         "2.0",
         "0.08"
        ],
        [
         "TFP4",
         "2.03",
         "2.45",
         "17.29"
        ],
        [
         "TFP5",
         "1.87",
         "1.63",
         "15.23"
        ],
        [
         "TFP6",
         "1.9",
         "1.74",
         "9.13"
        ]
       ],
       "shape": {
        "columns": 3,
        "rows": 6
       }
      },
      "text/html": [
       "<div>\n",
       "<style scoped>\n",
       "    .dataframe tbody tr th:only-of-type {\n",
       "        vertical-align: middle;\n",
       "    }\n",
       "\n",
       "    .dataframe tbody tr th {\n",
       "        vertical-align: top;\n",
       "    }\n",
       "\n",
       "    .dataframe thead th {\n",
       "        text-align: right;\n",
       "    }\n",
       "</style>\n",
       "<table border=\"1\" class=\"dataframe\">\n",
       "  <thead>\n",
       "    <tr style=\"text-align: right;\">\n",
       "      <th></th>\n",
       "      <th>E pred [GPa]</th>\n",
       "      <th>E exp [GPa]</th>\n",
       "      <th>E e rel [%]</th>\n",
       "    </tr>\n",
       "    <tr>\n",
       "      <th>Name</th>\n",
       "      <th></th>\n",
       "      <th></th>\n",
       "      <th></th>\n",
       "    </tr>\n",
       "  </thead>\n",
       "  <tbody>\n",
       "    <tr>\n",
       "      <th>TFP1</th>\n",
       "      <td>3.04</td>\n",
       "      <td>2.89</td>\n",
       "      <td>5.34</td>\n",
       "    </tr>\n",
       "    <tr>\n",
       "      <th>TFP2</th>\n",
       "      <td>2.03</td>\n",
       "      <td>2.26</td>\n",
       "      <td>10.05</td>\n",
       "    </tr>\n",
       "    <tr>\n",
       "      <th>TFP3</th>\n",
       "      <td>2.00</td>\n",
       "      <td>2.00</td>\n",
       "      <td>0.08</td>\n",
       "    </tr>\n",
       "    <tr>\n",
       "      <th>TFP4</th>\n",
       "      <td>2.03</td>\n",
       "      <td>2.45</td>\n",
       "      <td>17.29</td>\n",
       "    </tr>\n",
       "    <tr>\n",
       "      <th>TFP5</th>\n",
       "      <td>1.87</td>\n",
       "      <td>1.63</td>\n",
       "      <td>15.23</td>\n",
       "    </tr>\n",
       "    <tr>\n",
       "      <th>TFP6</th>\n",
       "      <td>1.90</td>\n",
       "      <td>1.74</td>\n",
       "      <td>9.13</td>\n",
       "    </tr>\n",
       "  </tbody>\n",
       "</table>\n",
       "</div>"
      ],
      "text/plain": [
       "      E pred [GPa]  E exp [GPa]  E e rel [%]\n",
       "Name                                        \n",
       "TFP1          3.04         2.89         5.34\n",
       "TFP2          2.03         2.26        10.05\n",
       "TFP3          2.00         2.00         0.08\n",
       "TFP4          2.03         2.45        17.29\n",
       "TFP5          1.87         1.63        15.23\n",
       "TFP6          1.90         1.74         9.13"
      ]
     },
     "execution_count": 18,
     "metadata": {},
     "output_type": "execute_result"
    }
   ],
   "source": [
    "import pandas as pd\n",
    "\n",
    "df_analitico_path = r\"C:\\Users\\djoroya\\Documents\\GitHub\\CITISENS_Composite_v2\\scripts_finals\\01_metodo\\01_traccion\\01_optim\\df_pred.csv\"\n",
    "df_analitico_path = \"../../01_metodo/01_traccion/01_optim/df_pred.csv\"\n",
    "df_analitico = pd.read_csv(df_analitico_path, index_col=0)\n",
    "df_analitico"
   ]
  },
  {
   "cell_type": "code",
   "execution_count": 19,
   "metadata": {},
   "outputs": [],
   "source": [
    "Et_analitico = df_analitico[\"E pred [GPa]\"].values"
   ]
  },
  {
   "cell_type": "code",
   "execution_count": 20,
   "metadata": {},
   "outputs": [
    {
     "data": {
      "image/png": "[encoded data removed]",
      "text/plain": [
       "<Figure size 500x500 with 1 Axes>"
      ]
     },
     "metadata": {},
     "output_type": "display_data"
    }
   ],
   "source": [
    "\n",
    "\n",
    "# bar compare \n",
    "fig, ax = plt.subplots()\n",
    "fig.set_size_inches(5, 5)\n",
    "width = 0.4\n",
    "x = np.arange(len(E_effs))\n",
    "# ax.bar(x - 0.95*width, Et_exp, width, label='Experimental')\n",
    "ax.bar(x - 0.2, Et_analitico, width, label='Metodología 1')\n",
    "\n",
    "ax.bar(x + 0.2, E_effs, width, label='Metodología 2')\n",
    "#Et_analitico\n",
    "ax.set_xticks(x)\n",
    "ax.set_xticklabels(names)\n",
    "plt.legend()\n",
    "plt.ylabel(r\"$E_{tracción} \\ [GPa]$\")\n",
    "plt.grid()"
   ]
  },
  {
   "cell_type": "code",
   "execution_count": 21,
   "metadata": {},
   "outputs": [
    {
     "data": {
      "text/plain": [
       "Text(0, 0.5, '$\\\\varepsilon_{rel} \\\\ [\\\\%]$')"
      ]
     },
     "execution_count": 21,
     "metadata": {},
     "output_type": "execute_result"
    },
    {
     "data": {
      "image/png": "[encoded data removed]",
      "text/plain": [
       "<Figure size 640x480 with 1 Axes>"
      ]
     },
     "metadata": {},
     "output_type": "display_data"
    }
   ],
   "source": [
    "# plot bar error\n",
    "fig, ax = plt.subplots()\n",
    "\n",
    "ax.bar(x, 100*error_rel, width, label='Error')\n",
    "\n",
    "ax.set_xticks(x);\n",
    "ax.set_xticklabels(names)\n",
    "plt.grid()\n",
    "plt.ylabel(r\"$\\varepsilon_{rel} \\ [\\%]$\")"
   ]
  },
  {
   "cell_type": "code",
   "execution_count": 22,
   "metadata": {},
   "outputs": [
    {
     "data": {
      "image/png": "[encoded data removed]",
      "text/plain": [
       "<Figure size 640x480 with 1 Axes>"
      ]
     },
     "metadata": {},
     "output_type": "display_data"
    }
   ],
   "source": [
    "# vs \n",
    "fig, ax = plt.subplots()\n",
    "ax.plot(Et_exp, E_effs, \"o\")\n",
    "ax.plot([0.5*Et_exp.min(), 1.5*Et_exp.max()], \n",
    "        [0.5*Et_exp.min(), 1.5*Et_exp.max()], \"k--\")\n",
    "ax.set_xlabel(r\"$E_{tracción} (Experimental) \\ [GPa]$\")\n",
    "ax.set_ylabel(r\"$E_{tracción} (FEM) \\ [GPa]$\")\n",
    "\n",
    "plt.grid()\n",
    "plt.xlim(0.5*Et_exp.min(), 1.5*Et_exp.max())\n",
    "plt.ylim(0.5*Et_exp.min(), 1.5*Et_exp.max())\n",
    "\n",
    "# text \n",
    "for i, txt in enumerate(names):\n",
    "    ax.annotate(txt, (Et_exp[i], E_effs[i]), fontsize=8, ha='right', va='bottom')"
   ]
  },
  {
   "cell_type": "code",
   "execution_count": 23,
   "metadata": {},
   "outputs": [
    {
     "data": {
      "text/plain": [
       "([<matplotlib.axis.XTick at 0x7f4ce072e890>,\n",
       "  <matplotlib.axis.XTick at 0x7f4c9fe0e290>,\n",
       "  <matplotlib.axis.XTick at 0x7f4c9fdab3d0>,\n",
       "  <matplotlib.axis.XTick at 0x7f4ca074ea50>,\n",
       "  <matplotlib.axis.XTick at 0x7f4ca07f4c50>,\n",
       "  <matplotlib.axis.XTick at 0x7f4ca073fc90>],\n",
       " [Text(0, 0, 'TFP1'),\n",
       "  Text(1, 0, 'TFP2'),\n",
       "  Text(2, 0, 'TFP3'),\n",
       "  Text(3, 0, 'TFP4'),\n",
       "  Text(4, 0, 'TFP5'),\n",
       "  Text(5, 0, 'TFP6')])"
      ]
     },
     "execution_count": 23,
     "metadata": {},
     "output_type": "execute_result"
    },
    {
     "data": {
      "image/png": "[encoded data removed]",
      "text/plain": [
       "<Figure size 500x500 with 1 Axes>"
      ]
     },
     "metadata": {},
     "output_type": "display_data"
    },
    {
     "data": {
      "image/png": "[encoded data removed]",
      "text/plain": [
       "<Figure size 500x500 with 1 Axes>"
      ]
     },
     "metadata": {},
     "output_type": "display_data"
    }
   ],
   "source": [
    "# plot bar \n",
    "fig = plt.figure()\n",
    "fig.set_size_inches(5, 5)\n",
    "x = np.arange(len(E_effs))\n",
    "plt.bar(x - 0.2, Et_exp, width, label='Experimental')\n",
    "plt.bar(x + 0.2, E_effs, width, label='Metodología 2')\n",
    "plt.ylabel(r\"$E_{tracción} \\ [GPa]$\")\n",
    "plt.legend()\n",
    "plt.xticks(x, names, rotation=45)\n",
    "\n",
    "plt.grid()\n",
    "\n",
    "fig = plt.figure()\n",
    "fig.set_size_inches(5, 5)\n",
    "error_abs = np.abs(E_effs - Et_exp)\n",
    "error_rel = 100*np.abs(E_effs - Et_exp)/Et_exp\n",
    "plt.bar(x, error_rel, width)\n",
    "error_mean = np.mean(error_rel)\n",
    "plt.axhline(error_mean, color=\"red\", linestyle=\"--\", label=\"Error medio = %.2f\" % error_mean + \" %\")\n",
    "plt.legend()\n",
    "plt.grid()\n",
    "plt.ylim(0,25)\n",
    "plt.ylabel(r\"$\\varepsilon_{rel} \\ [\\%]$\")\n",
    "plt.xticks(x, names, rotation=45)"
   ]
  },
  {
   "cell_type": "code",
   "execution_count": 24,
   "metadata": {},
   "outputs": [],
   "source": [
    "df_results = pd.DataFrame({\n",
    "    \"labels\": names,\n",
    "    \"E_effs\": E_effs,\n",
    "    \"Et_exp\": Et_exp,\n",
    "    \"error_abs\": error_abs,\n",
    "    \"error_rel\": error_rel,\n",
    "})"
   ]
  },
  {
   "cell_type": "code",
   "execution_count": 25,
   "metadata": {},
   "outputs": [
    {
     "data": {
      "application/vnd.microsoft.datawrangler.viewer.v0+json": {
       "columns": [
        {
         "name": "index",
         "rawType": "int64",
         "type": "integer"
        },
        {
         "name": "labels",
         "rawType": "object",
         "type": "string"
        },
        {
         "name": "E_effs",
         "rawType": "float64",
         "type": "float"
        },
        {
         "name": "Et_exp",
         "rawType": "float64",
         "type": "float"
        },
        {
         "name": "error_abs",
         "rawType": "float64",
         "type": "float"
        },
        {
         "name": "error_rel",
         "rawType": "float64",
         "type": "float"
        }
       ],
       "ref": "56c3adf6-eeea-4ffe-be71-2e230f98fef8",
       "rows": [
        [
         "0",
         "TFP1",
         "3.039",
         "2.886",
         "0.154",
         "5.331"
        ],
        [
         "1",
         "TFP2",
         "2.048",
         "2.259",
         "0.21",
         "9.301"
        ],
        [
         "2",
         "TFP3",
         "2.021",
         "2.0",
         "0.02",
         "1.016"
        ],
        [
         "3",
         "TFP4",
         "2.047",
         "2.451",
         "0.405",
         "16.514"
        ],
        [
         "4",
         "TFP5",
         "1.898",
         "1.627",
         "0.271",
         "16.669"
        ],
        [
         "5",
         "TFP6",
         "1.942",
         "1.74",
         "0.202",
         "11.59"
        ]
       ],
       "shape": {
        "columns": 5,
        "rows": 6
       }
      },
      "text/html": [
       "<div>\n",
       "<style scoped>\n",
       "    .dataframe tbody tr th:only-of-type {\n",
       "        vertical-align: middle;\n",
       "    }\n",
       "\n",
       "    .dataframe tbody tr th {\n",
       "        vertical-align: top;\n",
       "    }\n",
       "\n",
       "    .dataframe thead th {\n",
       "        text-align: right;\n",
       "    }\n",
       "</style>\n",
       "<table border=\"1\" class=\"dataframe\">\n",
       "  <thead>\n",
       "    <tr style=\"text-align: right;\">\n",
       "      <th></th>\n",
       "      <th>labels</th>\n",
       "      <th>E_effs</th>\n",
       "      <th>Et_exp</th>\n",
       "      <th>error_abs</th>\n",
       "      <th>error_rel</th>\n",
       "    </tr>\n",
       "  </thead>\n",
       "  <tbody>\n",
       "    <tr>\n",
       "      <th>0</th>\n",
       "      <td>TFP1</td>\n",
       "      <td>3.039</td>\n",
       "      <td>2.886</td>\n",
       "      <td>0.154</td>\n",
       "      <td>5.331</td>\n",
       "    </tr>\n",
       "    <tr>\n",
       "      <th>1</th>\n",
       "      <td>TFP2</td>\n",
       "      <td>2.048</td>\n",
       "      <td>2.259</td>\n",
       "      <td>0.210</td>\n",
       "      <td>9.301</td>\n",
       "    </tr>\n",
       "    <tr>\n",
       "      <th>2</th>\n",
       "      <td>TFP3</td>\n",
       "      <td>2.021</td>\n",
       "      <td>2.000</td>\n",
       "      <td>0.020</td>\n",
       "      <td>1.016</td>\n",
       "    </tr>\n",
       "    <tr>\n",
       "      <th>3</th>\n",
       "      <td>TFP4</td>\n",
       "      <td>2.047</td>\n",
       "      <td>2.451</td>\n",
       "      <td>0.405</td>\n",
       "      <td>16.514</td>\n",
       "    </tr>\n",
       "    <tr>\n",
       "      <th>4</th>\n",
       "      <td>TFP5</td>\n",
       "      <td>1.898</td>\n",
       "      <td>1.627</td>\n",
       "      <td>0.271</td>\n",
       "      <td>16.669</td>\n",
       "    </tr>\n",
       "    <tr>\n",
       "      <th>5</th>\n",
       "      <td>TFP6</td>\n",
       "      <td>1.942</td>\n",
       "      <td>1.740</td>\n",
       "      <td>0.202</td>\n",
       "      <td>11.590</td>\n",
       "    </tr>\n",
       "  </tbody>\n",
       "</table>\n",
       "</div>"
      ],
      "text/plain": [
       "  labels  E_effs  Et_exp  error_abs  error_rel\n",
       "0   TFP1   3.039   2.886      0.154      5.331\n",
       "1   TFP2   2.048   2.259      0.210      9.301\n",
       "2   TFP3   2.021   2.000      0.020      1.016\n",
       "3   TFP4   2.047   2.451      0.405     16.514\n",
       "4   TFP5   1.898   1.627      0.271     16.669\n",
       "5   TFP6   1.942   1.740      0.202     11.590"
      ]
     },
     "execution_count": 25,
     "metadata": {},
     "output_type": "execute_result"
    }
   ],
   "source": [
    "df_results.round(3)"
   ]
  },
  {
   "cell_type": "code",
   "execution_count": 26,
   "metadata": {},
   "outputs": [
    {
     "data": {
      "image/png": "[encoded data removed]",
      "text/plain": [
       "<Figure size 500x500 with 1 Axes>"
      ]
     },
     "metadata": {},
     "output_type": "display_data"
    }
   ],
   "source": [
    "# vs \n",
    "fig, ax = plt.subplots()\n",
    "fig.set_size_inches(5, 5)\n",
    "ax.plot(Et_analitico,E_effs, \"o\")\n",
    "ax.plot([0.95*Et_analitico.min(), 1.05*Et_analitico.max()], \n",
    "        [0.95*Et_analitico.min(), 1.05*Et_analitico.max()], \"k--\")\n",
    "ax.set_xlabel(r\"$E_{tracción} \\ [GPa]$ (Metodología 1)\")\n",
    "ax.set_ylabel(r\"$E_{tracción} \\ [GPa]$ (Metodología 2)\")\n",
    "\n",
    "plt.grid()\n",
    "\n",
    "#text \n",
    "for i, txt in enumerate(names):\n",
    "    ax.annotate(txt, (Et_analitico[i], E_effs[i]), fontsize=8, ha='right', va='bottom')"
   ]
  },
  {
   "cell_type": "code",
   "execution_count": 27,
   "metadata": {},
   "outputs": [],
   "source": [
    "error= np.abs(E_effs - Et_analitico)/E_effs\n",
    "error_rel = np.abs(E_effs - Et_analitico)/Et_analitico\n",
    "\n",
    "df_results = pd.DataFrame({\n",
    "    \"E [GPa] (Metodología 1)\": Et_analitico,\n",
    "    \"E [GPa] (Metodología 2)\": E_effs,\n",
    "    \"error_rel [%]\": error_rel*100,\n",
    "    \"error [%]\": error*100\n",
    "}, index=names)"
   ]
  },
  {
   "cell_type": "code",
   "execution_count": 28,
   "metadata": {},
   "outputs": [
    {
     "data": {
      "application/vnd.microsoft.datawrangler.viewer.v0+json": {
       "columns": [
        {
         "name": "index",
         "rawType": "object",
         "type": "string"
        },
        {
         "name": "E [GPa] (Metodología 1)",
         "rawType": "float64",
         "type": "float"
        },
        {
         "name": "E [GPa] (Metodología 2)",
         "rawType": "float64",
         "type": "float"
        },
        {
         "name": "error_rel [%]",
         "rawType": "float64",
         "type": "float"
        },
        {
         "name": "error [%]",
         "rawType": "float64",
         "type": "float"
        }
       ],
       "ref": "5ba1ab19-1931-4627-85d9-1f0d50ba4cf4",
       "rows": [
        [
         "TFP1",
         "3.04",
         "3.039",
         "0.022",
         "0.022"
        ],
        [
         "TFP2",
         "2.03",
         "2.048",
         "0.908",
         "0.9"
        ],
        [
         "TFP3",
         "2.0",
         "2.021",
         "1.038",
         "1.028"
        ],
        [
         "TFP4",
         "2.03",
         "2.047",
         "0.815",
         "0.809"
        ],
        [
         "TFP5",
         "1.87",
         "1.898",
         "1.482",
         "1.46"
        ],
        [
         "TFP6",
         "1.9",
         "1.942",
         "2.186",
         "2.139"
        ]
       ],
       "shape": {
        "columns": 4,
        "rows": 6
       }
      },
      "text/html": [
       "<div>\n",
       "<style scoped>\n",
       "    .dataframe tbody tr th:only-of-type {\n",
       "        vertical-align: middle;\n",
       "    }\n",
       "\n",
       "    .dataframe tbody tr th {\n",
       "        vertical-align: top;\n",
       "    }\n",
       "\n",
       "    .dataframe thead th {\n",
       "        text-align: right;\n",
       "    }\n",
       "</style>\n",
       "<table border=\"1\" class=\"dataframe\">\n",
       "  <thead>\n",
       "    <tr style=\"text-align: right;\">\n",
       "      <th></th>\n",
       "      <th>E [GPa] (Metodología 1)</th>\n",
       "      <th>E [GPa] (Metodología 2)</th>\n",
       "      <th>error_rel [%]</th>\n",
       "      <th>error [%]</th>\n",
       "    </tr>\n",
       "  </thead>\n",
       "  <tbody>\n",
       "    <tr>\n",
       "      <th>TFP1</th>\n",
       "      <td>3.04</td>\n",
       "      <td>3.039</td>\n",
       "      <td>0.022</td>\n",
       "      <td>0.022</td>\n",
       "    </tr>\n",
       "    <tr>\n",
       "      <th>TFP2</th>\n",
       "      <td>2.03</td>\n",
       "      <td>2.048</td>\n",
       "      <td>0.908</td>\n",
       "      <td>0.900</td>\n",
       "    </tr>\n",
       "    <tr>\n",
       "      <th>TFP3</th>\n",
       "      <td>2.00</td>\n",
       "      <td>2.021</td>\n",
       "      <td>1.038</td>\n",
       "      <td>1.028</td>\n",
       "    </tr>\n",
       "    <tr>\n",
       "      <th>TFP4</th>\n",
       "      <td>2.03</td>\n",
       "      <td>2.047</td>\n",
       "      <td>0.815</td>\n",
       "      <td>0.809</td>\n",
       "    </tr>\n",
       "    <tr>\n",
       "      <th>TFP5</th>\n",
       "      <td>1.87</td>\n",
       "      <td>1.898</td>\n",
       "      <td>1.482</td>\n",
       "      <td>1.460</td>\n",
       "    </tr>\n",
       "    <tr>\n",
       "      <th>TFP6</th>\n",
       "      <td>1.90</td>\n",
       "      <td>1.942</td>\n",
       "      <td>2.186</td>\n",
       "      <td>2.139</td>\n",
       "    </tr>\n",
       "  </tbody>\n",
       "</table>\n",
       "</div>"
      ],
      "text/plain": [
       "      E [GPa] (Metodología 1)  E [GPa] (Metodología 2)  error_rel [%]  \\\n",
       "TFP1                     3.04                    3.039          0.022   \n",
       "TFP2                     2.03                    2.048          0.908   \n",
       "TFP3                     2.00                    2.021          1.038   \n",
       "TFP4                     2.03                    2.047          0.815   \n",
       "TFP5                     1.87                    1.898          1.482   \n",
       "TFP6                     1.90                    1.942          2.186   \n",
       "\n",
       "      error [%]  \n",
       "TFP1      0.022  \n",
       "TFP2      0.900  \n",
       "TFP3      1.028  \n",
       "TFP4      0.809  \n",
       "TFP5      1.460  \n",
       "TFP6      2.139  "
      ]
     },
     "execution_count": 28,
     "metadata": {},
     "output_type": "execute_result"
    }
   ],
   "source": [
    "df_results.round(3)"
   ]
  },
  {
   "cell_type": "code",
   "execution_count": null,
   "metadata": {},
   "outputs": [],
   "source": []
  },
  {
   "cell_type": "code",
   "execution_count": null,
   "metadata": {},
   "outputs": [],
   "source": []
  },
  {
   "cell_type": "code",
   "execution_count": null,
   "metadata": {},
   "outputs": [],
   "source": []
  }
 ],
 "metadata": {
  "kernelspec": {
   "display_name": "Python 3",
   "language": "python",
   "name": "python3"
  },
  "language_info": {
   "codemirror_mode": {
    "name": "ipython",
    "version": 3
   },
   "file_extension": ".py",
   "mimetype": "text/x-python",
   "name": "python",
   "nbconvert_exporter": "python",
   "pygments_lexer": "ipython3",
   "version": "3.13.0"
  }
 },
 "nbformat": 4,
 "nbformat_minor": 2
}
