{
 "cells": [
  {
   "cell_type": "code",
   "execution_count": 1,
   "metadata": {},
   "outputs": [
    {
     "name": "stdout",
     "output_type": "stream",
     "text": [
      "Wine está instalado. Versión: wine-9.0\n",
      "Wine is installed. Calculix will be run with windows binary\n"
     ]
    },
    {
     "name": "stderr",
     "output_type": "stream",
     "text": [
      "Authorization required, but no authorization protocol specified\n",
      "Authorization required, but no authorization protocol specified\n",
      "Authorization required, but no authorization protocol specified\n"
     ]
    }
   ],
   "source": [
    "\n",
    "import os \n",
    "from copy import deepcopy\n",
    "from FEM_traccion.RunFullModel import RunFullModel\n",
    "import numpy as np\n",
    "join = os.path.join\n",
    "\n"
   ]
  },
  {
   "cell_type": "code",
   "execution_count": 2,
   "metadata": {},
   "outputs": [],
   "source": [
    "t_l = 0.475 #  Espesor de la capa [mm]\n",
    "t_n = 2.934\n",
    "A_s = 0.283 # mm^2\n",
    "\n",
    "# X,SX,Y,SX\n",
    "A_s = np.array([0.29872437, 0.30970758, 0.36436295, 0.37770379])\n",
    "r = 3*t_l/8 \n",
    "d = (A_s - np.pi*r**2)/(2*r) # Area de la capa [mm^2]\n",
    "\n",
    "d = {'X': d[0], 'SX': d[1], 'Y': d[2], 'SY': d[3]}"
   ]
  },
  {
   "cell_type": "code",
   "execution_count": 3,
   "metadata": {},
   "outputs": [],
   "source": [
    "\n",
    "params_composite ={\n",
    "    \"r\"         :  r,\n",
    "    \"d\"         :  d,\n",
    "    \"h\"         :  t_l,\n",
    "    \"z0\"        :  t_n/2,\n",
    "    \"density\"   : 5,\n",
    "}\n",
    "\n",
    "E_Resina =  0.5996*1e3 \n",
    "E_Carbon =  13.1473*1e3\n",
    "params_ccx = {\n",
    "    \"epsilon\" : 0.1,\n",
    "    \"x_fixed\" : False,\n",
    "    \"E_nucleo\": 0.8800*1e3,\n",
    "    \"E_resina\": E_Resina,\n",
    "    \"E_fibra\" : E_Carbon\n",
    "}\n",
    "params = {\n",
    "    \"mesh\" : params_composite,\n",
    "    \"ccx\"  : params_ccx,\n",
    "}"
   ]
  },
  {
   "cell_type": "code",
   "execution_count": 4,
   "metadata": {},
   "outputs": [
    {
     "data": {
      "text/plain": [
       "0.35000000000000003"
      ]
     },
     "execution_count": 4,
     "metadata": {},
     "output_type": "execute_result"
    }
   ],
   "source": [
    "1.05/3"
   ]
  },
  {
   "cell_type": "markdown",
   "metadata": {},
   "source": []
  },
  {
   "cell_type": "code",
   "execution_count": 5,
   "metadata": {},
   "outputs": [
    {
     "name": "stdout",
     "output_type": "stream",
     "text": [
      "== Generating mesh for design: C ==\n",
      "\t==================================================\n",
      "\tDesign C\n",
      "\t==================================================\n",
      "Layer number 1/2 done\n",
      "Layer number 2/2 done\n",
      "Info    : Clearing all models and views...\n",
      "Info    : Done clearing all models and views\n",
      "Meshing ... \n",
      "\t==================================================\n",
      "\tCCX C\n",
      "\t==================================================\n",
      "Input folder: \t output/designs/C\n",
      "Output folder: \t output/ccx/C\n",
      "Running Calculix at:  output/ccx/C\n",
      "Output file:  /home/djoroya/projects/CITISENS/CITISENS_Composite/scripts_finals/02_metodo/01_traccion/output/ccx/C/out.txt\n",
      "Command:\n",
      " wine /home/djoroya/projects/CITISENS/CITISENS_Composite/src/djccx/bin/ccx_dynamic.exe main > out.txt\n",
      "Error reading cvf file\n",
      "\n",
      "pid:  957088 \n",
      "\n",
      "Calculix finished\n",
      "\n"
     ]
    }
   ],
   "source": [
    "\n",
    "layers = [\"Adouble\",\"B\",\"C\",\"D\",\"E\",\"F\"]\n",
    "# layers = [\"F\"]\n",
    "layers = [\"C\"]\n",
    "\n",
    "# layers =[ \"E\"]\n",
    "# layers = [\"F\"]\n",
    "# layers = [\"E\"]\n",
    "\n",
    "for design in layers:\n",
    "    # Generate mesh and RVEl\n",
    "    print(\"== Generating mesh for design:\", design, \"==\")\n",
    "    params_copy = deepcopy(params)\n",
    "    RunFullModel(design,\"output\",params_copy)\n",
    "    \n",
    "    "
   ]
  },
  {
   "cell_type": "code",
   "execution_count": null,
   "metadata": {},
   "outputs": [],
   "source": []
  },
  {
   "cell_type": "code",
   "execution_count": null,
   "metadata": {},
   "outputs": [],
   "source": []
  }
 ],
 "metadata": {
  "kernelspec": {
   "display_name": "Python 3",
   "language": "python",
   "name": "python3"
  },
  "language_info": {
   "codemirror_mode": {
    "name": "ipython",
    "version": 3
   },
   "file_extension": ".py",
   "mimetype": "text/x-python",
   "name": "python",
   "nbconvert_exporter": "python",
   "pygments_lexer": "ipython3",
   "version": "3.11.13"
  }
 },
 "nbformat": 4,
 "nbformat_minor": 2
}
