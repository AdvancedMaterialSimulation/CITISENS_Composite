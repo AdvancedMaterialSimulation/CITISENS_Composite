{
 "cells": [
  {
   "cell_type": "code",
   "execution_count": 1,
   "metadata": {},
   "outputs": [],
   "source": [
    "from validation.FullExperimental import FullExperimental\n",
    "import numpy as np\n",
    "import pandas as pd\n",
    "from matplotlib import pyplot as plt"
   ]
  },
  {
   "cell_type": "code",
   "execution_count": 2,
   "metadata": {},
   "outputs": [
    {
     "data": {
      "application/vnd.microsoft.datawrangler.viewer.v0+json": {
       "columns": [
        {
         "name": "Name",
         "rawType": "object",
         "type": "string"
        },
        {
         "name": "('Et [GPa]', 'mean')",
         "rawType": "float64",
         "type": "float"
        },
        {
         "name": "('Et [GPa]', 'std')",
         "rawType": "float64",
         "type": "float"
        },
        {
         "name": "('% e', 'mean')",
         "rawType": "float64",
         "type": "float"
        },
        {
         "name": "('% e', 'std')",
         "rawType": "float64",
         "type": "float"
        },
        {
         "name": "('St [MPa]', 'mean')",
         "rawType": "float64",
         "type": "float"
        },
        {
         "name": "('St [MPa]', 'std')",
         "rawType": "float64",
         "type": "float"
        },
        {
         "name": "('Eb [GPa]', 'mean')",
         "rawType": "float64",
         "type": "float"
        },
        {
         "name": "('Eb [GPa]', 'std')",
         "rawType": "float64",
         "type": "float"
        },
        {
         "name": "('t [mm]', 'mean')",
         "rawType": "float64",
         "type": "float"
        },
        {
         "name": "('t [mm]', 'std')",
         "rawType": "float64",
         "type": "float"
        },
        {
         "name": "('b [mm]', 'mean')",
         "rawType": "float64",
         "type": "float"
        },
        {
         "name": "('b [mm]', 'std')",
         "rawType": "float64",
         "type": "float"
        },
        {
         "name": "('Sb [MPa]', 'mean')",
         "rawType": "float64",
         "type": "float"
        },
        {
         "name": "('Sb [MPa]', 'std')",
         "rawType": "float64",
         "type": "float"
        },
        {
         "name": "('layers', '')",
         "rawType": "object",
         "type": "unknown"
        },
        {
         "name": "('Vc', '')",
         "rawType": "float64",
         "type": "float"
        }
       ],
       "ref": "a58eef54-8b31-4e4c-a96c-423209319932",
       "rows": [
        [
         "TFP1",
         "2.886",
         "0.227",
         "0.123",
         "0.01",
         "279.103",
         "14.338",
         "13.201",
         "0.631",
         "5.267",
         "0.058",
         "25.6",
         "0.1",
         "134.997",
         "18.943",
         "['Y', 'Y']",
         "0.178"
        ],
        [
         "TFP2",
         "2.259",
         "0.066",
         "0.088",
         "0.003",
         "153.36",
         "0.473",
         "9.87",
         "0.78",
         "4.7",
         "0.0",
         "25.567",
         "0.058",
         "117.43",
         "15.76",
         "['Y', 'X']",
         "0.164"
        ],
        [
         "TFP3",
         "2.0",
         "0.004",
         "0.087",
         "0.002",
         "137.113",
         "4.997",
         "9.222",
         "0.496",
         "4.833",
         "0.058",
         "25.4",
         "0.173",
         "128.053",
         "5.338",
         "['Y', 'SX']",
         "0.135"
        ],
        [
         "TFP4",
         "2.451",
         "0.114",
         "0.095",
         "0.005",
         "184.397",
         "1.357",
         "10.182",
         "0.771",
         "4.7",
         "0.0",
         "25.667",
         "0.153",
         "141.703",
         "7.525",
         "['Y', 'SY']",
         "0.144"
        ],
        [
         "TFP5",
         "1.627",
         "0.12",
         "0.09",
         "0.014",
         "99.99",
         "9.79",
         "6.143",
         "0.162",
         "5.7",
         "0.0",
         "25.167",
         "0.153",
         "107.433",
         "3.903",
         "['Y', 'SX', 'SY']",
         "0.146"
        ],
        [
         "TFP6",
         "1.74",
         "0.068",
         "0.089",
         "0.01",
         "104.513",
         "7.709",
         "7.798",
         "0.334",
         "5.6",
         "0.0",
         "25.033",
         "0.635",
         "114.307",
         "11.801",
         "['Y', 'X', 'SY']",
         "0.18"
        ]
       ],
       "shape": {
        "columns": 16,
        "rows": 6
       }
      },
      "text/html": [
       "<div>\n",
       "<style scoped>\n",
       "    .dataframe tbody tr th:only-of-type {\n",
       "        vertical-align: middle;\n",
       "    }\n",
       "\n",
       "    .dataframe tbody tr th {\n",
       "        vertical-align: top;\n",
       "    }\n",
       "\n",
       "    .dataframe thead tr th {\n",
       "        text-align: left;\n",
       "    }\n",
       "\n",
       "    .dataframe thead tr:last-of-type th {\n",
       "        text-align: right;\n",
       "    }\n",
       "</style>\n",
       "<table border=\"1\" class=\"dataframe\">\n",
       "  <thead>\n",
       "    <tr>\n",
       "      <th></th>\n",
       "      <th colspan=\"2\" halign=\"left\">Et [GPa]</th>\n",
       "      <th colspan=\"2\" halign=\"left\">% e</th>\n",
       "      <th colspan=\"2\" halign=\"left\">St [MPa]</th>\n",
       "      <th colspan=\"2\" halign=\"left\">Eb [GPa]</th>\n",
       "      <th colspan=\"2\" halign=\"left\">t [mm]</th>\n",
       "      <th colspan=\"2\" halign=\"left\">b [mm]</th>\n",
       "      <th colspan=\"2\" halign=\"left\">Sb [MPa]</th>\n",
       "      <th>layers</th>\n",
       "      <th>Vc</th>\n",
       "    </tr>\n",
       "    <tr>\n",
       "      <th></th>\n",
       "      <th>mean</th>\n",
       "      <th>std</th>\n",
       "      <th>mean</th>\n",
       "      <th>std</th>\n",
       "      <th>mean</th>\n",
       "      <th>std</th>\n",
       "      <th>mean</th>\n",
       "      <th>std</th>\n",
       "      <th>mean</th>\n",
       "      <th>std</th>\n",
       "      <th>mean</th>\n",
       "      <th>std</th>\n",
       "      <th>mean</th>\n",
       "      <th>std</th>\n",
       "      <th></th>\n",
       "      <th></th>\n",
       "    </tr>\n",
       "    <tr>\n",
       "      <th>Name</th>\n",
       "      <th></th>\n",
       "      <th></th>\n",
       "      <th></th>\n",
       "      <th></th>\n",
       "      <th></th>\n",
       "      <th></th>\n",
       "      <th></th>\n",
       "      <th></th>\n",
       "      <th></th>\n",
       "      <th></th>\n",
       "      <th></th>\n",
       "      <th></th>\n",
       "      <th></th>\n",
       "      <th></th>\n",
       "      <th></th>\n",
       "      <th></th>\n",
       "    </tr>\n",
       "  </thead>\n",
       "  <tbody>\n",
       "    <tr>\n",
       "      <th>TFP1</th>\n",
       "      <td>2.886</td>\n",
       "      <td>0.227</td>\n",
       "      <td>0.123</td>\n",
       "      <td>0.010</td>\n",
       "      <td>279.103</td>\n",
       "      <td>14.338</td>\n",
       "      <td>13.201</td>\n",
       "      <td>0.631</td>\n",
       "      <td>5.267</td>\n",
       "      <td>0.058</td>\n",
       "      <td>25.600</td>\n",
       "      <td>0.100</td>\n",
       "      <td>134.997</td>\n",
       "      <td>18.943</td>\n",
       "      <td>[Y, Y]</td>\n",
       "      <td>0.178</td>\n",
       "    </tr>\n",
       "    <tr>\n",
       "      <th>TFP2</th>\n",
       "      <td>2.259</td>\n",
       "      <td>0.066</td>\n",
       "      <td>0.088</td>\n",
       "      <td>0.003</td>\n",
       "      <td>153.360</td>\n",
       "      <td>0.473</td>\n",
       "      <td>9.870</td>\n",
       "      <td>0.780</td>\n",
       "      <td>4.700</td>\n",
       "      <td>0.000</td>\n",
       "      <td>25.567</td>\n",
       "      <td>0.058</td>\n",
       "      <td>117.430</td>\n",
       "      <td>15.760</td>\n",
       "      <td>[Y, X]</td>\n",
       "      <td>0.164</td>\n",
       "    </tr>\n",
       "    <tr>\n",
       "      <th>TFP3</th>\n",
       "      <td>2.000</td>\n",
       "      <td>0.004</td>\n",
       "      <td>0.087</td>\n",
       "      <td>0.002</td>\n",
       "      <td>137.113</td>\n",
       "      <td>4.997</td>\n",
       "      <td>9.222</td>\n",
       "      <td>0.496</td>\n",
       "      <td>4.833</td>\n",
       "      <td>0.058</td>\n",
       "      <td>25.400</td>\n",
       "      <td>0.173</td>\n",
       "      <td>128.053</td>\n",
       "      <td>5.338</td>\n",
       "      <td>[Y, SX]</td>\n",
       "      <td>0.135</td>\n",
       "    </tr>\n",
       "    <tr>\n",
       "      <th>TFP4</th>\n",
       "      <td>2.451</td>\n",
       "      <td>0.114</td>\n",
       "      <td>0.095</td>\n",
       "      <td>0.005</td>\n",
       "      <td>184.397</td>\n",
       "      <td>1.357</td>\n",
       "      <td>10.182</td>\n",
       "      <td>0.771</td>\n",
       "      <td>4.700</td>\n",
       "      <td>0.000</td>\n",
       "      <td>25.667</td>\n",
       "      <td>0.153</td>\n",
       "      <td>141.703</td>\n",
       "      <td>7.525</td>\n",
       "      <td>[Y, SY]</td>\n",
       "      <td>0.144</td>\n",
       "    </tr>\n",
       "    <tr>\n",
       "      <th>TFP5</th>\n",
       "      <td>1.627</td>\n",
       "      <td>0.120</td>\n",
       "      <td>0.090</td>\n",
       "      <td>0.014</td>\n",
       "      <td>99.990</td>\n",
       "      <td>9.790</td>\n",
       "      <td>6.143</td>\n",
       "      <td>0.162</td>\n",
       "      <td>5.700</td>\n",
       "      <td>0.000</td>\n",
       "      <td>25.167</td>\n",
       "      <td>0.153</td>\n",
       "      <td>107.433</td>\n",
       "      <td>3.903</td>\n",
       "      <td>[Y, SX, SY]</td>\n",
       "      <td>0.146</td>\n",
       "    </tr>\n",
       "    <tr>\n",
       "      <th>TFP6</th>\n",
       "      <td>1.740</td>\n",
       "      <td>0.068</td>\n",
       "      <td>0.089</td>\n",
       "      <td>0.010</td>\n",
       "      <td>104.513</td>\n",
       "      <td>7.709</td>\n",
       "      <td>7.798</td>\n",
       "      <td>0.334</td>\n",
       "      <td>5.600</td>\n",
       "      <td>0.000</td>\n",
       "      <td>25.033</td>\n",
       "      <td>0.635</td>\n",
       "      <td>114.307</td>\n",
       "      <td>11.801</td>\n",
       "      <td>[Y, X, SY]</td>\n",
       "      <td>0.180</td>\n",
       "    </tr>\n",
       "  </tbody>\n",
       "</table>\n",
       "</div>"
      ],
      "text/plain": [
       "     Et [GPa]           % e        St [MPa]         Eb [GPa]        t [mm]  \\\n",
       "         mean    std   mean    std     mean     std     mean    std   mean   \n",
       "Name                                                                         \n",
       "TFP1    2.886  0.227  0.123  0.010  279.103  14.338   13.201  0.631  5.267   \n",
       "TFP2    2.259  0.066  0.088  0.003  153.360   0.473    9.870  0.780  4.700   \n",
       "TFP3    2.000  0.004  0.087  0.002  137.113   4.997    9.222  0.496  4.833   \n",
       "TFP4    2.451  0.114  0.095  0.005  184.397   1.357   10.182  0.771  4.700   \n",
       "TFP5    1.627  0.120  0.090  0.014   99.990   9.790    6.143  0.162  5.700   \n",
       "TFP6    1.740  0.068  0.089  0.010  104.513   7.709    7.798  0.334  5.600   \n",
       "\n",
       "             b [mm]        Sb [MPa]               layers     Vc  \n",
       "        std    mean    std     mean     std                      \n",
       "Name                                                             \n",
       "TFP1  0.058  25.600  0.100  134.997  18.943       [Y, Y]  0.178  \n",
       "TFP2  0.000  25.567  0.058  117.430  15.760       [Y, X]  0.164  \n",
       "TFP3  0.058  25.400  0.173  128.053   5.338      [Y, SX]  0.135  \n",
       "TFP4  0.000  25.667  0.153  141.703   7.525      [Y, SY]  0.144  \n",
       "TFP5  0.000  25.167  0.153  107.433   3.903  [Y, SX, SY]  0.146  \n",
       "TFP6  0.000  25.033  0.635  114.307  11.801   [Y, X, SY]  0.180  "
      ]
     },
     "execution_count": 2,
     "metadata": {},
     "output_type": "execute_result"
    }
   ],
   "source": [
    "df = FullExperimental()\n",
    "df.rename(columns={\"v [X,SX,Y,SY]\": \"delta\"}, inplace=True)\n",
    "\n",
    "# database\n",
    "layers = df[\"layers\"].values\n",
    "layers[0] = [\"Y\",\"Y\"]\n",
    "df[\"layers\"] = layers\n",
    "\n",
    "# df = df.iloc[1:]\n",
    "\n",
    "df.round(3)"
   ]
  },
  {
   "cell_type": "code",
   "execution_count": 3,
   "metadata": {},
   "outputs": [
    {
     "data": {
      "application/vnd.microsoft.datawrangler.viewer.v0+json": {
       "columns": [
        {
         "name": "Name",
         "rawType": "object",
         "type": "string"
        },
        {
         "name": "('Et [GPa]', 'mean')",
         "rawType": "float64",
         "type": "float"
        },
        {
         "name": "('Et [GPa]', 'std')",
         "rawType": "float64",
         "type": "float"
        },
        {
         "name": "('% e', 'mean')",
         "rawType": "float64",
         "type": "float"
        },
        {
         "name": "('% e', 'std')",
         "rawType": "float64",
         "type": "float"
        },
        {
         "name": "('St [MPa]', 'mean')",
         "rawType": "float64",
         "type": "float"
        },
        {
         "name": "('St [MPa]', 'std')",
         "rawType": "float64",
         "type": "float"
        },
        {
         "name": "('Eb [GPa]', 'mean')",
         "rawType": "float64",
         "type": "float"
        },
        {
         "name": "('Eb [GPa]', 'std')",
         "rawType": "float64",
         "type": "float"
        },
        {
         "name": "('t [mm]', 'mean')",
         "rawType": "float64",
         "type": "float"
        },
        {
         "name": "('t [mm]', 'std')",
         "rawType": "float64",
         "type": "float"
        },
        {
         "name": "('b [mm]', 'mean')",
         "rawType": "float64",
         "type": "float"
        },
        {
         "name": "('b [mm]', 'std')",
         "rawType": "float64",
         "type": "float"
        },
        {
         "name": "('Sb [MPa]', 'mean')",
         "rawType": "float64",
         "type": "float"
        },
        {
         "name": "('Sb [MPa]', 'std')",
         "rawType": "float64",
         "type": "float"
        },
        {
         "name": "('layers', '')",
         "rawType": "object",
         "type": "unknown"
        },
        {
         "name": "('Vc', '')",
         "rawType": "float64",
         "type": "float"
        }
       ],
       "ref": "6b9d8661-b912-4786-b56a-d463650e1b27",
       "rows": [
        [
         "TFP1",
         "2.885509223333333",
         "0.2272951576465367",
         "0.12330555533333333",
         "0.009826739708382246",
         "279.1033333333333",
         "14.33769972252638",
         "13.201050433333334",
         "0.6308580803456912",
         "5.266666666666667",
         "0.05773502691896237",
         "25.599999999999998",
         "0.0999999999999992",
         "134.99666666666667",
         "18.94269340229455",
         "['Y', 'Y']",
         "0.178"
        ],
        [
         "TFP2",
         "2.258502544",
         "0.06562636519719042",
         "0.08755555533333333",
         "0.002839861932611568",
         "153.36",
         "0.4731807265728384",
         "9.869500666333332",
         "0.7801134840462621",
         "4.7",
         "0.0",
         "25.566666666666666",
         "0.05773502691896366",
         "117.42999999999999",
         "15.759606594074613",
         "['Y', 'X']",
         "0.164"
        ],
        [
         "TFP3",
         "2.0004365616666666",
         "0.004434942878471981",
         "0.08744444433333333",
         "0.0021639941509129235",
         "137.11333333333334",
         "4.996812317201176",
         "9.222003430000001",
         "0.4959654651807207",
         "4.833333333333333",
         "0.05773502691896295",
         "25.400000000000002",
         "0.1732050807568866",
         "128.0533333333333",
         "5.337905331994307",
         "['Y', 'SX']",
         "0.135"
        ],
        [
         "TFP4",
         "2.4513617530000005",
         "0.11435337021707032",
         "0.09547222233333334",
         "0.005491365648468998",
         "184.39666666666668",
         "1.3565151430534554",
         "10.181815286333332",
         "0.770635403114932",
         "4.7",
         "0.0",
         "25.666666666666668",
         "0.15275252316519433",
         "141.70333333333335",
         "7.525385925873396",
         "['Y', 'SY']",
         "0.144"
        ],
        [
         "TFP5",
         "1.6265822796666667",
         "0.12027157292656442",
         "0.08988888899999999",
         "0.013756900245035291",
         "99.99000000000001",
         "9.790137894840916",
         "6.14310539",
         "0.16163658335627418",
         "5.7",
         "0.0",
         "25.166666666666668",
         "0.1527525231651954",
         "107.43333333333334",
         "3.9029390634921977",
         "['Y', 'SX', 'SY']",
         "0.146"
        ],
        [
         "TFP6",
         "1.7398699316666668",
         "0.06751450755209366",
         "0.08908333333333333",
         "0.010304058325350375",
         "104.51333333333334",
         "7.708893132826098",
         "7.798059885666667",
         "0.3341860753601006",
         "5.599999999999999",
         "0.0",
         "25.03333333333333",
         "0.6350852961085856",
         "114.30666666666667",
         "11.800789521609696",
         "['Y', 'X', 'SY']",
         "0.18"
        ]
       ],
       "shape": {
        "columns": 16,
        "rows": 6
       }
      },
      "text/html": [
       "<div>\n",
       "<style scoped>\n",
       "    .dataframe tbody tr th:only-of-type {\n",
       "        vertical-align: middle;\n",
       "    }\n",
       "\n",
       "    .dataframe tbody tr th {\n",
       "        vertical-align: top;\n",
       "    }\n",
       "\n",
       "    .dataframe thead tr th {\n",
       "        text-align: left;\n",
       "    }\n",
       "\n",
       "    .dataframe thead tr:last-of-type th {\n",
       "        text-align: right;\n",
       "    }\n",
       "</style>\n",
       "<table border=\"1\" class=\"dataframe\">\n",
       "  <thead>\n",
       "    <tr>\n",
       "      <th></th>\n",
       "      <th colspan=\"2\" halign=\"left\">Et [GPa]</th>\n",
       "      <th colspan=\"2\" halign=\"left\">% e</th>\n",
       "      <th colspan=\"2\" halign=\"left\">St [MPa]</th>\n",
       "      <th colspan=\"2\" halign=\"left\">Eb [GPa]</th>\n",
       "      <th colspan=\"2\" halign=\"left\">t [mm]</th>\n",
       "      <th colspan=\"2\" halign=\"left\">b [mm]</th>\n",
       "      <th colspan=\"2\" halign=\"left\">Sb [MPa]</th>\n",
       "      <th>layers</th>\n",
       "      <th>Vc</th>\n",
       "    </tr>\n",
       "    <tr>\n",
       "      <th></th>\n",
       "      <th>mean</th>\n",
       "      <th>std</th>\n",
       "      <th>mean</th>\n",
       "      <th>std</th>\n",
       "      <th>mean</th>\n",
       "      <th>std</th>\n",
       "      <th>mean</th>\n",
       "      <th>std</th>\n",
       "      <th>mean</th>\n",
       "      <th>std</th>\n",
       "      <th>mean</th>\n",
       "      <th>std</th>\n",
       "      <th>mean</th>\n",
       "      <th>std</th>\n",
       "      <th></th>\n",
       "      <th></th>\n",
       "    </tr>\n",
       "    <tr>\n",
       "      <th>Name</th>\n",
       "      <th></th>\n",
       "      <th></th>\n",
       "      <th></th>\n",
       "      <th></th>\n",
       "      <th></th>\n",
       "      <th></th>\n",
       "      <th></th>\n",
       "      <th></th>\n",
       "      <th></th>\n",
       "      <th></th>\n",
       "      <th></th>\n",
       "      <th></th>\n",
       "      <th></th>\n",
       "      <th></th>\n",
       "      <th></th>\n",
       "      <th></th>\n",
       "    </tr>\n",
       "  </thead>\n",
       "  <tbody>\n",
       "    <tr>\n",
       "      <th>TFP1</th>\n",
       "      <td>2.885509</td>\n",
       "      <td>0.227295</td>\n",
       "      <td>0.123306</td>\n",
       "      <td>0.009827</td>\n",
       "      <td>279.103333</td>\n",
       "      <td>14.337700</td>\n",
       "      <td>13.201050</td>\n",
       "      <td>0.630858</td>\n",
       "      <td>5.266667</td>\n",
       "      <td>0.057735</td>\n",
       "      <td>25.600000</td>\n",
       "      <td>0.100000</td>\n",
       "      <td>134.996667</td>\n",
       "      <td>18.942693</td>\n",
       "      <td>[Y, Y]</td>\n",
       "      <td>0.178</td>\n",
       "    </tr>\n",
       "    <tr>\n",
       "      <th>TFP2</th>\n",
       "      <td>2.258503</td>\n",
       "      <td>0.065626</td>\n",
       "      <td>0.087556</td>\n",
       "      <td>0.002840</td>\n",
       "      <td>153.360000</td>\n",
       "      <td>0.473181</td>\n",
       "      <td>9.869501</td>\n",
       "      <td>0.780113</td>\n",
       "      <td>4.700000</td>\n",
       "      <td>0.000000</td>\n",
       "      <td>25.566667</td>\n",
       "      <td>0.057735</td>\n",
       "      <td>117.430000</td>\n",
       "      <td>15.759607</td>\n",
       "      <td>[Y, X]</td>\n",
       "      <td>0.164</td>\n",
       "    </tr>\n",
       "    <tr>\n",
       "      <th>TFP3</th>\n",
       "      <td>2.000437</td>\n",
       "      <td>0.004435</td>\n",
       "      <td>0.087444</td>\n",
       "      <td>0.002164</td>\n",
       "      <td>137.113333</td>\n",
       "      <td>4.996812</td>\n",
       "      <td>9.222003</td>\n",
       "      <td>0.495965</td>\n",
       "      <td>4.833333</td>\n",
       "      <td>0.057735</td>\n",
       "      <td>25.400000</td>\n",
       "      <td>0.173205</td>\n",
       "      <td>128.053333</td>\n",
       "      <td>5.337905</td>\n",
       "      <td>[Y, SX]</td>\n",
       "      <td>0.135</td>\n",
       "    </tr>\n",
       "    <tr>\n",
       "      <th>TFP4</th>\n",
       "      <td>2.451362</td>\n",
       "      <td>0.114353</td>\n",
       "      <td>0.095472</td>\n",
       "      <td>0.005491</td>\n",
       "      <td>184.396667</td>\n",
       "      <td>1.356515</td>\n",
       "      <td>10.181815</td>\n",
       "      <td>0.770635</td>\n",
       "      <td>4.700000</td>\n",
       "      <td>0.000000</td>\n",
       "      <td>25.666667</td>\n",
       "      <td>0.152753</td>\n",
       "      <td>141.703333</td>\n",
       "      <td>7.525386</td>\n",
       "      <td>[Y, SY]</td>\n",
       "      <td>0.144</td>\n",
       "    </tr>\n",
       "    <tr>\n",
       "      <th>TFP5</th>\n",
       "      <td>1.626582</td>\n",
       "      <td>0.120272</td>\n",
       "      <td>0.089889</td>\n",
       "      <td>0.013757</td>\n",
       "      <td>99.990000</td>\n",
       "      <td>9.790138</td>\n",
       "      <td>6.143105</td>\n",
       "      <td>0.161637</td>\n",
       "      <td>5.700000</td>\n",
       "      <td>0.000000</td>\n",
       "      <td>25.166667</td>\n",
       "      <td>0.152753</td>\n",
       "      <td>107.433333</td>\n",
       "      <td>3.902939</td>\n",
       "      <td>[Y, SX, SY]</td>\n",
       "      <td>0.146</td>\n",
       "    </tr>\n",
       "    <tr>\n",
       "      <th>TFP6</th>\n",
       "      <td>1.739870</td>\n",
       "      <td>0.067515</td>\n",
       "      <td>0.089083</td>\n",
       "      <td>0.010304</td>\n",
       "      <td>104.513333</td>\n",
       "      <td>7.708893</td>\n",
       "      <td>7.798060</td>\n",
       "      <td>0.334186</td>\n",
       "      <td>5.600000</td>\n",
       "      <td>0.000000</td>\n",
       "      <td>25.033333</td>\n",
       "      <td>0.635085</td>\n",
       "      <td>114.306667</td>\n",
       "      <td>11.800790</td>\n",
       "      <td>[Y, X, SY]</td>\n",
       "      <td>0.180</td>\n",
       "    </tr>\n",
       "  </tbody>\n",
       "</table>\n",
       "</div>"
      ],
      "text/plain": [
       "      Et [GPa]                 % e              St [MPa]             \\\n",
       "          mean       std      mean       std        mean        std   \n",
       "Name                                                                  \n",
       "TFP1  2.885509  0.227295  0.123306  0.009827  279.103333  14.337700   \n",
       "TFP2  2.258503  0.065626  0.087556  0.002840  153.360000   0.473181   \n",
       "TFP3  2.000437  0.004435  0.087444  0.002164  137.113333   4.996812   \n",
       "TFP4  2.451362  0.114353  0.095472  0.005491  184.396667   1.356515   \n",
       "TFP5  1.626582  0.120272  0.089889  0.013757   99.990000   9.790138   \n",
       "TFP6  1.739870  0.067515  0.089083  0.010304  104.513333   7.708893   \n",
       "\n",
       "       Eb [GPa]              t [mm]               b [mm]            \\\n",
       "           mean       std      mean       std       mean       std   \n",
       "Name                                                                 \n",
       "TFP1  13.201050  0.630858  5.266667  0.057735  25.600000  0.100000   \n",
       "TFP2   9.869501  0.780113  4.700000  0.000000  25.566667  0.057735   \n",
       "TFP3   9.222003  0.495965  4.833333  0.057735  25.400000  0.173205   \n",
       "TFP4  10.181815  0.770635  4.700000  0.000000  25.666667  0.152753   \n",
       "TFP5   6.143105  0.161637  5.700000  0.000000  25.166667  0.152753   \n",
       "TFP6   7.798060  0.334186  5.600000  0.000000  25.033333  0.635085   \n",
       "\n",
       "        Sb [MPa]                  layers     Vc  \n",
       "            mean        std                      \n",
       "Name                                             \n",
       "TFP1  134.996667  18.942693       [Y, Y]  0.178  \n",
       "TFP2  117.430000  15.759607       [Y, X]  0.164  \n",
       "TFP3  128.053333   5.337905      [Y, SX]  0.135  \n",
       "TFP4  141.703333   7.525386      [Y, SY]  0.144  \n",
       "TFP5  107.433333   3.902939  [Y, SX, SY]  0.146  \n",
       "TFP6  114.306667  11.800790   [Y, X, SY]  0.180  "
      ]
     },
     "execution_count": 3,
     "metadata": {},
     "output_type": "execute_result"
    }
   ],
   "source": [
    "# dos primeros \n",
    "df "
   ]
  },
  {
   "cell_type": "code",
   "execution_count": 4,
   "metadata": {},
   "outputs": [
    {
     "data": {
      "application/vnd.microsoft.datawrangler.viewer.v0+json": {
       "columns": [
        {
         "name": "Name",
         "rawType": "object",
         "type": "string"
        },
        {
         "name": "('% e', 'mean')",
         "rawType": "float64",
         "type": "float"
        },
        {
         "name": "('% e', 'std')",
         "rawType": "float64",
         "type": "float"
        },
        {
         "name": "('layers', '')",
         "rawType": "object",
         "type": "unknown"
        },
        {
         "name": "('Vc', '')",
         "rawType": "float64",
         "type": "float"
        },
        {
         "name": "('Et [GPa]', '')",
         "rawType": "float64",
         "type": "float"
        },
        {
         "name": "('Eb [GPa]', '')",
         "rawType": "float64",
         "type": "float"
        },
        {
         "name": "('St [MPa]', '')",
         "rawType": "float64",
         "type": "float"
        },
        {
         "name": "('Sb [MPa]', '')",
         "rawType": "float64",
         "type": "float"
        },
        {
         "name": "('t [mm]', '')",
         "rawType": "float64",
         "type": "float"
        },
        {
         "name": "('b [mm]', '')",
         "rawType": "float64",
         "type": "float"
        }
       ],
       "ref": "b8874bb9-585c-4ba9-a864-35ed32f2e349",
       "rows": [
        [
         "TFP1",
         "0.12330555533333333",
         "0.009826739708382246",
         "['Y', 'Y']",
         "0.178",
         "2.885509223333333",
         "13.201050433333334",
         "279.1033333333333",
         "134.99666666666667",
         "5.266666666666667",
         "25.599999999999998"
        ],
        [
         "TFP2",
         "0.08755555533333333",
         "0.002839861932611568",
         "['Y', 'X']",
         "0.164",
         "2.258502544",
         "9.869500666333332",
         "153.36",
         "117.42999999999999",
         "4.7",
         "25.566666666666666"
        ],
        [
         "TFP3",
         "0.08744444433333333",
         "0.0021639941509129235",
         "['Y', 'SX']",
         "0.135",
         "2.0004365616666666",
         "9.222003430000001",
         "137.11333333333334",
         "128.0533333333333",
         "4.833333333333333",
         "25.400000000000002"
        ],
        [
         "TFP4",
         "0.09547222233333334",
         "0.005491365648468998",
         "['Y', 'SY']",
         "0.144",
         "2.4513617530000005",
         "10.181815286333332",
         "184.39666666666668",
         "141.70333333333335",
         "4.7",
         "25.666666666666668"
        ],
        [
         "TFP5",
         "0.08988888899999999",
         "0.013756900245035291",
         "['Y', 'SX', 'SY']",
         "0.146",
         "1.6265822796666667",
         "6.14310539",
         "99.99000000000001",
         "107.43333333333334",
         "5.7",
         "25.166666666666668"
        ],
        [
         "TFP6",
         "0.08908333333333333",
         "0.010304058325350375",
         "['Y', 'X', 'SY']",
         "0.18",
         "1.7398699316666668",
         "7.798059885666667",
         "104.51333333333334",
         "114.30666666666667",
         "5.599999999999999",
         "25.03333333333333"
        ]
       ],
       "shape": {
        "columns": 10,
        "rows": 6
       }
      },
      "text/html": [
       "<div>\n",
       "<style scoped>\n",
       "    .dataframe tbody tr th:only-of-type {\n",
       "        vertical-align: middle;\n",
       "    }\n",
       "\n",
       "    .dataframe tbody tr th {\n",
       "        vertical-align: top;\n",
       "    }\n",
       "\n",
       "    .dataframe thead tr th {\n",
       "        text-align: left;\n",
       "    }\n",
       "\n",
       "    .dataframe thead tr:last-of-type th {\n",
       "        text-align: right;\n",
       "    }\n",
       "</style>\n",
       "<table border=\"1\" class=\"dataframe\">\n",
       "  <thead>\n",
       "    <tr>\n",
       "      <th></th>\n",
       "      <th colspan=\"2\" halign=\"left\">% e</th>\n",
       "      <th>layers</th>\n",
       "      <th>Vc</th>\n",
       "      <th>Et [GPa]</th>\n",
       "      <th>Eb [GPa]</th>\n",
       "      <th>St [MPa]</th>\n",
       "      <th>Sb [MPa]</th>\n",
       "      <th>t [mm]</th>\n",
       "      <th>b [mm]</th>\n",
       "    </tr>\n",
       "    <tr>\n",
       "      <th></th>\n",
       "      <th>mean</th>\n",
       "      <th>std</th>\n",
       "      <th></th>\n",
       "      <th></th>\n",
       "      <th></th>\n",
       "      <th></th>\n",
       "      <th></th>\n",
       "      <th></th>\n",
       "      <th></th>\n",
       "      <th></th>\n",
       "    </tr>\n",
       "    <tr>\n",
       "      <th>Name</th>\n",
       "      <th></th>\n",
       "      <th></th>\n",
       "      <th></th>\n",
       "      <th></th>\n",
       "      <th></th>\n",
       "      <th></th>\n",
       "      <th></th>\n",
       "      <th></th>\n",
       "      <th></th>\n",
       "      <th></th>\n",
       "    </tr>\n",
       "  </thead>\n",
       "  <tbody>\n",
       "    <tr>\n",
       "      <th>TFP1</th>\n",
       "      <td>0.123306</td>\n",
       "      <td>0.009827</td>\n",
       "      <td>[Y, Y]</td>\n",
       "      <td>0.178</td>\n",
       "      <td>2.885509</td>\n",
       "      <td>13.201050</td>\n",
       "      <td>279.103333</td>\n",
       "      <td>134.996667</td>\n",
       "      <td>5.266667</td>\n",
       "      <td>25.600000</td>\n",
       "    </tr>\n",
       "    <tr>\n",
       "      <th>TFP2</th>\n",
       "      <td>0.087556</td>\n",
       "      <td>0.002840</td>\n",
       "      <td>[Y, X]</td>\n",
       "      <td>0.164</td>\n",
       "      <td>2.258503</td>\n",
       "      <td>9.869501</td>\n",
       "      <td>153.360000</td>\n",
       "      <td>117.430000</td>\n",
       "      <td>4.700000</td>\n",
       "      <td>25.566667</td>\n",
       "    </tr>\n",
       "    <tr>\n",
       "      <th>TFP3</th>\n",
       "      <td>0.087444</td>\n",
       "      <td>0.002164</td>\n",
       "      <td>[Y, SX]</td>\n",
       "      <td>0.135</td>\n",
       "      <td>2.000437</td>\n",
       "      <td>9.222003</td>\n",
       "      <td>137.113333</td>\n",
       "      <td>128.053333</td>\n",
       "      <td>4.833333</td>\n",
       "      <td>25.400000</td>\n",
       "    </tr>\n",
       "    <tr>\n",
       "      <th>TFP4</th>\n",
       "      <td>0.095472</td>\n",
       "      <td>0.005491</td>\n",
       "      <td>[Y, SY]</td>\n",
       "      <td>0.144</td>\n",
       "      <td>2.451362</td>\n",
       "      <td>10.181815</td>\n",
       "      <td>184.396667</td>\n",
       "      <td>141.703333</td>\n",
       "      <td>4.700000</td>\n",
       "      <td>25.666667</td>\n",
       "    </tr>\n",
       "    <tr>\n",
       "      <th>TFP5</th>\n",
       "      <td>0.089889</td>\n",
       "      <td>0.013757</td>\n",
       "      <td>[Y, SX, SY]</td>\n",
       "      <td>0.146</td>\n",
       "      <td>1.626582</td>\n",
       "      <td>6.143105</td>\n",
       "      <td>99.990000</td>\n",
       "      <td>107.433333</td>\n",
       "      <td>5.700000</td>\n",
       "      <td>25.166667</td>\n",
       "    </tr>\n",
       "    <tr>\n",
       "      <th>TFP6</th>\n",
       "      <td>0.089083</td>\n",
       "      <td>0.010304</td>\n",
       "      <td>[Y, X, SY]</td>\n",
       "      <td>0.180</td>\n",
       "      <td>1.739870</td>\n",
       "      <td>7.798060</td>\n",
       "      <td>104.513333</td>\n",
       "      <td>114.306667</td>\n",
       "      <td>5.600000</td>\n",
       "      <td>25.033333</td>\n",
       "    </tr>\n",
       "  </tbody>\n",
       "</table>\n",
       "</div>"
      ],
      "text/plain": [
       "           % e                 layers     Vc  Et [GPa]   Eb [GPa]    St [MPa]  \\\n",
       "          mean       std                                                        \n",
       "Name                                                                            \n",
       "TFP1  0.123306  0.009827       [Y, Y]  0.178  2.885509  13.201050  279.103333   \n",
       "TFP2  0.087556  0.002840       [Y, X]  0.164  2.258503   9.869501  153.360000   \n",
       "TFP3  0.087444  0.002164      [Y, SX]  0.135  2.000437   9.222003  137.113333   \n",
       "TFP4  0.095472  0.005491      [Y, SY]  0.144  2.451362  10.181815  184.396667   \n",
       "TFP5  0.089889  0.013757  [Y, SX, SY]  0.146  1.626582   6.143105   99.990000   \n",
       "TFP6  0.089083  0.010304   [Y, X, SY]  0.180  1.739870   7.798060  104.513333   \n",
       "\n",
       "        Sb [MPa]    t [mm]     b [mm]  \n",
       "                                       \n",
       "Name                                   \n",
       "TFP1  134.996667  5.266667  25.600000  \n",
       "TFP2  117.430000  4.700000  25.566667  \n",
       "TFP3  128.053333  4.833333  25.400000  \n",
       "TFP4  141.703333  4.700000  25.666667  \n",
       "TFP5  107.433333  5.700000  25.166667  \n",
       "TFP6  114.306667  5.600000  25.033333  "
      ]
     },
     "execution_count": 4,
     "metadata": {},
     "output_type": "execute_result"
    }
   ],
   "source": [
    "df_old = df.copy()\n",
    "\n",
    "df_Et = df[\"Et [GPa]\"][\"mean\"]\n",
    "df_Eb = df[\"Eb [GPa]\"][\"mean\"]\n",
    "df_t = df[\"t [mm]\"][\"mean\"]\n",
    "df_b = df[\"b [mm]\"][\"mean\"]\n",
    "df_St = df[\"St [MPa]\"][\"mean\"]\n",
    "df_Sb = df[\"Sb [MPa]\"][\"mean\"]\n",
    "\n",
    "df = df.drop(columns=[\"Et [GPa]\", \n",
    "                      \"Eb [GPa]\", \n",
    "                      \"t [mm]\", \n",
    "                      \"b [mm]\",\n",
    "                      \"Sb [MPa]\",\n",
    "                      \"St [MPa]\"],level=0)\n",
    "df[\"Et [GPa]\"] = df_Et\n",
    "df[\"Eb [GPa]\"] = df_Eb\n",
    "df[\"St [MPa]\"] = df_St\n",
    "df[\"Sb [MPa]\"] = df_Sb\n",
    "df[\"t [mm]\"] = df_t\n",
    "df[\"b [mm]\"] = df_b\n",
    "df\n"
   ]
  },
  {
   "cell_type": "markdown",
   "metadata": {},
   "source": [
    "#### Cambiamos a de tensiones a fuerzas en bending\n",
    "\n"
   ]
  },
  {
   "cell_type": "code",
   "execution_count": 5,
   "metadata": {},
   "outputs": [
    {
     "data": {
      "text/plain": [
       "0.7142857142857143"
      ]
     },
     "execution_count": 5,
     "metadata": {},
     "output_type": "execute_result"
    }
   ],
   "source": [
    "0.5*10/7"
   ]
  },
  {
   "cell_type": "code",
   "execution_count": 6,
   "metadata": {},
   "outputs": [],
   "source": [
    "B = df[\"b [mm]\"].values\n",
    "D = df[\"t [mm]\"].values\n",
    "L = 30\n",
    "df[\"St [N]\"] = 2*B*D**2*df[\"St [MPa]\"].values/(3*L) "
   ]
  },
  {
   "cell_type": "code",
   "execution_count": 7,
   "metadata": {},
   "outputs": [
    {
     "data": {
      "application/vnd.microsoft.datawrangler.viewer.v0+json": {
       "columns": [
        {
         "name": "Name",
         "rawType": "object",
         "type": "string"
        },
        {
         "name": "('% e', 'mean')",
         "rawType": "float64",
         "type": "float"
        },
        {
         "name": "('% e', 'std')",
         "rawType": "float64",
         "type": "float"
        },
        {
         "name": "('layers', '')",
         "rawType": "object",
         "type": "unknown"
        },
        {
         "name": "('Vc', '')",
         "rawType": "float64",
         "type": "float"
        },
        {
         "name": "('Et [GPa]', '')",
         "rawType": "float64",
         "type": "float"
        },
        {
         "name": "('Eb [GPa]', '')",
         "rawType": "float64",
         "type": "float"
        },
        {
         "name": "('St [MPa]', '')",
         "rawType": "float64",
         "type": "float"
        },
        {
         "name": "('Sb [MPa]', '')",
         "rawType": "float64",
         "type": "float"
        },
        {
         "name": "('t [mm]', '')",
         "rawType": "float64",
         "type": "float"
        },
        {
         "name": "('b [mm]', '')",
         "rawType": "float64",
         "type": "float"
        },
        {
         "name": "('St [N]', '')",
         "rawType": "float64",
         "type": "float"
        }
       ],
       "ref": "b856778d-6187-4e9d-a13b-dee6944dd92d",
       "rows": [
        [
         "TFP1",
         "0.12330555533333333",
         "0.009826739708382246",
         "['Y', 'Y']",
         "0.178",
         "2.885509223333333",
         "13.201050433333334",
         "279.1033333333333",
         "134.99666666666667",
         "5.266666666666667",
         "25.599999999999998",
         "4404.170659292179"
        ],
        [
         "TFP2",
         "0.08755555533333333",
         "0.002839861932611568",
         "['Y', 'X']",
         "0.164",
         "2.258502544",
         "9.869500666333332",
         "153.36",
         "117.42999999999999",
         "4.7",
         "25.566666666666666",
         "1924.7282080000004"
        ],
        [
         "TFP3",
         "0.08744444433333333",
         "0.0021639941509129235",
         "['Y', 'SX']",
         "0.135",
         "2.0004365616666666",
         "9.222003430000001",
         "137.11333333333334",
         "128.0533333333333",
         "4.833333333333333",
         "25.400000000000002",
         "1807.9831843621398"
        ],
        [
         "TFP4",
         "0.09547222233333334",
         "0.005491365648468998",
         "['Y', 'SY']",
         "0.144",
         "2.4513617530000005",
         "10.181815286333332",
         "184.39666666666668",
         "141.70333333333335",
         "4.7",
         "25.666666666666668",
         "2323.302386913581"
        ],
        [
         "TFP5",
         "0.08988888899999999",
         "0.013756900245035291",
         "['Y', 'SX', 'SY']",
         "0.146",
         "1.6265822796666667",
         "6.14310539",
         "99.99000000000001",
         "107.43333333333334",
         "5.7",
         "25.166666666666668",
         "1816.8516300000006"
        ],
        [
         "TFP6",
         "0.08908333333333333",
         "0.010304058325350375",
         "['Y', 'X', 'SY']",
         "0.18",
         "1.7398699316666668",
         "7.798059885666667",
         "104.51333333333334",
         "114.30666666666667",
         "5.599999999999999",
         "25.03333333333333",
         "1823.282324543209"
        ]
       ],
       "shape": {
        "columns": 11,
        "rows": 6
       }
      },
      "text/html": [
       "<div>\n",
       "<style scoped>\n",
       "    .dataframe tbody tr th:only-of-type {\n",
       "        vertical-align: middle;\n",
       "    }\n",
       "\n",
       "    .dataframe tbody tr th {\n",
       "        vertical-align: top;\n",
       "    }\n",
       "\n",
       "    .dataframe thead tr th {\n",
       "        text-align: left;\n",
       "    }\n",
       "\n",
       "    .dataframe thead tr:last-of-type th {\n",
       "        text-align: right;\n",
       "    }\n",
       "</style>\n",
       "<table border=\"1\" class=\"dataframe\">\n",
       "  <thead>\n",
       "    <tr>\n",
       "      <th></th>\n",
       "      <th colspan=\"2\" halign=\"left\">% e</th>\n",
       "      <th>layers</th>\n",
       "      <th>Vc</th>\n",
       "      <th>Et [GPa]</th>\n",
       "      <th>Eb [GPa]</th>\n",
       "      <th>St [MPa]</th>\n",
       "      <th>Sb [MPa]</th>\n",
       "      <th>t [mm]</th>\n",
       "      <th>b [mm]</th>\n",
       "      <th>St [N]</th>\n",
       "    </tr>\n",
       "    <tr>\n",
       "      <th></th>\n",
       "      <th>mean</th>\n",
       "      <th>std</th>\n",
       "      <th></th>\n",
       "      <th></th>\n",
       "      <th></th>\n",
       "      <th></th>\n",
       "      <th></th>\n",
       "      <th></th>\n",
       "      <th></th>\n",
       "      <th></th>\n",
       "      <th></th>\n",
       "    </tr>\n",
       "    <tr>\n",
       "      <th>Name</th>\n",
       "      <th></th>\n",
       "      <th></th>\n",
       "      <th></th>\n",
       "      <th></th>\n",
       "      <th></th>\n",
       "      <th></th>\n",
       "      <th></th>\n",
       "      <th></th>\n",
       "      <th></th>\n",
       "      <th></th>\n",
       "      <th></th>\n",
       "    </tr>\n",
       "  </thead>\n",
       "  <tbody>\n",
       "    <tr>\n",
       "      <th>TFP1</th>\n",
       "      <td>0.123306</td>\n",
       "      <td>0.009827</td>\n",
       "      <td>[Y, Y]</td>\n",
       "      <td>0.178</td>\n",
       "      <td>2.885509</td>\n",
       "      <td>13.201050</td>\n",
       "      <td>279.103333</td>\n",
       "      <td>134.996667</td>\n",
       "      <td>5.266667</td>\n",
       "      <td>25.600000</td>\n",
       "      <td>4404.170659</td>\n",
       "    </tr>\n",
       "    <tr>\n",
       "      <th>TFP2</th>\n",
       "      <td>0.087556</td>\n",
       "      <td>0.002840</td>\n",
       "      <td>[Y, X]</td>\n",
       "      <td>0.164</td>\n",
       "      <td>2.258503</td>\n",
       "      <td>9.869501</td>\n",
       "      <td>153.360000</td>\n",
       "      <td>117.430000</td>\n",
       "      <td>4.700000</td>\n",
       "      <td>25.566667</td>\n",
       "      <td>1924.728208</td>\n",
       "    </tr>\n",
       "    <tr>\n",
       "      <th>TFP3</th>\n",
       "      <td>0.087444</td>\n",
       "      <td>0.002164</td>\n",
       "      <td>[Y, SX]</td>\n",
       "      <td>0.135</td>\n",
       "      <td>2.000437</td>\n",
       "      <td>9.222003</td>\n",
       "      <td>137.113333</td>\n",
       "      <td>128.053333</td>\n",
       "      <td>4.833333</td>\n",
       "      <td>25.400000</td>\n",
       "      <td>1807.983184</td>\n",
       "    </tr>\n",
       "    <tr>\n",
       "      <th>TFP4</th>\n",
       "      <td>0.095472</td>\n",
       "      <td>0.005491</td>\n",
       "      <td>[Y, SY]</td>\n",
       "      <td>0.144</td>\n",
       "      <td>2.451362</td>\n",
       "      <td>10.181815</td>\n",
       "      <td>184.396667</td>\n",
       "      <td>141.703333</td>\n",
       "      <td>4.700000</td>\n",
       "      <td>25.666667</td>\n",
       "      <td>2323.302387</td>\n",
       "    </tr>\n",
       "    <tr>\n",
       "      <th>TFP5</th>\n",
       "      <td>0.089889</td>\n",
       "      <td>0.013757</td>\n",
       "      <td>[Y, SX, SY]</td>\n",
       "      <td>0.146</td>\n",
       "      <td>1.626582</td>\n",
       "      <td>6.143105</td>\n",
       "      <td>99.990000</td>\n",
       "      <td>107.433333</td>\n",
       "      <td>5.700000</td>\n",
       "      <td>25.166667</td>\n",
       "      <td>1816.851630</td>\n",
       "    </tr>\n",
       "    <tr>\n",
       "      <th>TFP6</th>\n",
       "      <td>0.089083</td>\n",
       "      <td>0.010304</td>\n",
       "      <td>[Y, X, SY]</td>\n",
       "      <td>0.180</td>\n",
       "      <td>1.739870</td>\n",
       "      <td>7.798060</td>\n",
       "      <td>104.513333</td>\n",
       "      <td>114.306667</td>\n",
       "      <td>5.600000</td>\n",
       "      <td>25.033333</td>\n",
       "      <td>1823.282325</td>\n",
       "    </tr>\n",
       "  </tbody>\n",
       "</table>\n",
       "</div>"
      ],
      "text/plain": [
       "           % e                 layers     Vc  Et [GPa]   Eb [GPa]    St [MPa]  \\\n",
       "          mean       std                                                        \n",
       "Name                                                                            \n",
       "TFP1  0.123306  0.009827       [Y, Y]  0.178  2.885509  13.201050  279.103333   \n",
       "TFP2  0.087556  0.002840       [Y, X]  0.164  2.258503   9.869501  153.360000   \n",
       "TFP3  0.087444  0.002164      [Y, SX]  0.135  2.000437   9.222003  137.113333   \n",
       "TFP4  0.095472  0.005491      [Y, SY]  0.144  2.451362  10.181815  184.396667   \n",
       "TFP5  0.089889  0.013757  [Y, SX, SY]  0.146  1.626582   6.143105   99.990000   \n",
       "TFP6  0.089083  0.010304   [Y, X, SY]  0.180  1.739870   7.798060  104.513333   \n",
       "\n",
       "        Sb [MPa]    t [mm]     b [mm]       St [N]  \n",
       "                                                    \n",
       "Name                                                \n",
       "TFP1  134.996667  5.266667  25.600000  4404.170659  \n",
       "TFP2  117.430000  4.700000  25.566667  1924.728208  \n",
       "TFP3  128.053333  4.833333  25.400000  1807.983184  \n",
       "TFP4  141.703333  4.700000  25.666667  2323.302387  \n",
       "TFP5  107.433333  5.700000  25.166667  1816.851630  \n",
       "TFP6  114.306667  5.600000  25.033333  1823.282325  "
      ]
     },
     "execution_count": 7,
     "metadata": {},
     "output_type": "execute_result"
    }
   ],
   "source": [
    "df"
   ]
  },
  {
   "cell_type": "markdown",
   "metadata": {},
   "source": [
    "### Experimental Data"
   ]
  },
  {
   "cell_type": "code",
   "execution_count": 8,
   "metadata": {},
   "outputs": [
    {
     "data": {
      "application/vnd.microsoft.datawrangler.viewer.v0+json": {
       "columns": [
        {
         "name": "Name",
         "rawType": "object",
         "type": "string"
        },
        {
         "name": "('Et [GPa]', 'mean')",
         "rawType": "float64",
         "type": "float"
        },
        {
         "name": "('Et [GPa]', 'std')",
         "rawType": "float64",
         "type": "float"
        },
        {
         "name": "('% e', 'mean')",
         "rawType": "float64",
         "type": "float"
        },
        {
         "name": "('% e', 'std')",
         "rawType": "float64",
         "type": "float"
        },
        {
         "name": "('St [MPa]', 'mean')",
         "rawType": "float64",
         "type": "float"
        },
        {
         "name": "('St [MPa]', 'std')",
         "rawType": "float64",
         "type": "float"
        },
        {
         "name": "('Eb [GPa]', 'mean')",
         "rawType": "float64",
         "type": "float"
        },
        {
         "name": "('Eb [GPa]', 'std')",
         "rawType": "float64",
         "type": "float"
        },
        {
         "name": "('t [mm]', 'mean')",
         "rawType": "float64",
         "type": "float"
        },
        {
         "name": "('t [mm]', 'std')",
         "rawType": "float64",
         "type": "float"
        },
        {
         "name": "('b [mm]', 'mean')",
         "rawType": "float64",
         "type": "float"
        },
        {
         "name": "('b [mm]', 'std')",
         "rawType": "float64",
         "type": "float"
        },
        {
         "name": "('Sb [MPa]', 'mean')",
         "rawType": "float64",
         "type": "float"
        },
        {
         "name": "('Sb [MPa]', 'std')",
         "rawType": "float64",
         "type": "float"
        },
        {
         "name": "('layers', '')",
         "rawType": "object",
         "type": "unknown"
        },
        {
         "name": "('Vc', '')",
         "rawType": "float64",
         "type": "float"
        }
       ],
       "ref": "2acc7fe8-cfe4-4880-81b7-f9f66e37e3e3",
       "rows": [
        [
         "TFP1",
         "2.885509223333333",
         "0.2272951576465367",
         "0.12330555533333333",
         "0.009826739708382246",
         "279.1033333333333",
         "14.33769972252638",
         "13.201050433333334",
         "0.6308580803456912",
         "5.266666666666667",
         "0.05773502691896237",
         "25.599999999999998",
         "0.0999999999999992",
         "134.99666666666667",
         "18.94269340229455",
         "['Y', 'Y']",
         "0.178"
        ],
        [
         "TFP2",
         "2.258502544",
         "0.06562636519719042",
         "0.08755555533333333",
         "0.002839861932611568",
         "153.36",
         "0.4731807265728384",
         "9.869500666333332",
         "0.7801134840462621",
         "4.7",
         "0.0",
         "25.566666666666666",
         "0.05773502691896366",
         "117.42999999999999",
         "15.759606594074613",
         "['Y', 'X']",
         "0.164"
        ],
        [
         "TFP3",
         "2.0004365616666666",
         "0.004434942878471981",
         "0.08744444433333333",
         "0.0021639941509129235",
         "137.11333333333334",
         "4.996812317201176",
         "9.222003430000001",
         "0.4959654651807207",
         "4.833333333333333",
         "0.05773502691896295",
         "25.400000000000002",
         "0.1732050807568866",
         "128.0533333333333",
         "5.337905331994307",
         "['Y', 'SX']",
         "0.135"
        ],
        [
         "TFP4",
         "2.4513617530000005",
         "0.11435337021707032",
         "0.09547222233333334",
         "0.005491365648468998",
         "184.39666666666668",
         "1.3565151430534554",
         "10.181815286333332",
         "0.770635403114932",
         "4.7",
         "0.0",
         "25.666666666666668",
         "0.15275252316519433",
         "141.70333333333335",
         "7.525385925873396",
         "['Y', 'SY']",
         "0.144"
        ],
        [
         "TFP5",
         "1.6265822796666667",
         "0.12027157292656442",
         "0.08988888899999999",
         "0.013756900245035291",
         "99.99000000000001",
         "9.790137894840916",
         "6.14310539",
         "0.16163658335627418",
         "5.7",
         "0.0",
         "25.166666666666668",
         "0.1527525231651954",
         "107.43333333333334",
         "3.9029390634921977",
         "['Y', 'SX', 'SY']",
         "0.146"
        ],
        [
         "TFP6",
         "1.7398699316666668",
         "0.06751450755209366",
         "0.08908333333333333",
         "0.010304058325350375",
         "104.51333333333334",
         "7.708893132826098",
         "7.798059885666667",
         "0.3341860753601006",
         "5.599999999999999",
         "0.0",
         "25.03333333333333",
         "0.6350852961085856",
         "114.30666666666667",
         "11.800789521609696",
         "['Y', 'X', 'SY']",
         "0.18"
        ]
       ],
       "shape": {
        "columns": 16,
        "rows": 6
       }
      },
      "text/html": [
       "<div>\n",
       "<style scoped>\n",
       "    .dataframe tbody tr th:only-of-type {\n",
       "        vertical-align: middle;\n",
       "    }\n",
       "\n",
       "    .dataframe tbody tr th {\n",
       "        vertical-align: top;\n",
       "    }\n",
       "\n",
       "    .dataframe thead tr th {\n",
       "        text-align: left;\n",
       "    }\n",
       "\n",
       "    .dataframe thead tr:last-of-type th {\n",
       "        text-align: right;\n",
       "    }\n",
       "</style>\n",
       "<table border=\"1\" class=\"dataframe\">\n",
       "  <thead>\n",
       "    <tr>\n",
       "      <th></th>\n",
       "      <th colspan=\"2\" halign=\"left\">Et [GPa]</th>\n",
       "      <th colspan=\"2\" halign=\"left\">% e</th>\n",
       "      <th colspan=\"2\" halign=\"left\">St [MPa]</th>\n",
       "      <th colspan=\"2\" halign=\"left\">Eb [GPa]</th>\n",
       "      <th colspan=\"2\" halign=\"left\">t [mm]</th>\n",
       "      <th colspan=\"2\" halign=\"left\">b [mm]</th>\n",
       "      <th colspan=\"2\" halign=\"left\">Sb [MPa]</th>\n",
       "      <th>layers</th>\n",
       "      <th>Vc</th>\n",
       "    </tr>\n",
       "    <tr>\n",
       "      <th></th>\n",
       "      <th>mean</th>\n",
       "      <th>std</th>\n",
       "      <th>mean</th>\n",
       "      <th>std</th>\n",
       "      <th>mean</th>\n",
       "      <th>std</th>\n",
       "      <th>mean</th>\n",
       "      <th>std</th>\n",
       "      <th>mean</th>\n",
       "      <th>std</th>\n",
       "      <th>mean</th>\n",
       "      <th>std</th>\n",
       "      <th>mean</th>\n",
       "      <th>std</th>\n",
       "      <th></th>\n",
       "      <th></th>\n",
       "    </tr>\n",
       "    <tr>\n",
       "      <th>Name</th>\n",
       "      <th></th>\n",
       "      <th></th>\n",
       "      <th></th>\n",
       "      <th></th>\n",
       "      <th></th>\n",
       "      <th></th>\n",
       "      <th></th>\n",
       "      <th></th>\n",
       "      <th></th>\n",
       "      <th></th>\n",
       "      <th></th>\n",
       "      <th></th>\n",
       "      <th></th>\n",
       "      <th></th>\n",
       "      <th></th>\n",
       "      <th></th>\n",
       "    </tr>\n",
       "  </thead>\n",
       "  <tbody>\n",
       "    <tr>\n",
       "      <th>TFP1</th>\n",
       "      <td>2.885509</td>\n",
       "      <td>0.227295</td>\n",
       "      <td>0.123306</td>\n",
       "      <td>0.009827</td>\n",
       "      <td>279.103333</td>\n",
       "      <td>14.337700</td>\n",
       "      <td>13.201050</td>\n",
       "      <td>0.630858</td>\n",
       "      <td>5.266667</td>\n",
       "      <td>0.057735</td>\n",
       "      <td>25.600000</td>\n",
       "      <td>0.100000</td>\n",
       "      <td>134.996667</td>\n",
       "      <td>18.942693</td>\n",
       "      <td>[Y, Y]</td>\n",
       "      <td>0.178</td>\n",
       "    </tr>\n",
       "    <tr>\n",
       "      <th>TFP2</th>\n",
       "      <td>2.258503</td>\n",
       "      <td>0.065626</td>\n",
       "      <td>0.087556</td>\n",
       "      <td>0.002840</td>\n",
       "      <td>153.360000</td>\n",
       "      <td>0.473181</td>\n",
       "      <td>9.869501</td>\n",
       "      <td>0.780113</td>\n",
       "      <td>4.700000</td>\n",
       "      <td>0.000000</td>\n",
       "      <td>25.566667</td>\n",
       "      <td>0.057735</td>\n",
       "      <td>117.430000</td>\n",
       "      <td>15.759607</td>\n",
       "      <td>[Y, X]</td>\n",
       "      <td>0.164</td>\n",
       "    </tr>\n",
       "    <tr>\n",
       "      <th>TFP3</th>\n",
       "      <td>2.000437</td>\n",
       "      <td>0.004435</td>\n",
       "      <td>0.087444</td>\n",
       "      <td>0.002164</td>\n",
       "      <td>137.113333</td>\n",
       "      <td>4.996812</td>\n",
       "      <td>9.222003</td>\n",
       "      <td>0.495965</td>\n",
       "      <td>4.833333</td>\n",
       "      <td>0.057735</td>\n",
       "      <td>25.400000</td>\n",
       "      <td>0.173205</td>\n",
       "      <td>128.053333</td>\n",
       "      <td>5.337905</td>\n",
       "      <td>[Y, SX]</td>\n",
       "      <td>0.135</td>\n",
       "    </tr>\n",
       "    <tr>\n",
       "      <th>TFP4</th>\n",
       "      <td>2.451362</td>\n",
       "      <td>0.114353</td>\n",
       "      <td>0.095472</td>\n",
       "      <td>0.005491</td>\n",
       "      <td>184.396667</td>\n",
       "      <td>1.356515</td>\n",
       "      <td>10.181815</td>\n",
       "      <td>0.770635</td>\n",
       "      <td>4.700000</td>\n",
       "      <td>0.000000</td>\n",
       "      <td>25.666667</td>\n",
       "      <td>0.152753</td>\n",
       "      <td>141.703333</td>\n",
       "      <td>7.525386</td>\n",
       "      <td>[Y, SY]</td>\n",
       "      <td>0.144</td>\n",
       "    </tr>\n",
       "    <tr>\n",
       "      <th>TFP5</th>\n",
       "      <td>1.626582</td>\n",
       "      <td>0.120272</td>\n",
       "      <td>0.089889</td>\n",
       "      <td>0.013757</td>\n",
       "      <td>99.990000</td>\n",
       "      <td>9.790138</td>\n",
       "      <td>6.143105</td>\n",
       "      <td>0.161637</td>\n",
       "      <td>5.700000</td>\n",
       "      <td>0.000000</td>\n",
       "      <td>25.166667</td>\n",
       "      <td>0.152753</td>\n",
       "      <td>107.433333</td>\n",
       "      <td>3.902939</td>\n",
       "      <td>[Y, SX, SY]</td>\n",
       "      <td>0.146</td>\n",
       "    </tr>\n",
       "    <tr>\n",
       "      <th>TFP6</th>\n",
       "      <td>1.739870</td>\n",
       "      <td>0.067515</td>\n",
       "      <td>0.089083</td>\n",
       "      <td>0.010304</td>\n",
       "      <td>104.513333</td>\n",
       "      <td>7.708893</td>\n",
       "      <td>7.798060</td>\n",
       "      <td>0.334186</td>\n",
       "      <td>5.600000</td>\n",
       "      <td>0.000000</td>\n",
       "      <td>25.033333</td>\n",
       "      <td>0.635085</td>\n",
       "      <td>114.306667</td>\n",
       "      <td>11.800790</td>\n",
       "      <td>[Y, X, SY]</td>\n",
       "      <td>0.180</td>\n",
       "    </tr>\n",
       "  </tbody>\n",
       "</table>\n",
       "</div>"
      ],
      "text/plain": [
       "      Et [GPa]                 % e              St [MPa]             \\\n",
       "          mean       std      mean       std        mean        std   \n",
       "Name                                                                  \n",
       "TFP1  2.885509  0.227295  0.123306  0.009827  279.103333  14.337700   \n",
       "TFP2  2.258503  0.065626  0.087556  0.002840  153.360000   0.473181   \n",
       "TFP3  2.000437  0.004435  0.087444  0.002164  137.113333   4.996812   \n",
       "TFP4  2.451362  0.114353  0.095472  0.005491  184.396667   1.356515   \n",
       "TFP5  1.626582  0.120272  0.089889  0.013757   99.990000   9.790138   \n",
       "TFP6  1.739870  0.067515  0.089083  0.010304  104.513333   7.708893   \n",
       "\n",
       "       Eb [GPa]              t [mm]               b [mm]            \\\n",
       "           mean       std      mean       std       mean       std   \n",
       "Name                                                                 \n",
       "TFP1  13.201050  0.630858  5.266667  0.057735  25.600000  0.100000   \n",
       "TFP2   9.869501  0.780113  4.700000  0.000000  25.566667  0.057735   \n",
       "TFP3   9.222003  0.495965  4.833333  0.057735  25.400000  0.173205   \n",
       "TFP4  10.181815  0.770635  4.700000  0.000000  25.666667  0.152753   \n",
       "TFP5   6.143105  0.161637  5.700000  0.000000  25.166667  0.152753   \n",
       "TFP6   7.798060  0.334186  5.600000  0.000000  25.033333  0.635085   \n",
       "\n",
       "        Sb [MPa]                  layers     Vc  \n",
       "            mean        std                      \n",
       "Name                                             \n",
       "TFP1  134.996667  18.942693       [Y, Y]  0.178  \n",
       "TFP2  117.430000  15.759607       [Y, X]  0.164  \n",
       "TFP3  128.053333   5.337905      [Y, SX]  0.135  \n",
       "TFP4  141.703333   7.525386      [Y, SY]  0.144  \n",
       "TFP5  107.433333   3.902939  [Y, SX, SY]  0.146  \n",
       "TFP6  114.306667  11.800790   [Y, X, SY]  0.180  "
      ]
     },
     "execution_count": 8,
     "metadata": {},
     "output_type": "execute_result"
    }
   ],
   "source": [
    "df_old"
   ]
  },
  {
   "cell_type": "code",
   "execution_count": 9,
   "metadata": {},
   "outputs": [
    {
     "data": {
      "image/png": "[encoded data removed]",
      "text/plain": [
       "<Figure size 800x500 with 4 Axes>"
      ]
     },
     "metadata": {},
     "output_type": "display_data"
    }
   ],
   "source": [
    "# bar plot \n",
    "# subplot \n",
    "\n",
    "# plot with error bars\n",
    "\n",
    "fig = plt.figure()\n",
    "#size \n",
    "fig.set_size_inches(8, 5)\n",
    "# subplot padding\n",
    "fig.subplots_adjust(hspace=1., wspace=0.5)\n",
    "cols = [\"Et [GPa]\", \"Eb [GPa]\", \"t [mm]\", \"b [mm]\"]\n",
    "\n",
    "for i, col in enumerate(cols):\n",
    "    ax = fig.add_subplot(2, 2, i+1)\n",
    "    df_old[col][\"mean\"].plot(kind='bar', yerr=df_old[col][\"std\"], capsize=5, ax=ax)\n",
    "    ax.set_title(col)\n",
    "    ax.set_ylabel(col)\n",
    "    ax.set_xlabel(\"Sample\")\n",
    "    plt.grid()\n",
    "    # rot label 45\n",
    "    plt.xticks(rotation=45)"
   ]
  },
  {
   "cell_type": "code",
   "execution_count": 10,
   "metadata": {},
   "outputs": [],
   "source": [
    "# Given tn,tl,En,El \n",
    "tn = 2.934\n",
    "tl = 0.475\n"
   ]
  },
  {
   "cell_type": "markdown",
   "metadata": {},
   "source": []
  },
  {
   "cell_type": "code",
   "execution_count": 11,
   "metadata": {},
   "outputs": [
    {
     "data": {
      "application/vnd.microsoft.datawrangler.viewer.v0+json": {
       "columns": [
        {
         "name": "Name",
         "rawType": "object",
         "type": "string"
        },
        {
         "name": "('% e', 'mean')",
         "rawType": "float64",
         "type": "float"
        },
        {
         "name": "('% e', 'std')",
         "rawType": "float64",
         "type": "float"
        },
        {
         "name": "('layers', '')",
         "rawType": "object",
         "type": "unknown"
        },
        {
         "name": "('Vc', '')",
         "rawType": "float64",
         "type": "float"
        },
        {
         "name": "('Et [GPa]', '')",
         "rawType": "float64",
         "type": "float"
        },
        {
         "name": "('Eb [GPa]', '')",
         "rawType": "float64",
         "type": "float"
        },
        {
         "name": "('St [MPa]', '')",
         "rawType": "float64",
         "type": "float"
        },
        {
         "name": "('Sb [MPa]', '')",
         "rawType": "float64",
         "type": "float"
        },
        {
         "name": "('t [mm]', '')",
         "rawType": "float64",
         "type": "float"
        },
        {
         "name": "('b [mm]', '')",
         "rawType": "float64",
         "type": "float"
        },
        {
         "name": "('St [N]', '')",
         "rawType": "float64",
         "type": "float"
        }
       ],
       "ref": "fce9b106-eb47-4710-b4c4-6f86b0f34dd8",
       "rows": [
        [
         "TFP1",
         "0.12",
         "0.01",
         "['Y', 'Y']",
         "0.18",
         "2.89",
         "13.2",
         "279.1",
         "135.0",
         "5.27",
         "25.6",
         "4404.17"
        ],
        [
         "TFP2",
         "0.09",
         "0.0",
         "['Y', 'X']",
         "0.16",
         "2.26",
         "9.87",
         "153.36",
         "117.43",
         "4.7",
         "25.57",
         "1924.73"
        ],
        [
         "TFP3",
         "0.09",
         "0.0",
         "['Y', 'SX']",
         "0.14",
         "2.0",
         "9.22",
         "137.11",
         "128.05",
         "4.83",
         "25.4",
         "1807.98"
        ],
        [
         "TFP4",
         "0.1",
         "0.01",
         "['Y', 'SY']",
         "0.14",
         "2.45",
         "10.18",
         "184.4",
         "141.7",
         "4.7",
         "25.67",
         "2323.3"
        ],
        [
         "TFP5",
         "0.09",
         "0.01",
         "['Y', 'SX', 'SY']",
         "0.15",
         "1.63",
         "6.14",
         "99.99",
         "107.43",
         "5.7",
         "25.17",
         "1816.85"
        ],
        [
         "TFP6",
         "0.09",
         "0.01",
         "['Y', 'X', 'SY']",
         "0.18",
         "1.74",
         "7.8",
         "104.51",
         "114.31",
         "5.6",
         "25.03",
         "1823.28"
        ]
       ],
       "shape": {
        "columns": 11,
        "rows": 6
       }
      },
      "text/html": [
       "<div>\n",
       "<style scoped>\n",
       "    .dataframe tbody tr th:only-of-type {\n",
       "        vertical-align: middle;\n",
       "    }\n",
       "\n",
       "    .dataframe tbody tr th {\n",
       "        vertical-align: top;\n",
       "    }\n",
       "\n",
       "    .dataframe thead tr th {\n",
       "        text-align: left;\n",
       "    }\n",
       "\n",
       "    .dataframe thead tr:last-of-type th {\n",
       "        text-align: right;\n",
       "    }\n",
       "</style>\n",
       "<table border=\"1\" class=\"dataframe\">\n",
       "  <thead>\n",
       "    <tr>\n",
       "      <th></th>\n",
       "      <th colspan=\"2\" halign=\"left\">% e</th>\n",
       "      <th>layers</th>\n",
       "      <th>Vc</th>\n",
       "      <th>Et [GPa]</th>\n",
       "      <th>Eb [GPa]</th>\n",
       "      <th>St [MPa]</th>\n",
       "      <th>Sb [MPa]</th>\n",
       "      <th>t [mm]</th>\n",
       "      <th>b [mm]</th>\n",
       "      <th>St [N]</th>\n",
       "    </tr>\n",
       "    <tr>\n",
       "      <th></th>\n",
       "      <th>mean</th>\n",
       "      <th>std</th>\n",
       "      <th></th>\n",
       "      <th></th>\n",
       "      <th></th>\n",
       "      <th></th>\n",
       "      <th></th>\n",
       "      <th></th>\n",
       "      <th></th>\n",
       "      <th></th>\n",
       "      <th></th>\n",
       "    </tr>\n",
       "    <tr>\n",
       "      <th>Name</th>\n",
       "      <th></th>\n",
       "      <th></th>\n",
       "      <th></th>\n",
       "      <th></th>\n",
       "      <th></th>\n",
       "      <th></th>\n",
       "      <th></th>\n",
       "      <th></th>\n",
       "      <th></th>\n",
       "      <th></th>\n",
       "      <th></th>\n",
       "    </tr>\n",
       "  </thead>\n",
       "  <tbody>\n",
       "    <tr>\n",
       "      <th>TFP1</th>\n",
       "      <td>0.12</td>\n",
       "      <td>0.01</td>\n",
       "      <td>[Y, Y]</td>\n",
       "      <td>0.18</td>\n",
       "      <td>2.89</td>\n",
       "      <td>13.20</td>\n",
       "      <td>279.10</td>\n",
       "      <td>135.00</td>\n",
       "      <td>5.27</td>\n",
       "      <td>25.60</td>\n",
       "      <td>4404.17</td>\n",
       "    </tr>\n",
       "    <tr>\n",
       "      <th>TFP2</th>\n",
       "      <td>0.09</td>\n",
       "      <td>0.00</td>\n",
       "      <td>[Y, X]</td>\n",
       "      <td>0.16</td>\n",
       "      <td>2.26</td>\n",
       "      <td>9.87</td>\n",
       "      <td>153.36</td>\n",
       "      <td>117.43</td>\n",
       "      <td>4.70</td>\n",
       "      <td>25.57</td>\n",
       "      <td>1924.73</td>\n",
       "    </tr>\n",
       "    <tr>\n",
       "      <th>TFP3</th>\n",
       "      <td>0.09</td>\n",
       "      <td>0.00</td>\n",
       "      <td>[Y, SX]</td>\n",
       "      <td>0.14</td>\n",
       "      <td>2.00</td>\n",
       "      <td>9.22</td>\n",
       "      <td>137.11</td>\n",
       "      <td>128.05</td>\n",
       "      <td>4.83</td>\n",
       "      <td>25.40</td>\n",
       "      <td>1807.98</td>\n",
       "    </tr>\n",
       "    <tr>\n",
       "      <th>TFP4</th>\n",
       "      <td>0.10</td>\n",
       "      <td>0.01</td>\n",
       "      <td>[Y, SY]</td>\n",
       "      <td>0.14</td>\n",
       "      <td>2.45</td>\n",
       "      <td>10.18</td>\n",
       "      <td>184.40</td>\n",
       "      <td>141.70</td>\n",
       "      <td>4.70</td>\n",
       "      <td>25.67</td>\n",
       "      <td>2323.30</td>\n",
       "    </tr>\n",
       "    <tr>\n",
       "      <th>TFP5</th>\n",
       "      <td>0.09</td>\n",
       "      <td>0.01</td>\n",
       "      <td>[Y, SX, SY]</td>\n",
       "      <td>0.15</td>\n",
       "      <td>1.63</td>\n",
       "      <td>6.14</td>\n",
       "      <td>99.99</td>\n",
       "      <td>107.43</td>\n",
       "      <td>5.70</td>\n",
       "      <td>25.17</td>\n",
       "      <td>1816.85</td>\n",
       "    </tr>\n",
       "    <tr>\n",
       "      <th>TFP6</th>\n",
       "      <td>0.09</td>\n",
       "      <td>0.01</td>\n",
       "      <td>[Y, X, SY]</td>\n",
       "      <td>0.18</td>\n",
       "      <td>1.74</td>\n",
       "      <td>7.80</td>\n",
       "      <td>104.51</td>\n",
       "      <td>114.31</td>\n",
       "      <td>5.60</td>\n",
       "      <td>25.03</td>\n",
       "      <td>1823.28</td>\n",
       "    </tr>\n",
       "  </tbody>\n",
       "</table>\n",
       "</div>"
      ],
      "text/plain": [
       "       % e             layers    Vc Et [GPa] Eb [GPa] St [MPa] Sb [MPa]  \\\n",
       "      mean   std                                                          \n",
       "Name                                                                      \n",
       "TFP1  0.12  0.01       [Y, Y]  0.18     2.89    13.20   279.10   135.00   \n",
       "TFP2  0.09  0.00       [Y, X]  0.16     2.26     9.87   153.36   117.43   \n",
       "TFP3  0.09  0.00      [Y, SX]  0.14     2.00     9.22   137.11   128.05   \n",
       "TFP4  0.10  0.01      [Y, SY]  0.14     2.45    10.18   184.40   141.70   \n",
       "TFP5  0.09  0.01  [Y, SX, SY]  0.15     1.63     6.14    99.99   107.43   \n",
       "TFP6  0.09  0.01   [Y, X, SY]  0.18     1.74     7.80   104.51   114.31   \n",
       "\n",
       "     t [mm] b [mm]   St [N]  \n",
       "                             \n",
       "Name                         \n",
       "TFP1   5.27  25.60  4404.17  \n",
       "TFP2   4.70  25.57  1924.73  \n",
       "TFP3   4.83  25.40  1807.98  \n",
       "TFP4   4.70  25.67  2323.30  \n",
       "TFP5   5.70  25.17  1816.85  \n",
       "TFP6   5.60  25.03  1823.28  "
      ]
     },
     "execution_count": 11,
     "metadata": {},
     "output_type": "execute_result"
    }
   ],
   "source": [
    "df.round(2)"
   ]
  },
  {
   "cell_type": "code",
   "execution_count": 12,
   "metadata": {},
   "outputs": [],
   "source": [
    "theta = lambda x: 0.5 + 0.5*np.tanh(100*x)\n",
    "relu  = lambda x: x*theta(x)"
   ]
  },
  {
   "cell_type": "code",
   "execution_count": 13,
   "metadata": {},
   "outputs": [],
   "source": [
    "from AnalyticalLayers.models import Fraction_Carbon_2\n",
    "import numpy as np\n",
    "import pandas as pd\n",
    "nu = 0.4\n",
    "\n",
    "theta = lambda x: 0.5 + 0.5*np.tanh(100*x)\n",
    "relu  = lambda x: x*theta(x)\n",
    "\n",
    "def objetive(radius,tn,tl,df,give_pred=False):\n",
    "\n",
    "\n",
    "    Vc = [ Fraction_Carbon_2(radius,tn,tl,ilayer) \n",
    "            for ilayer in df[\"layers\"]]\n",
    "\n",
    "    error_Vc  = 100*abs(df[\"Vc\"]      - Vc )/df[\"Vc\"]\n",
    "    if give_pred:\n",
    "        pred_df = pd.DataFrame({\n",
    "            \"Vc\"      : Vc   \n",
    "        })\n",
    "\n",
    "        error_df = pd.DataFrame({\n",
    "            \"Vc [%]\": error_Vc,\n",
    "        })\n",
    "        return pred_df, error_df\n",
    "    else:\n",
    "\n",
    "        L_Vc = (error_Vc**2).mean()\n",
    "    \n",
    "        return L_Vc \n"
   ]
  },
  {
   "cell_type": "code",
   "execution_count": 14,
   "metadata": {},
   "outputs": [
    {
     "name": "stderr",
     "output_type": "stream",
     "text": [
      "/home/djoroya/projects/CITISENS/CITISENS_Composite/.conda/lib/python3.11/site-packages/scipy/optimize/_basinhopping.py:298: OptimizeWarning: Initial guess is not within the specified bounds\n",
      "  return self.minimizer(self.func, x0, **self.kwargs)\n"
     ]
    }
   ],
   "source": [
    "\n",
    "import scipy.optimize as opt\n",
    "# from optim.objetive import objetive\n",
    "from validation.experimental import manual_data\n",
    "\n",
    "\n",
    "\n",
    "t_nucleo_exp = manual_data()[\"t_nucleo [mm]\"]\n",
    "def f(x):\n",
    "    radius = x[0:4]\n",
    "\n",
    "    return objetive(radius,tn, tl,df)\n",
    "r_0  = 3.5\n",
    "\n",
    "x0 = [r_0,\n",
    "      r_0,\n",
    "      r_0,\n",
    "      r_0\n",
    "      ]\n",
    "#rand \n",
    "x0 = np.random.rand(4)*0.5 + 0.5\n",
    "\n",
    "\n",
    "eps = 1e-3\n",
    "\n",
    "\n",
    "\n",
    "bounds = [ \n",
    "            (0.2,0.4),  # radius\n",
    "            (0.2,0.4),  # radius\n",
    "            (0.2,0.35),  # radius\n",
    "            (0.2,0.4)  # radius\n",
    "           ]  \n",
    "\n",
    "res = opt.basinhopping(f, x0, niter=1, \n",
    "                       minimizer_kwargs={\"bounds\":bounds, \n",
    "                                         \"method\":\"Nelder-Mead\"})"
   ]
  },
  {
   "cell_type": "markdown",
   "metadata": {},
   "source": []
  },
  {
   "cell_type": "code",
   "execution_count": 15,
   "metadata": {},
   "outputs": [],
   "source": [
    "xopt = res.x\n",
    "r_opt  = xopt[0:4]\n",
    "\n",
    "\n",
    "# El_opt = [\n",
    "#     2885.5, # X \n",
    "#     2000,        # SX\n",
    "#     1440,        # Y\n",
    "#     1000         # SY\n",
    "# ]\n",
    "# El_opt = np.array(El_opt)*1e-3\n",
    "\n",
    "\n",
    "df_pred,error_df = objetive(r_opt,tn, tl,df,give_pred=True)"
   ]
  },
  {
   "cell_type": "code",
   "execution_count": 16,
   "metadata": {},
   "outputs": [
    {
     "data": {
      "text/plain": [
       "array([0.30836167, 0.31397927, 0.34055885, 0.34673744])"
      ]
     },
     "execution_count": 16,
     "metadata": {},
     "output_type": "execute_result"
    }
   ],
   "source": [
    "xopt"
   ]
  },
  {
   "cell_type": "code",
   "execution_count": 17,
   "metadata": {},
   "outputs": [
    {
     "data": {
      "application/vnd.microsoft.datawrangler.viewer.v0+json": {
       "columns": [
        {
         "name": "Variable",
         "rawType": "object",
         "type": "string"
        },
        {
         "name": "x",
         "rawType": "float64",
         "type": "float"
        },
        {
         "name": "unit",
         "rawType": "object",
         "type": "string"
        }
       ],
       "ref": "ac3e85c8-48a6-48c7-8752-89ae205e9390",
       "rows": [
        [
         "r_X",
         "0.3084",
         "mm"
        ],
        [
         "r_SX",
         "0.314",
         "mm"
        ],
        [
         "r_Y",
         "0.3406",
         "mm"
        ],
        [
         "r_SY",
         "0.3467",
         "mm"
        ]
       ],
       "shape": {
        "columns": 2,
        "rows": 4
       }
      },
      "text/html": [
       "<div>\n",
       "<style scoped>\n",
       "    .dataframe tbody tr th:only-of-type {\n",
       "        vertical-align: middle;\n",
       "    }\n",
       "\n",
       "    .dataframe tbody tr th {\n",
       "        vertical-align: top;\n",
       "    }\n",
       "\n",
       "    .dataframe thead th {\n",
       "        text-align: right;\n",
       "    }\n",
       "</style>\n",
       "<table border=\"1\" class=\"dataframe\">\n",
       "  <thead>\n",
       "    <tr style=\"text-align: right;\">\n",
       "      <th></th>\n",
       "      <th>x</th>\n",
       "      <th>unit</th>\n",
       "    </tr>\n",
       "    <tr>\n",
       "      <th>Variable</th>\n",
       "      <th></th>\n",
       "      <th></th>\n",
       "    </tr>\n",
       "  </thead>\n",
       "  <tbody>\n",
       "    <tr>\n",
       "      <th>r_X</th>\n",
       "      <td>0.3084</td>\n",
       "      <td>mm</td>\n",
       "    </tr>\n",
       "    <tr>\n",
       "      <th>r_SX</th>\n",
       "      <td>0.3140</td>\n",
       "      <td>mm</td>\n",
       "    </tr>\n",
       "    <tr>\n",
       "      <th>r_Y</th>\n",
       "      <td>0.3406</td>\n",
       "      <td>mm</td>\n",
       "    </tr>\n",
       "    <tr>\n",
       "      <th>r_SY</th>\n",
       "      <td>0.3467</td>\n",
       "      <td>mm</td>\n",
       "    </tr>\n",
       "  </tbody>\n",
       "</table>\n",
       "</div>"
      ],
      "text/plain": [
       "               x unit\n",
       "Variable             \n",
       "r_X       0.3084   mm\n",
       "r_SX      0.3140   mm\n",
       "r_Y       0.3406   mm\n",
       "r_SY      0.3467   mm"
      ]
     },
     "execution_count": 17,
     "metadata": {},
     "output_type": "execute_result"
    }
   ],
   "source": [
    "# EX , ESX , EY , ESY\n",
    "\n",
    "\n",
    "\n",
    "rows = [\"r_X\",\n",
    "        \"r_SX\",\n",
    "        \"r_Y\",\n",
    "        \"r_SY\"]\n",
    "\n",
    "units = [\"mm\",\n",
    "         \"mm\",\n",
    "         \"mm\",\n",
    "         \"mm\"]\n",
    "\n",
    "df_opt = pd.DataFrame({\"Variable\": rows, \"x\": xopt, \n",
    "                       \"unit\": units})\n",
    "df_opt.index = df_opt[\"Variable\"]\n",
    "df_opt.pop(\"Variable\")\n",
    "df_opt.round(4)\n"
   ]
  },
  {
   "cell_type": "code",
   "execution_count": 18,
   "metadata": {},
   "outputs": [
    {
     "data": {
      "application/vnd.microsoft.datawrangler.viewer.v0+json": {
       "columns": [
        {
         "name": "Name",
         "rawType": "object",
         "type": "string"
        },
        {
         "name": "Vc [%]",
         "rawType": "float64",
         "type": "float"
        }
       ],
       "ref": "8ea7e105-4a54-41c2-bfb2-0b2887db1446",
       "rows": [
        [
         "TFP1",
         "1.63"
        ],
        [
         "TFP2",
         "0.37"
        ],
        [
         "TFP3",
         "2.79"
        ],
        [
         "TFP4",
         "2.64"
        ],
        [
         "TFP5",
         "3.6"
        ],
        [
         "TFP6",
         "0.48"
        ]
       ],
       "shape": {
        "columns": 1,
        "rows": 6
       }
      },
      "text/html": [
       "<div>\n",
       "<style scoped>\n",
       "    .dataframe tbody tr th:only-of-type {\n",
       "        vertical-align: middle;\n",
       "    }\n",
       "\n",
       "    .dataframe tbody tr th {\n",
       "        vertical-align: top;\n",
       "    }\n",
       "\n",
       "    .dataframe thead th {\n",
       "        text-align: right;\n",
       "    }\n",
       "</style>\n",
       "<table border=\"1\" class=\"dataframe\">\n",
       "  <thead>\n",
       "    <tr style=\"text-align: right;\">\n",
       "      <th></th>\n",
       "      <th>Vc [%]</th>\n",
       "    </tr>\n",
       "    <tr>\n",
       "      <th>Name</th>\n",
       "      <th></th>\n",
       "    </tr>\n",
       "  </thead>\n",
       "  <tbody>\n",
       "    <tr>\n",
       "      <th>TFP1</th>\n",
       "      <td>1.63</td>\n",
       "    </tr>\n",
       "    <tr>\n",
       "      <th>TFP2</th>\n",
       "      <td>0.37</td>\n",
       "    </tr>\n",
       "    <tr>\n",
       "      <th>TFP3</th>\n",
       "      <td>2.79</td>\n",
       "    </tr>\n",
       "    <tr>\n",
       "      <th>TFP4</th>\n",
       "      <td>2.64</td>\n",
       "    </tr>\n",
       "    <tr>\n",
       "      <th>TFP5</th>\n",
       "      <td>3.60</td>\n",
       "    </tr>\n",
       "    <tr>\n",
       "      <th>TFP6</th>\n",
       "      <td>0.48</td>\n",
       "    </tr>\n",
       "  </tbody>\n",
       "</table>\n",
       "</div>"
      ],
      "text/plain": [
       "      Vc [%]\n",
       "Name        \n",
       "TFP1    1.63\n",
       "TFP2    0.37\n",
       "TFP3    2.79\n",
       "TFP4    2.64\n",
       "TFP5    3.60\n",
       "TFP6    0.48"
      ]
     },
     "execution_count": 18,
     "metadata": {},
     "output_type": "execute_result"
    }
   ],
   "source": [
    "error_df.round(2)"
   ]
  },
  {
   "cell_type": "code",
   "execution_count": 19,
   "metadata": {},
   "outputs": [
    {
     "data": {
      "image/png": "[encoded data removed]",
      "text/plain": [
       "<Figure size 500x500 with 1 Axes>"
      ]
     },
     "metadata": {},
     "output_type": "display_data"
    }
   ],
   "source": [
    "cols = error_df.columns\n",
    "\n",
    "fig = plt.figure()\n",
    "#padding\n",
    "fig.subplots_adjust(hspace=0.25, wspace=0.35)\n",
    "fig.set_size_inches(5, 5)\n",
    "\n",
    "# español \n",
    "names_title = [\"Fracción de Carbono\", \"Rotura Tracción\",\"Rotura Flexión\"]\n",
    "for i, col in enumerate(cols):\n",
    "    ax = fig.add_subplot(1, 1, i+1)\n",
    "    error_df[col].plot(kind='bar', ax=ax)\n",
    "    ax.set_title(col)\n",
    "    ax.set_ylabel(col)\n",
    "    ax.set_xlabel(\"Sample\")\n",
    "    # line 5% \n",
    "    ax.axhline(5, color='r', linestyle='--')\n",
    "    # line mean \n",
    "    error_df[col].mean()\n",
    "    ax.axhline(error_df[col].mean(), color='g', linestyle='--', label=r\"$\\mu = $\"+str(round(error_df[col].mean(),2)) + \"%\")\n",
    "    # 0,50\n",
    "    plt.ylim(0,10)\n",
    "    plt.xticks(rotation=45)\n",
    "    plt.legend()\n",
    "    plt.grid()\n",
    "\n",
    "    plt.xticks(np.arange(len(df.index)), 1+np.arange(len(df.index)))\n",
    "    plt.xlabel(\"\")\n",
    "    plt.title(names_title[i], fontsize=10)"
   ]
  },
  {
   "cell_type": "code",
   "execution_count": 20,
   "metadata": {},
   "outputs": [
    {
     "data": {
      "application/vnd.microsoft.datawrangler.viewer.v0+json": {
       "columns": [
        {
         "name": "Name",
         "rawType": "object",
         "type": "string"
        },
        {
         "name": "Vc [%]",
         "rawType": "float64",
         "type": "float"
        }
       ],
       "ref": "ca53f88a-0bf1-4174-924e-c91658ce27d9",
       "rows": [
        [
         "TFP1",
         "1.629268438253425"
        ],
        [
         "TFP2",
         "0.36943334230341557"
        ],
        [
         "TFP3",
         "2.7871243585719796"
        ],
        [
         "TFP4",
         "2.6442852631109406"
        ],
        [
         "TFP5",
         "3.598875117486387"
        ],
        [
         "TFP6",
         "0.47655616091185626"
        ]
       ],
       "shape": {
        "columns": 1,
        "rows": 6
       }
      },
      "text/html": [
       "<div>\n",
       "<style scoped>\n",
       "    .dataframe tbody tr th:only-of-type {\n",
       "        vertical-align: middle;\n",
       "    }\n",
       "\n",
       "    .dataframe tbody tr th {\n",
       "        vertical-align: top;\n",
       "    }\n",
       "\n",
       "    .dataframe thead th {\n",
       "        text-align: right;\n",
       "    }\n",
       "</style>\n",
       "<table border=\"1\" class=\"dataframe\">\n",
       "  <thead>\n",
       "    <tr style=\"text-align: right;\">\n",
       "      <th></th>\n",
       "      <th>Vc [%]</th>\n",
       "    </tr>\n",
       "    <tr>\n",
       "      <th>Name</th>\n",
       "      <th></th>\n",
       "    </tr>\n",
       "  </thead>\n",
       "  <tbody>\n",
       "    <tr>\n",
       "      <th>TFP1</th>\n",
       "      <td>1.629268</td>\n",
       "    </tr>\n",
       "    <tr>\n",
       "      <th>TFP2</th>\n",
       "      <td>0.369433</td>\n",
       "    </tr>\n",
       "    <tr>\n",
       "      <th>TFP3</th>\n",
       "      <td>2.787124</td>\n",
       "    </tr>\n",
       "    <tr>\n",
       "      <th>TFP4</th>\n",
       "      <td>2.644285</td>\n",
       "    </tr>\n",
       "    <tr>\n",
       "      <th>TFP5</th>\n",
       "      <td>3.598875</td>\n",
       "    </tr>\n",
       "    <tr>\n",
       "      <th>TFP6</th>\n",
       "      <td>0.476556</td>\n",
       "    </tr>\n",
       "  </tbody>\n",
       "</table>\n",
       "</div>"
      ],
      "text/plain": [
       "        Vc [%]\n",
       "Name          \n",
       "TFP1  1.629268\n",
       "TFP2  0.369433\n",
       "TFP3  2.787124\n",
       "TFP4  2.644285\n",
       "TFP5  3.598875\n",
       "TFP6  0.476556"
      ]
     },
     "execution_count": 20,
     "metadata": {},
     "output_type": "execute_result"
    }
   ],
   "source": [
    "error_df"
   ]
  },
  {
   "cell_type": "code",
   "execution_count": 21,
   "metadata": {},
   "outputs": [],
   "source": [
    "df_pred.index = error_df.index"
   ]
  },
  {
   "cell_type": "code",
   "execution_count": 22,
   "metadata": {},
   "outputs": [],
   "source": [
    "# save df_pred \n",
    "df_pred.to_csv(\"df_pred.csv\")"
   ]
  },
  {
   "cell_type": "code",
   "execution_count": 23,
   "metadata": {},
   "outputs": [
    {
     "data": {
      "text/plain": [
       "(0.0, 24.0)"
      ]
     },
     "execution_count": 23,
     "metadata": {},
     "output_type": "execute_result"
    },
    {
     "data": {
      "image/png": "[encoded data removed]",
      "text/plain": [
       "<Figure size 600x400 with 1 Axes>"
      ]
     },
     "metadata": {},
     "output_type": "display_data"
    }
   ],
   "source": [
    "# plot with error bars \n",
    "fig = plt.figure()\n",
    "#size\n",
    "fig.set_size_inches(6, 4)\n",
    "\n",
    "# subplot padding\n",
    "ax  = plt.axes()\n",
    "names_title = [\"Fracción de Carbono\"]\n",
    "\n",
    "cols = [ \"Vc\"]\n",
    "# names_title = [\"Modulo de Tracción\", \"Modulo de Flexión\", \"Tensión de Tracción\", \"Tensión de Flexión\"]\n",
    "\n",
    "for i, col in enumerate(cols):\n",
    "\n",
    "    names_leg = [\"Experimental\", \"Modelo\"]\n",
    "\n",
    "    try:\n",
    "        error = df_old[col][\"std\"]\n",
    "        yerror = [error, np.nan*error]\n",
    "    except:\n",
    "        yerror = None\n",
    "    # errror experimental\n",
    "    \n",
    "    pd.concat([ 100*df[col], 100*df_pred[col]], axis=1).plot(kind='bar', \n",
    "                                                     ax=ax, capsize=5, yerr=yerror)\n",
    "    plt.ylabel(col)\n",
    "    # 45\n",
    "    plt.xticks(rotation=0)\n",
    "    # replace xticks by index\n",
    "    plt.xticks(np.arange(len(df.index)), 1+np.arange(len(df.index)))\n",
    "    plt.grid()\n",
    "    # outside\n",
    "    plt.legend(names_leg,loc='center left', bbox_to_anchor=(0.25, 0.15),fontsize='small')\n",
    "    plt.title(names_title[i],fontsize=10)\n",
    "    plt.xlabel(\"\")\n",
    "    plt.ylabel(\"$f_c$ [%]\")\n",
    "    xticks_labels = [ \"TFP\" + str(i+1) for i in range(len(df.index))]\n",
    "    plt.xticks(np.arange(len(df.index)), xticks_labels)\n",
    "\n",
    "plt.ylim(0,24)\n",
    "    "
   ]
  },
  {
   "cell_type": "code",
   "execution_count": 24,
   "metadata": {},
   "outputs": [
    {
     "data": {
      "text/plain": [
       "array([0.30836167, 0.31397927, 0.34055885, 0.34673744])"
      ]
     },
     "execution_count": 24,
     "metadata": {},
     "output_type": "execute_result"
    }
   ],
   "source": [
    "xopt"
   ]
  },
  {
   "cell_type": "code",
   "execution_count": null,
   "metadata": {},
   "outputs": [],
   "source": []
  },
  {
   "cell_type": "code",
   "execution_count": 25,
   "metadata": {},
   "outputs": [
    {
     "data": {
      "text/plain": [
       "array([0.29872437, 0.30970758, 0.36436295, 0.37770379])"
      ]
     },
     "execution_count": 25,
     "metadata": {},
     "output_type": "execute_result"
    }
   ],
   "source": [
    "xopt**2*np.pi\n"
   ]
  },
  {
   "cell_type": "code",
   "execution_count": 26,
   "metadata": {},
   "outputs": [
    {
     "name": "stdout",
     "output_type": "stream",
     "text": [
      "r 0.17812499999999998\n",
      "d [0.55872645 0.58955651 0.74297509 0.78042306]\n"
     ]
    }
   ],
   "source": [
    "r = 3*tl/8\n",
    "\n",
    "As = np.pi*xopt**2\n",
    "d = (As - np.pi*r**2) / (2*r)\n",
    "print(\"r\",r)\n",
    "print(\"d\",d)"
   ]
  },
  {
   "cell_type": "code",
   "execution_count": 27,
   "metadata": {},
   "outputs": [
    {
     "data": {
      "text/plain": [
       "0.475"
      ]
     },
     "execution_count": 27,
     "metadata": {},
     "output_type": "execute_result"
    }
   ],
   "source": [
    "tl"
   ]
  },
  {
   "cell_type": "code",
   "execution_count": 28,
   "metadata": {},
   "outputs": [
    {
     "data": {
      "text/plain": [
       "{'X': np.float64(0.5587264480150843),\n",
       " 'SX': np.float64(0.5895565132159474),\n",
       " 'Y': np.float64(0.742975088923952),\n",
       " 'SY': np.float64(0.7804230639618174)}"
      ]
     },
     "execution_count": 28,
     "metadata": {},
     "output_type": "execute_result"
    }
   ],
   "source": [
    "d = {'X': d[0], 'SX': d[1], 'Y': d[2], 'SY': d[3]}\n",
    "d"
   ]
  },
  {
   "cell_type": "code",
   "execution_count": 29,
   "metadata": {},
   "outputs": [
    {
     "data": {
      "text/plain": [
       "{'X': np.float64(0.2987243687021827),\n",
       " 'SX': np.float64(0.30970757942999017),\n",
       " 'Y': np.float64(0.3643629470259668),\n",
       " 'SY': np.float64(0.3777037881332064)}"
      ]
     },
     "execution_count": 29,
     "metadata": {},
     "output_type": "execute_result"
    }
   ],
   "source": [
    "# d = {'X': d[0], 'SX': d[1], 'Y': d[2], 'SY': d[3]}\n",
    "As = {'X': As[0], 'SX': As[1], 'Y': As[2], 'SY': As[3]}\n",
    "As"
   ]
  },
  {
   "cell_type": "code",
   "execution_count": 30,
   "metadata": {},
   "outputs": [],
   "source": [
    "V_RVE = 10*10*tl\n",
    "\n",
    "longs = { \"X\": 60.0,\n",
    "          \"Y\": 60.0,\n",
    "          \"SX\": 31.830988618379067,\n",
    "          \"SY\": 31.830988618379067 }\n",
    "\n",
    "\n",
    "frac = {    \"X\"  : 100*longs[\"X\"]*As[\"X\"]/V_RVE,\n",
    "            \"Y\"  : 100*longs[\"Y\"]*As[\"Y\"]/V_RVE,\n",
    "            \"SX\" : 100*longs[\"SX\"]*As[\"SX\"]/V_RVE,\n",
    "            \"SY\" : 100*longs[\"SY\"]*As[\"SY\"]/V_RVE }"
   ]
  },
  {
   "cell_type": "code",
   "execution_count": 31,
   "metadata": {},
   "outputs": [
    {
     "data": {
      "text/plain": [
       "{'X': np.float64(37.733604467644135),\n",
       " 'Y': np.float64(46.02479330854317),\n",
       " 'SX': np.float64(20.754312496551044),\n",
       " 'SY': np.float64(25.310915749866844)}"
      ]
     },
     "execution_count": 31,
     "metadata": {},
     "output_type": "execute_result"
    }
   ],
   "source": [
    "frac"
   ]
  },
  {
   "cell_type": "markdown",
   "metadata": {},
   "source": []
  },
  {
   "cell_type": "code",
   "execution_count": null,
   "metadata": {},
   "outputs": [],
   "source": []
  }
 ],
 "metadata": {
  "kernelspec": {
   "display_name": "Python 3",
   "language": "python",
   "name": "python3"
  },
  "language_info": {
   "codemirror_mode": {
    "name": "ipython",
    "version": 3
   },
   "file_extension": ".py",
   "mimetype": "text/x-python",
   "name": "python",
   "nbconvert_exporter": "python",
   "pygments_lexer": "ipython3",
   "version": "3.13.0"
  }
 },
 "nbformat": 4,
 "nbformat_minor": 2
}
